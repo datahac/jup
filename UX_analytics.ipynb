{
 "cells": [
  {
   "cell_type": "markdown",
   "metadata": {},
   "source": [
    "# iPython notebook - SS analysis - User groups\n",
    "Google Analytics data\n",
    "\n",
    "## 1. Import libraries"
   ]
  },
  {
   "cell_type": "code",
   "execution_count": 2,
   "metadata": {
    "collapsed": false
   },
   "outputs": [],
   "source": [
    "%matplotlib inline \n",
    "#this line above prepares IPython notebook for working with matplotlib\n",
    "\n",
    "\n",
    "#import libraries\n",
    "import numpy as np\n",
    "import scipy as sp #imports stats functions, amongst other things\n",
    "import matplotlib as mpl # this actually imports matplotlib\n",
    "import matplotlib.cm as cm #allows us easy access to colormaps\n",
    "import matplotlib.pyplot as plt #sets up plotting under plt\n",
    "import pandas as pd #lets us handle data as dataframes\n",
    "\n",
    "\n",
    "#sets up pandas table display\n",
    "pd.set_option('display.width', 500)\n",
    "pd.set_option('display.max_columns', 100)\n",
    "pd.set_option('display.notebook_repr_html', True)\n",
    "import seaborn as sns #sets up styles and gives us more plotting options\n"
   ]
  },
  {
   "cell_type": "markdown",
   "metadata": {},
   "source": [
    " 2. Settings"
   ]
  },
  {
   "cell_type": "code",
   "execution_count": null,
   "metadata": {
    "collapsed": true
   },
   "outputs": [],
   "source": [
    "# Time period 17th Jan - 16th April (arbitrary )\n",
    "\n",
    "# API credentials\n",
    "# Email address 705762800217-compute@developer.gserviceaccount.com\n",
    "# Key IDs 948ee8e2a420ef14a5d5a29bd35104fe2f1e6ed4\n",
    " "
   ]
  },
  {
   "cell_type": "markdown",
   "metadata": {},
   "source": [
    "3. Open saved file"
   ]
  },
  {
   "cell_type": "code",
   "execution_count": null,
   "metadata": {
    "collapsed": false
   },
   "outputs": [],
   "source": [
    "import csv\n",
    "f = open(\"TMRW_geo_loc_API.csv\")\n",
    "csv_f = csv.reader(f)\n",
    "for line in f: \n",
    "    print(line)\n",
    "    \n",
    "f.close()"
   ]
  },
  {
   "cell_type": "markdown",
   "metadata": {},
   "source": [
    " Check statistical validity of entries\n",
    "For example, we dont take anything with conversion  "
   ]
  },
  {
   "cell_type": "code",
   "execution_count": 18,
   "metadata": {
    "collapsed": false,
    "scrolled": true
   },
   "outputs": [
    {
     "data": {
      "text/html": [
       "<div>\n",
       "<table border=\"1\" class=\"dataframe\">\n",
       "  <thead>\n",
       "    <tr style=\"text-align: right;\">\n",
       "      <th></th>\n",
       "      <th>% New Sessions</th>\n",
       "      <th>Sessions</th>\n",
       "      <th>Bounce Rate</th>\n",
       "      <th>Avg. Session Duration</th>\n",
       "      <th>Goal 1 Completions</th>\n",
       "      <th>Goal 1 Conversion Rate</th>\n",
       "      <th>Pages / Session</th>\n",
       "    </tr>\n",
       "  </thead>\n",
       "  <tbody>\n",
       "    <tr>\n",
       "      <th>count</th>\n",
       "      <td>14.000000</td>\n",
       "      <td>14.000000</td>\n",
       "      <td>14.000000</td>\n",
       "      <td>14.000000</td>\n",
       "      <td>14.000000</td>\n",
       "      <td>14.000000</td>\n",
       "      <td>14.000000</td>\n",
       "    </tr>\n",
       "    <tr>\n",
       "      <th>mean</th>\n",
       "      <td>69.392643</td>\n",
       "      <td>164.857143</td>\n",
       "      <td>50.897929</td>\n",
       "      <td>116.216857</td>\n",
       "      <td>5.214286</td>\n",
       "      <td>3.401929</td>\n",
       "      <td>1.956286</td>\n",
       "    </tr>\n",
       "    <tr>\n",
       "      <th>std</th>\n",
       "      <td>9.970231</td>\n",
       "      <td>210.377996</td>\n",
       "      <td>12.723941</td>\n",
       "      <td>45.011764</td>\n",
       "      <td>6.738849</td>\n",
       "      <td>2.451764</td>\n",
       "      <td>0.307913</td>\n",
       "    </tr>\n",
       "    <tr>\n",
       "      <th>min</th>\n",
       "      <td>43.750000</td>\n",
       "      <td>12.000000</td>\n",
       "      <td>16.667000</td>\n",
       "      <td>53.500000</td>\n",
       "      <td>0.000000</td>\n",
       "      <td>0.000000</td>\n",
       "      <td>1.286000</td>\n",
       "    </tr>\n",
       "    <tr>\n",
       "      <th>25%</th>\n",
       "      <td>66.046250</td>\n",
       "      <td>25.750000</td>\n",
       "      <td>47.173250</td>\n",
       "      <td>79.774500</td>\n",
       "      <td>1.000000</td>\n",
       "      <td>1.619250</td>\n",
       "      <td>1.730000</td>\n",
       "    </tr>\n",
       "    <tr>\n",
       "      <th>50%</th>\n",
       "      <td>70.338000</td>\n",
       "      <td>84.000000</td>\n",
       "      <td>51.613000</td>\n",
       "      <td>110.322500</td>\n",
       "      <td>1.500000</td>\n",
       "      <td>3.083500</td>\n",
       "      <td>2.005500</td>\n",
       "    </tr>\n",
       "    <tr>\n",
       "      <th>75%</th>\n",
       "      <td>75.000000</td>\n",
       "      <td>194.250000</td>\n",
       "      <td>57.911000</td>\n",
       "      <td>152.905750</td>\n",
       "      <td>7.500000</td>\n",
       "      <td>4.804500</td>\n",
       "      <td>2.182000</td>\n",
       "    </tr>\n",
       "    <tr>\n",
       "      <th>max</th>\n",
       "      <td>85.714000</td>\n",
       "      <td>758.000000</td>\n",
       "      <td>71.429000</td>\n",
       "      <td>198.344000</td>\n",
       "      <td>22.000000</td>\n",
       "      <td>8.333000</td>\n",
       "      <td>2.333000</td>\n",
       "    </tr>\n",
       "  </tbody>\n",
       "</table>\n",
       "</div>"
      ],
      "text/plain": [
       "       % New Sessions    Sessions  Bounce Rate  Avg. Session Duration  Goal 1 Completions  Goal 1 Conversion Rate  Pages / Session\n",
       "count       14.000000   14.000000    14.000000              14.000000           14.000000               14.000000        14.000000\n",
       "mean        69.392643  164.857143    50.897929             116.216857            5.214286                3.401929         1.956286\n",
       "std          9.970231  210.377996    12.723941              45.011764            6.738849                2.451764         0.307913\n",
       "min         43.750000   12.000000    16.667000              53.500000            0.000000                0.000000         1.286000\n",
       "25%         66.046250   25.750000    47.173250              79.774500            1.000000                1.619250         1.730000\n",
       "50%         70.338000   84.000000    51.613000             110.322500            1.500000                3.083500         2.005500\n",
       "75%         75.000000  194.250000    57.911000             152.905750            7.500000                4.804500         2.182000\n",
       "max         85.714000  758.000000    71.429000             198.344000           22.000000                8.333000         2.333000"
      ]
     },
     "execution_count": 18,
     "metadata": {},
     "output_type": "execute_result"
    }
   ],
   "source": [
    "\n",
    "TMRW_users= pd.read_csv(\"TMRW_geo_loc_API.csv\")\n",
    "#TMRW_users[TMRW_users.\"Bounce Rate\"=='55-64']\n",
    "TMRW_users.describe()"
   ]
  },
  {
   "cell_type": "code",
   "execution_count": 16,
   "metadata": {
    "collapsed": false
   },
   "outputs": [
    {
     "data": {
      "text/html": [
       "<div>\n",
       "<table border=\"1\" class=\"dataframe\">\n",
       "  <thead>\n",
       "    <tr style=\"text-align: right;\">\n",
       "      <th></th>\n",
       "      <th>City</th>\n",
       "      <th>Age</th>\n",
       "      <th>% New Sessions</th>\n",
       "      <th>Bounce Rate</th>\n",
       "      <th>Avg. Session Duration</th>\n",
       "      <th>Goal 1 Completions</th>\n",
       "      <th>Goal 1 Conversion Rate</th>\n",
       "      <th>Pages / Session</th>\n",
       "    </tr>\n",
       "    <tr>\n",
       "      <th>Sessions</th>\n",
       "      <th></th>\n",
       "      <th></th>\n",
       "      <th></th>\n",
       "      <th></th>\n",
       "      <th></th>\n",
       "      <th></th>\n",
       "      <th></th>\n",
       "      <th></th>\n",
       "    </tr>\n",
       "  </thead>\n",
       "  <tbody>\n",
       "    <tr>\n",
       "      <th>16</th>\n",
       "      <td>(not set)</td>\n",
       "      <td>35-44</td>\n",
       "      <td>43.750</td>\n",
       "      <td>62.500</td>\n",
       "      <td>53.500</td>\n",
       "      <td>0</td>\n",
       "      <td>0.000</td>\n",
       "      <td>1.688</td>\n",
       "    </tr>\n",
       "    <tr>\n",
       "      <th>36</th>\n",
       "      <td>London</td>\n",
       "      <td>55-64</td>\n",
       "      <td>77.778</td>\n",
       "      <td>47.222</td>\n",
       "      <td>92.472</td>\n",
       "      <td>0</td>\n",
       "      <td>0.000</td>\n",
       "      <td>2.333</td>\n",
       "    </tr>\n",
       "    <tr>\n",
       "      <th>165</th>\n",
       "      <td>London</td>\n",
       "      <td>45-54</td>\n",
       "      <td>70.909</td>\n",
       "      <td>53.939</td>\n",
       "      <td>135.079</td>\n",
       "      <td>2</td>\n",
       "      <td>1.212</td>\n",
       "      <td>1.915</td>\n",
       "    </tr>\n",
       "    <tr>\n",
       "      <th>82</th>\n",
       "      <td>Croydon</td>\n",
       "      <td>45-54</td>\n",
       "      <td>65.854</td>\n",
       "      <td>48.780</td>\n",
       "      <td>167.707</td>\n",
       "      <td>1</td>\n",
       "      <td>1.220</td>\n",
       "      <td>2.049</td>\n",
       "    </tr>\n",
       "    <tr>\n",
       "      <th>426</th>\n",
       "      <td>London</td>\n",
       "      <td>35-44</td>\n",
       "      <td>69.014</td>\n",
       "      <td>53.756</td>\n",
       "      <td>119.549</td>\n",
       "      <td>12</td>\n",
       "      <td>2.817</td>\n",
       "      <td>1.962</td>\n",
       "    </tr>\n",
       "    <tr>\n",
       "      <th>758</th>\n",
       "      <td>London</td>\n",
       "      <td>25-34</td>\n",
       "      <td>66.623</td>\n",
       "      <td>59.235</td>\n",
       "      <td>103.788</td>\n",
       "      <td>22</td>\n",
       "      <td>2.902</td>\n",
       "      <td>1.856</td>\n",
       "    </tr>\n",
       "    <tr>\n",
       "      <th>204</th>\n",
       "      <td>Croydon</td>\n",
       "      <td>35-44</td>\n",
       "      <td>64.216</td>\n",
       "      <td>43.137</td>\n",
       "      <td>158.848</td>\n",
       "      <td>6</td>\n",
       "      <td>2.941</td>\n",
       "      <td>2.284</td>\n",
       "    </tr>\n",
       "    <tr>\n",
       "      <th>31</th>\n",
       "      <td>Croydon</td>\n",
       "      <td>55-64</td>\n",
       "      <td>74.194</td>\n",
       "      <td>51.613</td>\n",
       "      <td>62.323</td>\n",
       "      <td>1</td>\n",
       "      <td>3.226</td>\n",
       "      <td>1.677</td>\n",
       "    </tr>\n",
       "    <tr>\n",
       "      <th>86</th>\n",
       "      <td>Croydon</td>\n",
       "      <td>18-24</td>\n",
       "      <td>69.767</td>\n",
       "      <td>43.023</td>\n",
       "      <td>101.384</td>\n",
       "      <td>3</td>\n",
       "      <td>3.488</td>\n",
       "      <td>2.140</td>\n",
       "    </tr>\n",
       "    <tr>\n",
       "      <th>24</th>\n",
       "      <td>(not set)</td>\n",
       "      <td>25-34</td>\n",
       "      <td>75.000</td>\n",
       "      <td>62.500</td>\n",
       "      <td>75.542</td>\n",
       "      <td>1</td>\n",
       "      <td>4.167</td>\n",
       "      <td>1.583</td>\n",
       "    </tr>\n",
       "    <tr>\n",
       "      <th>299</th>\n",
       "      <td>Croydon</td>\n",
       "      <td>25-34</td>\n",
       "      <td>58.194</td>\n",
       "      <td>47.157</td>\n",
       "      <td>198.344</td>\n",
       "      <td>15</td>\n",
       "      <td>5.017</td>\n",
       "      <td>2.261</td>\n",
       "    </tr>\n",
       "    <tr>\n",
       "      <th>155</th>\n",
       "      <td>London</td>\n",
       "      <td>18-24</td>\n",
       "      <td>75.484</td>\n",
       "      <td>51.613</td>\n",
       "      <td>172.226</td>\n",
       "      <td>8</td>\n",
       "      <td>5.161</td>\n",
       "      <td>2.187</td>\n",
       "    </tr>\n",
       "    <tr>\n",
       "      <th>14</th>\n",
       "      <td>London</td>\n",
       "      <td>65+</td>\n",
       "      <td>85.714</td>\n",
       "      <td>71.429</td>\n",
       "      <td>116.857</td>\n",
       "      <td>1</td>\n",
       "      <td>7.143</td>\n",
       "      <td>1.286</td>\n",
       "    </tr>\n",
       "    <tr>\n",
       "      <th>12</th>\n",
       "      <td>Hove</td>\n",
       "      <td>35-44</td>\n",
       "      <td>75.000</td>\n",
       "      <td>16.667</td>\n",
       "      <td>69.417</td>\n",
       "      <td>1</td>\n",
       "      <td>8.333</td>\n",
       "      <td>2.167</td>\n",
       "    </tr>\n",
       "  </tbody>\n",
       "</table>\n",
       "</div>"
      ],
      "text/plain": [
       "               City    Age  % New Sessions  Bounce Rate  Avg. Session Duration  Goal 1 Completions  Goal 1 Conversion Rate  Pages / Session\n",
       "Sessions                                                                                                                                   \n",
       "16        (not set)  35-44          43.750       62.500                 53.500                   0                   0.000            1.688\n",
       "36           London  55-64          77.778       47.222                 92.472                   0                   0.000            2.333\n",
       "165          London  45-54          70.909       53.939                135.079                   2                   1.212            1.915\n",
       "82          Croydon  45-54          65.854       48.780                167.707                   1                   1.220            2.049\n",
       "426          London  35-44          69.014       53.756                119.549                  12                   2.817            1.962\n",
       "758          London  25-34          66.623       59.235                103.788                  22                   2.902            1.856\n",
       "204         Croydon  35-44          64.216       43.137                158.848                   6                   2.941            2.284\n",
       "31          Croydon  55-64          74.194       51.613                 62.323                   1                   3.226            1.677\n",
       "86          Croydon  18-24          69.767       43.023                101.384                   3                   3.488            2.140\n",
       "24        (not set)  25-34          75.000       62.500                 75.542                   1                   4.167            1.583\n",
       "299         Croydon  25-34          58.194       47.157                198.344                  15                   5.017            2.261\n",
       "155          London  18-24          75.484       51.613                172.226                   8                   5.161            2.187\n",
       "14           London    65+          85.714       71.429                116.857                   1                   7.143            1.286\n",
       "12             Hove  35-44          75.000       16.667                 69.417                   1                   8.333            2.167"
      ]
     },
     "execution_count": 16,
     "metadata": {},
     "output_type": "execute_result"
    }
   ],
   "source": [
    "TMRW_users_city = TMRW_users.loc['City':,:]\n",
    "TMRW_users_bycity=TMRW_users.set_index('Sessions')\n",
    "TMRW_users_bycity"
   ]
  },
  {
   "cell_type": "markdown",
   "metadata": {},
   "source": [
    "Algorithm of actions:\n",
    "1. Define key metrics\n",
    "Key_metrics = location/age. Can be location/gender or age/gender also. For them other API call needs to be made.\n",
    "2. Determine buckets\n",
    "Take Key_metrics and check volume of traffic and conversions. Which is the most extreme?\n",
    "Conversion bucket = new array \n",
    "TMRW_users_city.max=TMRW_users_city.max()"
   ]
  },
  {
   "cell_type": "code",
   "execution_count": 36,
   "metadata": {
    "collapsed": false
   },
   "outputs": [
    {
     "data": {
      "text/html": [
       "<div>\n",
       "<table border=\"1\" class=\"dataframe\">\n",
       "  <thead>\n",
       "    <tr style=\"text-align: right;\">\n",
       "      <th></th>\n",
       "      <th>% New Sessions</th>\n",
       "      <th>Sessions</th>\n",
       "      <th>Bounce Rate</th>\n",
       "      <th>Avg. Session Duration</th>\n",
       "      <th>Goal 1 Completions</th>\n",
       "      <th>Goal 1 Conversion Rate</th>\n",
       "      <th>Pages / Session</th>\n",
       "    </tr>\n",
       "    <tr>\n",
       "      <th>City</th>\n",
       "      <th></th>\n",
       "      <th></th>\n",
       "      <th></th>\n",
       "      <th></th>\n",
       "      <th></th>\n",
       "      <th></th>\n",
       "      <th></th>\n",
       "    </tr>\n",
       "  </thead>\n",
       "  <tbody>\n",
       "    <tr>\n",
       "      <th>(not set)</th>\n",
       "      <td>118.750</td>\n",
       "      <td>40</td>\n",
       "      <td>125.000</td>\n",
       "      <td>129.042</td>\n",
       "      <td>1</td>\n",
       "      <td>4.167</td>\n",
       "      <td>3.271</td>\n",
       "    </tr>\n",
       "    <tr>\n",
       "      <th>Croydon</th>\n",
       "      <td>332.225</td>\n",
       "      <td>702</td>\n",
       "      <td>233.710</td>\n",
       "      <td>688.606</td>\n",
       "      <td>26</td>\n",
       "      <td>15.892</td>\n",
       "      <td>10.411</td>\n",
       "    </tr>\n",
       "    <tr>\n",
       "      <th>Hove</th>\n",
       "      <td>75.000</td>\n",
       "      <td>12</td>\n",
       "      <td>16.667</td>\n",
       "      <td>69.417</td>\n",
       "      <td>1</td>\n",
       "      <td>8.333</td>\n",
       "      <td>2.167</td>\n",
       "    </tr>\n",
       "    <tr>\n",
       "      <th>London</th>\n",
       "      <td>445.522</td>\n",
       "      <td>1554</td>\n",
       "      <td>337.194</td>\n",
       "      <td>739.971</td>\n",
       "      <td>45</td>\n",
       "      <td>19.235</td>\n",
       "      <td>11.539</td>\n",
       "    </tr>\n",
       "  </tbody>\n",
       "</table>\n",
       "</div>"
      ],
      "text/plain": [
       "           % New Sessions  Sessions  Bounce Rate  Avg. Session Duration  Goal 1 Completions  Goal 1 Conversion Rate  Pages / Session\n",
       "City                                                                                                                                \n",
       "(not set)         118.750        40      125.000                129.042                   1                   4.167            3.271\n",
       "Croydon           332.225       702      233.710                688.606                  26                  15.892           10.411\n",
       "Hove               75.000        12       16.667                 69.417                   1                   8.333            2.167\n",
       "London            445.522      1554      337.194                739.971                  45                  19.235           11.539"
      ]
     },
     "execution_count": 36,
     "metadata": {},
     "output_type": "execute_result"
    }
   ],
   "source": [
    "TMRW_users_agcities=TMRW_users.groupby([\"City\"]).sum()\n",
    "TMRW_users_agcities\n"
   ]
  },
  {
   "cell_type": "code",
   "execution_count": 46,
   "metadata": {
    "collapsed": false
   },
   "outputs": [
    {
     "data": {
      "text/plain": [
       "City\n",
       "(not set)      40\n",
       "Croydon       702\n",
       "Hove           12\n",
       "London       1554\n",
       "Name: Sessions, dtype: int64"
      ]
     },
     "execution_count": 46,
     "metadata": {},
     "output_type": "execute_result"
    }
   ],
   "source": [
    "selected=TMRW_users_agcities.loc[:,'Sessions']\n",
    "selected"
   ]
  },
  {
   "cell_type": "code",
   "execution_count": 56,
   "metadata": {
    "collapsed": false,
    "scrolled": true
   },
   "outputs": [
    {
     "data": {
      "image/png": "[encoded data removed]",
      "text/plain": [
       "<matplotlib.figure.Figure at 0x117b66588>"
      ]
     },
     "metadata": {},
     "output_type": "display_data"
    }
   ],
   "source": [
    "labels = selected.index\n",
    "sizes = selected\n",
    "# colours are taken from http://tools.medialab.sciences-po.fr/iwanthue/\n",
    "colors = ['#1f394d','#2a7585', '#163c45', '#004a6e']\n",
    "explode = (0, 0, 0, 0)\n",
    "plt.pie(sizes, explode=explode, labels=labels, colors=colors,\n",
    "        autopct='%1.1f%%', shadow=False, startangle=90)\n",
    "plt.axis('equal')\n",
    "plt.title('Cities by conversion')\n",
    "plt.show()"
   ]
  },
  {
   "cell_type": "code",
   "execution_count": null,
   "metadata": {
    "collapsed": true
   },
   "outputs": [],
   "source": []
  }
 ],
 "metadata": {
  "anaconda-cloud": {},
  "kernelspec": {
   "display_name": "Python [conda root]",
   "language": "python",
   "name": "conda-root-py"
  },
  "language_info": {
   "codemirror_mode": {
    "name": "ipython",
    "version": 3
   },
   "file_extension": ".py",
   "mimetype": "text/x-python",
   "name": "python",
   "nbconvert_exporter": "python",
   "pygments_lexer": "ipython3",
   "version": "3.5.2"
  }
 },
 "nbformat": 4,
 "nbformat_minor": 0
}
