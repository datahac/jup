{
 "cells": [
  {
   "cell_type": "markdown",
   "metadata": {},
   "source": [
    "# iPython notebook - SS analysis - User groups\n",
    "Google Analytics data\n",
    "\n",
    "\n",
    "## 1. Import libraries"
   ]
  },
  {
   "cell_type": "code",
   "execution_count": 18,
   "metadata": {
    "collapsed": true
   },
   "outputs": [],
   "source": [
    "%matplotlib inline \n",
    "\n",
    "import numpy as np\n",
    "import scipy as sp\n",
    "import matplotlib as mpl\n",
    "import matplotlib.cm as cm\n",
    "import matplotlib.pyplot as plt\n",
    "import pandas as pd\n",
    "\n",
    "pd.set_option('display.width', 500)\n",
    "pd.set_option('display.max_columns', 100)\n",
    "pd.set_option('display.notebook_repr_html', True)\n",
    "import seaborn as sns #sets up styles and gives us more plotting options\n"
   ]
  },
  {
   "cell_type": "code",
   "execution_count": 19,
   "metadata": {
    "collapsed": true
   },
   "outputs": [],
   "source": [
    "URL = \"tmrw.co\" # User-entered website\n"
   ]
  },
  {
   "cell_type": "markdown",
   "metadata": {},
   "source": [
    " 2. Settings"
   ]
  },
  {
   "cell_type": "code",
   "execution_count": 20,
   "metadata": {
    "collapsed": true
   },
   "outputs": [],
   "source": [
    "# Time period 17th Jan - 16th April (arbitrary )\n",
    "\n",
    "# API credentials\n",
    "# Email address 705762800217-compute@developer.gserviceaccount.com\n",
    "# Key IDs 948ee8e2a420ef14a5d5a29bd35104fe2f1e6ed4\n",
    " "
   ]
  },
  {
   "cell_type": "code",
   "execution_count": 21,
   "metadata": {
    "collapsed": true
   },
   "outputs": [],
   "source": [
    "# open file. It is requested via API explorer using request parameters:\n",
    "\n",
    "#Account: TMRW Tech Hub\n",
    "#Property: TMRW\n",
    "#View: All Web Site Data\n",
    "#ids: ga:123303369\n",
    "#start-date: 2017-01-15\n",
    "#end-date: yesterday\n",
    "\n",
    "#metrics\n",
    "#ga:sessions\n",
    "#ga:percentNewSessions\n",
    "#ga:bounceRate\n",
    "#ga:pageviewsPerSession\n",
    "#ga:avgSessionDuration\n",
    "#ga:goal1ConversionRate\n",
    "#ga:goal1Completions\n",
    "\n",
    "#dimensions\n",
    "#ga:city\n",
    "#ga:userAgeBracket\n",
    "\n",
    "#sort\n",
    "#ga:goal1ConversionRate\n",
    "\n",
    "\n"
   ]
  },
  {
   "cell_type": "markdown",
   "metadata": {},
   "source": [
    "Skipped step:\n",
    "Check statistical validity \n",
    "Filter off spam traffic and own dev/marketing IPs\n",
    "\n",
    "\n",
    "\n",
    "\n",
    "Algorithm of actions:\n",
    "\n",
    "\n",
    "\n",
    "1. Determine buckets\n",
    "\n",
    "### Are there lines that can be grouped by each metric:\n",
    "Bounce Rate\t\n",
    "Avg. Session Duration\t\n",
    "Goal 1 Completions\t\n",
    "Goal 1 Conversion Rate\t\n",
    "Pages / Session\n",
    "\n",
    "\n",
    "\n",
    "### Acceptable spread = 10%\n",
    "\n",
    "\n",
    "Take Key_metrics and check volume of traffic and conversions. Which is the most extreme?\n",
    "Conversion bucket = new array \n",
    "TMRW_users_city.max=TMRW_users_city.max()\n",
    "\n",
    "2. Define key metrics\n",
    "Key_metrics = location/age. Can be location/gender or age/gender also. For them other API call needs to be made.\n",
    "\n",
    "3. Open file\n",
    "\n",
    "4. Visualise"
   ]
  },
  {
   "cell_type": "code",
   "execution_count": 22,
   "metadata": {
    "collapsed": false,
    "scrolled": true
   },
   "outputs": [
    {
     "data": {
      "text/html": [
       "<div>\n",
       "<table border=\"1\" class=\"dataframe\">\n",
       "  <thead>\n",
       "    <tr style=\"text-align: right;\">\n",
       "      <th></th>\n",
       "      <th>City</th>\n",
       "      <th>Age</th>\n",
       "      <th>% New Sessions</th>\n",
       "      <th>Sessions</th>\n",
       "      <th>Bounce Rate</th>\n",
       "      <th>Avg. Session Duration</th>\n",
       "      <th>Goal 1 Completions</th>\n",
       "      <th>Goal 1 Conversion Rate</th>\n",
       "      <th>Pages / Session</th>\n",
       "    </tr>\n",
       "  </thead>\n",
       "  <tbody>\n",
       "    <tr>\n",
       "      <th>0</th>\n",
       "      <td>(not set)</td>\n",
       "      <td>35-44</td>\n",
       "      <td>43.750</td>\n",
       "      <td>16</td>\n",
       "      <td>62.500</td>\n",
       "      <td>53.500</td>\n",
       "      <td>0</td>\n",
       "      <td>0.000</td>\n",
       "      <td>1.688</td>\n",
       "    </tr>\n",
       "    <tr>\n",
       "      <th>1</th>\n",
       "      <td>London</td>\n",
       "      <td>55-64</td>\n",
       "      <td>77.778</td>\n",
       "      <td>36</td>\n",
       "      <td>47.222</td>\n",
       "      <td>92.472</td>\n",
       "      <td>0</td>\n",
       "      <td>0.000</td>\n",
       "      <td>2.333</td>\n",
       "    </tr>\n",
       "    <tr>\n",
       "      <th>2</th>\n",
       "      <td>London</td>\n",
       "      <td>45-54</td>\n",
       "      <td>70.909</td>\n",
       "      <td>165</td>\n",
       "      <td>53.939</td>\n",
       "      <td>135.079</td>\n",
       "      <td>2</td>\n",
       "      <td>1.212</td>\n",
       "      <td>1.915</td>\n",
       "    </tr>\n",
       "    <tr>\n",
       "      <th>3</th>\n",
       "      <td>Croydon</td>\n",
       "      <td>45-54</td>\n",
       "      <td>65.854</td>\n",
       "      <td>82</td>\n",
       "      <td>48.780</td>\n",
       "      <td>167.707</td>\n",
       "      <td>1</td>\n",
       "      <td>1.220</td>\n",
       "      <td>2.049</td>\n",
       "    </tr>\n",
       "    <tr>\n",
       "      <th>4</th>\n",
       "      <td>London</td>\n",
       "      <td>35-44</td>\n",
       "      <td>69.014</td>\n",
       "      <td>426</td>\n",
       "      <td>53.756</td>\n",
       "      <td>119.549</td>\n",
       "      <td>12</td>\n",
       "      <td>2.817</td>\n",
       "      <td>1.962</td>\n",
       "    </tr>\n",
       "    <tr>\n",
       "      <th>5</th>\n",
       "      <td>London</td>\n",
       "      <td>25-34</td>\n",
       "      <td>66.623</td>\n",
       "      <td>758</td>\n",
       "      <td>59.235</td>\n",
       "      <td>103.788</td>\n",
       "      <td>22</td>\n",
       "      <td>2.902</td>\n",
       "      <td>1.856</td>\n",
       "    </tr>\n",
       "    <tr>\n",
       "      <th>6</th>\n",
       "      <td>Croydon</td>\n",
       "      <td>35-44</td>\n",
       "      <td>64.216</td>\n",
       "      <td>204</td>\n",
       "      <td>43.137</td>\n",
       "      <td>158.848</td>\n",
       "      <td>6</td>\n",
       "      <td>2.941</td>\n",
       "      <td>2.284</td>\n",
       "    </tr>\n",
       "    <tr>\n",
       "      <th>7</th>\n",
       "      <td>Croydon</td>\n",
       "      <td>55-64</td>\n",
       "      <td>74.194</td>\n",
       "      <td>31</td>\n",
       "      <td>51.613</td>\n",
       "      <td>62.323</td>\n",
       "      <td>1</td>\n",
       "      <td>3.226</td>\n",
       "      <td>1.677</td>\n",
       "    </tr>\n",
       "    <tr>\n",
       "      <th>8</th>\n",
       "      <td>Croydon</td>\n",
       "      <td>18-24</td>\n",
       "      <td>69.767</td>\n",
       "      <td>86</td>\n",
       "      <td>43.023</td>\n",
       "      <td>101.384</td>\n",
       "      <td>3</td>\n",
       "      <td>3.488</td>\n",
       "      <td>2.140</td>\n",
       "    </tr>\n",
       "    <tr>\n",
       "      <th>9</th>\n",
       "      <td>(not set)</td>\n",
       "      <td>25-34</td>\n",
       "      <td>75.000</td>\n",
       "      <td>24</td>\n",
       "      <td>62.500</td>\n",
       "      <td>75.542</td>\n",
       "      <td>1</td>\n",
       "      <td>4.167</td>\n",
       "      <td>1.583</td>\n",
       "    </tr>\n",
       "    <tr>\n",
       "      <th>10</th>\n",
       "      <td>Croydon</td>\n",
       "      <td>25-34</td>\n",
       "      <td>58.194</td>\n",
       "      <td>299</td>\n",
       "      <td>47.157</td>\n",
       "      <td>198.344</td>\n",
       "      <td>15</td>\n",
       "      <td>5.017</td>\n",
       "      <td>2.261</td>\n",
       "    </tr>\n",
       "    <tr>\n",
       "      <th>11</th>\n",
       "      <td>London</td>\n",
       "      <td>18-24</td>\n",
       "      <td>75.484</td>\n",
       "      <td>155</td>\n",
       "      <td>51.613</td>\n",
       "      <td>172.226</td>\n",
       "      <td>8</td>\n",
       "      <td>5.161</td>\n",
       "      <td>2.187</td>\n",
       "    </tr>\n",
       "    <tr>\n",
       "      <th>12</th>\n",
       "      <td>London</td>\n",
       "      <td>65+</td>\n",
       "      <td>85.714</td>\n",
       "      <td>14</td>\n",
       "      <td>71.429</td>\n",
       "      <td>116.857</td>\n",
       "      <td>1</td>\n",
       "      <td>7.143</td>\n",
       "      <td>1.286</td>\n",
       "    </tr>\n",
       "    <tr>\n",
       "      <th>13</th>\n",
       "      <td>Hove</td>\n",
       "      <td>35-44</td>\n",
       "      <td>75.000</td>\n",
       "      <td>12</td>\n",
       "      <td>16.667</td>\n",
       "      <td>69.417</td>\n",
       "      <td>1</td>\n",
       "      <td>8.333</td>\n",
       "      <td>2.167</td>\n",
       "    </tr>\n",
       "  </tbody>\n",
       "</table>\n",
       "</div>"
      ],
      "text/plain": [
       "         City    Age  % New Sessions  Sessions  Bounce Rate  Avg. Session Duration  Goal 1 Completions  Goal 1 Conversion Rate  Pages / Session\n",
       "0   (not set)  35-44          43.750        16       62.500                 53.500                   0                   0.000            1.688\n",
       "1      London  55-64          77.778        36       47.222                 92.472                   0                   0.000            2.333\n",
       "2      London  45-54          70.909       165       53.939                135.079                   2                   1.212            1.915\n",
       "3     Croydon  45-54          65.854        82       48.780                167.707                   1                   1.220            2.049\n",
       "4      London  35-44          69.014       426       53.756                119.549                  12                   2.817            1.962\n",
       "5      London  25-34          66.623       758       59.235                103.788                  22                   2.902            1.856\n",
       "6     Croydon  35-44          64.216       204       43.137                158.848                   6                   2.941            2.284\n",
       "7     Croydon  55-64          74.194        31       51.613                 62.323                   1                   3.226            1.677\n",
       "8     Croydon  18-24          69.767        86       43.023                101.384                   3                   3.488            2.140\n",
       "9   (not set)  25-34          75.000        24       62.500                 75.542                   1                   4.167            1.583\n",
       "10    Croydon  25-34          58.194       299       47.157                198.344                  15                   5.017            2.261\n",
       "11     London  18-24          75.484       155       51.613                172.226                   8                   5.161            2.187\n",
       "12     London    65+          85.714        14       71.429                116.857                   1                   7.143            1.286\n",
       "13       Hove  35-44          75.000        12       16.667                 69.417                   1                   8.333            2.167"
      ]
     },
     "execution_count": 22,
     "metadata": {},
     "output_type": "execute_result"
    }
   ],
   "source": [
    "# Open file\n",
    "TMRW_users= pd.read_csv(\"files/TMRW_geo_loc_API.csv\")\n",
    "#TMRW_users[TMRW_users.Age=='55-64']\n",
    "TMRW_users"
   ]
  },
  {
   "cell_type": "code",
   "execution_count": null,
   "metadata": {
    "collapsed": true,
    "scrolled": true
   },
   "outputs": [],
   "source": []
  },
  {
   "cell_type": "code",
   "execution_count": 23,
   "metadata": {
    "collapsed": false
   },
   "outputs": [
    {
     "data": {
      "text/html": [
       "<div>\n",
       "<table border=\"1\" class=\"dataframe\">\n",
       "  <thead>\n",
       "    <tr style=\"text-align: right;\">\n",
       "      <th></th>\n",
       "      <th>city</th>\n",
       "      <th>age</th>\n",
       "      <th>new_sessions</th>\n",
       "      <th>sessions</th>\n",
       "      <th>bounce_rate</th>\n",
       "      <th>asd</th>\n",
       "      <th>goal1</th>\n",
       "      <th>goal1CR</th>\n",
       "      <th>PPS</th>\n",
       "    </tr>\n",
       "  </thead>\n",
       "  <tbody>\n",
       "    <tr>\n",
       "      <th>2</th>\n",
       "      <td>London</td>\n",
       "      <td>45-54</td>\n",
       "      <td>70.909</td>\n",
       "      <td>165</td>\n",
       "      <td>53.939</td>\n",
       "      <td>135.079</td>\n",
       "      <td>2</td>\n",
       "      <td>1.212</td>\n",
       "      <td>1.915</td>\n",
       "    </tr>\n",
       "    <tr>\n",
       "      <th>3</th>\n",
       "      <td>Croydon</td>\n",
       "      <td>45-54</td>\n",
       "      <td>65.854</td>\n",
       "      <td>82</td>\n",
       "      <td>48.780</td>\n",
       "      <td>167.707</td>\n",
       "      <td>1</td>\n",
       "      <td>1.220</td>\n",
       "      <td>2.049</td>\n",
       "    </tr>\n",
       "    <tr>\n",
       "      <th>4</th>\n",
       "      <td>London</td>\n",
       "      <td>35-44</td>\n",
       "      <td>69.014</td>\n",
       "      <td>426</td>\n",
       "      <td>53.756</td>\n",
       "      <td>119.549</td>\n",
       "      <td>12</td>\n",
       "      <td>2.817</td>\n",
       "      <td>1.962</td>\n",
       "    </tr>\n",
       "    <tr>\n",
       "      <th>5</th>\n",
       "      <td>London</td>\n",
       "      <td>25-34</td>\n",
       "      <td>66.623</td>\n",
       "      <td>758</td>\n",
       "      <td>59.235</td>\n",
       "      <td>103.788</td>\n",
       "      <td>22</td>\n",
       "      <td>2.902</td>\n",
       "      <td>1.856</td>\n",
       "    </tr>\n",
       "    <tr>\n",
       "      <th>6</th>\n",
       "      <td>Croydon</td>\n",
       "      <td>35-44</td>\n",
       "      <td>64.216</td>\n",
       "      <td>204</td>\n",
       "      <td>43.137</td>\n",
       "      <td>158.848</td>\n",
       "      <td>6</td>\n",
       "      <td>2.941</td>\n",
       "      <td>2.284</td>\n",
       "    </tr>\n",
       "    <tr>\n",
       "      <th>8</th>\n",
       "      <td>Croydon</td>\n",
       "      <td>18-24</td>\n",
       "      <td>69.767</td>\n",
       "      <td>86</td>\n",
       "      <td>43.023</td>\n",
       "      <td>101.384</td>\n",
       "      <td>3</td>\n",
       "      <td>3.488</td>\n",
       "      <td>2.140</td>\n",
       "    </tr>\n",
       "    <tr>\n",
       "      <th>10</th>\n",
       "      <td>Croydon</td>\n",
       "      <td>25-34</td>\n",
       "      <td>58.194</td>\n",
       "      <td>299</td>\n",
       "      <td>47.157</td>\n",
       "      <td>198.344</td>\n",
       "      <td>15</td>\n",
       "      <td>5.017</td>\n",
       "      <td>2.261</td>\n",
       "    </tr>\n",
       "    <tr>\n",
       "      <th>11</th>\n",
       "      <td>London</td>\n",
       "      <td>18-24</td>\n",
       "      <td>75.484</td>\n",
       "      <td>155</td>\n",
       "      <td>51.613</td>\n",
       "      <td>172.226</td>\n",
       "      <td>8</td>\n",
       "      <td>5.161</td>\n",
       "      <td>2.187</td>\n",
       "    </tr>\n",
       "  </tbody>\n",
       "</table>\n",
       "</div>"
      ],
      "text/plain": [
       "       city    age  new_sessions  sessions  bounce_rate      asd  goal1  goal1CR    PPS\n",
       "2    London  45-54        70.909       165       53.939  135.079      2    1.212  1.915\n",
       "3   Croydon  45-54        65.854        82       48.780  167.707      1    1.220  2.049\n",
       "4    London  35-44        69.014       426       53.756  119.549     12    2.817  1.962\n",
       "5    London  25-34        66.623       758       59.235  103.788     22    2.902  1.856\n",
       "6   Croydon  35-44        64.216       204       43.137  158.848      6    2.941  2.284\n",
       "8   Croydon  18-24        69.767        86       43.023  101.384      3    3.488  2.140\n",
       "10  Croydon  25-34        58.194       299       47.157  198.344     15    5.017  2.261\n",
       "11   London  18-24        75.484       155       51.613  172.226      8    5.161  2.187"
      ]
     },
     "execution_count": 23,
     "metadata": {},
     "output_type": "execute_result"
    }
   ],
   "source": [
    "# rename columns\n",
    "TMRW_users.columns=['city','age', 'new_sessions','sessions','bounce_rate','asd','goal1','goal1CR','PPS'] \n",
    "TMRW_users=TMRW_users.sort_values('goal1CR')\n",
    "\n",
    "TMRW_users_filter = TMRW_users[TMRW_users.sessions > 80]\n",
    "TMRW_users_filter"
   ]
  },
  {
   "cell_type": "code",
   "execution_count": 24,
   "metadata": {
    "collapsed": false
   },
   "outputs": [
    {
     "data": {
      "text/html": [
       "<div>\n",
       "<table border=\"1\" class=\"dataframe\">\n",
       "  <thead>\n",
       "    <tr style=\"text-align: right;\">\n",
       "      <th></th>\n",
       "      <th>new_sessions</th>\n",
       "      <th>sessions</th>\n",
       "      <th>bounce_rate</th>\n",
       "      <th>asd</th>\n",
       "      <th>goal1</th>\n",
       "      <th>goal1CR</th>\n",
       "      <th>PPS</th>\n",
       "    </tr>\n",
       "  </thead>\n",
       "  <tbody>\n",
       "    <tr>\n",
       "      <th>count</th>\n",
       "      <td>8.000000</td>\n",
       "      <td>8.000000</td>\n",
       "      <td>8.000000</td>\n",
       "      <td>8.000000</td>\n",
       "      <td>8.00000</td>\n",
       "      <td>8.000000</td>\n",
       "      <td>8.000000</td>\n",
       "    </tr>\n",
       "    <tr>\n",
       "      <th>mean</th>\n",
       "      <td>67.507625</td>\n",
       "      <td>271.875000</td>\n",
       "      <td>50.080000</td>\n",
       "      <td>144.615625</td>\n",
       "      <td>8.62500</td>\n",
       "      <td>3.094750</td>\n",
       "      <td>2.081750</td>\n",
       "    </tr>\n",
       "    <tr>\n",
       "      <th>std</th>\n",
       "      <td>5.122239</td>\n",
       "      <td>227.124533</td>\n",
       "      <td>5.641801</td>\n",
       "      <td>35.132391</td>\n",
       "      <td>7.28869</td>\n",
       "      <td>1.479211</td>\n",
       "      <td>0.161107</td>\n",
       "    </tr>\n",
       "    <tr>\n",
       "      <th>min</th>\n",
       "      <td>58.194000</td>\n",
       "      <td>82.000000</td>\n",
       "      <td>43.023000</td>\n",
       "      <td>101.384000</td>\n",
       "      <td>1.00000</td>\n",
       "      <td>1.212000</td>\n",
       "      <td>1.856000</td>\n",
       "    </tr>\n",
       "    <tr>\n",
       "      <th>25%</th>\n",
       "      <td>65.444500</td>\n",
       "      <td>137.750000</td>\n",
       "      <td>46.152000</td>\n",
       "      <td>115.608750</td>\n",
       "      <td>2.75000</td>\n",
       "      <td>2.417750</td>\n",
       "      <td>1.950250</td>\n",
       "    </tr>\n",
       "    <tr>\n",
       "      <th>50%</th>\n",
       "      <td>67.818500</td>\n",
       "      <td>184.500000</td>\n",
       "      <td>50.196500</td>\n",
       "      <td>146.963500</td>\n",
       "      <td>7.00000</td>\n",
       "      <td>2.921500</td>\n",
       "      <td>2.094500</td>\n",
       "    </tr>\n",
       "    <tr>\n",
       "      <th>75%</th>\n",
       "      <td>70.052500</td>\n",
       "      <td>330.750000</td>\n",
       "      <td>53.801750</td>\n",
       "      <td>168.836750</td>\n",
       "      <td>12.75000</td>\n",
       "      <td>3.870250</td>\n",
       "      <td>2.205500</td>\n",
       "    </tr>\n",
       "    <tr>\n",
       "      <th>max</th>\n",
       "      <td>75.484000</td>\n",
       "      <td>758.000000</td>\n",
       "      <td>59.235000</td>\n",
       "      <td>198.344000</td>\n",
       "      <td>22.00000</td>\n",
       "      <td>5.161000</td>\n",
       "      <td>2.284000</td>\n",
       "    </tr>\n",
       "  </tbody>\n",
       "</table>\n",
       "</div>"
      ],
      "text/plain": [
       "       new_sessions    sessions  bounce_rate         asd     goal1   goal1CR       PPS\n",
       "count      8.000000    8.000000     8.000000    8.000000   8.00000  8.000000  8.000000\n",
       "mean      67.507625  271.875000    50.080000  144.615625   8.62500  3.094750  2.081750\n",
       "std        5.122239  227.124533     5.641801   35.132391   7.28869  1.479211  0.161107\n",
       "min       58.194000   82.000000    43.023000  101.384000   1.00000  1.212000  1.856000\n",
       "25%       65.444500  137.750000    46.152000  115.608750   2.75000  2.417750  1.950250\n",
       "50%       67.818500  184.500000    50.196500  146.963500   7.00000  2.921500  2.094500\n",
       "75%       70.052500  330.750000    53.801750  168.836750  12.75000  3.870250  2.205500\n",
       "max       75.484000  758.000000    59.235000  198.344000  22.00000  5.161000  2.284000"
      ]
     },
     "execution_count": 24,
     "metadata": {},
     "output_type": "execute_result"
    }
   ],
   "source": [
    "TMRW_users_filter.describe()\n",
    "# will need to convert dnumbers into tim\n",
    "#TMRW_users_filter_new =pd.to_datetime(TMRW_users_filter['asd'], format='%H:%M')\n"
   ]
  },
  {
   "cell_type": "code",
   "execution_count": 25,
   "metadata": {
    "collapsed": false
   },
   "outputs": [
    {
     "data": {
      "text/plain": [
       "164.85714285714286"
      ]
     },
     "execution_count": 25,
     "metadata": {},
     "output_type": "execute_result"
    }
   ],
   "source": [
    "# Check if the number of sessions is enough for analysis\n",
    "\n",
    "if TMRW_users.sessions.sum() < 80:\n",
    "    print(\"Error\")\n",
    "\n",
    "#if sessions are too small remove\n",
    "#if one conversion - remove\n",
    "\n",
    "# 1. Too small sessions\n",
    "TMRW_users.describe().loc['mean', 'sessions']\n"
   ]
  },
  {
   "cell_type": "code",
   "execution_count": 26,
   "metadata": {
    "collapsed": false
   },
   "outputs": [
    {
     "data": {
      "text/html": [
       "<div>\n",
       "<table border=\"1\" class=\"dataframe\">\n",
       "  <thead>\n",
       "    <tr style=\"text-align: right;\">\n",
       "      <th></th>\n",
       "      <th>new_sessions</th>\n",
       "      <th>sessions</th>\n",
       "      <th>bounce_rate</th>\n",
       "      <th>asd</th>\n",
       "      <th>goal1</th>\n",
       "      <th>goal1CR</th>\n",
       "      <th>PPS</th>\n",
       "    </tr>\n",
       "    <tr>\n",
       "      <th>city</th>\n",
       "      <th></th>\n",
       "      <th></th>\n",
       "      <th></th>\n",
       "      <th></th>\n",
       "      <th></th>\n",
       "      <th></th>\n",
       "      <th></th>\n",
       "    </tr>\n",
       "  </thead>\n",
       "  <tbody>\n",
       "    <tr>\n",
       "      <th>Croydon</th>\n",
       "      <td>63.9805</td>\n",
       "      <td>192.5</td>\n",
       "      <td>45.090</td>\n",
       "      <td>149.864</td>\n",
       "      <td>9.0</td>\n",
       "      <td>4.2525</td>\n",
       "      <td>2.2005</td>\n",
       "    </tr>\n",
       "    <tr>\n",
       "      <th>London</th>\n",
       "      <td>75.4840</td>\n",
       "      <td>155.0</td>\n",
       "      <td>51.613</td>\n",
       "      <td>172.226</td>\n",
       "      <td>8.0</td>\n",
       "      <td>5.1610</td>\n",
       "      <td>2.1870</td>\n",
       "    </tr>\n",
       "  </tbody>\n",
       "</table>\n",
       "</div>"
      ],
      "text/plain": [
       "         new_sessions  sessions  bounce_rate      asd  goal1  goal1CR     PPS\n",
       "city                                                                         \n",
       "Croydon       63.9805     192.5       45.090  149.864    9.0   4.2525  2.2005\n",
       "London        75.4840     155.0       51.613  172.226    8.0   5.1610  2.1870"
      ]
     },
     "execution_count": 26,
     "metadata": {},
     "output_type": "execute_result"
    }
   ],
   "source": [
    "#algo for bucketing into varios secsions: \n",
    "\n",
    "#buckets by goal1CR\n",
    "\n",
    "TMRW_users_goal1CR = TMRW_users_filter.nlargest(3, 'goal1CR')\n",
    "TMRW_users_goal1CR_gCity = TMRW_users_goal1CR.groupby(['city']).mean() #this is not too correct- average of proportion, but ok for now\n",
    "TMRW_users_goal1CR_gAge = TMRW_users_goal1CR.groupby(['age']).mean() \n",
    "TMRW_users_goal1CR_gCity"
   ]
  },
  {
   "cell_type": "code",
   "execution_count": 38,
   "metadata": {
    "collapsed": false
   },
   "outputs": [
    {
     "data": {
      "text/plain": [
       "'18-24'"
      ]
     },
     "execution_count": 38,
     "metadata": {},
     "output_type": "execute_result"
    }
   ],
   "source": [
    "TMRW_users_goal1CR.loc[11,'age']"
   ]
  },
  {
   "cell_type": "code",
   "execution_count": 28,
   "metadata": {
    "collapsed": false
   },
   "outputs": [
    {
     "data": {
      "text/plain": [
       "age\n",
       "18-24     5.5\n",
       "25-34    15.0\n",
       "Name: goal1, dtype: float64"
      ]
     },
     "execution_count": 28,
     "metadata": {},
     "output_type": "execute_result"
    }
   ],
   "source": [
    "TMRW_users_goal1CR_gAge.loc[: , 'goal1']"
   ]
  },
  {
   "cell_type": "code",
   "execution_count": 35,
   "metadata": {
    "collapsed": false
   },
   "outputs": [
    {
     "data": {
      "text/html": [
       "<div>\n",
       "<table border=\"1\" class=\"dataframe\">\n",
       "  <thead>\n",
       "    <tr style=\"text-align: right;\">\n",
       "      <th></th>\n",
       "      <th>city</th>\n",
       "      <th>age</th>\n",
       "      <th>new_sessions</th>\n",
       "      <th>sessions</th>\n",
       "      <th>bounce_rate</th>\n",
       "      <th>asd</th>\n",
       "      <th>goal1</th>\n",
       "      <th>goal1CR</th>\n",
       "      <th>PPS</th>\n",
       "    </tr>\n",
       "  </thead>\n",
       "  <tbody>\n",
       "    <tr>\n",
       "      <th>11</th>\n",
       "      <td>London</td>\n",
       "      <td>18-24</td>\n",
       "      <td>75.484</td>\n",
       "      <td>155</td>\n",
       "      <td>51.613</td>\n",
       "      <td>172.226</td>\n",
       "      <td>8</td>\n",
       "      <td>5.161</td>\n",
       "      <td>2.187</td>\n",
       "    </tr>\n",
       "    <tr>\n",
       "      <th>10</th>\n",
       "      <td>Croydon</td>\n",
       "      <td>25-34</td>\n",
       "      <td>58.194</td>\n",
       "      <td>299</td>\n",
       "      <td>47.157</td>\n",
       "      <td>198.344</td>\n",
       "      <td>15</td>\n",
       "      <td>5.017</td>\n",
       "      <td>2.261</td>\n",
       "    </tr>\n",
       "    <tr>\n",
       "      <th>8</th>\n",
       "      <td>Croydon</td>\n",
       "      <td>18-24</td>\n",
       "      <td>69.767</td>\n",
       "      <td>86</td>\n",
       "      <td>43.023</td>\n",
       "      <td>101.384</td>\n",
       "      <td>3</td>\n",
       "      <td>3.488</td>\n",
       "      <td>2.140</td>\n",
       "    </tr>\n",
       "  </tbody>\n",
       "</table>\n",
       "</div>"
      ],
      "text/plain": [
       "       city    age  new_sessions  sessions  bounce_rate      asd  goal1  goal1CR    PPS\n",
       "11   London  18-24        75.484       155       51.613  172.226      8    5.161  2.187\n",
       "10  Croydon  25-34        58.194       299       47.157  198.344     15    5.017  2.261\n",
       "8   Croydon  18-24        69.767        86       43.023  101.384      3    3.488  2.140"
      ]
     },
     "execution_count": 35,
     "metadata": {},
     "output_type": "execute_result"
    }
   ],
   "source": [
    "TMRW_users_goal1CR.loc[]\n",
    "'age'.max"
   ]
  },
  {
   "cell_type": "code",
   "execution_count": 30,
   "metadata": {
    "collapsed": false
   },
   "outputs": [
    {
     "ename": "TypeError",
     "evalue": "bad operand type for unary +: 'str'",
     "output_type": "error",
     "traceback": [
      "\u001b[0;31m---------------------------------------------------------------------------\u001b[0m",
      "\u001b[0;31mTypeError\u001b[0m                                 Traceback (most recent call last)",
      "\u001b[0;32m<ipython-input-30-70d1487a1078>\u001b[0m in \u001b[0;36m<module>\u001b[0;34m()\u001b[0m\n\u001b[1;32m      1\u001b[0m \u001b[0;31m# The most converting audience\u001b[0m\u001b[0;34m\u001b[0m\u001b[0;34m\u001b[0m\u001b[0m\n\u001b[0;32m----> 2\u001b[0;31m \u001b[0mprint\u001b[0m\u001b[0;34m(\u001b[0m\u001b[0;34m+\u001b[0m\u001b[0;34m\" is most converting Demographic category\"\u001b[0m\u001b[0;34m)\u001b[0m\u001b[0;34m\u001b[0m\u001b[0m\n\u001b[0m\u001b[1;32m      3\u001b[0m \u001b[0;34m\u001b[0m\u001b[0m\n\u001b[1;32m      4\u001b[0m \u001b[0mx\u001b[0m \u001b[0;34m=\u001b[0m \u001b[0mTMRW_users_goal1CR_gAge\u001b[0m\u001b[0;34m.\u001b[0m\u001b[0mindex\u001b[0m\u001b[0;34m\u001b[0m\u001b[0m\n\u001b[1;32m      5\u001b[0m \u001b[0;34m\u001b[0m\u001b[0m\n",
      "\u001b[0;31mTypeError\u001b[0m: bad operand type for unary +: 'str'"
     ]
    }
   ],
   "source": [
    "# The most converting audience\n",
    "print(+\" is most converting Demographic category\")\n",
    "\n",
    "#x = TMRW_users_goal1CR_gAge.index\n",
    "\n",
    "y = TMRW_users_goal1CR.[: , 'goal1CR']\n",
    "\n",
    "plt.hist(y)\n",
    "\n",
    "plt.title(\"Top converting buckets\")\n",
    "plt.xlabel(\"Conv rate\")\n",
    "plt.ylabel(\"Frequency\")\n",
    "\n",
    "\n",
    "plt.show()"
   ]
  },
  {
   "cell_type": "code",
   "execution_count": 31,
   "metadata": {
    "collapsed": false
   },
   "outputs": [
    {
     "data": {
      "text/html": [
       "<div>\n",
       "<table border=\"1\" class=\"dataframe\">\n",
       "  <thead>\n",
       "    <tr style=\"text-align: right;\">\n",
       "      <th></th>\n",
       "      <th>city</th>\n",
       "      <th>age</th>\n",
       "      <th>new_sessions</th>\n",
       "      <th>sessions</th>\n",
       "      <th>bounce_rate</th>\n",
       "      <th>asd</th>\n",
       "      <th>goal1</th>\n",
       "      <th>goal1CR</th>\n",
       "      <th>PPS</th>\n",
       "    </tr>\n",
       "  </thead>\n",
       "  <tbody>\n",
       "    <tr>\n",
       "      <th>5</th>\n",
       "      <td>London</td>\n",
       "      <td>25-34</td>\n",
       "      <td>66.623</td>\n",
       "      <td>758</td>\n",
       "      <td>59.235</td>\n",
       "      <td>103.788</td>\n",
       "      <td>22</td>\n",
       "      <td>2.902</td>\n",
       "      <td>1.856</td>\n",
       "    </tr>\n",
       "    <tr>\n",
       "      <th>2</th>\n",
       "      <td>London</td>\n",
       "      <td>45-54</td>\n",
       "      <td>70.909</td>\n",
       "      <td>165</td>\n",
       "      <td>53.939</td>\n",
       "      <td>135.079</td>\n",
       "      <td>2</td>\n",
       "      <td>1.212</td>\n",
       "      <td>1.915</td>\n",
       "    </tr>\n",
       "    <tr>\n",
       "      <th>4</th>\n",
       "      <td>London</td>\n",
       "      <td>35-44</td>\n",
       "      <td>69.014</td>\n",
       "      <td>426</td>\n",
       "      <td>53.756</td>\n",
       "      <td>119.549</td>\n",
       "      <td>12</td>\n",
       "      <td>2.817</td>\n",
       "      <td>1.962</td>\n",
       "    </tr>\n",
       "  </tbody>\n",
       "</table>\n",
       "</div>"
      ],
      "text/plain": [
       "     city    age  new_sessions  sessions  bounce_rate      asd  goal1  goal1CR    PPS\n",
       "5  London  25-34        66.623       758       59.235  103.788     22    2.902  1.856\n",
       "2  London  45-54        70.909       165       53.939  135.079      2    1.212  1.915\n",
       "4  London  35-44        69.014       426       53.756  119.549     12    2.817  1.962"
      ]
     },
     "execution_count": 31,
     "metadata": {},
     "output_type": "execute_result"
    }
   ],
   "source": [
    "TMRW_users_bounce_rate = TMRW_users_filter.nlargest(3, 'bounce_rate')\n",
    "TMRW_users_bounce_rate\n",
    "#if the_largest traffic source = ('not_set') then output error ''"
   ]
  },
  {
   "cell_type": "code",
   "execution_count": 70,
   "metadata": {
    "collapsed": false
   },
   "outputs": [
    {
     "data": {
      "text/html": [
       "<div>\n",
       "<table border=\"1\" class=\"dataframe\">\n",
       "  <thead>\n",
       "    <tr style=\"text-align: right;\">\n",
       "      <th></th>\n",
       "      <th>city</th>\n",
       "      <th>age</th>\n",
       "      <th>new_sessions</th>\n",
       "      <th>sessions</th>\n",
       "      <th>bounce_rate</th>\n",
       "      <th>asd</th>\n",
       "      <th>goal1</th>\n",
       "      <th>goal1CR</th>\n",
       "      <th>PPS</th>\n",
       "    </tr>\n",
       "  </thead>\n",
       "  <tbody>\n",
       "    <tr>\n",
       "      <th>6</th>\n",
       "      <td>Croydon</td>\n",
       "      <td>35-44</td>\n",
       "      <td>64.216</td>\n",
       "      <td>204</td>\n",
       "      <td>43.137</td>\n",
       "      <td>158.848</td>\n",
       "      <td>6</td>\n",
       "      <td>2.941</td>\n",
       "      <td>2.284</td>\n",
       "    </tr>\n",
       "    <tr>\n",
       "      <th>10</th>\n",
       "      <td>Croydon</td>\n",
       "      <td>25-34</td>\n",
       "      <td>58.194</td>\n",
       "      <td>299</td>\n",
       "      <td>47.157</td>\n",
       "      <td>198.344</td>\n",
       "      <td>15</td>\n",
       "      <td>5.017</td>\n",
       "      <td>2.261</td>\n",
       "    </tr>\n",
       "    <tr>\n",
       "      <th>11</th>\n",
       "      <td>London</td>\n",
       "      <td>18-24</td>\n",
       "      <td>75.484</td>\n",
       "      <td>155</td>\n",
       "      <td>51.613</td>\n",
       "      <td>172.226</td>\n",
       "      <td>8</td>\n",
       "      <td>5.161</td>\n",
       "      <td>2.187</td>\n",
       "    </tr>\n",
       "  </tbody>\n",
       "</table>\n",
       "</div>"
      ],
      "text/plain": [
       "       city    age  new_sessions  sessions  bounce_rate      asd  goal1  goal1CR    PPS\n",
       "6   Croydon  35-44        64.216       204       43.137  158.848      6    2.941  2.284\n",
       "10  Croydon  25-34        58.194       299       47.157  198.344     15    5.017  2.261\n",
       "11   London  18-24        75.484       155       51.613  172.226      8    5.161  2.187"
      ]
     },
     "execution_count": 70,
     "metadata": {},
     "output_type": "execute_result"
    }
   ],
   "source": [
    "TMRW_users_PPS = TMRW_users_filter.nlargest(3, 'PPS')\n",
    "TMRW_users_PPS"
   ]
  },
  {
   "cell_type": "code",
   "execution_count": 10,
   "metadata": {
    "collapsed": false
   },
   "outputs": [
    {
     "data": {
      "text/html": [
       "<div>\n",
       "<table border=\"1\" class=\"dataframe\">\n",
       "  <thead>\n",
       "    <tr style=\"text-align: right;\">\n",
       "      <th></th>\n",
       "      <th>new_sessions</th>\n",
       "      <th>sessions</th>\n",
       "      <th>bounce_rate</th>\n",
       "      <th>asd</th>\n",
       "      <th>goal1</th>\n",
       "      <th>goal1CR</th>\n",
       "      <th>PPS</th>\n",
       "    </tr>\n",
       "    <tr>\n",
       "      <th>city</th>\n",
       "      <th></th>\n",
       "      <th></th>\n",
       "      <th></th>\n",
       "      <th></th>\n",
       "      <th></th>\n",
       "      <th></th>\n",
       "      <th></th>\n",
       "    </tr>\n",
       "  </thead>\n",
       "  <tbody>\n",
       "    <tr>\n",
       "      <th>(not set)</th>\n",
       "      <td>118.750</td>\n",
       "      <td>40</td>\n",
       "      <td>125.000</td>\n",
       "      <td>129.042</td>\n",
       "      <td>1</td>\n",
       "      <td>4.167</td>\n",
       "      <td>3.271</td>\n",
       "    </tr>\n",
       "    <tr>\n",
       "      <th>Croydon</th>\n",
       "      <td>332.225</td>\n",
       "      <td>702</td>\n",
       "      <td>233.710</td>\n",
       "      <td>688.606</td>\n",
       "      <td>26</td>\n",
       "      <td>15.892</td>\n",
       "      <td>10.411</td>\n",
       "    </tr>\n",
       "    <tr>\n",
       "      <th>Hove</th>\n",
       "      <td>75.000</td>\n",
       "      <td>12</td>\n",
       "      <td>16.667</td>\n",
       "      <td>69.417</td>\n",
       "      <td>1</td>\n",
       "      <td>8.333</td>\n",
       "      <td>2.167</td>\n",
       "    </tr>\n",
       "    <tr>\n",
       "      <th>London</th>\n",
       "      <td>445.522</td>\n",
       "      <td>1554</td>\n",
       "      <td>337.194</td>\n",
       "      <td>739.971</td>\n",
       "      <td>45</td>\n",
       "      <td>19.235</td>\n",
       "      <td>11.539</td>\n",
       "    </tr>\n",
       "  </tbody>\n",
       "</table>\n",
       "</div>"
      ],
      "text/plain": [
       "           new_sessions  sessions  bounce_rate      asd  goal1  goal1CR     PPS\n",
       "city                                                                           \n",
       "(not set)       118.750        40      125.000  129.042      1    4.167   3.271\n",
       "Croydon         332.225       702      233.710  688.606     26   15.892  10.411\n",
       "Hove             75.000        12       16.667   69.417      1    8.333   2.167\n",
       "London          445.522      1554      337.194  739.971     45   19.235  11.539"
      ]
     },
     "execution_count": 10,
     "metadata": {},
     "output_type": "execute_result"
    }
   ],
   "source": [
    "TMRW_users_agcities=TMRW_users.groupby([\"city\"]).sum()\n",
    "TMRW_users_agcities\n"
   ]
  },
  {
   "cell_type": "code",
   "execution_count": 10,
   "metadata": {
    "collapsed": false
   },
   "outputs": [
    {
     "data": {
      "text/plain": [
       "City\n",
       "(not set)     1\n",
       "Croydon      26\n",
       "Hove          1\n",
       "London       45\n",
       "Name: Goal 1 Completions, dtype: int64"
      ]
     },
     "execution_count": 10,
     "metadata": {},
     "output_type": "execute_result"
    }
   ],
   "source": [
    "selected=TMRW_users_agcities.loc[:,'Goal 1 Completions']\n",
    "selected"
   ]
  },
  {
   "cell_type": "code",
   "execution_count": 16,
   "metadata": {
    "collapsed": false,
    "scrolled": true
   },
   "outputs": [
    {
     "data": {
      "image/png": "[encoded data removed]",
      "text/plain": [
       "<matplotlib.figure.Figure at 0x116328940>"
      ]
     },
     "metadata": {},
     "output_type": "display_data"
    }
   ],
   "source": [
    "labels = selected.index\n",
    "sizes = selected\n",
    "# colours are taken from http://tools.medialab.sciences-po.fr/iwanthue/\n",
    "colors = ['#1f394d','#2a7585', '#163c45', '#004a6e']\n",
    "explode = (0, 0, 0, 0)\n",
    "plt.pie(sizes, explode=explode, labels=labels, colors=colors,\n",
    "        autopct='%1.1f%%', shadow=False, startangle=90)\n",
    "plt.axis('equal')\n",
    "plt.title('Cities by conversion')\n",
    "plt.show()\n",
    "\n",
    "# Conversion traffic"
   ]
  },
  {
   "cell_type": "code",
   "execution_count": 11,
   "metadata": {
    "collapsed": false
   },
   "outputs": [
    {
     "name": "stdout",
     "output_type": "stream",
     "text": [
      " segment converts best\n"
     ]
    }
   ],
   "source": [
    "# Generate text\n",
    "print (\" segment converts best\")"
   ]
  },
  {
   "cell_type": "markdown",
   "metadata": {
    "collapsed": true
   },
   "source": [
    "# Mobile analytics\n"
   ]
  },
  {
   "cell_type": "code",
   "execution_count": 1,
   "metadata": {
    "collapsed": false
   },
   "outputs": [
    {
     "data": {
      "text/html": [
       "<div>\n",
       "<table border=\"1\" class=\"dataframe\">\n",
       "  <thead>\n",
       "    <tr style=\"text-align: right;\">\n",
       "      <th></th>\n",
       "      <th>sessions</th>\n",
       "      <th>%news</th>\n",
       "      <th>new_users</th>\n",
       "      <th>bounce_rate</th>\n",
       "      <th>PPS</th>\n",
       "      <th>ASD</th>\n",
       "      <th>goal1CR</th>\n",
       "      <th>goal1</th>\n",
       "    </tr>\n",
       "    <tr>\n",
       "      <th>device</th>\n",
       "      <th></th>\n",
       "      <th></th>\n",
       "      <th></th>\n",
       "      <th></th>\n",
       "      <th></th>\n",
       "      <th></th>\n",
       "      <th></th>\n",
       "      <th></th>\n",
       "    </tr>\n",
       "  </thead>\n",
       "  <tbody>\n",
       "    <tr>\n",
       "      <th>desktop</th>\n",
       "      <td>2976</td>\n",
       "      <td>70.93%</td>\n",
       "      <td>2,111</td>\n",
       "      <td>53.36%</td>\n",
       "      <td>2.01</td>\n",
       "      <td>00:02:19</td>\n",
       "      <td>3.76%</td>\n",
       "      <td>112</td>\n",
       "    </tr>\n",
       "    <tr>\n",
       "      <th>mobile</th>\n",
       "      <td>1502</td>\n",
       "      <td>70.51%</td>\n",
       "      <td>1,059</td>\n",
       "      <td>60.19%</td>\n",
       "      <td>1.83</td>\n",
       "      <td>00:01:35</td>\n",
       "      <td>1.73%</td>\n",
       "      <td>26</td>\n",
       "    </tr>\n",
       "    <tr>\n",
       "      <th>tablet</th>\n",
       "      <td>171</td>\n",
       "      <td>73.10%</td>\n",
       "      <td>125</td>\n",
       "      <td>56.73%</td>\n",
       "      <td>1.74</td>\n",
       "      <td>00:01:33</td>\n",
       "      <td>1.75%</td>\n",
       "      <td>3</td>\n",
       "    </tr>\n",
       "  </tbody>\n",
       "</table>\n",
       "</div>"
      ],
      "text/plain": [
       "         sessions   %news new_users bounce_rate   PPS       ASD goal1CR  goal1\n",
       "device                                                                        \n",
       "desktop      2976  70.93%     2,111      53.36%  2.01  00:02:19   3.76%    112\n",
       "mobile       1502  70.51%     1,059      60.19%  1.83  00:01:35   1.73%     26\n",
       "tablet        171  73.10%       125      56.73%  1.74  00:01:33   1.75%      3"
      ]
     },
     "execution_count": 1,
     "metadata": {},
     "output_type": "execute_result"
    }
   ],
   "source": [
    "import pandas as pd\n",
    "import numpy as np\n",
    "import matplotlib.pyplot as plt\n",
    "\n",
    "input_mob = pd.read_csv('files/TMRW_mob.csv')\n",
    "input_mob.columns=['device','sessions','%news', 'new_users','bounce_rate','PPS', 'ASD', 'goal1CR','goal1']\n",
    "input_mob = input_mob.set_index('device')\n",
    "\n",
    "def p2f(x):\n",
    "    return float(x.strip('%'))/100\n",
    "\n",
    "input_mob"
   ]
  },
  {
   "cell_type": "code",
   "execution_count": 121,
   "metadata": {
    "collapsed": true
   },
   "outputs": [],
   "source": [
    "conv_increase =  float(input_mob.loc['mobile','sessions']) * p2f(input_mob.loc['desktop','goal1CR']) - float(input_mob.loc['mobile','goal1']) \n",
    "conv_increase=int(conv_increase)"
   ]
  },
  {
   "cell_type": "code",
   "execution_count": 157,
   "metadata": {
    "collapsed": false
   },
   "outputs": [
    {
     "name": "stdout",
     "output_type": "stream",
     "text": [
      "Have 30 more conversions per month by optmiising mobile UX\n"
     ]
    },
    {
     "data": {
      "image/png": "[encoded data removed]",
      "text/plain": [
       "<matplotlib.figure.Figure at 0x117ed2ba8>"
      ]
     },
     "metadata": {},
     "output_type": "display_data"
    }
   ],
   "source": [
    "# Check if data is valid\n",
    "\n",
    "is_valid = True\n",
    "output_chart_data = input_mob.loc['mobile',['sessions','goal1']]\n",
    "\n",
    "# convert percentages into float\n",
    "\n",
    "\n",
    "\n",
    "mob_CR =  p2f(input_mob.loc['desktop','goal1CR'])\n",
    "desk_CR = p2f(input_mob.loc['mobile','goal1CR'])\n",
    "\n",
    "def funnel_cart():\n",
    "    return \n",
    "\n",
    "# calculate difference\n",
    "\n",
    "mob_dif = mob_CR / desk_CR\n",
    "\n",
    "# if mobile goal1CR is less by more than 20% then reult is failed \n",
    "\n",
    "if mob_dif > 1.5:\n",
    "    #funnel_chart()\n",
    "    output_chart_data\n",
    "\n",
    "    \n",
    "else:\n",
    "       is_valid = False\n",
    "    \n",
    "\n",
    "# if not then build chart\n",
    "\n",
    "# http://stackoverflow.com/questions/21397549/stack-bar-plot-in-matplotlib-and-add-label-to-each-section-and-suggestions\n",
    "# http://pandas.pydata.org/pandas-docs/stable/visualization.html#bar-plots\n",
    "\n",
    "#mob_chart = output_chart_data\n",
    "x = {1}\n",
    "y = {100,10}\n",
    "     \n",
    "\n",
    "#ou = pd.DataFrame([100,10], columns=['sessions', 'goal1'])\n",
    "\n",
    "output_chart_data.plot.barh(stacked=True)\n",
    "#plt.barh(x,y,'stacked')\n",
    "\n",
    "mob_conv = input_mob.loc['mobile','goal1CR']\n",
    "\n",
    "\n",
    "plt.xlabel('Visits')\n",
    "plt.title('Only %s of all mobile visitors end up completing a conversion' % mob_conv)\n",
    "\n",
    "#need to specify analytics time perdiod\n",
    "print(\"Have %s more conversions per month by optmiising mobile UX\" % conv_increase)\n",
    "\n",
    "\n",
    "plt.show()"
   ]
  }
 ],
 "metadata": {
  "anaconda-cloud": {},
  "kernelspec": {
   "display_name": "Python 3",
   "language": "python",
   "name": "python3"
  },
  "language_info": {
   "codemirror_mode": {
    "name": "ipython",
    "version": 3
   },
   "file_extension": ".py",
   "mimetype": "text/x-python",
   "name": "python",
   "nbconvert_exporter": "python",
   "pygments_lexer": "ipython3",
   "version": "3.6.0"
  }
 },
 "nbformat": 4,
 "nbformat_minor": 1
}
