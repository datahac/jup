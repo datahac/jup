{
 "cells": [
  {
   "cell_type": "markdown",
   "metadata": {},
   "source": [
    "## Choose a goal"
   ]
  },
  {
   "cell_type": "code",
   "execution_count": 92,
   "metadata": {
    "collapsed": false
   },
   "outputs": [],
   "source": [
    "import json\n",
    "\n",
    "with open('files/TMRW_goals_checking.json') as file: \n",
    "    input_goals = json.load(file)\n",
    "\n",
    "input_goals = input_goals[\"items\"]\n",
    "\n",
    "#input_goals"
   ]
  },
  {
   "cell_type": "code",
   "execution_count": 93,
   "metadata": {
    "collapsed": false
   },
   "outputs": [
    {
     "data": {
      "text/plain": [
       "3"
      ]
     },
     "execution_count": 93,
     "metadata": {},
     "output_type": "execute_result"
    }
   ],
   "source": [
    "#check how many goals we have loaded\n",
    "\n",
    "goals_count = len(input_goals)\n",
    "max_goal_count = 20\n",
    "\n",
    "goals_count"
   ]
  },
  {
   "cell_type": "code",
   "execution_count": 94,
   "metadata": {
    "collapsed": false
   },
   "outputs": [],
   "source": [
    "#there are 3 goals loaded\n",
    "\n",
    "goal1 = input_goals[0]\n",
    "goal2 = input_goals[1]\n",
    "goal3 = input_goals[2]"
   ]
  },
  {
   "cell_type": "code",
   "execution_count": 95,
   "metadata": {
    "collapsed": false
   },
   "outputs": [
    {
     "data": {
      "text/plain": [
       "[{'active': True,\n",
       "  'id': 'goal1',\n",
       "  'name': 'contact form submission',\n",
       "  'type': 'EVENT'},\n",
       " {'active': True,\n",
       "  'id': 'goal2',\n",
       "  'name': 'stay informed submission',\n",
       "  'type': 'EVENT'},\n",
       " {'active': True, 'id': 'goal3', 'name': 'telephone click', 'type': 'EVENT'}]"
      ]
     },
     "execution_count": 95,
     "metadata": {},
     "output_type": "execute_result"
    }
   ],
   "source": [
    "goal1 = {\n",
    "    \"id\" : \"goal%s\" % goal1['id'],\n",
    "    \"type\": goal1[\"type\"], \n",
    "    \"name\": goal1[\"name\"].lower(),\n",
    "    \"active\": goal1[\"active\"]\n",
    "    }\n",
    "\n",
    "goal2 = {\n",
    "    \"id\" : \"goal%s\" % goal2['id'],\n",
    "    \"type\": goal2[\"type\"], \n",
    "    \"name\": goal2[\"name\"].lower(),\n",
    "    \"active\": goal2[\"active\"]\n",
    "    }\n",
    "\n",
    "goal3 = {\n",
    "    \"id\" : \"goal%s\" % goal3['id'],\n",
    "    \"type\": goal3[\"type\"], \n",
    "    \"name\": goal3[\"name\"].lower(),\n",
    "    \"active\": goal3[\"active\"]\n",
    "    }\n",
    "\n",
    "goals = [goal1, goal2, goal3]\n",
    "goals"
   ]
  },
  {
   "cell_type": "code",
   "execution_count": 96,
   "metadata": {
    "collapsed": false
   },
   "outputs": [
    {
     "name": "stdout",
     "output_type": "stream",
     "text": [
      "{'goal1': 3, 'goal2': 2, 'goal3': 0}\n"
     ]
    }
   ],
   "source": [
    "useful_words = [\"form\",\"contact\",\"get in touch\",\"submit\",\"submission\"]\n",
    "\n",
    "def goal_names(g,w):\n",
    "    result = {}\n",
    "    for goal in g:\n",
    "        #define goals that are EVENTS and ACTIVE\n",
    "        if goal['active'] == True and goal['type'] == \"EVENT\":\n",
    "            result[goal['id']] = 0\n",
    "            for word in w:\n",
    "                if goal['name'].count(word)>0:\n",
    "                    result[goal['id']] += 1\n",
    "                    \n",
    "    return result\n",
    "\n",
    "goal_names_dir = goal_names(goals,useful_words)\n",
    "print(goal_names_dir)"
   ]
  },
  {
   "cell_type": "code",
   "execution_count": 97,
   "metadata": {
    "collapsed": false
   },
   "outputs": [
    {
     "name": "stdout",
     "output_type": "stream",
     "text": [
      "3\n"
     ]
    }
   ],
   "source": [
    "words_count = []\n",
    "\n",
    "for goal in goal_names_dir:\n",
    "    words_count.append(goal_names_dir[goal])\n",
    "\n",
    "max_word_count = max(words_count)\n",
    "print(max_word_count)"
   ]
  },
  {
   "cell_type": "code",
   "execution_count": 98,
   "metadata": {
    "collapsed": false
   },
   "outputs": [
    {
     "name": "stdout",
     "output_type": "stream",
     "text": [
      "goal1\n"
     ]
    }
   ],
   "source": [
    "goal_to_use_id = \"\"\n",
    "\n",
    "for goal in goal_names_dir:\n",
    "    if goal_names_dir[goal] == max_word_count:\n",
    "        goal_to_use_id = goal\n",
    "        \n",
    "print(goal_to_use_id)"
   ]
  },
  {
   "cell_type": "code",
   "execution_count": 99,
   "metadata": {
    "collapsed": false
   },
   "outputs": [
    {
     "name": "stdout",
     "output_type": "stream",
     "text": [
      "contact form submission\n"
     ]
    }
   ],
   "source": [
    "goal_to_use_name = \"\"\n",
    "\n",
    "for goal in goals:\n",
    "    if goal['id'] == goal_to_use_id:\n",
    "        goal_to_use_name = goal['name']\n",
    "        \n",
    "print(goal_to_use_name)"
   ]
  },
  {
   "cell_type": "code",
   "execution_count": 100,
   "metadata": {
    "collapsed": false
   },
   "outputs": [
    {
     "name": "stdout",
     "output_type": "stream",
     "text": [
      "Detected 3 goals\n",
      "Set Goal1 'Contact Form Submission' as a main goal\n"
     ]
    }
   ],
   "source": [
    "print(\"Detected %s goals\" % goals_count)\n",
    "\n",
    "print(\"Set %s \\'%s\\' as a main goal\" % (goal_to_use_id.title(),goal_to_use_name.title()))"
   ]
  },
  {
   "cell_type": "code",
   "execution_count": null,
   "metadata": {
    "collapsed": true
   },
   "outputs": [],
   "source": []
  },
  {
   "cell_type": "code",
   "execution_count": null,
   "metadata": {
    "collapsed": true
   },
   "outputs": [],
   "source": []
  }
 ],
 "metadata": {
  "kernelspec": {
   "display_name": "Python 3",
   "language": "python",
   "name": "python3"
  },
  "language_info": {
   "codemirror_mode": {
    "name": "ipython",
    "version": 3
   },
   "file_extension": ".py",
   "mimetype": "text/x-python",
   "name": "python",
   "nbconvert_exporter": "python",
   "pygments_lexer": "ipython3",
   "version": "3.6.0"
  }
 },
 "nbformat": 4,
 "nbformat_minor": 2
}
