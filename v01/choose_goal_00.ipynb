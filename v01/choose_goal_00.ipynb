{
 "cells": [
  {
   "cell_type": "markdown",
   "metadata": {},
   "source": [
    "## Choose a goal"
   ]
  },
  {
   "cell_type": "code",
   "execution_count": 59,
   "metadata": {
    "collapsed": false
   },
   "outputs": [],
   "source": [
    "import json\n",
    "\n",
    "with open('files/TMRW_goals_checking.json') as file: \n",
    "    input_goals = json.load(file)\n",
    "\n",
    "input_goals = input_goals[\"items\"]\n",
    "\n",
    "#input_goals"
   ]
  },
  {
   "cell_type": "code",
   "execution_count": 60,
   "metadata": {
    "collapsed": false
   },
   "outputs": [
    {
     "data": {
      "text/plain": [
       "3"
      ]
     },
     "execution_count": 60,
     "metadata": {},
     "output_type": "execute_result"
    }
   ],
   "source": [
    "#check how many goals we have loaded\n",
    "\n",
    "goals_count = len(input_goals)\n",
    "max_goal_count = 20\n",
    "\n",
    "goals_count"
   ]
  },
  {
   "cell_type": "code",
   "execution_count": 61,
   "metadata": {
    "collapsed": false
   },
   "outputs": [],
   "source": [
    "#there are 3 goals loaded\n",
    "\n",
    "goal1 = input_goals[0]\n",
    "goal2 = input_goals[1]\n",
    "goal3 = input_goals[2]"
   ]
  },
  {
   "cell_type": "code",
   "execution_count": 62,
   "metadata": {
    "collapsed": false
   },
   "outputs": [
    {
     "data": {
      "text/plain": [
       "[{'active': True,\n",
       "  'id': 'goal1',\n",
       "  'name': 'contact form submission',\n",
       "  'type': 'EVENT'},\n",
       " {'active': True,\n",
       "  'id': 'goal2',\n",
       "  'name': 'stay informed submission',\n",
       "  'type': 'EVENT'},\n",
       " {'active': True, 'id': 'goal3', 'name': 'telephone click', 'type': 'EVENT'}]"
      ]
     },
     "execution_count": 62,
     "metadata": {},
     "output_type": "execute_result"
    }
   ],
   "source": [
    "goal1 = {\n",
    "    \"id\" : \"goal%s\" % goal1['id'],\n",
    "    \"type\": goal1[\"type\"], \n",
    "    \"name\": goal1[\"name\"].lower(),\n",
    "    \"active\": goal1[\"active\"]\n",
    "    }\n",
    "\n",
    "goal2 = {\n",
    "    \"id\" : \"goal%s\" % goal2['id'],\n",
    "    \"type\": goal2[\"type\"], \n",
    "    \"name\": goal2[\"name\"].lower(),\n",
    "    \"active\": goal2[\"active\"]\n",
    "    }\n",
    "\n",
    "goal3 = {\n",
    "    \"id\" : \"goal%s\" % goal3['id'],\n",
    "    \"type\": goal3[\"type\"], \n",
    "    \"name\": goal3[\"name\"].lower(),\n",
    "    \"active\": goal3[\"active\"]\n",
    "    }\n",
    "\n",
    "goals = [goal1, goal2, goal3]\n",
    "goals"
   ]
  },
  {
   "cell_type": "code",
   "execution_count": 167,
   "metadata": {
    "collapsed": false,
    "scrolled": true
   },
   "outputs": [
    {
     "name": "stdout",
     "output_type": "stream",
     "text": [
      "goal1\n",
      "word:form - 1 times\n",
      "goal1\n",
      "word:contact - 1 times\n",
      "goal1\n",
      "word:submission - 1 times\n",
      "goal2\n",
      "word:form - 1 times\n",
      "goal2\n",
      "word:submission - 1 times\n"
     ]
    },
    {
     "data": {
      "text/plain": [
       "{}"
      ]
     },
     "execution_count": 167,
     "metadata": {},
     "output_type": "execute_result"
    }
   ],
   "source": [
    "#define goals that are EVENTS and ACTIVE\n",
    "useful_words = [\"form\",\"contact\",\"get in touch\",\"submit\",\"submission\"]\n",
    "\n",
    "count_words = {}\n",
    "correct_goals = {}\n",
    "count = 0\n",
    "times = 0\n",
    "for goal in goals:\n",
    "    if goal['active'] == True and goal['type'] == \"EVENT\":\n",
    "        for word in useful_words:\n",
    "            if goal['name'].count(word) > 0:\n",
    "                print(goal['id'])\n",
    "                count = goal['name'].count(word)\n",
    "                #times = sum(count)\n",
    "                print(\"word:%s - %s times\" % (word,count))\n",
    "                #print(count)\n",
    "                \n",
    "                \n",
    "#print(count)\n",
    "            #correct_goals[goal['id']] = times\n",
    "                \n",
    "                \n",
    "#count_words\n",
    "#correct_goals"
   ]
  },
  {
   "cell_type": "code",
   "execution_count": 154,
   "metadata": {
    "collapsed": false
   },
   "outputs": [
    {
     "ename": "TypeError",
     "evalue": "'int' object is not iterable",
     "output_type": "error",
     "traceback": [
      "\u001b[0;31m---------------------------------------------------------------------------\u001b[0m",
      "\u001b[0;31mTypeError\u001b[0m                                 Traceback (most recent call last)",
      "\u001b[0;32m<ipython-input-154-e176ccca3c48>\u001b[0m in \u001b[0;36m<module>\u001b[0;34m()\u001b[0m\n\u001b[1;32m     10\u001b[0m             \u001b[1;31m#count.append(goal['name'].count(word))\u001b[0m\u001b[1;33m\u001b[0m\u001b[1;33m\u001b[0m\u001b[0m\n\u001b[1;32m     11\u001b[0m             \u001b[0mcount\u001b[0m \u001b[1;33m=\u001b[0m \u001b[0mgoal\u001b[0m\u001b[1;33m[\u001b[0m\u001b[1;34m'name'\u001b[0m\u001b[1;33m]\u001b[0m\u001b[1;33m.\u001b[0m\u001b[0mcount\u001b[0m\u001b[1;33m(\u001b[0m\u001b[0mword\u001b[0m\u001b[1;33m)\u001b[0m\u001b[1;33m\u001b[0m\u001b[0m\n\u001b[0;32m---> 12\u001b[0;31m         \u001b[0mtotal\u001b[0m \u001b[1;33m=\u001b[0m \u001b[0msum\u001b[0m\u001b[1;33m(\u001b[0m\u001b[0mcount\u001b[0m\u001b[1;33m)\u001b[0m\u001b[1;33m\u001b[0m\u001b[0m\n\u001b[0m\u001b[1;32m     13\u001b[0m             \u001b[1;31m#times = sum(count)\u001b[0m\u001b[1;33m\u001b[0m\u001b[1;33m\u001b[0m\u001b[0m\n\u001b[1;32m     14\u001b[0m         \u001b[0mprint\u001b[0m\u001b[1;33m(\u001b[0m\u001b[1;34m\"word:%s - %s times\"\u001b[0m \u001b[1;33m%\u001b[0m \u001b[1;33m(\u001b[0m\u001b[0mword\u001b[0m\u001b[1;33m,\u001b[0m\u001b[0mcount\u001b[0m\u001b[1;33m)\u001b[0m\u001b[1;33m)\u001b[0m\u001b[1;33m\u001b[0m\u001b[0m\n",
      "\u001b[0;31mTypeError\u001b[0m: 'int' object is not iterable"
     ]
    }
   ],
   "source": []
  },
  {
   "cell_type": "code",
   "execution_count": null,
   "metadata": {
    "collapsed": true
   },
   "outputs": [],
   "source": []
  },
  {
   "cell_type": "code",
   "execution_count": 64,
   "metadata": {
    "collapsed": false
   },
   "outputs": [
    {
     "name": "stdout",
     "output_type": "stream",
     "text": [
      "goal1\n"
     ]
    },
    {
     "data": {
      "text/plain": [
       "['goal1', 'goal1', 'goal1']"
      ]
     },
     "execution_count": 64,
     "metadata": {},
     "output_type": "execute_result"
    }
   ],
   "source": [
    "for goal in goals:\n",
    "    if goal['name'].find(\"form \") > 1 or goal['name'].find(\" contact\") > 1:\n",
    "        correct_goals_list.append(goal['id'])\n",
    "        print(goal['id'])\n",
    "    \n",
    "\n",
    "correct_goals_list"
   ]
  },
  {
   "cell_type": "code",
   "execution_count": null,
   "metadata": {
    "collapsed": false
   },
   "outputs": [],
   "source": []
  },
  {
   "cell_type": "code",
   "execution_count": 95,
   "metadata": {
    "collapsed": false
   },
   "outputs": [
    {
     "name": "stdout",
     "output_type": "stream",
     "text": [
      "0\n"
     ]
    }
   ],
   "source": [
    "name = \"telephone click\"\n",
    "\n",
    "useful_words = [\"form\", \"Contact\", \"submission\"]\n",
    "\n",
    "\n",
    "\n",
    "count = []\n",
    "name = \"telephone click\"\n",
    "for word in useful_words:\n",
    "    count.append(name.count(word))\n",
    "    times = sum(count)\n",
    "\n",
    "print(times)"
   ]
  },
  {
   "cell_type": "code",
   "execution_count": null,
   "metadata": {
    "collapsed": false
   },
   "outputs": [],
   "source": []
  },
  {
   "cell_type": "code",
   "execution_count": null,
   "metadata": {
    "collapsed": false
   },
   "outputs": [],
   "source": []
  },
  {
   "cell_type": "code",
   "execution_count": 98,
   "metadata": {
    "collapsed": false
   },
   "outputs": [
    {
     "name": "stdout",
     "output_type": "stream",
     "text": [
      "Detected 3 goals\n"
     ]
    }
   ],
   "source": [
    "print(\"Detected %s goals\" % goals_count)"
   ]
  },
  {
   "cell_type": "code",
   "execution_count": null,
   "metadata": {
    "collapsed": true
   },
   "outputs": [],
   "source": []
  }
 ],
 "metadata": {
  "kernelspec": {
   "display_name": "Python 3",
   "language": "python",
   "name": "python3"
  },
  "language_info": {
   "codemirror_mode": {
    "name": "ipython",
    "version": 3
   },
   "file_extension": ".py",
   "mimetype": "text/x-python",
   "name": "python",
   "nbconvert_exporter": "python",
   "pygments_lexer": "ipython3",
   "version": "3.6.0"
  }
 },
 "nbformat": 4,
 "nbformat_minor": 2
}
