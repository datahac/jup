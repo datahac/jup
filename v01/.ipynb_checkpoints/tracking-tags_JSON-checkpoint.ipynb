{
 "cells": [
  {
   "cell_type": "markdown",
   "metadata": {},
   "source": [
    "# Tracking Tags"
   ]
  },
  {
   "cell_type": "markdown",
   "metadata": {},
   "source": [
    "### Choose a goal"
   ]
  },
  {
   "cell_type": "code",
   "execution_count": 1,
   "metadata": {
    "collapsed": true
   },
   "outputs": [],
   "source": [
    "request = \"GET https://www.googleapis.com/analytics/v3/management/accounts/78795478/webproperties/\\\n",
    "    UA-78795478-1/profiles/123303369/goals?key={YOUR_API_KEY}\""
   ]
  },
  {
   "cell_type": "code",
   "execution_count": 2,
   "metadata": {
    "collapsed": false
   },
   "outputs": [
    {
     "data": {
      "text/plain": [
       "[{'accountId': '78795478',\n",
       "  'active': True,\n",
       "  'created': '2017-01-26T16:41:38.797Z',\n",
       "  'eventDetails': {'eventConditions': [{'expression': 'Event',\n",
       "     'matchType': 'EXACT',\n",
       "     'type': 'CATEGORY'},\n",
       "    {'expression': 'Form', 'matchType': 'EXACT', 'type': 'ACTION'},\n",
       "    {'expression': 'Submitted', 'matchType': 'EXACT', 'type': 'LABEL'}],\n",
       "   'useEventValue': True},\n",
       "  'id': '1',\n",
       "  'internalWebPropertyId': '117885953',\n",
       "  'kind': 'analytics#goal',\n",
       "  'name': 'Contact form submission',\n",
       "  'parentLink': {'href': 'https://www.googleapis.com/analytics/v3/management/accounts/78795478/webproperties/UA-78795478-1/profiles/123303369',\n",
       "   'type': 'analytics#profile'},\n",
       "  'profileId': '123303369',\n",
       "  'selfLink': 'https://www.googleapis.com/analytics/v3/management/accounts/78795478/webproperties/UA-78795478-1/profiles/123303369/goals/1',\n",
       "  'type': 'EVENT',\n",
       "  'updated': '2017-01-29T19:24:58.853Z',\n",
       "  'value': 0.0,\n",
       "  'webPropertyId': 'UA-78795478-1'},\n",
       " {'accountId': '78795478',\n",
       "  'active': True,\n",
       "  'created': '2017-01-26T16:42:15.852Z',\n",
       "  'eventDetails': {'eventConditions': [{'expression': 'Form',\n",
       "     'matchType': 'EXACT',\n",
       "     'type': 'CATEGORY'},\n",
       "    {'expression': 'Submitted', 'matchType': 'EXACT', 'type': 'ACTION'},\n",
       "    {'expression': 'Stay Informed Form',\n",
       "     'matchType': 'EXACT',\n",
       "     'type': 'LABEL'}],\n",
       "   'useEventValue': True},\n",
       "  'id': '2',\n",
       "  'internalWebPropertyId': '117885953',\n",
       "  'kind': 'analytics#goal',\n",
       "  'name': 'Stay informed submission',\n",
       "  'parentLink': {'href': 'https://www.googleapis.com/analytics/v3/management/accounts/78795478/webproperties/UA-78795478-1/profiles/123303369',\n",
       "   'type': 'analytics#profile'},\n",
       "  'profileId': '123303369',\n",
       "  'selfLink': 'https://www.googleapis.com/analytics/v3/management/accounts/78795478/webproperties/UA-78795478-1/profiles/123303369/goals/2',\n",
       "  'type': 'EVENT',\n",
       "  'updated': '2017-01-26T16:42:15.852Z',\n",
       "  'value': 0.0,\n",
       "  'webPropertyId': 'UA-78795478-1'},\n",
       " {'accountId': '78795478',\n",
       "  'active': True,\n",
       "  'created': '2017-01-26T16:42:51.939Z',\n",
       "  'eventDetails': {'eventConditions': [{'expression': 'Link',\n",
       "     'matchType': 'EXACT',\n",
       "     'type': 'CATEGORY'},\n",
       "    {'expression': 'Click', 'matchType': 'EXACT', 'type': 'ACTION'},\n",
       "    {'expression': 'Clicked', 'matchType': 'EXACT', 'type': 'LABEL'}],\n",
       "   'useEventValue': True},\n",
       "  'id': '3',\n",
       "  'internalWebPropertyId': '117885953',\n",
       "  'kind': 'analytics#goal',\n",
       "  'name': 'Telephone click',\n",
       "  'parentLink': {'href': 'https://www.googleapis.com/analytics/v3/management/accounts/78795478/webproperties/UA-78795478-1/profiles/123303369',\n",
       "   'type': 'analytics#profile'},\n",
       "  'profileId': '123303369',\n",
       "  'selfLink': 'https://www.googleapis.com/analytics/v3/management/accounts/78795478/webproperties/UA-78795478-1/profiles/123303369/goals/3',\n",
       "  'type': 'EVENT',\n",
       "  'updated': '2017-01-29T19:29:12.187Z',\n",
       "  'value': 0.0,\n",
       "  'webPropertyId': 'UA-78795478-1'}]"
      ]
     },
     "execution_count": 2,
     "metadata": {},
     "output_type": "execute_result"
    }
   ],
   "source": [
    "import json\n",
    "\n",
    "with open('files/TMRW_goals_checking.json') as file: \n",
    "    input_goals = json.load(file)\n",
    "\n",
    "input_goals = input_goals[\"items\"]\n",
    "\n",
    "\n",
    "input_goals"
   ]
  },
  {
   "cell_type": "code",
   "execution_count": 3,
   "metadata": {
    "collapsed": false
   },
   "outputs": [
    {
     "data": {
      "text/plain": [
       "3"
      ]
     },
     "execution_count": 3,
     "metadata": {},
     "output_type": "execute_result"
    }
   ],
   "source": [
    "#check how many goals we have loaded\n",
    "\n",
    "goals_count = len(input_goals)\n",
    "max_goal_count = 20\n",
    "\n",
    "goals_count"
   ]
  },
  {
   "cell_type": "code",
   "execution_count": 4,
   "metadata": {
    "collapsed": false
   },
   "outputs": [
    {
     "data": {
      "text/plain": [
       "{'goal1': {'active': 'true',\n",
       "  'id': '1',\n",
       "  'name': 'contact form submission',\n",
       "  'type': 'event'},\n",
       " 'goal2': {'active': 'true',\n",
       "  'id': '2',\n",
       "  'name': 'stay informed submission',\n",
       "  'type': 'event'},\n",
       " 'goal3': {'active': 'true',\n",
       "  'id': '3',\n",
       "  'name': 'telephone click',\n",
       "  'type': 'event'}}"
      ]
     },
     "execution_count": 4,
     "metadata": {},
     "output_type": "execute_result"
    }
   ],
   "source": [
    "#create a list of goals according to number of goals loaded\n",
    "\n",
    "goal_list = []\n",
    "goals = {}\n",
    "\n",
    "\n",
    "for i in range(goals_count):\n",
    "    goal_names = \"goal%s\" % str(i+1)\n",
    "    goal_list.append(goal_names)\n",
    "\n",
    "    \n",
    "    \n",
    "    for goal in goal_list:\n",
    "        goals[goal] = {\n",
    "            'id' : \"\",\n",
    "            'name' : \"\",\n",
    "            'type' : \"\",\n",
    "            'active' : \"\"\n",
    "        }\n",
    "        for p in goals[goal]:\n",
    "\n",
    "            goals[goal][p] = str(input_goals[goal_list.index(goal)][p]).lower()\n",
    "            \n",
    "            \n",
    "#print(goal_list)       \n",
    "goals"
   ]
  },
  {
   "cell_type": "code",
   "execution_count": 5,
   "metadata": {
    "collapsed": false
   },
   "outputs": [
    {
     "data": {
      "text/plain": [
       "[]"
      ]
     },
     "execution_count": 5,
     "metadata": {},
     "output_type": "execute_result"
    }
   ],
   "source": [
    "#delete goals that are not EVENTS and not ACTIVE\n",
    "\n",
    "goals_to_delete = []\n",
    "\n",
    "for goal in goals:\n",
    "    \n",
    "    if goals[goal]['active'] == \"false\" or goals[goal]['type'] != \"event\":\n",
    "        goals_to_delete.append(goal)\n",
    "        \n",
    "\n",
    "goals_to_delete"
   ]
  },
  {
   "cell_type": "code",
   "execution_count": 6,
   "metadata": {
    "collapsed": false
   },
   "outputs": [
    {
     "data": {
      "text/plain": [
       "{'goal1': {'active': 'true',\n",
       "  'id': '1',\n",
       "  'name': 'contact form submission',\n",
       "  'type': 'event'},\n",
       " 'goal2': {'active': 'true',\n",
       "  'id': '2',\n",
       "  'name': 'stay informed submission',\n",
       "  'type': 'event'},\n",
       " 'goal3': {'active': 'true',\n",
       "  'id': '3',\n",
       "  'name': 'telephone click',\n",
       "  'type': 'event'}}"
      ]
     },
     "execution_count": 6,
     "metadata": {},
     "output_type": "execute_result"
    }
   ],
   "source": [
    "for g in goals_to_delete:\n",
    "    del goals[g]\n",
    "    \n",
    "goals"
   ]
  },
  {
   "cell_type": "code",
   "execution_count": 7,
   "metadata": {
    "collapsed": false
   },
   "outputs": [
    {
     "data": {
      "text/plain": [
       "3"
      ]
     },
     "execution_count": 7,
     "metadata": {},
     "output_type": "execute_result"
    }
   ],
   "source": [
    "len(goals)"
   ]
  },
  {
   "cell_type": "code",
   "execution_count": 8,
   "metadata": {
    "collapsed": false
   },
   "outputs": [],
   "source": [
    "useful_words = [\"form\",\"contact\",\"get in touch\",\"submit\",\"submission\"]\n",
    "\n",
    "def goal_names(g,w):\n",
    "    result = {}\n",
    "    for goal in g:        \n",
    "        result[goal] = 0\n",
    "        for word in w:\n",
    "            if g[goal]['name'].count(word) > 0:\n",
    "                result[goal] += 1              \n",
    "    return result\n",
    "\n",
    "goal_names_dir = goal_names(goals,useful_words)"
   ]
  },
  {
   "cell_type": "code",
   "execution_count": 9,
   "metadata": {
    "collapsed": false
   },
   "outputs": [
    {
     "data": {
      "text/plain": [
       "'goal1'"
      ]
     },
     "execution_count": 9,
     "metadata": {},
     "output_type": "execute_result"
    }
   ],
   "source": [
    "if len(goals) == 1:\n",
    "    for goal in goals:\n",
    "        goal_to_use_id = goal\n",
    "    \n",
    "elif len(goals) == 0:\n",
    "    print(\"Error\")\n",
    "    \n",
    "else:\n",
    "    \n",
    "    # check with goal_names function\n",
    "    \n",
    "    words_count = []\n",
    "    for goal in goal_names_dir:\n",
    "        \n",
    "        #print (goals[goal])\n",
    "        words_count.append(goal_names_dir[goal])\n",
    "\n",
    "    max_word_count = max(words_count)\n",
    "    \n",
    "    # define goal with biggest number of keywords found\n",
    "    \n",
    "    goal_to_use_id = \"\"\n",
    "\n",
    "    for goal in goal_names_dir:\n",
    "        if goal_names_dir[goal] == max_word_count:\n",
    "            goal_to_use_id = goal\n",
    "            \n",
    "goal_to_use_id"
   ]
  },
  {
   "cell_type": "code",
   "execution_count": 10,
   "metadata": {
    "collapsed": false
   },
   "outputs": [
    {
     "data": {
      "text/plain": [
       "'contact form submission'"
      ]
     },
     "execution_count": 10,
     "metadata": {},
     "output_type": "execute_result"
    }
   ],
   "source": [
    "goal_to_use_name = \"\"\n",
    "\n",
    "for goal in goals:\n",
    "    if goal == goal_to_use_id:\n",
    "        goal_to_use_name = goals[goal]['name']\n",
    "        \n",
    "goal_to_use_name"
   ]
  },
  {
   "cell_type": "code",
   "execution_count": 18,
   "metadata": {
    "collapsed": false
   },
   "outputs": [
    {
     "data": {
      "text/plain": [
       "'ga:goal1Completions'"
      ]
     },
     "execution_count": 18,
     "metadata": {},
     "output_type": "execute_result"
    }
   ],
   "source": [
    "#name of metric to use in user_flow and mobile_analytics, user_groups methods\n",
    "goal_to_use_in_request = 'ga:%sCompletions' % (goal_to_use_id)\n",
    "goal_to_use_in_request"
   ]
  },
  {
   "cell_type": "markdown",
   "metadata": {},
   "source": [
    "### Check number of events"
   ]
  },
  {
   "cell_type": "code",
   "execution_count": 12,
   "metadata": {
    "collapsed": false
   },
   "outputs": [],
   "source": [
    "#POST https://analyticsreporting.googleapis.com/v4/reports:batchGet?\\fields=reports(columnHeader(dimensions%2CmetricHeader%2FmetricHeaderEntries)%2Cdata%2Frows)&key={YOUR_API_KEY}\"\n",
    " \n",
    "request = {\n",
    " \"reportRequests\": [\n",
    "  {\n",
    "   \"viewId\": \"123303369\",\n",
    "   \"dateRanges\": [\n",
    "    {\n",
    "     \"startDate\": \"2017-01-01\",\n",
    "     \"endDate\": \"2017-04-30\"\n",
    "    }\n",
    "   ],\n",
    "   \"metrics\": [\n",
    "    {\n",
    "     \"expression\": \"ga:totalEvents\"\n",
    "    }\n",
    "   ],\n",
    "   \"dimensions\": [\n",
    "    {\n",
    "     \"name\": \"ga:eventCategory\"\n",
    "    },\n",
    "    {\n",
    "     \"name\": \"ga:eventAction\"\n",
    "    },\n",
    "    {\n",
    "     \"name\": \"ga:eventLabel\"\n",
    "    }\n",
    "   ]\n",
    "  }\n",
    " ]\n",
    "}"
   ]
  },
  {
   "cell_type": "code",
   "execution_count": 13,
   "metadata": {
    "collapsed": false
   },
   "outputs": [
    {
     "data": {
      "text/plain": [
       "{'reports': [{'columnHeader': {'dimensions': ['ga:eventCategory',\n",
       "     'ga:eventAction',\n",
       "     'ga:eventLabel'],\n",
       "    'metricHeader': {'metricHeaderEntries': [{'name': 'ga:totalEvents',\n",
       "       'type': 'INTEGER'}]}},\n",
       "   'data': {'rows': [{'dimensions': ['Event', 'Form', 'Submitted'],\n",
       "      'metrics': [{'values': ['199']}]},\n",
       "     {'dimensions': ['Link', 'Click', 'Clicked'],\n",
       "      'metrics': [{'values': ['6']}]}]}}]}"
      ]
     },
     "execution_count": 13,
     "metadata": {},
     "output_type": "execute_result"
    }
   ],
   "source": [
    "import json\n",
    "\n",
    "with open('files/TMRW_events.json') as file: \n",
    "    input_events = json.load(file)\n",
    "\n",
    "input_events"
   ]
  },
  {
   "cell_type": "code",
   "execution_count": 14,
   "metadata": {
    "collapsed": false
   },
   "outputs": [
    {
     "data": {
      "text/plain": [
       "['ga:eventCategory', 'ga:eventAction', 'ga:eventLabel']"
      ]
     },
     "execution_count": 14,
     "metadata": {},
     "output_type": "execute_result"
    }
   ],
   "source": [
    "# Define dimensions list\n",
    "input_events_dimensions = input_events['reports'][0]['columnHeader']['dimensions']\n",
    "\n",
    "input_events_dimensions"
   ]
  },
  {
   "cell_type": "code",
   "execution_count": 15,
   "metadata": {
    "collapsed": false
   },
   "outputs": [
    {
     "data": {
      "text/plain": [
       "['ga:totalEvents']"
      ]
     },
     "execution_count": 15,
     "metadata": {},
     "output_type": "execute_result"
    }
   ],
   "source": [
    "# Define metrics list\n",
    "input_events_metrics = input_events['reports'][0]['columnHeader']['metricHeader']['metricHeaderEntries']\n",
    "\n",
    "def create_metric_list(raw_data):\n",
    "    lst = []\n",
    "    for item in raw_data:\n",
    "        lst.append(item['name'])\n",
    "    return lst\n",
    "\n",
    "input_events_metrics = create_metric_list(input_events_metrics)\n",
    "\n",
    "input_events_metrics"
   ]
  },
  {
   "cell_type": "code",
   "execution_count": 16,
   "metadata": {
    "collapsed": true
   },
   "outputs": [],
   "source": [
    "#checking count of events\n",
    "\n",
    "input_events_data = input_events['reports'][0]['data']['rows']\n",
    "\n",
    "events_count = len(input_events_data)"
   ]
  },
  {
   "cell_type": "markdown",
   "metadata": {},
   "source": [
    "### Print"
   ]
  },
  {
   "cell_type": "code",
   "execution_count": 17,
   "metadata": {
    "collapsed": false
   },
   "outputs": [
    {
     "name": "stdout",
     "output_type": "stream",
     "text": [
      "Goals - 3 goals detected\n",
      "Goal1 'Contact Form Submission' is used as a main conversion\n",
      "Events - 2 events detected\n",
      "Set event tags to enable more user analytics features\n"
     ]
    }
   ],
   "source": [
    "print(\"Goals - %s goals detected\" % goals_count)\n",
    "\n",
    "print(\"%s \\'%s\\' is used as a main conversion\" % (goal_to_use_id.title(),goal_to_use_name.title()))\n",
    "\n",
    "print(\"Events - %s events detected\" % events_count)\n",
    "\n",
    "if events_count < 5:\n",
    "    \n",
    "    print(\"Set event tags to enable more user analytics features\")"
   ]
  },
  {
   "cell_type": "code",
   "execution_count": null,
   "metadata": {
    "collapsed": true
   },
   "outputs": [],
   "source": []
  },
  {
   "cell_type": "code",
   "execution_count": null,
   "metadata": {
    "collapsed": true
   },
   "outputs": [],
   "source": []
  }
 ],
 "metadata": {
  "kernelspec": {
   "display_name": "Python 3",
   "language": "python",
   "name": "python3"
  },
  "language_info": {
   "codemirror_mode": {
    "name": "ipython",
    "version": 3
   },
   "file_extension": ".py",
   "mimetype": "text/x-python",
   "name": "python",
   "nbconvert_exporter": "python",
   "pygments_lexer": "ipython3",
   "version": "3.6.0"
  }
 },
 "nbformat": 4,
 "nbformat_minor": 2
}
