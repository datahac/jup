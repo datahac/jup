{
 "cells": [
  {
   "cell_type": "markdown",
   "metadata": {},
   "source": [
    "# Tracking Tags"
   ]
  },
  {
   "cell_type": "markdown",
   "metadata": {},
   "source": [
    "### Choose a goal"
   ]
  },
  {
   "cell_type": "code",
   "execution_count": 2,
   "metadata": {
    "collapsed": true
   },
   "outputs": [],
   "source": [
    "request = \"GET https://www.googleapis.com/analytics/v3/management/accounts/78795478/webproperties/\\\n",
    "    UA-78795478-1/profiles/123303369/goals?key={YOUR_API_KEY}\""
   ]
  },
  {
   "cell_type": "code",
   "execution_count": 233,
   "metadata": {
    "collapsed": false
   },
   "outputs": [],
   "source": [
    "import json\n",
    "\n",
    "with open('files/TMRW_goals_checking.json') as file: \n",
    "    input_goals = json.load(file)\n",
    "\n",
    "input_goals = input_goals[\"items\"]\n",
    "\n",
    "\n",
    "#input_goals"
   ]
  },
  {
   "cell_type": "code",
   "execution_count": 234,
   "metadata": {
    "collapsed": false
   },
   "outputs": [
    {
     "data": {
      "text/plain": [
       "3"
      ]
     },
     "execution_count": 234,
     "metadata": {},
     "output_type": "execute_result"
    }
   ],
   "source": [
    "#check how many goals we have loaded\n",
    "\n",
    "goals_count = len(input_goals)\n",
    "max_goal_count = 20\n",
    "\n",
    "goals_count"
   ]
  },
  {
   "cell_type": "code",
   "execution_count": 235,
   "metadata": {
    "collapsed": false
   },
   "outputs": [
    {
     "data": {
      "text/plain": [
       "{'goal1': {'active': 'true',\n",
       "  'id': '1',\n",
       "  'name': 'contact form submission',\n",
       "  'type': 'event'},\n",
       " 'goal2': {'active': 'true',\n",
       "  'id': '2',\n",
       "  'name': 'stay informed submission',\n",
       "  'type': 'event'},\n",
       " 'goal3': {'active': 'true',\n",
       "  'id': '3',\n",
       "  'name': 'telephone click',\n",
       "  'type': 'event'}}"
      ]
     },
     "execution_count": 235,
     "metadata": {},
     "output_type": "execute_result"
    }
   ],
   "source": [
    "#create a list of goals according to number of goals loaded\n",
    "\n",
    "goal_list = []\n",
    "goals = {}\n",
    "\n",
    "\n",
    "for i in range(goals_count):\n",
    "    goal_names = \"goal%s\" % str(i+1)\n",
    "    goal_list.append(goal_names)\n",
    "\n",
    "    #print(goal_list[i])\n",
    "    \n",
    "    for goal in goal_list:\n",
    "        goals[goal] = {\n",
    "            'id' : \"\",\n",
    "            'name' : \"\",\n",
    "            'type' : \"\",\n",
    "            'active' : \"\"\n",
    "        }\n",
    "        for p in goals[goal]:\n",
    "\n",
    "            goals[goal][p] = str(input_goals[goal_list.index(goal)][p]).lower()\n",
    "            \n",
    "            \n",
    "        \n",
    "goals"
   ]
  },
  {
   "cell_type": "code",
   "execution_count": 206,
   "metadata": {
    "collapsed": false
   },
   "outputs": [
    {
     "data": {
      "text/plain": [
       "[]"
      ]
     },
     "execution_count": 206,
     "metadata": {},
     "output_type": "execute_result"
    }
   ],
   "source": [
    "#delete goals that are not EVENTS and not ACTIVE\n",
    "\n",
    "goals_to_delete = []\n",
    "\n",
    "for goal in goals:\n",
    "    \n",
    "    if goals[goal]['active'] == \"false\" or goals[goal]['type'] != \"event\":\n",
    "        goals_to_delete.append(goal)\n",
    "        \n",
    "\n",
    "goals_to_delete"
   ]
  },
  {
   "cell_type": "code",
   "execution_count": 207,
   "metadata": {
    "collapsed": false
   },
   "outputs": [
    {
     "data": {
      "text/plain": [
       "{'goal1': {'active': 'true',\n",
       "  'id': '1',\n",
       "  'name': 'contact form submission',\n",
       "  'type': 'event'},\n",
       " 'goal2': {'active': 'true',\n",
       "  'id': '2',\n",
       "  'name': 'stay informed submission',\n",
       "  'type': 'event'},\n",
       " 'goal3': {'active': 'true',\n",
       "  'id': '3',\n",
       "  'name': 'telephone click',\n",
       "  'type': 'event'}}"
      ]
     },
     "execution_count": 207,
     "metadata": {},
     "output_type": "execute_result"
    }
   ],
   "source": [
    "for g in goals_to_delete:\n",
    "    del goals[g]\n",
    "    \n",
    "goals"
   ]
  },
  {
   "cell_type": "code",
   "execution_count": 208,
   "metadata": {
    "collapsed": false
   },
   "outputs": [
    {
     "data": {
      "text/plain": [
       "3"
      ]
     },
     "execution_count": 208,
     "metadata": {},
     "output_type": "execute_result"
    }
   ],
   "source": [
    "len(goals)"
   ]
  },
  {
   "cell_type": "code",
   "execution_count": 209,
   "metadata": {
    "collapsed": false
   },
   "outputs": [
    {
     "data": {
      "text/plain": [
       "'contact form submission'"
      ]
     },
     "execution_count": 209,
     "metadata": {},
     "output_type": "execute_result"
    }
   ],
   "source": [
    "goals['goal1']['name']"
   ]
  },
  {
   "cell_type": "code",
   "execution_count": 219,
   "metadata": {
    "collapsed": false
   },
   "outputs": [],
   "source": [
    "useful_words = [\"form\",\"contact\",\"get in touch\",\"submit\",\"submission\"]\n",
    "\n",
    "def goal_names(g,w):\n",
    "    result = {}\n",
    "    for goal in g:        \n",
    "        result[goal] = 0\n",
    "        for word in w:\n",
    "            if g[goal]['name'].count(word) > 0:\n",
    "                result[goal] += 1              \n",
    "    return result\n",
    "\n",
    "goal_names_dir = goal_names(goals,useful_words)"
   ]
  },
  {
   "cell_type": "code",
   "execution_count": 225,
   "metadata": {
    "collapsed": false
   },
   "outputs": [
    {
     "data": {
      "text/plain": [
       "'goal1'"
      ]
     },
     "execution_count": 225,
     "metadata": {},
     "output_type": "execute_result"
    }
   ],
   "source": [
    "if len(goals) == 1:\n",
    "    for goal in goals:\n",
    "        goal_to_use_id = goal\n",
    "    \n",
    "elif len(goals) == 0:\n",
    "    print(\"Error\")\n",
    "    \n",
    "else:\n",
    "    \n",
    "    # check with goal_names function\n",
    "    \n",
    "    words_count = []\n",
    "    for goal in goal_names_dir:\n",
    "        \n",
    "        #print (goals[goal])\n",
    "        words_count.append(goal_names_dir[goal])\n",
    "\n",
    "    max_word_count = max(words_count)\n",
    "    \n",
    "    # define goal with biggest number of keywords found\n",
    "    \n",
    "    goal_to_use_id = \"\"\n",
    "\n",
    "    for goal in goal_names_dir:\n",
    "        if goal_names_dir[goal] == max_word_count:\n",
    "            goal_to_use_id = goal\n",
    "            \n",
    "goal_to_use_id"
   ]
  },
  {
   "cell_type": "code",
   "execution_count": 226,
   "metadata": {
    "collapsed": false
   },
   "outputs": [
    {
     "data": {
      "text/plain": [
       "'contact form submission'"
      ]
     },
     "execution_count": 226,
     "metadata": {},
     "output_type": "execute_result"
    }
   ],
   "source": [
    "goal_to_use_name = \"\"\n",
    "\n",
    "for goal in goals:\n",
    "    if goal == goal_to_use_id:\n",
    "        goal_to_use_name = goals[goal]['name']\n",
    "        \n",
    "goal_to_use_name"
   ]
  },
  {
   "cell_type": "markdown",
   "metadata": {},
   "source": [
    "### Check number of events"
   ]
  },
  {
   "cell_type": "code",
   "execution_count": 227,
   "metadata": {
    "collapsed": false
   },
   "outputs": [],
   "source": [
    "#POST https://analyticsreporting.googleapis.com/v4/reports:batchGet?\\fields=reports(columnHeader(dimensions%2CmetricHeader%2FmetricHeaderEntries)%2Cdata%2Frows)&key={YOUR_API_KEY}\"\n",
    " \n",
    "request = {\n",
    " \"reportRequests\": [\n",
    "  {\n",
    "   \"viewId\": \"123303369\",\n",
    "   \"dateRanges\": [\n",
    "    {\n",
    "     \"startDate\": \"2017-01-01\",\n",
    "     \"endDate\": \"2017-04-30\"\n",
    "    }\n",
    "   ],\n",
    "   \"metrics\": [\n",
    "    {\n",
    "     \"expression\": \"ga:totalEvents\"\n",
    "    }\n",
    "   ],\n",
    "   \"dimensions\": [\n",
    "    {\n",
    "     \"name\": \"ga:eventCategory\"\n",
    "    },\n",
    "    {\n",
    "     \"name\": \"ga:eventAction\"\n",
    "    },\n",
    "    {\n",
    "     \"name\": \"ga:eventLabel\"\n",
    "    }\n",
    "   ]\n",
    "  }\n",
    " ]\n",
    "}"
   ]
  },
  {
   "cell_type": "code",
   "execution_count": 228,
   "metadata": {
    "collapsed": false
   },
   "outputs": [
    {
     "data": {
      "text/plain": [
       "{'reports': [{'columnHeader': {'dimensions': ['ga:eventCategory',\n",
       "     'ga:eventAction',\n",
       "     'ga:eventLabel'],\n",
       "    'metricHeader': {'metricHeaderEntries': [{'name': 'ga:totalEvents',\n",
       "       'type': 'INTEGER'}]}},\n",
       "   'data': {'rows': [{'dimensions': ['Event', 'Form', 'Submitted'],\n",
       "      'metrics': [{'values': ['199']}]},\n",
       "     {'dimensions': ['Link', 'Click', 'Clicked'],\n",
       "      'metrics': [{'values': ['6']}]}]}}]}"
      ]
     },
     "execution_count": 228,
     "metadata": {},
     "output_type": "execute_result"
    }
   ],
   "source": [
    "import json\n",
    "\n",
    "with open('files/TMRW_events.json') as file: \n",
    "    input_events = json.load(file)\n",
    "\n",
    "input_events"
   ]
  },
  {
   "cell_type": "code",
   "execution_count": 229,
   "metadata": {
    "collapsed": false
   },
   "outputs": [
    {
     "data": {
      "text/plain": [
       "['ga:eventCategory', 'ga:eventAction', 'ga:eventLabel']"
      ]
     },
     "execution_count": 229,
     "metadata": {},
     "output_type": "execute_result"
    }
   ],
   "source": [
    "# Define dimensions list\n",
    "input_events_dimensions = input_events['reports'][0]['columnHeader']['dimensions']\n",
    "\n",
    "input_events_dimensions"
   ]
  },
  {
   "cell_type": "code",
   "execution_count": 230,
   "metadata": {
    "collapsed": false
   },
   "outputs": [
    {
     "data": {
      "text/plain": [
       "['ga:totalEvents']"
      ]
     },
     "execution_count": 230,
     "metadata": {},
     "output_type": "execute_result"
    }
   ],
   "source": [
    "# Define metrics list\n",
    "input_events_metrics = input_events['reports'][0]['columnHeader']['metricHeader']['metricHeaderEntries']\n",
    "\n",
    "def create_metric_list(raw_data):\n",
    "    lst = []\n",
    "    for item in raw_data:\n",
    "        lst.append(item['name'])\n",
    "    return lst\n",
    "\n",
    "input_events_metrics = create_metric_list(input_events_metrics)\n",
    "\n",
    "input_events_metrics"
   ]
  },
  {
   "cell_type": "code",
   "execution_count": 231,
   "metadata": {
    "collapsed": true
   },
   "outputs": [],
   "source": [
    "#checking count of events\n",
    "\n",
    "input_events_data = input_events['reports'][0]['data']['rows']\n",
    "\n",
    "events_count = len(input_events_data)"
   ]
  },
  {
   "cell_type": "markdown",
   "metadata": {},
   "source": [
    "### Print"
   ]
  },
  {
   "cell_type": "code",
   "execution_count": 232,
   "metadata": {
    "collapsed": false
   },
   "outputs": [
    {
     "name": "stdout",
     "output_type": "stream",
     "text": [
      "Goals - 3 goals detected\n",
      "Goal1 'Contact Form Submission' is used as a main conversion\n",
      "Events - 2 events detected\n",
      "Set event tags to enable more user analytics features\n"
     ]
    }
   ],
   "source": [
    "print(\"Goals - %s goals detected\" % goals_count)\n",
    "\n",
    "print(\"%s \\'%s\\' is used as a main conversion\" % (goal_to_use_id.title(),goal_to_use_name.title()))\n",
    "\n",
    "print(\"Events - %s events detected\" % events_count)\n",
    "\n",
    "if events_count < 5:\n",
    "    \n",
    "    print(\"Set event tags to enable more user analytics features\")"
   ]
  },
  {
   "cell_type": "code",
   "execution_count": null,
   "metadata": {
    "collapsed": true
   },
   "outputs": [],
   "source": []
  },
  {
   "cell_type": "code",
   "execution_count": null,
   "metadata": {
    "collapsed": true
   },
   "outputs": [],
   "source": []
  }
 ],
 "metadata": {
  "kernelspec": {
   "display_name": "Python 3",
   "language": "python",
   "name": "python3"
  },
  "language_info": {
   "codemirror_mode": {
    "name": "ipython",
    "version": 3
   },
   "file_extension": ".py",
   "mimetype": "text/x-python",
   "name": "python",
   "nbconvert_exporter": "python",
   "pygments_lexer": "ipython3",
   "version": "3.6.0"
  }
 },
 "nbformat": 4,
 "nbformat_minor": 2
}
