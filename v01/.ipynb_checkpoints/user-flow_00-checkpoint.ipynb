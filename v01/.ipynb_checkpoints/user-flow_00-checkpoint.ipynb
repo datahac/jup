{
 "cells": [
  {
   "cell_type": "markdown",
   "metadata": {},
   "source": [
    "# User flow - Conversions by pages\n",
    "\n",
    "\n",
    "### 0. Import libraries"
   ]
  },
  {
   "cell_type": "code",
   "execution_count": 1,
   "metadata": {
    "collapsed": true
   },
   "outputs": [],
   "source": [
    "%matplotlib inline \n",
    "\n",
    "import numpy as np\n",
    "import scipy as sp\n",
    "import matplotlib as mpl\n",
    "import matplotlib.cm as cm\n",
    "import matplotlib.pyplot as plt\n",
    "import pandas as pd\n",
    "\n",
    "pd.set_option('display.width', 500)\n",
    "pd.set_option('display.max_columns', 100)\n",
    "pd.set_option('display.notebook_repr_html', True)\n",
    "import seaborn as sns #sets up styles and gives us more plotting options\n"
   ]
  },
  {
   "cell_type": "markdown",
   "metadata": {},
   "source": [
    "### 1. Settings"
   ]
  },
  {
   "cell_type": "code",
   "execution_count": 2,
   "metadata": {
    "collapsed": true
   },
   "outputs": [],
   "source": [
    "# Time period 1st Jan - 30th April (arbitrary )\n",
    "\n",
    "# API credentials\n",
    "# Email address 705762800217-compute@developer.gserviceaccount.com\n",
    "# Key IDs 948ee8e2a420ef14a5d5a29bd35104fe2f1e6ed4\n",
    " "
   ]
  },
  {
   "cell_type": "code",
   "execution_count": 3,
   "metadata": {
    "collapsed": true
   },
   "outputs": [],
   "source": [
    "# open file. It is requested via API explorer using request parameters:\n",
    "\n",
    "#Account: TMRW Tech Hub\n",
    "#Property: TMRW\n",
    "#View: All Web Site Data\n",
    "#ids: ga:123303369\n",
    "#start-date: 2017-02-01\n",
    "#end-date: 2017-04-30\n",
    "\n",
    "#metrics\n",
    "#ga:sessions\n",
    "#ga:sessionsWithEvent\n",
    "\n",
    "#dimensions\n",
    "#ga:pagePath\n",
    "\n",
    "#sort\n",
    "#-ga:sessionsWithEvent\n",
    "\n",
    "#filter\n",
    "#ga:sessions>10"
   ]
  },
  {
   "cell_type": "markdown",
   "metadata": {},
   "source": [
    "### 2. Data import & transformation"
   ]
  },
  {
   "cell_type": "code",
   "execution_count": 4,
   "metadata": {
    "collapsed": false,
    "scrolled": true
   },
   "outputs": [
    {
     "data": {
      "text/html": [
       "<div>\n",
       "<table border=\"1\" class=\"dataframe\">\n",
       "  <thead>\n",
       "    <tr style=\"text-align: right;\">\n",
       "      <th></th>\n",
       "      <th>Page</th>\n",
       "      <th>Sessions</th>\n",
       "      <th>Conversions</th>\n",
       "      <th>CR</th>\n",
       "    </tr>\n",
       "  </thead>\n",
       "  <tbody>\n",
       "    <tr>\n",
       "      <th>0</th>\n",
       "      <td>'/</td>\n",
       "      <td>4436</td>\n",
       "      <td>82</td>\n",
       "      <td>0.018485</td>\n",
       "    </tr>\n",
       "    <tr>\n",
       "      <th>1</th>\n",
       "      <td>'/TMRW_FAQs.php</td>\n",
       "      <td>100</td>\n",
       "      <td>26</td>\n",
       "      <td>0.260000</td>\n",
       "    </tr>\n",
       "    <tr>\n",
       "      <th>2</th>\n",
       "      <td>'/TMRW_Byte_Cafe.php</td>\n",
       "      <td>218</td>\n",
       "      <td>23</td>\n",
       "      <td>0.105505</td>\n",
       "    </tr>\n",
       "    <tr>\n",
       "      <th>3</th>\n",
       "      <td>'/TMRW_the_team.php</td>\n",
       "      <td>99</td>\n",
       "      <td>10</td>\n",
       "      <td>0.101010</td>\n",
       "    </tr>\n",
       "  </tbody>\n",
       "</table>\n",
       "</div>"
      ],
      "text/plain": [
       "                   Page  Sessions  Conversions        CR\n",
       "0                    '/      4436           82  0.018485\n",
       "1       '/TMRW_FAQs.php       100           26  0.260000\n",
       "2  '/TMRW_Byte_Cafe.php       218           23  0.105505\n",
       "3   '/TMRW_the_team.php        99           10  0.101010"
      ]
     },
     "execution_count": 4,
     "metadata": {},
     "output_type": "execute_result"
    }
   ],
   "source": [
    "# Open file\n",
    "# original file exported from GA includes ga:pagePath,ga:sessions,ga:sessionsWithEvent\n",
    "# Calculate \"cr\" as \"Sessions with event\"/\"Sessions\" for each page.\n",
    "\n",
    "input_flow= pd.read_csv('files/TMRW_events.csv')\n",
    "\n",
    "# rename columns\n",
    "input_flow.columns=['Page','Sessions','Conversions','CR']\n",
    "\n",
    "# filter page with CR > 0\n",
    "input_flow = input_flow[input_flow.CR > 0]\n",
    "\n",
    "# group by page\n",
    "input_flow_index = input_flow.set_index('Page')\n",
    "input_flow"
   ]
  },
  {
   "cell_type": "markdown",
   "metadata": {},
   "source": [
    "### 3. Calculate"
   ]
  },
  {
   "cell_type": "code",
   "execution_count": 8,
   "metadata": {
    "collapsed": false
   },
   "outputs": [],
   "source": [
    "homepage_CR = \"%.2f\"%(input_flow_index.loc['\\'/','CR']*100)\n",
    "\n",
    "input_flow_cr = input_flow.set_index('CR')\n",
    "\n",
    "max_cr = max(input_flow.loc[:,'CR'])\n",
    "best_page = input_flow_cr.loc[max_cr,'Page']"
   ]
  },
  {
   "cell_type": "markdown",
   "metadata": {},
   "source": [
    "### 4. Validate"
   ]
  },
  {
   "cell_type": "markdown",
   "metadata": {},
   "source": [
    "### 5. Visualise"
   ]
  },
  {
   "cell_type": "code",
   "execution_count": 15,
   "metadata": {
    "collapsed": false,
    "scrolled": false
   },
   "outputs": [
    {
     "data": {
      "text/html": [
       "\n",
       "    <div class=\"bk-root\">\n",
       "        <a href=\"http://bokeh.pydata.org\" target=\"_blank\" class=\"bk-logo bk-logo-small bk-logo-notebook\"></a>\n",
       "        <span id=\"b7d9e6d8-0c91-4de4-b89c-f87512fbeb3c\">Loading BokehJS ...</span>\n",
       "    </div>"
      ]
     },
     "metadata": {},
     "output_type": "display_data"
    },
    {
     "data": {
      "application/javascript": [
       "\n",
       "(function(global) {\n",
       "  function now() {\n",
       "    return new Date();\n",
       "  }\n",
       "\n",
       "  var force = \"1\";\n",
       "\n",
       "  if (typeof (window._bokeh_onload_callbacks) === \"undefined\" || force !== \"\") {\n",
       "    window._bokeh_onload_callbacks = [];\n",
       "    window._bokeh_is_loading = undefined;\n",
       "  }\n",
       "\n",
       "\n",
       "  \n",
       "  if (typeof (window._bokeh_timeout) === \"undefined\" || force !== \"\") {\n",
       "    window._bokeh_timeout = Date.now() + 5000;\n",
       "    window._bokeh_failed_load = false;\n",
       "  }\n",
       "\n",
       "  var NB_LOAD_WARNING = {'data': {'text/html':\n",
       "     \"<div style='background-color: #fdd'>\\n\"+\n",
       "     \"<p>\\n\"+\n",
       "     \"BokehJS does not appear to have successfully loaded. If loading BokehJS from CDN, this \\n\"+\n",
       "     \"may be due to a slow or bad network connection. Possible fixes:\\n\"+\n",
       "     \"</p>\\n\"+\n",
       "     \"<ul>\\n\"+\n",
       "     \"<li>re-rerun `output_notebook()` to attempt to load from CDN again, or</li>\\n\"+\n",
       "     \"<li>use INLINE resources instead, as so:</li>\\n\"+\n",
       "     \"</ul>\\n\"+\n",
       "     \"<code>\\n\"+\n",
       "     \"from bokeh.resources import INLINE\\n\"+\n",
       "     \"output_notebook(resources=INLINE)\\n\"+\n",
       "     \"</code>\\n\"+\n",
       "     \"</div>\"}};\n",
       "\n",
       "  function display_loaded() {\n",
       "    if (window.Bokeh !== undefined) {\n",
       "      Bokeh.$(\"#b7d9e6d8-0c91-4de4-b89c-f87512fbeb3c\").text(\"BokehJS successfully loaded.\");\n",
       "    } else if (Date.now() < window._bokeh_timeout) {\n",
       "      setTimeout(display_loaded, 100)\n",
       "    }\n",
       "  }\n",
       "\n",
       "  function run_callbacks() {\n",
       "    window._bokeh_onload_callbacks.forEach(function(callback) { callback() });\n",
       "    delete window._bokeh_onload_callbacks\n",
       "    console.info(\"Bokeh: all callbacks have finished\");\n",
       "  }\n",
       "\n",
       "  function load_libs(js_urls, callback) {\n",
       "    window._bokeh_onload_callbacks.push(callback);\n",
       "    if (window._bokeh_is_loading > 0) {\n",
       "      console.log(\"Bokeh: BokehJS is being loaded, scheduling callback at\", now());\n",
       "      return null;\n",
       "    }\n",
       "    if (js_urls == null || js_urls.length === 0) {\n",
       "      run_callbacks();\n",
       "      return null;\n",
       "    }\n",
       "    console.log(\"Bokeh: BokehJS not loaded, scheduling load and callback at\", now());\n",
       "    window._bokeh_is_loading = js_urls.length;\n",
       "    for (var i = 0; i < js_urls.length; i++) {\n",
       "      var url = js_urls[i];\n",
       "      var s = document.createElement('script');\n",
       "      s.src = url;\n",
       "      s.async = false;\n",
       "      s.onreadystatechange = s.onload = function() {\n",
       "        window._bokeh_is_loading--;\n",
       "        if (window._bokeh_is_loading === 0) {\n",
       "          console.log(\"Bokeh: all BokehJS libraries loaded\");\n",
       "          run_callbacks()\n",
       "        }\n",
       "      };\n",
       "      s.onerror = function() {\n",
       "        console.warn(\"failed to load library \" + url);\n",
       "      };\n",
       "      console.log(\"Bokeh: injecting script tag for BokehJS library: \", url);\n",
       "      document.getElementsByTagName(\"head\")[0].appendChild(s);\n",
       "    }\n",
       "  };var element = document.getElementById(\"b7d9e6d8-0c91-4de4-b89c-f87512fbeb3c\");\n",
       "  if (element == null) {\n",
       "    console.log(\"Bokeh: ERROR: autoload.js configured with elementid 'b7d9e6d8-0c91-4de4-b89c-f87512fbeb3c' but no matching script tag was found. \")\n",
       "    return false;\n",
       "  }\n",
       "\n",
       "  var js_urls = ['https://cdn.pydata.org/bokeh/release/bokeh-0.12.3.min.js', 'https://cdn.pydata.org/bokeh/release/bokeh-widgets-0.12.3.min.js'];\n",
       "\n",
       "  var inline_js = [\n",
       "    function(Bokeh) {\n",
       "      Bokeh.set_log_level(\"info\");\n",
       "    },\n",
       "    \n",
       "    function(Bokeh) {\n",
       "      \n",
       "      Bokeh.$(\"#b7d9e6d8-0c91-4de4-b89c-f87512fbeb3c\").text(\"BokehJS is loading...\");\n",
       "    },\n",
       "    function(Bokeh) {\n",
       "      console.log(\"Bokeh: injecting CSS: https://cdn.pydata.org/bokeh/release/bokeh-0.12.3.min.css\");\n",
       "      Bokeh.embed.inject_css(\"https://cdn.pydata.org/bokeh/release/bokeh-0.12.3.min.css\");\n",
       "      console.log(\"Bokeh: injecting CSS: https://cdn.pydata.org/bokeh/release/bokeh-widgets-0.12.3.min.css\");\n",
       "      Bokeh.embed.inject_css(\"https://cdn.pydata.org/bokeh/release/bokeh-widgets-0.12.3.min.css\");\n",
       "    }\n",
       "  ];\n",
       "\n",
       "  function run_inline_js() {\n",
       "    \n",
       "    if ((window.Bokeh !== undefined) || (force === \"1\")) {\n",
       "      for (var i = 0; i < inline_js.length; i++) {\n",
       "        inline_js[i](window.Bokeh);\n",
       "      }if (force === \"1\") {\n",
       "        display_loaded();\n",
       "      }} else if (Date.now() < window._bokeh_timeout) {\n",
       "      setTimeout(run_inline_js, 100);\n",
       "    } else if (!window._bokeh_failed_load) {\n",
       "      console.log(\"Bokeh: BokehJS failed to load within specified timeout.\");\n",
       "      window._bokeh_failed_load = true;\n",
       "    } else if (!force) {\n",
       "      var cell = $(\"#b7d9e6d8-0c91-4de4-b89c-f87512fbeb3c\").parents('.cell').data().cell;\n",
       "      cell.output_area.append_execute_result(NB_LOAD_WARNING)\n",
       "    }\n",
       "\n",
       "  }\n",
       "\n",
       "  if (window._bokeh_is_loading === 0) {\n",
       "    console.log(\"Bokeh: BokehJS loaded, going straight to plotting\");\n",
       "    run_inline_js();\n",
       "  } else {\n",
       "    load_libs(js_urls, function() {\n",
       "      console.log(\"Bokeh: BokehJS plotting callback run at\", now());\n",
       "      run_inline_js();\n",
       "    });\n",
       "  }\n",
       "}(this));"
      ]
     },
     "metadata": {},
     "output_type": "display_data"
    },
    {
     "data": {
      "text/html": [
       "\n",
       "\n",
       "    <div class=\"bk-root\">\n",
       "        <div class=\"plotdiv\" id=\"924dbc01-ae10-44c4-ae88-702b5bfa1c67\"></div>\n",
       "    </div>\n",
       "<script type=\"text/javascript\">\n",
       "  \n",
       "  (function(global) {\n",
       "    function now() {\n",
       "      return new Date();\n",
       "    }\n",
       "  \n",
       "    var force = \"\";\n",
       "  \n",
       "    if (typeof (window._bokeh_onload_callbacks) === \"undefined\" || force !== \"\") {\n",
       "      window._bokeh_onload_callbacks = [];\n",
       "      window._bokeh_is_loading = undefined;\n",
       "    }\n",
       "  \n",
       "  \n",
       "    \n",
       "    if (typeof (window._bokeh_timeout) === \"undefined\" || force !== \"\") {\n",
       "      window._bokeh_timeout = Date.now() + 0;\n",
       "      window._bokeh_failed_load = false;\n",
       "    }\n",
       "  \n",
       "    var NB_LOAD_WARNING = {'data': {'text/html':\n",
       "       \"<div style='background-color: #fdd'>\\n\"+\n",
       "       \"<p>\\n\"+\n",
       "       \"BokehJS does not appear to have successfully loaded. If loading BokehJS from CDN, this \\n\"+\n",
       "       \"may be due to a slow or bad network connection. Possible fixes:\\n\"+\n",
       "       \"</p>\\n\"+\n",
       "       \"<ul>\\n\"+\n",
       "       \"<li>re-rerun `output_notebook()` to attempt to load from CDN again, or</li>\\n\"+\n",
       "       \"<li>use INLINE resources instead, as so:</li>\\n\"+\n",
       "       \"</ul>\\n\"+\n",
       "       \"<code>\\n\"+\n",
       "       \"from bokeh.resources import INLINE\\n\"+\n",
       "       \"output_notebook(resources=INLINE)\\n\"+\n",
       "       \"</code>\\n\"+\n",
       "       \"</div>\"}};\n",
       "  \n",
       "    function display_loaded() {\n",
       "      if (window.Bokeh !== undefined) {\n",
       "        Bokeh.$(\"#924dbc01-ae10-44c4-ae88-702b5bfa1c67\").text(\"BokehJS successfully loaded.\");\n",
       "      } else if (Date.now() < window._bokeh_timeout) {\n",
       "        setTimeout(display_loaded, 100)\n",
       "      }\n",
       "    }\n",
       "  \n",
       "    function run_callbacks() {\n",
       "      window._bokeh_onload_callbacks.forEach(function(callback) { callback() });\n",
       "      delete window._bokeh_onload_callbacks\n",
       "      console.info(\"Bokeh: all callbacks have finished\");\n",
       "    }\n",
       "  \n",
       "    function load_libs(js_urls, callback) {\n",
       "      window._bokeh_onload_callbacks.push(callback);\n",
       "      if (window._bokeh_is_loading > 0) {\n",
       "        console.log(\"Bokeh: BokehJS is being loaded, scheduling callback at\", now());\n",
       "        return null;\n",
       "      }\n",
       "      if (js_urls == null || js_urls.length === 0) {\n",
       "        run_callbacks();\n",
       "        return null;\n",
       "      }\n",
       "      console.log(\"Bokeh: BokehJS not loaded, scheduling load and callback at\", now());\n",
       "      window._bokeh_is_loading = js_urls.length;\n",
       "      for (var i = 0; i < js_urls.length; i++) {\n",
       "        var url = js_urls[i];\n",
       "        var s = document.createElement('script');\n",
       "        s.src = url;\n",
       "        s.async = false;\n",
       "        s.onreadystatechange = s.onload = function() {\n",
       "          window._bokeh_is_loading--;\n",
       "          if (window._bokeh_is_loading === 0) {\n",
       "            console.log(\"Bokeh: all BokehJS libraries loaded\");\n",
       "            run_callbacks()\n",
       "          }\n",
       "        };\n",
       "        s.onerror = function() {\n",
       "          console.warn(\"failed to load library \" + url);\n",
       "        };\n",
       "        console.log(\"Bokeh: injecting script tag for BokehJS library: \", url);\n",
       "        document.getElementsByTagName(\"head\")[0].appendChild(s);\n",
       "      }\n",
       "    };var element = document.getElementById(\"924dbc01-ae10-44c4-ae88-702b5bfa1c67\");\n",
       "    if (element == null) {\n",
       "      console.log(\"Bokeh: ERROR: autoload.js configured with elementid '924dbc01-ae10-44c4-ae88-702b5bfa1c67' but no matching script tag was found. \")\n",
       "      return false;\n",
       "    }\n",
       "  \n",
       "    var js_urls = [];\n",
       "  \n",
       "    var inline_js = [\n",
       "      function(Bokeh) {\n",
       "        Bokeh.$(function() {\n",
       "            var docs_json = {\"78814a85-c9d3-44f6-86e5-ac7cc5617b7c\":{\"roots\":{\"references\":[{\"attributes\":{\"callback\":null,\"column_names\":[\"x\",\"y\",\"width\",\"height\",\"color\",\"fill_alpha\",\"line_color\",\"line_alpha\",\"label\"],\"data\":{\"Page\":[\"'/TMRW_Byte_Cafe.php\"],\"chart_index\":[{\"Page\":\"'/TMRW_Byte_Cafe.php\"}],\"color\":[\"#f22c40\"],\"fill_alpha\":[0.8],\"height\":[0.105504587],\"label\":[{\"Page\":\"'/TMRW_Byte_Cafe.php\"}],\"line_alpha\":[1.0],\"line_color\":[\"white\"],\"width\":[0.8],\"x\":[\"'/TMRW_Byte_Cafe.php\"],\"y\":[0.0527522935]}},\"id\":\"a7218911-cc7d-40c7-bfad-c143c1a3d44b\",\"type\":\"ColumnDataSource\"},{\"attributes\":{\"label\":{\"value\":\"'/\"},\"renderers\":[{\"id\":\"b45dcd70-e637-4d40-99e4-ba6df7e0a409\",\"type\":\"GlyphRenderer\"}]},\"id\":\"275c97f6-2e6e-4d6a-82a9-0ce4549dea73\",\"type\":\"LegendItem\"},{\"attributes\":{\"below\":[{\"id\":\"7139bbec-061c-459a-8056-d4723fe21b04\",\"type\":\"CategoricalAxis\"}],\"left\":[{\"id\":\"26bb37bb-a9e3-46a1-914b-fce390fb0d86\",\"type\":\"LinearAxis\"}],\"renderers\":[{\"id\":\"817a9eb5-7bbf-46c7-91d9-8baf454ff76c\",\"type\":\"BoxAnnotation\"},{\"id\":\"b45dcd70-e637-4d40-99e4-ba6df7e0a409\",\"type\":\"GlyphRenderer\"},{\"id\":\"0fe7eeee-74ab-473f-9aa5-eceb6ca00f7b\",\"type\":\"GlyphRenderer\"},{\"id\":\"6dfd6568-0684-4785-b202-d74f8ad1ca18\",\"type\":\"GlyphRenderer\"},{\"id\":\"b6a32771-bd3b-4513-84a4-ac3e10f3efcf\",\"type\":\"GlyphRenderer\"},{\"id\":\"7319ba86-2fa6-4559-ac27-65a48781bfb2\",\"type\":\"Legend\"},{\"id\":\"7139bbec-061c-459a-8056-d4723fe21b04\",\"type\":\"CategoricalAxis\"},{\"id\":\"26bb37bb-a9e3-46a1-914b-fce390fb0d86\",\"type\":\"LinearAxis\"},{\"id\":\"ad83a7ef-f02d-4179-ae7f-b781e4a2018a\",\"type\":\"Grid\"}],\"title\":{\"id\":\"4a49f794-fc74-4753-9e7f-6c15957f1191\",\"type\":\"Title\"},\"tool_events\":{\"id\":\"9e169c11-2054-47df-ae00-abd1febcf612\",\"type\":\"ToolEvents\"},\"toolbar\":{\"id\":\"9f798c29-fd70-45ac-a8c6-6262a57a16b9\",\"type\":\"Toolbar\"},\"x_mapper_type\":\"auto\",\"x_range\":{\"id\":\"3a98df90-7fa0-406c-a299-fb4308cf664e\",\"type\":\"FactorRange\"},\"y_mapper_type\":\"auto\",\"y_range\":{\"id\":\"346da05f-c631-4f1f-85e2-42a5bef1ca3d\",\"type\":\"Range1d\"}},\"id\":\"68035de2-69b7-4f83-8c2b-d14c49cc074b\",\"subtype\":\"Chart\",\"type\":\"Plot\"},{\"attributes\":{},\"id\":\"9e169c11-2054-47df-ae00-abd1febcf612\",\"type\":\"ToolEvents\"},{\"attributes\":{},\"id\":\"9195a93b-b39c-4751-8133-bf6816d60415\",\"type\":\"CategoricalTickFormatter\"},{\"attributes\":{\"data_source\":{\"id\":\"a83f8ff2-129b-4c6b-885b-4268baa04d70\",\"type\":\"ColumnDataSource\"},\"glyph\":{\"id\":\"d9369d50-23ca-4b87-bd69-447ba40eed15\",\"type\":\"Rect\"},\"hover_glyph\":null,\"nonselection_glyph\":null,\"selection_glyph\":null},\"id\":\"0fe7eeee-74ab-473f-9aa5-eceb6ca00f7b\",\"type\":\"GlyphRenderer\"},{\"attributes\":{\"items\":[{\"id\":\"275c97f6-2e6e-4d6a-82a9-0ce4549dea73\",\"type\":\"LegendItem\"},{\"id\":\"9631bfb3-d5be-4eb9-aa7e-6ac9bc479a12\",\"type\":\"LegendItem\"},{\"id\":\"c413c656-6c87-4cfd-b093-21f09a0e46e0\",\"type\":\"LegendItem\"},{\"id\":\"fab47d1e-61d5-415b-ad70-600819c31902\",\"type\":\"LegendItem\"}],\"location\":\"top_right\",\"plot\":{\"id\":\"68035de2-69b7-4f83-8c2b-d14c49cc074b\",\"subtype\":\"Chart\",\"type\":\"Plot\"}},\"id\":\"7319ba86-2fa6-4559-ac27-65a48781bfb2\",\"type\":\"Legend\"},{\"attributes\":{\"axis_label\":\"Sum( Cr )\",\"formatter\":{\"id\":\"622edb12-7915-49da-97bb-e0b2af39d728\",\"type\":\"BasicTickFormatter\"},\"plot\":{\"id\":\"68035de2-69b7-4f83-8c2b-d14c49cc074b\",\"subtype\":\"Chart\",\"type\":\"Plot\"},\"ticker\":{\"id\":\"c4fcfa2b-330b-40b8-8b5f-599c8a586d0c\",\"type\":\"BasicTicker\"}},\"id\":\"26bb37bb-a9e3-46a1-914b-fce390fb0d86\",\"type\":\"LinearAxis\"},{\"attributes\":{\"dimension\":1,\"plot\":{\"id\":\"68035de2-69b7-4f83-8c2b-d14c49cc074b\",\"subtype\":\"Chart\",\"type\":\"Plot\"},\"ticker\":{\"id\":\"c4fcfa2b-330b-40b8-8b5f-599c8a586d0c\",\"type\":\"BasicTicker\"}},\"id\":\"ad83a7ef-f02d-4179-ae7f-b781e4a2018a\",\"type\":\"Grid\"},{\"attributes\":{\"label\":{\"value\":\"'/TMRW_Byte_Cafe.php\"},\"renderers\":[{\"id\":\"6dfd6568-0684-4785-b202-d74f8ad1ca18\",\"type\":\"GlyphRenderer\"}]},\"id\":\"c413c656-6c87-4cfd-b093-21f09a0e46e0\",\"type\":\"LegendItem\"},{\"attributes\":{\"active_drag\":\"auto\",\"active_scroll\":\"auto\",\"active_tap\":\"auto\",\"tools\":[{\"id\":\"58ceae7f-1aeb-4e30-8094-275a491e3e3f\",\"type\":\"PanTool\"},{\"id\":\"23fc05f4-8603-4d97-96c6-07269495d208\",\"type\":\"WheelZoomTool\"},{\"id\":\"cd018272-ac5d-4601-9ef1-46ce36ca30b9\",\"type\":\"BoxZoomTool\"},{\"id\":\"332dac97-9e4d-43a2-8c9d-414fb6c63822\",\"type\":\"SaveTool\"},{\"id\":\"b5c515f6-c0c7-462c-803f-791ca5ee14de\",\"type\":\"ResetTool\"},{\"id\":\"afb85e0f-f808-4bb8-bc28-4711d98ea33f\",\"type\":\"HelpTool\"}]},\"id\":\"9f798c29-fd70-45ac-a8c6-6262a57a16b9\",\"type\":\"Toolbar\"},{\"attributes\":{\"callback\":null,\"end\":0.273},\"id\":\"346da05f-c631-4f1f-85e2-42a5bef1ca3d\",\"type\":\"Range1d\"},{\"attributes\":{\"plot\":null,\"text\":\"The best converting page on your site is '/TMRW_FAQs.php\"},\"id\":\"4a49f794-fc74-4753-9e7f-6c15957f1191\",\"type\":\"Title\"},{\"attributes\":{\"label\":{\"value\":\"'/TMRW_FAQs.php\"},\"renderers\":[{\"id\":\"0fe7eeee-74ab-473f-9aa5-eceb6ca00f7b\",\"type\":\"GlyphRenderer\"}]},\"id\":\"9631bfb3-d5be-4eb9-aa7e-6ac9bc479a12\",\"type\":\"LegendItem\"},{\"attributes\":{\"plot\":{\"id\":\"68035de2-69b7-4f83-8c2b-d14c49cc074b\",\"subtype\":\"Chart\",\"type\":\"Plot\"}},\"id\":\"23fc05f4-8603-4d97-96c6-07269495d208\",\"type\":\"WheelZoomTool\"},{\"attributes\":{\"fill_alpha\":{\"field\":\"fill_alpha\"},\"fill_color\":{\"field\":\"color\"},\"height\":{\"field\":\"height\",\"units\":\"data\"},\"line_color\":{\"field\":\"line_color\"},\"width\":{\"field\":\"width\",\"units\":\"data\"},\"x\":{\"field\":\"x\"},\"y\":{\"field\":\"y\"}},\"id\":\"84aff87c-216d-4a73-b0d0-712108e807c7\",\"type\":\"Rect\"},{\"attributes\":{\"label\":{\"value\":\"'/TMRW_the_team.php\"},\"renderers\":[{\"id\":\"b6a32771-bd3b-4513-84a4-ac3e10f3efcf\",\"type\":\"GlyphRenderer\"}]},\"id\":\"fab47d1e-61d5-415b-ad70-600819c31902\",\"type\":\"LegendItem\"},{\"attributes\":{\"callback\":null,\"column_names\":[\"x\",\"y\",\"width\",\"height\",\"color\",\"fill_alpha\",\"line_color\",\"line_alpha\",\"label\"],\"data\":{\"Page\":[\"'/TMRW_FAQs.php\"],\"chart_index\":[{\"Page\":\"'/TMRW_FAQs.php\"}],\"color\":[\"#f22c40\"],\"fill_alpha\":[0.8],\"height\":[0.26],\"label\":[{\"Page\":\"'/TMRW_FAQs.php\"}],\"line_alpha\":[1.0],\"line_color\":[\"white\"],\"width\":[0.8],\"x\":[\"'/TMRW_FAQs.php\"],\"y\":[0.13]}},\"id\":\"a83f8ff2-129b-4c6b-885b-4268baa04d70\",\"type\":\"ColumnDataSource\"},{\"attributes\":{\"fill_alpha\":{\"field\":\"fill_alpha\"},\"fill_color\":{\"field\":\"color\"},\"height\":{\"field\":\"height\",\"units\":\"data\"},\"line_color\":{\"field\":\"line_color\"},\"width\":{\"field\":\"width\",\"units\":\"data\"},\"x\":{\"field\":\"x\"},\"y\":{\"field\":\"y\"}},\"id\":\"626701a7-2a9b-49bc-a73f-eced9a963211\",\"type\":\"Rect\"},{\"attributes\":{\"callback\":null,\"column_names\":[\"x\",\"y\",\"width\",\"height\",\"color\",\"fill_alpha\",\"line_color\",\"line_alpha\",\"label\"],\"data\":{\"Page\":[\"'/\"],\"chart_index\":[{\"Page\":\"'/\"}],\"color\":[\"#f22c40\"],\"fill_alpha\":[0.8],\"height\":[0.018485122],\"label\":[{\"Page\":\"'/\"}],\"line_alpha\":[1.0],\"line_color\":[\"white\"],\"width\":[0.8],\"x\":[\"'/\"],\"y\":[0.009242561]}},\"id\":\"899911d2-4070-4221-a44c-6a4d84b3bdf1\",\"type\":\"ColumnDataSource\"},{\"attributes\":{},\"id\":\"622edb12-7915-49da-97bb-e0b2af39d728\",\"type\":\"BasicTickFormatter\"},{\"attributes\":{\"callback\":null,\"factors\":[\"'/\",\"'/TMRW_Byte_Cafe.php\",\"'/TMRW_FAQs.php\",\"'/TMRW_the_team.php\"]},\"id\":\"3a98df90-7fa0-406c-a299-fb4308cf664e\",\"type\":\"FactorRange\"},{\"attributes\":{\"callback\":null,\"column_names\":[\"x\",\"y\",\"width\",\"height\",\"color\",\"fill_alpha\",\"line_color\",\"line_alpha\",\"label\"],\"data\":{\"Page\":[\"'/TMRW_the_team.php\"],\"chart_index\":[{\"Page\":\"'/TMRW_the_team.php\"}],\"color\":[\"#f22c40\"],\"fill_alpha\":[0.8],\"height\":[0.10101010099999999],\"label\":[{\"Page\":\"'/TMRW_the_team.php\"}],\"line_alpha\":[1.0],\"line_color\":[\"white\"],\"width\":[0.8],\"x\":[\"'/TMRW_the_team.php\"],\"y\":[0.050505050499999996]}},\"id\":\"21aa29aa-11b0-49b8-a6d7-30fa49fb9fc8\",\"type\":\"ColumnDataSource\"},{\"attributes\":{\"plot\":{\"id\":\"68035de2-69b7-4f83-8c2b-d14c49cc074b\",\"subtype\":\"Chart\",\"type\":\"Plot\"}},\"id\":\"58ceae7f-1aeb-4e30-8094-275a491e3e3f\",\"type\":\"PanTool\"},{\"attributes\":{\"axis_label\":\"Page\",\"formatter\":{\"id\":\"9195a93b-b39c-4751-8133-bf6816d60415\",\"type\":\"CategoricalTickFormatter\"},\"major_label_orientation\":0.7853981633974483,\"plot\":{\"id\":\"68035de2-69b7-4f83-8c2b-d14c49cc074b\",\"subtype\":\"Chart\",\"type\":\"Plot\"},\"ticker\":{\"id\":\"4a7cca59-7434-448d-9ae2-60486a596281\",\"type\":\"CategoricalTicker\"}},\"id\":\"7139bbec-061c-459a-8056-d4723fe21b04\",\"type\":\"CategoricalAxis\"},{\"attributes\":{\"fill_alpha\":{\"field\":\"fill_alpha\"},\"fill_color\":{\"field\":\"color\"},\"height\":{\"field\":\"height\",\"units\":\"data\"},\"line_color\":{\"field\":\"line_color\"},\"width\":{\"field\":\"width\",\"units\":\"data\"},\"x\":{\"field\":\"x\"},\"y\":{\"field\":\"y\"}},\"id\":\"f36b7c0d-170d-460d-b9bb-e80802046851\",\"type\":\"Rect\"},{\"attributes\":{\"fill_alpha\":{\"field\":\"fill_alpha\"},\"fill_color\":{\"field\":\"color\"},\"height\":{\"field\":\"height\",\"units\":\"data\"},\"line_color\":{\"field\":\"line_color\"},\"width\":{\"field\":\"width\",\"units\":\"data\"},\"x\":{\"field\":\"x\"},\"y\":{\"field\":\"y\"}},\"id\":\"d9369d50-23ca-4b87-bd69-447ba40eed15\",\"type\":\"Rect\"},{\"attributes\":{\"data_source\":{\"id\":\"a7218911-cc7d-40c7-bfad-c143c1a3d44b\",\"type\":\"ColumnDataSource\"},\"glyph\":{\"id\":\"626701a7-2a9b-49bc-a73f-eced9a963211\",\"type\":\"Rect\"},\"hover_glyph\":null,\"nonselection_glyph\":null,\"selection_glyph\":null},\"id\":\"6dfd6568-0684-4785-b202-d74f8ad1ca18\",\"type\":\"GlyphRenderer\"},{\"attributes\":{\"plot\":{\"id\":\"68035de2-69b7-4f83-8c2b-d14c49cc074b\",\"subtype\":\"Chart\",\"type\":\"Plot\"}},\"id\":\"332dac97-9e4d-43a2-8c9d-414fb6c63822\",\"type\":\"SaveTool\"},{\"attributes\":{},\"id\":\"4a7cca59-7434-448d-9ae2-60486a596281\",\"type\":\"CategoricalTicker\"},{\"attributes\":{},\"id\":\"c4fcfa2b-330b-40b8-8b5f-599c8a586d0c\",\"type\":\"BasicTicker\"},{\"attributes\":{\"plot\":{\"id\":\"68035de2-69b7-4f83-8c2b-d14c49cc074b\",\"subtype\":\"Chart\",\"type\":\"Plot\"}},\"id\":\"b5c515f6-c0c7-462c-803f-791ca5ee14de\",\"type\":\"ResetTool\"},{\"attributes\":{\"data_source\":{\"id\":\"899911d2-4070-4221-a44c-6a4d84b3bdf1\",\"type\":\"ColumnDataSource\"},\"glyph\":{\"id\":\"84aff87c-216d-4a73-b0d0-712108e807c7\",\"type\":\"Rect\"},\"hover_glyph\":null,\"nonselection_glyph\":null,\"selection_glyph\":null},\"id\":\"b45dcd70-e637-4d40-99e4-ba6df7e0a409\",\"type\":\"GlyphRenderer\"},{\"attributes\":{\"data_source\":{\"id\":\"21aa29aa-11b0-49b8-a6d7-30fa49fb9fc8\",\"type\":\"ColumnDataSource\"},\"glyph\":{\"id\":\"f36b7c0d-170d-460d-b9bb-e80802046851\",\"type\":\"Rect\"},\"hover_glyph\":null,\"nonselection_glyph\":null,\"selection_glyph\":null},\"id\":\"b6a32771-bd3b-4513-84a4-ac3e10f3efcf\",\"type\":\"GlyphRenderer\"},{\"attributes\":{\"plot\":{\"id\":\"68035de2-69b7-4f83-8c2b-d14c49cc074b\",\"subtype\":\"Chart\",\"type\":\"Plot\"}},\"id\":\"afb85e0f-f808-4bb8-bc28-4711d98ea33f\",\"type\":\"HelpTool\"},{\"attributes\":{\"bottom_units\":\"screen\",\"fill_alpha\":{\"value\":0.5},\"fill_color\":{\"value\":\"lightgrey\"},\"left_units\":\"screen\",\"level\":\"overlay\",\"line_alpha\":{\"value\":1.0},\"line_color\":{\"value\":\"black\"},\"line_dash\":[4,4],\"line_width\":{\"value\":2},\"plot\":null,\"render_mode\":\"css\",\"right_units\":\"screen\",\"top_units\":\"screen\"},\"id\":\"817a9eb5-7bbf-46c7-91d9-8baf454ff76c\",\"type\":\"BoxAnnotation\"},{\"attributes\":{\"overlay\":{\"id\":\"817a9eb5-7bbf-46c7-91d9-8baf454ff76c\",\"type\":\"BoxAnnotation\"},\"plot\":{\"id\":\"68035de2-69b7-4f83-8c2b-d14c49cc074b\",\"subtype\":\"Chart\",\"type\":\"Plot\"}},\"id\":\"cd018272-ac5d-4601-9ef1-46ce36ca30b9\",\"type\":\"BoxZoomTool\"}],\"root_ids\":[\"68035de2-69b7-4f83-8c2b-d14c49cc074b\"]},\"title\":\"Bokeh Application\",\"version\":\"0.12.3\"}};\n",
       "            var render_items = [{\"docid\":\"78814a85-c9d3-44f6-86e5-ac7cc5617b7c\",\"elementid\":\"924dbc01-ae10-44c4-ae88-702b5bfa1c67\",\"modelid\":\"68035de2-69b7-4f83-8c2b-d14c49cc074b\"}];\n",
       "            \n",
       "            Bokeh.embed.embed_items(docs_json, render_items);\n",
       "        });\n",
       "      },\n",
       "      function(Bokeh) {\n",
       "      }\n",
       "    ];\n",
       "  \n",
       "    function run_inline_js() {\n",
       "      \n",
       "      if ((window.Bokeh !== undefined) || (force === \"1\")) {\n",
       "        for (var i = 0; i < inline_js.length; i++) {\n",
       "          inline_js[i](window.Bokeh);\n",
       "        }if (force === \"1\") {\n",
       "          display_loaded();\n",
       "        }} else if (Date.now() < window._bokeh_timeout) {\n",
       "        setTimeout(run_inline_js, 100);\n",
       "      } else if (!window._bokeh_failed_load) {\n",
       "        console.log(\"Bokeh: BokehJS failed to load within specified timeout.\");\n",
       "        window._bokeh_failed_load = true;\n",
       "      } else if (!force) {\n",
       "        var cell = $(\"#924dbc01-ae10-44c4-ae88-702b5bfa1c67\").parents('.cell').data().cell;\n",
       "        cell.output_area.append_execute_result(NB_LOAD_WARNING)\n",
       "      }\n",
       "  \n",
       "    }\n",
       "  \n",
       "    if (window._bokeh_is_loading === 0) {\n",
       "      console.log(\"Bokeh: BokehJS loaded, going straight to plotting\");\n",
       "      run_inline_js();\n",
       "    } else {\n",
       "      load_libs(js_urls, function() {\n",
       "        console.log(\"Bokeh: BokehJS plotting callback run at\", now());\n",
       "        run_inline_js();\n",
       "      });\n",
       "    }\n",
       "  }(this));\n",
       "</script>"
      ]
     },
     "metadata": {},
     "output_type": "display_data"
    },
    {
     "name": "stdout",
     "output_type": "stream",
     "text": [
      "Conversion rate for homepage is 1.85%\n",
      "Put an additional button \"Contact Us\" on the main page. (or adding the contact form link to the menu bar at the top of the homepage\n"
     ]
    }
   ],
   "source": [
    "from bokeh.io import output_notebook\n",
    "from bokeh.charts import Bar, Line, show\n",
    "from bokeh.plotting import figure, output_file, show\n",
    "\n",
    "output_notebook()\n",
    "p = Bar(input_flow, 'Page', values='CR', title=\"The best converting page on your site is %s\" % best_page)\n",
    "p.legend.location = \"top_right\"\n",
    "show(p)\n",
    "print(\"Conversion rate for homepage is %s\" % homepage_CR + \"%\")\n",
    "print(\"Put an additional button \\\"Contact Us\\\" on the main page. (or adding the contact form link to the menu bar at the top of the homepage\")"
   ]
  },
  {
   "cell_type": "code",
   "execution_count": 14,
   "metadata": {
    "collapsed": false
   },
   "outputs": [
    {
     "data": {
      "image/png": "[encoded data removed]",
      "text/plain": [
       "<matplotlib.figure.Figure at 0x216d0c0b550>"
      ]
     },
     "metadata": {},
     "output_type": "display_data"
    }
   ],
   "source": [
    "output_chart_flow = input_flow_index.loc[:,\"Conversions\"]\n",
    "\n",
    "labels = output_chart_flow.index\n",
    "sizes = input_flow['Conversions']\n",
    "colors = ['green','yellow', 'red', 'lightskyblue']\n",
    "explode = (0, 0, 0,0)\n",
    "plt.pie(sizes, explode=explode, labels=labels, colors=colors,\n",
    "        autopct='%1.1f%%', shadow=False, startangle=90)\n",
    "#plt.legend(patches, labels, loc=\"best\")\n",
    "plt.axis('equal')\n",
    "plt.title('Conversions by pages')\n",
    "plt.tight_layout()\n",
    "plt.show()\n"
   ]
  },
  {
   "cell_type": "code",
   "execution_count": null,
   "metadata": {
    "collapsed": true
   },
   "outputs": [],
   "source": []
  },
  {
   "cell_type": "code",
   "execution_count": null,
   "metadata": {
    "collapsed": true
   },
   "outputs": [],
   "source": []
  },
  {
   "cell_type": "code",
   "execution_count": null,
   "metadata": {
    "collapsed": true
   },
   "outputs": [],
   "source": []
  },
  {
   "cell_type": "code",
   "execution_count": null,
   "metadata": {
    "collapsed": true
   },
   "outputs": [],
   "source": []
  }
 ],
 "metadata": {
  "anaconda-cloud": {},
  "kernelspec": {
   "display_name": "Python 3",
   "language": "python",
   "name": "python3"
  },
  "language_info": {
   "codemirror_mode": {
    "name": "ipython",
    "version": 3
   },
   "file_extension": ".py",
   "mimetype": "text/x-python",
   "name": "python",
   "nbconvert_exporter": "python",
   "pygments_lexer": "ipython3",
   "version": "3.6.0"
  }
 },
 "nbformat": 4,
 "nbformat_minor": 1
}
