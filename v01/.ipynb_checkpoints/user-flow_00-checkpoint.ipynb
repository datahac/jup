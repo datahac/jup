{
 "cells": [
  {
   "cell_type": "markdown",
   "metadata": {},
   "source": [
    "# User flow - Conversions by pages\n",
    "\n",
    "\n",
    "### 0. Import libraries"
   ]
  },
  {
   "cell_type": "code",
   "execution_count": 13,
   "metadata": {
    "collapsed": true
   },
   "outputs": [],
   "source": [
    "%matplotlib inline \n",
    "\n",
    "import numpy as np\n",
    "import scipy as sp\n",
    "import matplotlib as mpl\n",
    "import matplotlib.cm as cm\n",
    "import matplotlib.pyplot as plt\n",
    "import pandas as pd\n",
    "\n",
    "pd.set_option('display.width', 500)\n",
    "pd.set_option('display.max_columns', 100)\n",
    "pd.set_option('display.notebook_repr_html', True)\n",
    "import seaborn as sns #sets up styles and gives us more plotting options\n"
   ]
  },
  {
   "cell_type": "markdown",
   "metadata": {},
   "source": [
    "### 1. Settings"
   ]
  },
  {
   "cell_type": "code",
   "execution_count": 14,
   "metadata": {
    "collapsed": true
   },
   "outputs": [],
   "source": [
    "# Time period 1st Jan - 30th April (arbitrary )\n",
    "\n",
    "# API credentials\n",
    "# Email address 705762800217-compute@developer.gserviceaccount.com\n",
    "# Key IDs 948ee8e2a420ef14a5d5a29bd35104fe2f1e6ed4\n",
    " "
   ]
  },
  {
   "cell_type": "code",
   "execution_count": 15,
   "metadata": {
    "collapsed": true
   },
   "outputs": [],
   "source": [
    "# open file. It is requested via API explorer using request parameters:\n",
    "\n",
    "#Account: TMRW Tech Hub\n",
    "#Property: TMRW\n",
    "#View: All Web Site Data\n",
    "#ids: ga:123303369\n",
    "#start-date: 2017-02-01\n",
    "#end-date: 2017-04-30\n",
    "\n",
    "#metrics\n",
    "#ga:sessions\n",
    "#ga:sessionsWithEvent\n",
    "\n",
    "#dimensions\n",
    "#ga:pagePath\n",
    "\n",
    "#sort\n",
    "#-ga:sessionsWithEvent\n",
    "\n",
    "#filter\n",
    "#ga:sessions>10"
   ]
  },
  {
   "cell_type": "markdown",
   "metadata": {},
   "source": [
    "### 2. Data import & transformation"
   ]
  },
  {
   "cell_type": "code",
   "execution_count": 16,
   "metadata": {
    "collapsed": false,
    "scrolled": false
   },
   "outputs": [
    {
     "data": {
      "text/html": [
       "<div>\n",
       "<table border=\"1\" class=\"dataframe\">\n",
       "  <thead>\n",
       "    <tr style=\"text-align: right;\">\n",
       "      <th></th>\n",
       "      <th>Page</th>\n",
       "      <th>Sessions</th>\n",
       "      <th>Conversions</th>\n",
       "    </tr>\n",
       "  </thead>\n",
       "  <tbody>\n",
       "    <tr>\n",
       "      <th>0</th>\n",
       "      <td>'/</td>\n",
       "      <td>4436</td>\n",
       "      <td>82</td>\n",
       "    </tr>\n",
       "    <tr>\n",
       "      <th>1</th>\n",
       "      <td>'/TMRW_FAQs.php</td>\n",
       "      <td>100</td>\n",
       "      <td>26</td>\n",
       "    </tr>\n",
       "    <tr>\n",
       "      <th>2</th>\n",
       "      <td>'/TMRW_Byte_Cafe.php</td>\n",
       "      <td>218</td>\n",
       "      <td>23</td>\n",
       "    </tr>\n",
       "    <tr>\n",
       "      <th>3</th>\n",
       "      <td>'/TMRW_the_team.php</td>\n",
       "      <td>99</td>\n",
       "      <td>10</td>\n",
       "    </tr>\n",
       "  </tbody>\n",
       "</table>\n",
       "</div>"
      ],
      "text/plain": [
       "                   Page  Sessions  Conversions\n",
       "0                    '/      4436           82\n",
       "1       '/TMRW_FAQs.php       100           26\n",
       "2  '/TMRW_Byte_Cafe.php       218           23\n",
       "3   '/TMRW_the_team.php        99           10"
      ]
     },
     "execution_count": 16,
     "metadata": {},
     "output_type": "execute_result"
    }
   ],
   "source": [
    "# Open file\n",
    "# original file exported from GA includes ga:pagePath,ga:sessions,ga:sessionsWithEvent\n",
    "# Calculate \"cr\" as \"Sessions with event\"/\"Sessions\" for each page.\n",
    "\n",
    "input_flow= pd.read_csv('files/TMRW_flow.csv')\n",
    "\n",
    "# rename columns\n",
    "input_flow.columns=['Page','Sessions','Conversions']\n",
    "\n",
    "# filter page with CR > 0\n",
    "input_flow = input_flow[input_flow.Conversions > 0]\n",
    "\n",
    "# group by page\n",
    "input_flow_index = input_flow.set_index('Page')\n",
    "input_flow"
   ]
  },
  {
   "cell_type": "markdown",
   "metadata": {},
   "source": [
    "3. Calculation\n"
   ]
  },
  {
   "cell_type": "code",
   "execution_count": 17,
   "metadata": {
    "collapsed": false
   },
   "outputs": [
    {
     "data": {
      "text/html": [
       "<div>\n",
       "<table border=\"1\" class=\"dataframe\">\n",
       "  <thead>\n",
       "    <tr style=\"text-align: right;\">\n",
       "      <th></th>\n",
       "      <th>Page</th>\n",
       "      <th>Sessions</th>\n",
       "      <th>Conversions</th>\n",
       "      <th>CR</th>\n",
       "    </tr>\n",
       "  </thead>\n",
       "  <tbody>\n",
       "    <tr>\n",
       "      <th>0</th>\n",
       "      <td>'/</td>\n",
       "      <td>4436</td>\n",
       "      <td>82</td>\n",
       "      <td>1.848512</td>\n",
       "    </tr>\n",
       "    <tr>\n",
       "      <th>1</th>\n",
       "      <td>'/TMRW_FAQs.php</td>\n",
       "      <td>100</td>\n",
       "      <td>26</td>\n",
       "      <td>26.000000</td>\n",
       "    </tr>\n",
       "    <tr>\n",
       "      <th>2</th>\n",
       "      <td>'/TMRW_Byte_Cafe.php</td>\n",
       "      <td>218</td>\n",
       "      <td>23</td>\n",
       "      <td>10.550459</td>\n",
       "    </tr>\n",
       "    <tr>\n",
       "      <th>3</th>\n",
       "      <td>'/TMRW_the_team.php</td>\n",
       "      <td>99</td>\n",
       "      <td>10</td>\n",
       "      <td>10.101010</td>\n",
       "    </tr>\n",
       "  </tbody>\n",
       "</table>\n",
       "</div>"
      ],
      "text/plain": [
       "                   Page  Sessions  Conversions         CR\n",
       "0                    '/      4436           82   1.848512\n",
       "1       '/TMRW_FAQs.php       100           26  26.000000\n",
       "2  '/TMRW_Byte_Cafe.php       218           23  10.550459\n",
       "3   '/TMRW_the_team.php        99           10  10.101010"
      ]
     },
     "execution_count": 17,
     "metadata": {},
     "output_type": "execute_result"
    }
   ],
   "source": [
    "#calculatingCR\n",
    "input_flow['CR'] = input_flow.Conversions / input_flow.Sessions * 100\n",
    "input_flow"
   ]
  },
  {
   "cell_type": "code",
   "execution_count": 18,
   "metadata": {
    "collapsed": false
   },
   "outputs": [
    {
     "data": {
      "text/plain": [
       "\"'/TMRW_FAQs.php\""
      ]
     },
     "execution_count": 18,
     "metadata": {},
     "output_type": "execute_result"
    }
   ],
   "source": [
    "input_flow_cr = input_flow.set_index('CR')\n",
    "\n",
    "max_CR = max(input_flow.CR)\n",
    "best_page = input_flow_cr.loc[max_CR,'Page']\n",
    "best_page"
   ]
  },
  {
   "cell_type": "markdown",
   "metadata": {},
   "source": [
    "### 4. Validate"
   ]
  },
  {
   "cell_type": "markdown",
   "metadata": {},
   "source": [
    "### 5. Visualise"
   ]
  },
  {
   "cell_type": "code",
   "execution_count": 20,
   "metadata": {
    "collapsed": false,
    "scrolled": false
   },
   "outputs": [
    {
     "data": {
      "text/html": [
       "\n",
       "    <div class=\"bk-root\">\n",
       "        <a href=\"http://bokeh.pydata.org\" target=\"_blank\" class=\"bk-logo bk-logo-small bk-logo-notebook\"></a>\n",
       "        <span id=\"ceb1ab78-d76a-42ae-b775-a1b4c4076308\">Loading BokehJS ...</span>\n",
       "    </div>"
      ]
     },
     "metadata": {},
     "output_type": "display_data"
    },
    {
     "data": {
      "application/javascript": [
       "\n",
       "(function(global) {\n",
       "  function now() {\n",
       "    return new Date();\n",
       "  }\n",
       "\n",
       "  var force = true;\n",
       "\n",
       "  if (typeof (window._bokeh_onload_callbacks) === \"undefined\" || force === true) {\n",
       "    window._bokeh_onload_callbacks = [];\n",
       "    window._bokeh_is_loading = undefined;\n",
       "  }\n",
       "\n",
       "\n",
       "  \n",
       "  if (typeof (window._bokeh_timeout) === \"undefined\" || force === true) {\n",
       "    window._bokeh_timeout = Date.now() + 5000;\n",
       "    window._bokeh_failed_load = false;\n",
       "  }\n",
       "\n",
       "  var NB_LOAD_WARNING = {'data': {'text/html':\n",
       "     \"<div style='background-color: #fdd'>\\n\"+\n",
       "     \"<p>\\n\"+\n",
       "     \"BokehJS does not appear to have successfully loaded. If loading BokehJS from CDN, this \\n\"+\n",
       "     \"may be due to a slow or bad network connection. Possible fixes:\\n\"+\n",
       "     \"</p>\\n\"+\n",
       "     \"<ul>\\n\"+\n",
       "     \"<li>re-rerun `output_notebook()` to attempt to load from CDN again, or</li>\\n\"+\n",
       "     \"<li>use INLINE resources instead, as so:</li>\\n\"+\n",
       "     \"</ul>\\n\"+\n",
       "     \"<code>\\n\"+\n",
       "     \"from bokeh.resources import INLINE\\n\"+\n",
       "     \"output_notebook(resources=INLINE)\\n\"+\n",
       "     \"</code>\\n\"+\n",
       "     \"</div>\"}};\n",
       "\n",
       "  function display_loaded() {\n",
       "    if (window.Bokeh !== undefined) {\n",
       "      document.getElementById(\"ceb1ab78-d76a-42ae-b775-a1b4c4076308\").textContent = \"BokehJS successfully loaded.\";\n",
       "    } else if (Date.now() < window._bokeh_timeout) {\n",
       "      setTimeout(display_loaded, 100)\n",
       "    }\n",
       "  }\n",
       "\n",
       "  function run_callbacks() {\n",
       "    window._bokeh_onload_callbacks.forEach(function(callback) { callback() });\n",
       "    delete window._bokeh_onload_callbacks\n",
       "    console.info(\"Bokeh: all callbacks have finished\");\n",
       "  }\n",
       "\n",
       "  function load_libs(js_urls, callback) {\n",
       "    window._bokeh_onload_callbacks.push(callback);\n",
       "    if (window._bokeh_is_loading > 0) {\n",
       "      console.log(\"Bokeh: BokehJS is being loaded, scheduling callback at\", now());\n",
       "      return null;\n",
       "    }\n",
       "    if (js_urls == null || js_urls.length === 0) {\n",
       "      run_callbacks();\n",
       "      return null;\n",
       "    }\n",
       "    console.log(\"Bokeh: BokehJS not loaded, scheduling load and callback at\", now());\n",
       "    window._bokeh_is_loading = js_urls.length;\n",
       "    for (var i = 0; i < js_urls.length; i++) {\n",
       "      var url = js_urls[i];\n",
       "      var s = document.createElement('script');\n",
       "      s.src = url;\n",
       "      s.async = false;\n",
       "      s.onreadystatechange = s.onload = function() {\n",
       "        window._bokeh_is_loading--;\n",
       "        if (window._bokeh_is_loading === 0) {\n",
       "          console.log(\"Bokeh: all BokehJS libraries loaded\");\n",
       "          run_callbacks()\n",
       "        }\n",
       "      };\n",
       "      s.onerror = function() {\n",
       "        console.warn(\"failed to load library \" + url);\n",
       "      };\n",
       "      console.log(\"Bokeh: injecting script tag for BokehJS library: \", url);\n",
       "      document.getElementsByTagName(\"head\")[0].appendChild(s);\n",
       "    }\n",
       "  };var element = document.getElementById(\"ceb1ab78-d76a-42ae-b775-a1b4c4076308\");\n",
       "  if (element == null) {\n",
       "    console.log(\"Bokeh: ERROR: autoload.js configured with elementid 'ceb1ab78-d76a-42ae-b775-a1b4c4076308' but no matching script tag was found. \")\n",
       "    return false;\n",
       "  }\n",
       "\n",
       "  var js_urls = [\"https://cdn.pydata.org/bokeh/release/bokeh-0.12.4.min.js\", \"https://cdn.pydata.org/bokeh/release/bokeh-widgets-0.12.4.min.js\"];\n",
       "\n",
       "  var inline_js = [\n",
       "    function(Bokeh) {\n",
       "      Bokeh.set_log_level(\"info\");\n",
       "    },\n",
       "    \n",
       "    function(Bokeh) {\n",
       "      \n",
       "      document.getElementById(\"ceb1ab78-d76a-42ae-b775-a1b4c4076308\").textContent = \"BokehJS is loading...\";\n",
       "    },\n",
       "    function(Bokeh) {\n",
       "      console.log(\"Bokeh: injecting CSS: https://cdn.pydata.org/bokeh/release/bokeh-0.12.4.min.css\");\n",
       "      Bokeh.embed.inject_css(\"https://cdn.pydata.org/bokeh/release/bokeh-0.12.4.min.css\");\n",
       "      console.log(\"Bokeh: injecting CSS: https://cdn.pydata.org/bokeh/release/bokeh-widgets-0.12.4.min.css\");\n",
       "      Bokeh.embed.inject_css(\"https://cdn.pydata.org/bokeh/release/bokeh-widgets-0.12.4.min.css\");\n",
       "    }\n",
       "  ];\n",
       "\n",
       "  function run_inline_js() {\n",
       "    \n",
       "    if ((window.Bokeh !== undefined) || (force === true)) {\n",
       "      for (var i = 0; i < inline_js.length; i++) {\n",
       "        inline_js[i](window.Bokeh);\n",
       "      }if (force === true) {\n",
       "        display_loaded();\n",
       "      }} else if (Date.now() < window._bokeh_timeout) {\n",
       "      setTimeout(run_inline_js, 100);\n",
       "    } else if (!window._bokeh_failed_load) {\n",
       "      console.log(\"Bokeh: BokehJS failed to load within specified timeout.\");\n",
       "      window._bokeh_failed_load = true;\n",
       "    } else if (force !== true) {\n",
       "      var cell = $(document.getElementById(\"ceb1ab78-d76a-42ae-b775-a1b4c4076308\")).parents('.cell').data().cell;\n",
       "      cell.output_area.append_execute_result(NB_LOAD_WARNING)\n",
       "    }\n",
       "\n",
       "  }\n",
       "\n",
       "  if (window._bokeh_is_loading === 0) {\n",
       "    console.log(\"Bokeh: BokehJS loaded, going straight to plotting\");\n",
       "    run_inline_js();\n",
       "  } else {\n",
       "    load_libs(js_urls, function() {\n",
       "      console.log(\"Bokeh: BokehJS plotting callback run at\", now());\n",
       "      run_inline_js();\n",
       "    });\n",
       "  }\n",
       "}(this));"
      ]
     },
     "metadata": {},
     "output_type": "display_data"
    },
    {
     "data": {
      "text/html": [
       "\n",
       "\n",
       "    <div class=\"bk-root\">\n",
       "        <div class=\"bk-plotdiv\" id=\"c60db331-aba0-4c17-a4af-bf73ee560346\"></div>\n",
       "    </div>\n",
       "<script type=\"text/javascript\">\n",
       "  \n",
       "  (function(global) {\n",
       "    function now() {\n",
       "      return new Date();\n",
       "    }\n",
       "  \n",
       "    var force = false;\n",
       "  \n",
       "    if (typeof (window._bokeh_onload_callbacks) === \"undefined\" || force === true) {\n",
       "      window._bokeh_onload_callbacks = [];\n",
       "      window._bokeh_is_loading = undefined;\n",
       "    }\n",
       "  \n",
       "  \n",
       "    \n",
       "    if (typeof (window._bokeh_timeout) === \"undefined\" || force === true) {\n",
       "      window._bokeh_timeout = Date.now() + 0;\n",
       "      window._bokeh_failed_load = false;\n",
       "    }\n",
       "  \n",
       "    var NB_LOAD_WARNING = {'data': {'text/html':\n",
       "       \"<div style='background-color: #fdd'>\\n\"+\n",
       "       \"<p>\\n\"+\n",
       "       \"BokehJS does not appear to have successfully loaded. If loading BokehJS from CDN, this \\n\"+\n",
       "       \"may be due to a slow or bad network connection. Possible fixes:\\n\"+\n",
       "       \"</p>\\n\"+\n",
       "       \"<ul>\\n\"+\n",
       "       \"<li>re-rerun `output_notebook()` to attempt to load from CDN again, or</li>\\n\"+\n",
       "       \"<li>use INLINE resources instead, as so:</li>\\n\"+\n",
       "       \"</ul>\\n\"+\n",
       "       \"<code>\\n\"+\n",
       "       \"from bokeh.resources import INLINE\\n\"+\n",
       "       \"output_notebook(resources=INLINE)\\n\"+\n",
       "       \"</code>\\n\"+\n",
       "       \"</div>\"}};\n",
       "  \n",
       "    function display_loaded() {\n",
       "      if (window.Bokeh !== undefined) {\n",
       "        document.getElementById(\"c60db331-aba0-4c17-a4af-bf73ee560346\").textContent = \"BokehJS successfully loaded.\";\n",
       "      } else if (Date.now() < window._bokeh_timeout) {\n",
       "        setTimeout(display_loaded, 100)\n",
       "      }\n",
       "    }\n",
       "  \n",
       "    function run_callbacks() {\n",
       "      window._bokeh_onload_callbacks.forEach(function(callback) { callback() });\n",
       "      delete window._bokeh_onload_callbacks\n",
       "      console.info(\"Bokeh: all callbacks have finished\");\n",
       "    }\n",
       "  \n",
       "    function load_libs(js_urls, callback) {\n",
       "      window._bokeh_onload_callbacks.push(callback);\n",
       "      if (window._bokeh_is_loading > 0) {\n",
       "        console.log(\"Bokeh: BokehJS is being loaded, scheduling callback at\", now());\n",
       "        return null;\n",
       "      }\n",
       "      if (js_urls == null || js_urls.length === 0) {\n",
       "        run_callbacks();\n",
       "        return null;\n",
       "      }\n",
       "      console.log(\"Bokeh: BokehJS not loaded, scheduling load and callback at\", now());\n",
       "      window._bokeh_is_loading = js_urls.length;\n",
       "      for (var i = 0; i < js_urls.length; i++) {\n",
       "        var url = js_urls[i];\n",
       "        var s = document.createElement('script');\n",
       "        s.src = url;\n",
       "        s.async = false;\n",
       "        s.onreadystatechange = s.onload = function() {\n",
       "          window._bokeh_is_loading--;\n",
       "          if (window._bokeh_is_loading === 0) {\n",
       "            console.log(\"Bokeh: all BokehJS libraries loaded\");\n",
       "            run_callbacks()\n",
       "          }\n",
       "        };\n",
       "        s.onerror = function() {\n",
       "          console.warn(\"failed to load library \" + url);\n",
       "        };\n",
       "        console.log(\"Bokeh: injecting script tag for BokehJS library: \", url);\n",
       "        document.getElementsByTagName(\"head\")[0].appendChild(s);\n",
       "      }\n",
       "    };var element = document.getElementById(\"c60db331-aba0-4c17-a4af-bf73ee560346\");\n",
       "    if (element == null) {\n",
       "      console.log(\"Bokeh: ERROR: autoload.js configured with elementid 'c60db331-aba0-4c17-a4af-bf73ee560346' but no matching script tag was found. \")\n",
       "      return false;\n",
       "    }\n",
       "  \n",
       "    var js_urls = [];\n",
       "  \n",
       "    var inline_js = [\n",
       "      function(Bokeh) {\n",
       "        (function() {\n",
       "          var fn = function() {\n",
       "            var docs_json = {\"5a7a3452-721e-4753-b8cb-88da079f67be\":{\"roots\":{\"references\":[{\"attributes\":{\"data_source\":{\"id\":\"a6a12b38-3ca0-482d-accf-fe2fdb224c65\",\"type\":\"ColumnDataSource\"},\"glyph\":{\"id\":\"44febed6-8dfe-4bd0-875f-1ccfa5d41937\",\"type\":\"Rect\"},\"hover_glyph\":null,\"nonselection_glyph\":null,\"selection_glyph\":null},\"id\":\"7ff98be1-be5a-4eb7-8d72-91269d43d9c8\",\"type\":\"GlyphRenderer\"},{\"attributes\":{\"label\":{\"value\":\"'/TMRW_Byte_Cafe.php\"},\"renderers\":[{\"id\":\"7ff98be1-be5a-4eb7-8d72-91269d43d9c8\",\"type\":\"GlyphRenderer\"}]},\"id\":\"9d599fdd-316c-4fea-bbd9-868b70cefda5\",\"type\":\"LegendItem\"},{\"attributes\":{\"data_source\":{\"id\":\"fda78d96-e6e0-4500-b213-9e79707d54bc\",\"type\":\"ColumnDataSource\"},\"glyph\":{\"id\":\"ac2a081f-5ebf-471f-9d92-cd522d54de28\",\"type\":\"Rect\"},\"hover_glyph\":null,\"nonselection_glyph\":null,\"selection_glyph\":null},\"id\":\"78397fdf-d0ce-4eaa-9ee7-c0113b9aa2ff\",\"type\":\"GlyphRenderer\"},{\"attributes\":{\"axis_label\":\"Page\",\"formatter\":{\"id\":\"4429f7a1-c521-4661-803f-c023a7620088\",\"type\":\"CategoricalTickFormatter\"},\"major_label_orientation\":0.7853981633974483,\"plot\":{\"id\":\"88515192-700c-4195-bfe2-0b308b6dbf42\",\"subtype\":\"Chart\",\"type\":\"Plot\"},\"ticker\":{\"id\":\"c018cd19-40b4-4e32-80e5-eaa25fcb38dc\",\"type\":\"CategoricalTicker\"}},\"id\":\"914f6e49-83ed-4316-aa6e-4083ba8882c9\",\"type\":\"CategoricalAxis\"},{\"attributes\":{\"data_source\":{\"id\":\"51a18331-e48f-463b-b144-20cf8818986a\",\"type\":\"ColumnDataSource\"},\"glyph\":{\"id\":\"bea4bbf2-ac14-46e3-84ec-a88ca8e79ec4\",\"type\":\"Rect\"},\"hover_glyph\":null,\"nonselection_glyph\":null,\"selection_glyph\":null},\"id\":\"55523408-260d-4094-bc02-f8535dc24758\",\"type\":\"GlyphRenderer\"},{\"attributes\":{\"fill_alpha\":{\"field\":\"fill_alpha\"},\"fill_color\":{\"field\":\"color\"},\"height\":{\"field\":\"height\",\"units\":\"data\"},\"line_color\":{\"field\":\"line_color\"},\"width\":{\"field\":\"width\",\"units\":\"data\"},\"x\":{\"field\":\"x\"},\"y\":{\"field\":\"y\"}},\"id\":\"44febed6-8dfe-4bd0-875f-1ccfa5d41937\",\"type\":\"Rect\"},{\"attributes\":{\"callback\":null,\"column_names\":[\"x\",\"y\",\"width\",\"height\",\"color\",\"fill_alpha\",\"line_color\",\"line_alpha\",\"label\"],\"data\":{\"Page\":[\"'/TMRW_FAQs.php\"],\"chart_index\":[{\"Page\":\"'/TMRW_FAQs.php\"}],\"color\":[\"#f22c40\"],\"fill_alpha\":[0.8],\"height\":[26.0],\"label\":[{\"Page\":\"'/TMRW_FAQs.php\"}],\"line_alpha\":[1.0],\"line_color\":[\"white\"],\"width\":[0.8],\"x\":[\"'/TMRW_FAQs.php\"],\"y\":[13.0]}},\"id\":\"51a18331-e48f-463b-b144-20cf8818986a\",\"type\":\"ColumnDataSource\"},{\"attributes\":{\"fill_alpha\":{\"field\":\"fill_alpha\"},\"fill_color\":{\"field\":\"color\"},\"height\":{\"field\":\"height\",\"units\":\"data\"},\"line_color\":{\"field\":\"line_color\"},\"width\":{\"field\":\"width\",\"units\":\"data\"},\"x\":{\"field\":\"x\"},\"y\":{\"field\":\"y\"}},\"id\":\"bea4bbf2-ac14-46e3-84ec-a88ca8e79ec4\",\"type\":\"Rect\"},{\"attributes\":{\"data_source\":{\"id\":\"14d5e933-8fe2-416d-94d5-fcd8dcba7e92\",\"type\":\"ColumnDataSource\"},\"glyph\":{\"id\":\"cc275245-d96c-4f50-bbfd-2cb41ba0b369\",\"type\":\"Rect\"},\"hover_glyph\":null,\"nonselection_glyph\":null,\"selection_glyph\":null},\"id\":\"1de5e410-38b3-48da-8889-88aa0f65d762\",\"type\":\"GlyphRenderer\"},{\"attributes\":{\"axis_label\":\"Sum( Cr )\",\"formatter\":{\"id\":\"ffb1d4b6-b6b3-4637-9cef-b59169dee0e9\",\"type\":\"BasicTickFormatter\"},\"plot\":{\"id\":\"88515192-700c-4195-bfe2-0b308b6dbf42\",\"subtype\":\"Chart\",\"type\":\"Plot\"},\"ticker\":{\"id\":\"c53fd52e-4e0d-49dd-a1db-9e30efdf4df9\",\"type\":\"BasicTicker\"}},\"id\":\"d49b46f4-a973-4e10-a40e-a903a68a5c21\",\"type\":\"LinearAxis\"},{\"attributes\":{\"callback\":null,\"column_names\":[\"x\",\"y\",\"width\",\"height\",\"color\",\"fill_alpha\",\"line_color\",\"line_alpha\",\"label\"],\"data\":{\"Page\":[\"'/TMRW_Byte_Cafe.php\"],\"chart_index\":[{\"Page\":\"'/TMRW_Byte_Cafe.php\"}],\"color\":[\"#f22c40\"],\"fill_alpha\":[0.8],\"height\":[10.550458715596331],\"label\":[{\"Page\":\"'/TMRW_Byte_Cafe.php\"}],\"line_alpha\":[1.0],\"line_color\":[\"white\"],\"width\":[0.8],\"x\":[\"'/TMRW_Byte_Cafe.php\"],\"y\":[5.275229357798166]}},\"id\":\"a6a12b38-3ca0-482d-accf-fe2fdb224c65\",\"type\":\"ColumnDataSource\"},{\"attributes\":{},\"id\":\"c018cd19-40b4-4e32-80e5-eaa25fcb38dc\",\"type\":\"CategoricalTicker\"},{\"attributes\":{\"callback\":null,\"column_names\":[\"x\",\"y\",\"width\",\"height\",\"color\",\"fill_alpha\",\"line_color\",\"line_alpha\",\"label\"],\"data\":{\"Page\":[\"'/TMRW_the_team.php\"],\"chart_index\":[{\"Page\":\"'/TMRW_the_team.php\"}],\"color\":[\"#f22c40\"],\"fill_alpha\":[0.8],\"height\":[10.1010101010101],\"label\":[{\"Page\":\"'/TMRW_the_team.php\"}],\"line_alpha\":[1.0],\"line_color\":[\"white\"],\"width\":[0.8],\"x\":[\"'/TMRW_the_team.php\"],\"y\":[5.05050505050505]}},\"id\":\"14d5e933-8fe2-416d-94d5-fcd8dcba7e92\",\"type\":\"ColumnDataSource\"},{\"attributes\":{\"fill_alpha\":{\"field\":\"fill_alpha\"},\"fill_color\":{\"field\":\"color\"},\"height\":{\"field\":\"height\",\"units\":\"data\"},\"line_color\":{\"field\":\"line_color\"},\"width\":{\"field\":\"width\",\"units\":\"data\"},\"x\":{\"field\":\"x\"},\"y\":{\"field\":\"y\"}},\"id\":\"cc275245-d96c-4f50-bbfd-2cb41ba0b369\",\"type\":\"Rect\"},{\"attributes\":{},\"id\":\"c53fd52e-4e0d-49dd-a1db-9e30efdf4df9\",\"type\":\"BasicTicker\"},{\"attributes\":{},\"id\":\"4429f7a1-c521-4661-803f-c023a7620088\",\"type\":\"CategoricalTickFormatter\"},{\"attributes\":{\"dimension\":1,\"plot\":{\"id\":\"88515192-700c-4195-bfe2-0b308b6dbf42\",\"subtype\":\"Chart\",\"type\":\"Plot\"},\"ticker\":{\"id\":\"c53fd52e-4e0d-49dd-a1db-9e30efdf4df9\",\"type\":\"BasicTicker\"}},\"id\":\"92959a1a-2267-4f5d-862e-49e3c7221987\",\"type\":\"Grid\"},{\"attributes\":{\"plot\":{\"id\":\"88515192-700c-4195-bfe2-0b308b6dbf42\",\"subtype\":\"Chart\",\"type\":\"Plot\"}},\"id\":\"e6301498-456a-4ded-bdc5-12ef6934b5e6\",\"type\":\"WheelZoomTool\"},{\"attributes\":{},\"id\":\"03ad3b94-2d1e-4ec9-8316-6dbd202eb3a1\",\"type\":\"ToolEvents\"},{\"attributes\":{\"below\":[{\"id\":\"914f6e49-83ed-4316-aa6e-4083ba8882c9\",\"type\":\"CategoricalAxis\"}],\"css_classes\":null,\"left\":[{\"id\":\"d49b46f4-a973-4e10-a40e-a903a68a5c21\",\"type\":\"LinearAxis\"}],\"renderers\":[{\"id\":\"52097206-d905-4546-ab9b-68db71accd07\",\"type\":\"BoxAnnotation\"},{\"id\":\"78397fdf-d0ce-4eaa-9ee7-c0113b9aa2ff\",\"type\":\"GlyphRenderer\"},{\"id\":\"55523408-260d-4094-bc02-f8535dc24758\",\"type\":\"GlyphRenderer\"},{\"id\":\"7ff98be1-be5a-4eb7-8d72-91269d43d9c8\",\"type\":\"GlyphRenderer\"},{\"id\":\"1de5e410-38b3-48da-8889-88aa0f65d762\",\"type\":\"GlyphRenderer\"},{\"id\":\"b7a8c9df-1003-4c59-ba13-3c43972dae2c\",\"type\":\"Legend\"},{\"id\":\"914f6e49-83ed-4316-aa6e-4083ba8882c9\",\"type\":\"CategoricalAxis\"},{\"id\":\"d49b46f4-a973-4e10-a40e-a903a68a5c21\",\"type\":\"LinearAxis\"},{\"id\":\"92959a1a-2267-4f5d-862e-49e3c7221987\",\"type\":\"Grid\"}],\"title\":{\"id\":\"a91434f6-410b-47ea-82c2-b61f1d35e148\",\"type\":\"Title\"},\"tool_events\":{\"id\":\"03ad3b94-2d1e-4ec9-8316-6dbd202eb3a1\",\"type\":\"ToolEvents\"},\"toolbar\":{\"id\":\"4bb74166-1418-42ba-bfc2-7dc5859942f9\",\"type\":\"Toolbar\"},\"x_mapper_type\":\"auto\",\"x_range\":{\"id\":\"33f59b22-60a5-4e5a-aa51-71dd5ac5da3a\",\"type\":\"FactorRange\"},\"y_mapper_type\":\"auto\",\"y_range\":{\"id\":\"eaa32399-09ad-4ebe-8c28-56bad5d561b1\",\"type\":\"Range1d\"}},\"id\":\"88515192-700c-4195-bfe2-0b308b6dbf42\",\"subtype\":\"Chart\",\"type\":\"Plot\"},{\"attributes\":{\"plot\":null,\"text\":\"The best converting page on your site is '/TMRW_FAQs.php\"},\"id\":\"a91434f6-410b-47ea-82c2-b61f1d35e148\",\"type\":\"Title\"},{\"attributes\":{\"callback\":null,\"factors\":[\"'/\",\"'/TMRW_Byte_Cafe.php\",\"'/TMRW_FAQs.php\",\"'/TMRW_the_team.php\"]},\"id\":\"33f59b22-60a5-4e5a-aa51-71dd5ac5da3a\",\"type\":\"FactorRange\"},{\"attributes\":{\"bottom_units\":\"screen\",\"fill_alpha\":{\"value\":0.5},\"fill_color\":{\"value\":\"lightgrey\"},\"left_units\":\"screen\",\"level\":\"overlay\",\"line_alpha\":{\"value\":1.0},\"line_color\":{\"value\":\"black\"},\"line_dash\":[4,4],\"line_width\":{\"value\":2},\"plot\":null,\"render_mode\":\"css\",\"right_units\":\"screen\",\"top_units\":\"screen\"},\"id\":\"52097206-d905-4546-ab9b-68db71accd07\",\"type\":\"BoxAnnotation\"},{\"attributes\":{\"items\":[{\"id\":\"53be7780-80b3-4971-ba4d-d8ca79da1acf\",\"type\":\"LegendItem\"},{\"id\":\"2a3767f3-c2ee-4252-a7ab-b9a94c780b00\",\"type\":\"LegendItem\"},{\"id\":\"9d599fdd-316c-4fea-bbd9-868b70cefda5\",\"type\":\"LegendItem\"},{\"id\":\"fb860b06-568e-4aee-97e2-29225bae8bc6\",\"type\":\"LegendItem\"}],\"location\":\"top_right\",\"plot\":{\"id\":\"88515192-700c-4195-bfe2-0b308b6dbf42\",\"subtype\":\"Chart\",\"type\":\"Plot\"}},\"id\":\"b7a8c9df-1003-4c59-ba13-3c43972dae2c\",\"type\":\"Legend\"},{\"attributes\":{\"active_drag\":\"auto\",\"active_scroll\":\"auto\",\"active_tap\":\"auto\",\"tools\":[{\"id\":\"e549a431-0dd4-4437-b32c-dd60ff75f0ba\",\"type\":\"PanTool\"},{\"id\":\"e6301498-456a-4ded-bdc5-12ef6934b5e6\",\"type\":\"WheelZoomTool\"},{\"id\":\"acfa73a4-9bb9-4b18-9c73-714825dce731\",\"type\":\"BoxZoomTool\"},{\"id\":\"97cb21cd-4303-4c4e-a450-4a92a4c38634\",\"type\":\"SaveTool\"},{\"id\":\"326de0f8-ebde-4392-a10a-8c1f55445a3b\",\"type\":\"ResetTool\"},{\"id\":\"9f43c3e8-8534-4fb8-b75d-602ffdc66d59\",\"type\":\"HelpTool\"}]},\"id\":\"4bb74166-1418-42ba-bfc2-7dc5859942f9\",\"type\":\"Toolbar\"},{\"attributes\":{\"callback\":null,\"end\":27.3},\"id\":\"eaa32399-09ad-4ebe-8c28-56bad5d561b1\",\"type\":\"Range1d\"},{\"attributes\":{\"plot\":{\"id\":\"88515192-700c-4195-bfe2-0b308b6dbf42\",\"subtype\":\"Chart\",\"type\":\"Plot\"}},\"id\":\"e549a431-0dd4-4437-b32c-dd60ff75f0ba\",\"type\":\"PanTool\"},{\"attributes\":{\"overlay\":{\"id\":\"52097206-d905-4546-ab9b-68db71accd07\",\"type\":\"BoxAnnotation\"},\"plot\":{\"id\":\"88515192-700c-4195-bfe2-0b308b6dbf42\",\"subtype\":\"Chart\",\"type\":\"Plot\"}},\"id\":\"acfa73a4-9bb9-4b18-9c73-714825dce731\",\"type\":\"BoxZoomTool\"},{\"attributes\":{\"label\":{\"value\":\"'/TMRW_FAQs.php\"},\"renderers\":[{\"id\":\"55523408-260d-4094-bc02-f8535dc24758\",\"type\":\"GlyphRenderer\"}]},\"id\":\"2a3767f3-c2ee-4252-a7ab-b9a94c780b00\",\"type\":\"LegendItem\"},{\"attributes\":{\"plot\":{\"id\":\"88515192-700c-4195-bfe2-0b308b6dbf42\",\"subtype\":\"Chart\",\"type\":\"Plot\"}},\"id\":\"97cb21cd-4303-4c4e-a450-4a92a4c38634\",\"type\":\"SaveTool\"},{\"attributes\":{\"plot\":{\"id\":\"88515192-700c-4195-bfe2-0b308b6dbf42\",\"subtype\":\"Chart\",\"type\":\"Plot\"}},\"id\":\"326de0f8-ebde-4392-a10a-8c1f55445a3b\",\"type\":\"ResetTool\"},{\"attributes\":{\"plot\":{\"id\":\"88515192-700c-4195-bfe2-0b308b6dbf42\",\"subtype\":\"Chart\",\"type\":\"Plot\"}},\"id\":\"9f43c3e8-8534-4fb8-b75d-602ffdc66d59\",\"type\":\"HelpTool\"},{\"attributes\":{\"label\":{\"value\":\"'/TMRW_the_team.php\"},\"renderers\":[{\"id\":\"1de5e410-38b3-48da-8889-88aa0f65d762\",\"type\":\"GlyphRenderer\"}]},\"id\":\"fb860b06-568e-4aee-97e2-29225bae8bc6\",\"type\":\"LegendItem\"},{\"attributes\":{\"fill_alpha\":{\"field\":\"fill_alpha\"},\"fill_color\":{\"field\":\"color\"},\"height\":{\"field\":\"height\",\"units\":\"data\"},\"line_color\":{\"field\":\"line_color\"},\"width\":{\"field\":\"width\",\"units\":\"data\"},\"x\":{\"field\":\"x\"},\"y\":{\"field\":\"y\"}},\"id\":\"ac2a081f-5ebf-471f-9d92-cd522d54de28\",\"type\":\"Rect\"},{\"attributes\":{},\"id\":\"ffb1d4b6-b6b3-4637-9cef-b59169dee0e9\",\"type\":\"BasicTickFormatter\"},{\"attributes\":{\"callback\":null,\"column_names\":[\"x\",\"y\",\"width\",\"height\",\"color\",\"fill_alpha\",\"line_color\",\"line_alpha\",\"label\"],\"data\":{\"Page\":[\"'/\"],\"chart_index\":[{\"Page\":\"'/\"}],\"color\":[\"#f22c40\"],\"fill_alpha\":[0.8],\"height\":[1.848512173128945],\"label\":[{\"Page\":\"'/\"}],\"line_alpha\":[1.0],\"line_color\":[\"white\"],\"width\":[0.8],\"x\":[\"'/\"],\"y\":[0.9242560865644724]}},\"id\":\"fda78d96-e6e0-4500-b213-9e79707d54bc\",\"type\":\"ColumnDataSource\"},{\"attributes\":{\"label\":{\"value\":\"'/\"},\"renderers\":[{\"id\":\"78397fdf-d0ce-4eaa-9ee7-c0113b9aa2ff\",\"type\":\"GlyphRenderer\"}]},\"id\":\"53be7780-80b3-4971-ba4d-d8ca79da1acf\",\"type\":\"LegendItem\"}],\"root_ids\":[\"88515192-700c-4195-bfe2-0b308b6dbf42\"]},\"title\":\"Bokeh Application\",\"version\":\"0.12.4\"}};\n",
       "            var render_items = [{\"docid\":\"5a7a3452-721e-4753-b8cb-88da079f67be\",\"elementid\":\"c60db331-aba0-4c17-a4af-bf73ee560346\",\"modelid\":\"88515192-700c-4195-bfe2-0b308b6dbf42\"}];\n",
       "            \n",
       "            Bokeh.embed.embed_items(docs_json, render_items);\n",
       "          };\n",
       "          if (document.readyState != \"loading\") fn();\n",
       "          else document.addEventListener(\"DOMContentLoaded\", fn);\n",
       "        })();\n",
       "      },\n",
       "      function(Bokeh) {\n",
       "      }\n",
       "    ];\n",
       "  \n",
       "    function run_inline_js() {\n",
       "      \n",
       "      if ((window.Bokeh !== undefined) || (force === true)) {\n",
       "        for (var i = 0; i < inline_js.length; i++) {\n",
       "          inline_js[i](window.Bokeh);\n",
       "        }if (force === true) {\n",
       "          display_loaded();\n",
       "        }} else if (Date.now() < window._bokeh_timeout) {\n",
       "        setTimeout(run_inline_js, 100);\n",
       "      } else if (!window._bokeh_failed_load) {\n",
       "        console.log(\"Bokeh: BokehJS failed to load within specified timeout.\");\n",
       "        window._bokeh_failed_load = true;\n",
       "      } else if (force !== true) {\n",
       "        var cell = $(document.getElementById(\"c60db331-aba0-4c17-a4af-bf73ee560346\")).parents('.cell').data().cell;\n",
       "        cell.output_area.append_execute_result(NB_LOAD_WARNING)\n",
       "      }\n",
       "  \n",
       "    }\n",
       "  \n",
       "    if (window._bokeh_is_loading === 0) {\n",
       "      console.log(\"Bokeh: BokehJS loaded, going straight to plotting\");\n",
       "      run_inline_js();\n",
       "    } else {\n",
       "      load_libs(js_urls, function() {\n",
       "        console.log(\"Bokeh: BokehJS plotting callback run at\", now());\n",
       "        run_inline_js();\n",
       "      });\n",
       "    }\n",
       "  }(this));\n",
       "</script>"
      ]
     },
     "metadata": {},
     "output_type": "display_data"
    },
    {
     "name": "stdout",
     "output_type": "stream",
     "text": [
      "Put an additional button \"Contact Us\" on the main page. (or adding the contact form link to the menu bar at the top of the homepage\n"
     ]
    }
   ],
   "source": [
    "from bokeh.io import output_notebook\n",
    "from bokeh.charts import Bar, Line, show\n",
    "from bokeh.plotting import figure, output_file, show\n",
    "\n",
    "output_notebook()\n",
    "p = Bar(input_flow, 'Page', values='CR', title=\"The best converting page on your site is %s\" % best_page)\n",
    "p.legend.location = \"top_right\"\n",
    "show(p)\n",
    "print(\"Put an additional button \\\"Contact Us\\\" on the main page. (or adding the contact form link to the menu bar at the top of the homepage\")"
   ]
  },
  {
   "cell_type": "code",
   "execution_count": null,
   "metadata": {
    "collapsed": true
   },
   "outputs": [],
   "source": []
  },
  {
   "cell_type": "code",
   "execution_count": null,
   "metadata": {
    "collapsed": true
   },
   "outputs": [],
   "source": []
  }
 ],
 "metadata": {
  "anaconda-cloud": {},
  "kernelspec": {
   "display_name": "Python 3",
   "language": "python",
   "name": "python3"
  },
  "language_info": {
   "codemirror_mode": {
    "name": "ipython",
    "version": 3
   },
   "file_extension": ".py",
   "mimetype": "text/x-python",
   "name": "python",
   "nbconvert_exporter": "python",
   "pygments_lexer": "ipython3",
   "version": "3.6.0"
  }
 },
 "nbformat": 4,
 "nbformat_minor": 1
}
