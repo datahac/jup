{
 "cells": [
  {
   "cell_type": "markdown",
   "metadata": {},
   "source": [
    "# Mobile insights\n",
    "\n",
    "\n",
    "### 0. Import libraries"
   ]
  },
  {
   "cell_type": "code",
   "execution_count": 165,
   "metadata": {
    "collapsed": true
   },
   "outputs": [],
   "source": [
    "%matplotlib inline \n",
    "\n",
    "import numpy as np\n",
    "import scipy as sp\n",
    "import matplotlib as mpl\n",
    "import matplotlib.cm as cm\n",
    "import matplotlib.pyplot as plt\n",
    "import pandas as pd\n",
    "\n",
    "pd.set_option('display.width', 500)\n",
    "pd.set_option('display.max_columns', 100)\n",
    "pd.set_option('display.notebook_repr_html', True)\n",
    "import seaborn as sns #sets up styles and gives us more plotting options\n"
   ]
  },
  {
   "cell_type": "markdown",
   "metadata": {},
   "source": [
    "### 1. Settings"
   ]
  },
  {
   "cell_type": "code",
   "execution_count": 166,
   "metadata": {
    "collapsed": true
   },
   "outputs": [],
   "source": [
    "# Time period 1st Jan - 26th April (arbitrary )\n",
    "\n",
    "# API credentials\n",
    "# Email address 705762800217-compute@developer.gserviceaccount.com\n",
    "# Key IDs 948ee8e2a420ef14a5d5a29bd35104fe2f1e6ed4\n",
    " "
   ]
  },
  {
   "cell_type": "code",
   "execution_count": 167,
   "metadata": {
    "collapsed": true
   },
   "outputs": [],
   "source": [
    "# open file. It is requested via API explorer using request parameters:\n",
    "\n",
    "#Account: TMRW Tech Hub\n",
    "#Property: TMRW\n",
    "#View: All Web Site Data\n",
    "#ids: ga:123303369\n",
    "#start-date: 2017-02-01\n",
    "#end-date: 2017-04-30\n",
    "\n",
    "#metrics\n",
    "#ga:sessions\n",
    "#ga:sessionsWithEvent\n",
    "#ga:bounceRate\n",
    "\n",
    "#dimensions\n",
    "#ga:deviceCategory"
   ]
  },
  {
   "cell_type": "markdown",
   "metadata": {},
   "source": [
    "### 2. Data import & transformation"
   ]
  },
  {
   "cell_type": "code",
   "execution_count": 203,
   "metadata": {
    "collapsed": false,
    "scrolled": true
   },
   "outputs": [],
   "source": [
    "# Open file\n",
    "input_mob= pd.read_csv('files/TMRW_mob_dev.csv')"
   ]
  },
  {
   "cell_type": "code",
   "execution_count": 204,
   "metadata": {
    "collapsed": false,
    "scrolled": true
   },
   "outputs": [],
   "source": [
    "# rename columns\n",
    "input_mob.columns=['Device','Sessions','Bounce Rate','Conversions','CR'] "
   ]
  },
  {
   "cell_type": "code",
   "execution_count": 205,
   "metadata": {
    "collapsed": false,
    "scrolled": true
   },
   "outputs": [
    {
     "data": {
      "text/html": [
       "<div>\n",
       "<table border=\"1\" class=\"dataframe\">\n",
       "  <thead>\n",
       "    <tr style=\"text-align: right;\">\n",
       "      <th></th>\n",
       "      <th>Sessions</th>\n",
       "      <th>Bounce Rate</th>\n",
       "      <th>Conversions</th>\n",
       "      <th>CR</th>\n",
       "    </tr>\n",
       "    <tr>\n",
       "      <th>Device</th>\n",
       "      <th></th>\n",
       "      <th></th>\n",
       "      <th></th>\n",
       "      <th></th>\n",
       "    </tr>\n",
       "  </thead>\n",
       "  <tbody>\n",
       "    <tr>\n",
       "      <th>desktop</th>\n",
       "      <td>4061</td>\n",
       "      <td>52.647131</td>\n",
       "      <td>114</td>\n",
       "      <td>0.028072</td>\n",
       "    </tr>\n",
       "    <tr>\n",
       "      <th>mobile</th>\n",
       "      <td>2261</td>\n",
       "      <td>62.627156</td>\n",
       "      <td>30</td>\n",
       "      <td>0.013268</td>\n",
       "    </tr>\n",
       "    <tr>\n",
       "      <th>tablet</th>\n",
       "      <td>270</td>\n",
       "      <td>55.555556</td>\n",
       "      <td>3</td>\n",
       "      <td>0.011111</td>\n",
       "    </tr>\n",
       "  </tbody>\n",
       "</table>\n",
       "</div>"
      ],
      "text/plain": [
       "         Sessions  Bounce Rate  Conversions        CR\n",
       "Device                                               \n",
       "desktop      4061    52.647131          114  0.028072\n",
       "mobile       2261    62.627156           30  0.013268\n",
       "tablet        270    55.555556            3  0.011111"
      ]
     },
     "execution_count": 205,
     "metadata": {},
     "output_type": "execute_result"
    }
   ],
   "source": [
    "# group by device\n",
    "input_mob = input_mob.set_index('Device')\n",
    "\n",
    "input_mob"
   ]
  },
  {
   "cell_type": "markdown",
   "metadata": {},
   "source": [
    "### 3. Calculate"
   ]
  },
  {
   "cell_type": "code",
   "execution_count": 206,
   "metadata": {
    "collapsed": false,
    "scrolled": true
   },
   "outputs": [
    {
     "data": {
      "text/plain": [
       "0.013268465"
      ]
     },
     "execution_count": 206,
     "metadata": {},
     "output_type": "execute_result"
    }
   ],
   "source": [
    "mobile_Sessions = input_mob.loc['mobile','Sessions']\n",
    "desktop_CR = input_mob.loc['desktop','CR']\n",
    "mobile_Conversions = input_mob.loc['mobile','Conversions']\n",
    "mobile_CR = input_mob.loc['mobile','CR']\n",
    "\n",
    "\n",
    "conv_increase =  \"%.0f\" % (mobile_Sessions * desktop_CR - mobile_Conversions)\n",
    "conv_increase = int(conv_increase)\n",
    "\n",
    "#mobileSessions\n",
    "#desktopCR\n",
    "#mobileConversions\n",
    "mobile_CR"
   ]
  },
  {
   "cell_type": "markdown",
   "metadata": {},
   "source": [
    "### 4. Validate"
   ]
  },
  {
   "cell_type": "code",
   "execution_count": 207,
   "metadata": {
    "collapsed": false
   },
   "outputs": [
    {
     "data": {
      "text/plain": [
       "True"
      ]
     },
     "execution_count": 207,
     "metadata": {},
     "output_type": "execute_result"
    }
   ],
   "source": [
    "#if mobile CR is greater, equel or less by more than 20% result is failed\n",
    "\n",
    "dif = mobile_CR / desktop_CR\n",
    "\n",
    "if dif > 0.8:\n",
    "    result = False\n",
    "    \n",
    "else:\n",
    "    result = True\n",
    "    \n",
    "result"
   ]
  },
  {
   "cell_type": "markdown",
   "metadata": {},
   "source": [
    "### 5. Visualise"
   ]
  },
  {
   "cell_type": "code",
   "execution_count": 214,
   "metadata": {
    "collapsed": false
   },
   "outputs": [
    {
     "name": "stdout",
     "output_type": "stream",
     "text": [
      "Have 33 more conversions per month by optmising mobile UX\n"
     ]
    },
    {
     "data": {
      "image/png": "[encoded data removed]",
      "text/plain": [
       "<matplotlib.figure.Figure at 0x24aee3a9390>"
      ]
     },
     "metadata": {},
     "output_type": "display_data"
    }
   ],
   "source": [
    "output_chart_mob = input_mob.loc['mobile',['Sessions','Conversions']]\n",
    "output_chart_mob.plot.barh(stacked=True)\n",
    "\n",
    "labels = output_chart_mob.index\n",
    "sizes = output_chart_mob\n",
    "\n",
    "# colours are taken from http://tools.medialab.sciences-po.fr/iwanthue/\n",
    "colors = ['#b94663','#6fac5d', '#677ad1']\n",
    "explode = (0, 0, 0)\n",
    "plt.xlabel('Visits')\n",
    "plt.title('Only %s ' % (\"%.2f\" % (mobile_CR*100) +'% of all mobile visits end up completing a conversion' ))\n",
    "\n",
    "#need to specify analytics time perdiod\n",
    "print (\"Have %s more conversions per month by optmising mobile UX\" % conv_increase)\n",
    "\n",
    "plt.show()\n"
   ]
  },
  {
   "cell_type": "code",
   "execution_count": null,
   "metadata": {
    "collapsed": true
   },
   "outputs": [],
   "source": []
  },
  {
   "cell_type": "code",
   "execution_count": null,
   "metadata": {
    "collapsed": true
   },
   "outputs": [],
   "source": []
  }
 ],
 "metadata": {
  "anaconda-cloud": {},
  "kernelspec": {
   "display_name": "Python 3",
   "language": "python",
   "name": "python3"
  },
  "language_info": {
   "codemirror_mode": {
    "name": "ipython",
    "version": 3
   },
   "file_extension": ".py",
   "mimetype": "text/x-python",
   "name": "python",
   "nbconvert_exporter": "python",
   "pygments_lexer": "ipython3",
   "version": "3.6.0"
  }
 },
 "nbformat": 4,
 "nbformat_minor": 1
}
