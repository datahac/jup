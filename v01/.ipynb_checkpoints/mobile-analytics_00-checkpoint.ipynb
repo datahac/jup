{
 "cells": [
  {
   "cell_type": "markdown",
   "metadata": {},
   "source": [
    "# Mobile insights"
   ]
  },
  {
   "cell_type": "markdown",
   "metadata": {},
   "source": [
    "## CSV"
   ]
  },
  {
   "cell_type": "markdown",
   "metadata": {},
   "source": [
    "### 0. Import libraries"
   ]
  },
  {
   "cell_type": "code",
   "execution_count": 1,
   "metadata": {
    "collapsed": true
   },
   "outputs": [],
   "source": [
    "%matplotlib inline \n",
    "\n",
    "import numpy as np\n",
    "import scipy as sp\n",
    "import matplotlib as mpl\n",
    "import matplotlib.cm as cm\n",
    "import matplotlib.pyplot as plt\n",
    "import pandas as pd\n",
    "\n",
    "pd.set_option('display.width', 500)\n",
    "pd.set_option('display.max_columns', 100)\n",
    "pd.set_option('display.notebook_repr_html', True)\n",
    "import seaborn as sns #sets up styles and gives us more plotting options\n"
   ]
  },
  {
   "cell_type": "markdown",
   "metadata": {},
   "source": [
    "### 1. Settings"
   ]
  },
  {
   "cell_type": "code",
   "execution_count": 2,
   "metadata": {
    "collapsed": true
   },
   "outputs": [],
   "source": [
    "# Time period 1st Jan - 30th April (arbitrary )\n",
    "\n",
    "# API credentials\n",
    "# Email address 705762800217-compute@developer.gserviceaccount.com\n",
    "# Key IDs 948ee8e2a420ef14a5d5a29bd35104fe2f1e6ed4\n",
    " "
   ]
  },
  {
   "cell_type": "code",
   "execution_count": 3,
   "metadata": {
    "collapsed": true
   },
   "outputs": [],
   "source": [
    "# open file. It is requested via API explorer using request parameters:\n",
    "\n",
    "#Account: TMRW Tech Hub\n",
    "#Property: TMRW\n",
    "#View: All Web Site Data\n",
    "#ids: ga:123303369\n",
    "#start-date: 2017-01-01\n",
    "#end-date: 2017-04-30\n",
    "\n",
    "#metrics\n",
    "#ga:sessions\n",
    "#ga:sessionsWithEvent\n",
    "#ga:bounceRate\n",
    "\n",
    "#dimensions\n",
    "#ga:deviceCategory"
   ]
  },
  {
   "cell_type": "markdown",
   "metadata": {},
   "source": [
    "### 2. Data import & transformation"
   ]
  },
  {
   "cell_type": "code",
   "execution_count": 6,
   "metadata": {
    "collapsed": false,
    "scrolled": false
   },
   "outputs": [
    {
     "data": {
      "text/html": [
       "<div>\n",
       "<table border=\"1\" class=\"dataframe\">\n",
       "  <thead>\n",
       "    <tr style=\"text-align: right;\">\n",
       "      <th></th>\n",
       "      <th>Sessions</th>\n",
       "      <th>Bounce Rate</th>\n",
       "      <th>Conversions</th>\n",
       "      <th>CR</th>\n",
       "    </tr>\n",
       "    <tr>\n",
       "      <th>Device</th>\n",
       "      <th></th>\n",
       "      <th></th>\n",
       "      <th></th>\n",
       "      <th></th>\n",
       "    </tr>\n",
       "  </thead>\n",
       "  <tbody>\n",
       "    <tr>\n",
       "      <th>desktop</th>\n",
       "      <td>4061</td>\n",
       "      <td>52.647131</td>\n",
       "      <td>114</td>\n",
       "      <td>0.028072</td>\n",
       "    </tr>\n",
       "    <tr>\n",
       "      <th>mobile</th>\n",
       "      <td>2261</td>\n",
       "      <td>62.627156</td>\n",
       "      <td>30</td>\n",
       "      <td>0.013268</td>\n",
       "    </tr>\n",
       "    <tr>\n",
       "      <th>tablet</th>\n",
       "      <td>270</td>\n",
       "      <td>55.555556</td>\n",
       "      <td>3</td>\n",
       "      <td>0.011111</td>\n",
       "    </tr>\n",
       "  </tbody>\n",
       "</table>\n",
       "</div>"
      ],
      "text/plain": [
       "         Sessions  Bounce Rate  Conversions        CR\n",
       "Device                                               \n",
       "desktop      4061    52.647131          114  0.028072\n",
       "mobile       2261    62.627156           30  0.013268\n",
       "tablet        270    55.555556            3  0.011111"
      ]
     },
     "execution_count": 6,
     "metadata": {},
     "output_type": "execute_result"
    }
   ],
   "source": [
    "# Open file\n",
    "input_mob= pd.read_csv('files/TMRW_mob.csv')\n",
    "\n",
    "# rename columns\n",
    "input_mob.columns=['Device','Sessions','Bounce Rate','Conversions','CR'] \n",
    "\n",
    "# group by device\n",
    "input_mob = input_mob.set_index('Device')\n",
    "\n",
    "input_mob"
   ]
  },
  {
   "cell_type": "markdown",
   "metadata": {},
   "source": [
    "### 3. Calculate"
   ]
  },
  {
   "cell_type": "code",
   "execution_count": 7,
   "metadata": {
    "collapsed": false,
    "scrolled": true
   },
   "outputs": [
    {
     "data": {
      "text/plain": [
       "0.013268465"
      ]
     },
     "execution_count": 7,
     "metadata": {},
     "output_type": "execute_result"
    }
   ],
   "source": [
    "mobile_Sessions = input_mob.loc['mobile','Sessions']\n",
    "desktop_CR = input_mob.loc['desktop','CR']\n",
    "mobile_Conversions = input_mob.loc['mobile','Conversions']\n",
    "mobile_CR = input_mob.loc['mobile','CR']\n",
    "\n",
    "conv_increase =  \"%.0f\" % (mobile_Sessions * desktop_CR - mobile_Conversions)\n",
    "conv_increase = int(conv_increase)\n",
    "\n",
    "#mobileSessions\n",
    "#desktopCR\n",
    "#mobileConversions\n",
    "mobile_CR"
   ]
  },
  {
   "cell_type": "markdown",
   "metadata": {},
   "source": [
    "### 4. Validate"
   ]
  },
  {
   "cell_type": "code",
   "execution_count": 8,
   "metadata": {
    "collapsed": false
   },
   "outputs": [
    {
     "data": {
      "text/plain": [
       "True"
      ]
     },
     "execution_count": 8,
     "metadata": {},
     "output_type": "execute_result"
    }
   ],
   "source": [
    "#if mobile CR is greater, equel or less by more than 20% result is failed\n",
    "\n",
    "dif = mobile_CR / desktop_CR\n",
    "\n",
    "if dif > 0.8:\n",
    "    result = False\n",
    "    \n",
    "else:\n",
    "    result = True\n",
    "    \n",
    "result"
   ]
  },
  {
   "cell_type": "markdown",
   "metadata": {},
   "source": [
    "### 5. Visualise"
   ]
  },
  {
   "cell_type": "code",
   "execution_count": 9,
   "metadata": {
    "collapsed": false,
    "scrolled": true
   },
   "outputs": [
    {
     "name": "stdout",
     "output_type": "stream",
     "text": [
      "Have 33 more conversions per month by optmising mobile UX\n"
     ]
    },
    {
     "data": {
      "image/png": "[encoded data removed]",
      "text/plain": [
       "<matplotlib.figure.Figure at 0x2552b7ab278>"
      ]
     },
     "metadata": {},
     "output_type": "display_data"
    }
   ],
   "source": [
    "output_chart_mob = input_mob.loc['mobile',['Sessions','Conversions']]\n",
    "output_chart_mob.plot.barh(stacked=True)\n",
    "\n",
    "labels = output_chart_mob.index\n",
    "sizes = output_chart_mob\n",
    "\n",
    "# colours are taken from http://tools.medialab.sciences-po.fr/iwanthue/\n",
    "colors = ['#b94663','#6fac5d', '#677ad1']\n",
    "explode = (0, 0, 0)\n",
    "plt.xlabel('Visits')\n",
    "plt.title('Only %s ' % (\"%.2f\" % (mobile_CR*100) +'% of all mobile visits end up completing a conversion' ))\n",
    "\n",
    "#need to specify analytics time perdiod\n",
    "print (\"Have %s more conversions per month by optmising mobile UX\" % conv_increase)\n",
    "\n",
    "plt.show()\n"
   ]
  },
  {
   "cell_type": "markdown",
   "metadata": {},
   "source": [
    "## JSON"
   ]
  },
  {
   "cell_type": "markdown",
   "metadata": {},
   "source": [
    "### 0. Import libraries"
   ]
  },
  {
   "cell_type": "code",
   "execution_count": 46,
   "metadata": {
    "collapsed": false
   },
   "outputs": [
    {
     "data": {
      "text/plain": [
       "{'reports': [{'columnHeader': {'dimensions': ['ga:deviceCategory'],\n",
       "    'metricHeader': {'metricHeaderEntries': [{'name': 'ga:sessions',\n",
       "       'type': 'INTEGER'},\n",
       "      {'name': 'ga:bounces', 'type': 'INTEGER'},\n",
       "      {'name': 'ga:goal1Completions', 'type': 'INTEGER'}]}},\n",
       "   'data': {'rows': [{'dimensions': ['desktop'],\n",
       "      'metrics': [{'values': ['4263', '2251', '117']}]},\n",
       "     {'dimensions': ['mobile'],\n",
       "      'metrics': [{'values': ['2352', '1468', '26']}]},\n",
       "     {'dimensions': ['tablet'],\n",
       "      'metrics': [{'values': ['278', '155', '3']}]}]}}]}"
      ]
     },
     "execution_count": 46,
     "metadata": {},
     "output_type": "execute_result"
    }
   ],
   "source": [
    "import json\n",
    "\n",
    "with open('files/TMRW_mob.json') as file:\n",
    "    input_dev = json.load(file)\n",
    "    \n",
    "input_dev"
   ]
  },
  {
   "cell_type": "code",
   "execution_count": 78,
   "metadata": {
    "collapsed": false
   },
   "outputs": [
    {
     "data": {
      "text/plain": [
       "['ga:deviceCategory']"
      ]
     },
     "execution_count": 78,
     "metadata": {},
     "output_type": "execute_result"
    }
   ],
   "source": [
    "# Define dimensions list\n",
    "input_dev_dimensions = input_dev['reports'][0]['columnHeader']['dimensions']\n",
    "\n",
    "input_dev_dimensions"
   ]
  },
  {
   "cell_type": "code",
   "execution_count": 79,
   "metadata": {
    "collapsed": false
   },
   "outputs": [
    {
     "data": {
      "text/plain": [
       "['ga:sessions', 'ga:bounces', 'ga:goal1Completions']"
      ]
     },
     "execution_count": 79,
     "metadata": {},
     "output_type": "execute_result"
    }
   ],
   "source": [
    "# Define metrics list\n",
    "input_dev_metrics = input_dev['reports'][0]['columnHeader']['metricHeader']['metricHeaderEntries']\n",
    "\n",
    "def create_metric_list(raw_data):\n",
    "    lst = []\n",
    "    for item in raw_data:\n",
    "        lst.append(item['name'])\n",
    "    return lst\n",
    "\n",
    "input_dev_metrics = create_list(input_dev_metrics)\n",
    "\n",
    "input_dev_metrics"
   ]
  },
  {
   "cell_type": "code",
   "execution_count": null,
   "metadata": {
    "collapsed": false
   },
   "outputs": [],
   "source": []
  },
  {
   "cell_type": "code",
   "execution_count": 80,
   "metadata": {
    "collapsed": false
   },
   "outputs": [
    {
     "data": {
      "text/plain": [
       "[{'dimensions': ['desktop'], 'metrics': [{'values': ['4263', '2251', '117']}]},\n",
       " {'dimensions': ['mobile'], 'metrics': [{'values': ['2352', '1468', '26']}]},\n",
       " {'dimensions': ['tablet'], 'metrics': [{'values': ['278', '155', '3']}]}]"
      ]
     },
     "execution_count": 80,
     "metadata": {},
     "output_type": "execute_result"
    }
   ],
   "source": [
    "input_dev_data = input_dev['reports'][0]['data']['rows']\n",
    "\n",
    "input_dev_data"
   ]
  },
  {
   "cell_type": "code",
   "execution_count": 150,
   "metadata": {
    "collapsed": false
   },
   "outputs": [
    {
     "name": "stdout",
     "output_type": "stream",
     "text": [
      "{'desktop': 4263, 'mobile': 2352, 'tablet': 278}\n",
      "{'desktop': 2251, 'mobile': 1468, 'tablet': 155}\n",
      "{'desktop': 117, 'mobile': 26, 'tablet': 3}\n"
     ]
    },
    {
     "data": {
      "text/plain": [
       "[{'desktop': 4263, 'mobile': 2352, 'tablet': 278},\n",
       " {'desktop': 2251, 'mobile': 1468, 'tablet': 155},\n",
       " {'desktop': 117, 'mobile': 26, 'tablet': 3}]"
      ]
     },
     "execution_count": 150,
     "metadata": {},
     "output_type": "execute_result"
    }
   ],
   "source": [
    "# Define Sessions dict\n",
    "\n",
    "dev_sessions = {}\n",
    "dev_bounces = {}\n",
    "dev_conversions = {}\n",
    "\n",
    "\n",
    "for device in input_dev_data:\n",
    "    \n",
    "    device_name = device['dimensions'][0]\n",
    "        \n",
    "    sessions_metric = int(device['metrics'][0]['values'][0])\n",
    "    bounces_metric = int(device['metrics'][0]['values'][1])\n",
    "    conv_metric = int(device['metrics'][0]['values'][2])\n",
    "    \n",
    "    dev_sessions[device_name] = sessions_metric\n",
    "    dev_bounces[device_name] = bounces_metric\n",
    "    dev_conversions[device_name] = conv_metric\n",
    "    \n",
    "print(dev_sessions)\n",
    "print(dev_bounces)\n",
    "print(dev_conversions)\n",
    "\n",
    "new_data = [dev_sessions, dev_bounces, dev_conversions]\n",
    "new_data"
   ]
  },
  {
   "cell_type": "code",
   "execution_count": 237,
   "metadata": {
    "collapsed": false
   },
   "outputs": [
    {
     "name": "stdout",
     "output_type": "stream",
     "text": [
      "desktop\n",
      "{'desktop': {'sessions': 4263, 'bounces': 2251, 'conversions': 117}}\n",
      "mobile\n",
      "{'desktop': {'sessions': 2352, 'bounces': 1468, 'conversions': 26}, 'mobile': {'sessions': 2352, 'bounces': 1468, 'conversions': 26}}\n",
      "tablet\n",
      "{'desktop': {'sessions': 278, 'bounces': 155, 'conversions': 3}, 'mobile': {'sessions': 278, 'bounces': 155, 'conversions': 3}, 'tablet': {'sessions': 278, 'bounces': 155, 'conversions': 3}}\n"
     ]
    },
    {
     "data": {
      "text/plain": [
       "{'desktop': {'bounces': 155, 'conversions': 3, 'sessions': 278},\n",
       " 'mobile': {'bounces': 155, 'conversions': 3, 'sessions': 278},\n",
       " 'tablet': {'bounces': 155, 'conversions': 3, 'sessions': 278}}"
      ]
     },
     "execution_count": 237,
     "metadata": {},
     "output_type": "execute_result"
    }
   ],
   "source": [
    "def create_dev_data(s,b,c):\n",
    "    dev_data = {}\n",
    "    metrics = {\n",
    "        'sessions' : 0,\n",
    "        'bounces' : 0,\n",
    "        'conversions' : 0\n",
    "        }\n",
    "    for device in s:\n",
    "        print(device)\n",
    "        dev_data[device] = 0\n",
    "        \n",
    "        \n",
    "        #print(dev_sessions[device])\n",
    "        #print(device)\n",
    "        #\n",
    "        metrics['sessions'] = s[device]\n",
    "        #print(device)\n",
    "        #print(metrics)\n",
    "\n",
    "        metrics['bounces'] = b[device]\n",
    "        metrics['conversions'] = c[device]\n",
    "        \n",
    "        dev_data[device] = metrics\n",
    "        print (dev_data)\n",
    "        \n",
    "    #print(metrics)\n",
    "        \n",
    "        \n",
    "        \n",
    "    return dev_data\n",
    "    \n",
    "\n",
    "create_dev_data(dev_sessions,dev_bounces,dev_conversions)"
   ]
  },
  {
   "cell_type": "code",
   "execution_count": 101,
   "metadata": {
    "collapsed": false
   },
   "outputs": [
    {
     "data": {
      "text/plain": [
       "{'desktop': '4263', 'mobile': '2352', 'tablet': '278'}"
      ]
     },
     "execution_count": 101,
     "metadata": {},
     "output_type": "execute_result"
    }
   ],
   "source": [
    "# Define Bounces dict\n",
    "\n",
    "dev_bounces = {}\n",
    "for device in input_dev_data:\n",
    "    \n",
    "    sessions_metric = (device['metrics'][0]['values'][0])\n",
    "    dev_sessions[device['dimensions'][0]] = sessions_metric\n",
    "    \n",
    "dev_sessions"
   ]
  },
  {
   "cell_type": "code",
   "execution_count": 67,
   "metadata": {
    "collapsed": false
   },
   "outputs": [],
   "source": []
  },
  {
   "cell_type": "code",
   "execution_count": null,
   "metadata": {
    "collapsed": true
   },
   "outputs": [],
   "source": []
  }
 ],
 "metadata": {
  "anaconda-cloud": {},
  "kernelspec": {
   "display_name": "Python 3",
   "language": "python",
   "name": "python3"
  },
  "language_info": {
   "codemirror_mode": {
    "name": "ipython",
    "version": 3
   },
   "file_extension": ".py",
   "mimetype": "text/x-python",
   "name": "python",
   "nbconvert_exporter": "python",
   "pygments_lexer": "ipython3",
   "version": "3.6.0"
  }
 },
 "nbformat": 4,
 "nbformat_minor": 1
}
