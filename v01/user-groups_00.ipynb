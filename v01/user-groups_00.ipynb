{
 "cells": [
  {
   "cell_type": "markdown",
   "metadata": {},
   "source": [
    "# User groups\n",
    "\n",
    "### 0. Import libraries"
   ]
  },
  {
   "cell_type": "code",
   "execution_count": 2,
   "metadata": {
    "collapsed": true
   },
   "outputs": [],
   "source": [
    "%matplotlib inline \n",
    "\n",
    "import numpy as np\n",
    "import scipy as sp\n",
    "import matplotlib as mpl\n",
    "import matplotlib.cm as cm\n",
    "import matplotlib.pyplot as plt\n",
    "import pandas as pd\n",
    "\n",
    "pd.set_option('display.width', 500)\n",
    "pd.set_option('display.max_columns', 100)\n",
    "pd.set_option('display.notebook_repr_html', True)\n",
    "import seaborn as sns #sets up styles and gives us more plotting options"
   ]
  },
  {
   "cell_type": "markdown",
   "metadata": {},
   "source": [
    "### 1. Settings"
   ]
  },
  {
   "cell_type": "code",
   "execution_count": null,
   "metadata": {
    "collapsed": true
   },
   "outputs": [],
   "source": [
    "URL = \"tmrw.co\" # User-entered website"
   ]
  },
  {
   "cell_type": "code",
   "execution_count": 20,
   "metadata": {
    "collapsed": true
   },
   "outputs": [],
   "source": [
    "# Time period 1st Jan - 30th April (arbitrary )\n",
    "\n",
    "# API credentials\n",
    "# Email address 705762800217-compute@developer.gserviceaccount.com\n",
    "# Key IDs 948ee8e2a420ef14a5d5a29bd35104fe2f1e6ed4"
   ]
  },
  {
   "cell_type": "code",
   "execution_count": 21,
   "metadata": {
    "collapsed": true
   },
   "outputs": [],
   "source": [
    "# open file. It is requested via API explorer using request parameters:\n",
    "\n",
    "#Account: TMRW Tech Hub\n",
    "#Property: TMRW\n",
    "#View: All Web Site Data\n",
    "#ids: ga:123303369\n",
    "#start-date: 2017-01-01\n",
    "#end-date: 2017-04-30\n",
    "\n",
    "#metrics\n",
    "#ga:sessions\n",
    "#ga:bounceRate\n",
    "#ga:goal1ConversionRate\n",
    "#ga:goal1Completions\n",
    "\n",
    "#dimensions\n",
    "#ga:city\n",
    "#ga:userAgeBracket\n",
    "\n",
    "#sort\n",
    "#ga:goal1ConversionRate"
   ]
  },
  {
   "cell_type": "markdown",
   "metadata": {},
   "source": [
    "Skipped step:\n",
    "Check statistical validity \n",
    "Filter off spam traffic and own dev/marketing IPs\n",
    "\n",
    "\n",
    "\n",
    "\n",
    "Algorithm of actions:\n",
    "\n",
    "\n",
    "\n",
    "1. Determine buckets\n",
    "\n",
    "### Are there lines that can be grouped by each metric:\n",
    "Bounce Rate\t\n",
    "Avg. Session Duration\t\n",
    "Goal 1 Completions\t\n",
    "Goal 1 Conversion Rate\t\n",
    "Pages / Session\n",
    "\n",
    "\n",
    "\n",
    "### Acceptable spread = 10%\n",
    "\n",
    "\n",
    "Take Key_metrics and check volume of traffic and conversions. Which is the most extreme?\n",
    "Conversion bucket = new array \n",
    "TMRW_users_city.max=TMRW_users_city.max()\n",
    "\n",
    "2. Define key metrics\n",
    "Key_metrics = location/age. Can be location/gender or age/gender also. For them other API call needs to be made.\n",
    "\n",
    "3. Open file\n",
    "\n",
    "4. Visualise"
   ]
  },
  {
   "cell_type": "markdown",
   "metadata": {},
   "source": [
    "### 2. Data import & transformation"
   ]
  },
  {
   "cell_type": "code",
   "execution_count": 102,
   "metadata": {
    "collapsed": false
   },
   "outputs": [
    {
     "data": {
      "text/html": [
       "<div>\n",
       "<table border=\"1\" class=\"dataframe\">\n",
       "  <thead>\n",
       "    <tr style=\"text-align: right;\">\n",
       "      <th></th>\n",
       "      <th>City</th>\n",
       "      <th>Age</th>\n",
       "      <th>Sessions</th>\n",
       "      <th>BR</th>\n",
       "      <th>Conversions</th>\n",
       "      <th>CR</th>\n",
       "    </tr>\n",
       "  </thead>\n",
       "  <tbody>\n",
       "    <tr>\n",
       "      <th>2</th>\n",
       "      <td>London</td>\n",
       "      <td>45-54</td>\n",
       "      <td>165</td>\n",
       "      <td>53.939</td>\n",
       "      <td>2</td>\n",
       "      <td>1.212</td>\n",
       "    </tr>\n",
       "    <tr>\n",
       "      <th>3</th>\n",
       "      <td>Croydon</td>\n",
       "      <td>45-54</td>\n",
       "      <td>82</td>\n",
       "      <td>48.780</td>\n",
       "      <td>1</td>\n",
       "      <td>1.220</td>\n",
       "    </tr>\n",
       "    <tr>\n",
       "      <th>4</th>\n",
       "      <td>London</td>\n",
       "      <td>35-44</td>\n",
       "      <td>426</td>\n",
       "      <td>53.756</td>\n",
       "      <td>12</td>\n",
       "      <td>2.817</td>\n",
       "    </tr>\n",
       "    <tr>\n",
       "      <th>5</th>\n",
       "      <td>London</td>\n",
       "      <td>25-34</td>\n",
       "      <td>758</td>\n",
       "      <td>59.235</td>\n",
       "      <td>22</td>\n",
       "      <td>2.902</td>\n",
       "    </tr>\n",
       "    <tr>\n",
       "      <th>6</th>\n",
       "      <td>Croydon</td>\n",
       "      <td>35-44</td>\n",
       "      <td>204</td>\n",
       "      <td>43.137</td>\n",
       "      <td>6</td>\n",
       "      <td>2.941</td>\n",
       "    </tr>\n",
       "    <tr>\n",
       "      <th>8</th>\n",
       "      <td>Croydon</td>\n",
       "      <td>18-24</td>\n",
       "      <td>86</td>\n",
       "      <td>43.023</td>\n",
       "      <td>3</td>\n",
       "      <td>3.488</td>\n",
       "    </tr>\n",
       "    <tr>\n",
       "      <th>10</th>\n",
       "      <td>Croydon</td>\n",
       "      <td>25-34</td>\n",
       "      <td>299</td>\n",
       "      <td>47.157</td>\n",
       "      <td>15</td>\n",
       "      <td>5.017</td>\n",
       "    </tr>\n",
       "    <tr>\n",
       "      <th>11</th>\n",
       "      <td>London</td>\n",
       "      <td>18-24</td>\n",
       "      <td>155</td>\n",
       "      <td>51.613</td>\n",
       "      <td>8</td>\n",
       "      <td>5.161</td>\n",
       "    </tr>\n",
       "  </tbody>\n",
       "</table>\n",
       "</div>"
      ],
      "text/plain": [
       "       City    Age  Sessions      BR  Conversions     CR\n",
       "2    London  45-54       165  53.939            2  1.212\n",
       "3   Croydon  45-54        82  48.780            1  1.220\n",
       "4    London  35-44       426  53.756           12  2.817\n",
       "5    London  25-34       758  59.235           22  2.902\n",
       "6   Croydon  35-44       204  43.137            6  2.941\n",
       "8   Croydon  18-24        86  43.023            3  3.488\n",
       "10  Croydon  25-34       299  47.157           15  5.017\n",
       "11   London  18-24       155  51.613            8  5.161"
      ]
     },
     "execution_count": 102,
     "metadata": {},
     "output_type": "execute_result"
    }
   ],
   "source": [
    "# Open file\n",
    "input_users = pd.read_csv(\"files/TMRW_users.csv\")\n",
    "\n",
    "# rename columns\n",
    "input_users.columns=['City','Age','Sessions','BR','Conversions','CR'] \n",
    "#input_users = input_users.sort_values('CR')\n",
    "\n",
    "input_users_filter = input_users[input_users.Sessions > 80]\n",
    "input_users_filter"
   ]
  },
  {
   "cell_type": "markdown",
   "metadata": {},
   "source": [
    "### 3. Calculate"
   ]
  },
  {
   "cell_type": "code",
   "execution_count": 104,
   "metadata": {
    "collapsed": false,
    "scrolled": true
   },
   "outputs": [
    {
     "data": {
      "text/plain": [
       "'London 18-24'"
      ]
     },
     "execution_count": 104,
     "metadata": {},
     "output_type": "execute_result"
    }
   ],
   "source": [
    "max_CR = max(input_users_filter.CR)\n",
    "max_CR\n",
    "\n",
    "max_CR_City = input_users_filter.set_index('CR').loc[max_CR,\"City\"]\n",
    "max_CR_Age = input_users_filter.set_index('CR').loc[max_CR,\"Age\"]\n",
    "max_CR_City_Age = max_CR_City + \" \" + max_CR_Age\n",
    "max_CR_City_Age"
   ]
  },
  {
   "cell_type": "code",
   "execution_count": null,
   "metadata": {
    "collapsed": true
   },
   "outputs": [],
   "source": []
  },
  {
   "cell_type": "code",
   "execution_count": 116,
   "metadata": {
    "collapsed": false
   },
   "outputs": [],
   "source": [
    "#algo for bucketing into varios secsions: \n",
    "\n",
    "#buckets by CR\n",
    "\n",
    "input_users_CR = input_users_filter.nlargest(5, 'CR')\n",
    "input_users_CR_City = input_users_CR.groupby(['City','Age']).mean()\n",
    "input_users_CR_Age = input_users_CR.groupby(['Age']).mean() \n"
   ]
  },
  {
   "cell_type": "markdown",
   "metadata": {},
   "source": [
    "### 4. Validate"
   ]
  },
  {
   "cell_type": "markdown",
   "metadata": {},
   "source": [
    "### 5. Visualise"
   ]
  },
  {
   "cell_type": "code",
   "execution_count": 106,
   "metadata": {
    "collapsed": false
   },
   "outputs": [
    {
     "data": {
      "text/html": [
       "\n",
       "    <div class=\"bk-root\">\n",
       "        <a href=\"http://bokeh.pydata.org\" target=\"_blank\" class=\"bk-logo bk-logo-small bk-logo-notebook\"></a>\n",
       "        <span id=\"844513af-9564-45cc-9a15-98e1823c32e4\">Loading BokehJS ...</span>\n",
       "    </div>"
      ]
     },
     "metadata": {},
     "output_type": "display_data"
    },
    {
     "data": {
      "application/javascript": [
       "\n",
       "(function(global) {\n",
       "  function now() {\n",
       "    return new Date();\n",
       "  }\n",
       "\n",
       "  var force = \"1\";\n",
       "\n",
       "  if (typeof (window._bokeh_onload_callbacks) === \"undefined\" || force !== \"\") {\n",
       "    window._bokeh_onload_callbacks = [];\n",
       "    window._bokeh_is_loading = undefined;\n",
       "  }\n",
       "\n",
       "\n",
       "  \n",
       "  if (typeof (window._bokeh_timeout) === \"undefined\" || force !== \"\") {\n",
       "    window._bokeh_timeout = Date.now() + 5000;\n",
       "    window._bokeh_failed_load = false;\n",
       "  }\n",
       "\n",
       "  var NB_LOAD_WARNING = {'data': {'text/html':\n",
       "     \"<div style='background-color: #fdd'>\\n\"+\n",
       "     \"<p>\\n\"+\n",
       "     \"BokehJS does not appear to have successfully loaded. If loading BokehJS from CDN, this \\n\"+\n",
       "     \"may be due to a slow or bad network connection. Possible fixes:\\n\"+\n",
       "     \"</p>\\n\"+\n",
       "     \"<ul>\\n\"+\n",
       "     \"<li>re-rerun `output_notebook()` to attempt to load from CDN again, or</li>\\n\"+\n",
       "     \"<li>use INLINE resources instead, as so:</li>\\n\"+\n",
       "     \"</ul>\\n\"+\n",
       "     \"<code>\\n\"+\n",
       "     \"from bokeh.resources import INLINE\\n\"+\n",
       "     \"output_notebook(resources=INLINE)\\n\"+\n",
       "     \"</code>\\n\"+\n",
       "     \"</div>\"}};\n",
       "\n",
       "  function display_loaded() {\n",
       "    if (window.Bokeh !== undefined) {\n",
       "      Bokeh.$(\"#844513af-9564-45cc-9a15-98e1823c32e4\").text(\"BokehJS successfully loaded.\");\n",
       "    } else if (Date.now() < window._bokeh_timeout) {\n",
       "      setTimeout(display_loaded, 100)\n",
       "    }\n",
       "  }\n",
       "\n",
       "  function run_callbacks() {\n",
       "    window._bokeh_onload_callbacks.forEach(function(callback) { callback() });\n",
       "    delete window._bokeh_onload_callbacks\n",
       "    console.info(\"Bokeh: all callbacks have finished\");\n",
       "  }\n",
       "\n",
       "  function load_libs(js_urls, callback) {\n",
       "    window._bokeh_onload_callbacks.push(callback);\n",
       "    if (window._bokeh_is_loading > 0) {\n",
       "      console.log(\"Bokeh: BokehJS is being loaded, scheduling callback at\", now());\n",
       "      return null;\n",
       "    }\n",
       "    if (js_urls == null || js_urls.length === 0) {\n",
       "      run_callbacks();\n",
       "      return null;\n",
       "    }\n",
       "    console.log(\"Bokeh: BokehJS not loaded, scheduling load and callback at\", now());\n",
       "    window._bokeh_is_loading = js_urls.length;\n",
       "    for (var i = 0; i < js_urls.length; i++) {\n",
       "      var url = js_urls[i];\n",
       "      var s = document.createElement('script');\n",
       "      s.src = url;\n",
       "      s.async = false;\n",
       "      s.onreadystatechange = s.onload = function() {\n",
       "        window._bokeh_is_loading--;\n",
       "        if (window._bokeh_is_loading === 0) {\n",
       "          console.log(\"Bokeh: all BokehJS libraries loaded\");\n",
       "          run_callbacks()\n",
       "        }\n",
       "      };\n",
       "      s.onerror = function() {\n",
       "        console.warn(\"failed to load library \" + url);\n",
       "      };\n",
       "      console.log(\"Bokeh: injecting script tag for BokehJS library: \", url);\n",
       "      document.getElementsByTagName(\"head\")[0].appendChild(s);\n",
       "    }\n",
       "  };var element = document.getElementById(\"844513af-9564-45cc-9a15-98e1823c32e4\");\n",
       "  if (element == null) {\n",
       "    console.log(\"Bokeh: ERROR: autoload.js configured with elementid '844513af-9564-45cc-9a15-98e1823c32e4' but no matching script tag was found. \")\n",
       "    return false;\n",
       "  }\n",
       "\n",
       "  var js_urls = ['https://cdn.pydata.org/bokeh/release/bokeh-0.12.3.min.js', 'https://cdn.pydata.org/bokeh/release/bokeh-widgets-0.12.3.min.js'];\n",
       "\n",
       "  var inline_js = [\n",
       "    function(Bokeh) {\n",
       "      Bokeh.set_log_level(\"info\");\n",
       "    },\n",
       "    \n",
       "    function(Bokeh) {\n",
       "      \n",
       "      Bokeh.$(\"#844513af-9564-45cc-9a15-98e1823c32e4\").text(\"BokehJS is loading...\");\n",
       "    },\n",
       "    function(Bokeh) {\n",
       "      console.log(\"Bokeh: injecting CSS: https://cdn.pydata.org/bokeh/release/bokeh-0.12.3.min.css\");\n",
       "      Bokeh.embed.inject_css(\"https://cdn.pydata.org/bokeh/release/bokeh-0.12.3.min.css\");\n",
       "      console.log(\"Bokeh: injecting CSS: https://cdn.pydata.org/bokeh/release/bokeh-widgets-0.12.3.min.css\");\n",
       "      Bokeh.embed.inject_css(\"https://cdn.pydata.org/bokeh/release/bokeh-widgets-0.12.3.min.css\");\n",
       "    }\n",
       "  ];\n",
       "\n",
       "  function run_inline_js() {\n",
       "    \n",
       "    if ((window.Bokeh !== undefined) || (force === \"1\")) {\n",
       "      for (var i = 0; i < inline_js.length; i++) {\n",
       "        inline_js[i](window.Bokeh);\n",
       "      }if (force === \"1\") {\n",
       "        display_loaded();\n",
       "      }} else if (Date.now() < window._bokeh_timeout) {\n",
       "      setTimeout(run_inline_js, 100);\n",
       "    } else if (!window._bokeh_failed_load) {\n",
       "      console.log(\"Bokeh: BokehJS failed to load within specified timeout.\");\n",
       "      window._bokeh_failed_load = true;\n",
       "    } else if (!force) {\n",
       "      var cell = $(\"#844513af-9564-45cc-9a15-98e1823c32e4\").parents('.cell').data().cell;\n",
       "      cell.output_area.append_execute_result(NB_LOAD_WARNING)\n",
       "    }\n",
       "\n",
       "  }\n",
       "\n",
       "  if (window._bokeh_is_loading === 0) {\n",
       "    console.log(\"Bokeh: BokehJS loaded, going straight to plotting\");\n",
       "    run_inline_js();\n",
       "  } else {\n",
       "    load_libs(js_urls, function() {\n",
       "      console.log(\"Bokeh: BokehJS plotting callback run at\", now());\n",
       "      run_inline_js();\n",
       "    });\n",
       "  }\n",
       "}(this));"
      ]
     },
     "metadata": {},
     "output_type": "display_data"
    },
    {
     "data": {
      "text/html": [
       "\n",
       "\n",
       "    <div class=\"bk-root\">\n",
       "        <div class=\"plotdiv\" id=\"f5eede3b-d6a2-44ec-99a4-df8ac8188ab1\"></div>\n",
       "    </div>\n",
       "<script type=\"text/javascript\">\n",
       "  \n",
       "  (function(global) {\n",
       "    function now() {\n",
       "      return new Date();\n",
       "    }\n",
       "  \n",
       "    var force = \"\";\n",
       "  \n",
       "    if (typeof (window._bokeh_onload_callbacks) === \"undefined\" || force !== \"\") {\n",
       "      window._bokeh_onload_callbacks = [];\n",
       "      window._bokeh_is_loading = undefined;\n",
       "    }\n",
       "  \n",
       "  \n",
       "    \n",
       "    if (typeof (window._bokeh_timeout) === \"undefined\" || force !== \"\") {\n",
       "      window._bokeh_timeout = Date.now() + 0;\n",
       "      window._bokeh_failed_load = false;\n",
       "    }\n",
       "  \n",
       "    var NB_LOAD_WARNING = {'data': {'text/html':\n",
       "       \"<div style='background-color: #fdd'>\\n\"+\n",
       "       \"<p>\\n\"+\n",
       "       \"BokehJS does not appear to have successfully loaded. If loading BokehJS from CDN, this \\n\"+\n",
       "       \"may be due to a slow or bad network connection. Possible fixes:\\n\"+\n",
       "       \"</p>\\n\"+\n",
       "       \"<ul>\\n\"+\n",
       "       \"<li>re-rerun `output_notebook()` to attempt to load from CDN again, or</li>\\n\"+\n",
       "       \"<li>use INLINE resources instead, as so:</li>\\n\"+\n",
       "       \"</ul>\\n\"+\n",
       "       \"<code>\\n\"+\n",
       "       \"from bokeh.resources import INLINE\\n\"+\n",
       "       \"output_notebook(resources=INLINE)\\n\"+\n",
       "       \"</code>\\n\"+\n",
       "       \"</div>\"}};\n",
       "  \n",
       "    function display_loaded() {\n",
       "      if (window.Bokeh !== undefined) {\n",
       "        Bokeh.$(\"#f5eede3b-d6a2-44ec-99a4-df8ac8188ab1\").text(\"BokehJS successfully loaded.\");\n",
       "      } else if (Date.now() < window._bokeh_timeout) {\n",
       "        setTimeout(display_loaded, 100)\n",
       "      }\n",
       "    }\n",
       "  \n",
       "    function run_callbacks() {\n",
       "      window._bokeh_onload_callbacks.forEach(function(callback) { callback() });\n",
       "      delete window._bokeh_onload_callbacks\n",
       "      console.info(\"Bokeh: all callbacks have finished\");\n",
       "    }\n",
       "  \n",
       "    function load_libs(js_urls, callback) {\n",
       "      window._bokeh_onload_callbacks.push(callback);\n",
       "      if (window._bokeh_is_loading > 0) {\n",
       "        console.log(\"Bokeh: BokehJS is being loaded, scheduling callback at\", now());\n",
       "        return null;\n",
       "      }\n",
       "      if (js_urls == null || js_urls.length === 0) {\n",
       "        run_callbacks();\n",
       "        return null;\n",
       "      }\n",
       "      console.log(\"Bokeh: BokehJS not loaded, scheduling load and callback at\", now());\n",
       "      window._bokeh_is_loading = js_urls.length;\n",
       "      for (var i = 0; i < js_urls.length; i++) {\n",
       "        var url = js_urls[i];\n",
       "        var s = document.createElement('script');\n",
       "        s.src = url;\n",
       "        s.async = false;\n",
       "        s.onreadystatechange = s.onload = function() {\n",
       "          window._bokeh_is_loading--;\n",
       "          if (window._bokeh_is_loading === 0) {\n",
       "            console.log(\"Bokeh: all BokehJS libraries loaded\");\n",
       "            run_callbacks()\n",
       "          }\n",
       "        };\n",
       "        s.onerror = function() {\n",
       "          console.warn(\"failed to load library \" + url);\n",
       "        };\n",
       "        console.log(\"Bokeh: injecting script tag for BokehJS library: \", url);\n",
       "        document.getElementsByTagName(\"head\")[0].appendChild(s);\n",
       "      }\n",
       "    };var element = document.getElementById(\"f5eede3b-d6a2-44ec-99a4-df8ac8188ab1\");\n",
       "    if (element == null) {\n",
       "      console.log(\"Bokeh: ERROR: autoload.js configured with elementid 'f5eede3b-d6a2-44ec-99a4-df8ac8188ab1' but no matching script tag was found. \")\n",
       "      return false;\n",
       "    }\n",
       "  \n",
       "    var js_urls = [];\n",
       "  \n",
       "    var inline_js = [\n",
       "      function(Bokeh) {\n",
       "        Bokeh.$(function() {\n",
       "            var docs_json = {\"ba9f2a04-c00d-4f1f-a14c-c52cacdb1ef9\":{\"roots\":{\"references\":[{\"attributes\":{\"data_source\":{\"id\":\"917316d6-276c-4f93-a871-1ef1f6dd7f22\",\"type\":\"ColumnDataSource\"},\"glyph\":{\"id\":\"66ea7736-8c40-4041-b2fe-6b52e0d84f68\",\"type\":\"Rect\"},\"hover_glyph\":null,\"nonselection_glyph\":null,\"selection_glyph\":null},\"id\":\"ffac7a1f-9c62-4a3c-98b6-a6456846885d\",\"type\":\"GlyphRenderer\"},{\"attributes\":{},\"id\":\"bd197e05-23d4-4d37-958d-544ea726e5e8\",\"type\":\"ToolEvents\"},{\"attributes\":{\"callback\":null,\"column_names\":[\"x\",\"y\",\"width\",\"height\",\"color\",\"fill_alpha\",\"line_color\",\"line_alpha\",\"label\"],\"data\":{\"Age\":[\"18-24\"],\"City\":[\"Croydon\"],\"chart_index\":[{\"Age\":\"18-24\",\"City\":\"Croydon\"}],\"color\":[\"#f22c40\"],\"fill_alpha\":[0.8],\"height\":[3.488],\"label\":[{\"Age\":\"18-24\",\"City\":\"Croydon\"}],\"line_alpha\":[1.0],\"line_color\":[\"white\"],\"width\":[0.8],\"x\":[\"Croydon\"],\"y\":[5.905]}},\"id\":\"93f337ce-54d5-41b4-aa15-2cc3d9a58404\",\"type\":\"ColumnDataSource\"},{\"attributes\":{\"below\":[{\"id\":\"62ad52c5-e738-4834-900d-fc7693477003\",\"type\":\"CategoricalAxis\"}],\"left\":[{\"id\":\"e161dfe6-48da-42fd-8ed3-52a73babbcaf\",\"type\":\"LinearAxis\"}],\"renderers\":[{\"id\":\"9399a9dc-10ab-43a8-9749-46d54750ee41\",\"type\":\"BoxAnnotation\"},{\"id\":\"ffac7a1f-9c62-4a3c-98b6-a6456846885d\",\"type\":\"GlyphRenderer\"},{\"id\":\"755eb269-ec42-4848-a590-c600bceb12c3\",\"type\":\"GlyphRenderer\"},{\"id\":\"835e39a4-9fcf-45bc-8a5b-f51613dae4cf\",\"type\":\"GlyphRenderer\"},{\"id\":\"014c0452-82ae-47c4-9136-43ab2b4ac189\",\"type\":\"GlyphRenderer\"},{\"id\":\"963d469b-d2f2-449c-803e-79656706411a\",\"type\":\"GlyphRenderer\"},{\"id\":\"a36758eb-ef51-4c40-8987-53ccc2b07091\",\"type\":\"GlyphRenderer\"},{\"id\":\"7ea750a6-a607-4046-8320-4a4ee417d6ae\",\"type\":\"GlyphRenderer\"},{\"id\":\"c2b8937d-cae6-4949-93bf-d072ad3da86b\",\"type\":\"GlyphRenderer\"},{\"id\":\"57681dc0-4cdf-48d6-b110-1cbb8141667d\",\"type\":\"Legend\"},{\"id\":\"62ad52c5-e738-4834-900d-fc7693477003\",\"type\":\"CategoricalAxis\"},{\"id\":\"e161dfe6-48da-42fd-8ed3-52a73babbcaf\",\"type\":\"LinearAxis\"},{\"id\":\"352bb9a3-5d21-4dec-92c2-cfa065194b18\",\"type\":\"Grid\"}],\"title\":{\"id\":\"0554fcd2-6d4e-42f3-ac43-3a9f4a9cfb29\",\"type\":\"Title\"},\"tool_events\":{\"id\":\"bd197e05-23d4-4d37-958d-544ea726e5e8\",\"type\":\"ToolEvents\"},\"toolbar\":{\"id\":\"3ca24abb-44fa-4525-a7ce-5d84bd1579ca\",\"type\":\"Toolbar\"},\"x_mapper_type\":\"auto\",\"x_range\":{\"id\":\"85da3761-c207-4271-b5f6-a43622c8f452\",\"type\":\"FactorRange\"},\"y_mapper_type\":\"auto\",\"y_range\":{\"id\":\"53a0b2b7-cf49-4842-9fa0-8852a1f32b5e\",\"type\":\"Range1d\"}},\"id\":\"87015ced-b711-49e5-bca0-6a3644c7b1d3\",\"subtype\":\"Chart\",\"type\":\"Plot\"},{\"attributes\":{\"items\":[{\"id\":\"e551c37f-6add-44af-9e40-fcf15b47fc59\",\"type\":\"LegendItem\"},{\"id\":\"d85c083f-cc1b-459e-a5ac-3f57c45de4d6\",\"type\":\"LegendItem\"},{\"id\":\"89f76f79-5701-45c5-bef6-ce29be663126\",\"type\":\"LegendItem\"},{\"id\":\"53594425-2306-4478-add5-28cd8f9019a2\",\"type\":\"LegendItem\"}],\"plot\":{\"id\":\"87015ced-b711-49e5-bca0-6a3644c7b1d3\",\"subtype\":\"Chart\",\"type\":\"Plot\"}},\"id\":\"57681dc0-4cdf-48d6-b110-1cbb8141667d\",\"type\":\"Legend\"},{\"attributes\":{\"data_source\":{\"id\":\"89f855af-4849-4513-a1b3-4b58da27e64f\",\"type\":\"ColumnDataSource\"},\"glyph\":{\"id\":\"10eaa0a3-411e-4c08-9d2b-bd820cfec2c1\",\"type\":\"Rect\"},\"hover_glyph\":null,\"nonselection_glyph\":null,\"selection_glyph\":null},\"id\":\"963d469b-d2f2-449c-803e-79656706411a\",\"type\":\"GlyphRenderer\"},{\"attributes\":{\"overlay\":{\"id\":\"9399a9dc-10ab-43a8-9749-46d54750ee41\",\"type\":\"BoxAnnotation\"},\"plot\":{\"id\":\"87015ced-b711-49e5-bca0-6a3644c7b1d3\",\"subtype\":\"Chart\",\"type\":\"Plot\"}},\"id\":\"f17d8852-d4b3-486a-b1a8-69cc4afa0401\",\"type\":\"BoxZoomTool\"},{\"attributes\":{\"callback\":null,\"column_names\":[\"x\",\"y\",\"width\",\"height\",\"color\",\"fill_alpha\",\"line_color\",\"line_alpha\",\"label\"],\"data\":{\"Age\":[\"45-54\"],\"City\":[\"London\"],\"chart_index\":[{\"Age\":\"45-54\",\"City\":\"London\"}],\"color\":[\"#df5320\"],\"fill_alpha\":[0.8],\"height\":[1.212],\"label\":[{\"Age\":\"45-54\",\"City\":\"London\"}],\"line_alpha\":[1.0],\"line_color\":[\"white\"],\"width\":[0.8],\"x\":[\"London\"],\"y\":[0.606]}},\"id\":\"917316d6-276c-4f93-a871-1ef1f6dd7f22\",\"type\":\"ColumnDataSource\"},{\"attributes\":{\"data_source\":{\"id\":\"93f337ce-54d5-41b4-aa15-2cc3d9a58404\",\"type\":\"ColumnDataSource\"},\"glyph\":{\"id\":\"9a0b41f6-ecd3-456b-9c3b-d2f23f902d9c\",\"type\":\"Rect\"},\"hover_glyph\":null,\"nonselection_glyph\":null,\"selection_glyph\":null},\"id\":\"a36758eb-ef51-4c40-8987-53ccc2b07091\",\"type\":\"GlyphRenderer\"},{\"attributes\":{\"label\":{\"value\":\"45-54\"},\"renderers\":[{\"id\":\"ffac7a1f-9c62-4a3c-98b6-a6456846885d\",\"type\":\"GlyphRenderer\"}]},\"id\":\"e551c37f-6add-44af-9e40-fcf15b47fc59\",\"type\":\"LegendItem\"},{\"attributes\":{\"plot\":{\"id\":\"87015ced-b711-49e5-bca0-6a3644c7b1d3\",\"subtype\":\"Chart\",\"type\":\"Plot\"}},\"id\":\"caa231a5-373c-45bc-aeb0-da4ec82f7067\",\"type\":\"WheelZoomTool\"},{\"attributes\":{\"label\":{\"value\":\"18-24\"},\"renderers\":[{\"id\":\"a36758eb-ef51-4c40-8987-53ccc2b07091\",\"type\":\"GlyphRenderer\"}]},\"id\":\"53594425-2306-4478-add5-28cd8f9019a2\",\"type\":\"LegendItem\"},{\"attributes\":{\"fill_alpha\":{\"field\":\"fill_alpha\"},\"fill_color\":{\"field\":\"color\"},\"height\":{\"field\":\"height\",\"units\":\"data\"},\"line_color\":{\"field\":\"line_color\"},\"width\":{\"field\":\"width\",\"units\":\"data\"},\"x\":{\"field\":\"x\"},\"y\":{\"field\":\"y\"}},\"id\":\"c7d3b037-c2dc-4d72-9c4d-bc2f70fa5103\",\"type\":\"Rect\"},{\"attributes\":{\"bottom_units\":\"screen\",\"fill_alpha\":{\"value\":0.5},\"fill_color\":{\"value\":\"lightgrey\"},\"left_units\":\"screen\",\"level\":\"overlay\",\"line_alpha\":{\"value\":1.0},\"line_color\":{\"value\":\"black\"},\"line_dash\":[4,4],\"line_width\":{\"value\":2},\"plot\":null,\"render_mode\":\"css\",\"right_units\":\"screen\",\"top_units\":\"screen\"},\"id\":\"9399a9dc-10ab-43a8-9749-46d54750ee41\",\"type\":\"BoxAnnotation\"},{\"attributes\":{\"fill_alpha\":{\"field\":\"fill_alpha\"},\"fill_color\":{\"field\":\"color\"},\"height\":{\"field\":\"height\",\"units\":\"data\"},\"line_color\":{\"field\":\"line_color\"},\"width\":{\"field\":\"width\",\"units\":\"data\"},\"x\":{\"field\":\"x\"},\"y\":{\"field\":\"y\"}},\"id\":\"5e840fe8-27a7-46ea-bb99-a57587f156c0\",\"type\":\"Rect\"},{\"attributes\":{\"axis_label\":\"Mean( Cr )\",\"formatter\":{\"id\":\"f3b6ad62-c314-444c-9f36-d9937b394b6c\",\"type\":\"BasicTickFormatter\"},\"plot\":{\"id\":\"87015ced-b711-49e5-bca0-6a3644c7b1d3\",\"subtype\":\"Chart\",\"type\":\"Plot\"},\"ticker\":{\"id\":\"196a5279-3a6e-4286-979e-26d72064a86c\",\"type\":\"BasicTicker\"}},\"id\":\"e161dfe6-48da-42fd-8ed3-52a73babbcaf\",\"type\":\"LinearAxis\"},{\"attributes\":{\"plot\":{\"id\":\"87015ced-b711-49e5-bca0-6a3644c7b1d3\",\"subtype\":\"Chart\",\"type\":\"Plot\"}},\"id\":\"90c1fabd-d3f2-4f41-a2af-24a3449bd51c\",\"type\":\"SaveTool\"},{\"attributes\":{},\"id\":\"196a5279-3a6e-4286-979e-26d72064a86c\",\"type\":\"BasicTicker\"},{\"attributes\":{\"data_source\":{\"id\":\"fe82f44a-939a-4c21-be3f-a0da6df11225\",\"type\":\"ColumnDataSource\"},\"glyph\":{\"id\":\"c7d3b037-c2dc-4d72-9c4d-bc2f70fa5103\",\"type\":\"Rect\"},\"hover_glyph\":null,\"nonselection_glyph\":null,\"selection_glyph\":null},\"id\":\"7ea750a6-a607-4046-8320-4a4ee417d6ae\",\"type\":\"GlyphRenderer\"},{\"attributes\":{\"axis_label\":\"City\",\"formatter\":{\"id\":\"25b65fec-b000-4ded-a341-71941b87fe40\",\"type\":\"CategoricalTickFormatter\"},\"major_label_orientation\":0.7853981633974483,\"plot\":{\"id\":\"87015ced-b711-49e5-bca0-6a3644c7b1d3\",\"subtype\":\"Chart\",\"type\":\"Plot\"},\"ticker\":{\"id\":\"f8858490-7eb5-43fb-b25c-dff43dae2880\",\"type\":\"CategoricalTicker\"}},\"id\":\"62ad52c5-e738-4834-900d-fc7693477003\",\"type\":\"CategoricalAxis\"},{\"attributes\":{\"fill_alpha\":{\"field\":\"fill_alpha\"},\"fill_color\":{\"field\":\"color\"},\"height\":{\"field\":\"height\",\"units\":\"data\"},\"line_color\":{\"field\":\"line_color\"},\"width\":{\"field\":\"width\",\"units\":\"data\"},\"x\":{\"field\":\"x\"},\"y\":{\"field\":\"y\"}},\"id\":\"49f9715c-4f6a-4bc2-b075-7ee55105d486\",\"type\":\"Rect\"},{\"attributes\":{\"label\":{\"value\":\"25-34\"},\"renderers\":[{\"id\":\"014c0452-82ae-47c4-9136-43ab2b4ac189\",\"type\":\"GlyphRenderer\"}]},\"id\":\"89f76f79-5701-45c5-bef6-ce29be663126\",\"type\":\"LegendItem\"},{\"attributes\":{\"callback\":null,\"column_names\":[\"x\",\"y\",\"width\",\"height\",\"color\",\"fill_alpha\",\"line_color\",\"line_alpha\",\"label\"],\"data\":{\"Age\":[\"25-34\"],\"City\":[\"Croydon\"],\"chart_index\":[{\"Age\":\"25-34\",\"City\":\"Croydon\"}],\"color\":[\"#5ab738\"],\"fill_alpha\":[0.8],\"height\":[5.0169999999999995],\"label\":[{\"Age\":\"25-34\",\"City\":\"Croydon\"}],\"line_alpha\":[1.0],\"line_color\":[\"white\"],\"width\":[0.8],\"x\":[\"Croydon\"],\"y\":[10.1575]}},\"id\":\"fe82f44a-939a-4c21-be3f-a0da6df11225\",\"type\":\"ColumnDataSource\"},{\"attributes\":{\"label\":{\"value\":\"35-44\"},\"renderers\":[{\"id\":\"835e39a4-9fcf-45bc-8a5b-f51613dae4cf\",\"type\":\"GlyphRenderer\"}]},\"id\":\"d85c083f-cc1b-459e-a5ac-3f57c45de4d6\",\"type\":\"LegendItem\"},{\"attributes\":{\"callback\":null,\"column_names\":[\"x\",\"y\",\"width\",\"height\",\"color\",\"fill_alpha\",\"line_color\",\"line_alpha\",\"label\"],\"data\":{\"Age\":[\"45-54\"],\"City\":[\"Croydon\"],\"chart_index\":[{\"Age\":\"45-54\",\"City\":\"Croydon\"}],\"color\":[\"#df5320\"],\"fill_alpha\":[0.8],\"height\":[1.22],\"label\":[{\"Age\":\"45-54\",\"City\":\"Croydon\"}],\"line_alpha\":[1.0],\"line_color\":[\"white\"],\"width\":[0.8],\"x\":[\"Croydon\"],\"y\":[0.61]}},\"id\":\"0b9e0889-ce81-486c-9c22-66f0da918104\",\"type\":\"ColumnDataSource\"},{\"attributes\":{\"data_source\":{\"id\":\"05efb5c6-dbf0-4a3d-ba47-a8c309451028\",\"type\":\"ColumnDataSource\"},\"glyph\":{\"id\":\"49f9715c-4f6a-4bc2-b075-7ee55105d486\",\"type\":\"Rect\"},\"hover_glyph\":null,\"nonselection_glyph\":null,\"selection_glyph\":null},\"id\":\"c2b8937d-cae6-4949-93bf-d072ad3da86b\",\"type\":\"GlyphRenderer\"},{\"attributes\":{\"plot\":{\"id\":\"87015ced-b711-49e5-bca0-6a3644c7b1d3\",\"subtype\":\"Chart\",\"type\":\"Plot\"}},\"id\":\"588a9148-1b23-44b3-bfc2-726ee6830f3c\",\"type\":\"HelpTool\"},{\"attributes\":{},\"id\":\"f8858490-7eb5-43fb-b25c-dff43dae2880\",\"type\":\"CategoricalTicker\"},{\"attributes\":{},\"id\":\"25b65fec-b000-4ded-a341-71941b87fe40\",\"type\":\"CategoricalTickFormatter\"},{\"attributes\":{},\"id\":\"f3b6ad62-c314-444c-9f36-d9937b394b6c\",\"type\":\"BasicTickFormatter\"},{\"attributes\":{\"dimension\":1,\"plot\":{\"id\":\"87015ced-b711-49e5-bca0-6a3644c7b1d3\",\"subtype\":\"Chart\",\"type\":\"Plot\"},\"ticker\":{\"id\":\"196a5279-3a6e-4286-979e-26d72064a86c\",\"type\":\"BasicTicker\"}},\"id\":\"352bb9a3-5d21-4dec-92c2-cfa065194b18\",\"type\":\"Grid\"},{\"attributes\":{\"callback\":null,\"column_names\":[\"x\",\"y\",\"width\",\"height\",\"color\",\"fill_alpha\",\"line_color\",\"line_alpha\",\"label\"],\"data\":{\"Age\":[\"35-44\"],\"City\":[\"Croydon\"],\"chart_index\":[{\"Age\":\"35-44\",\"City\":\"Croydon\"}],\"color\":[\"#407ee7\"],\"fill_alpha\":[0.8],\"height\":[2.9410000000000003],\"label\":[{\"Age\":\"35-44\",\"City\":\"Croydon\"}],\"line_alpha\":[1.0],\"line_color\":[\"white\"],\"width\":[0.8],\"x\":[\"Croydon\"],\"y\":[2.6905]}},\"id\":\"89f855af-4849-4513-a1b3-4b58da27e64f\",\"type\":\"ColumnDataSource\"},{\"attributes\":{\"callback\":null,\"column_names\":[\"x\",\"y\",\"width\",\"height\",\"color\",\"fill_alpha\",\"line_color\",\"line_alpha\",\"label\"],\"data\":{\"Age\":[\"18-24\"],\"City\":[\"London\"],\"chart_index\":[{\"Age\":\"18-24\",\"City\":\"London\"}],\"color\":[\"#f22c40\"],\"fill_alpha\":[0.8],\"height\":[5.1610000000000005],\"label\":[{\"Age\":\"18-24\",\"City\":\"London\"}],\"line_alpha\":[1.0],\"line_color\":[\"white\"],\"width\":[0.8],\"x\":[\"London\"],\"y\":[9.5115]}},\"id\":\"05efb5c6-dbf0-4a3d-ba47-a8c309451028\",\"type\":\"ColumnDataSource\"},{\"attributes\":{\"fill_alpha\":{\"field\":\"fill_alpha\"},\"fill_color\":{\"field\":\"color\"},\"height\":{\"field\":\"height\",\"units\":\"data\"},\"line_color\":{\"field\":\"line_color\"},\"width\":{\"field\":\"width\",\"units\":\"data\"},\"x\":{\"field\":\"x\"},\"y\":{\"field\":\"y\"}},\"id\":\"66ea7736-8c40-4041-b2fe-6b52e0d84f68\",\"type\":\"Rect\"},{\"attributes\":{\"callback\":null,\"factors\":[\"Croydon\",\"London\"]},\"id\":\"85da3761-c207-4271-b5f6-a43622c8f452\",\"type\":\"FactorRange\"},{\"attributes\":{\"callback\":null,\"column_names\":[\"x\",\"y\",\"width\",\"height\",\"color\",\"fill_alpha\",\"line_color\",\"line_alpha\",\"label\"],\"data\":{\"Age\":[\"35-44\"],\"City\":[\"London\"],\"chart_index\":[{\"Age\":\"35-44\",\"City\":\"London\"}],\"color\":[\"#407ee7\"],\"fill_alpha\":[0.8],\"height\":[2.8169999999999997],\"label\":[{\"Age\":\"35-44\",\"City\":\"London\"}],\"line_alpha\":[1.0],\"line_color\":[\"white\"],\"width\":[0.8],\"x\":[\"London\"],\"y\":[2.6205]}},\"id\":\"cd29ad8d-e77c-459b-b37d-38ff5773b4d9\",\"type\":\"ColumnDataSource\"},{\"attributes\":{\"fill_alpha\":{\"field\":\"fill_alpha\"},\"fill_color\":{\"field\":\"color\"},\"height\":{\"field\":\"height\",\"units\":\"data\"},\"line_color\":{\"field\":\"line_color\"},\"width\":{\"field\":\"width\",\"units\":\"data\"},\"x\":{\"field\":\"x\"},\"y\":{\"field\":\"y\"}},\"id\":\"329a30b3-9e47-4027-bb4a-184ada86fc16\",\"type\":\"Rect\"},{\"attributes\":{\"plot\":{\"id\":\"87015ced-b711-49e5-bca0-6a3644c7b1d3\",\"subtype\":\"Chart\",\"type\":\"Plot\"}},\"id\":\"0902edb4-be05-45c0-87c4-62e883158b2c\",\"type\":\"ResetTool\"},{\"attributes\":{\"data_source\":{\"id\":\"0b9e0889-ce81-486c-9c22-66f0da918104\",\"type\":\"ColumnDataSource\"},\"glyph\":{\"id\":\"5e840fe8-27a7-46ea-bb99-a57587f156c0\",\"type\":\"Rect\"},\"hover_glyph\":null,\"nonselection_glyph\":null,\"selection_glyph\":null},\"id\":\"755eb269-ec42-4848-a590-c600bceb12c3\",\"type\":\"GlyphRenderer\"},{\"attributes\":{\"fill_alpha\":{\"field\":\"fill_alpha\"},\"fill_color\":{\"field\":\"color\"},\"height\":{\"field\":\"height\",\"units\":\"data\"},\"line_color\":{\"field\":\"line_color\"},\"width\":{\"field\":\"width\",\"units\":\"data\"},\"x\":{\"field\":\"x\"},\"y\":{\"field\":\"y\"}},\"id\":\"10eaa0a3-411e-4c08-9d2b-bd820cfec2c1\",\"type\":\"Rect\"},{\"attributes\":{\"data_source\":{\"id\":\"cd29ad8d-e77c-459b-b37d-38ff5773b4d9\",\"type\":\"ColumnDataSource\"},\"glyph\":{\"id\":\"329a30b3-9e47-4027-bb4a-184ada86fc16\",\"type\":\"Rect\"},\"hover_glyph\":null,\"nonselection_glyph\":null,\"selection_glyph\":null},\"id\":\"835e39a4-9fcf-45bc-8a5b-f51613dae4cf\",\"type\":\"GlyphRenderer\"},{\"attributes\":{\"fill_alpha\":{\"field\":\"fill_alpha\"},\"fill_color\":{\"field\":\"color\"},\"height\":{\"field\":\"height\",\"units\":\"data\"},\"line_color\":{\"field\":\"line_color\"},\"width\":{\"field\":\"width\",\"units\":\"data\"},\"x\":{\"field\":\"x\"},\"y\":{\"field\":\"y\"}},\"id\":\"9a0b41f6-ecd3-456b-9c3b-d2f23f902d9c\",\"type\":\"Rect\"},{\"attributes\":{\"callback\":null,\"end\":13.2993},\"id\":\"53a0b2b7-cf49-4842-9fa0-8852a1f32b5e\",\"type\":\"Range1d\"},{\"attributes\":{\"plot\":{\"id\":\"87015ced-b711-49e5-bca0-6a3644c7b1d3\",\"subtype\":\"Chart\",\"type\":\"Plot\"}},\"id\":\"964b0654-81b1-4f50-a36b-2522b5b85831\",\"type\":\"PanTool\"},{\"attributes\":{\"fill_alpha\":{\"field\":\"fill_alpha\"},\"fill_color\":{\"field\":\"color\"},\"height\":{\"field\":\"height\",\"units\":\"data\"},\"line_color\":{\"field\":\"line_color\"},\"width\":{\"field\":\"width\",\"units\":\"data\"},\"x\":{\"field\":\"x\"},\"y\":{\"field\":\"y\"}},\"id\":\"e4492c72-6167-4c72-a5b1-23431f374a47\",\"type\":\"Rect\"},{\"attributes\":{\"callback\":null,\"column_names\":[\"x\",\"y\",\"width\",\"height\",\"color\",\"fill_alpha\",\"line_color\",\"line_alpha\",\"label\"],\"data\":{\"Age\":[\"25-34\"],\"City\":[\"London\"],\"chart_index\":[{\"Age\":\"25-34\",\"City\":\"London\"}],\"color\":[\"#5ab738\"],\"fill_alpha\":[0.8],\"height\":[2.9019999999999997],\"label\":[{\"Age\":\"25-34\",\"City\":\"London\"}],\"line_alpha\":[1.0],\"line_color\":[\"white\"],\"width\":[0.8],\"x\":[\"London\"],\"y\":[5.4799999999999995]}},\"id\":\"54c1152e-06ae-4f1e-bbba-66d5f33ed440\",\"type\":\"ColumnDataSource\"},{\"attributes\":{\"plot\":null,\"text\":\"London 18-24 is most converting Demographic category\"},\"id\":\"0554fcd2-6d4e-42f3-ac43-3a9f4a9cfb29\",\"type\":\"Title\"},{\"attributes\":{\"data_source\":{\"id\":\"54c1152e-06ae-4f1e-bbba-66d5f33ed440\",\"type\":\"ColumnDataSource\"},\"glyph\":{\"id\":\"e4492c72-6167-4c72-a5b1-23431f374a47\",\"type\":\"Rect\"},\"hover_glyph\":null,\"nonselection_glyph\":null,\"selection_glyph\":null},\"id\":\"014c0452-82ae-47c4-9136-43ab2b4ac189\",\"type\":\"GlyphRenderer\"},{\"attributes\":{\"active_drag\":\"auto\",\"active_scroll\":\"auto\",\"active_tap\":\"auto\",\"tools\":[{\"id\":\"964b0654-81b1-4f50-a36b-2522b5b85831\",\"type\":\"PanTool\"},{\"id\":\"caa231a5-373c-45bc-aeb0-da4ec82f7067\",\"type\":\"WheelZoomTool\"},{\"id\":\"f17d8852-d4b3-486a-b1a8-69cc4afa0401\",\"type\":\"BoxZoomTool\"},{\"id\":\"90c1fabd-d3f2-4f41-a2af-24a3449bd51c\",\"type\":\"SaveTool\"},{\"id\":\"0902edb4-be05-45c0-87c4-62e883158b2c\",\"type\":\"ResetTool\"},{\"id\":\"588a9148-1b23-44b3-bfc2-726ee6830f3c\",\"type\":\"HelpTool\"}]},\"id\":\"3ca24abb-44fa-4525-a7ce-5d84bd1579ca\",\"type\":\"Toolbar\"}],\"root_ids\":[\"87015ced-b711-49e5-bca0-6a3644c7b1d3\"]},\"title\":\"Bokeh Application\",\"version\":\"0.12.3\"}};\n",
       "            var render_items = [{\"docid\":\"ba9f2a04-c00d-4f1f-a14c-c52cacdb1ef9\",\"elementid\":\"f5eede3b-d6a2-44ec-99a4-df8ac8188ab1\",\"modelid\":\"87015ced-b711-49e5-bca0-6a3644c7b1d3\"}];\n",
       "            \n",
       "            Bokeh.embed.embed_items(docs_json, render_items);\n",
       "        });\n",
       "      },\n",
       "      function(Bokeh) {\n",
       "      }\n",
       "    ];\n",
       "  \n",
       "    function run_inline_js() {\n",
       "      \n",
       "      if ((window.Bokeh !== undefined) || (force === \"1\")) {\n",
       "        for (var i = 0; i < inline_js.length; i++) {\n",
       "          inline_js[i](window.Bokeh);\n",
       "        }if (force === \"1\") {\n",
       "          display_loaded();\n",
       "        }} else if (Date.now() < window._bokeh_timeout) {\n",
       "        setTimeout(run_inline_js, 100);\n",
       "      } else if (!window._bokeh_failed_load) {\n",
       "        console.log(\"Bokeh: BokehJS failed to load within specified timeout.\");\n",
       "        window._bokeh_failed_load = true;\n",
       "      } else if (!force) {\n",
       "        var cell = $(\"#f5eede3b-d6a2-44ec-99a4-df8ac8188ab1\").parents('.cell').data().cell;\n",
       "        cell.output_area.append_execute_result(NB_LOAD_WARNING)\n",
       "      }\n",
       "  \n",
       "    }\n",
       "  \n",
       "    if (window._bokeh_is_loading === 0) {\n",
       "      console.log(\"Bokeh: BokehJS loaded, going straight to plotting\");\n",
       "      run_inline_js();\n",
       "    } else {\n",
       "      load_libs(js_urls, function() {\n",
       "        console.log(\"Bokeh: BokehJS plotting callback run at\", now());\n",
       "        run_inline_js();\n",
       "      });\n",
       "    }\n",
       "  }(this));\n",
       "</script>"
      ]
     },
     "metadata": {},
     "output_type": "display_data"
    }
   ],
   "source": [
    "from bokeh.io import output_notebook\n",
    "from bokeh.charts import Bar, Line, show\n",
    "from bokeh.plotting import figure, output_file, show\n",
    "\n",
    "output_notebook()\n",
    "p = Bar(input_users_filter, label='City', values='CR', stack='Age', title=\"%s is most converting Demographic category\" % max_CR_City_Age, agg=\"mean\", legend=\"top_right\")\n",
    "show(p)\n",
    "#print(\"Conversion rate for homepage is %s\" % homepage_CR + \"%\")\n",
    "#print(\"Put an additional button \\\"Contact Us\\\" on the main page. (or adding the contact form link to the menu bar at the top of the homepage\")"
   ]
  },
  {
   "cell_type": "code",
   "execution_count": 107,
   "metadata": {
    "collapsed": false
   },
   "outputs": [
    {
     "data": {
      "text/html": [
       "<div>\n",
       "<table border=\"1\" class=\"dataframe\">\n",
       "  <thead>\n",
       "    <tr style=\"text-align: right;\">\n",
       "      <th></th>\n",
       "      <th>City</th>\n",
       "      <th>Age</th>\n",
       "      <th>Sessions</th>\n",
       "      <th>BR</th>\n",
       "      <th>Conversions</th>\n",
       "      <th>CR</th>\n",
       "    </tr>\n",
       "  </thead>\n",
       "  <tbody>\n",
       "    <tr>\n",
       "      <th>12</th>\n",
       "      <td>London</td>\n",
       "      <td>65+</td>\n",
       "      <td>14</td>\n",
       "      <td>71.429</td>\n",
       "      <td>1</td>\n",
       "      <td>7.143</td>\n",
       "    </tr>\n",
       "    <tr>\n",
       "      <th>0</th>\n",
       "      <td>(not set)</td>\n",
       "      <td>35-44</td>\n",
       "      <td>16</td>\n",
       "      <td>62.500</td>\n",
       "      <td>0</td>\n",
       "      <td>0.000</td>\n",
       "    </tr>\n",
       "    <tr>\n",
       "      <th>9</th>\n",
       "      <td>(not set)</td>\n",
       "      <td>25-34</td>\n",
       "      <td>24</td>\n",
       "      <td>62.500</td>\n",
       "      <td>1</td>\n",
       "      <td>4.167</td>\n",
       "    </tr>\n",
       "    <tr>\n",
       "      <th>0</th>\n",
       "      <td>(not set)</td>\n",
       "      <td>35-44</td>\n",
       "      <td>16</td>\n",
       "      <td>62.500</td>\n",
       "      <td>0</td>\n",
       "      <td>0.000</td>\n",
       "    </tr>\n",
       "    <tr>\n",
       "      <th>9</th>\n",
       "      <td>(not set)</td>\n",
       "      <td>25-34</td>\n",
       "      <td>24</td>\n",
       "      <td>62.500</td>\n",
       "      <td>1</td>\n",
       "      <td>4.167</td>\n",
       "    </tr>\n",
       "  </tbody>\n",
       "</table>\n",
       "</div>"
      ],
      "text/plain": [
       "         City    Age  Sessions      BR  Conversions     CR\n",
       "12     London    65+        14  71.429            1  7.143\n",
       "0   (not set)  35-44        16  62.500            0  0.000\n",
       "9   (not set)  25-34        24  62.500            1  4.167\n",
       "0   (not set)  35-44        16  62.500            0  0.000\n",
       "9   (not set)  25-34        24  62.500            1  4.167"
      ]
     },
     "execution_count": 107,
     "metadata": {},
     "output_type": "execute_result"
    }
   ],
   "source": [
    "input_users_BR = input_users.nlargest(3, 'BR')\n",
    "input_users_BR\n",
    "#if the_largest traffic source = ('not_set') then output error ''"
   ]
  },
  {
   "cell_type": "code",
   "execution_count": 113,
   "metadata": {
    "collapsed": false
   },
   "outputs": [
    {
     "data": {
      "text/html": [
       "<div>\n",
       "<table border=\"1\" class=\"dataframe\">\n",
       "  <thead>\n",
       "    <tr style=\"text-align: right;\">\n",
       "      <th></th>\n",
       "      <th>Sessions</th>\n",
       "      <th>BR</th>\n",
       "      <th>Conversions</th>\n",
       "      <th>CR</th>\n",
       "    </tr>\n",
       "    <tr>\n",
       "      <th>City</th>\n",
       "      <th></th>\n",
       "      <th></th>\n",
       "      <th></th>\n",
       "      <th></th>\n",
       "    </tr>\n",
       "  </thead>\n",
       "  <tbody>\n",
       "    <tr>\n",
       "      <th>(not set)</th>\n",
       "      <td>40</td>\n",
       "      <td>125.000</td>\n",
       "      <td>1</td>\n",
       "      <td>4.167</td>\n",
       "    </tr>\n",
       "    <tr>\n",
       "      <th>Croydon</th>\n",
       "      <td>702</td>\n",
       "      <td>233.710</td>\n",
       "      <td>26</td>\n",
       "      <td>15.892</td>\n",
       "    </tr>\n",
       "    <tr>\n",
       "      <th>Hove</th>\n",
       "      <td>12</td>\n",
       "      <td>16.667</td>\n",
       "      <td>1</td>\n",
       "      <td>8.333</td>\n",
       "    </tr>\n",
       "    <tr>\n",
       "      <th>London</th>\n",
       "      <td>1554</td>\n",
       "      <td>337.194</td>\n",
       "      <td>45</td>\n",
       "      <td>19.235</td>\n",
       "    </tr>\n",
       "  </tbody>\n",
       "</table>\n",
       "</div>"
      ],
      "text/plain": [
       "           Sessions       BR  Conversions      CR\n",
       "City                                             \n",
       "(not set)        40  125.000            1   4.167\n",
       "Croydon         702  233.710           26  15.892\n",
       "Hove             12   16.667            1   8.333\n",
       "London         1554  337.194           45  19.235"
      ]
     },
     "execution_count": 113,
     "metadata": {},
     "output_type": "execute_result"
    }
   ],
   "source": [
    "input_users_city_sum = input_users.groupby([\"City\"]).sum()\n",
    "input_users_city_sum"
   ]
  },
  {
   "cell_type": "code",
   "execution_count": 114,
   "metadata": {
    "collapsed": false
   },
   "outputs": [
    {
     "data": {
      "text/plain": [
       "City\n",
       "(not set)     1\n",
       "Croydon      26\n",
       "Hove          1\n",
       "London       45\n",
       "Name: Conversions, dtype: int64"
      ]
     },
     "execution_count": 114,
     "metadata": {},
     "output_type": "execute_result"
    }
   ],
   "source": [
    "output_chart_city=input_users_city_sum.loc[:,'Conversions']\n",
    "output_chart_city"
   ]
  },
  {
   "cell_type": "code",
   "execution_count": 118,
   "metadata": {
    "collapsed": false,
    "scrolled": true
   },
   "outputs": [
    {
     "data": {
      "image/png": "[encoded data removed]",
      "text/plain": [
       "<matplotlib.figure.Figure at 0x17293381908>"
      ]
     },
     "metadata": {},
     "output_type": "display_data"
    },
    {
     "name": "stdout",
     "output_type": "stream",
     "text": [
      "London segment converts best\n"
     ]
    }
   ],
   "source": [
    "labels = output_chart_city.index\n",
    "sizes = output_chart_city\n",
    "# colours are taken from http://tools.medialab.sciences-po.fr/iwanthue/\n",
    "colors = ['#1f394d','#2a7585', '#163c45', '#004a6e']\n",
    "explode = (0, 0, 0, 0)\n",
    "plt.pie(sizes, explode=explode, labels=labels, colors=colors,\n",
    "        autopct='%1.1f%%', shadow=False, startangle=90)\n",
    "plt.axis('equal')\n",
    "plt.show()\n",
    "\n",
    "# Conversion traffic\n",
    "\n",
    "# Generate text\n",
    "print (\"%s segment converts best\" % max_CR_City )"
   ]
  },
  {
   "cell_type": "code",
   "execution_count": null,
   "metadata": {
    "collapsed": true
   },
   "outputs": [],
   "source": []
  }
 ],
 "metadata": {
  "anaconda-cloud": {},
  "kernelspec": {
   "display_name": "Python 3",
   "language": "python",
   "name": "python3"
  },
  "language_info": {
   "codemirror_mode": {
    "name": "ipython",
    "version": 3
   },
   "file_extension": ".py",
   "mimetype": "text/x-python",
   "name": "python",
   "nbconvert_exporter": "python",
   "pygments_lexer": "ipython3",
   "version": "3.6.0"
  }
 },
 "nbformat": 4,
 "nbformat_minor": 1
}
