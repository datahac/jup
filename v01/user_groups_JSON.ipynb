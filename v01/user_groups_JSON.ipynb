{
 "cells": [
  {
   "cell_type": "markdown",
   "metadata": {},
   "source": [
    "# User groups"
   ]
  },
  {
   "cell_type": "code",
   "execution_count": 336,
   "metadata": {
    "collapsed": true
   },
   "outputs": [],
   "source": [
    "request = \"POST https://analyticsreporting.googleapis.com/v4/reports:batchGet?fields=reports(columnHeader%2Cdata(rows%2Ctotals))&key={YOUR_API_KEY}\"\n",
    "request = {\n",
    " \"reportRequests\": [\n",
    "  {\n",
    "   \"viewId\": \"123303369\",\n",
    "   \"dateRanges\": [\n",
    "    {\n",
    "     \"startDate\": \"2017-01-01\",\n",
    "     \"endDate\": \"2017-04-30\"\n",
    "    }\n",
    "   ],\n",
    "   \"metrics\": [\n",
    "    {\n",
    "     \"expression\": \"ga:sessions\"\n",
    "    },\n",
    "    {\n",
    "     \"expression\": \"ga:sessionDuration\"\n",
    "    },\n",
    "    {\n",
    "     \"expression\": \"ga:goal1Completions\"#instead of \"ga:goal1Completions\" use \"goal_to_use_in_request\" variable from tracking-tags code\n",
    "    },\n",
    "    {\n",
    "     \"expression\": \"ga:bounceRate\"\n",
    "    }\n",
    "   ],\n",
    "   \"dimensions\": [\n",
    "    {\n",
    "     \"name\": \"ga:city\"\n",
    "    },\n",
    "    {\n",
    "     \"name\": \"ga:userAgeBracket\"\n",
    "    }\n",
    "   ]\n",
    "  }\n",
    " ]\n",
    "}"
   ]
  },
  {
   "cell_type": "code",
   "execution_count": 337,
   "metadata": {
    "collapsed": false,
    "scrolled": true
   },
   "outputs": [
    {
     "data": {
      "text/plain": [
       "[{'dimensions': ['Croydon', '18-24'],\n",
       "  'metrics': [{'values': ['101',\n",
       "     '41.584158415841586',\n",
       "     '4',\n",
       "     '3.9603960396039604']}]},\n",
       " {'dimensions': ['Croydon', '25-34'],\n",
       "  'metrics': [{'values': ['334',\n",
       "     '47.90419161676647',\n",
       "     '17',\n",
       "     '5.089820359281437']}]},\n",
       " {'dimensions': ['Croydon', '35-44'],\n",
       "  'metrics': [{'values': ['223',\n",
       "     '43.04932735426009',\n",
       "     '7',\n",
       "     '3.1390134529147984']}]},\n",
       " {'dimensions': ['Croydon', '45-54'],\n",
       "  'metrics': [{'values': ['90',\n",
       "     '45.55555555555556',\n",
       "     '2',\n",
       "     '2.2222222222222223']}]},\n",
       " {'dimensions': ['Croydon', '55-64'],\n",
       "  'metrics': [{'values': ['32', '53.125', '1', '3.125']}]},\n",
       " {'dimensions': ['London', '18-24'],\n",
       "  'metrics': [{'values': ['167',\n",
       "     '49.700598802395206',\n",
       "     '8',\n",
       "     '4.790419161676647']}]},\n",
       " {'dimensions': ['London', '25-34'],\n",
       "  'metrics': [{'values': ['842',\n",
       "     '59.14489311163895',\n",
       "     '24',\n",
       "     '2.8503562945368173']}]},\n",
       " {'dimensions': ['London', '35-44'],\n",
       "  'metrics': [{'values': ['482',\n",
       "     '54.77178423236515',\n",
       "     '14',\n",
       "     '2.904564315352697']}]},\n",
       " {'dimensions': ['London', '45-54'],\n",
       "  'metrics': [{'values': ['205',\n",
       "     '55.60975609756098',\n",
       "     '3',\n",
       "     '1.4634146341463417']}]},\n",
       " {'dimensions': ['London', '55-64'],\n",
       "  'metrics': [{'values': ['37', '48.64864864864865', '0', '0.0']}]}]"
      ]
     },
     "execution_count": 337,
     "metadata": {},
     "output_type": "execute_result"
    }
   ],
   "source": [
    "import json\n",
    "\n",
    "with open('data/TMRW_user_groups.json') as file:\n",
    "    input_ugroups = json.load(file)\n",
    "    \n",
    "#input_ugroups\n",
    "\n",
    "# Define dimensions list\n",
    "input_ugroups_dimensions = input_ugroups['reports'][0]['columnHeader']['dimensions']\n",
    "\n",
    "dimension_count = len(input_ugroups_dimensions)\n",
    "\n",
    "# Define metrics list\n",
    "input_ugroups_metrics = input_ugroups['reports'][0]['columnHeader']['metricHeader']['metricHeaderEntries']\n",
    "\n",
    "def create_metric_list(raw_data):\n",
    "    lst = []\n",
    "    for item in raw_data:\n",
    "        lst.append(item['name'])\n",
    "    return lst\n",
    "\n",
    "input_ugroups_metrics = create_metric_list(input_ugroups_metrics)\n",
    "\n",
    "\n",
    "# Create input data\n",
    "\n",
    "input_ugroups_data = input_ugroups['reports'][0]['data']['rows']\n",
    "\n",
    "input_ugroups_data"
   ]
  },
  {
   "cell_type": "code",
   "execution_count": 338,
   "metadata": {
    "collapsed": false
   },
   "outputs": [
    {
     "data": {
      "text/plain": [
       "[['Croydon, 18-24', 101.0, 41.584158415841586, 4.0, 3.9603960396039604],\n",
       " ['Croydon, 25-34', 334.0, 47.90419161676647, 17.0, 5.089820359281437],\n",
       " ['Croydon, 35-44', 223.0, 43.04932735426009, 7.0, 3.1390134529147984],\n",
       " ['Croydon, 45-54', 90.0, 45.55555555555556, 2.0, 2.2222222222222223],\n",
       " ['Croydon, 55-64', 32.0, 53.125, 1.0, 3.125],\n",
       " ['London, 18-24', 167.0, 49.700598802395206, 8.0, 4.790419161676647],\n",
       " ['London, 25-34', 842.0, 59.14489311163895, 24.0, 2.8503562945368173],\n",
       " ['London, 35-44', 482.0, 54.77178423236515, 14.0, 2.904564315352697],\n",
       " ['London, 45-54', 205.0, 55.60975609756098, 3.0, 1.4634146341463417],\n",
       " ['London, 55-64', 37.0, 48.64864864864865, 0.0, 0.0]]"
      ]
     },
     "execution_count": 338,
     "metadata": {},
     "output_type": "execute_result"
    }
   ],
   "source": [
    "values_list = []\n",
    "for group in input_ugroups_data:\n",
    "    new_dim_name = group['dimensions'][0] + \", \" + group['dimensions'][1]\n",
    "    group[new_dim_name] = group['metrics'][0]\n",
    "    del group['dimensions']\n",
    "    del group['metrics']\n",
    "    \n",
    "    #conv_rate = round(float(int(group[new_dim_name]['values'][2])/int(group[new_dim_name]['values'][0])*100),2)\n",
    "    group[new_dim_name]['values'] = list(map(float,group[new_dim_name]['values']))\n",
    "    #group[new_dim_name]['values'].append(new_dim_name)\n",
    "    values_list.append(group[new_dim_name]['values'])\n",
    "    group[new_dim_name]['values'].insert(0,new_dim_name)\n",
    "    #list(map(float,group[new_dim_name]['values'])).append(new_dim_name)\n",
    "    #values_list = values_list.apply(lambda x: x[0][0][1])\n",
    "\n",
    "    #group[new_dim_name]['values'].append(conv_rate)\n",
    "    #print(group[new_dim_name])\n",
    "    \n",
    "values_list    \n",
    "#input_ugroups_data"
   ]
  },
  {
   "cell_type": "code",
   "execution_count": 339,
   "metadata": {
    "collapsed": false
   },
   "outputs": [
    {
     "data": {
      "text/plain": [
       "{'Croydon, 18-24': {'bounce_rate': 4.0,\n",
       "  'conversion_rate': 3.96,\n",
       "  'conversions': 41.58,\n",
       "  'sessions': 101.0},\n",
       " 'Croydon, 25-34': {'bounce_rate': 17.0,\n",
       "  'conversion_rate': 5.09,\n",
       "  'conversions': 47.9,\n",
       "  'sessions': 334.0},\n",
       " 'Croydon, 35-44': {'bounce_rate': 7.0,\n",
       "  'conversion_rate': 3.14,\n",
       "  'conversions': 43.05,\n",
       "  'sessions': 223.0},\n",
       " 'Croydon, 45-54': {'bounce_rate': 2.0,\n",
       "  'conversion_rate': 2.22,\n",
       "  'conversions': 45.56,\n",
       "  'sessions': 90.0},\n",
       " 'Croydon, 55-64': {'bounce_rate': 1.0,\n",
       "  'conversion_rate': 3.12,\n",
       "  'conversions': 53.12,\n",
       "  'sessions': 32.0},\n",
       " 'London, 18-24': {'bounce_rate': 8.0,\n",
       "  'conversion_rate': 4.79,\n",
       "  'conversions': 49.7,\n",
       "  'sessions': 167.0},\n",
       " 'London, 25-34': {'bounce_rate': 24.0,\n",
       "  'conversion_rate': 2.85,\n",
       "  'conversions': 59.14,\n",
       "  'sessions': 842.0},\n",
       " 'London, 35-44': {'bounce_rate': 14.0,\n",
       "  'conversion_rate': 2.9,\n",
       "  'conversions': 54.77,\n",
       "  'sessions': 482.0},\n",
       " 'London, 45-54': {'bounce_rate': 3.0,\n",
       "  'conversion_rate': 1.46,\n",
       "  'conversions': 55.61,\n",
       "  'sessions': 205.0},\n",
       " 'London, 55-64': {'bounce_rate': 0.0,\n",
       "  'conversion_rate': 0.0,\n",
       "  'conversions': 48.65,\n",
       "  'sessions': 37.0}}"
      ]
     },
     "execution_count": 339,
     "metadata": {},
     "output_type": "execute_result"
    }
   ],
   "source": [
    "# Define each metric dict\n",
    "\n",
    "ugroups_data = {}\n",
    "\n",
    "for ugroup in input_ugroups_data:\n",
    "    #print (ugroup)\n",
    "    \n",
    "    for gr in ugroup:\n",
    "        ugroups_data[gr] = {'sessions':0,\n",
    "                       'bounce_rate':0,\n",
    "                       'conversions':0,\n",
    "                       'conversion_rate':0}\n",
    "        \n",
    "        ugroups_data[gr]['sessions'] = round(float(ugroup[gr]['values'][1]),2)\n",
    "        ugroups_data[gr]['conversions'] = round(float(ugroup[gr]['values'][2]),2)\n",
    "        ugroups_data[gr]['bounce_rate'] = round(float(ugroup[gr]['values'][3]),2)\n",
    "        ugroups_data[gr]['conversion_rate'] = round(float(ugroup[gr]['values'][4]),2)\n",
    "        \n",
    "ugroups_data"
   ]
  },
  {
   "cell_type": "code",
   "execution_count": 340,
   "metadata": {
    "collapsed": false
   },
   "outputs": [
    {
     "data": {
      "text/plain": [
       "['city_age', 'sessions', 'bounce_rate', 'conversions', 'conversion_rate']"
      ]
     },
     "execution_count": 340,
     "metadata": {},
     "output_type": "execute_result"
    }
   ],
   "source": [
    "import collections\n",
    "from collections import OrderedDict\n",
    "\n",
    "columns = []\n",
    "for u in ugroups_data:\n",
    "    #print (u)\n",
    "    for metric in ugroups_data[u]:\n",
    "        columns.append('city_age')\n",
    "        columns.append(metric)\n",
    "        \n",
    "    \n",
    "columns = list(OrderedDict.fromkeys(columns))    \n",
    "columns"
   ]
  },
  {
   "cell_type": "code",
   "execution_count": 341,
   "metadata": {
    "collapsed": true
   },
   "outputs": [],
   "source": [
    "import pandas as pd"
   ]
  },
  {
   "cell_type": "code",
   "execution_count": 342,
   "metadata": {
    "collapsed": false,
    "scrolled": true
   },
   "outputs": [
    {
     "name": "stderr",
     "output_type": "stream",
     "text": [
      "C:\\ProgramData\\Anaconda3\\lib\\site-packages\\ipykernel\\__main__.py:6: FutureWarning: sort(columns=....) is deprecated, use sort_values(by=.....)\n"
     ]
    },
    {
     "data": {
      "text/html": [
       "<div>\n",
       "<table border=\"1\" class=\"dataframe\">\n",
       "  <thead>\n",
       "    <tr style=\"text-align: right;\">\n",
       "      <th></th>\n",
       "      <th>city_age</th>\n",
       "      <th>sessions</th>\n",
       "      <th>bounce_rate</th>\n",
       "      <th>conversions</th>\n",
       "      <th>conversion_rate</th>\n",
       "    </tr>\n",
       "  </thead>\n",
       "  <tbody>\n",
       "    <tr>\n",
       "      <th>4</th>\n",
       "      <td>Croydon, 55-64</td>\n",
       "      <td>32</td>\n",
       "      <td>53.125000</td>\n",
       "      <td>1</td>\n",
       "      <td>3.12</td>\n",
       "    </tr>\n",
       "    <tr>\n",
       "      <th>3</th>\n",
       "      <td>Croydon, 45-54</td>\n",
       "      <td>90</td>\n",
       "      <td>45.555556</td>\n",
       "      <td>2</td>\n",
       "      <td>2.22</td>\n",
       "    </tr>\n",
       "    <tr>\n",
       "      <th>0</th>\n",
       "      <td>Croydon, 18-24</td>\n",
       "      <td>101</td>\n",
       "      <td>41.584158</td>\n",
       "      <td>4</td>\n",
       "      <td>3.96</td>\n",
       "    </tr>\n",
       "    <tr>\n",
       "      <th>5</th>\n",
       "      <td>London, 18-24</td>\n",
       "      <td>167</td>\n",
       "      <td>49.700599</td>\n",
       "      <td>8</td>\n",
       "      <td>4.79</td>\n",
       "    </tr>\n",
       "    <tr>\n",
       "      <th>8</th>\n",
       "      <td>London, 45-54</td>\n",
       "      <td>205</td>\n",
       "      <td>55.609756</td>\n",
       "      <td>3</td>\n",
       "      <td>1.46</td>\n",
       "    </tr>\n",
       "    <tr>\n",
       "      <th>2</th>\n",
       "      <td>Croydon, 35-44</td>\n",
       "      <td>223</td>\n",
       "      <td>43.049327</td>\n",
       "      <td>7</td>\n",
       "      <td>3.14</td>\n",
       "    </tr>\n",
       "    <tr>\n",
       "      <th>1</th>\n",
       "      <td>Croydon, 25-34</td>\n",
       "      <td>334</td>\n",
       "      <td>47.904192</td>\n",
       "      <td>17</td>\n",
       "      <td>5.09</td>\n",
       "    </tr>\n",
       "    <tr>\n",
       "      <th>7</th>\n",
       "      <td>London, 35-44</td>\n",
       "      <td>482</td>\n",
       "      <td>54.771784</td>\n",
       "      <td>14</td>\n",
       "      <td>2.90</td>\n",
       "    </tr>\n",
       "    <tr>\n",
       "      <th>6</th>\n",
       "      <td>London, 25-34</td>\n",
       "      <td>842</td>\n",
       "      <td>59.144893</td>\n",
       "      <td>24</td>\n",
       "      <td>2.85</td>\n",
       "    </tr>\n",
       "  </tbody>\n",
       "</table>\n",
       "</div>"
      ],
      "text/plain": [
       "         city_age  sessions  bounce_rate  conversions  conversion_rate\n",
       "4  Croydon, 55-64        32    53.125000            1             3.12\n",
       "3  Croydon, 45-54        90    45.555556            2             2.22\n",
       "0  Croydon, 18-24       101    41.584158            4             3.96\n",
       "5   London, 18-24       167    49.700599            8             4.79\n",
       "8   London, 45-54       205    55.609756            3             1.46\n",
       "2  Croydon, 35-44       223    43.049327            7             3.14\n",
       "1  Croydon, 25-34       334    47.904192           17             5.09\n",
       "7   London, 35-44       482    54.771784           14             2.90\n",
       "6   London, 25-34       842    59.144893           24             2.85"
      ]
     },
     "execution_count": 342,
     "metadata": {},
     "output_type": "execute_result"
    }
   ],
   "source": [
    "df = pd.DataFrame(values_list, columns = columns)\n",
    "\n",
    "df.to_json(orient='split')\n",
    "table_data = pd.read_json(df.to_json(orient='split'), orient='split')\n",
    "table_data.conversion_rate = round(table_data.conversion_rate,2)\n",
    "table_data = table_data[table_data.conversions > 0].sort('sessions')\n",
    "table_data"
   ]
  },
  {
   "cell_type": "code",
   "execution_count": 469,
   "metadata": {
    "collapsed": false
   },
   "outputs": [
    {
     "data": {
      "text/plain": [
       "[32, 90, 101, 167, 205, 223, 334, 482, 842]"
      ]
     },
     "execution_count": 469,
     "metadata": {},
     "output_type": "execute_result"
    }
   ],
   "source": [
    "# create a list of sessions\n",
    "samples_sessions=[]\n",
    "for i in range(0,len(table_data)):\n",
    "    a = table_data.sessions[i]\n",
    "    samples_sessions.append(a)\n",
    "    \n",
    "samples_sessions = sorted(samples_sessions)\n",
    "samples_sessions"
   ]
  },
  {
   "cell_type": "code",
   "execution_count": 470,
   "metadata": {
    "collapsed": false
   },
   "outputs": [
    {
     "data": {
      "text/plain": [
       "92"
      ]
     },
     "execution_count": 470,
     "metadata": {},
     "output_type": "execute_result"
    }
   ],
   "source": [
    "#cluster point 1(min)\n",
    "cl1_point = min(samples_sessions) + 60\n",
    "cl1_point"
   ]
  },
  {
   "cell_type": "code",
   "execution_count": 471,
   "metadata": {
    "collapsed": false
   },
   "outputs": [
    {
     "data": {
      "text/plain": [
       "265"
      ]
     },
     "execution_count": 471,
     "metadata": {},
     "output_type": "execute_result"
    }
   ],
   "source": [
    "#cluster point 2(middle)\n",
    "mediana_number = int(len(samples_sessions)/2)\n",
    "cl2_point = samples_sessions[mediana_number]+60\n",
    "cl2_point"
   ]
  },
  {
   "cell_type": "code",
   "execution_count": 472,
   "metadata": {
    "collapsed": false
   },
   "outputs": [
    {
     "data": {
      "text/plain": [
       "602"
      ]
     },
     "execution_count": 472,
     "metadata": {},
     "output_type": "execute_result"
    }
   ],
   "source": [
    "#cluster point 3(max)\n",
    "cl3_point = max(samples_sessions) - 240\n",
    "cl3_point"
   ]
  },
  {
   "cell_type": "code",
   "execution_count": 473,
   "metadata": {
    "collapsed": true
   },
   "outputs": [],
   "source": [
    "import math"
   ]
  },
  {
   "cell_type": "code",
   "execution_count": 474,
   "metadata": {
    "collapsed": false
   },
   "outputs": [
    {
     "data": {
      "text/plain": [
       "[60.0, 2.0, 9.0, 75.0, 113.0, 131.0, 242.0, 390.0, 750.0]"
      ]
     },
     "execution_count": 474,
     "metadata": {},
     "output_type": "execute_result"
    }
   ],
   "source": [
    "# calculate distance between cl1 and each point in samples_sessions\n",
    "distance_cl1 = []\n",
    "for i in range(0,len(table_data)):\n",
    "    d = math.sqrt(math.pow((cl1_point - samples_sessions[i]), 2))\n",
    "    distance_cl1.append(d)\n",
    "distance_cl1"
   ]
  },
  {
   "cell_type": "code",
   "execution_count": 475,
   "metadata": {
    "collapsed": false
   },
   "outputs": [
    {
     "data": {
      "text/plain": [
       "[233.0, 175.0, 164.0, 98.0, 60.0, 42.0, 69.0, 217.0, 577.0]"
      ]
     },
     "execution_count": 475,
     "metadata": {},
     "output_type": "execute_result"
    }
   ],
   "source": [
    "distance_cl2 = []\n",
    "for i in range(0,len(table_data)):\n",
    "    d = math.sqrt(math.pow((cl2_point - samples_sessions[i]), 2))\n",
    "    distance_cl2.append(d)\n",
    "distance_cl2"
   ]
  },
  {
   "cell_type": "code",
   "execution_count": 476,
   "metadata": {
    "collapsed": false
   },
   "outputs": [
    {
     "data": {
      "text/plain": [
       "[570.0, 512.0, 501.0, 435.0, 397.0, 379.0, 268.0, 120.0, 240.0]"
      ]
     },
     "execution_count": 476,
     "metadata": {},
     "output_type": "execute_result"
    }
   ],
   "source": [
    "distance_cl3 = []\n",
    "for i in range(0,len(table_data)):\n",
    "    d = math.sqrt(math.pow((cl3_point - samples_sessions[i]), 2))\n",
    "    distance_cl3.append(d)\n",
    "distance_cl3"
   ]
  },
  {
   "cell_type": "code",
   "execution_count": 478,
   "metadata": {
    "collapsed": false
   },
   "outputs": [
    {
     "data": {
      "text/plain": [
       "[60.0, 2.0, 9.0, 75.0]"
      ]
     },
     "execution_count": 478,
     "metadata": {},
     "output_type": "execute_result"
    }
   ],
   "source": [
    "#create cluster1 which include the smallest distance to cl1_point\n",
    "\n",
    "cluster1 = []\n",
    "for k in range(0,len(samples_sessions)):\n",
    "   \n",
    "            if (distance_cl1[k] < distance_cl2[k]):\n",
    "                res = distance_cl1[k]\n",
    "                cluster1.append(res)\n",
    "                \n",
    "\n",
    "cluster1\n"
   ]
  },
  {
   "cell_type": "code",
   "execution_count": 479,
   "metadata": {
    "collapsed": false
   },
   "outputs": [
    {
     "data": {
      "text/plain": [
       "[60.0, 42.0, 69.0]"
      ]
     },
     "execution_count": 479,
     "metadata": {},
     "output_type": "execute_result"
    }
   ],
   "source": [
    "cluster2 = []\n",
    "for k in range(len(cluster1),len(samples_sessions)):\n",
    "    if (distance_cl2[k] < distance_cl3[k]):\n",
    "                res = distance_cl2[k]\n",
    "                cluster2.append(res)\n",
    "cluster2"
   ]
  },
  {
   "cell_type": "code",
   "execution_count": 480,
   "metadata": {
    "collapsed": false
   },
   "outputs": [
    {
     "data": {
      "text/plain": [
       "[120.0, 240.0]"
      ]
     },
     "execution_count": 480,
     "metadata": {},
     "output_type": "execute_result"
    }
   ],
   "source": [
    "cluster3 = []\n",
    "for k in range(len(cluster1)+len(cluster2),len(samples_sessions)):\n",
    "    if (distance_cl3[k]<distance_cl2[k]):\n",
    "                res = distance_cl3[k]\n",
    "                cluster3.append(res)\n",
    "cluster3"
   ]
  },
  {
   "cell_type": "code",
   "execution_count": 483,
   "metadata": {
    "collapsed": false
   },
   "outputs": [
    {
     "data": {
      "text/plain": [
       "[['low', 32], ['low', 90], ['low', 101], ['low', 167]]"
      ]
     },
     "execution_count": 483,
     "metadata": {},
     "output_type": "execute_result"
    }
   ],
   "source": [
    "#mark first cluster as \"low\" and define a values for it  \n",
    "cl1 = []\n",
    "for f in range(0,len(cluster1)):\n",
    "    n =[]\n",
    "    n.append(\"low\")\n",
    "    n.append(samples_sessions[f])\n",
    "    cl1.append(n)\n",
    "cl1"
   ]
  },
  {
   "cell_type": "code",
   "execution_count": 487,
   "metadata": {
    "collapsed": false
   },
   "outputs": [
    {
     "data": {
      "text/html": [
       "<div>\n",
       "<table border=\"1\" class=\"dataframe\">\n",
       "  <thead>\n",
       "    <tr style=\"text-align: right;\">\n",
       "      <th></th>\n",
       "      <th>cluster_sess</th>\n",
       "      <th>sessions</th>\n",
       "    </tr>\n",
       "  </thead>\n",
       "  <tbody>\n",
       "    <tr>\n",
       "      <th>0</th>\n",
       "      <td>low</td>\n",
       "      <td>32</td>\n",
       "    </tr>\n",
       "    <tr>\n",
       "      <th>1</th>\n",
       "      <td>low</td>\n",
       "      <td>90</td>\n",
       "    </tr>\n",
       "    <tr>\n",
       "      <th>2</th>\n",
       "      <td>low</td>\n",
       "      <td>101</td>\n",
       "    </tr>\n",
       "    <tr>\n",
       "      <th>3</th>\n",
       "      <td>low</td>\n",
       "      <td>167</td>\n",
       "    </tr>\n",
       "  </tbody>\n",
       "</table>\n",
       "</div>"
      ],
      "text/plain": [
       "  cluster_sess  sessions\n",
       "0          low        32\n",
       "1          low        90\n",
       "2          low       101\n",
       "3          low       167"
      ]
     },
     "execution_count": 487,
     "metadata": {},
     "output_type": "execute_result"
    }
   ],
   "source": [
    "#create a table for cluster and value\n",
    "table_cl1 = pd.DataFrame(cl1,columns = ['cluster_sess','sessions'])\n",
    "table_cl1"
   ]
  },
  {
   "cell_type": "code",
   "execution_count": 488,
   "metadata": {
    "collapsed": false
   },
   "outputs": [
    {
     "data": {
      "text/plain": [
       "[['mid', 205], ['mid', 223], ['mid', 334]]"
      ]
     },
     "execution_count": 488,
     "metadata": {},
     "output_type": "execute_result"
    }
   ],
   "source": [
    "cl2 = []\n",
    "for h in range(len(cluster1),len(cluster2)+len(cluster1)):\n",
    "    n =[]\n",
    "    n.append(\"mid\")\n",
    "    n.append(samples_sessions[h])\n",
    "    cl2.append(n)\n",
    "cl2"
   ]
  },
  {
   "cell_type": "code",
   "execution_count": 489,
   "metadata": {
    "collapsed": false
   },
   "outputs": [
    {
     "data": {
      "text/html": [
       "<div>\n",
       "<table border=\"1\" class=\"dataframe\">\n",
       "  <thead>\n",
       "    <tr style=\"text-align: right;\">\n",
       "      <th></th>\n",
       "      <th>cluster_sess</th>\n",
       "      <th>sessions</th>\n",
       "    </tr>\n",
       "  </thead>\n",
       "  <tbody>\n",
       "    <tr>\n",
       "      <th>4</th>\n",
       "      <td>mid</td>\n",
       "      <td>205</td>\n",
       "    </tr>\n",
       "    <tr>\n",
       "      <th>5</th>\n",
       "      <td>mid</td>\n",
       "      <td>223</td>\n",
       "    </tr>\n",
       "    <tr>\n",
       "      <th>6</th>\n",
       "      <td>mid</td>\n",
       "      <td>334</td>\n",
       "    </tr>\n",
       "  </tbody>\n",
       "</table>\n",
       "</div>"
      ],
      "text/plain": [
       "  cluster_sess  sessions\n",
       "4          mid       205\n",
       "5          mid       223\n",
       "6          mid       334"
      ]
     },
     "execution_count": 489,
     "metadata": {},
     "output_type": "execute_result"
    }
   ],
   "source": [
    "table_cl2 = pd.DataFrame(cl2,index = range(len(cluster1),len(cluster2)+len(cluster1)), columns = ['cluster_sess','sessions'])\n",
    "table_cl2"
   ]
  },
  {
   "cell_type": "code",
   "execution_count": 490,
   "metadata": {
    "collapsed": false
   },
   "outputs": [
    {
     "data": {
      "text/plain": [
       "[['high', 482], ['high', 842]]"
      ]
     },
     "execution_count": 490,
     "metadata": {},
     "output_type": "execute_result"
    }
   ],
   "source": [
    "cl3 = []\n",
    "for h in range(len(cluster2)+len(cluster1),len(samples_sessions)):\n",
    "    n =[]\n",
    "    n.append(\"high\")\n",
    "    n.append(samples_sessions[h])\n",
    "    cl3.append(n)\n",
    "cl3"
   ]
  },
  {
   "cell_type": "code",
   "execution_count": 491,
   "metadata": {
    "collapsed": false
   },
   "outputs": [
    {
     "data": {
      "text/html": [
       "<div>\n",
       "<table border=\"1\" class=\"dataframe\">\n",
       "  <thead>\n",
       "    <tr style=\"text-align: right;\">\n",
       "      <th></th>\n",
       "      <th>cluster_sess</th>\n",
       "      <th>sessions</th>\n",
       "    </tr>\n",
       "  </thead>\n",
       "  <tbody>\n",
       "    <tr>\n",
       "      <th>7</th>\n",
       "      <td>high</td>\n",
       "      <td>482</td>\n",
       "    </tr>\n",
       "    <tr>\n",
       "      <th>8</th>\n",
       "      <td>high</td>\n",
       "      <td>842</td>\n",
       "    </tr>\n",
       "  </tbody>\n",
       "</table>\n",
       "</div>"
      ],
      "text/plain": [
       "  cluster_sess  sessions\n",
       "7         high       482\n",
       "8         high       842"
      ]
     },
     "execution_count": 491,
     "metadata": {},
     "output_type": "execute_result"
    }
   ],
   "source": [
    "table_cl3 = pd.DataFrame(cl3,index = range(len(cluster2)+len(cluster1),len(samples_sessions)), columns = ['cluster_sess','sessions'])\n",
    "table_cl3"
   ]
  },
  {
   "cell_type": "code",
   "execution_count": 493,
   "metadata": {
    "collapsed": false
   },
   "outputs": [
    {
     "data": {
      "text/html": [
       "<div>\n",
       "<table border=\"1\" class=\"dataframe\">\n",
       "  <thead>\n",
       "    <tr style=\"text-align: right;\">\n",
       "      <th></th>\n",
       "      <th>cluster_sess</th>\n",
       "      <th>sessions</th>\n",
       "    </tr>\n",
       "  </thead>\n",
       "  <tbody>\n",
       "    <tr>\n",
       "      <th>0</th>\n",
       "      <td>low</td>\n",
       "      <td>32</td>\n",
       "    </tr>\n",
       "    <tr>\n",
       "      <th>1</th>\n",
       "      <td>low</td>\n",
       "      <td>90</td>\n",
       "    </tr>\n",
       "    <tr>\n",
       "      <th>2</th>\n",
       "      <td>low</td>\n",
       "      <td>101</td>\n",
       "    </tr>\n",
       "    <tr>\n",
       "      <th>3</th>\n",
       "      <td>low</td>\n",
       "      <td>167</td>\n",
       "    </tr>\n",
       "    <tr>\n",
       "      <th>4</th>\n",
       "      <td>mid</td>\n",
       "      <td>205</td>\n",
       "    </tr>\n",
       "    <tr>\n",
       "      <th>5</th>\n",
       "      <td>mid</td>\n",
       "      <td>223</td>\n",
       "    </tr>\n",
       "    <tr>\n",
       "      <th>6</th>\n",
       "      <td>mid</td>\n",
       "      <td>334</td>\n",
       "    </tr>\n",
       "    <tr>\n",
       "      <th>7</th>\n",
       "      <td>high</td>\n",
       "      <td>482</td>\n",
       "    </tr>\n",
       "    <tr>\n",
       "      <th>8</th>\n",
       "      <td>high</td>\n",
       "      <td>842</td>\n",
       "    </tr>\n",
       "  </tbody>\n",
       "</table>\n",
       "</div>"
      ],
      "text/plain": [
       "  cluster_sess  sessions\n",
       "0          low        32\n",
       "1          low        90\n",
       "2          low       101\n",
       "3          low       167\n",
       "4          mid       205\n",
       "5          mid       223\n",
       "6          mid       334\n",
       "7         high       482\n",
       "8         high       842"
      ]
     },
     "execution_count": 493,
     "metadata": {},
     "output_type": "execute_result"
    }
   ],
   "source": [
    "#join clusters into one table\n",
    "result_clusters = pd.concat([table_cl1,table_cl2,table_cl3])\n",
    "result_clusters"
   ]
  },
  {
   "cell_type": "code",
   "execution_count": 494,
   "metadata": {
    "collapsed": false,
    "scrolled": false
   },
   "outputs": [
    {
     "data": {
      "text/html": [
       "<div>\n",
       "<table border=\"1\" class=\"dataframe\">\n",
       "  <thead>\n",
       "    <tr style=\"text-align: right;\">\n",
       "      <th></th>\n",
       "      <th>cluster_sess</th>\n",
       "      <th>sessions</th>\n",
       "      <th>city_age</th>\n",
       "      <th>bounce_rate</th>\n",
       "      <th>conversions</th>\n",
       "      <th>conversion_rate</th>\n",
       "    </tr>\n",
       "  </thead>\n",
       "  <tbody>\n",
       "    <tr>\n",
       "      <th>0</th>\n",
       "      <td>low</td>\n",
       "      <td>32</td>\n",
       "      <td>Croydon, 55-64</td>\n",
       "      <td>53.125000</td>\n",
       "      <td>1</td>\n",
       "      <td>3.12</td>\n",
       "    </tr>\n",
       "    <tr>\n",
       "      <th>1</th>\n",
       "      <td>low</td>\n",
       "      <td>90</td>\n",
       "      <td>Croydon, 45-54</td>\n",
       "      <td>45.555556</td>\n",
       "      <td>2</td>\n",
       "      <td>2.22</td>\n",
       "    </tr>\n",
       "    <tr>\n",
       "      <th>2</th>\n",
       "      <td>low</td>\n",
       "      <td>101</td>\n",
       "      <td>Croydon, 18-24</td>\n",
       "      <td>41.584158</td>\n",
       "      <td>4</td>\n",
       "      <td>3.96</td>\n",
       "    </tr>\n",
       "    <tr>\n",
       "      <th>3</th>\n",
       "      <td>low</td>\n",
       "      <td>167</td>\n",
       "      <td>London, 18-24</td>\n",
       "      <td>49.700599</td>\n",
       "      <td>8</td>\n",
       "      <td>4.79</td>\n",
       "    </tr>\n",
       "    <tr>\n",
       "      <th>4</th>\n",
       "      <td>mid</td>\n",
       "      <td>205</td>\n",
       "      <td>London, 45-54</td>\n",
       "      <td>55.609756</td>\n",
       "      <td>3</td>\n",
       "      <td>1.46</td>\n",
       "    </tr>\n",
       "    <tr>\n",
       "      <th>5</th>\n",
       "      <td>mid</td>\n",
       "      <td>223</td>\n",
       "      <td>Croydon, 35-44</td>\n",
       "      <td>43.049327</td>\n",
       "      <td>7</td>\n",
       "      <td>3.14</td>\n",
       "    </tr>\n",
       "    <tr>\n",
       "      <th>6</th>\n",
       "      <td>mid</td>\n",
       "      <td>334</td>\n",
       "      <td>Croydon, 25-34</td>\n",
       "      <td>47.904192</td>\n",
       "      <td>17</td>\n",
       "      <td>5.09</td>\n",
       "    </tr>\n",
       "    <tr>\n",
       "      <th>7</th>\n",
       "      <td>high</td>\n",
       "      <td>482</td>\n",
       "      <td>London, 35-44</td>\n",
       "      <td>54.771784</td>\n",
       "      <td>14</td>\n",
       "      <td>2.90</td>\n",
       "    </tr>\n",
       "    <tr>\n",
       "      <th>8</th>\n",
       "      <td>high</td>\n",
       "      <td>842</td>\n",
       "      <td>London, 25-34</td>\n",
       "      <td>59.144893</td>\n",
       "      <td>24</td>\n",
       "      <td>2.85</td>\n",
       "    </tr>\n",
       "  </tbody>\n",
       "</table>\n",
       "</div>"
      ],
      "text/plain": [
       "  cluster_sess  sessions        city_age  bounce_rate  conversions  \\\n",
       "0          low        32  Croydon, 55-64    53.125000            1   \n",
       "1          low        90  Croydon, 45-54    45.555556            2   \n",
       "2          low       101  Croydon, 18-24    41.584158            4   \n",
       "3          low       167   London, 18-24    49.700599            8   \n",
       "4          mid       205   London, 45-54    55.609756            3   \n",
       "5          mid       223  Croydon, 35-44    43.049327            7   \n",
       "6          mid       334  Croydon, 25-34    47.904192           17   \n",
       "7         high       482   London, 35-44    54.771784           14   \n",
       "8         high       842   London, 25-34    59.144893           24   \n",
       "\n",
       "   conversion_rate  \n",
       "0             3.12  \n",
       "1             2.22  \n",
       "2             3.96  \n",
       "3             4.79  \n",
       "4             1.46  \n",
       "5             3.14  \n",
       "6             5.09  \n",
       "7             2.90  \n",
       "8             2.85  "
      ]
     },
     "execution_count": 494,
     "metadata": {},
     "output_type": "execute_result"
    }
   ],
   "source": [
    "result_sess = result_clusters.merge(table_data, on = 'sessions')\n",
    "result_sess"
   ]
  },
  {
   "cell_type": "markdown",
   "metadata": {},
   "source": [
    "Cluster analysis by conversion rate"
   ]
  },
  {
   "cell_type": "code",
   "execution_count": 495,
   "metadata": {
    "collapsed": false,
    "scrolled": true
   },
   "outputs": [
    {
     "data": {
      "text/plain": [
       "[1.46,\n",
       " 2.2200000000000002,\n",
       " 2.8500000000000001,\n",
       " 2.8999999999999999,\n",
       " 3.1200000000000001,\n",
       " 3.1400000000000001,\n",
       " 3.96,\n",
       " 4.79,\n",
       " 5.0899999999999999]"
      ]
     },
     "execution_count": 495,
     "metadata": {},
     "output_type": "execute_result"
    }
   ],
   "source": [
    "samples_cr=[]\n",
    "for i in range(0,len(table_data)):\n",
    "    a = round(table_data.conversion_rate[i],2)\n",
    "    samples_cr.append(a)\n",
    "    #print(a)\n",
    "samples_cr = sorted(samples_cr)\n",
    "samples_cr"
   ]
  },
  {
   "cell_type": "code",
   "execution_count": 496,
   "metadata": {
    "collapsed": false
   },
   "outputs": [
    {
     "data": {
      "text/plain": [
       "2.0600000000000001"
      ]
     },
     "execution_count": 496,
     "metadata": {},
     "output_type": "execute_result"
    }
   ],
   "source": [
    "cl1_point=min(samples_cr) + 0.6\n",
    "cl1_point"
   ]
  },
  {
   "cell_type": "code",
   "execution_count": 498,
   "metadata": {
    "collapsed": false
   },
   "outputs": [
    {
     "data": {
      "text/plain": [
       "2.52"
      ]
     },
     "execution_count": 498,
     "metadata": {},
     "output_type": "execute_result"
    }
   ],
   "source": [
    "mediana_number = int(len(samples_cr)/2)\n",
    "cl2_point = samples_cr[mediana_number] - 0.6\n",
    "cl2_point"
   ]
  },
  {
   "cell_type": "code",
   "execution_count": 499,
   "metadata": {
    "collapsed": false
   },
   "outputs": [
    {
     "data": {
      "text/plain": [
       "4.0899999999999999"
      ]
     },
     "execution_count": 499,
     "metadata": {},
     "output_type": "execute_result"
    }
   ],
   "source": [
    "cl3_point=max(samples_cr)-1\n",
    "cl3_point"
   ]
  },
  {
   "cell_type": "code",
   "execution_count": 500,
   "metadata": {
    "collapsed": false
   },
   "outputs": [
    {
     "data": {
      "text/plain": [
       "[0.6000000000000001,\n",
       " 0.16000000000000014,\n",
       " 0.79,\n",
       " 0.8399999999999999,\n",
       " 1.06,\n",
       " 1.08,\n",
       " 1.9,\n",
       " 2.73,\n",
       " 3.03]"
      ]
     },
     "execution_count": 500,
     "metadata": {},
     "output_type": "execute_result"
    }
   ],
   "source": [
    "distance_cl1 = []\n",
    "for i in range(0,len(table_data)):\n",
    "    d = math.sqrt(math.pow((cl1_point - samples_cr[i]), 2))\n",
    "    distance_cl1.append(d)\n",
    "distance_cl1"
   ]
  },
  {
   "cell_type": "code",
   "execution_count": 501,
   "metadata": {
    "collapsed": false
   },
   "outputs": [
    {
     "data": {
      "text/plain": [
       "[1.06,\n",
       " 0.2999999999999998,\n",
       " 0.33000000000000007,\n",
       " 0.3799999999999999,\n",
       " 0.6000000000000001,\n",
       " 0.6200000000000001,\n",
       " 1.44,\n",
       " 2.27,\n",
       " 2.57]"
      ]
     },
     "execution_count": 501,
     "metadata": {},
     "output_type": "execute_result"
    }
   ],
   "source": [
    "distance_cl2 = []\n",
    "for i in range(0,len(table_data)):\n",
    "    d = math.sqrt(math.pow((cl2_point - samples_cr[i]), 2))\n",
    "    distance_cl2.append(d)\n",
    "distance_cl2"
   ]
  },
  {
   "cell_type": "code",
   "execution_count": 502,
   "metadata": {
    "collapsed": false
   },
   "outputs": [
    {
     "data": {
      "text/plain": [
       "[2.63,\n",
       " 1.8699999999999997,\n",
       " 1.2399999999999998,\n",
       " 1.19,\n",
       " 0.9699999999999998,\n",
       " 0.9499999999999997,\n",
       " 0.1299999999999999,\n",
       " 0.7000000000000002,\n",
       " 1.0]"
      ]
     },
     "execution_count": 502,
     "metadata": {},
     "output_type": "execute_result"
    }
   ],
   "source": [
    "distance_cl3 = []\n",
    "for i in range(0,len(table_data)):\n",
    "    d = math.sqrt(math.pow((cl3_point - samples_cr[i]), 2))\n",
    "    distance_cl3.append(d)\n",
    "distance_cl3"
   ]
  },
  {
   "cell_type": "code",
   "execution_count": 503,
   "metadata": {
    "collapsed": false
   },
   "outputs": [
    {
     "data": {
      "text/plain": [
       "[0.6000000000000001, 0.16000000000000014]"
      ]
     },
     "execution_count": 503,
     "metadata": {},
     "output_type": "execute_result"
    }
   ],
   "source": [
    "cluster1 = []\n",
    "for k in range(0,len(samples_cr)):\n",
    "    \n",
    "    if (distance_cl1[k] < distance_cl2[k]):\n",
    "        res = distance_cl1[k]\n",
    "        cluster1.append(res)                \n",
    "\n",
    "cluster1"
   ]
  },
  {
   "cell_type": "code",
   "execution_count": 504,
   "metadata": {
    "collapsed": false
   },
   "outputs": [
    {
     "data": {
      "text/plain": [
       "[0.33000000000000007,\n",
       " 0.3799999999999999,\n",
       " 0.6000000000000001,\n",
       " 0.6200000000000001]"
      ]
     },
     "execution_count": 504,
     "metadata": {},
     "output_type": "execute_result"
    }
   ],
   "source": [
    "cluster2 = []\n",
    "for k in range(len(cluster1),len(samples_cr)):\n",
    "    if (distance_cl2[k] < distance_cl3[k]):\n",
    "                res = distance_cl2[k]\n",
    "                cluster2.append(res)\n",
    "cluster2"
   ]
  },
  {
   "cell_type": "code",
   "execution_count": 505,
   "metadata": {
    "collapsed": false
   },
   "outputs": [
    {
     "data": {
      "text/plain": [
       "[0.1299999999999999, 0.7000000000000002, 1.0]"
      ]
     },
     "execution_count": 505,
     "metadata": {},
     "output_type": "execute_result"
    }
   ],
   "source": [
    "cluster3 = []\n",
    "for k in range(len(cluster1)+len(cluster2),len(samples_cr)):\n",
    "    if (distance_cl3[k]<distance_cl2[k]):\n",
    "                res = distance_cl3[k]\n",
    "                cluster3.append(res)\n",
    "cluster3"
   ]
  },
  {
   "cell_type": "code",
   "execution_count": 506,
   "metadata": {
    "collapsed": false
   },
   "outputs": [
    {
     "data": {
      "text/plain": [
       "[['low', 1.46], ['low', 2.2200000000000002]]"
      ]
     },
     "execution_count": 506,
     "metadata": {},
     "output_type": "execute_result"
    }
   ],
   "source": [
    "cl1 = []\n",
    "for f in range(0,len(cluster1)):\n",
    "    n =[]\n",
    "    n.append(\"low\")\n",
    "    n.append(samples_cr[f])\n",
    "    cl1.append(n)\n",
    "cl1"
   ]
  },
  {
   "cell_type": "code",
   "execution_count": 507,
   "metadata": {
    "collapsed": false
   },
   "outputs": [
    {
     "data": {
      "text/html": [
       "<div>\n",
       "<table border=\"1\" class=\"dataframe\">\n",
       "  <thead>\n",
       "    <tr style=\"text-align: right;\">\n",
       "      <th></th>\n",
       "      <th>cluster_cr</th>\n",
       "      <th>conversion_rate</th>\n",
       "    </tr>\n",
       "  </thead>\n",
       "  <tbody>\n",
       "    <tr>\n",
       "      <th>0</th>\n",
       "      <td>low</td>\n",
       "      <td>1.46</td>\n",
       "    </tr>\n",
       "    <tr>\n",
       "      <th>1</th>\n",
       "      <td>low</td>\n",
       "      <td>2.22</td>\n",
       "    </tr>\n",
       "  </tbody>\n",
       "</table>\n",
       "</div>"
      ],
      "text/plain": [
       "  cluster_cr  conversion_rate\n",
       "0        low             1.46\n",
       "1        low             2.22"
      ]
     },
     "execution_count": 507,
     "metadata": {},
     "output_type": "execute_result"
    }
   ],
   "source": [
    "table_cl1 = pd.DataFrame(cl1,columns = ['cluster_cr','conversion_rate'])\n",
    "table_cl1"
   ]
  },
  {
   "cell_type": "code",
   "execution_count": 508,
   "metadata": {
    "collapsed": false
   },
   "outputs": [
    {
     "data": {
      "text/plain": [
       "[['mid', 2.8500000000000001],\n",
       " ['mid', 2.8999999999999999],\n",
       " ['mid', 3.1200000000000001],\n",
       " ['mid', 3.1400000000000001]]"
      ]
     },
     "execution_count": 508,
     "metadata": {},
     "output_type": "execute_result"
    }
   ],
   "source": [
    "cl2 = []\n",
    "for h in range(len(cluster1),len(cluster2)+len(cluster1)):\n",
    "    n =[]\n",
    "    n.append(\"mid\")\n",
    "    n.append(samples_cr[h])\n",
    "    cl2.append(n)\n",
    "cl2"
   ]
  },
  {
   "cell_type": "code",
   "execution_count": 509,
   "metadata": {
    "collapsed": false
   },
   "outputs": [
    {
     "data": {
      "text/html": [
       "<div>\n",
       "<table border=\"1\" class=\"dataframe\">\n",
       "  <thead>\n",
       "    <tr style=\"text-align: right;\">\n",
       "      <th></th>\n",
       "      <th>cluster_cr</th>\n",
       "      <th>conversion_rate</th>\n",
       "    </tr>\n",
       "  </thead>\n",
       "  <tbody>\n",
       "    <tr>\n",
       "      <th>2</th>\n",
       "      <td>mid</td>\n",
       "      <td>2.85</td>\n",
       "    </tr>\n",
       "    <tr>\n",
       "      <th>3</th>\n",
       "      <td>mid</td>\n",
       "      <td>2.90</td>\n",
       "    </tr>\n",
       "    <tr>\n",
       "      <th>4</th>\n",
       "      <td>mid</td>\n",
       "      <td>3.12</td>\n",
       "    </tr>\n",
       "    <tr>\n",
       "      <th>5</th>\n",
       "      <td>mid</td>\n",
       "      <td>3.14</td>\n",
       "    </tr>\n",
       "  </tbody>\n",
       "</table>\n",
       "</div>"
      ],
      "text/plain": [
       "  cluster_cr  conversion_rate\n",
       "2        mid             2.85\n",
       "3        mid             2.90\n",
       "4        mid             3.12\n",
       "5        mid             3.14"
      ]
     },
     "execution_count": 509,
     "metadata": {},
     "output_type": "execute_result"
    }
   ],
   "source": [
    "table_cl2 = pd.DataFrame(cl2,index = range(len(cluster1),len(cluster2)+len(cluster1)), columns = ['cluster_cr','conversion_rate'])\n",
    "table_cl2"
   ]
  },
  {
   "cell_type": "code",
   "execution_count": 510,
   "metadata": {
    "collapsed": false
   },
   "outputs": [
    {
     "data": {
      "text/plain": [
       "[['high', 3.96], ['high', 4.79], ['high', 5.0899999999999999]]"
      ]
     },
     "execution_count": 510,
     "metadata": {},
     "output_type": "execute_result"
    }
   ],
   "source": [
    "cl3 = []\n",
    "for h in range(len(cluster2)+len(cluster1),len(samples_cr)):\n",
    "    n =[]\n",
    "    n.append(\"high\")\n",
    "    n.append(samples_cr[h])\n",
    "    cl3.append(n)\n",
    "cl3"
   ]
  },
  {
   "cell_type": "code",
   "execution_count": 511,
   "metadata": {
    "collapsed": false
   },
   "outputs": [
    {
     "data": {
      "text/html": [
       "<div>\n",
       "<table border=\"1\" class=\"dataframe\">\n",
       "  <thead>\n",
       "    <tr style=\"text-align: right;\">\n",
       "      <th></th>\n",
       "      <th>cluster_cr</th>\n",
       "      <th>conversion_rate</th>\n",
       "    </tr>\n",
       "  </thead>\n",
       "  <tbody>\n",
       "    <tr>\n",
       "      <th>6</th>\n",
       "      <td>high</td>\n",
       "      <td>3.96</td>\n",
       "    </tr>\n",
       "    <tr>\n",
       "      <th>7</th>\n",
       "      <td>high</td>\n",
       "      <td>4.79</td>\n",
       "    </tr>\n",
       "    <tr>\n",
       "      <th>8</th>\n",
       "      <td>high</td>\n",
       "      <td>5.09</td>\n",
       "    </tr>\n",
       "  </tbody>\n",
       "</table>\n",
       "</div>"
      ],
      "text/plain": [
       "  cluster_cr  conversion_rate\n",
       "6       high             3.96\n",
       "7       high             4.79\n",
       "8       high             5.09"
      ]
     },
     "execution_count": 511,
     "metadata": {},
     "output_type": "execute_result"
    }
   ],
   "source": [
    "table_cl3 = pd.DataFrame(cl3,index = range(len(cluster2)+len(cluster1),len(samples_sessions)), columns = ['cluster_cr','conversion_rate'])\n",
    "table_cl3"
   ]
  },
  {
   "cell_type": "code",
   "execution_count": 512,
   "metadata": {
    "collapsed": false
   },
   "outputs": [
    {
     "data": {
      "text/html": [
       "<div>\n",
       "<table border=\"1\" class=\"dataframe\">\n",
       "  <thead>\n",
       "    <tr style=\"text-align: right;\">\n",
       "      <th></th>\n",
       "      <th>cluster_cr</th>\n",
       "      <th>conversion_rate</th>\n",
       "    </tr>\n",
       "  </thead>\n",
       "  <tbody>\n",
       "    <tr>\n",
       "      <th>0</th>\n",
       "      <td>low</td>\n",
       "      <td>1.46</td>\n",
       "    </tr>\n",
       "    <tr>\n",
       "      <th>1</th>\n",
       "      <td>low</td>\n",
       "      <td>2.22</td>\n",
       "    </tr>\n",
       "    <tr>\n",
       "      <th>2</th>\n",
       "      <td>mid</td>\n",
       "      <td>2.85</td>\n",
       "    </tr>\n",
       "    <tr>\n",
       "      <th>3</th>\n",
       "      <td>mid</td>\n",
       "      <td>2.90</td>\n",
       "    </tr>\n",
       "    <tr>\n",
       "      <th>4</th>\n",
       "      <td>mid</td>\n",
       "      <td>3.12</td>\n",
       "    </tr>\n",
       "    <tr>\n",
       "      <th>5</th>\n",
       "      <td>mid</td>\n",
       "      <td>3.14</td>\n",
       "    </tr>\n",
       "    <tr>\n",
       "      <th>6</th>\n",
       "      <td>high</td>\n",
       "      <td>3.96</td>\n",
       "    </tr>\n",
       "    <tr>\n",
       "      <th>7</th>\n",
       "      <td>high</td>\n",
       "      <td>4.79</td>\n",
       "    </tr>\n",
       "    <tr>\n",
       "      <th>8</th>\n",
       "      <td>high</td>\n",
       "      <td>5.09</td>\n",
       "    </tr>\n",
       "  </tbody>\n",
       "</table>\n",
       "</div>"
      ],
      "text/plain": [
       "  cluster_cr  conversion_rate\n",
       "0        low             1.46\n",
       "1        low             2.22\n",
       "2        mid             2.85\n",
       "3        mid             2.90\n",
       "4        mid             3.12\n",
       "5        mid             3.14\n",
       "6       high             3.96\n",
       "7       high             4.79\n",
       "8       high             5.09"
      ]
     },
     "execution_count": 512,
     "metadata": {},
     "output_type": "execute_result"
    }
   ],
   "source": [
    "result_clusters = pd.concat([table_cl1,table_cl2,table_cl3])\n",
    "result_clusters"
   ]
  },
  {
   "cell_type": "code",
   "execution_count": 513,
   "metadata": {
    "collapsed": false
   },
   "outputs": [
    {
     "data": {
      "text/html": [
       "<div>\n",
       "<table border=\"1\" class=\"dataframe\">\n",
       "  <thead>\n",
       "    <tr style=\"text-align: right;\">\n",
       "      <th></th>\n",
       "      <th>cluster_cr</th>\n",
       "      <th>conversion_rate</th>\n",
       "      <th>city_age</th>\n",
       "      <th>sessions</th>\n",
       "      <th>bounce_rate</th>\n",
       "      <th>conversions</th>\n",
       "    </tr>\n",
       "  </thead>\n",
       "  <tbody>\n",
       "    <tr>\n",
       "      <th>0</th>\n",
       "      <td>low</td>\n",
       "      <td>1.46</td>\n",
       "      <td>London, 45-54</td>\n",
       "      <td>205</td>\n",
       "      <td>55.609756</td>\n",
       "      <td>3</td>\n",
       "    </tr>\n",
       "    <tr>\n",
       "      <th>1</th>\n",
       "      <td>low</td>\n",
       "      <td>2.22</td>\n",
       "      <td>Croydon, 45-54</td>\n",
       "      <td>90</td>\n",
       "      <td>45.555556</td>\n",
       "      <td>2</td>\n",
       "    </tr>\n",
       "    <tr>\n",
       "      <th>2</th>\n",
       "      <td>mid</td>\n",
       "      <td>2.85</td>\n",
       "      <td>London, 25-34</td>\n",
       "      <td>842</td>\n",
       "      <td>59.144893</td>\n",
       "      <td>24</td>\n",
       "    </tr>\n",
       "    <tr>\n",
       "      <th>3</th>\n",
       "      <td>mid</td>\n",
       "      <td>2.90</td>\n",
       "      <td>London, 35-44</td>\n",
       "      <td>482</td>\n",
       "      <td>54.771784</td>\n",
       "      <td>14</td>\n",
       "    </tr>\n",
       "    <tr>\n",
       "      <th>4</th>\n",
       "      <td>mid</td>\n",
       "      <td>3.12</td>\n",
       "      <td>Croydon, 55-64</td>\n",
       "      <td>32</td>\n",
       "      <td>53.125000</td>\n",
       "      <td>1</td>\n",
       "    </tr>\n",
       "    <tr>\n",
       "      <th>5</th>\n",
       "      <td>mid</td>\n",
       "      <td>3.14</td>\n",
       "      <td>Croydon, 35-44</td>\n",
       "      <td>223</td>\n",
       "      <td>43.049327</td>\n",
       "      <td>7</td>\n",
       "    </tr>\n",
       "    <tr>\n",
       "      <th>6</th>\n",
       "      <td>high</td>\n",
       "      <td>3.96</td>\n",
       "      <td>Croydon, 18-24</td>\n",
       "      <td>101</td>\n",
       "      <td>41.584158</td>\n",
       "      <td>4</td>\n",
       "    </tr>\n",
       "    <tr>\n",
       "      <th>7</th>\n",
       "      <td>high</td>\n",
       "      <td>4.79</td>\n",
       "      <td>London, 18-24</td>\n",
       "      <td>167</td>\n",
       "      <td>49.700599</td>\n",
       "      <td>8</td>\n",
       "    </tr>\n",
       "    <tr>\n",
       "      <th>8</th>\n",
       "      <td>high</td>\n",
       "      <td>5.09</td>\n",
       "      <td>Croydon, 25-34</td>\n",
       "      <td>334</td>\n",
       "      <td>47.904192</td>\n",
       "      <td>17</td>\n",
       "    </tr>\n",
       "  </tbody>\n",
       "</table>\n",
       "</div>"
      ],
      "text/plain": [
       "  cluster_cr  conversion_rate        city_age  sessions  bounce_rate  \\\n",
       "0        low             1.46   London, 45-54       205    55.609756   \n",
       "1        low             2.22  Croydon, 45-54        90    45.555556   \n",
       "2        mid             2.85   London, 25-34       842    59.144893   \n",
       "3        mid             2.90   London, 35-44       482    54.771784   \n",
       "4        mid             3.12  Croydon, 55-64        32    53.125000   \n",
       "5        mid             3.14  Croydon, 35-44       223    43.049327   \n",
       "6       high             3.96  Croydon, 18-24       101    41.584158   \n",
       "7       high             4.79   London, 18-24       167    49.700599   \n",
       "8       high             5.09  Croydon, 25-34       334    47.904192   \n",
       "\n",
       "   conversions  \n",
       "0            3  \n",
       "1            2  \n",
       "2           24  \n",
       "3           14  \n",
       "4            1  \n",
       "5            7  \n",
       "6            4  \n",
       "7            8  \n",
       "8           17  "
      ]
     },
     "execution_count": 513,
     "metadata": {},
     "output_type": "execute_result"
    }
   ],
   "source": [
    "result_cr = result_clusters.merge(table_data, on = 'conversion_rate')\n",
    "result_cr"
   ]
  },
  {
   "cell_type": "code",
   "execution_count": 514,
   "metadata": {
    "collapsed": false,
    "scrolled": true
   },
   "outputs": [
    {
     "data": {
      "text/html": [
       "<div>\n",
       "<table border=\"1\" class=\"dataframe\">\n",
       "  <thead>\n",
       "    <tr style=\"text-align: right;\">\n",
       "      <th></th>\n",
       "      <th>cluster_cr</th>\n",
       "      <th>conversion_rate_x</th>\n",
       "      <th>city_age</th>\n",
       "      <th>sessions_x</th>\n",
       "      <th>bounce_rate_x</th>\n",
       "      <th>conversions_x</th>\n",
       "      <th>cluster_sess</th>\n",
       "      <th>sessions_y</th>\n",
       "      <th>bounce_rate_y</th>\n",
       "      <th>conversions_y</th>\n",
       "      <th>conversion_rate_y</th>\n",
       "    </tr>\n",
       "  </thead>\n",
       "  <tbody>\n",
       "    <tr>\n",
       "      <th>0</th>\n",
       "      <td>low</td>\n",
       "      <td>1.46</td>\n",
       "      <td>London, 45-54</td>\n",
       "      <td>205</td>\n",
       "      <td>55.609756</td>\n",
       "      <td>3</td>\n",
       "      <td>mid</td>\n",
       "      <td>205</td>\n",
       "      <td>55.609756</td>\n",
       "      <td>3</td>\n",
       "      <td>1.46</td>\n",
       "    </tr>\n",
       "    <tr>\n",
       "      <th>1</th>\n",
       "      <td>low</td>\n",
       "      <td>2.22</td>\n",
       "      <td>Croydon, 45-54</td>\n",
       "      <td>90</td>\n",
       "      <td>45.555556</td>\n",
       "      <td>2</td>\n",
       "      <td>low</td>\n",
       "      <td>90</td>\n",
       "      <td>45.555556</td>\n",
       "      <td>2</td>\n",
       "      <td>2.22</td>\n",
       "    </tr>\n",
       "    <tr>\n",
       "      <th>2</th>\n",
       "      <td>mid</td>\n",
       "      <td>2.85</td>\n",
       "      <td>London, 25-34</td>\n",
       "      <td>842</td>\n",
       "      <td>59.144893</td>\n",
       "      <td>24</td>\n",
       "      <td>high</td>\n",
       "      <td>842</td>\n",
       "      <td>59.144893</td>\n",
       "      <td>24</td>\n",
       "      <td>2.85</td>\n",
       "    </tr>\n",
       "    <tr>\n",
       "      <th>3</th>\n",
       "      <td>mid</td>\n",
       "      <td>2.90</td>\n",
       "      <td>London, 35-44</td>\n",
       "      <td>482</td>\n",
       "      <td>54.771784</td>\n",
       "      <td>14</td>\n",
       "      <td>high</td>\n",
       "      <td>482</td>\n",
       "      <td>54.771784</td>\n",
       "      <td>14</td>\n",
       "      <td>2.90</td>\n",
       "    </tr>\n",
       "    <tr>\n",
       "      <th>4</th>\n",
       "      <td>mid</td>\n",
       "      <td>3.12</td>\n",
       "      <td>Croydon, 55-64</td>\n",
       "      <td>32</td>\n",
       "      <td>53.125000</td>\n",
       "      <td>1</td>\n",
       "      <td>low</td>\n",
       "      <td>32</td>\n",
       "      <td>53.125000</td>\n",
       "      <td>1</td>\n",
       "      <td>3.12</td>\n",
       "    </tr>\n",
       "    <tr>\n",
       "      <th>5</th>\n",
       "      <td>mid</td>\n",
       "      <td>3.14</td>\n",
       "      <td>Croydon, 35-44</td>\n",
       "      <td>223</td>\n",
       "      <td>43.049327</td>\n",
       "      <td>7</td>\n",
       "      <td>mid</td>\n",
       "      <td>223</td>\n",
       "      <td>43.049327</td>\n",
       "      <td>7</td>\n",
       "      <td>3.14</td>\n",
       "    </tr>\n",
       "    <tr>\n",
       "      <th>6</th>\n",
       "      <td>high</td>\n",
       "      <td>3.96</td>\n",
       "      <td>Croydon, 18-24</td>\n",
       "      <td>101</td>\n",
       "      <td>41.584158</td>\n",
       "      <td>4</td>\n",
       "      <td>low</td>\n",
       "      <td>101</td>\n",
       "      <td>41.584158</td>\n",
       "      <td>4</td>\n",
       "      <td>3.96</td>\n",
       "    </tr>\n",
       "    <tr>\n",
       "      <th>7</th>\n",
       "      <td>high</td>\n",
       "      <td>4.79</td>\n",
       "      <td>London, 18-24</td>\n",
       "      <td>167</td>\n",
       "      <td>49.700599</td>\n",
       "      <td>8</td>\n",
       "      <td>low</td>\n",
       "      <td>167</td>\n",
       "      <td>49.700599</td>\n",
       "      <td>8</td>\n",
       "      <td>4.79</td>\n",
       "    </tr>\n",
       "    <tr>\n",
       "      <th>8</th>\n",
       "      <td>high</td>\n",
       "      <td>5.09</td>\n",
       "      <td>Croydon, 25-34</td>\n",
       "      <td>334</td>\n",
       "      <td>47.904192</td>\n",
       "      <td>17</td>\n",
       "      <td>mid</td>\n",
       "      <td>334</td>\n",
       "      <td>47.904192</td>\n",
       "      <td>17</td>\n",
       "      <td>5.09</td>\n",
       "    </tr>\n",
       "  </tbody>\n",
       "</table>\n",
       "</div>"
      ],
      "text/plain": [
       "  cluster_cr  conversion_rate_x        city_age  sessions_x  bounce_rate_x  \\\n",
       "0        low               1.46   London, 45-54         205      55.609756   \n",
       "1        low               2.22  Croydon, 45-54          90      45.555556   \n",
       "2        mid               2.85   London, 25-34         842      59.144893   \n",
       "3        mid               2.90   London, 35-44         482      54.771784   \n",
       "4        mid               3.12  Croydon, 55-64          32      53.125000   \n",
       "5        mid               3.14  Croydon, 35-44         223      43.049327   \n",
       "6       high               3.96  Croydon, 18-24         101      41.584158   \n",
       "7       high               4.79   London, 18-24         167      49.700599   \n",
       "8       high               5.09  Croydon, 25-34         334      47.904192   \n",
       "\n",
       "   conversions_x cluster_sess  sessions_y  bounce_rate_y  conversions_y  \\\n",
       "0              3          mid         205      55.609756              3   \n",
       "1              2          low          90      45.555556              2   \n",
       "2             24         high         842      59.144893             24   \n",
       "3             14         high         482      54.771784             14   \n",
       "4              1          low          32      53.125000              1   \n",
       "5              7          mid         223      43.049327              7   \n",
       "6              4          low         101      41.584158              4   \n",
       "7              8          low         167      49.700599              8   \n",
       "8             17          mid         334      47.904192             17   \n",
       "\n",
       "   conversion_rate_y  \n",
       "0               1.46  \n",
       "1               2.22  \n",
       "2               2.85  \n",
       "3               2.90  \n",
       "4               3.12  \n",
       "5               3.14  \n",
       "6               3.96  \n",
       "7               4.79  \n",
       "8               5.09  "
      ]
     },
     "execution_count": 514,
     "metadata": {},
     "output_type": "execute_result"
    }
   ],
   "source": [
    "final = result_cr.merge(result_sess, on = 'city_age')\n",
    "final"
   ]
  },
  {
   "cell_type": "code",
   "execution_count": 515,
   "metadata": {
    "collapsed": false,
    "scrolled": false
   },
   "outputs": [
    {
     "data": {
      "text/html": [
       "<div>\n",
       "<table border=\"1\" class=\"dataframe\">\n",
       "  <thead>\n",
       "    <tr style=\"text-align: right;\">\n",
       "      <th></th>\n",
       "      <th>city_age</th>\n",
       "      <th>cluster_cr</th>\n",
       "      <th>cluster_sess</th>\n",
       "      <th>conversion_rate_x</th>\n",
       "      <th>conversions_x</th>\n",
       "      <th>sessions_x</th>\n",
       "    </tr>\n",
       "  </thead>\n",
       "  <tbody>\n",
       "    <tr>\n",
       "      <th>0</th>\n",
       "      <td>London, 45-54</td>\n",
       "      <td>low</td>\n",
       "      <td>mid</td>\n",
       "      <td>1.46</td>\n",
       "      <td>3</td>\n",
       "      <td>205</td>\n",
       "    </tr>\n",
       "    <tr>\n",
       "      <th>1</th>\n",
       "      <td>Croydon, 45-54</td>\n",
       "      <td>low</td>\n",
       "      <td>low</td>\n",
       "      <td>2.22</td>\n",
       "      <td>2</td>\n",
       "      <td>90</td>\n",
       "    </tr>\n",
       "    <tr>\n",
       "      <th>2</th>\n",
       "      <td>London, 25-34</td>\n",
       "      <td>mid</td>\n",
       "      <td>high</td>\n",
       "      <td>2.85</td>\n",
       "      <td>24</td>\n",
       "      <td>842</td>\n",
       "    </tr>\n",
       "    <tr>\n",
       "      <th>3</th>\n",
       "      <td>London, 35-44</td>\n",
       "      <td>mid</td>\n",
       "      <td>high</td>\n",
       "      <td>2.90</td>\n",
       "      <td>14</td>\n",
       "      <td>482</td>\n",
       "    </tr>\n",
       "    <tr>\n",
       "      <th>4</th>\n",
       "      <td>Croydon, 55-64</td>\n",
       "      <td>mid</td>\n",
       "      <td>low</td>\n",
       "      <td>3.12</td>\n",
       "      <td>1</td>\n",
       "      <td>32</td>\n",
       "    </tr>\n",
       "    <tr>\n",
       "      <th>5</th>\n",
       "      <td>Croydon, 35-44</td>\n",
       "      <td>mid</td>\n",
       "      <td>mid</td>\n",
       "      <td>3.14</td>\n",
       "      <td>7</td>\n",
       "      <td>223</td>\n",
       "    </tr>\n",
       "    <tr>\n",
       "      <th>6</th>\n",
       "      <td>Croydon, 18-24</td>\n",
       "      <td>high</td>\n",
       "      <td>low</td>\n",
       "      <td>3.96</td>\n",
       "      <td>4</td>\n",
       "      <td>101</td>\n",
       "    </tr>\n",
       "    <tr>\n",
       "      <th>7</th>\n",
       "      <td>London, 18-24</td>\n",
       "      <td>high</td>\n",
       "      <td>low</td>\n",
       "      <td>4.79</td>\n",
       "      <td>8</td>\n",
       "      <td>167</td>\n",
       "    </tr>\n",
       "    <tr>\n",
       "      <th>8</th>\n",
       "      <td>Croydon, 25-34</td>\n",
       "      <td>high</td>\n",
       "      <td>mid</td>\n",
       "      <td>5.09</td>\n",
       "      <td>17</td>\n",
       "      <td>334</td>\n",
       "    </tr>\n",
       "  </tbody>\n",
       "</table>\n",
       "</div>"
      ],
      "text/plain": [
       "         city_age cluster_cr cluster_sess  conversion_rate_x  conversions_x  \\\n",
       "0   London, 45-54        low          mid               1.46              3   \n",
       "1  Croydon, 45-54        low          low               2.22              2   \n",
       "2   London, 25-34        mid         high               2.85             24   \n",
       "3   London, 35-44        mid         high               2.90             14   \n",
       "4  Croydon, 55-64        mid          low               3.12              1   \n",
       "5  Croydon, 35-44        mid          mid               3.14              7   \n",
       "6  Croydon, 18-24       high          low               3.96              4   \n",
       "7   London, 18-24       high          low               4.79              8   \n",
       "8  Croydon, 25-34       high          mid               5.09             17   \n",
       "\n",
       "   sessions_x  \n",
       "0         205  \n",
       "1          90  \n",
       "2         842  \n",
       "3         482  \n",
       "4          32  \n",
       "5         223  \n",
       "6         101  \n",
       "7         167  \n",
       "8         334  "
      ]
     },
     "execution_count": 515,
     "metadata": {},
     "output_type": "execute_result"
    }
   ],
   "source": [
    "final = final[[\"city_age\",\"cluster_cr\",\"cluster_sess\",\"conversion_rate_x\",\"conversions_x\",\"sessions_x\"]]\n",
    "final"
   ]
  },
  {
   "cell_type": "code",
   "execution_count": 516,
   "metadata": {
    "collapsed": true
   },
   "outputs": [],
   "source": [
    "import pandas as pd"
   ]
  },
  {
   "cell_type": "code",
   "execution_count": 517,
   "metadata": {
    "collapsed": false,
    "scrolled": false
   },
   "outputs": [
    {
     "name": "stderr",
     "output_type": "stream",
     "text": [
      "C:\\ProgramData\\Anaconda3\\lib\\site-packages\\ipykernel\\__main__.py:1: SettingWithCopyWarning: \n",
      "A value is trying to be set on a copy of a slice from a DataFrame.\n",
      "Try using .loc[row_indexer,col_indexer] = value instead\n",
      "\n",
      "See the caveats in the documentation: http://pandas.pydata.org/pandas-docs/stable/indexing.html#indexing-view-versus-copy\n",
      "  if __name__ == '__main__':\n"
     ]
    },
    {
     "data": {
      "text/html": [
       "<div>\n",
       "<table border=\"1\" class=\"dataframe\">\n",
       "  <thead>\n",
       "    <tr style=\"text-align: right;\">\n",
       "      <th></th>\n",
       "      <th>city_age</th>\n",
       "      <th>cluster_cr</th>\n",
       "      <th>cluster_sess</th>\n",
       "      <th>conversion_rate_x</th>\n",
       "      <th>conversions_x</th>\n",
       "      <th>sessions_x</th>\n",
       "      <th>group</th>\n",
       "    </tr>\n",
       "  </thead>\n",
       "  <tbody>\n",
       "    <tr>\n",
       "      <th>0</th>\n",
       "      <td>London, 45-54</td>\n",
       "      <td>low</td>\n",
       "      <td>mid</td>\n",
       "      <td>1.46</td>\n",
       "      <td>3</td>\n",
       "      <td>205</td>\n",
       "      <td>lowmid</td>\n",
       "    </tr>\n",
       "    <tr>\n",
       "      <th>1</th>\n",
       "      <td>Croydon, 45-54</td>\n",
       "      <td>low</td>\n",
       "      <td>low</td>\n",
       "      <td>2.22</td>\n",
       "      <td>2</td>\n",
       "      <td>90</td>\n",
       "      <td>lowlow</td>\n",
       "    </tr>\n",
       "    <tr>\n",
       "      <th>2</th>\n",
       "      <td>London, 25-34</td>\n",
       "      <td>mid</td>\n",
       "      <td>high</td>\n",
       "      <td>2.85</td>\n",
       "      <td>24</td>\n",
       "      <td>842</td>\n",
       "      <td>midhigh</td>\n",
       "    </tr>\n",
       "    <tr>\n",
       "      <th>3</th>\n",
       "      <td>London, 35-44</td>\n",
       "      <td>mid</td>\n",
       "      <td>high</td>\n",
       "      <td>2.90</td>\n",
       "      <td>14</td>\n",
       "      <td>482</td>\n",
       "      <td>midhigh</td>\n",
       "    </tr>\n",
       "    <tr>\n",
       "      <th>4</th>\n",
       "      <td>Croydon, 55-64</td>\n",
       "      <td>mid</td>\n",
       "      <td>low</td>\n",
       "      <td>3.12</td>\n",
       "      <td>1</td>\n",
       "      <td>32</td>\n",
       "      <td>midlow</td>\n",
       "    </tr>\n",
       "    <tr>\n",
       "      <th>5</th>\n",
       "      <td>Croydon, 35-44</td>\n",
       "      <td>mid</td>\n",
       "      <td>mid</td>\n",
       "      <td>3.14</td>\n",
       "      <td>7</td>\n",
       "      <td>223</td>\n",
       "      <td>midmid</td>\n",
       "    </tr>\n",
       "    <tr>\n",
       "      <th>6</th>\n",
       "      <td>Croydon, 18-24</td>\n",
       "      <td>high</td>\n",
       "      <td>low</td>\n",
       "      <td>3.96</td>\n",
       "      <td>4</td>\n",
       "      <td>101</td>\n",
       "      <td>highlow</td>\n",
       "    </tr>\n",
       "    <tr>\n",
       "      <th>7</th>\n",
       "      <td>London, 18-24</td>\n",
       "      <td>high</td>\n",
       "      <td>low</td>\n",
       "      <td>4.79</td>\n",
       "      <td>8</td>\n",
       "      <td>167</td>\n",
       "      <td>highlow</td>\n",
       "    </tr>\n",
       "    <tr>\n",
       "      <th>8</th>\n",
       "      <td>Croydon, 25-34</td>\n",
       "      <td>high</td>\n",
       "      <td>mid</td>\n",
       "      <td>5.09</td>\n",
       "      <td>17</td>\n",
       "      <td>334</td>\n",
       "      <td>highmid</td>\n",
       "    </tr>\n",
       "  </tbody>\n",
       "</table>\n",
       "</div>"
      ],
      "text/plain": [
       "         city_age cluster_cr cluster_sess  conversion_rate_x  conversions_x  \\\n",
       "0   London, 45-54        low          mid               1.46              3   \n",
       "1  Croydon, 45-54        low          low               2.22              2   \n",
       "2   London, 25-34        mid         high               2.85             24   \n",
       "3   London, 35-44        mid         high               2.90             14   \n",
       "4  Croydon, 55-64        mid          low               3.12              1   \n",
       "5  Croydon, 35-44        mid          mid               3.14              7   \n",
       "6  Croydon, 18-24       high          low               3.96              4   \n",
       "7   London, 18-24       high          low               4.79              8   \n",
       "8  Croydon, 25-34       high          mid               5.09             17   \n",
       "\n",
       "   sessions_x    group  \n",
       "0         205   lowmid  \n",
       "1          90   lowlow  \n",
       "2         842  midhigh  \n",
       "3         482  midhigh  \n",
       "4          32   midlow  \n",
       "5         223   midmid  \n",
       "6         101  highlow  \n",
       "7         167  highlow  \n",
       "8         334  highmid  "
      ]
     },
     "execution_count": 517,
     "metadata": {},
     "output_type": "execute_result"
    }
   ],
   "source": [
    "final[\"group\"] = final[\"cluster_cr\"] + final[\"cluster_sess\"]\n",
    "final"
   ]
  },
  {
   "cell_type": "code",
   "execution_count": 518,
   "metadata": {
    "collapsed": false
   },
   "outputs": [
    {
     "data": {
      "text/plain": [
       "['London, 25-34;London, 35-44', 1324, 38, 2.875]"
      ]
     },
     "execution_count": 518,
     "metadata": {},
     "output_type": "execute_result"
    }
   ],
   "source": [
    "import scipy\n",
    "group_midhigh = []\n",
    "sess_mh = []\n",
    "convs_mh = []\n",
    "cr_mh = []\n",
    "for i in range(0,len(final)):\n",
    "   \n",
    "    if final.group[i] == \"midhigh\":\n",
    "        sess_mh.append(final.sessions_x[i])\n",
    "        convs_mh.append(final.conversions_x[i])\n",
    "        cr_mh.append(final.conversion_rate_x[i])\n",
    "        group_midhigh.append(final.city_age[i])\n",
    "        sess_midhigh = sum(sess_mh)\n",
    "        convs_midhigh = sum(convs_mh)\n",
    "        cr_midhigh = scipy.mean(cr_mh,0)\n",
    "group_midhigh = \";\".join(group_midhigh)  \n",
    "group1 = [group_midhigh,sess_midhigh,convs_midhigh,cr_midhigh]\n",
    "group1"
   ]
  },
  {
   "cell_type": "code",
   "execution_count": 519,
   "metadata": {
    "collapsed": false
   },
   "outputs": [
    {
     "data": {
      "text/plain": [
       "['Croydon, 25-34', 334, 17, 5.0899999999999999]"
      ]
     },
     "execution_count": 519,
     "metadata": {},
     "output_type": "execute_result"
    }
   ],
   "source": [
    "group_highmid = []\n",
    "sess_hm = []\n",
    "convs_hm = []\n",
    "cr_hm = []\n",
    "for i in range(0,len(final)):\n",
    "   \n",
    "    if final.group[i] == \"highmid\":\n",
    "        sess_hm.append(final.sessions_x[i])\n",
    "        convs_hm.append(final.conversions_x[i])\n",
    "        cr_hm.append(final.conversion_rate_x[i])\n",
    "        group_highmid.append(final.city_age[i])\n",
    "        sess_highmid = sum(sess_hm)\n",
    "        convs_highmid = sum(convs_hm)\n",
    "        cr_highmid = scipy.mean(cr_hm,0)\n",
    "        \n",
    "group_highmid = \";\".join(group_highmid)  \n",
    "group2 = [group_highmid,sess_highmid,convs_highmid,cr_highmid]\n",
    "group2"
   ]
  },
  {
   "cell_type": "code",
   "execution_count": 520,
   "metadata": {
    "collapsed": false
   },
   "outputs": [
    {
     "data": {
      "text/plain": [
       "['Croydon, 18-24;London, 18-24', 268, 12, 4.375]"
      ]
     },
     "execution_count": 520,
     "metadata": {},
     "output_type": "execute_result"
    }
   ],
   "source": [
    "group_highlow = []\n",
    "sess_hl = []\n",
    "convs_hl = []\n",
    "cr_hl = []\n",
    "for i in range(0,len(final)):\n",
    "   \n",
    "    if final.group[i] == \"highlow\":\n",
    "        sess_hl.append(final.sessions_x[i])\n",
    "        convs_hl.append(final.conversions_x[i])\n",
    "        cr_hl.append(final.conversion_rate_x[i])\n",
    "        group_highlow.append(final.city_age[i])\n",
    "        sess_highlow = sum(sess_hl)\n",
    "        convs_highlow = sum(convs_hl)\n",
    "        cr_highlow = scipy.mean(cr_hl,0)\n",
    "        \n",
    "group_highlow = \";\".join(group_highlow)  \n",
    "group3 = [group_highlow,sess_highlow,convs_highlow,cr_highlow]\n",
    "group3      "
   ]
  },
  {
   "cell_type": "code",
   "execution_count": 521,
   "metadata": {
    "collapsed": false
   },
   "outputs": [
    {
     "data": {
      "text/plain": [
       "['London, 45-54;Croydon, 45-54;Croydon, 55-64;Croydon, 35-44',\n",
       " 550,\n",
       " 13,\n",
       " 2.4850000000000003]"
      ]
     },
     "execution_count": 521,
     "metadata": {},
     "output_type": "execute_result"
    }
   ],
   "source": [
    "group = []\n",
    "sess_group = []\n",
    "convs_group = []\n",
    "cr_group = []\n",
    "for i in range(0,len(final)):\n",
    "   \n",
    "    if (final.group[i] != \"highlow\") and (final.group[i] != \"highmid\") and (final.group[i] != \"midhigh\"):\n",
    "        sess_group.append(final.sessions_x[i])\n",
    "        convs_group.append(final.conversions_x[i])\n",
    "        cr_group.append(final.conversion_rate_x[i])\n",
    "        group.append(final.city_age[i])\n",
    "        sess = sum(sess_group)\n",
    "        convs = sum(convs_group)\n",
    "        cr = scipy.mean(cr_group)\n",
    "        \n",
    "group = \";\".join(group)  \n",
    "group4 = [group,sess,convs,cr]\n",
    "group4"
   ]
  },
  {
   "cell_type": "code",
   "execution_count": 522,
   "metadata": {
    "collapsed": false
   },
   "outputs": [
    {
     "data": {
      "text/plain": [
       "[['London, 25-34;London, 35-44', 1324, 38, 2.875],\n",
       " ['Croydon, 25-34', 334, 17, 5.0899999999999999],\n",
       " ['Croydon, 18-24;London, 18-24', 268, 12, 4.375],\n",
       " ['London, 45-54;Croydon, 45-54;Croydon, 55-64;Croydon, 35-44',\n",
       "  550,\n",
       "  13,\n",
       "  2.4850000000000003]]"
      ]
     },
     "execution_count": 522,
     "metadata": {},
     "output_type": "execute_result"
    }
   ],
   "source": [
    "results = [group1,group2,group3,group4]\n",
    "results"
   ]
  },
  {
   "cell_type": "code",
   "execution_count": 523,
   "metadata": {
    "collapsed": false,
    "scrolled": true
   },
   "outputs": [
    {
     "data": {
      "text/html": [
       "<div>\n",
       "<table border=\"1\" class=\"dataframe\">\n",
       "  <thead>\n",
       "    <tr style=\"text-align: right;\">\n",
       "      <th></th>\n",
       "      <th>group</th>\n",
       "      <th>sessions</th>\n",
       "      <th>conversions</th>\n",
       "      <th>conversion_rate</th>\n",
       "    </tr>\n",
       "  </thead>\n",
       "  <tbody>\n",
       "    <tr>\n",
       "      <th>0</th>\n",
       "      <td>London, 25-34;London, 35-44</td>\n",
       "      <td>1324</td>\n",
       "      <td>38</td>\n",
       "      <td>2.875</td>\n",
       "    </tr>\n",
       "    <tr>\n",
       "      <th>1</th>\n",
       "      <td>Croydon, 25-34</td>\n",
       "      <td>334</td>\n",
       "      <td>17</td>\n",
       "      <td>5.090</td>\n",
       "    </tr>\n",
       "    <tr>\n",
       "      <th>2</th>\n",
       "      <td>Croydon, 18-24;London, 18-24</td>\n",
       "      <td>268</td>\n",
       "      <td>12</td>\n",
       "      <td>4.375</td>\n",
       "    </tr>\n",
       "    <tr>\n",
       "      <th>3</th>\n",
       "      <td>London, 45-54;Croydon, 45-54;Croydon, 55-64;Cr...</td>\n",
       "      <td>550</td>\n",
       "      <td>13</td>\n",
       "      <td>2.485</td>\n",
       "    </tr>\n",
       "  </tbody>\n",
       "</table>\n",
       "</div>"
      ],
      "text/plain": [
       "                                               group  sessions  conversions  \\\n",
       "0                        London, 25-34;London, 35-44      1324           38   \n",
       "1                                     Croydon, 25-34       334           17   \n",
       "2                       Croydon, 18-24;London, 18-24       268           12   \n",
       "3  London, 45-54;Croydon, 45-54;Croydon, 55-64;Cr...       550           13   \n",
       "\n",
       "   conversion_rate  \n",
       "0            2.875  \n",
       "1            5.090  \n",
       "2            4.375  \n",
       "3            2.485  "
      ]
     },
     "execution_count": 523,
     "metadata": {},
     "output_type": "execute_result"
    }
   ],
   "source": [
    "final_table = pd.DataFrame(results, columns = [\"group\",\"sessions\",\"conversions\",\"conversion_rate\"])\n",
    "final_table"
   ]
  },
  {
   "cell_type": "code",
   "execution_count": null,
   "metadata": {
    "collapsed": true
   },
   "outputs": [],
   "source": []
  }
 ],
 "metadata": {
  "kernelspec": {
   "display_name": "Python 3",
   "language": "python",
   "name": "python3"
  },
  "language_info": {
   "codemirror_mode": {
    "name": "ipython",
    "version": 3
   },
   "file_extension": ".py",
   "mimetype": "text/x-python",
   "name": "python",
   "nbconvert_exporter": "python",
   "pygments_lexer": "ipython3",
   "version": "3.6.0"
  }
 },
 "nbformat": 4,
 "nbformat_minor": 2
}
