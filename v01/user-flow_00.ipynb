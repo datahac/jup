{
 "cells": [
  {
   "cell_type": "markdown",
   "metadata": {},
   "source": [
    "# User flow - Conversions by pages\n",
    "\n",
    "\n",
    "### 0. Import libraries"
   ]
  },
  {
   "cell_type": "code",
   "execution_count": 244,
   "metadata": {
    "collapsed": true
   },
   "outputs": [],
   "source": [
    "%matplotlib inline \n",
    "\n",
    "import numpy as np\n",
    "import scipy as sp\n",
    "import matplotlib as mpl\n",
    "import matplotlib.cm as cm\n",
    "import matplotlib.pyplot as plt\n",
    "import pandas as pd\n",
    "\n",
    "pd.set_option('display.width', 500)\n",
    "pd.set_option('display.max_columns', 100)\n",
    "pd.set_option('display.notebook_repr_html', True)\n",
    "import seaborn as sns #sets up styles and gives us more plotting options\n"
   ]
  },
  {
   "cell_type": "markdown",
   "metadata": {},
   "source": [
    "### 1. Settings"
   ]
  },
  {
   "cell_type": "code",
   "execution_count": 245,
   "metadata": {
    "collapsed": true
   },
   "outputs": [],
   "source": [
    "# Time period 1st Jan - 30th April (arbitrary )\n",
    "\n",
    "# API credentials\n",
    "# Email address 705762800217-compute@developer.gserviceaccount.com\n",
    "# Key IDs 948ee8e2a420ef14a5d5a29bd35104fe2f1e6ed4\n",
    " "
   ]
  },
  {
   "cell_type": "code",
   "execution_count": 246,
   "metadata": {
    "collapsed": true
   },
   "outputs": [],
   "source": [
    "# open file. It is requested via API explorer using request parameters:\n",
    "\n",
    "#Account: TMRW Tech Hub\n",
    "#Property: TMRW\n",
    "#View: All Web Site Data\n",
    "#ids: ga:123303369\n",
    "#start-date: 2017-02-01\n",
    "#end-date: 2017-04-30\n",
    "\n",
    "#metrics\n",
    "#ga:sessions\n",
    "#ga:sessionsWithEvent\n",
    "\n",
    "#dimensions\n",
    "#ga:pagePath\n",
    "\n",
    "#sort\n",
    "#-ga:sessionsWithEvent\n",
    "\n",
    "#filter\n",
    "#ga:sessions>10"
   ]
  },
  {
   "cell_type": "markdown",
   "metadata": {},
   "source": [
    "### 2. Data import & transformation"
   ]
  },
  {
   "cell_type": "code",
   "execution_count": 274,
   "metadata": {
    "collapsed": false,
    "scrolled": true
   },
   "outputs": [
    {
     "data": {
      "text/html": [
       "<div>\n",
       "<table border=\"1\" class=\"dataframe\">\n",
       "  <thead>\n",
       "    <tr style=\"text-align: right;\">\n",
       "      <th></th>\n",
       "      <th>Page</th>\n",
       "      <th>Sessions</th>\n",
       "      <th>Conversions</th>\n",
       "      <th>CR</th>\n",
       "    </tr>\n",
       "  </thead>\n",
       "  <tbody>\n",
       "    <tr>\n",
       "      <th>0</th>\n",
       "      <td>'/</td>\n",
       "      <td>4436</td>\n",
       "      <td>82</td>\n",
       "      <td>0.018485</td>\n",
       "    </tr>\n",
       "    <tr>\n",
       "      <th>1</th>\n",
       "      <td>'/TMRW_FAQs.php</td>\n",
       "      <td>100</td>\n",
       "      <td>26</td>\n",
       "      <td>0.260000</td>\n",
       "    </tr>\n",
       "    <tr>\n",
       "      <th>2</th>\n",
       "      <td>'/TMRW_Byte_Cafe.php</td>\n",
       "      <td>218</td>\n",
       "      <td>23</td>\n",
       "      <td>0.105505</td>\n",
       "    </tr>\n",
       "    <tr>\n",
       "      <th>3</th>\n",
       "      <td>'/TMRW_the_team.php</td>\n",
       "      <td>99</td>\n",
       "      <td>10</td>\n",
       "      <td>0.101010</td>\n",
       "    </tr>\n",
       "  </tbody>\n",
       "</table>\n",
       "</div>"
      ],
      "text/plain": [
       "                   Page  Sessions  Conversions        CR\n",
       "0                    '/      4436           82  0.018485\n",
       "1       '/TMRW_FAQs.php       100           26  0.260000\n",
       "2  '/TMRW_Byte_Cafe.php       218           23  0.105505\n",
       "3   '/TMRW_the_team.php        99           10  0.101010"
      ]
     },
     "execution_count": 274,
     "metadata": {},
     "output_type": "execute_result"
    }
   ],
   "source": [
    "# Open file\n",
    "# original file exported from GA includes ga:pagePath,ga:sessions,ga:sessionsWithEvent\n",
    "# Calculate \"cr\" as \"Sessions with event\"/\"Sessions\" for each page.\n",
    "\n",
    "input_flow= pd.read_csv('files/TMRW_events.csv')\n",
    "\n",
    "# rename columns\n",
    "input_flow.columns=['Page','Sessions','Conversions','CR']\n",
    "\n",
    "# filter page with CR > 0\n",
    "input_flow = input_flow[input_flow.CR > 0]\n",
    "\n",
    "# group by page\n",
    "input_flow_index = input_flow.set_index('Page')\n",
    "input_flow"
   ]
  },
  {
   "cell_type": "markdown",
   "metadata": {},
   "source": [
    "### 3. Calculate"
   ]
  },
  {
   "cell_type": "code",
   "execution_count": 275,
   "metadata": {
    "collapsed": false
   },
   "outputs": [
    {
     "data": {
      "text/plain": [
       "'1.85'"
      ]
     },
     "execution_count": 275,
     "metadata": {},
     "output_type": "execute_result"
    }
   ],
   "source": [
    "homepage_CR = \"%.2f\"%(input_flow_index.loc['\\'/','CR']*100)\n",
    "homepage_CR"
   ]
  },
  {
   "cell_type": "code",
   "execution_count": 276,
   "metadata": {
    "collapsed": false,
    "scrolled": true
   },
   "outputs": [
    {
     "data": {
      "text/plain": [
       "\"'/TMRW_FAQs.php\""
      ]
     },
     "execution_count": 276,
     "metadata": {},
     "output_type": "execute_result"
    }
   ],
   "source": [
    "input_flow_cr = input_flow.set_index('CR')\n",
    "\n",
    "max_cr = max(input_flow.loc[:,'CR'])\n",
    "best_page = input_flow_cr.loc[max_cr,'Page']\n",
    "\n",
    "best_page"
   ]
  },
  {
   "cell_type": "markdown",
   "metadata": {},
   "source": [
    "### 4. Validate"
   ]
  },
  {
   "cell_type": "markdown",
   "metadata": {},
   "source": [
    "### 5. Visualise"
   ]
  },
  {
   "cell_type": "code",
   "execution_count": 282,
   "metadata": {
    "collapsed": false,
    "scrolled": false
   },
   "outputs": [
    {
     "data": {
      "text/html": [
       "\n",
       "\n",
       "    <div class=\"bk-root\">\n",
       "        <div class=\"plotdiv\" id=\"df6853ea-8d6e-47d1-b540-c1b76d0e50f1\"></div>\n",
       "    </div>\n",
       "<script type=\"text/javascript\">\n",
       "  \n",
       "  (function(global) {\n",
       "    function now() {\n",
       "      return new Date();\n",
       "    }\n",
       "  \n",
       "    var force = \"\";\n",
       "  \n",
       "    if (typeof (window._bokeh_onload_callbacks) === \"undefined\" || force !== \"\") {\n",
       "      window._bokeh_onload_callbacks = [];\n",
       "      window._bokeh_is_loading = undefined;\n",
       "    }\n",
       "  \n",
       "  \n",
       "    \n",
       "    if (typeof (window._bokeh_timeout) === \"undefined\" || force !== \"\") {\n",
       "      window._bokeh_timeout = Date.now() + 0;\n",
       "      window._bokeh_failed_load = false;\n",
       "    }\n",
       "  \n",
       "    var NB_LOAD_WARNING = {'data': {'text/html':\n",
       "       \"<div style='background-color: #fdd'>\\n\"+\n",
       "       \"<p>\\n\"+\n",
       "       \"BokehJS does not appear to have successfully loaded. If loading BokehJS from CDN, this \\n\"+\n",
       "       \"may be due to a slow or bad network connection. Possible fixes:\\n\"+\n",
       "       \"</p>\\n\"+\n",
       "       \"<ul>\\n\"+\n",
       "       \"<li>re-rerun `output_notebook()` to attempt to load from CDN again, or</li>\\n\"+\n",
       "       \"<li>use INLINE resources instead, as so:</li>\\n\"+\n",
       "       \"</ul>\\n\"+\n",
       "       \"<code>\\n\"+\n",
       "       \"from bokeh.resources import INLINE\\n\"+\n",
       "       \"output_notebook(resources=INLINE)\\n\"+\n",
       "       \"</code>\\n\"+\n",
       "       \"</div>\"}};\n",
       "  \n",
       "    function display_loaded() {\n",
       "      if (window.Bokeh !== undefined) {\n",
       "        Bokeh.$(\"#df6853ea-8d6e-47d1-b540-c1b76d0e50f1\").text(\"BokehJS successfully loaded.\");\n",
       "      } else if (Date.now() < window._bokeh_timeout) {\n",
       "        setTimeout(display_loaded, 100)\n",
       "      }\n",
       "    }\n",
       "  \n",
       "    function run_callbacks() {\n",
       "      window._bokeh_onload_callbacks.forEach(function(callback) { callback() });\n",
       "      delete window._bokeh_onload_callbacks\n",
       "      console.info(\"Bokeh: all callbacks have finished\");\n",
       "    }\n",
       "  \n",
       "    function load_libs(js_urls, callback) {\n",
       "      window._bokeh_onload_callbacks.push(callback);\n",
       "      if (window._bokeh_is_loading > 0) {\n",
       "        console.log(\"Bokeh: BokehJS is being loaded, scheduling callback at\", now());\n",
       "        return null;\n",
       "      }\n",
       "      if (js_urls == null || js_urls.length === 0) {\n",
       "        run_callbacks();\n",
       "        return null;\n",
       "      }\n",
       "      console.log(\"Bokeh: BokehJS not loaded, scheduling load and callback at\", now());\n",
       "      window._bokeh_is_loading = js_urls.length;\n",
       "      for (var i = 0; i < js_urls.length; i++) {\n",
       "        var url = js_urls[i];\n",
       "        var s = document.createElement('script');\n",
       "        s.src = url;\n",
       "        s.async = false;\n",
       "        s.onreadystatechange = s.onload = function() {\n",
       "          window._bokeh_is_loading--;\n",
       "          if (window._bokeh_is_loading === 0) {\n",
       "            console.log(\"Bokeh: all BokehJS libraries loaded\");\n",
       "            run_callbacks()\n",
       "          }\n",
       "        };\n",
       "        s.onerror = function() {\n",
       "          console.warn(\"failed to load library \" + url);\n",
       "        };\n",
       "        console.log(\"Bokeh: injecting script tag for BokehJS library: \", url);\n",
       "        document.getElementsByTagName(\"head\")[0].appendChild(s);\n",
       "      }\n",
       "    };var element = document.getElementById(\"df6853ea-8d6e-47d1-b540-c1b76d0e50f1\");\n",
       "    if (element == null) {\n",
       "      console.log(\"Bokeh: ERROR: autoload.js configured with elementid 'df6853ea-8d6e-47d1-b540-c1b76d0e50f1' but no matching script tag was found. \")\n",
       "      return false;\n",
       "    }\n",
       "  \n",
       "    var js_urls = [];\n",
       "  \n",
       "    var inline_js = [\n",
       "      function(Bokeh) {\n",
       "        Bokeh.$(function() {\n",
       "            var docs_json = {\"93461d45-2c59-4675-9a7c-20a0179f0fe2\":{\"roots\":{\"references\":[{\"attributes\":{\"fill_alpha\":{\"field\":\"fill_alpha\"},\"fill_color\":{\"field\":\"color\"},\"height\":{\"field\":\"height\",\"units\":\"data\"},\"line_color\":{\"field\":\"line_color\"},\"width\":{\"field\":\"width\",\"units\":\"data\"},\"x\":{\"field\":\"x\"},\"y\":{\"field\":\"y\"}},\"id\":\"850af2e5-c04f-4151-803d-357ed5daaac5\",\"type\":\"Rect\"},{\"attributes\":{\"axis_label\":\"Page\",\"formatter\":{\"id\":\"85e9ff7f-fde9-477d-99bb-663d875ba38c\",\"type\":\"CategoricalTickFormatter\"},\"major_label_orientation\":0.7853981633974483,\"plot\":{\"id\":\"c965b926-0b16-4fd3-ad4f-2091dcfab313\",\"subtype\":\"Chart\",\"type\":\"Plot\"},\"ticker\":{\"id\":\"7b0581c4-a6a3-43df-867a-05d5ad61ed0b\",\"type\":\"CategoricalTicker\"}},\"id\":\"3fcbd270-84b5-430d-8d6c-e30efb896c5c\",\"type\":\"CategoricalAxis\"},{\"attributes\":{\"label\":{\"value\":\"'/TMRW_FAQs.php\"},\"renderers\":[{\"id\":\"2fdeb288-aa17-4231-b6ef-7e9587e4eac1\",\"type\":\"GlyphRenderer\"}]},\"id\":\"b13d5d75-8be3-4530-a7f9-3d3cf831d05c\",\"type\":\"LegendItem\"},{\"attributes\":{\"below\":[{\"id\":\"3fcbd270-84b5-430d-8d6c-e30efb896c5c\",\"type\":\"CategoricalAxis\"}],\"left\":[{\"id\":\"73c68204-d353-45b9-91f3-20aebb377fcd\",\"type\":\"LinearAxis\"}],\"renderers\":[{\"id\":\"7bba4b66-0019-485a-86d3-9eb7a9573477\",\"type\":\"BoxAnnotation\"},{\"id\":\"147b67b5-25c1-4b62-b8d6-f0d0b8a4c98e\",\"type\":\"GlyphRenderer\"},{\"id\":\"2fdeb288-aa17-4231-b6ef-7e9587e4eac1\",\"type\":\"GlyphRenderer\"},{\"id\":\"d8b94c80-6e46-4712-b2a8-1a78a1e6a962\",\"type\":\"GlyphRenderer\"},{\"id\":\"534870e4-f5b1-4dee-971a-21840cc74e0e\",\"type\":\"GlyphRenderer\"},{\"id\":\"a473e29f-02f6-48a6-83ef-7c0ffa9e6dd9\",\"type\":\"Legend\"},{\"id\":\"3fcbd270-84b5-430d-8d6c-e30efb896c5c\",\"type\":\"CategoricalAxis\"},{\"id\":\"73c68204-d353-45b9-91f3-20aebb377fcd\",\"type\":\"LinearAxis\"},{\"id\":\"4be62a65-a992-4827-a2a2-fed1974c0107\",\"type\":\"Grid\"}],\"title\":{\"id\":\"037bb106-4624-42eb-ba43-b0308130c872\",\"type\":\"Title\"},\"tool_events\":{\"id\":\"4aa16cb4-e871-41d3-98d8-8186430ee797\",\"type\":\"ToolEvents\"},\"toolbar\":{\"id\":\"d62c6a07-17c9-4dd0-a77a-9909f3e45e88\",\"type\":\"Toolbar\"},\"x_mapper_type\":\"auto\",\"x_range\":{\"id\":\"108353db-9260-4f20-b0cf-5669dd14037c\",\"type\":\"FactorRange\"},\"y_mapper_type\":\"auto\",\"y_range\":{\"id\":\"6039a6aa-b33d-4fa4-86f5-387b8591477d\",\"type\":\"Range1d\"}},\"id\":\"c965b926-0b16-4fd3-ad4f-2091dcfab313\",\"subtype\":\"Chart\",\"type\":\"Plot\"},{\"attributes\":{\"fill_alpha\":{\"field\":\"fill_alpha\"},\"fill_color\":{\"field\":\"color\"},\"height\":{\"field\":\"height\",\"units\":\"data\"},\"line_color\":{\"field\":\"line_color\"},\"width\":{\"field\":\"width\",\"units\":\"data\"},\"x\":{\"field\":\"x\"},\"y\":{\"field\":\"y\"}},\"id\":\"a988e978-69fe-4b3e-a0ef-2d3d247c7ae7\",\"type\":\"Rect\"},{\"attributes\":{\"callback\":null,\"column_names\":[\"x\",\"y\",\"width\",\"height\",\"color\",\"fill_alpha\",\"line_color\",\"line_alpha\",\"label\"],\"data\":{\"Page\":[\"'/TMRW_the_team.php\"],\"chart_index\":[{\"Page\":\"'/TMRW_the_team.php\"}],\"color\":[\"#f22c40\"],\"fill_alpha\":[0.8],\"height\":[0.10101010099999999],\"label\":[{\"Page\":\"'/TMRW_the_team.php\"}],\"line_alpha\":[1.0],\"line_color\":[\"white\"],\"width\":[0.8],\"x\":[\"'/TMRW_the_team.php\"],\"y\":[0.050505050499999996]}},\"id\":\"79d034e8-9286-4a83-a968-5400e548b014\",\"type\":\"ColumnDataSource\"},{\"attributes\":{\"plot\":{\"id\":\"c965b926-0b16-4fd3-ad4f-2091dcfab313\",\"subtype\":\"Chart\",\"type\":\"Plot\"}},\"id\":\"2ef698e2-bc0d-4856-9795-285a72c3c31d\",\"type\":\"PanTool\"},{\"attributes\":{\"callback\":null,\"end\":0.273},\"id\":\"6039a6aa-b33d-4fa4-86f5-387b8591477d\",\"type\":\"Range1d\"},{\"attributes\":{\"callback\":null,\"column_names\":[\"x\",\"y\",\"width\",\"height\",\"color\",\"fill_alpha\",\"line_color\",\"line_alpha\",\"label\"],\"data\":{\"Page\":[\"'/TMRW_FAQs.php\"],\"chart_index\":[{\"Page\":\"'/TMRW_FAQs.php\"}],\"color\":[\"#f22c40\"],\"fill_alpha\":[0.8],\"height\":[0.26],\"label\":[{\"Page\":\"'/TMRW_FAQs.php\"}],\"line_alpha\":[1.0],\"line_color\":[\"white\"],\"width\":[0.8],\"x\":[\"'/TMRW_FAQs.php\"],\"y\":[0.13]}},\"id\":\"5b8597a2-294b-40ba-8e8f-12dd7e31a0bc\",\"type\":\"ColumnDataSource\"},{\"attributes\":{\"bottom_units\":\"screen\",\"fill_alpha\":{\"value\":0.5},\"fill_color\":{\"value\":\"lightgrey\"},\"left_units\":\"screen\",\"level\":\"overlay\",\"line_alpha\":{\"value\":1.0},\"line_color\":{\"value\":\"black\"},\"line_dash\":[4,4],\"line_width\":{\"value\":2},\"plot\":null,\"render_mode\":\"css\",\"right_units\":\"screen\",\"top_units\":\"screen\"},\"id\":\"7bba4b66-0019-485a-86d3-9eb7a9573477\",\"type\":\"BoxAnnotation\"},{\"attributes\":{\"plot\":null,\"text\":\"The best converting page on your site is '/TMRW_FAQs.php\"},\"id\":\"037bb106-4624-42eb-ba43-b0308130c872\",\"type\":\"Title\"},{\"attributes\":{},\"id\":\"4aa16cb4-e871-41d3-98d8-8186430ee797\",\"type\":\"ToolEvents\"},{\"attributes\":{\"active_drag\":\"auto\",\"active_scroll\":\"auto\",\"active_tap\":\"auto\",\"tools\":[{\"id\":\"2ef698e2-bc0d-4856-9795-285a72c3c31d\",\"type\":\"PanTool\"},{\"id\":\"f027aaeb-6ed5-4d7a-8b19-47304a9bf66c\",\"type\":\"WheelZoomTool\"},{\"id\":\"03f2a8fd-f83b-4457-872e-bf35fea04bce\",\"type\":\"BoxZoomTool\"},{\"id\":\"0b4ff2cd-2eaf-4087-90ff-1883487fee0b\",\"type\":\"SaveTool\"},{\"id\":\"065cd631-bf53-4a35-9c99-527b97b384ac\",\"type\":\"ResetTool\"},{\"id\":\"e449a86a-afbe-4a44-ba20-ce57ec2f4208\",\"type\":\"HelpTool\"}]},\"id\":\"d62c6a07-17c9-4dd0-a77a-9909f3e45e88\",\"type\":\"Toolbar\"},{\"attributes\":{\"plot\":{\"id\":\"c965b926-0b16-4fd3-ad4f-2091dcfab313\",\"subtype\":\"Chart\",\"type\":\"Plot\"}},\"id\":\"065cd631-bf53-4a35-9c99-527b97b384ac\",\"type\":\"ResetTool\"},{\"attributes\":{},\"id\":\"b8d4df34-e587-42d0-9220-dc5be0816c28\",\"type\":\"BasicTicker\"},{\"attributes\":{\"label\":{\"value\":\"'/\"},\"renderers\":[{\"id\":\"147b67b5-25c1-4b62-b8d6-f0d0b8a4c98e\",\"type\":\"GlyphRenderer\"}]},\"id\":\"130eced4-0f9c-4bb7-8a9d-ca66cf78576f\",\"type\":\"LegendItem\"},{\"attributes\":{\"dimension\":1,\"plot\":{\"id\":\"c965b926-0b16-4fd3-ad4f-2091dcfab313\",\"subtype\":\"Chart\",\"type\":\"Plot\"},\"ticker\":{\"id\":\"b8d4df34-e587-42d0-9220-dc5be0816c28\",\"type\":\"BasicTicker\"}},\"id\":\"4be62a65-a992-4827-a2a2-fed1974c0107\",\"type\":\"Grid\"},{\"attributes\":{\"axis_label\":\"Sum( Cr )\",\"formatter\":{\"id\":\"8147ecbb-4991-4241-9099-7855704b5122\",\"type\":\"BasicTickFormatter\"},\"plot\":{\"id\":\"c965b926-0b16-4fd3-ad4f-2091dcfab313\",\"subtype\":\"Chart\",\"type\":\"Plot\"},\"ticker\":{\"id\":\"b8d4df34-e587-42d0-9220-dc5be0816c28\",\"type\":\"BasicTicker\"}},\"id\":\"73c68204-d353-45b9-91f3-20aebb377fcd\",\"type\":\"LinearAxis\"},{\"attributes\":{\"callback\":null,\"column_names\":[\"x\",\"y\",\"width\",\"height\",\"color\",\"fill_alpha\",\"line_color\",\"line_alpha\",\"label\"],\"data\":{\"Page\":[\"'/\"],\"chart_index\":[{\"Page\":\"'/\"}],\"color\":[\"#f22c40\"],\"fill_alpha\":[0.8],\"height\":[0.018485122],\"label\":[{\"Page\":\"'/\"}],\"line_alpha\":[1.0],\"line_color\":[\"white\"],\"width\":[0.8],\"x\":[\"'/\"],\"y\":[0.009242561]}},\"id\":\"33b23df2-3bf9-4409-be7b-8e96e22d1415\",\"type\":\"ColumnDataSource\"},{\"attributes\":{\"plot\":{\"id\":\"c965b926-0b16-4fd3-ad4f-2091dcfab313\",\"subtype\":\"Chart\",\"type\":\"Plot\"}},\"id\":\"e449a86a-afbe-4a44-ba20-ce57ec2f4208\",\"type\":\"HelpTool\"},{\"attributes\":{\"callback\":null,\"factors\":[\"'/\",\"'/TMRW_Byte_Cafe.php\",\"'/TMRW_FAQs.php\",\"'/TMRW_the_team.php\"]},\"id\":\"108353db-9260-4f20-b0cf-5669dd14037c\",\"type\":\"FactorRange\"},{\"attributes\":{},\"id\":\"85e9ff7f-fde9-477d-99bb-663d875ba38c\",\"type\":\"CategoricalTickFormatter\"},{\"attributes\":{\"plot\":{\"id\":\"c965b926-0b16-4fd3-ad4f-2091dcfab313\",\"subtype\":\"Chart\",\"type\":\"Plot\"}},\"id\":\"0b4ff2cd-2eaf-4087-90ff-1883487fee0b\",\"type\":\"SaveTool\"},{\"attributes\":{\"overlay\":{\"id\":\"7bba4b66-0019-485a-86d3-9eb7a9573477\",\"type\":\"BoxAnnotation\"},\"plot\":{\"id\":\"c965b926-0b16-4fd3-ad4f-2091dcfab313\",\"subtype\":\"Chart\",\"type\":\"Plot\"}},\"id\":\"03f2a8fd-f83b-4457-872e-bf35fea04bce\",\"type\":\"BoxZoomTool\"},{\"attributes\":{\"label\":{\"value\":\"'/TMRW_the_team.php\"},\"renderers\":[{\"id\":\"534870e4-f5b1-4dee-971a-21840cc74e0e\",\"type\":\"GlyphRenderer\"}]},\"id\":\"01e9b167-1d38-4eb4-b5ef-4d5071c43308\",\"type\":\"LegendItem\"},{\"attributes\":{},\"id\":\"7b0581c4-a6a3-43df-867a-05d5ad61ed0b\",\"type\":\"CategoricalTicker\"},{\"attributes\":{\"items\":[{\"id\":\"130eced4-0f9c-4bb7-8a9d-ca66cf78576f\",\"type\":\"LegendItem\"},{\"id\":\"b13d5d75-8be3-4530-a7f9-3d3cf831d05c\",\"type\":\"LegendItem\"},{\"id\":\"3555920a-706e-43ae-9855-6fcba3b54517\",\"type\":\"LegendItem\"},{\"id\":\"01e9b167-1d38-4eb4-b5ef-4d5071c43308\",\"type\":\"LegendItem\"}],\"location\":\"top_left\",\"plot\":{\"id\":\"c965b926-0b16-4fd3-ad4f-2091dcfab313\",\"subtype\":\"Chart\",\"type\":\"Plot\"}},\"id\":\"a473e29f-02f6-48a6-83ef-7c0ffa9e6dd9\",\"type\":\"Legend\"},{\"attributes\":{\"fill_alpha\":{\"field\":\"fill_alpha\"},\"fill_color\":{\"field\":\"color\"},\"height\":{\"field\":\"height\",\"units\":\"data\"},\"line_color\":{\"field\":\"line_color\"},\"width\":{\"field\":\"width\",\"units\":\"data\"},\"x\":{\"field\":\"x\"},\"y\":{\"field\":\"y\"}},\"id\":\"a4e3917b-4dc8-4396-8a9f-30fedca39811\",\"type\":\"Rect\"},{\"attributes\":{\"fill_alpha\":{\"field\":\"fill_alpha\"},\"fill_color\":{\"field\":\"color\"},\"height\":{\"field\":\"height\",\"units\":\"data\"},\"line_color\":{\"field\":\"line_color\"},\"width\":{\"field\":\"width\",\"units\":\"data\"},\"x\":{\"field\":\"x\"},\"y\":{\"field\":\"y\"}},\"id\":\"ea5da6c2-fc70-4333-a702-14d7bd785cba\",\"type\":\"Rect\"},{\"attributes\":{\"plot\":{\"id\":\"c965b926-0b16-4fd3-ad4f-2091dcfab313\",\"subtype\":\"Chart\",\"type\":\"Plot\"}},\"id\":\"f027aaeb-6ed5-4d7a-8b19-47304a9bf66c\",\"type\":\"WheelZoomTool\"},{\"attributes\":{\"data_source\":{\"id\":\"5fc8ed24-caf1-45c9-bc2f-278f26283ec8\",\"type\":\"ColumnDataSource\"},\"glyph\":{\"id\":\"a988e978-69fe-4b3e-a0ef-2d3d247c7ae7\",\"type\":\"Rect\"},\"hover_glyph\":null,\"nonselection_glyph\":null,\"selection_glyph\":null},\"id\":\"d8b94c80-6e46-4712-b2a8-1a78a1e6a962\",\"type\":\"GlyphRenderer\"},{\"attributes\":{\"data_source\":{\"id\":\"5b8597a2-294b-40ba-8e8f-12dd7e31a0bc\",\"type\":\"ColumnDataSource\"},\"glyph\":{\"id\":\"ea5da6c2-fc70-4333-a702-14d7bd785cba\",\"type\":\"Rect\"},\"hover_glyph\":null,\"nonselection_glyph\":null,\"selection_glyph\":null},\"id\":\"2fdeb288-aa17-4231-b6ef-7e9587e4eac1\",\"type\":\"GlyphRenderer\"},{\"attributes\":{\"callback\":null,\"column_names\":[\"x\",\"y\",\"width\",\"height\",\"color\",\"fill_alpha\",\"line_color\",\"line_alpha\",\"label\"],\"data\":{\"Page\":[\"'/TMRW_Byte_Cafe.php\"],\"chart_index\":[{\"Page\":\"'/TMRW_Byte_Cafe.php\"}],\"color\":[\"#f22c40\"],\"fill_alpha\":[0.8],\"height\":[0.105504587],\"label\":[{\"Page\":\"'/TMRW_Byte_Cafe.php\"}],\"line_alpha\":[1.0],\"line_color\":[\"white\"],\"width\":[0.8],\"x\":[\"'/TMRW_Byte_Cafe.php\"],\"y\":[0.0527522935]}},\"id\":\"5fc8ed24-caf1-45c9-bc2f-278f26283ec8\",\"type\":\"ColumnDataSource\"},{\"attributes\":{\"label\":{\"value\":\"'/TMRW_Byte_Cafe.php\"},\"renderers\":[{\"id\":\"d8b94c80-6e46-4712-b2a8-1a78a1e6a962\",\"type\":\"GlyphRenderer\"}]},\"id\":\"3555920a-706e-43ae-9855-6fcba3b54517\",\"type\":\"LegendItem\"},{\"attributes\":{\"data_source\":{\"id\":\"33b23df2-3bf9-4409-be7b-8e96e22d1415\",\"type\":\"ColumnDataSource\"},\"glyph\":{\"id\":\"850af2e5-c04f-4151-803d-357ed5daaac5\",\"type\":\"Rect\"},\"hover_glyph\":null,\"nonselection_glyph\":null,\"selection_glyph\":null},\"id\":\"147b67b5-25c1-4b62-b8d6-f0d0b8a4c98e\",\"type\":\"GlyphRenderer\"},{\"attributes\":{\"data_source\":{\"id\":\"79d034e8-9286-4a83-a968-5400e548b014\",\"type\":\"ColumnDataSource\"},\"glyph\":{\"id\":\"a4e3917b-4dc8-4396-8a9f-30fedca39811\",\"type\":\"Rect\"},\"hover_glyph\":null,\"nonselection_glyph\":null,\"selection_glyph\":null},\"id\":\"534870e4-f5b1-4dee-971a-21840cc74e0e\",\"type\":\"GlyphRenderer\"},{\"attributes\":{},\"id\":\"8147ecbb-4991-4241-9099-7855704b5122\",\"type\":\"BasicTickFormatter\"}],\"root_ids\":[\"c965b926-0b16-4fd3-ad4f-2091dcfab313\"]},\"title\":\"Bokeh Application\",\"version\":\"0.12.3\"}};\n",
       "            var render_items = [{\"docid\":\"93461d45-2c59-4675-9a7c-20a0179f0fe2\",\"elementid\":\"df6853ea-8d6e-47d1-b540-c1b76d0e50f1\",\"modelid\":\"c965b926-0b16-4fd3-ad4f-2091dcfab313\"}];\n",
       "            \n",
       "            Bokeh.embed.embed_items(docs_json, render_items);\n",
       "        });\n",
       "      },\n",
       "      function(Bokeh) {\n",
       "      }\n",
       "    ];\n",
       "  \n",
       "    function run_inline_js() {\n",
       "      \n",
       "      if ((window.Bokeh !== undefined) || (force === \"1\")) {\n",
       "        for (var i = 0; i < inline_js.length; i++) {\n",
       "          inline_js[i](window.Bokeh);\n",
       "        }if (force === \"1\") {\n",
       "          display_loaded();\n",
       "        }} else if (Date.now() < window._bokeh_timeout) {\n",
       "        setTimeout(run_inline_js, 100);\n",
       "      } else if (!window._bokeh_failed_load) {\n",
       "        console.log(\"Bokeh: BokehJS failed to load within specified timeout.\");\n",
       "        window._bokeh_failed_load = true;\n",
       "      } else if (!force) {\n",
       "        var cell = $(\"#df6853ea-8d6e-47d1-b540-c1b76d0e50f1\").parents('.cell').data().cell;\n",
       "        cell.output_area.append_execute_result(NB_LOAD_WARNING)\n",
       "      }\n",
       "  \n",
       "    }\n",
       "  \n",
       "    if (window._bokeh_is_loading === 0) {\n",
       "      console.log(\"Bokeh: BokehJS loaded, going straight to plotting\");\n",
       "      run_inline_js();\n",
       "    } else {\n",
       "      load_libs(js_urls, function() {\n",
       "        console.log(\"Bokeh: BokehJS plotting callback run at\", now());\n",
       "        run_inline_js();\n",
       "      });\n",
       "    }\n",
       "  }(this));\n",
       "</script>"
      ]
     },
     "metadata": {},
     "output_type": "display_data"
    },
    {
     "ename": "FileNotFoundError",
     "evalue": "[Errno 2] No such file or directory: ''",
     "output_type": "error",
     "traceback": [
      "\u001b[0;31m---------------------------------------------------------------------------\u001b[0m",
      "\u001b[0;31mFileNotFoundError\u001b[0m                         Traceback (most recent call last)",
      "\u001b[0;32m<ipython-input-282-ea5908247b12>\u001b[0m in \u001b[0;36m<module>\u001b[0;34m()\u001b[0m\n\u001b[1;32m      4\u001b[0m \u001b[1;31m#p.legend.location = \"top_right\"\u001b[0m\u001b[1;33m\u001b[0m\u001b[1;33m\u001b[0m\u001b[0m\n\u001b[1;32m      5\u001b[0m \u001b[1;33m\u001b[0m\u001b[0m\n\u001b[0;32m----> 6\u001b[0;31m \u001b[0mshow\u001b[0m\u001b[1;33m(\u001b[0m\u001b[0mp\u001b[0m\u001b[1;33m)\u001b[0m\u001b[1;33m\u001b[0m\u001b[0m\n\u001b[0m\u001b[1;32m      7\u001b[0m \u001b[0mprint\u001b[0m\u001b[1;33m(\u001b[0m\u001b[1;34m\"Conversion rate for homepage is %s\"\u001b[0m \u001b[1;33m%\u001b[0m \u001b[0mhomepage_CR\u001b[0m \u001b[1;33m+\u001b[0m \u001b[1;34m\"%\"\u001b[0m\u001b[1;33m)\u001b[0m\u001b[1;33m\u001b[0m\u001b[0m\n\u001b[1;32m      8\u001b[0m \u001b[0mprint\u001b[0m\u001b[1;33m(\u001b[0m\u001b[1;34m\"Put an additional button \\\"Contact Us\\\" on the main page. (or adding the contact form link to the menu bar at the top of the homepage\"\u001b[0m\u001b[1;33m)\u001b[0m\u001b[1;33m\u001b[0m\u001b[0m\n",
      "\u001b[0;32mC:\\Users\\Analytics\\Anaconda3\\lib\\site-packages\\bokeh\\io.py\u001b[0m in \u001b[0;36mshow\u001b[0;34m(obj, browser, new, notebook_handle)\u001b[0m\n\u001b[1;32m    312\u001b[0m     \u001b[1;32mif\u001b[0m \u001b[0mobj\u001b[0m \u001b[1;32mnot\u001b[0m \u001b[1;32min\u001b[0m \u001b[0m_state\u001b[0m\u001b[1;33m.\u001b[0m\u001b[0mdocument\u001b[0m\u001b[1;33m.\u001b[0m\u001b[0mroots\u001b[0m\u001b[1;33m:\u001b[0m\u001b[1;33m\u001b[0m\u001b[0m\n\u001b[1;32m    313\u001b[0m         \u001b[0m_state\u001b[0m\u001b[1;33m.\u001b[0m\u001b[0mdocument\u001b[0m\u001b[1;33m.\u001b[0m\u001b[0madd_root\u001b[0m\u001b[1;33m(\u001b[0m\u001b[0mobj\u001b[0m\u001b[1;33m)\u001b[0m\u001b[1;33m\u001b[0m\u001b[0m\n\u001b[0;32m--> 314\u001b[0;31m     \u001b[1;32mreturn\u001b[0m \u001b[0m_show_with_state\u001b[0m\u001b[1;33m(\u001b[0m\u001b[0mobj\u001b[0m\u001b[1;33m,\u001b[0m \u001b[0m_state\u001b[0m\u001b[1;33m,\u001b[0m \u001b[0mbrowser\u001b[0m\u001b[1;33m,\u001b[0m \u001b[0mnew\u001b[0m\u001b[1;33m,\u001b[0m \u001b[0mnotebook_handle\u001b[0m\u001b[1;33m=\u001b[0m\u001b[0mnotebook_handle\u001b[0m\u001b[1;33m)\u001b[0m\u001b[1;33m\u001b[0m\u001b[0m\n\u001b[0m\u001b[1;32m    315\u001b[0m \u001b[1;33m\u001b[0m\u001b[0m\n\u001b[1;32m    316\u001b[0m \u001b[1;33m\u001b[0m\u001b[0m\n",
      "\u001b[0;32mC:\\Users\\Analytics\\Anaconda3\\lib\\site-packages\\bokeh\\io.py\u001b[0m in \u001b[0;36m_show_with_state\u001b[0;34m(obj, state, browser, new, notebook_handle)\u001b[0m\n\u001b[1;32m    330\u001b[0m \u001b[1;33m\u001b[0m\u001b[0m\n\u001b[1;32m    331\u001b[0m     \u001b[1;32mif\u001b[0m \u001b[0mstate\u001b[0m\u001b[1;33m.\u001b[0m\u001b[0mfile\u001b[0m \u001b[1;32mor\u001b[0m \u001b[1;32mnot\u001b[0m \u001b[0mshown\u001b[0m\u001b[1;33m:\u001b[0m\u001b[1;33m\u001b[0m\u001b[0m\n\u001b[0;32m--> 332\u001b[0;31m         \u001b[0m_show_file_with_state\u001b[0m\u001b[1;33m(\u001b[0m\u001b[0mobj\u001b[0m\u001b[1;33m,\u001b[0m \u001b[0mstate\u001b[0m\u001b[1;33m,\u001b[0m \u001b[0mnew\u001b[0m\u001b[1;33m,\u001b[0m \u001b[0mcontroller\u001b[0m\u001b[1;33m)\u001b[0m\u001b[1;33m\u001b[0m\u001b[0m\n\u001b[0m\u001b[1;32m    333\u001b[0m \u001b[1;33m\u001b[0m\u001b[0m\n\u001b[1;32m    334\u001b[0m     \u001b[1;32mreturn\u001b[0m \u001b[0mcomms_handle\u001b[0m\u001b[1;33m\u001b[0m\u001b[0m\n",
      "\u001b[0;32mC:\\Users\\Analytics\\Anaconda3\\lib\\site-packages\\bokeh\\io.py\u001b[0m in \u001b[0;36m_show_file_with_state\u001b[0;34m(obj, state, new, controller)\u001b[0m\n\u001b[1;32m    335\u001b[0m \u001b[1;33m\u001b[0m\u001b[0m\n\u001b[1;32m    336\u001b[0m \u001b[1;32mdef\u001b[0m \u001b[0m_show_file_with_state\u001b[0m\u001b[1;33m(\u001b[0m\u001b[0mobj\u001b[0m\u001b[1;33m,\u001b[0m \u001b[0mstate\u001b[0m\u001b[1;33m,\u001b[0m \u001b[0mnew\u001b[0m\u001b[1;33m,\u001b[0m \u001b[0mcontroller\u001b[0m\u001b[1;33m)\u001b[0m\u001b[1;33m:\u001b[0m\u001b[1;33m\u001b[0m\u001b[0m\n\u001b[0;32m--> 337\u001b[0;31m     \u001b[0mfilename\u001b[0m \u001b[1;33m=\u001b[0m \u001b[0msave\u001b[0m\u001b[1;33m(\u001b[0m\u001b[0mobj\u001b[0m\u001b[1;33m,\u001b[0m \u001b[0mstate\u001b[0m\u001b[1;33m=\u001b[0m\u001b[0mstate\u001b[0m\u001b[1;33m)\u001b[0m\u001b[1;33m\u001b[0m\u001b[0m\n\u001b[0m\u001b[1;32m    338\u001b[0m     \u001b[0mcontroller\u001b[0m\u001b[1;33m.\u001b[0m\u001b[0mopen\u001b[0m\u001b[1;33m(\u001b[0m\u001b[1;34m\"file://\"\u001b[0m \u001b[1;33m+\u001b[0m \u001b[0mfilename\u001b[0m\u001b[1;33m,\u001b[0m \u001b[0mnew\u001b[0m\u001b[1;33m=\u001b[0m\u001b[0m_new_param\u001b[0m\u001b[1;33m[\u001b[0m\u001b[0mnew\u001b[0m\u001b[1;33m]\u001b[0m\u001b[1;33m)\u001b[0m\u001b[1;33m\u001b[0m\u001b[0m\n\u001b[1;32m    339\u001b[0m \u001b[1;33m\u001b[0m\u001b[0m\n",
      "\u001b[0;32mC:\\Users\\Analytics\\Anaconda3\\lib\\site-packages\\bokeh\\io.py\u001b[0m in \u001b[0;36msave\u001b[0;34m(obj, filename, resources, title, state, validate)\u001b[0m\n\u001b[1;32m    394\u001b[0m \u001b[1;33m\u001b[0m\u001b[0m\n\u001b[1;32m    395\u001b[0m     \u001b[0mfilename\u001b[0m\u001b[1;33m,\u001b[0m \u001b[0mresources\u001b[0m\u001b[1;33m,\u001b[0m \u001b[0mtitle\u001b[0m \u001b[1;33m=\u001b[0m \u001b[0m_get_save_args\u001b[0m\u001b[1;33m(\u001b[0m\u001b[0mstate\u001b[0m\u001b[1;33m,\u001b[0m \u001b[0mfilename\u001b[0m\u001b[1;33m,\u001b[0m \u001b[0mresources\u001b[0m\u001b[1;33m,\u001b[0m \u001b[0mtitle\u001b[0m\u001b[1;33m)\u001b[0m\u001b[1;33m\u001b[0m\u001b[0m\n\u001b[0;32m--> 396\u001b[0;31m     \u001b[0m_save_helper\u001b[0m\u001b[1;33m(\u001b[0m\u001b[0mobj\u001b[0m\u001b[1;33m,\u001b[0m \u001b[0mfilename\u001b[0m\u001b[1;33m,\u001b[0m \u001b[0mresources\u001b[0m\u001b[1;33m,\u001b[0m \u001b[0mtitle\u001b[0m\u001b[1;33m,\u001b[0m \u001b[0mvalidate\u001b[0m\u001b[1;33m)\u001b[0m\u001b[1;33m\u001b[0m\u001b[0m\n\u001b[0m\u001b[1;32m    397\u001b[0m     \u001b[1;32mreturn\u001b[0m \u001b[0mos\u001b[0m\u001b[1;33m.\u001b[0m\u001b[0mpath\u001b[0m\u001b[1;33m.\u001b[0m\u001b[0mabspath\u001b[0m\u001b[1;33m(\u001b[0m\u001b[0mfilename\u001b[0m\u001b[1;33m)\u001b[0m\u001b[1;33m\u001b[0m\u001b[0m\n\u001b[1;32m    398\u001b[0m \u001b[1;33m\u001b[0m\u001b[0m\n",
      "\u001b[0;32mC:\\Users\\Analytics\\Anaconda3\\lib\\site-packages\\bokeh\\io.py\u001b[0m in \u001b[0;36m_save_helper\u001b[0;34m(obj, filename, resources, title, validate)\u001b[0m\n\u001b[1;32m    461\u001b[0m         \u001b[0mhtml\u001b[0m \u001b[1;33m=\u001b[0m \u001b[0mstandalone_html_page_for_models\u001b[0m\u001b[1;33m(\u001b[0m\u001b[0mobj\u001b[0m\u001b[1;33m,\u001b[0m \u001b[0mresources\u001b[0m\u001b[1;33m,\u001b[0m \u001b[0mtitle\u001b[0m\u001b[1;33m)\u001b[0m\u001b[1;33m\u001b[0m\u001b[0m\n\u001b[1;32m    462\u001b[0m \u001b[1;33m\u001b[0m\u001b[0m\n\u001b[0;32m--> 463\u001b[0;31m         \u001b[1;32mwith\u001b[0m \u001b[0mio\u001b[0m\u001b[1;33m.\u001b[0m\u001b[0mopen\u001b[0m\u001b[1;33m(\u001b[0m\u001b[0mfilename\u001b[0m\u001b[1;33m,\u001b[0m \u001b[1;34m\"w\"\u001b[0m\u001b[1;33m,\u001b[0m \u001b[0mencoding\u001b[0m\u001b[1;33m=\u001b[0m\u001b[1;34m\"utf-8\"\u001b[0m\u001b[1;33m)\u001b[0m \u001b[1;32mas\u001b[0m \u001b[0mf\u001b[0m\u001b[1;33m:\u001b[0m\u001b[1;33m\u001b[0m\u001b[0m\n\u001b[0m\u001b[1;32m    464\u001b[0m             \u001b[0mf\u001b[0m\u001b[1;33m.\u001b[0m\u001b[0mwrite\u001b[0m\u001b[1;33m(\u001b[0m\u001b[0mdecode_utf8\u001b[0m\u001b[1;33m(\u001b[0m\u001b[0mhtml\u001b[0m\u001b[1;33m)\u001b[0m\u001b[1;33m)\u001b[0m\u001b[1;33m\u001b[0m\u001b[0m\n\u001b[1;32m    465\u001b[0m \u001b[1;33m\u001b[0m\u001b[0m\n",
      "\u001b[0;31mFileNotFoundError\u001b[0m: [Errno 2] No such file or directory: ''"
     ]
    }
   ],
   "source": [
    "from bokeh.charts import Bar, show\n",
    "\n",
    "p = Bar(input_flow, 'Page', values='CR', title=\"The best converting page on your site is %s\" % best_page)\n",
    "#p.legend.location = \"top_right\"\n",
    "\n",
    "show(p)\n",
    "print(\"Conversion rate for homepage is %s\" % homepage_CR + \"%\")\n",
    "print(\"Put an additional button \\\"Contact Us\\\" on the main page. (or adding the contact form link to the menu bar at the top of the homepage\")"
   ]
  },
  {
   "cell_type": "code",
   "execution_count": 269,
   "metadata": {
    "collapsed": false
   },
   "outputs": [
    {
     "data": {
      "image/png": "[encoded data removed]",
      "text/plain": [
       "<matplotlib.figure.Figure at 0x1ad1e975630>"
      ]
     },
     "metadata": {},
     "output_type": "display_data"
    }
   ],
   "source": [
    "output_chart_flow = input_flow_index.loc[:,\"Conversions\"]\n",
    "\n",
    "labels = output_chart_flow.index\n",
    "sizes = input_flow['Conversions']\n",
    "colors = ['green','yellow', 'red', 'lightskyblue']\n",
    "explode = (0, 0, 0,0)\n",
    "plt.pie(sizes, explode=explode, labels=labels, colors=colors,\n",
    "        autopct='%1.1f%%', shadow=False, startangle=90)\n",
    "#plt.legend(patches, labels, loc=\"best\")\n",
    "plt.axis('equal')\n",
    "plt.title('Conversions by pages')\n",
    "plt.tight_layout()\n",
    "plt.show()\n"
   ]
  },
  {
   "cell_type": "code",
   "execution_count": null,
   "metadata": {
    "collapsed": true
   },
   "outputs": [],
   "source": []
  },
  {
   "cell_type": "code",
   "execution_count": null,
   "metadata": {
    "collapsed": true
   },
   "outputs": [],
   "source": []
  },
  {
   "cell_type": "code",
   "execution_count": null,
   "metadata": {
    "collapsed": true
   },
   "outputs": [],
   "source": []
  },
  {
   "cell_type": "code",
   "execution_count": null,
   "metadata": {
    "collapsed": true
   },
   "outputs": [],
   "source": []
  }
 ],
 "metadata": {
  "anaconda-cloud": {},
  "kernelspec": {
   "display_name": "Python 3",
   "language": "python",
   "name": "python3"
  },
  "language_info": {
   "codemirror_mode": {
    "name": "ipython",
    "version": 3
   },
   "file_extension": ".py",
   "mimetype": "text/x-python",
   "name": "python",
   "nbconvert_exporter": "python",
   "pygments_lexer": "ipython3",
   "version": "3.6.0"
  }
 },
 "nbformat": 4,
 "nbformat_minor": 1
}
