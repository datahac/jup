{
 "cells": [
  {
   "cell_type": "markdown",
   "metadata": {},
   "source": [
    "## Choose a goal"
   ]
  },
  {
   "cell_type": "code",
   "execution_count": 171,
   "metadata": {
    "collapsed": false
   },
   "outputs": [],
   "source": [
    "import json\n",
    "\n",
    "with open('files/TMRW_goals_checking.json') as file: \n",
    "    input_goals = json.load(file)\n",
    "\n",
    "input_goals = input_goals[\"items\"]\n",
    "\n",
    "#input_goals"
   ]
  },
  {
   "cell_type": "code",
   "execution_count": 172,
   "metadata": {
    "collapsed": false
   },
   "outputs": [
    {
     "data": {
      "text/plain": [
       "3"
      ]
     },
     "execution_count": 172,
     "metadata": {},
     "output_type": "execute_result"
    }
   ],
   "source": [
    "#check how many goals we have loaded\n",
    "\n",
    "goals_count = len(input_goals)\n",
    "max_goal_count = 20\n",
    "\n",
    "goals_count"
   ]
  },
  {
   "cell_type": "code",
   "execution_count": 173,
   "metadata": {
    "collapsed": false
   },
   "outputs": [],
   "source": [
    "#there are 3 goals loaded\n",
    "\n",
    "goal1 = input_goals[0]\n",
    "goal2 = input_goals[1]\n",
    "goal3 = input_goals[2]"
   ]
  },
  {
   "cell_type": "code",
   "execution_count": 174,
   "metadata": {
    "collapsed": false
   },
   "outputs": [
    {
     "data": {
      "text/plain": [
       "[{'active': True,\n",
       "  'id': 'goal1',\n",
       "  'name': 'Contact form submission',\n",
       "  'type': 'EVENT'},\n",
       " {'active': True,\n",
       "  'id': 'goal2',\n",
       "  'name': 'Stay informed submission',\n",
       "  'type': 'EVENT'},\n",
       " {'active': True, 'id': 'goal3', 'name': 'Telephone click', 'type': 'EVENT'}]"
      ]
     },
     "execution_count": 174,
     "metadata": {},
     "output_type": "execute_result"
    }
   ],
   "source": [
    "goal1 = {\n",
    "    \"id\" : \"goal%s\" % goal1['id'],\n",
    "    \"type\": goal1[\"type\"], \n",
    "    \"name\": goal1[\"name\"],\n",
    "    \"active\": goal1[\"active\"]\n",
    "    }\n",
    "\n",
    "goal2 = {\n",
    "    \"id\" : \"goal%s\" % goal2['id'],\n",
    "    \"type\": goal2[\"type\"], \n",
    "    \"name\": goal2[\"name\"],\n",
    "    \"active\": goal2[\"active\"]\n",
    "    }\n",
    "\n",
    "goal3 = {\n",
    "    \"id\" : \"goal%s\" % goal3['id'],\n",
    "    \"type\": goal3[\"type\"], \n",
    "    \"name\": goal3[\"name\"],\n",
    "    \"active\": goal3[\"active\"]\n",
    "    }\n",
    "\n",
    "goals = [goal1, goal2, goal3]\n",
    "goals"
   ]
  },
  {
   "cell_type": "code",
   "execution_count": 177,
   "metadata": {
    "collapsed": false
   },
   "outputs": [
    {
     "data": {
      "text/plain": [
       "['goal1', 'goal2', 'goal3']"
      ]
     },
     "execution_count": 177,
     "metadata": {},
     "output_type": "execute_result"
    }
   ],
   "source": [
    "#define goals that are EVENTS and ACTIVE\n",
    "\n",
    "correct_goals_list = []\n",
    "for goal in goals:\n",
    "    if goal['active'] == True and goal['type'] == \"EVENT\":\n",
    "        correct_goals_list.append(goal['id'])\n",
    "\n",
    "correct_goals_list"
   ]
  },
  {
   "cell_type": "code",
   "execution_count": null,
   "metadata": {
    "collapsed": true
   },
   "outputs": [],
   "source": []
  },
  {
   "cell_type": "code",
   "execution_count": null,
   "metadata": {
    "collapsed": false
   },
   "outputs": [],
   "source": []
  },
  {
   "cell_type": "code",
   "execution_count": null,
   "metadata": {
    "collapsed": false
   },
   "outputs": [],
   "source": []
  },
  {
   "cell_type": "code",
   "execution_count": null,
   "metadata": {
    "collapsed": false
   },
   "outputs": [],
   "source": []
  },
  {
   "cell_type": "code",
   "execution_count": null,
   "metadata": {
    "collapsed": false
   },
   "outputs": [],
   "source": []
  },
  {
   "cell_type": "code",
   "execution_count": 98,
   "metadata": {
    "collapsed": false
   },
   "outputs": [
    {
     "name": "stdout",
     "output_type": "stream",
     "text": [
      "Detected 3 goals\n"
     ]
    }
   ],
   "source": [
    "print(\"Detected %s goals\" % goals_count)"
   ]
  },
  {
   "cell_type": "code",
   "execution_count": null,
   "metadata": {
    "collapsed": true
   },
   "outputs": [],
   "source": []
  }
 ],
 "metadata": {
  "kernelspec": {
   "display_name": "Python 3",
   "language": "python",
   "name": "python3"
  },
  "language_info": {
   "codemirror_mode": {
    "name": "ipython",
    "version": 3
   },
   "file_extension": ".py",
   "mimetype": "text/x-python",
   "name": "python",
   "nbconvert_exporter": "python",
   "pygments_lexer": "ipython3",
   "version": "3.6.0"
  }
 },
 "nbformat": 4,
 "nbformat_minor": 2
}
