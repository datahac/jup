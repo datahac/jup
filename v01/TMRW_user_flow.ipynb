{
 "cells": [
  {
   "cell_type": "code",
   "execution_count": 41,
   "metadata": {
    "collapsed": true
   },
   "outputs": [],
   "source": [
    "# Time period 1st Jan - 30th April (arbitrary )\n",
    "\n",
    "# API credentials\n",
    "# Email address 705762800217-compute@developer.gserviceaccount.com\n",
    "# Key IDs 948ee8e2a420ef14a5d5a29bd35104fe2f1e6ed4\n",
    " "
   ]
  },
  {
   "cell_type": "code",
   "execution_count": 42,
   "metadata": {
    "collapsed": true
   },
   "outputs": [],
   "source": [
    "#File for goals (goals_dict)\n",
    "\n",
    "#Account: TMRW Tech Hub\n",
    "#Property: TMRW\n",
    "#View: All Web Site Data\n",
    "#ids: ga:123303369\n",
    "#start-date: 2017-02-01\n",
    "#end-date: 2017-04-30\n",
    "\n",
    "#metrics\n",
    "#ga:sessions\n",
    "\n",
    "#dimensions\n",
    "#ga:pagePath\n",
    "\n",
    "#filter\n",
    "#ga:sessions>30"
   ]
  },
  {
   "cell_type": "code",
   "execution_count": 43,
   "metadata": {
    "collapsed": true
   },
   "outputs": [],
   "source": [
    "#File for sessions (sessions_dict)\n",
    "\n",
    "#Account: TMRW Tech Hub\n",
    "#Property: TMRW\n",
    "#View: All Web Site Data\n",
    "#ids: ga:123303369\n",
    "#start-date: 2017-02-01\n",
    "#end-date: 2017-04-30\n",
    "\n",
    "#metrics\n",
    "#ga:goal1Completions\n",
    "\n",
    "#dimensions\n",
    "#ga:goalCompletionLocation\n",
    "\n",
    "#filter\n",
    "#ga:goal1Completions>5"
   ]
  },
  {
   "cell_type": "code",
   "execution_count": 1,
   "metadata": {
    "collapsed": false
   },
   "outputs": [
    {
     "name": "stdout",
     "output_type": "stream",
     "text": [
      "[{'dimensions': ['(entrance)'], 'metrics': [{'values': ['6']}]},\n",
      " {'dimensions': ['/'], 'metrics': [{'values': ['85']}]},\n",
      " {'dimensions': ['/TMRW_Byte_Cafe.php'], 'metrics': [{'values': ['22']}]},\n",
      " {'dimensions': ['/TMRW_FAQs.php'], 'metrics': [{'values': ['24']}]}]\n"
     ]
    }
   ],
   "source": [
    "import json\n",
    "from pprint import pprint\n",
    "\n",
    "with open('files/TMRW_goal1_goalloc.json') as file: \n",
    "    goals = json.load(file)\n",
    "\n",
    "goals = goals[\"reports\"][0]['data']['rows']\n",
    "pprint(goals)"
   ]
  },
  {
   "cell_type": "code",
   "execution_count": 3,
   "metadata": {
    "collapsed": false
   },
   "outputs": [
    {
     "data": {
      "text/plain": [
       "{'(entrance)': 6, '/': 85, '/TMRW_Byte_Cafe.php': 22, '/TMRW_FAQs.php': 24}"
      ]
     },
     "execution_count": 3,
     "metadata": {},
     "output_type": "execute_result"
    }
   ],
   "source": [
    "def create_dict(x):\n",
    "    goals_dict = {}\n",
    "\n",
    "    for s in x:\n",
    "        \n",
    "        #print (str((s['dimensions'])))\n",
    "        #print (s['metrics'][0]['values'])\n",
    "        #session_dict[] = 0\n",
    "        goals_dict[s['dimensions'][0]] = int(s['metrics'][0]['values'][0])\n",
    "        #session_dict[s['dimensions']] = s['metrics'][0]['values']\n",
    "    \n",
    "    return goals_dict\n",
    "        \n",
    "\n",
    "goals_dict = (create_dict(goals))\n",
    "\n",
    "goals_dict"
   ]
  },
  {
   "cell_type": "code",
   "execution_count": 4,
   "metadata": {
    "collapsed": false,
    "scrolled": false
   },
   "outputs": [
    {
     "name": "stdout",
     "output_type": "stream",
     "text": [
      "[{'dimensions': ['/'], 'metrics': [{'values': ['5925']}]},\n",
      " {'dimensions': ['/TMRW_Byte_Cafe.php'], 'metrics': [{'values': ['270']}]},\n",
      " {'dimensions': ['/TMRW_FAQs.php'], 'metrics': [{'values': ['129']}]},\n",
      " {'dimensions': ['/TMRW_the_team.php'], 'metrics': [{'values': ['140']}]},\n",
      " {'dimensions': ['/trainstrikes.php'], 'metrics': [{'values': ['231']}]},\n",
      " {'dimensions': ['/voteforbyte.php'], 'metrics': [{'values': ['79']}]}]\n"
     ]
    }
   ],
   "source": [
    "with open('files/TMRW_sess_page.json') as file: \n",
    "    sessions = json.load(file)\n",
    "\n",
    "sessions = sessions[\"reports\"][0]['data']['rows']\n",
    "pprint(sessions)"
   ]
  },
  {
   "cell_type": "code",
   "execution_count": 5,
   "metadata": {
    "collapsed": false,
    "scrolled": true
   },
   "outputs": [
    {
     "data": {
      "text/plain": [
       "{'/': 5925,\n",
       " '/TMRW_Byte_Cafe.php': 270,\n",
       " '/TMRW_FAQs.php': 129,\n",
       " '/TMRW_the_team.php': 140,\n",
       " '/trainstrikes.php': 231,\n",
       " '/voteforbyte.php': 79}"
      ]
     },
     "execution_count": 5,
     "metadata": {},
     "output_type": "execute_result"
    }
   ],
   "source": [
    "def create_dict(x):\n",
    "    sessions_dict = {}\n",
    "\n",
    "    for s in x:\n",
    "        \n",
    "        #print (str((s['dimensions'])))\n",
    "        #print (s['metrics'][0]['values'])\n",
    "        #session_dict[] = 0\n",
    "        sessions_dict[s['dimensions'][0]] = int(s['metrics'][0]['values'][0])\n",
    "        #session_dict[s['dimensions']] = s['metrics'][0]['values']\n",
    "    \n",
    "    return sessions_dict\n",
    "        \n",
    "\n",
    "sessions_dict = (create_dict(sessions))\n",
    "\n",
    "sessions_dict"
   ]
  },
  {
   "cell_type": "code",
   "execution_count": 6,
   "metadata": {
    "collapsed": false
   },
   "outputs": [
    {
     "data": {
      "text/plain": [
       "{'/', '/TMRW_Byte_Cafe.php', '/TMRW_FAQs.php'}"
      ]
     },
     "execution_count": 6,
     "metadata": {},
     "output_type": "execute_result"
    }
   ],
   "source": [
    "def dict_compare(goals_dict, sessions_dict):\n",
    "    \n",
    "    goals_dict_keys = set(goals_dict.keys())\n",
    "    \n",
    "    sessions_dict_keys = set(sessions_dict.keys())\n",
    "    \n",
    "    intersect_keys = goals_dict_keys.intersection(sessions_dict_keys)\n",
    "    \n",
    "    return intersect_keys\n",
    "\n",
    "\n",
    "correct_pages = dict_compare(goals_dict, sessions_dict)\n",
    "correct_pages"
   ]
  },
  {
   "cell_type": "code",
   "execution_count": 7,
   "metadata": {
    "collapsed": false
   },
   "outputs": [
    {
     "data": {
      "text/plain": [
       "{'(entrance)', '/', '/TMRW_Byte_Cafe.php', '/TMRW_FAQs.php'}"
      ]
     },
     "execution_count": 7,
     "metadata": {},
     "output_type": "execute_result"
    }
   ],
   "source": [
    "goals_dict_keys = set(goals_dict.keys())\n",
    "goals_dict_keys"
   ]
  },
  {
   "cell_type": "code",
   "execution_count": 8,
   "metadata": {
    "collapsed": false
   },
   "outputs": [
    {
     "name": "stdout",
     "output_type": "stream",
     "text": [
      "{'/TMRW_FAQs.php': 18.6046511627907, '/TMRW_Byte_Cafe.php': 8.148148148148149, '/': 1.4345991561181435}\n"
     ]
    }
   ],
   "source": [
    "conv_rate_dict= {}\n",
    "\n",
    "for page in correct_pages:\n",
    "    for page2 in goals_dict:\n",
    "        if page == page2:\n",
    "            #print(page2)\n",
    "        \n",
    "        \n",
    "            conv_rate = (goals_dict[page]/(sessions_dict[page])*100)\n",
    "            conv_rate_dict[page] = conv_rate \n",
    "        \n",
    "print(conv_rate_dict)"
   ]
  },
  {
   "cell_type": "code",
   "execution_count": 9,
   "metadata": {
    "collapsed": false
   },
   "outputs": [
    {
     "data": {
      "text/plain": [
       "[18.6046511627907, 8.148148148148149, 1.4345991561181435]"
      ]
     },
     "execution_count": 9,
     "metadata": {},
     "output_type": "execute_result"
    }
   ],
   "source": [
    "dictValues = []\n",
    "\n",
    "# For each key in the dict's Values,\n",
    "for x in conv_rate_dict.values():\n",
    "    # add the key to dictValues\n",
    "    dictValues.append(x)\n",
    "\n",
    "# View the dictionaryValues list\n",
    "dictValues"
   ]
  },
  {
   "cell_type": "code",
   "execution_count": 10,
   "metadata": {
    "collapsed": false
   },
   "outputs": [
    {
     "data": {
      "text/plain": [
       "18.6"
      ]
     },
     "execution_count": 10,
     "metadata": {},
     "output_type": "execute_result"
    }
   ],
   "source": [
    "max_value = max(dictValues)\n",
    "max_value = round(max_value,2)\n",
    "max_value"
   ]
  },
  {
   "cell_type": "code",
   "execution_count": 11,
   "metadata": {
    "collapsed": false,
    "scrolled": true
   },
   "outputs": [
    {
     "data": {
      "text/plain": [
       "1.43"
      ]
     },
     "execution_count": 11,
     "metadata": {},
     "output_type": "execute_result"
    }
   ],
   "source": [
    "min_value = min(dictValues)\n",
    "min_value = round(min_value,2)\n",
    "min_value"
   ]
  },
  {
   "cell_type": "code",
   "execution_count": 12,
   "metadata": {
    "collapsed": false
   },
   "outputs": [
    {
     "data": {
      "text/plain": [
       "'/TMRW_FAQs.php'"
      ]
     },
     "execution_count": 12,
     "metadata": {},
     "output_type": "execute_result"
    }
   ],
   "source": [
    "max_page = max(conv_rate_dict, key=conv_rate_dict.get)\n",
    "\n",
    "if max_page == '/':\n",
    "    max_page = \"homepage\"\n",
    "else:\n",
    "    max_page = max_page\n",
    "\n",
    "max_page"
   ]
  },
  {
   "cell_type": "code",
   "execution_count": 13,
   "metadata": {
    "collapsed": false
   },
   "outputs": [
    {
     "data": {
      "text/plain": [
       "'homepage'"
      ]
     },
     "execution_count": 13,
     "metadata": {},
     "output_type": "execute_result"
    }
   ],
   "source": [
    "min_page = min(conv_rate_dict, key=conv_rate_dict.get)\n",
    "\n",
    "if min_page == '/':\n",
    "    min_page = \"homepage\"\n",
    "else:\n",
    "    min_page = min_page\n",
    "\n",
    "min_page\n"
   ]
  },
  {
   "cell_type": "code",
   "execution_count": 14,
   "metadata": {
    "collapsed": false,
    "scrolled": true
   },
   "outputs": [
    {
     "name": "stdout",
     "output_type": "stream",
     "text": [
      "Page:\"/TMRW_FAQs.php\" has the highest Conversion Rate - 18.6% .\n"
     ]
    }
   ],
   "source": [
    "print('Page:\"%s' % max_page + '\" has the highest Conversion Rate - %s' % max_value + '% .' )"
   ]
  },
  {
   "cell_type": "code",
   "execution_count": 15,
   "metadata": {
    "collapsed": false
   },
   "outputs": [
    {
     "name": "stdout",
     "output_type": "stream",
     "text": [
      "Page:\"homepage\" has the lowest Conversion Rate - 1.43% .\n"
     ]
    }
   ],
   "source": [
    "print('Page:\"%s'% min_page + '\" has the lowest Conversion Rate - %s' % min_value + '% .' )"
   ]
  },
  {
   "cell_type": "code",
   "execution_count": null,
   "metadata": {
    "collapsed": true
   },
   "outputs": [],
   "source": []
  },
  {
   "cell_type": "code",
   "execution_count": null,
   "metadata": {
    "collapsed": true
   },
   "outputs": [],
   "source": []
  }
 ],
 "metadata": {
  "kernelspec": {
   "display_name": "Python 3",
   "language": "python",
   "name": "python3"
  },
  "language_info": {
   "codemirror_mode": {
    "name": "ipython",
    "version": 3
   },
   "file_extension": ".py",
   "mimetype": "text/x-python",
   "name": "python",
   "nbconvert_exporter": "python",
   "pygments_lexer": "ipython3",
   "version": "3.6.0"
  }
 },
 "nbformat": 4,
 "nbformat_minor": 2
}
