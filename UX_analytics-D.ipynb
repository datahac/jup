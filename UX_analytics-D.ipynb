{
 "cells": [
  {
   "cell_type": "code",
   "execution_count": null,
   "metadata": {
    "collapsed": true
   },
   "outputs": [],
   "source": []
  },
  {
   "cell_type": "code",
   "execution_count": null,
   "metadata": {
    "collapsed": true
   },
   "outputs": [],
   "source": []
  },
  {
   "cell_type": "code",
   "execution_count": null,
   "metadata": {
    "collapsed": true
   },
   "outputs": [],
   "source": []
  },
  {
   "cell_type": "raw",
   "metadata": {},
   "source": []
  },
  {
   "cell_type": "markdown",
   "metadata": {},
   "source": [
    "# iPython notebook - Daryna analysis - Conversions by website pages\n",
    "\n",
    "\n",
    "## 1. Import libraries"
   ]
  },
  {
   "cell_type": "code",
   "execution_count": 43,
   "metadata": {
    "collapsed": true
   },
   "outputs": [],
   "source": [
    "%matplotlib inline \n",
    "\n",
    "import numpy as np\n",
    "import scipy as sp\n",
    "import matplotlib as mpl\n",
    "import matplotlib.cm as cm\n",
    "import matplotlib.pyplot as plt\n",
    "import pandas as pd\n",
    "\n",
    "pd.set_option('display.width', 500)\n",
    "pd.set_option('display.max_columns', 100)\n",
    "pd.set_option('display.notebook_repr_html', True)\n",
    "import seaborn as sns #sets up styles and gives us more plotting options\n"
   ]
  },
  {
   "cell_type": "markdown",
   "metadata": {},
   "source": [
    " 2. Settings"
   ]
  },
  {
   "cell_type": "code",
   "execution_count": 44,
   "metadata": {
    "collapsed": true
   },
   "outputs": [],
   "source": [
    "# Time period 24th Jan - 24th April (arbitrary )\n",
    "\n",
    "# API credentials\n",
    "# Email address 705762800217-compute@developer.gserviceaccount.com\n",
    "# Key IDs 948ee8e2a420ef14a5d5a29bd35104fe2f1e6ed4\n",
    " "
   ]
  },
  {
   "cell_type": "code",
   "execution_count": 45,
   "metadata": {
    "collapsed": true
   },
   "outputs": [],
   "source": [
    "# open file. It is requested via API explorer using request parameters:\n",
    "\n",
    "#Account: TMRW Tech Hub\n",
    "#Property: TMRW\n",
    "#View: All Web Site Data\n",
    "#ids: ga:123303369\n",
    "#start-date: 2017-01-24\n",
    "#end-date: 2017-04-24\n",
    "\n",
    "#metrics\n",
    "#ga:sessions\n",
    "#ga:sessionsWithEvent\n",
    "\n",
    "#dimensions\n",
    "#ga:pagePath\n",
    "\n",
    "#sort\n",
    "#-ga:sessionsWithEvent\n",
    "\n",
    "#filter\n",
    "#ga:sessions>10\n",
    "\n",
    "\n"
   ]
  },
  {
   "cell_type": "code",
   "execution_count": 46,
   "metadata": {
    "collapsed": false,
    "scrolled": true
   },
   "outputs": [
    {
     "data": {
      "text/html": [
       "<div>\n",
       "<table border=\"1\" class=\"dataframe\">\n",
       "  <thead>\n",
       "    <tr style=\"text-align: right;\">\n",
       "      <th></th>\n",
       "      <th>ga:pagePath</th>\n",
       "      <th>ga:sessions</th>\n",
       "      <th>ga:sessionsWithEvent</th>\n",
       "    </tr>\n",
       "  </thead>\n",
       "  <tbody>\n",
       "    <tr>\n",
       "      <th>0</th>\n",
       "      <td>'/</td>\n",
       "      <td>4436</td>\n",
       "      <td>82</td>\n",
       "    </tr>\n",
       "    <tr>\n",
       "      <th>1</th>\n",
       "      <td>'/TMRW_FAQs.php</td>\n",
       "      <td>100</td>\n",
       "      <td>26</td>\n",
       "    </tr>\n",
       "    <tr>\n",
       "      <th>2</th>\n",
       "      <td>'/TMRW_Byte_Cafe.php</td>\n",
       "      <td>218</td>\n",
       "      <td>23</td>\n",
       "    </tr>\n",
       "    <tr>\n",
       "      <th>3</th>\n",
       "      <td>'/TMRW_the_team.php</td>\n",
       "      <td>99</td>\n",
       "      <td>10</td>\n",
       "    </tr>\n",
       "    <tr>\n",
       "      <th>4</th>\n",
       "      <td>'/trainstrikes.php</td>\n",
       "      <td>13</td>\n",
       "      <td>0</td>\n",
       "    </tr>\n",
       "    <tr>\n",
       "      <th>5</th>\n",
       "      <td>'/voteforbyte.php</td>\n",
       "      <td>31</td>\n",
       "      <td>0</td>\n",
       "    </tr>\n",
       "  </tbody>\n",
       "</table>\n",
       "</div>"
      ],
      "text/plain": [
       "            ga:pagePath  ga:sessions  ga:sessionsWithEvent\n",
       "0                    '/         4436                    82\n",
       "1       '/TMRW_FAQs.php          100                    26\n",
       "2  '/TMRW_Byte_Cafe.php          218                    23\n",
       "3   '/TMRW_the_team.php           99                    10\n",
       "4    '/trainstrikes.php           13                     0\n",
       "5     '/voteforbyte.php           31                     0"
      ]
     },
     "execution_count": 46,
     "metadata": {},
     "output_type": "execute_result"
    }
   ],
   "source": [
    "# Open file\n",
    "TMRW_eventss= pd.read_csv(\"C:\\ProgramData\\Anaconda3/tmrw_events.csv\")\n",
    "TMRW_eventss\n",
    "\n"
   ]
  },
  {
   "cell_type": "code",
   "execution_count": 47,
   "metadata": {
    "collapsed": false
   },
   "outputs": [
    {
     "data": {
      "text/html": [
       "<div>\n",
       "<table border=\"1\" class=\"dataframe\">\n",
       "  <thead>\n",
       "    <tr style=\"text-align: right;\">\n",
       "      <th></th>\n",
       "      <th>page</th>\n",
       "      <th>sessions</th>\n",
       "      <th>unique_events</th>\n",
       "    </tr>\n",
       "  </thead>\n",
       "  <tbody>\n",
       "    <tr>\n",
       "      <th>0</th>\n",
       "      <td>'/</td>\n",
       "      <td>4436</td>\n",
       "      <td>82</td>\n",
       "    </tr>\n",
       "    <tr>\n",
       "      <th>1</th>\n",
       "      <td>'/TMRW_FAQs.php</td>\n",
       "      <td>100</td>\n",
       "      <td>26</td>\n",
       "    </tr>\n",
       "    <tr>\n",
       "      <th>2</th>\n",
       "      <td>'/TMRW_Byte_Cafe.php</td>\n",
       "      <td>218</td>\n",
       "      <td>23</td>\n",
       "    </tr>\n",
       "    <tr>\n",
       "      <th>3</th>\n",
       "      <td>'/TMRW_the_team.php</td>\n",
       "      <td>99</td>\n",
       "      <td>10</td>\n",
       "    </tr>\n",
       "    <tr>\n",
       "      <th>4</th>\n",
       "      <td>'/trainstrikes.php</td>\n",
       "      <td>13</td>\n",
       "      <td>0</td>\n",
       "    </tr>\n",
       "    <tr>\n",
       "      <th>5</th>\n",
       "      <td>'/voteforbyte.php</td>\n",
       "      <td>31</td>\n",
       "      <td>0</td>\n",
       "    </tr>\n",
       "  </tbody>\n",
       "</table>\n",
       "</div>"
      ],
      "text/plain": [
       "                   page  sessions  unique_events\n",
       "0                    '/      4436             82\n",
       "1       '/TMRW_FAQs.php       100             26\n",
       "2  '/TMRW_Byte_Cafe.php       218             23\n",
       "3   '/TMRW_the_team.php        99             10\n",
       "4    '/trainstrikes.php        13              0\n",
       "5     '/voteforbyte.php        31              0"
      ]
     },
     "execution_count": 47,
     "metadata": {},
     "output_type": "execute_result"
    }
   ],
   "source": [
    "TMRW_events.columns=[\"page\",\"sessions\",\"unique_events\"]\n",
    "TMRW_events"
   ]
  },
  {
   "cell_type": "code",
   "execution_count": 67,
   "metadata": {
    "collapsed": false
   },
   "outputs": [
    {
     "data": {
      "text/html": [
       "<div>\n",
       "<table border=\"1\" class=\"dataframe\">\n",
       "  <thead>\n",
       "    <tr style=\"text-align: right;\">\n",
       "      <th></th>\n",
       "      <th>page</th>\n",
       "      <th>sessions</th>\n",
       "      <th>unique_events</th>\n",
       "    </tr>\n",
       "  </thead>\n",
       "  <tbody>\n",
       "    <tr>\n",
       "      <th>0</th>\n",
       "      <td>'/</td>\n",
       "      <td>4436</td>\n",
       "      <td>82</td>\n",
       "    </tr>\n",
       "    <tr>\n",
       "      <th>1</th>\n",
       "      <td>'/TMRW_FAQs.php</td>\n",
       "      <td>100</td>\n",
       "      <td>26</td>\n",
       "    </tr>\n",
       "    <tr>\n",
       "      <th>2</th>\n",
       "      <td>'/TMRW_Byte_Cafe.php</td>\n",
       "      <td>218</td>\n",
       "      <td>23</td>\n",
       "    </tr>\n",
       "    <tr>\n",
       "      <th>3</th>\n",
       "      <td>'/TMRW_the_team.php</td>\n",
       "      <td>99</td>\n",
       "      <td>10</td>\n",
       "    </tr>\n",
       "  </tbody>\n",
       "</table>\n",
       "</div>"
      ],
      "text/plain": [
       "                   page  sessions  unique_events\n",
       "0                    '/      4436             82\n",
       "1       '/TMRW_FAQs.php       100             26\n",
       "2  '/TMRW_Byte_Cafe.php       218             23\n",
       "3   '/TMRW_the_team.php        99             10"
      ]
     },
     "execution_count": 67,
     "metadata": {},
     "output_type": "execute_result"
    }
   ],
   "source": [
    "TMRW_events_filter = TMRW_events[TMRW_events.unique_events > 1]\n",
    "TMRW_events_filter"
   ]
  },
  {
   "cell_type": "code",
   "execution_count": 49,
   "metadata": {
    "collapsed": false
   },
   "outputs": [
    {
     "data": {
      "text/html": [
       "<div>\n",
       "<table border=\"1\" class=\"dataframe\">\n",
       "  <thead>\n",
       "    <tr style=\"text-align: right;\">\n",
       "      <th></th>\n",
       "      <th>sessions</th>\n",
       "      <th>unique_events</th>\n",
       "    </tr>\n",
       "  </thead>\n",
       "  <tbody>\n",
       "    <tr>\n",
       "      <th>count</th>\n",
       "      <td>4.00000</td>\n",
       "      <td>4.000000</td>\n",
       "    </tr>\n",
       "    <tr>\n",
       "      <th>mean</th>\n",
       "      <td>1213.25000</td>\n",
       "      <td>35.250000</td>\n",
       "    </tr>\n",
       "    <tr>\n",
       "      <th>std</th>\n",
       "      <td>2149.22612</td>\n",
       "      <td>31.930915</td>\n",
       "    </tr>\n",
       "    <tr>\n",
       "      <th>min</th>\n",
       "      <td>99.00000</td>\n",
       "      <td>10.000000</td>\n",
       "    </tr>\n",
       "    <tr>\n",
       "      <th>25%</th>\n",
       "      <td>99.75000</td>\n",
       "      <td>19.750000</td>\n",
       "    </tr>\n",
       "    <tr>\n",
       "      <th>50%</th>\n",
       "      <td>159.00000</td>\n",
       "      <td>24.500000</td>\n",
       "    </tr>\n",
       "    <tr>\n",
       "      <th>75%</th>\n",
       "      <td>1272.50000</td>\n",
       "      <td>40.000000</td>\n",
       "    </tr>\n",
       "    <tr>\n",
       "      <th>max</th>\n",
       "      <td>4436.00000</td>\n",
       "      <td>82.000000</td>\n",
       "    </tr>\n",
       "  </tbody>\n",
       "</table>\n",
       "</div>"
      ],
      "text/plain": [
       "         sessions  unique_events\n",
       "count     4.00000       4.000000\n",
       "mean   1213.25000      35.250000\n",
       "std    2149.22612      31.930915\n",
       "min      99.00000      10.000000\n",
       "25%      99.75000      19.750000\n",
       "50%     159.00000      24.500000\n",
       "75%    1272.50000      40.000000\n",
       "max    4436.00000      82.000000"
      ]
     },
     "execution_count": 49,
     "metadata": {},
     "output_type": "execute_result"
    }
   ],
   "source": [
    "TMRW_events_filter.describe()"
   ]
  },
  {
   "cell_type": "code",
   "execution_count": 66,
   "metadata": {
    "collapsed": false,
    "scrolled": true
   },
   "outputs": [
    {
     "name": "stdout",
     "output_type": "stream",
     "text": [
      "0                      '/\n",
      "1         '/TMRW_FAQs.php\n",
      "2    '/TMRW_Byte_Cafe.php\n",
      "3     '/TMRW_the_team.php\n",
      "Name: page, dtype: object\n"
     ]
    }
   ],
   "source": [
    "page=TMRW_events_filter.page\n",
    "print(page)"
   ]
  },
  {
   "cell_type": "code",
   "execution_count": 51,
   "metadata": {
    "collapsed": false,
    "scrolled": false
   },
   "outputs": [
    {
     "data": {
      "text/plain": [
       "[0    0.018485\n",
       " 1    0.260000\n",
       " 2    0.105505\n",
       " 3    0.101010\n",
       " dtype: float64]"
      ]
     },
     "execution_count": 51,
     "metadata": {},
     "output_type": "execute_result"
    }
   ],
   "source": [
    "#calculate rate as unique_events/sessions for each page\n",
    "rate=[TMRW_events_filter.unique_events / TMRW_events_filter.sessions]\n",
    "rate"
   ]
  },
  {
   "cell_type": "code",
   "execution_count": 101,
   "metadata": {
    "collapsed": false
   },
   "outputs": [
    {
     "name": "stdout",
     "output_type": "stream",
     "text": [
      "[0                      '/\n",
      "1         '/TMRW_FAQs.php\n",
      "2    '/TMRW_Byte_Cafe.php\n",
      "3     '/TMRW_the_team.php\n",
      "Name: page, dtype: object, [0    0.018485\n",
      "1    0.260000\n",
      "2    0.105505\n",
      "3    0.101010\n",
      "dtype: float64]]\n"
     ]
    }
   ],
   "source": [
    "#join page and rate ???\n",
    "\n",
    "data = [TMRW_events_filter.page, rate]\n",
    "print(data)"
   ]
  },
  {
   "cell_type": "code",
   "execution_count": 100,
   "metadata": {
    "collapsed": false,
    "scrolled": true
   },
   "outputs": [
    {
     "data": {
      "text/html": [
       "\n",
       "    <div class=\"bk-root\">\n",
       "        <a href=\"http://bokeh.pydata.org\" target=\"_blank\" class=\"bk-logo bk-logo-small bk-logo-notebook\"></a>\n",
       "        <span id=\"31e60fe2-c8d8-4012-844b-49f75260ce31\">Loading BokehJS ...</span>\n",
       "    </div>"
      ]
     },
     "metadata": {},
     "output_type": "display_data"
    },
    {
     "data": {
      "application/javascript": [
       "\n",
       "(function(global) {\n",
       "  function now() {\n",
       "    return new Date();\n",
       "  }\n",
       "\n",
       "  var force = true;\n",
       "\n",
       "  if (typeof (window._bokeh_onload_callbacks) === \"undefined\" || force === true) {\n",
       "    window._bokeh_onload_callbacks = [];\n",
       "    window._bokeh_is_loading = undefined;\n",
       "  }\n",
       "\n",
       "\n",
       "  \n",
       "  if (typeof (window._bokeh_timeout) === \"undefined\" || force === true) {\n",
       "    window._bokeh_timeout = Date.now() + 5000;\n",
       "    window._bokeh_failed_load = false;\n",
       "  }\n",
       "\n",
       "  var NB_LOAD_WARNING = {'data': {'text/html':\n",
       "     \"<div style='background-color: #fdd'>\\n\"+\n",
       "     \"<p>\\n\"+\n",
       "     \"BokehJS does not appear to have successfully loaded. If loading BokehJS from CDN, this \\n\"+\n",
       "     \"may be due to a slow or bad network connection. Possible fixes:\\n\"+\n",
       "     \"</p>\\n\"+\n",
       "     \"<ul>\\n\"+\n",
       "     \"<li>re-rerun `output_notebook()` to attempt to load from CDN again, or</li>\\n\"+\n",
       "     \"<li>use INLINE resources instead, as so:</li>\\n\"+\n",
       "     \"</ul>\\n\"+\n",
       "     \"<code>\\n\"+\n",
       "     \"from bokeh.resources import INLINE\\n\"+\n",
       "     \"output_notebook(resources=INLINE)\\n\"+\n",
       "     \"</code>\\n\"+\n",
       "     \"</div>\"}};\n",
       "\n",
       "  function display_loaded() {\n",
       "    if (window.Bokeh !== undefined) {\n",
       "      document.getElementById(\"31e60fe2-c8d8-4012-844b-49f75260ce31\").textContent = \"BokehJS successfully loaded.\";\n",
       "    } else if (Date.now() < window._bokeh_timeout) {\n",
       "      setTimeout(display_loaded, 100)\n",
       "    }\n",
       "  }\n",
       "\n",
       "  function run_callbacks() {\n",
       "    window._bokeh_onload_callbacks.forEach(function(callback) { callback() });\n",
       "    delete window._bokeh_onload_callbacks\n",
       "    console.info(\"Bokeh: all callbacks have finished\");\n",
       "  }\n",
       "\n",
       "  function load_libs(js_urls, callback) {\n",
       "    window._bokeh_onload_callbacks.push(callback);\n",
       "    if (window._bokeh_is_loading > 0) {\n",
       "      console.log(\"Bokeh: BokehJS is being loaded, scheduling callback at\", now());\n",
       "      return null;\n",
       "    }\n",
       "    if (js_urls == null || js_urls.length === 0) {\n",
       "      run_callbacks();\n",
       "      return null;\n",
       "    }\n",
       "    console.log(\"Bokeh: BokehJS not loaded, scheduling load and callback at\", now());\n",
       "    window._bokeh_is_loading = js_urls.length;\n",
       "    for (var i = 0; i < js_urls.length; i++) {\n",
       "      var url = js_urls[i];\n",
       "      var s = document.createElement('script');\n",
       "      s.src = url;\n",
       "      s.async = false;\n",
       "      s.onreadystatechange = s.onload = function() {\n",
       "        window._bokeh_is_loading--;\n",
       "        if (window._bokeh_is_loading === 0) {\n",
       "          console.log(\"Bokeh: all BokehJS libraries loaded\");\n",
       "          run_callbacks()\n",
       "        }\n",
       "      };\n",
       "      s.onerror = function() {\n",
       "        console.warn(\"failed to load library \" + url);\n",
       "      };\n",
       "      console.log(\"Bokeh: injecting script tag for BokehJS library: \", url);\n",
       "      document.getElementsByTagName(\"head\")[0].appendChild(s);\n",
       "    }\n",
       "  };var element = document.getElementById(\"31e60fe2-c8d8-4012-844b-49f75260ce31\");\n",
       "  if (element == null) {\n",
       "    console.log(\"Bokeh: ERROR: autoload.js configured with elementid '31e60fe2-c8d8-4012-844b-49f75260ce31' but no matching script tag was found. \")\n",
       "    return false;\n",
       "  }\n",
       "\n",
       "  var js_urls = [\"https://cdn.pydata.org/bokeh/release/bokeh-0.12.4.min.js\", \"https://cdn.pydata.org/bokeh/release/bokeh-widgets-0.12.4.min.js\"];\n",
       "\n",
       "  var inline_js = [\n",
       "    function(Bokeh) {\n",
       "      Bokeh.set_log_level(\"info\");\n",
       "    },\n",
       "    \n",
       "    function(Bokeh) {\n",
       "      \n",
       "      document.getElementById(\"31e60fe2-c8d8-4012-844b-49f75260ce31\").textContent = \"BokehJS is loading...\";\n",
       "    },\n",
       "    function(Bokeh) {\n",
       "      console.log(\"Bokeh: injecting CSS: https://cdn.pydata.org/bokeh/release/bokeh-0.12.4.min.css\");\n",
       "      Bokeh.embed.inject_css(\"https://cdn.pydata.org/bokeh/release/bokeh-0.12.4.min.css\");\n",
       "      console.log(\"Bokeh: injecting CSS: https://cdn.pydata.org/bokeh/release/bokeh-widgets-0.12.4.min.css\");\n",
       "      Bokeh.embed.inject_css(\"https://cdn.pydata.org/bokeh/release/bokeh-widgets-0.12.4.min.css\");\n",
       "    }\n",
       "  ];\n",
       "\n",
       "  function run_inline_js() {\n",
       "    \n",
       "    if ((window.Bokeh !== undefined) || (force === true)) {\n",
       "      for (var i = 0; i < inline_js.length; i++) {\n",
       "        inline_js[i](window.Bokeh);\n",
       "      }if (force === true) {\n",
       "        display_loaded();\n",
       "      }} else if (Date.now() < window._bokeh_timeout) {\n",
       "      setTimeout(run_inline_js, 100);\n",
       "    } else if (!window._bokeh_failed_load) {\n",
       "      console.log(\"Bokeh: BokehJS failed to load within specified timeout.\");\n",
       "      window._bokeh_failed_load = true;\n",
       "    } else if (force !== true) {\n",
       "      var cell = $(document.getElementById(\"31e60fe2-c8d8-4012-844b-49f75260ce31\")).parents('.cell').data().cell;\n",
       "      cell.output_area.append_execute_result(NB_LOAD_WARNING)\n",
       "    }\n",
       "\n",
       "  }\n",
       "\n",
       "  if (window._bokeh_is_loading === 0) {\n",
       "    console.log(\"Bokeh: BokehJS loaded, going straight to plotting\");\n",
       "    run_inline_js();\n",
       "  } else {\n",
       "    load_libs(js_urls, function() {\n",
       "      console.log(\"Bokeh: BokehJS plotting callback run at\", now());\n",
       "      run_inline_js();\n",
       "    });\n",
       "  }\n",
       "}(this));"
      ]
     },
     "metadata": {},
     "output_type": "display_data"
    },
    {
     "data": {
      "text/html": [
       "\n",
       "\n",
       "    <div class=\"bk-root\">\n",
       "        <div class=\"bk-plotdiv\" id=\"bf002d94-ef43-46d4-a515-9d369a296138\"></div>\n",
       "    </div>\n",
       "<script type=\"text/javascript\">\n",
       "  \n",
       "  (function(global) {\n",
       "    function now() {\n",
       "      return new Date();\n",
       "    }\n",
       "  \n",
       "    var force = false;\n",
       "  \n",
       "    if (typeof (window._bokeh_onload_callbacks) === \"undefined\" || force === true) {\n",
       "      window._bokeh_onload_callbacks = [];\n",
       "      window._bokeh_is_loading = undefined;\n",
       "    }\n",
       "  \n",
       "  \n",
       "    \n",
       "    if (typeof (window._bokeh_timeout) === \"undefined\" || force === true) {\n",
       "      window._bokeh_timeout = Date.now() + 0;\n",
       "      window._bokeh_failed_load = false;\n",
       "    }\n",
       "  \n",
       "    var NB_LOAD_WARNING = {'data': {'text/html':\n",
       "       \"<div style='background-color: #fdd'>\\n\"+\n",
       "       \"<p>\\n\"+\n",
       "       \"BokehJS does not appear to have successfully loaded. If loading BokehJS from CDN, this \\n\"+\n",
       "       \"may be due to a slow or bad network connection. Possible fixes:\\n\"+\n",
       "       \"</p>\\n\"+\n",
       "       \"<ul>\\n\"+\n",
       "       \"<li>re-rerun `output_notebook()` to attempt to load from CDN again, or</li>\\n\"+\n",
       "       \"<li>use INLINE resources instead, as so:</li>\\n\"+\n",
       "       \"</ul>\\n\"+\n",
       "       \"<code>\\n\"+\n",
       "       \"from bokeh.resources import INLINE\\n\"+\n",
       "       \"output_notebook(resources=INLINE)\\n\"+\n",
       "       \"</code>\\n\"+\n",
       "       \"</div>\"}};\n",
       "  \n",
       "    function display_loaded() {\n",
       "      if (window.Bokeh !== undefined) {\n",
       "        document.getElementById(\"bf002d94-ef43-46d4-a515-9d369a296138\").textContent = \"BokehJS successfully loaded.\";\n",
       "      } else if (Date.now() < window._bokeh_timeout) {\n",
       "        setTimeout(display_loaded, 100)\n",
       "      }\n",
       "    }\n",
       "  \n",
       "    function run_callbacks() {\n",
       "      window._bokeh_onload_callbacks.forEach(function(callback) { callback() });\n",
       "      delete window._bokeh_onload_callbacks\n",
       "      console.info(\"Bokeh: all callbacks have finished\");\n",
       "    }\n",
       "  \n",
       "    function load_libs(js_urls, callback) {\n",
       "      window._bokeh_onload_callbacks.push(callback);\n",
       "      if (window._bokeh_is_loading > 0) {\n",
       "        console.log(\"Bokeh: BokehJS is being loaded, scheduling callback at\", now());\n",
       "        return null;\n",
       "      }\n",
       "      if (js_urls == null || js_urls.length === 0) {\n",
       "        run_callbacks();\n",
       "        return null;\n",
       "      }\n",
       "      console.log(\"Bokeh: BokehJS not loaded, scheduling load and callback at\", now());\n",
       "      window._bokeh_is_loading = js_urls.length;\n",
       "      for (var i = 0; i < js_urls.length; i++) {\n",
       "        var url = js_urls[i];\n",
       "        var s = document.createElement('script');\n",
       "        s.src = url;\n",
       "        s.async = false;\n",
       "        s.onreadystatechange = s.onload = function() {\n",
       "          window._bokeh_is_loading--;\n",
       "          if (window._bokeh_is_loading === 0) {\n",
       "            console.log(\"Bokeh: all BokehJS libraries loaded\");\n",
       "            run_callbacks()\n",
       "          }\n",
       "        };\n",
       "        s.onerror = function() {\n",
       "          console.warn(\"failed to load library \" + url);\n",
       "        };\n",
       "        console.log(\"Bokeh: injecting script tag for BokehJS library: \", url);\n",
       "        document.getElementsByTagName(\"head\")[0].appendChild(s);\n",
       "      }\n",
       "    };var element = document.getElementById(\"bf002d94-ef43-46d4-a515-9d369a296138\");\n",
       "    if (element == null) {\n",
       "      console.log(\"Bokeh: ERROR: autoload.js configured with elementid 'bf002d94-ef43-46d4-a515-9d369a296138' but no matching script tag was found. \")\n",
       "      return false;\n",
       "    }\n",
       "  \n",
       "    var js_urls = [];\n",
       "  \n",
       "    var inline_js = [\n",
       "      function(Bokeh) {\n",
       "        (function() {\n",
       "          var fn = function() {\n",
       "            var docs_json = {\"08d29807-4f91-49cd-abd8-d956e01ce07b\":{\"roots\":{\"references\":[{\"attributes\":{},\"id\":\"e4479fb9-cd09-4216-b3d0-cd67ed5f55a3\",\"type\":\"CategoricalTicker\"},{\"attributes\":{\"callback\":null,\"factors\":[\"'/\",\"'/TMRW_Byte_Cafe.php\",\"'/TMRW_FAQs.php\",\"'/TMRW_the_team.php\"]},\"id\":\"3ecbad2d-d303-4b57-9e05-841be3c60e60\",\"type\":\"FactorRange\"},{\"attributes\":{},\"id\":\"85d48fe9-2cc9-426c-b6df-84d4b4f83cbf\",\"type\":\"CategoricalTickFormatter\"},{\"attributes\":{\"label\":{\"value\":\"'/TMRW_the_team.php\"},\"renderers\":[{\"id\":\"154440b8-a0bb-4325-bcd2-a36a18ef0da7\",\"type\":\"GlyphRenderer\"}]},\"id\":\"f328889e-eceb-4e4b-b8aa-97f2ebc7338d\",\"type\":\"LegendItem\"},{\"attributes\":{\"fill_alpha\":{\"field\":\"fill_alpha\"},\"fill_color\":{\"field\":\"color\"},\"height\":{\"field\":\"height\",\"units\":\"data\"},\"line_color\":{\"field\":\"line_color\"},\"width\":{\"field\":\"width\",\"units\":\"data\"},\"x\":{\"field\":\"x\"},\"y\":{\"field\":\"y\"}},\"id\":\"dde9175d-26fc-493e-9a2f-cbbf88b3d25c\",\"type\":\"Rect\"},{\"attributes\":{\"data_source\":{\"id\":\"e345a9a1-ab58-438e-be06-bda269484885\",\"type\":\"ColumnDataSource\"},\"glyph\":{\"id\":\"dde9175d-26fc-493e-9a2f-cbbf88b3d25c\",\"type\":\"Rect\"},\"hover_glyph\":null,\"nonselection_glyph\":null,\"selection_glyph\":null},\"id\":\"154440b8-a0bb-4325-bcd2-a36a18ef0da7\",\"type\":\"GlyphRenderer\"},{\"attributes\":{\"plot\":{\"id\":\"edb45a93-6a9c-43c5-a38b-dc8f1e1e3603\",\"subtype\":\"Chart\",\"type\":\"Plot\"}},\"id\":\"9b6c2373-0183-4211-a389-38d820da476c\",\"type\":\"ResetTool\"},{\"attributes\":{\"label\":{\"value\":\"'/TMRW_FAQs.php\"},\"renderers\":[{\"id\":\"5a9a7d5a-67df-4af9-865a-f28bb635fa51\",\"type\":\"GlyphRenderer\"}]},\"id\":\"62f4d452-abe6-49d0-b90d-40f2c367630f\",\"type\":\"LegendItem\"},{\"attributes\":{\"plot\":{\"id\":\"edb45a93-6a9c-43c5-a38b-dc8f1e1e3603\",\"subtype\":\"Chart\",\"type\":\"Plot\"}},\"id\":\"a474962a-78ee-46f9-9067-1e6adc320536\",\"type\":\"SaveTool\"},{\"attributes\":{\"bottom_units\":\"screen\",\"fill_alpha\":{\"value\":0.5},\"fill_color\":{\"value\":\"lightgrey\"},\"left_units\":\"screen\",\"level\":\"overlay\",\"line_alpha\":{\"value\":1.0},\"line_color\":{\"value\":\"black\"},\"line_dash\":[4,4],\"line_width\":{\"value\":2},\"plot\":null,\"render_mode\":\"css\",\"right_units\":\"screen\",\"top_units\":\"screen\"},\"id\":\"ca47acf7-ef1f-44dd-9370-a9d06eaff306\",\"type\":\"BoxAnnotation\"},{\"attributes\":{\"label\":{\"value\":\"'/\"},\"renderers\":[{\"id\":\"4dcf8e49-2328-467e-bdd8-af690dcb629b\",\"type\":\"GlyphRenderer\"}]},\"id\":\"a4112fc6-6ea4-4bef-b764-859d0f49e3dd\",\"type\":\"LegendItem\"},{\"attributes\":{\"active_drag\":\"auto\",\"active_scroll\":\"auto\",\"active_tap\":\"auto\",\"tools\":[{\"id\":\"d9093cd2-9b8c-4c1d-9dc3-9d4ed842d9db\",\"type\":\"PanTool\"},{\"id\":\"317ec5b0-bb94-442e-b5ed-446c5e0eacbe\",\"type\":\"WheelZoomTool\"},{\"id\":\"f2e905e8-f39f-47e1-8c58-3c553b01abf5\",\"type\":\"BoxZoomTool\"},{\"id\":\"a474962a-78ee-46f9-9067-1e6adc320536\",\"type\":\"SaveTool\"},{\"id\":\"9b6c2373-0183-4211-a389-38d820da476c\",\"type\":\"ResetTool\"},{\"id\":\"5b624f76-73cb-4304-9cb8-3f2279ee94ed\",\"type\":\"HelpTool\"}]},\"id\":\"0d868bb5-98bd-44e0-b152-071a42f9a319\",\"type\":\"Toolbar\"},{\"attributes\":{\"plot\":{\"id\":\"edb45a93-6a9c-43c5-a38b-dc8f1e1e3603\",\"subtype\":\"Chart\",\"type\":\"Plot\"}},\"id\":\"d9093cd2-9b8c-4c1d-9dc3-9d4ed842d9db\",\"type\":\"PanTool\"},{\"attributes\":{\"overlay\":{\"id\":\"ca47acf7-ef1f-44dd-9370-a9d06eaff306\",\"type\":\"BoxAnnotation\"},\"plot\":{\"id\":\"edb45a93-6a9c-43c5-a38b-dc8f1e1e3603\",\"subtype\":\"Chart\",\"type\":\"Plot\"}},\"id\":\"f2e905e8-f39f-47e1-8c58-3c553b01abf5\",\"type\":\"BoxZoomTool\"},{\"attributes\":{\"data_source\":{\"id\":\"726b61b7-5e5d-479d-b5ff-8d68c57068c7\",\"type\":\"ColumnDataSource\"},\"glyph\":{\"id\":\"b2be20cd-7d54-4277-bbd7-397752881753\",\"type\":\"Rect\"},\"hover_glyph\":null,\"nonselection_glyph\":null,\"selection_glyph\":null},\"id\":\"5a9a7d5a-67df-4af9-865a-f28bb635fa51\",\"type\":\"GlyphRenderer\"},{\"attributes\":{\"plot\":null,\"text\":\"Events per page\"},\"id\":\"1e8ffdbf-c2c6-4d11-8f92-6c44a3d4110b\",\"type\":\"Title\"},{\"attributes\":{\"dimension\":1,\"plot\":{\"id\":\"edb45a93-6a9c-43c5-a38b-dc8f1e1e3603\",\"subtype\":\"Chart\",\"type\":\"Plot\"},\"ticker\":{\"id\":\"2361e799-fa7a-4960-b167-f147fbda8c37\",\"type\":\"BasicTicker\"}},\"id\":\"70f2d7af-1d3b-4af5-bdaf-2f16cf8b0c91\",\"type\":\"Grid\"},{\"attributes\":{\"data_source\":{\"id\":\"b2a611e2-dc45-4d19-813d-8cf27b62993a\",\"type\":\"ColumnDataSource\"},\"glyph\":{\"id\":\"57bc17ed-bfbf-41ff-9391-dd9a44030150\",\"type\":\"Rect\"},\"hover_glyph\":null,\"nonselection_glyph\":null,\"selection_glyph\":null},\"id\":\"5f9ee062-1061-4cd7-bf80-b2fd8ec27f15\",\"type\":\"GlyphRenderer\"},{\"attributes\":{\"axis_label\":\"Sum( Unique_Events )\",\"formatter\":{\"id\":\"53b097aa-1556-422d-a647-55a41f1d4876\",\"type\":\"BasicTickFormatter\"},\"plot\":{\"id\":\"edb45a93-6a9c-43c5-a38b-dc8f1e1e3603\",\"subtype\":\"Chart\",\"type\":\"Plot\"},\"ticker\":{\"id\":\"2361e799-fa7a-4960-b167-f147fbda8c37\",\"type\":\"BasicTicker\"}},\"id\":\"1c457140-5091-4f12-ba1c-2ef171f8f1e4\",\"type\":\"LinearAxis\"},{\"attributes\":{\"axis_label\":\"Page\",\"formatter\":{\"id\":\"85d48fe9-2cc9-426c-b6df-84d4b4f83cbf\",\"type\":\"CategoricalTickFormatter\"},\"major_label_orientation\":0.7853981633974483,\"plot\":{\"id\":\"edb45a93-6a9c-43c5-a38b-dc8f1e1e3603\",\"subtype\":\"Chart\",\"type\":\"Plot\"},\"ticker\":{\"id\":\"e4479fb9-cd09-4216-b3d0-cd67ed5f55a3\",\"type\":\"CategoricalTicker\"}},\"id\":\"6d854c42-c146-412f-b575-dbb26605fd9b\",\"type\":\"CategoricalAxis\"},{\"attributes\":{\"plot\":{\"id\":\"edb45a93-6a9c-43c5-a38b-dc8f1e1e3603\",\"subtype\":\"Chart\",\"type\":\"Plot\"}},\"id\":\"5b624f76-73cb-4304-9cb8-3f2279ee94ed\",\"type\":\"HelpTool\"},{\"attributes\":{\"items\":[{\"id\":\"a4112fc6-6ea4-4bef-b764-859d0f49e3dd\",\"type\":\"LegendItem\"},{\"id\":\"62f4d452-abe6-49d0-b90d-40f2c367630f\",\"type\":\"LegendItem\"},{\"id\":\"15c53a18-be05-4398-bed5-bc807d210b7f\",\"type\":\"LegendItem\"},{\"id\":\"f328889e-eceb-4e4b-b8aa-97f2ebc7338d\",\"type\":\"LegendItem\"}],\"location\":\"top_left\",\"plot\":{\"id\":\"edb45a93-6a9c-43c5-a38b-dc8f1e1e3603\",\"subtype\":\"Chart\",\"type\":\"Plot\"}},\"id\":\"d39258c7-ac3a-4327-a0bb-bed0f5c79ba2\",\"type\":\"Legend\"},{\"attributes\":{\"fill_alpha\":{\"field\":\"fill_alpha\"},\"fill_color\":{\"field\":\"color\"},\"height\":{\"field\":\"height\",\"units\":\"data\"},\"line_color\":{\"field\":\"line_color\"},\"width\":{\"field\":\"width\",\"units\":\"data\"},\"x\":{\"field\":\"x\"},\"y\":{\"field\":\"y\"}},\"id\":\"57bc17ed-bfbf-41ff-9391-dd9a44030150\",\"type\":\"Rect\"},{\"attributes\":{\"callback\":null,\"end\":86.1},\"id\":\"17cdfac1-49bf-4b1f-8846-a1f1538f21bb\",\"type\":\"Range1d\"},{\"attributes\":{\"callback\":null,\"column_names\":[\"x\",\"y\",\"width\",\"height\",\"color\",\"fill_alpha\",\"line_color\",\"line_alpha\",\"label\"],\"data\":{\"chart_index\":[{\"page\":\"'/\"}],\"color\":[\"#f22c40\"],\"fill_alpha\":[0.8],\"height\":[82.0],\"label\":[{\"page\":\"'/\"}],\"line_alpha\":[1.0],\"line_color\":[\"white\"],\"page\":[\"'/\"],\"width\":[0.8],\"x\":[\"'/\"],\"y\":[41.0]}},\"id\":\"bc88f4ee-9c71-4806-9024-cb99adaf5a3a\",\"type\":\"ColumnDataSource\"},{\"attributes\":{\"callback\":null,\"column_names\":[\"x\",\"y\",\"width\",\"height\",\"color\",\"fill_alpha\",\"line_color\",\"line_alpha\",\"label\"],\"data\":{\"chart_index\":[{\"page\":\"'/TMRW_the_team.php\"}],\"color\":[\"#f22c40\"],\"fill_alpha\":[0.8],\"height\":[10.0],\"label\":[{\"page\":\"'/TMRW_the_team.php\"}],\"line_alpha\":[1.0],\"line_color\":[\"white\"],\"page\":[\"'/TMRW_the_team.php\"],\"width\":[0.8],\"x\":[\"'/TMRW_the_team.php\"],\"y\":[5.0]}},\"id\":\"e345a9a1-ab58-438e-be06-bda269484885\",\"type\":\"ColumnDataSource\"},{\"attributes\":{\"label\":{\"value\":\"'/TMRW_Byte_Cafe.php\"},\"renderers\":[{\"id\":\"5f9ee062-1061-4cd7-bf80-b2fd8ec27f15\",\"type\":\"GlyphRenderer\"}]},\"id\":\"15c53a18-be05-4398-bed5-bc807d210b7f\",\"type\":\"LegendItem\"},{\"attributes\":{\"callback\":null,\"column_names\":[\"x\",\"y\",\"width\",\"height\",\"color\",\"fill_alpha\",\"line_color\",\"line_alpha\",\"label\"],\"data\":{\"chart_index\":[{\"page\":\"'/TMRW_FAQs.php\"}],\"color\":[\"#f22c40\"],\"fill_alpha\":[0.8],\"height\":[26.0],\"label\":[{\"page\":\"'/TMRW_FAQs.php\"}],\"line_alpha\":[1.0],\"line_color\":[\"white\"],\"page\":[\"'/TMRW_FAQs.php\"],\"width\":[0.8],\"x\":[\"'/TMRW_FAQs.php\"],\"y\":[13.0]}},\"id\":\"726b61b7-5e5d-479d-b5ff-8d68c57068c7\",\"type\":\"ColumnDataSource\"},{\"attributes\":{},\"id\":\"b9a39a38-3528-424c-bb34-cf37c6e6db1d\",\"type\":\"ToolEvents\"},{\"attributes\":{\"plot\":{\"id\":\"edb45a93-6a9c-43c5-a38b-dc8f1e1e3603\",\"subtype\":\"Chart\",\"type\":\"Plot\"}},\"id\":\"317ec5b0-bb94-442e-b5ed-446c5e0eacbe\",\"type\":\"WheelZoomTool\"},{\"attributes\":{\"below\":[{\"id\":\"6d854c42-c146-412f-b575-dbb26605fd9b\",\"type\":\"CategoricalAxis\"}],\"css_classes\":null,\"left\":[{\"id\":\"1c457140-5091-4f12-ba1c-2ef171f8f1e4\",\"type\":\"LinearAxis\"}],\"renderers\":[{\"id\":\"ca47acf7-ef1f-44dd-9370-a9d06eaff306\",\"type\":\"BoxAnnotation\"},{\"id\":\"4dcf8e49-2328-467e-bdd8-af690dcb629b\",\"type\":\"GlyphRenderer\"},{\"id\":\"5a9a7d5a-67df-4af9-865a-f28bb635fa51\",\"type\":\"GlyphRenderer\"},{\"id\":\"5f9ee062-1061-4cd7-bf80-b2fd8ec27f15\",\"type\":\"GlyphRenderer\"},{\"id\":\"154440b8-a0bb-4325-bcd2-a36a18ef0da7\",\"type\":\"GlyphRenderer\"},{\"id\":\"d39258c7-ac3a-4327-a0bb-bed0f5c79ba2\",\"type\":\"Legend\"},{\"id\":\"6d854c42-c146-412f-b575-dbb26605fd9b\",\"type\":\"CategoricalAxis\"},{\"id\":\"1c457140-5091-4f12-ba1c-2ef171f8f1e4\",\"type\":\"LinearAxis\"},{\"id\":\"70f2d7af-1d3b-4af5-bdaf-2f16cf8b0c91\",\"type\":\"Grid\"}],\"title\":{\"id\":\"1e8ffdbf-c2c6-4d11-8f92-6c44a3d4110b\",\"type\":\"Title\"},\"tool_events\":{\"id\":\"b9a39a38-3528-424c-bb34-cf37c6e6db1d\",\"type\":\"ToolEvents\"},\"toolbar\":{\"id\":\"0d868bb5-98bd-44e0-b152-071a42f9a319\",\"type\":\"Toolbar\"},\"x_mapper_type\":\"auto\",\"x_range\":{\"id\":\"3ecbad2d-d303-4b57-9e05-841be3c60e60\",\"type\":\"FactorRange\"},\"y_mapper_type\":\"auto\",\"y_range\":{\"id\":\"17cdfac1-49bf-4b1f-8846-a1f1538f21bb\",\"type\":\"Range1d\"}},\"id\":\"edb45a93-6a9c-43c5-a38b-dc8f1e1e3603\",\"subtype\":\"Chart\",\"type\":\"Plot\"},{\"attributes\":{},\"id\":\"2361e799-fa7a-4960-b167-f147fbda8c37\",\"type\":\"BasicTicker\"},{\"attributes\":{\"data_source\":{\"id\":\"bc88f4ee-9c71-4806-9024-cb99adaf5a3a\",\"type\":\"ColumnDataSource\"},\"glyph\":{\"id\":\"7ea488d7-d798-414e-ae3b-d71cc95c98ec\",\"type\":\"Rect\"},\"hover_glyph\":null,\"nonselection_glyph\":null,\"selection_glyph\":null},\"id\":\"4dcf8e49-2328-467e-bdd8-af690dcb629b\",\"type\":\"GlyphRenderer\"},{\"attributes\":{\"callback\":null,\"column_names\":[\"x\",\"y\",\"width\",\"height\",\"color\",\"fill_alpha\",\"line_color\",\"line_alpha\",\"label\"],\"data\":{\"chart_index\":[{\"page\":\"'/TMRW_Byte_Cafe.php\"}],\"color\":[\"#f22c40\"],\"fill_alpha\":[0.8],\"height\":[23.0],\"label\":[{\"page\":\"'/TMRW_Byte_Cafe.php\"}],\"line_alpha\":[1.0],\"line_color\":[\"white\"],\"page\":[\"'/TMRW_Byte_Cafe.php\"],\"width\":[0.8],\"x\":[\"'/TMRW_Byte_Cafe.php\"],\"y\":[11.5]}},\"id\":\"b2a611e2-dc45-4d19-813d-8cf27b62993a\",\"type\":\"ColumnDataSource\"},{\"attributes\":{\"fill_alpha\":{\"field\":\"fill_alpha\"},\"fill_color\":{\"field\":\"color\"},\"height\":{\"field\":\"height\",\"units\":\"data\"},\"line_color\":{\"field\":\"line_color\"},\"width\":{\"field\":\"width\",\"units\":\"data\"},\"x\":{\"field\":\"x\"},\"y\":{\"field\":\"y\"}},\"id\":\"7ea488d7-d798-414e-ae3b-d71cc95c98ec\",\"type\":\"Rect\"},{\"attributes\":{\"fill_alpha\":{\"field\":\"fill_alpha\"},\"fill_color\":{\"field\":\"color\"},\"height\":{\"field\":\"height\",\"units\":\"data\"},\"line_color\":{\"field\":\"line_color\"},\"width\":{\"field\":\"width\",\"units\":\"data\"},\"x\":{\"field\":\"x\"},\"y\":{\"field\":\"y\"}},\"id\":\"b2be20cd-7d54-4277-bbd7-397752881753\",\"type\":\"Rect\"},{\"attributes\":{},\"id\":\"53b097aa-1556-422d-a647-55a41f1d4876\",\"type\":\"BasicTickFormatter\"}],\"root_ids\":[\"edb45a93-6a9c-43c5-a38b-dc8f1e1e3603\"]},\"title\":\"Bokeh Application\",\"version\":\"0.12.4\"}};\n",
       "            var render_items = [{\"docid\":\"08d29807-4f91-49cd-abd8-d956e01ce07b\",\"elementid\":\"bf002d94-ef43-46d4-a515-9d369a296138\",\"modelid\":\"edb45a93-6a9c-43c5-a38b-dc8f1e1e3603\"}];\n",
       "            \n",
       "            Bokeh.embed.embed_items(docs_json, render_items);\n",
       "          };\n",
       "          if (document.readyState != \"loading\") fn();\n",
       "          else document.addEventListener(\"DOMContentLoaded\", fn);\n",
       "        })();\n",
       "      },\n",
       "      function(Bokeh) {\n",
       "      }\n",
       "    ];\n",
       "  \n",
       "    function run_inline_js() {\n",
       "      \n",
       "      if ((window.Bokeh !== undefined) || (force === true)) {\n",
       "        for (var i = 0; i < inline_js.length; i++) {\n",
       "          inline_js[i](window.Bokeh);\n",
       "        }if (force === true) {\n",
       "          display_loaded();\n",
       "        }} else if (Date.now() < window._bokeh_timeout) {\n",
       "        setTimeout(run_inline_js, 100);\n",
       "      } else if (!window._bokeh_failed_load) {\n",
       "        console.log(\"Bokeh: BokehJS failed to load within specified timeout.\");\n",
       "        window._bokeh_failed_load = true;\n",
       "      } else if (force !== true) {\n",
       "        var cell = $(document.getElementById(\"bf002d94-ef43-46d4-a515-9d369a296138\")).parents('.cell').data().cell;\n",
       "        cell.output_area.append_execute_result(NB_LOAD_WARNING)\n",
       "      }\n",
       "  \n",
       "    }\n",
       "  \n",
       "    if (window._bokeh_is_loading === 0) {\n",
       "      console.log(\"Bokeh: BokehJS loaded, going straight to plotting\");\n",
       "      run_inline_js();\n",
       "    } else {\n",
       "      load_libs(js_urls, function() {\n",
       "        console.log(\"Bokeh: BokehJS plotting callback run at\", now());\n",
       "        run_inline_js();\n",
       "      });\n",
       "    }\n",
       "  }(this));\n",
       "</script>"
      ]
     },
     "metadata": {},
     "output_type": "display_data"
    }
   ],
   "source": [
    "import numpy as np\n",
    "from bokeh.io import output_notebook\n",
    "from bokeh.charts import Bar, show\n",
    "\n",
    "output_notebook()\n",
    "p = Bar(TMRW_events_filter, 'page', values='unique_events', title=\"Events per page\")\n",
    "show(p)"
   ]
  },
  {
   "cell_type": "code",
   "execution_count": 98,
   "metadata": {
    "collapsed": false
   },
   "outputs": [
    {
     "data": {
      "text/plain": [
       "0                      '/\n",
       "1         '/TMRW_FAQs.php\n",
       "2    '/TMRW_Byte_Cafe.php\n",
       "3     '/TMRW_the_team.php\n",
       "Name: page, dtype: object"
      ]
     },
     "execution_count": 98,
     "metadata": {},
     "output_type": "execute_result"
    }
   ],
   "source": [
    "selected=TMRW_events_filter.loc[:,'page']\n",
    "selected"
   ]
  },
  {
   "cell_type": "code",
   "execution_count": 99,
   "metadata": {
    "collapsed": false
   },
   "outputs": [
    {
     "data": {
      "image/png": "[encoded data removed]",
      "text/plain": [
       "<matplotlib.figure.Figure at 0xcb56e30>"
      ]
     },
     "metadata": {},
     "output_type": "display_data"
    }
   ],
   "source": [
    "labels = selected.index\n",
    "sizes = TMRW_events_filter[\"unique_events\"]\n",
    "colors = ['yellow','green', 'gold', 'lightskyblue', 'lightcoral']\n",
    "patches, texts = plt.pie(sizes, colors=colors, shadow=True, startangle=90)\n",
    "plt.legend(patches, labels, loc=\"best\")\n",
    "plt.axis('equal')\n",
    "plt.tight_layout()\n",
    "plt.show()"
   ]
  },
  {
   "cell_type": "code",
   "execution_count": null,
   "metadata": {
    "collapsed": true
   },
   "outputs": [],
   "source": []
  },
  {
   "cell_type": "code",
   "execution_count": null,
   "metadata": {
    "collapsed": true
   },
   "outputs": [],
   "source": []
  }
 ],
 "metadata": {
  "anaconda-cloud": {},
  "kernelspec": {
   "display_name": "Python 3",
   "language": "python",
   "name": "python3"
  },
  "language_info": {
   "codemirror_mode": {
    "name": "ipython",
    "version": 3
   },
   "file_extension": ".py",
   "mimetype": "text/x-python",
   "name": "python",
   "nbconvert_exporter": "python",
   "pygments_lexer": "ipython3",
   "version": "3.6.0"
  }
 },
 "nbformat": 4,
 "nbformat_minor": 1
}
