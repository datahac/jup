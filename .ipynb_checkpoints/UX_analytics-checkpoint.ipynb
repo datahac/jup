{
 "cells": [
  {
   "cell_type": "markdown",
   "metadata": {},
   "source": [
    "# iPython notebook - SS analysis - User groups\n",
    "Google Analytics data\n",
    "\n",
    "## 1. Import libraries"
   ]
  },
  {
   "cell_type": "code",
   "execution_count": 2,
   "metadata": {
    "collapsed": false
   },
   "outputs": [],
   "source": [
    "%matplotlib inline \n",
    "#this line above prepares IPython notebook for working with matplotlib\n",
    "\n",
    "\n",
    "#import libraries\n",
    "import numpy as np\n",
    "import scipy as sp #imports stats functions, amongst other things\n",
    "import matplotlib as mpl # this actually imports matplotlib\n",
    "import matplotlib.cm as cm #allows us easy access to colormaps\n",
    "import matplotlib.pyplot as plt #sets up plotting under plt\n",
    "import pandas as pd #lets us handle data as dataframes\n",
    "\n",
    "\n",
    "#sets up pandas table display\n",
    "pd.set_option('display.width', 500)\n",
    "pd.set_option('display.max_columns', 100)\n",
    "pd.set_option('display.notebook_repr_html', True)\n",
    "import seaborn as sns #sets up styles and gives us more plotting options\n"
   ]
  },
  {
   "cell_type": "markdown",
   "metadata": {},
   "source": [
    " 2. Settings"
   ]
  },
  {
   "cell_type": "code",
   "execution_count": null,
   "metadata": {
    "collapsed": true
   },
   "outputs": [],
   "source": [
    "# Time period 17th Jan - 16th April (arbitrary )\n",
    "\n",
    "# API credentials\n",
    "# Email address 705762800217-compute@developer.gserviceaccount.com\n",
    "# Key IDs 948ee8e2a420ef14a5d5a29bd35104fe2f1e6ed4\n",
    " "
   ]
  },
  {
   "cell_type": "markdown",
   "metadata": {},
   "source": [
    "3. Open saved file"
   ]
  },
  {
   "cell_type": "code",
   "execution_count": null,
   "metadata": {
    "collapsed": false
   },
   "outputs": [],
   "source": [
    "import csv\n",
    "f = open(\"TMRW_geo_loc_API.csv\")\n",
    "csv_f = csv.reader(f)\n",
    "for line in f: \n",
    "    print(line)\n",
    "    \n",
    "f.close()"
   ]
  },
  {
   "cell_type": "markdown",
   "metadata": {},
   "source": [
    " Check statistical validity of entries\n",
    "For example, we dont take anything with conversion  "
   ]
  },
  {
   "cell_type": "code",
   "execution_count": 3,
   "metadata": {
    "collapsed": false,
    "scrolled": true
   },
   "outputs": [
    {
     "data": {
      "text/html": [
       "<div>\n",
       "<table border=\"1\" class=\"dataframe\">\n",
       "  <thead>\n",
       "    <tr style=\"text-align: right;\">\n",
       "      <th></th>\n",
       "      <th>0</th>\n",
       "      <th>1</th>\n",
       "      <th>2</th>\n",
       "      <th>3</th>\n",
       "      <th>4</th>\n",
       "      <th>5</th>\n",
       "      <th>6</th>\n",
       "      <th>7</th>\n",
       "      <th>8</th>\n",
       "    </tr>\n",
       "  </thead>\n",
       "  <tbody>\n",
       "    <tr>\n",
       "      <th>0</th>\n",
       "      <td>City</td>\n",
       "      <td>Age</td>\n",
       "      <td>% New Sessions</td>\n",
       "      <td>Sessions</td>\n",
       "      <td>Bounce Rate</td>\n",
       "      <td>Avg. Session Duration</td>\n",
       "      <td>Goal 1 Completions</td>\n",
       "      <td>Goal 1 Conversion Rate</td>\n",
       "      <td>Pages / Session</td>\n",
       "    </tr>\n",
       "    <tr>\n",
       "      <th>1</th>\n",
       "      <td>(not set)</td>\n",
       "      <td>35-44</td>\n",
       "      <td>43.75</td>\n",
       "      <td>16</td>\n",
       "      <td>62.5</td>\n",
       "      <td>53.5</td>\n",
       "      <td>0</td>\n",
       "      <td>0</td>\n",
       "      <td>1.688</td>\n",
       "    </tr>\n",
       "    <tr>\n",
       "      <th>2</th>\n",
       "      <td>London</td>\n",
       "      <td>55-64</td>\n",
       "      <td>77.778</td>\n",
       "      <td>36</td>\n",
       "      <td>47.222</td>\n",
       "      <td>92.472</td>\n",
       "      <td>0</td>\n",
       "      <td>0</td>\n",
       "      <td>2.333</td>\n",
       "    </tr>\n",
       "    <tr>\n",
       "      <th>3</th>\n",
       "      <td>London</td>\n",
       "      <td>45-54</td>\n",
       "      <td>70.909</td>\n",
       "      <td>165</td>\n",
       "      <td>53.939</td>\n",
       "      <td>135.079</td>\n",
       "      <td>2</td>\n",
       "      <td>1.212</td>\n",
       "      <td>1.915</td>\n",
       "    </tr>\n",
       "    <tr>\n",
       "      <th>4</th>\n",
       "      <td>Croydon</td>\n",
       "      <td>45-54</td>\n",
       "      <td>65.854</td>\n",
       "      <td>82</td>\n",
       "      <td>48.78</td>\n",
       "      <td>167.707</td>\n",
       "      <td>1</td>\n",
       "      <td>1.22</td>\n",
       "      <td>2.049</td>\n",
       "    </tr>\n",
       "    <tr>\n",
       "      <th>5</th>\n",
       "      <td>London</td>\n",
       "      <td>35-44</td>\n",
       "      <td>69.014</td>\n",
       "      <td>426</td>\n",
       "      <td>53.756</td>\n",
       "      <td>119.549</td>\n",
       "      <td>12</td>\n",
       "      <td>2.817</td>\n",
       "      <td>1.962</td>\n",
       "    </tr>\n",
       "    <tr>\n",
       "      <th>6</th>\n",
       "      <td>London</td>\n",
       "      <td>25-34</td>\n",
       "      <td>66.623</td>\n",
       "      <td>758</td>\n",
       "      <td>59.235</td>\n",
       "      <td>103.788</td>\n",
       "      <td>22</td>\n",
       "      <td>2.902</td>\n",
       "      <td>1.856</td>\n",
       "    </tr>\n",
       "    <tr>\n",
       "      <th>7</th>\n",
       "      <td>Croydon</td>\n",
       "      <td>35-44</td>\n",
       "      <td>64.216</td>\n",
       "      <td>204</td>\n",
       "      <td>43.137</td>\n",
       "      <td>158.848</td>\n",
       "      <td>6</td>\n",
       "      <td>2.941</td>\n",
       "      <td>2.284</td>\n",
       "    </tr>\n",
       "    <tr>\n",
       "      <th>8</th>\n",
       "      <td>Croydon</td>\n",
       "      <td>55-64</td>\n",
       "      <td>74.194</td>\n",
       "      <td>31</td>\n",
       "      <td>51.613</td>\n",
       "      <td>62.323</td>\n",
       "      <td>1</td>\n",
       "      <td>3.226</td>\n",
       "      <td>1.677</td>\n",
       "    </tr>\n",
       "    <tr>\n",
       "      <th>9</th>\n",
       "      <td>Croydon</td>\n",
       "      <td>18-24</td>\n",
       "      <td>69.767</td>\n",
       "      <td>86</td>\n",
       "      <td>43.023</td>\n",
       "      <td>101.384</td>\n",
       "      <td>3</td>\n",
       "      <td>3.488</td>\n",
       "      <td>2.14</td>\n",
       "    </tr>\n",
       "    <tr>\n",
       "      <th>10</th>\n",
       "      <td>(not set)</td>\n",
       "      <td>25-34</td>\n",
       "      <td>75</td>\n",
       "      <td>24</td>\n",
       "      <td>62.5</td>\n",
       "      <td>75.542</td>\n",
       "      <td>1</td>\n",
       "      <td>4.167</td>\n",
       "      <td>1.583</td>\n",
       "    </tr>\n",
       "    <tr>\n",
       "      <th>11</th>\n",
       "      <td>Croydon</td>\n",
       "      <td>25-34</td>\n",
       "      <td>58.194</td>\n",
       "      <td>299</td>\n",
       "      <td>47.157</td>\n",
       "      <td>198.344</td>\n",
       "      <td>15</td>\n",
       "      <td>5.017</td>\n",
       "      <td>2.261</td>\n",
       "    </tr>\n",
       "    <tr>\n",
       "      <th>12</th>\n",
       "      <td>London</td>\n",
       "      <td>18-24</td>\n",
       "      <td>75.484</td>\n",
       "      <td>155</td>\n",
       "      <td>51.613</td>\n",
       "      <td>172.226</td>\n",
       "      <td>8</td>\n",
       "      <td>5.161</td>\n",
       "      <td>2.187</td>\n",
       "    </tr>\n",
       "    <tr>\n",
       "      <th>13</th>\n",
       "      <td>London</td>\n",
       "      <td>65+</td>\n",
       "      <td>85.714</td>\n",
       "      <td>14</td>\n",
       "      <td>71.429</td>\n",
       "      <td>116.857</td>\n",
       "      <td>1</td>\n",
       "      <td>7.143</td>\n",
       "      <td>1.286</td>\n",
       "    </tr>\n",
       "    <tr>\n",
       "      <th>14</th>\n",
       "      <td>Hove</td>\n",
       "      <td>35-44</td>\n",
       "      <td>75</td>\n",
       "      <td>12</td>\n",
       "      <td>16.667</td>\n",
       "      <td>69.417</td>\n",
       "      <td>1</td>\n",
       "      <td>8.333</td>\n",
       "      <td>2.167</td>\n",
       "    </tr>\n",
       "  </tbody>\n",
       "</table>\n",
       "</div>"
      ],
      "text/plain": [
       "            0      1               2         3            4                      5                   6                       7                8\n",
       "0        City    Age  % New Sessions  Sessions  Bounce Rate  Avg. Session Duration  Goal 1 Completions  Goal 1 Conversion Rate  Pages / Session\n",
       "1   (not set)  35-44           43.75        16         62.5                   53.5                   0                       0            1.688\n",
       "2      London  55-64          77.778        36       47.222                 92.472                   0                       0            2.333\n",
       "3      London  45-54          70.909       165       53.939                135.079                   2                   1.212            1.915\n",
       "4     Croydon  45-54          65.854        82        48.78                167.707                   1                    1.22            2.049\n",
       "5      London  35-44          69.014       426       53.756                119.549                  12                   2.817            1.962\n",
       "6      London  25-34          66.623       758       59.235                103.788                  22                   2.902            1.856\n",
       "7     Croydon  35-44          64.216       204       43.137                158.848                   6                   2.941            2.284\n",
       "8     Croydon  55-64          74.194        31       51.613                 62.323                   1                   3.226            1.677\n",
       "9     Croydon  18-24          69.767        86       43.023                101.384                   3                   3.488             2.14\n",
       "10  (not set)  25-34              75        24         62.5                 75.542                   1                   4.167            1.583\n",
       "11    Croydon  25-34          58.194       299       47.157                198.344                  15                   5.017            2.261\n",
       "12     London  18-24          75.484       155       51.613                172.226                   8                   5.161            2.187\n",
       "13     London    65+          85.714        14       71.429                116.857                   1                   7.143            1.286\n",
       "14       Hove  35-44              75        12       16.667                 69.417                   1                   8.333            2.167"
      ]
     },
     "execution_count": 3,
     "metadata": {},
     "output_type": "execute_result"
    }
   ],
   "source": [
    "\n",
    "TMRW_users= pd.read_csv(\"TMRW_geo_loc_API.csv\")\n",
    "TMRW_users.City=='London'\n"
   ]
  },
  {
   "cell_type": "code",
   "execution_count": 112,
   "metadata": {
    "collapsed": false
   },
   "outputs": [
    {
     "data": {
      "text/plain": [
       "(14, 9)"
      ]
     },
     "execution_count": 112,
     "metadata": {},
     "output_type": "execute_result"
    }
   ],
   "source": [
    "TMRW_users_city = TMRW_users.loc['City':,:]\n",
    "TMRW_users.shape\n"
   ]
  },
  {
   "cell_type": "markdown",
   "metadata": {},
   "source": [
    "Algorithm of actions:\n",
    "1. Define key metrics\n",
    "Key_metrics = location/age. Can be location/gender or age/gender also. For them other API call needs to be made.\n",
    "2. Determine buckets\n",
    "Take Key_metrics and check volume of traffic and conversions. Which is the most extreme?\n",
    "Conversion bucket = new array \n",
    "TMRW_users_city.max=TMRW_users_city.max()"
   ]
  },
  {
   "cell_type": "code",
   "execution_count": 92,
   "metadata": {
    "collapsed": false
   },
   "outputs": [
    {
     "data": {
      "text/plain": [
       "758"
      ]
     },
     "execution_count": 92,
     "metadata": {},
     "output_type": "execute_result"
    }
   ],
   "source": [
    "TMRW_users_city_max = TMRW_users_city.max()\n",
    "TMRW_users_city_max"
   ]
  },
  {
   "cell_type": "code",
   "execution_count": 98,
   "metadata": {
    "collapsed": false
   },
   "outputs": [
    {
     "data": {
      "image/png": "[encoded data removed]",
      "text/plain": [
       "<matplotlib.figure.Figure at 0x11638c3c8>"
      ]
     },
     "metadata": {},
     "output_type": "display_data"
    }
   ],
   "source": [
    "labels = 'A', 'B', 'C', 'D'\n",
    "sizes = [40, 20, 20, 20]\n",
    "colors = ['yellowgreen', 'gold', 'lightskyblue', 'lightcoral']\n",
    "explode = (0, 0.1, 0, 0)\n",
    "plt.pie(sizes, explode=explode, labels=labels, colors=colors,\n",
    "        autopct='%1.1f%%', shadow=True, startangle=90)\n",
    "plt.axis('equal')\n",
    "plt.title('Cities by conversion')\n",
    "plt.show()"
   ]
  },
  {
   "cell_type": "code",
   "execution_count": null,
   "metadata": {
    "collapsed": true
   },
   "outputs": [],
   "source": []
  }
 ],
 "metadata": {
  "anaconda-cloud": {},
  "kernelspec": {
   "display_name": "Python [conda root]",
   "language": "python",
   "name": "conda-root-py"
  },
  "language_info": {
   "codemirror_mode": {
    "name": "ipython",
    "version": 3
   },
   "file_extension": ".py",
   "mimetype": "text/x-python",
   "name": "python",
   "nbconvert_exporter": "python",
   "pygments_lexer": "ipython3",
   "version": "3.5.2"
  }
 },
 "nbformat": 4,
 "nbformat_minor": 0
}
