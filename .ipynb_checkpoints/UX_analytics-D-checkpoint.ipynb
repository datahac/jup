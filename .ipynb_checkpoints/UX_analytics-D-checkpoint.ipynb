{
 "cells": [
  {
   "cell_type": "code",
   "execution_count": null,
   "metadata": {
    "collapsed": true
   },
   "outputs": [],
   "source": []
  },
  {
   "cell_type": "code",
   "execution_count": null,
   "metadata": {
    "collapsed": true
   },
   "outputs": [],
   "source": []
  },
  {
   "cell_type": "code",
   "execution_count": null,
   "metadata": {
    "collapsed": true
   },
   "outputs": [],
   "source": []
  },
  {
   "cell_type": "raw",
   "metadata": {},
   "source": []
  },
  {
   "cell_type": "markdown",
   "metadata": {},
   "source": [
    "# iPython notebook - Daryna analysis - Conversions by website pages\n",
    "\n",
    "\n",
    "## 1. Import libraries"
   ]
  },
  {
   "cell_type": "code",
   "execution_count": 53,
   "metadata": {
    "collapsed": true
   },
   "outputs": [],
   "source": [
    "%matplotlib inline \n",
    "\n",
    "import numpy as np\n",
    "import scipy as sp\n",
    "import matplotlib as mpl\n",
    "import matplotlib.cm as cm\n",
    "import matplotlib.pyplot as plt\n",
    "import pandas as pd\n",
    "\n",
    "pd.set_option('display.width', 500)\n",
    "pd.set_option('display.max_columns', 100)\n",
    "pd.set_option('display.notebook_repr_html', True)\n",
    "import seaborn as sns #sets up styles and gives us more plotting options\n"
   ]
  },
  {
   "cell_type": "markdown",
   "metadata": {},
   "source": [
    " 2. Settings"
   ]
  },
  {
   "cell_type": "code",
   "execution_count": 54,
   "metadata": {
    "collapsed": true
   },
   "outputs": [],
   "source": [
    "# Time period 24th Jan - 24th April (arbitrary )\n",
    "\n",
    "# API credentials\n",
    "# Email address 705762800217-compute@developer.gserviceaccount.com\n",
    "# Key IDs 948ee8e2a420ef14a5d5a29bd35104fe2f1e6ed4\n",
    " "
   ]
  },
  {
   "cell_type": "code",
   "execution_count": 55,
   "metadata": {
    "collapsed": true
   },
   "outputs": [],
   "source": [
    "# open file. It is requested via API explorer using request parameters:\n",
    "\n",
    "#Account: TMRW Tech Hub\n",
    "#Property: TMRW\n",
    "#View: All Web Site Data\n",
    "#ids: ga:123303369\n",
    "#start-date: 2017-01-24\n",
    "#end-date: 2017-04-24\n",
    "\n",
    "#metrics\n",
    "#ga:sessions\n",
    "#ga:sessionsWithEvent\n",
    "\n",
    "#dimensions\n",
    "#ga:pagePath\n",
    "\n",
    "#sort\n",
    "#-ga:sessionsWithEvent\n",
    "\n",
    "#filter\n",
    "#ga:sessions>10\n",
    "\n",
    "\n"
   ]
  },
  {
   "cell_type": "code",
   "execution_count": 56,
   "metadata": {
    "collapsed": false,
    "scrolled": true
   },
   "outputs": [
    {
     "data": {
      "text/html": [
       "<div>\n",
       "<table border=\"1\" class=\"dataframe\">\n",
       "  <thead>\n",
       "    <tr style=\"text-align: right;\">\n",
       "      <th></th>\n",
       "      <th>ga:pagePath</th>\n",
       "      <th>rate</th>\n",
       "    </tr>\n",
       "  </thead>\n",
       "  <tbody>\n",
       "    <tr>\n",
       "      <th>0</th>\n",
       "      <td>'/</td>\n",
       "      <td>0.0185</td>\n",
       "    </tr>\n",
       "    <tr>\n",
       "      <th>1</th>\n",
       "      <td>'/TMRW_FAQs.php</td>\n",
       "      <td>0.2600</td>\n",
       "    </tr>\n",
       "    <tr>\n",
       "      <th>2</th>\n",
       "      <td>'/TMRW_Byte_Cafe.php</td>\n",
       "      <td>0.1055</td>\n",
       "    </tr>\n",
       "    <tr>\n",
       "      <th>3</th>\n",
       "      <td>'/TMRW_the_team.php</td>\n",
       "      <td>0.1010</td>\n",
       "    </tr>\n",
       "    <tr>\n",
       "      <th>4</th>\n",
       "      <td>'/trainstrikes.php</td>\n",
       "      <td>0.0000</td>\n",
       "    </tr>\n",
       "    <tr>\n",
       "      <th>5</th>\n",
       "      <td>'/voteforbyte.php</td>\n",
       "      <td>0.0000</td>\n",
       "    </tr>\n",
       "  </tbody>\n",
       "</table>\n",
       "</div>"
      ],
      "text/plain": [
       "            ga:pagePath    rate\n",
       "0                    '/  0.0185\n",
       "1       '/TMRW_FAQs.php  0.2600\n",
       "2  '/TMRW_Byte_Cafe.php  0.1055\n",
       "3   '/TMRW_the_team.php  0.1010\n",
       "4    '/trainstrikes.php  0.0000\n",
       "5     '/voteforbyte.php  0.0000"
      ]
     },
     "execution_count": 56,
     "metadata": {},
     "output_type": "execute_result"
    }
   ],
   "source": [
    "# Open file\n",
    "# original file exported from GA includes ga:pagePath,ga:sessions,ga:sessionsWithEvent\n",
    "# Calculate \"rate\" as \"Sessions with event\"/\"Sessions\" for each page.\n",
    "\n",
    "TMRW_events= pd.read_csv(\"C:\\ProgramData\\Anaconda3/tmrw_events.csv\")\n",
    "TMRW_events\n",
    "\n"
   ]
  },
  {
   "cell_type": "code",
   "execution_count": 57,
   "metadata": {
    "collapsed": false
   },
   "outputs": [
    {
     "data": {
      "text/html": [
       "<div>\n",
       "<table border=\"1\" class=\"dataframe\">\n",
       "  <thead>\n",
       "    <tr style=\"text-align: right;\">\n",
       "      <th></th>\n",
       "      <th>page</th>\n",
       "      <th>rate</th>\n",
       "    </tr>\n",
       "  </thead>\n",
       "  <tbody>\n",
       "    <tr>\n",
       "      <th>0</th>\n",
       "      <td>'/</td>\n",
       "      <td>0.0185</td>\n",
       "    </tr>\n",
       "    <tr>\n",
       "      <th>1</th>\n",
       "      <td>'/TMRW_FAQs.php</td>\n",
       "      <td>0.2600</td>\n",
       "    </tr>\n",
       "    <tr>\n",
       "      <th>2</th>\n",
       "      <td>'/TMRW_Byte_Cafe.php</td>\n",
       "      <td>0.1055</td>\n",
       "    </tr>\n",
       "    <tr>\n",
       "      <th>3</th>\n",
       "      <td>'/TMRW_the_team.php</td>\n",
       "      <td>0.1010</td>\n",
       "    </tr>\n",
       "    <tr>\n",
       "      <th>4</th>\n",
       "      <td>'/trainstrikes.php</td>\n",
       "      <td>0.0000</td>\n",
       "    </tr>\n",
       "    <tr>\n",
       "      <th>5</th>\n",
       "      <td>'/voteforbyte.php</td>\n",
       "      <td>0.0000</td>\n",
       "    </tr>\n",
       "  </tbody>\n",
       "</table>\n",
       "</div>"
      ],
      "text/plain": [
       "                   page    rate\n",
       "0                    '/  0.0185\n",
       "1       '/TMRW_FAQs.php  0.2600\n",
       "2  '/TMRW_Byte_Cafe.php  0.1055\n",
       "3   '/TMRW_the_team.php  0.1010\n",
       "4    '/trainstrikes.php  0.0000\n",
       "5     '/voteforbyte.php  0.0000"
      ]
     },
     "execution_count": 57,
     "metadata": {},
     "output_type": "execute_result"
    }
   ],
   "source": [
    "TMRW_events.columns=[\"page\",\"rate\"]\n",
    "TMRW_events"
   ]
  },
  {
   "cell_type": "code",
   "execution_count": 58,
   "metadata": {
    "collapsed": false
   },
   "outputs": [
    {
     "data": {
      "text/html": [
       "<div>\n",
       "<table border=\"1\" class=\"dataframe\">\n",
       "  <thead>\n",
       "    <tr style=\"text-align: right;\">\n",
       "      <th></th>\n",
       "      <th>page</th>\n",
       "      <th>rate</th>\n",
       "    </tr>\n",
       "  </thead>\n",
       "  <tbody>\n",
       "    <tr>\n",
       "      <th>0</th>\n",
       "      <td>'/</td>\n",
       "      <td>0.0185</td>\n",
       "    </tr>\n",
       "    <tr>\n",
       "      <th>1</th>\n",
       "      <td>'/TMRW_FAQs.php</td>\n",
       "      <td>0.2600</td>\n",
       "    </tr>\n",
       "    <tr>\n",
       "      <th>2</th>\n",
       "      <td>'/TMRW_Byte_Cafe.php</td>\n",
       "      <td>0.1055</td>\n",
       "    </tr>\n",
       "    <tr>\n",
       "      <th>3</th>\n",
       "      <td>'/TMRW_the_team.php</td>\n",
       "      <td>0.1010</td>\n",
       "    </tr>\n",
       "  </tbody>\n",
       "</table>\n",
       "</div>"
      ],
      "text/plain": [
       "                   page    rate\n",
       "0                    '/  0.0185\n",
       "1       '/TMRW_FAQs.php  0.2600\n",
       "2  '/TMRW_Byte_Cafe.php  0.1055\n",
       "3   '/TMRW_the_team.php  0.1010"
      ]
     },
     "execution_count": 58,
     "metadata": {},
     "output_type": "execute_result"
    }
   ],
   "source": [
    "TMRW_events_filter = TMRW_events[TMRW_events.rate > 0]\n",
    "TMRW_events_filter"
   ]
  },
  {
   "cell_type": "code",
   "execution_count": 59,
   "metadata": {
    "collapsed": false
   },
   "outputs": [
    {
     "data": {
      "text/html": [
       "<div>\n",
       "<table border=\"1\" class=\"dataframe\">\n",
       "  <thead>\n",
       "    <tr style=\"text-align: right;\">\n",
       "      <th></th>\n",
       "      <th>rate</th>\n",
       "    </tr>\n",
       "  </thead>\n",
       "  <tbody>\n",
       "    <tr>\n",
       "      <th>count</th>\n",
       "      <td>4.000000</td>\n",
       "    </tr>\n",
       "    <tr>\n",
       "      <th>mean</th>\n",
       "      <td>0.121250</td>\n",
       "    </tr>\n",
       "    <tr>\n",
       "      <th>std</th>\n",
       "      <td>0.100776</td>\n",
       "    </tr>\n",
       "    <tr>\n",
       "      <th>min</th>\n",
       "      <td>0.018500</td>\n",
       "    </tr>\n",
       "    <tr>\n",
       "      <th>25%</th>\n",
       "      <td>0.080375</td>\n",
       "    </tr>\n",
       "    <tr>\n",
       "      <th>50%</th>\n",
       "      <td>0.103250</td>\n",
       "    </tr>\n",
       "    <tr>\n",
       "      <th>75%</th>\n",
       "      <td>0.144125</td>\n",
       "    </tr>\n",
       "    <tr>\n",
       "      <th>max</th>\n",
       "      <td>0.260000</td>\n",
       "    </tr>\n",
       "  </tbody>\n",
       "</table>\n",
       "</div>"
      ],
      "text/plain": [
       "           rate\n",
       "count  4.000000\n",
       "mean   0.121250\n",
       "std    0.100776\n",
       "min    0.018500\n",
       "25%    0.080375\n",
       "50%    0.103250\n",
       "75%    0.144125\n",
       "max    0.260000"
      ]
     },
     "execution_count": 59,
     "metadata": {},
     "output_type": "execute_result"
    }
   ],
   "source": [
    "TMRW_events_filter.describe()"
   ]
  },
  {
   "cell_type": "code",
   "execution_count": 64,
   "metadata": {
    "collapsed": false,
    "scrolled": false
   },
   "outputs": [
    {
     "data": {
      "text/html": [
       "\n",
       "    <div class=\"bk-root\">\n",
       "        <a href=\"http://bokeh.pydata.org\" target=\"_blank\" class=\"bk-logo bk-logo-small bk-logo-notebook\"></a>\n",
       "        <span id=\"d9b3361b-eddb-4dc8-b4df-6b517274f0d6\">Loading BokehJS ...</span>\n",
       "    </div>"
      ]
     },
     "metadata": {},
     "output_type": "display_data"
    },
    {
     "data": {
      "application/javascript": [
       "\n",
       "(function(global) {\n",
       "  function now() {\n",
       "    return new Date();\n",
       "  }\n",
       "\n",
       "  var force = true;\n",
       "\n",
       "  if (typeof (window._bokeh_onload_callbacks) === \"undefined\" || force === true) {\n",
       "    window._bokeh_onload_callbacks = [];\n",
       "    window._bokeh_is_loading = undefined;\n",
       "  }\n",
       "\n",
       "\n",
       "  \n",
       "  if (typeof (window._bokeh_timeout) === \"undefined\" || force === true) {\n",
       "    window._bokeh_timeout = Date.now() + 5000;\n",
       "    window._bokeh_failed_load = false;\n",
       "  }\n",
       "\n",
       "  var NB_LOAD_WARNING = {'data': {'text/html':\n",
       "     \"<div style='background-color: #fdd'>\\n\"+\n",
       "     \"<p>\\n\"+\n",
       "     \"BokehJS does not appear to have successfully loaded. If loading BokehJS from CDN, this \\n\"+\n",
       "     \"may be due to a slow or bad network connection. Possible fixes:\\n\"+\n",
       "     \"</p>\\n\"+\n",
       "     \"<ul>\\n\"+\n",
       "     \"<li>re-rerun `output_notebook()` to attempt to load from CDN again, or</li>\\n\"+\n",
       "     \"<li>use INLINE resources instead, as so:</li>\\n\"+\n",
       "     \"</ul>\\n\"+\n",
       "     \"<code>\\n\"+\n",
       "     \"from bokeh.resources import INLINE\\n\"+\n",
       "     \"output_notebook(resources=INLINE)\\n\"+\n",
       "     \"</code>\\n\"+\n",
       "     \"</div>\"}};\n",
       "\n",
       "  function display_loaded() {\n",
       "    if (window.Bokeh !== undefined) {\n",
       "      document.getElementById(\"d9b3361b-eddb-4dc8-b4df-6b517274f0d6\").textContent = \"BokehJS successfully loaded.\";\n",
       "    } else if (Date.now() < window._bokeh_timeout) {\n",
       "      setTimeout(display_loaded, 100)\n",
       "    }\n",
       "  }\n",
       "\n",
       "  function run_callbacks() {\n",
       "    window._bokeh_onload_callbacks.forEach(function(callback) { callback() });\n",
       "    delete window._bokeh_onload_callbacks\n",
       "    console.info(\"Bokeh: all callbacks have finished\");\n",
       "  }\n",
       "\n",
       "  function load_libs(js_urls, callback) {\n",
       "    window._bokeh_onload_callbacks.push(callback);\n",
       "    if (window._bokeh_is_loading > 0) {\n",
       "      console.log(\"Bokeh: BokehJS is being loaded, scheduling callback at\", now());\n",
       "      return null;\n",
       "    }\n",
       "    if (js_urls == null || js_urls.length === 0) {\n",
       "      run_callbacks();\n",
       "      return null;\n",
       "    }\n",
       "    console.log(\"Bokeh: BokehJS not loaded, scheduling load and callback at\", now());\n",
       "    window._bokeh_is_loading = js_urls.length;\n",
       "    for (var i = 0; i < js_urls.length; i++) {\n",
       "      var url = js_urls[i];\n",
       "      var s = document.createElement('script');\n",
       "      s.src = url;\n",
       "      s.async = false;\n",
       "      s.onreadystatechange = s.onload = function() {\n",
       "        window._bokeh_is_loading--;\n",
       "        if (window._bokeh_is_loading === 0) {\n",
       "          console.log(\"Bokeh: all BokehJS libraries loaded\");\n",
       "          run_callbacks()\n",
       "        }\n",
       "      };\n",
       "      s.onerror = function() {\n",
       "        console.warn(\"failed to load library \" + url);\n",
       "      };\n",
       "      console.log(\"Bokeh: injecting script tag for BokehJS library: \", url);\n",
       "      document.getElementsByTagName(\"head\")[0].appendChild(s);\n",
       "    }\n",
       "  };var element = document.getElementById(\"d9b3361b-eddb-4dc8-b4df-6b517274f0d6\");\n",
       "  if (element == null) {\n",
       "    console.log(\"Bokeh: ERROR: autoload.js configured with elementid 'd9b3361b-eddb-4dc8-b4df-6b517274f0d6' but no matching script tag was found. \")\n",
       "    return false;\n",
       "  }\n",
       "\n",
       "  var js_urls = [\"https://cdn.pydata.org/bokeh/release/bokeh-0.12.4.min.js\", \"https://cdn.pydata.org/bokeh/release/bokeh-widgets-0.12.4.min.js\"];\n",
       "\n",
       "  var inline_js = [\n",
       "    function(Bokeh) {\n",
       "      Bokeh.set_log_level(\"info\");\n",
       "    },\n",
       "    \n",
       "    function(Bokeh) {\n",
       "      \n",
       "      document.getElementById(\"d9b3361b-eddb-4dc8-b4df-6b517274f0d6\").textContent = \"BokehJS is loading...\";\n",
       "    },\n",
       "    function(Bokeh) {\n",
       "      console.log(\"Bokeh: injecting CSS: https://cdn.pydata.org/bokeh/release/bokeh-0.12.4.min.css\");\n",
       "      Bokeh.embed.inject_css(\"https://cdn.pydata.org/bokeh/release/bokeh-0.12.4.min.css\");\n",
       "      console.log(\"Bokeh: injecting CSS: https://cdn.pydata.org/bokeh/release/bokeh-widgets-0.12.4.min.css\");\n",
       "      Bokeh.embed.inject_css(\"https://cdn.pydata.org/bokeh/release/bokeh-widgets-0.12.4.min.css\");\n",
       "    }\n",
       "  ];\n",
       "\n",
       "  function run_inline_js() {\n",
       "    \n",
       "    if ((window.Bokeh !== undefined) || (force === true)) {\n",
       "      for (var i = 0; i < inline_js.length; i++) {\n",
       "        inline_js[i](window.Bokeh);\n",
       "      }if (force === true) {\n",
       "        display_loaded();\n",
       "      }} else if (Date.now() < window._bokeh_timeout) {\n",
       "      setTimeout(run_inline_js, 100);\n",
       "    } else if (!window._bokeh_failed_load) {\n",
       "      console.log(\"Bokeh: BokehJS failed to load within specified timeout.\");\n",
       "      window._bokeh_failed_load = true;\n",
       "    } else if (force !== true) {\n",
       "      var cell = $(document.getElementById(\"d9b3361b-eddb-4dc8-b4df-6b517274f0d6\")).parents('.cell').data().cell;\n",
       "      cell.output_area.append_execute_result(NB_LOAD_WARNING)\n",
       "    }\n",
       "\n",
       "  }\n",
       "\n",
       "  if (window._bokeh_is_loading === 0) {\n",
       "    console.log(\"Bokeh: BokehJS loaded, going straight to plotting\");\n",
       "    run_inline_js();\n",
       "  } else {\n",
       "    load_libs(js_urls, function() {\n",
       "      console.log(\"Bokeh: BokehJS plotting callback run at\", now());\n",
       "      run_inline_js();\n",
       "    });\n",
       "  }\n",
       "}(this));"
      ]
     },
     "metadata": {},
     "output_type": "display_data"
    },
    {
     "data": {
      "text/html": [
       "\n",
       "\n",
       "    <div class=\"bk-root\">\n",
       "        <div class=\"bk-plotdiv\" id=\"6a8afa06-164f-4548-a1d7-b6d9df429705\"></div>\n",
       "    </div>\n",
       "<script type=\"text/javascript\">\n",
       "  \n",
       "  (function(global) {\n",
       "    function now() {\n",
       "      return new Date();\n",
       "    }\n",
       "  \n",
       "    var force = false;\n",
       "  \n",
       "    if (typeof (window._bokeh_onload_callbacks) === \"undefined\" || force === true) {\n",
       "      window._bokeh_onload_callbacks = [];\n",
       "      window._bokeh_is_loading = undefined;\n",
       "    }\n",
       "  \n",
       "  \n",
       "    \n",
       "    if (typeof (window._bokeh_timeout) === \"undefined\" || force === true) {\n",
       "      window._bokeh_timeout = Date.now() + 0;\n",
       "      window._bokeh_failed_load = false;\n",
       "    }\n",
       "  \n",
       "    var NB_LOAD_WARNING = {'data': {'text/html':\n",
       "       \"<div style='background-color: #fdd'>\\n\"+\n",
       "       \"<p>\\n\"+\n",
       "       \"BokehJS does not appear to have successfully loaded. If loading BokehJS from CDN, this \\n\"+\n",
       "       \"may be due to a slow or bad network connection. Possible fixes:\\n\"+\n",
       "       \"</p>\\n\"+\n",
       "       \"<ul>\\n\"+\n",
       "       \"<li>re-rerun `output_notebook()` to attempt to load from CDN again, or</li>\\n\"+\n",
       "       \"<li>use INLINE resources instead, as so:</li>\\n\"+\n",
       "       \"</ul>\\n\"+\n",
       "       \"<code>\\n\"+\n",
       "       \"from bokeh.resources import INLINE\\n\"+\n",
       "       \"output_notebook(resources=INLINE)\\n\"+\n",
       "       \"</code>\\n\"+\n",
       "       \"</div>\"}};\n",
       "  \n",
       "    function display_loaded() {\n",
       "      if (window.Bokeh !== undefined) {\n",
       "        document.getElementById(\"6a8afa06-164f-4548-a1d7-b6d9df429705\").textContent = \"BokehJS successfully loaded.\";\n",
       "      } else if (Date.now() < window._bokeh_timeout) {\n",
       "        setTimeout(display_loaded, 100)\n",
       "      }\n",
       "    }\n",
       "  \n",
       "    function run_callbacks() {\n",
       "      window._bokeh_onload_callbacks.forEach(function(callback) { callback() });\n",
       "      delete window._bokeh_onload_callbacks\n",
       "      console.info(\"Bokeh: all callbacks have finished\");\n",
       "    }\n",
       "  \n",
       "    function load_libs(js_urls, callback) {\n",
       "      window._bokeh_onload_callbacks.push(callback);\n",
       "      if (window._bokeh_is_loading > 0) {\n",
       "        console.log(\"Bokeh: BokehJS is being loaded, scheduling callback at\", now());\n",
       "        return null;\n",
       "      }\n",
       "      if (js_urls == null || js_urls.length === 0) {\n",
       "        run_callbacks();\n",
       "        return null;\n",
       "      }\n",
       "      console.log(\"Bokeh: BokehJS not loaded, scheduling load and callback at\", now());\n",
       "      window._bokeh_is_loading = js_urls.length;\n",
       "      for (var i = 0; i < js_urls.length; i++) {\n",
       "        var url = js_urls[i];\n",
       "        var s = document.createElement('script');\n",
       "        s.src = url;\n",
       "        s.async = false;\n",
       "        s.onreadystatechange = s.onload = function() {\n",
       "          window._bokeh_is_loading--;\n",
       "          if (window._bokeh_is_loading === 0) {\n",
       "            console.log(\"Bokeh: all BokehJS libraries loaded\");\n",
       "            run_callbacks()\n",
       "          }\n",
       "        };\n",
       "        s.onerror = function() {\n",
       "          console.warn(\"failed to load library \" + url);\n",
       "        };\n",
       "        console.log(\"Bokeh: injecting script tag for BokehJS library: \", url);\n",
       "        document.getElementsByTagName(\"head\")[0].appendChild(s);\n",
       "      }\n",
       "    };var element = document.getElementById(\"6a8afa06-164f-4548-a1d7-b6d9df429705\");\n",
       "    if (element == null) {\n",
       "      console.log(\"Bokeh: ERROR: autoload.js configured with elementid '6a8afa06-164f-4548-a1d7-b6d9df429705' but no matching script tag was found. \")\n",
       "      return false;\n",
       "    }\n",
       "  \n",
       "    var js_urls = [];\n",
       "  \n",
       "    var inline_js = [\n",
       "      function(Bokeh) {\n",
       "        (function() {\n",
       "          var fn = function() {\n",
       "            var docs_json = {\"a915f3e0-7374-4889-9fe2-0fe2da84c49b\":{\"roots\":{\"references\":[{\"attributes\":{\"callback\":null,\"column_names\":[\"x\",\"y\",\"width\",\"height\",\"color\",\"fill_alpha\",\"line_color\",\"line_alpha\",\"label\"],\"data\":{\"chart_index\":[{\"page\":\"'/TMRW_the_team.php\"}],\"color\":[\"#f22c40\"],\"fill_alpha\":[0.8],\"height\":[0.10099999999999999],\"label\":[{\"page\":\"'/TMRW_the_team.php\"}],\"line_alpha\":[1.0],\"line_color\":[\"white\"],\"page\":[\"'/TMRW_the_team.php\"],\"width\":[0.8],\"x\":[\"'/TMRW_the_team.php\"],\"y\":[0.050499999999999996]}},\"id\":\"37ce2c92-feb4-4104-baab-b539d9f93ade\",\"type\":\"ColumnDataSource\"},{\"attributes\":{\"callback\":null,\"factors\":[\"'/\",\"'/TMRW_Byte_Cafe.php\",\"'/TMRW_FAQs.php\",\"'/TMRW_the_team.php\"]},\"id\":\"d4bced67-190e-4af0-afd2-a64e3299ea47\",\"type\":\"FactorRange\"},{\"attributes\":{\"bottom_units\":\"screen\",\"fill_alpha\":{\"value\":0.5},\"fill_color\":{\"value\":\"lightgrey\"},\"left_units\":\"screen\",\"level\":\"overlay\",\"line_alpha\":{\"value\":1.0},\"line_color\":{\"value\":\"black\"},\"line_dash\":[4,4],\"line_width\":{\"value\":2},\"plot\":null,\"render_mode\":\"css\",\"right_units\":\"screen\",\"top_units\":\"screen\"},\"id\":\"947d3dbe-203b-4679-a53f-56ae8a190b4c\",\"type\":\"BoxAnnotation\"},{\"attributes\":{\"data_source\":{\"id\":\"1d6f6097-ca3b-4d75-b775-2ba718c2e40f\",\"type\":\"ColumnDataSource\"},\"glyph\":{\"id\":\"116a28a5-2c47-453c-b335-e00a51bb653c\",\"type\":\"Rect\"},\"hover_glyph\":null,\"nonselection_glyph\":null,\"selection_glyph\":null},\"id\":\"46d0e7bb-e016-4e53-8c1f-5cdc2b53577c\",\"type\":\"GlyphRenderer\"},{\"attributes\":{\"label\":{\"value\":\"'/\"},\"renderers\":[{\"id\":\"e100060b-6c54-4bf0-885f-ef547d20b1fe\",\"type\":\"GlyphRenderer\"}]},\"id\":\"2955f705-837f-4287-9a75-7e8a3f7212ef\",\"type\":\"LegendItem\"},{\"attributes\":{\"callback\":null,\"column_names\":[\"x\",\"y\",\"width\",\"height\",\"color\",\"fill_alpha\",\"line_color\",\"line_alpha\",\"label\"],\"data\":{\"chart_index\":[{\"page\":\"'/TMRW_FAQs.php\"}],\"color\":[\"#f22c40\"],\"fill_alpha\":[0.8],\"height\":[0.26],\"label\":[{\"page\":\"'/TMRW_FAQs.php\"}],\"line_alpha\":[1.0],\"line_color\":[\"white\"],\"page\":[\"'/TMRW_FAQs.php\"],\"width\":[0.8],\"x\":[\"'/TMRW_FAQs.php\"],\"y\":[0.13]}},\"id\":\"1d6f6097-ca3b-4d75-b775-2ba718c2e40f\",\"type\":\"ColumnDataSource\"},{\"attributes\":{\"label\":{\"value\":\"'/TMRW_Byte_Cafe.php\"},\"renderers\":[{\"id\":\"9d5bcae1-1d25-4b69-bfbf-5291c6c80772\",\"type\":\"GlyphRenderer\"}]},\"id\":\"c1b9e24d-7427-4c02-ae34-3eb6c334ec04\",\"type\":\"LegendItem\"},{\"attributes\":{\"callback\":null,\"end\":0.273},\"id\":\"633e2164-0d51-42dc-804b-7ee7e131ac3f\",\"type\":\"Range1d\"},{\"attributes\":{\"fill_alpha\":{\"field\":\"fill_alpha\"},\"fill_color\":{\"field\":\"color\"},\"height\":{\"field\":\"height\",\"units\":\"data\"},\"line_color\":{\"field\":\"line_color\"},\"width\":{\"field\":\"width\",\"units\":\"data\"},\"x\":{\"field\":\"x\"},\"y\":{\"field\":\"y\"}},\"id\":\"8187092c-f599-40cd-be70-d162f63daa82\",\"type\":\"Rect\"},{\"attributes\":{\"fill_alpha\":{\"field\":\"fill_alpha\"},\"fill_color\":{\"field\":\"color\"},\"height\":{\"field\":\"height\",\"units\":\"data\"},\"line_color\":{\"field\":\"line_color\"},\"width\":{\"field\":\"width\",\"units\":\"data\"},\"x\":{\"field\":\"x\"},\"y\":{\"field\":\"y\"}},\"id\":\"116a28a5-2c47-453c-b335-e00a51bb653c\",\"type\":\"Rect\"},{\"attributes\":{\"fill_alpha\":{\"field\":\"fill_alpha\"},\"fill_color\":{\"field\":\"color\"},\"height\":{\"field\":\"height\",\"units\":\"data\"},\"line_color\":{\"field\":\"line_color\"},\"width\":{\"field\":\"width\",\"units\":\"data\"},\"x\":{\"field\":\"x\"},\"y\":{\"field\":\"y\"}},\"id\":\"9e992478-bf71-4e44-99d9-904e13ac54d9\",\"type\":\"Rect\"},{\"attributes\":{},\"id\":\"eb8b4a2f-2090-4311-b367-e1f77c668a9a\",\"type\":\"BasicTicker\"},{\"attributes\":{\"active_drag\":\"auto\",\"active_scroll\":\"auto\",\"active_tap\":\"auto\",\"tools\":[{\"id\":\"4ee1253f-8502-4f69-8579-574b5692c9f9\",\"type\":\"PanTool\"},{\"id\":\"149c059c-8ddd-41d8-9814-6a20ac2352f0\",\"type\":\"WheelZoomTool\"},{\"id\":\"609492e7-e063-4480-8665-d969667c3fcf\",\"type\":\"BoxZoomTool\"},{\"id\":\"95aafd48-1bfc-4052-b379-aae04bc44ecd\",\"type\":\"SaveTool\"},{\"id\":\"094a90ed-7fb9-4de3-9026-f948f374ad7a\",\"type\":\"ResetTool\"},{\"id\":\"7e783cd4-309d-454f-9d53-0a099432b7dc\",\"type\":\"HelpTool\"}]},\"id\":\"dbc8ee53-743a-45b2-97a9-b664e2414bab\",\"type\":\"Toolbar\"},{\"attributes\":{},\"id\":\"8a249b6b-8deb-4c95-973f-348dc5cb1b58\",\"type\":\"BasicTickFormatter\"},{\"attributes\":{\"dimension\":1,\"plot\":{\"id\":\"def0df7c-743a-45a8-b3cf-fd5f8e0ef4f4\",\"subtype\":\"Chart\",\"type\":\"Plot\"},\"ticker\":{\"id\":\"eb8b4a2f-2090-4311-b367-e1f77c668a9a\",\"type\":\"BasicTicker\"}},\"id\":\"faae257b-d0cc-40d4-a79c-0b8bcc20ca38\",\"type\":\"Grid\"},{\"attributes\":{},\"id\":\"28272d13-5c02-463f-81a9-b1286e288145\",\"type\":\"CategoricalTickFormatter\"},{\"attributes\":{\"callback\":null,\"column_names\":[\"x\",\"y\",\"width\",\"height\",\"color\",\"fill_alpha\",\"line_color\",\"line_alpha\",\"label\"],\"data\":{\"chart_index\":[{\"page\":\"'/TMRW_Byte_Cafe.php\"}],\"color\":[\"#f22c40\"],\"fill_alpha\":[0.8],\"height\":[0.1055],\"label\":[{\"page\":\"'/TMRW_Byte_Cafe.php\"}],\"line_alpha\":[1.0],\"line_color\":[\"white\"],\"page\":[\"'/TMRW_Byte_Cafe.php\"],\"width\":[0.8],\"x\":[\"'/TMRW_Byte_Cafe.php\"],\"y\":[0.05275]}},\"id\":\"e594a7e2-6dd1-4811-aeb5-3d5511ecd1f5\",\"type\":\"ColumnDataSource\"},{\"attributes\":{\"items\":[{\"id\":\"2955f705-837f-4287-9a75-7e8a3f7212ef\",\"type\":\"LegendItem\"},{\"id\":\"90675ef6-744b-45cd-aa0e-1cf60a34a36c\",\"type\":\"LegendItem\"},{\"id\":\"c1b9e24d-7427-4c02-ae34-3eb6c334ec04\",\"type\":\"LegendItem\"},{\"id\":\"d7023b26-fadb-4ffc-95bb-df144c2058c7\",\"type\":\"LegendItem\"}],\"location\":\"top_left\",\"plot\":{\"id\":\"def0df7c-743a-45a8-b3cf-fd5f8e0ef4f4\",\"subtype\":\"Chart\",\"type\":\"Plot\"}},\"id\":\"399a0449-106f-4534-aa1f-b351230bf699\",\"type\":\"Legend\"},{\"attributes\":{\"data_source\":{\"id\":\"37ce2c92-feb4-4104-baab-b539d9f93ade\",\"type\":\"ColumnDataSource\"},\"glyph\":{\"id\":\"8187092c-f599-40cd-be70-d162f63daa82\",\"type\":\"Rect\"},\"hover_glyph\":null,\"nonselection_glyph\":null,\"selection_glyph\":null},\"id\":\"80c28933-a204-4907-a370-62da1dfe3078\",\"type\":\"GlyphRenderer\"},{\"attributes\":{\"plot\":{\"id\":\"def0df7c-743a-45a8-b3cf-fd5f8e0ef4f4\",\"subtype\":\"Chart\",\"type\":\"Plot\"}},\"id\":\"094a90ed-7fb9-4de3-9026-f948f374ad7a\",\"type\":\"ResetTool\"},{\"attributes\":{\"label\":{\"value\":\"'/TMRW_the_team.php\"},\"renderers\":[{\"id\":\"80c28933-a204-4907-a370-62da1dfe3078\",\"type\":\"GlyphRenderer\"}]},\"id\":\"d7023b26-fadb-4ffc-95bb-df144c2058c7\",\"type\":\"LegendItem\"},{\"attributes\":{\"plot\":{\"id\":\"def0df7c-743a-45a8-b3cf-fd5f8e0ef4f4\",\"subtype\":\"Chart\",\"type\":\"Plot\"}},\"id\":\"95aafd48-1bfc-4052-b379-aae04bc44ecd\",\"type\":\"SaveTool\"},{\"attributes\":{\"plot\":{\"id\":\"def0df7c-743a-45a8-b3cf-fd5f8e0ef4f4\",\"subtype\":\"Chart\",\"type\":\"Plot\"}},\"id\":\"4ee1253f-8502-4f69-8579-574b5692c9f9\",\"type\":\"PanTool\"},{\"attributes\":{\"plot\":{\"id\":\"def0df7c-743a-45a8-b3cf-fd5f8e0ef4f4\",\"subtype\":\"Chart\",\"type\":\"Plot\"}},\"id\":\"7e783cd4-309d-454f-9d53-0a099432b7dc\",\"type\":\"HelpTool\"},{\"attributes\":{\"overlay\":{\"id\":\"947d3dbe-203b-4679-a53f-56ae8a190b4c\",\"type\":\"BoxAnnotation\"},\"plot\":{\"id\":\"def0df7c-743a-45a8-b3cf-fd5f8e0ef4f4\",\"subtype\":\"Chart\",\"type\":\"Plot\"}},\"id\":\"609492e7-e063-4480-8665-d969667c3fcf\",\"type\":\"BoxZoomTool\"},{\"attributes\":{\"label\":{\"value\":\"'/TMRW_FAQs.php\"},\"renderers\":[{\"id\":\"46d0e7bb-e016-4e53-8c1f-5cdc2b53577c\",\"type\":\"GlyphRenderer\"}]},\"id\":\"90675ef6-744b-45cd-aa0e-1cf60a34a36c\",\"type\":\"LegendItem\"},{\"attributes\":{\"axis_label\":\"Page\",\"formatter\":{\"id\":\"28272d13-5c02-463f-81a9-b1286e288145\",\"type\":\"CategoricalTickFormatter\"},\"major_label_orientation\":0.7853981633974483,\"plot\":{\"id\":\"def0df7c-743a-45a8-b3cf-fd5f8e0ef4f4\",\"subtype\":\"Chart\",\"type\":\"Plot\"},\"ticker\":{\"id\":\"a6466e61-9a74-47a9-a8ad-e83a010cd714\",\"type\":\"CategoricalTicker\"}},\"id\":\"3a0f3e0b-ec6f-4e9c-a3ab-bed17cba155e\",\"type\":\"CategoricalAxis\"},{\"attributes\":{\"plot\":{\"id\":\"def0df7c-743a-45a8-b3cf-fd5f8e0ef4f4\",\"subtype\":\"Chart\",\"type\":\"Plot\"}},\"id\":\"149c059c-8ddd-41d8-9814-6a20ac2352f0\",\"type\":\"WheelZoomTool\"},{\"attributes\":{\"axis_label\":\"Sum( Rate )\",\"formatter\":{\"id\":\"8a249b6b-8deb-4c95-973f-348dc5cb1b58\",\"type\":\"BasicTickFormatter\"},\"plot\":{\"id\":\"def0df7c-743a-45a8-b3cf-fd5f8e0ef4f4\",\"subtype\":\"Chart\",\"type\":\"Plot\"},\"ticker\":{\"id\":\"eb8b4a2f-2090-4311-b367-e1f77c668a9a\",\"type\":\"BasicTicker\"}},\"id\":\"e913ef34-57d3-49a6-933a-1f9351274bd9\",\"type\":\"LinearAxis\"},{\"attributes\":{\"data_source\":{\"id\":\"1790c610-e177-4f95-acaa-0e50b64b8c7f\",\"type\":\"ColumnDataSource\"},\"glyph\":{\"id\":\"e2afe44a-a43d-4cef-8c1c-f9e2d7001461\",\"type\":\"Rect\"},\"hover_glyph\":null,\"nonselection_glyph\":null,\"selection_glyph\":null},\"id\":\"e100060b-6c54-4bf0-885f-ef547d20b1fe\",\"type\":\"GlyphRenderer\"},{\"attributes\":{\"plot\":null,\"text\":\"Events per page\"},\"id\":\"726cd6d3-1b74-4f3d-9c1c-8f20c20a836d\",\"type\":\"Title\"},{\"attributes\":{},\"id\":\"87437662-ed9e-4be9-b9de-c77a6ab51a15\",\"type\":\"ToolEvents\"},{\"attributes\":{\"callback\":null,\"column_names\":[\"x\",\"y\",\"width\",\"height\",\"color\",\"fill_alpha\",\"line_color\",\"line_alpha\",\"label\"],\"data\":{\"chart_index\":[{\"page\":\"'/\"}],\"color\":[\"#f22c40\"],\"fill_alpha\":[0.8],\"height\":[0.0185],\"label\":[{\"page\":\"'/\"}],\"line_alpha\":[1.0],\"line_color\":[\"white\"],\"page\":[\"'/\"],\"width\":[0.8],\"x\":[\"'/\"],\"y\":[0.00925]}},\"id\":\"1790c610-e177-4f95-acaa-0e50b64b8c7f\",\"type\":\"ColumnDataSource\"},{\"attributes\":{\"data_source\":{\"id\":\"e594a7e2-6dd1-4811-aeb5-3d5511ecd1f5\",\"type\":\"ColumnDataSource\"},\"glyph\":{\"id\":\"9e992478-bf71-4e44-99d9-904e13ac54d9\",\"type\":\"Rect\"},\"hover_glyph\":null,\"nonselection_glyph\":null,\"selection_glyph\":null},\"id\":\"9d5bcae1-1d25-4b69-bfbf-5291c6c80772\",\"type\":\"GlyphRenderer\"},{\"attributes\":{},\"id\":\"a6466e61-9a74-47a9-a8ad-e83a010cd714\",\"type\":\"CategoricalTicker\"},{\"attributes\":{\"fill_alpha\":{\"field\":\"fill_alpha\"},\"fill_color\":{\"field\":\"color\"},\"height\":{\"field\":\"height\",\"units\":\"data\"},\"line_color\":{\"field\":\"line_color\"},\"width\":{\"field\":\"width\",\"units\":\"data\"},\"x\":{\"field\":\"x\"},\"y\":{\"field\":\"y\"}},\"id\":\"e2afe44a-a43d-4cef-8c1c-f9e2d7001461\",\"type\":\"Rect\"},{\"attributes\":{\"below\":[{\"id\":\"3a0f3e0b-ec6f-4e9c-a3ab-bed17cba155e\",\"type\":\"CategoricalAxis\"}],\"css_classes\":null,\"left\":[{\"id\":\"e913ef34-57d3-49a6-933a-1f9351274bd9\",\"type\":\"LinearAxis\"}],\"renderers\":[{\"id\":\"947d3dbe-203b-4679-a53f-56ae8a190b4c\",\"type\":\"BoxAnnotation\"},{\"id\":\"e100060b-6c54-4bf0-885f-ef547d20b1fe\",\"type\":\"GlyphRenderer\"},{\"id\":\"46d0e7bb-e016-4e53-8c1f-5cdc2b53577c\",\"type\":\"GlyphRenderer\"},{\"id\":\"9d5bcae1-1d25-4b69-bfbf-5291c6c80772\",\"type\":\"GlyphRenderer\"},{\"id\":\"80c28933-a204-4907-a370-62da1dfe3078\",\"type\":\"GlyphRenderer\"},{\"id\":\"399a0449-106f-4534-aa1f-b351230bf699\",\"type\":\"Legend\"},{\"id\":\"3a0f3e0b-ec6f-4e9c-a3ab-bed17cba155e\",\"type\":\"CategoricalAxis\"},{\"id\":\"e913ef34-57d3-49a6-933a-1f9351274bd9\",\"type\":\"LinearAxis\"},{\"id\":\"faae257b-d0cc-40d4-a79c-0b8bcc20ca38\",\"type\":\"Grid\"}],\"title\":{\"id\":\"726cd6d3-1b74-4f3d-9c1c-8f20c20a836d\",\"type\":\"Title\"},\"tool_events\":{\"id\":\"87437662-ed9e-4be9-b9de-c77a6ab51a15\",\"type\":\"ToolEvents\"},\"toolbar\":{\"id\":\"dbc8ee53-743a-45b2-97a9-b664e2414bab\",\"type\":\"Toolbar\"},\"x_mapper_type\":\"auto\",\"x_range\":{\"id\":\"d4bced67-190e-4af0-afd2-a64e3299ea47\",\"type\":\"FactorRange\"},\"y_mapper_type\":\"auto\",\"y_range\":{\"id\":\"633e2164-0d51-42dc-804b-7ee7e131ac3f\",\"type\":\"Range1d\"}},\"id\":\"def0df7c-743a-45a8-b3cf-fd5f8e0ef4f4\",\"subtype\":\"Chart\",\"type\":\"Plot\"}],\"root_ids\":[\"def0df7c-743a-45a8-b3cf-fd5f8e0ef4f4\"]},\"title\":\"Bokeh Application\",\"version\":\"0.12.4\"}};\n",
       "            var render_items = [{\"docid\":\"a915f3e0-7374-4889-9fe2-0fe2da84c49b\",\"elementid\":\"6a8afa06-164f-4548-a1d7-b6d9df429705\",\"modelid\":\"def0df7c-743a-45a8-b3cf-fd5f8e0ef4f4\"}];\n",
       "            \n",
       "            Bokeh.embed.embed_items(docs_json, render_items);\n",
       "          };\n",
       "          if (document.readyState != \"loading\") fn();\n",
       "          else document.addEventListener(\"DOMContentLoaded\", fn);\n",
       "        })();\n",
       "      },\n",
       "      function(Bokeh) {\n",
       "      }\n",
       "    ];\n",
       "  \n",
       "    function run_inline_js() {\n",
       "      \n",
       "      if ((window.Bokeh !== undefined) || (force === true)) {\n",
       "        for (var i = 0; i < inline_js.length; i++) {\n",
       "          inline_js[i](window.Bokeh);\n",
       "        }if (force === true) {\n",
       "          display_loaded();\n",
       "        }} else if (Date.now() < window._bokeh_timeout) {\n",
       "        setTimeout(run_inline_js, 100);\n",
       "      } else if (!window._bokeh_failed_load) {\n",
       "        console.log(\"Bokeh: BokehJS failed to load within specified timeout.\");\n",
       "        window._bokeh_failed_load = true;\n",
       "      } else if (force !== true) {\n",
       "        var cell = $(document.getElementById(\"6a8afa06-164f-4548-a1d7-b6d9df429705\")).parents('.cell').data().cell;\n",
       "        cell.output_area.append_execute_result(NB_LOAD_WARNING)\n",
       "      }\n",
       "  \n",
       "    }\n",
       "  \n",
       "    if (window._bokeh_is_loading === 0) {\n",
       "      console.log(\"Bokeh: BokehJS loaded, going straight to plotting\");\n",
       "      run_inline_js();\n",
       "    } else {\n",
       "      load_libs(js_urls, function() {\n",
       "        console.log(\"Bokeh: BokehJS plotting callback run at\", now());\n",
       "        run_inline_js();\n",
       "      });\n",
       "    }\n",
       "  }(this));\n",
       "</script>"
      ]
     },
     "metadata": {},
     "output_type": "display_data"
    }
   ],
   "source": [
    "#import numpy as np\n",
    "from bokeh.io import output_notebook\n",
    "from bokeh.charts import Bar, show\n",
    "\n",
    "output_notebook()\n",
    "p = Bar(TMRW_events_filter, 'page', values='rate', title=\"Events per page\")\n",
    "show(p)"
   ]
  },
  {
   "cell_type": "code",
   "execution_count": 65,
   "metadata": {
    "collapsed": false
   },
   "outputs": [
    {
     "data": {
      "text/html": [
       "<div>\n",
       "<table border=\"1\" class=\"dataframe\">\n",
       "  <thead>\n",
       "    <tr style=\"text-align: right;\">\n",
       "      <th></th>\n",
       "      <th>rate</th>\n",
       "    </tr>\n",
       "    <tr>\n",
       "      <th>page</th>\n",
       "      <th></th>\n",
       "    </tr>\n",
       "  </thead>\n",
       "  <tbody>\n",
       "    <tr>\n",
       "      <th>'/</th>\n",
       "      <td>0.0185</td>\n",
       "    </tr>\n",
       "    <tr>\n",
       "      <th>'/TMRW_Byte_Cafe.php</th>\n",
       "      <td>0.1055</td>\n",
       "    </tr>\n",
       "    <tr>\n",
       "      <th>'/TMRW_FAQs.php</th>\n",
       "      <td>0.2600</td>\n",
       "    </tr>\n",
       "    <tr>\n",
       "      <th>'/TMRW_the_team.php</th>\n",
       "      <td>0.1010</td>\n",
       "    </tr>\n",
       "  </tbody>\n",
       "</table>\n",
       "</div>"
      ],
      "text/plain": [
       "                        rate\n",
       "page                        \n",
       "'/                    0.0185\n",
       "'/TMRW_Byte_Cafe.php  0.1055\n",
       "'/TMRW_FAQs.php       0.2600\n",
       "'/TMRW_the_team.php   0.1010"
      ]
     },
     "execution_count": 65,
     "metadata": {},
     "output_type": "execute_result"
    }
   ],
   "source": [
    "TMRW_events_data = TMRW_events_filter.groupby(['page']).mean()\n",
    "TMRW_events_data"
   ]
  },
  {
   "cell_type": "code",
   "execution_count": 67,
   "metadata": {
    "collapsed": false
   },
   "outputs": [
    {
     "data": {
      "text/plain": [
       "page\n",
       "'/                      0.0185\n",
       "'/TMRW_Byte_Cafe.php    0.1055\n",
       "'/TMRW_FAQs.php         0.2600\n",
       "'/TMRW_the_team.php     0.1010\n",
       "Name: rate, dtype: float64"
      ]
     },
     "execution_count": 67,
     "metadata": {},
     "output_type": "execute_result"
    }
   ],
   "source": [
    "selected=TMRW_events_data.loc[:,\"rate\"]\n",
    "selected"
   ]
  },
  {
   "cell_type": "code",
   "execution_count": 68,
   "metadata": {
    "collapsed": false
   },
   "outputs": [
    {
     "data": {
      "image/png": "[encoded data removed]",
      "text/plain": [
       "<matplotlib.figure.Figure at 0xe588510>"
      ]
     },
     "metadata": {},
     "output_type": "display_data"
    }
   ],
   "source": [
    "labels = selected.index\n",
    "sizes = TMRW_events_filter['rate']\n",
    "colors = ['green','yellow', 'red', 'lightskyblue']\n",
    "explode = (0, 0, 0,0)\n",
    "plt.pie(sizes, explode=explode, labels=labels, colors=colors,\n",
    "        autopct='%1.1f%%', shadow=False, startangle=90)\n",
    "plt.legend(patches, labels, loc=\"best\")\n",
    "plt.axis('equal')\n",
    "plt.title('Conversions by pages                                    ')\n",
    "plt.tight_layout()\n",
    "plt.show()"
   ]
  },
  {
   "cell_type": "code",
   "execution_count": null,
   "metadata": {
    "collapsed": true
   },
   "outputs": [],
   "source": []
  },
  {
   "cell_type": "code",
   "execution_count": null,
   "metadata": {
    "collapsed": true
   },
   "outputs": [],
   "source": []
  }
 ],
 "metadata": {
  "anaconda-cloud": {},
  "kernelspec": {
   "display_name": "Python 3",
   "language": "python",
   "name": "python3"
  },
  "language_info": {
   "codemirror_mode": {
    "name": "ipython",
    "version": 3
   },
   "file_extension": ".py",
   "mimetype": "text/x-python",
   "name": "python",
   "nbconvert_exporter": "python",
   "pygments_lexer": "ipython3",
   "version": "3.6.0"
  }
 },
 "nbformat": 4,
 "nbformat_minor": 1
}
