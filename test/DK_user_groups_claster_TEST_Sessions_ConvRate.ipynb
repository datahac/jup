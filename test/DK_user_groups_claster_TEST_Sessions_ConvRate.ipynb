{
 "cells": [
  {
   "cell_type": "markdown",
   "metadata": {},
   "source": [
    "# User groups"
   ]
  },
  {
   "cell_type": "code",
   "execution_count": 2,
   "metadata": {
    "collapsed": true
   },
   "outputs": [],
   "source": [
    "request = \"POST https://analyticsreporting.googleapis.com/v4/reports:batchGet?fields=reports(columnHeader%2Cdata(rows%2Ctotals))&key={YOUR_API_KEY}\"\n",
    "request = {\n",
    " \"reportRequests\": [\n",
    "  {\n",
    "   \"viewId\": \"123303369\",\n",
    "   \"dateRanges\": [\n",
    "    {\n",
    "     \"startDate\": \"2017-01-01\",\n",
    "     \"endDate\": \"2017-04-30\"\n",
    "    }\n",
    "   ],\n",
    "   \"metrics\": [\n",
    "    {\n",
    "     \"expression\": \"ga:sessions\"\n",
    "    },\n",
    "    {\n",
    "     \"expression\": \"ga:sessionDuration\"\n",
    "    },\n",
    "    {\n",
    "     \"expression\": \"ga:goal1Completions\"\n",
    "    },\n",
    "    {\n",
    "     \"expression\": \"ga:bounceRate\"\n",
    "    }\n",
    "   ],\n",
    "   \"dimensions\": [\n",
    "    {\n",
    "     \"name\": \"ga:city\"\n",
    "    },\n",
    "    {\n",
    "     \"name\": \"ga:userAgeBracket\"\n",
    "    }\n",
    "   ]\n",
    "  }\n",
    " ]\n",
    "}"
   ]
  },
  {
   "cell_type": "code",
   "execution_count": 3,
   "metadata": {
    "collapsed": false,
    "scrolled": true
   },
   "outputs": [
    {
     "data": {
      "text/plain": [
       "[{'dimensions': ['Croydon', '18-24'],\n",
       "  'metrics': [{'values': ['101',\n",
       "     '41.584158415841586',\n",
       "     '4',\n",
       "     '3.9603960396039604']}]},\n",
       " {'dimensions': ['Croydon', '25-34'],\n",
       "  'metrics': [{'values': ['334',\n",
       "     '47.90419161676647',\n",
       "     '17',\n",
       "     '5.089820359281437']}]},\n",
       " {'dimensions': ['Croydon', '35-44'],\n",
       "  'metrics': [{'values': ['223',\n",
       "     '43.04932735426009',\n",
       "     '7',\n",
       "     '3.1390134529147984']}]},\n",
       " {'dimensions': ['Croydon', '45-54'],\n",
       "  'metrics': [{'values': ['90',\n",
       "     '45.55555555555556',\n",
       "     '2',\n",
       "     '2.2222222222222223']}]},\n",
       " {'dimensions': ['Croydon', '55-64'],\n",
       "  'metrics': [{'values': ['32', '53.125', '1', '3.125']}]},\n",
       " {'dimensions': ['London', '18-24'],\n",
       "  'metrics': [{'values': ['167',\n",
       "     '49.700598802395206',\n",
       "     '8',\n",
       "     '4.790419161676647']}]},\n",
       " {'dimensions': ['London', '25-34'],\n",
       "  'metrics': [{'values': ['842',\n",
       "     '59.14489311163895',\n",
       "     '24',\n",
       "     '2.8503562945368173']}]},\n",
       " {'dimensions': ['London', '35-44'],\n",
       "  'metrics': [{'values': ['482',\n",
       "     '54.77178423236515',\n",
       "     '14',\n",
       "     '2.904564315352697']}]},\n",
       " {'dimensions': ['London', '45-54'],\n",
       "  'metrics': [{'values': ['205',\n",
       "     '55.60975609756098',\n",
       "     '3',\n",
       "     '1.4634146341463417']}]},\n",
       " {'dimensions': ['London', '55-64'],\n",
       "  'metrics': [{'values': ['37', '48.64864864864865', '0', '0.0']}]}]"
      ]
     },
     "execution_count": 3,
     "metadata": {},
     "output_type": "execute_result"
    }
   ],
   "source": [
    "import json\n",
    "\n",
    "with open('data/TMRW_user_groups.json') as file:\n",
    "    input_ugroups = json.load(file)\n",
    "    \n",
    "#input_ugroups\n",
    "\n",
    "# Define dimensions list\n",
    "input_ugroups_dimensions = input_ugroups['reports'][0]['columnHeader']['dimensions']\n",
    "\n",
    "dimension_count = len(input_ugroups_dimensions)\n",
    "\n",
    "# Define metrics list\n",
    "input_ugroups_metrics = input_ugroups['reports'][0]['columnHeader']['metricHeader']['metricHeaderEntries']\n",
    "\n",
    "def create_metric_list(raw_data):\n",
    "    lst = []\n",
    "    for item in raw_data:\n",
    "        lst.append(item['name'])\n",
    "    return lst\n",
    "\n",
    "input_ugroups_metrics = create_metric_list(input_ugroups_metrics)\n",
    "\n",
    "\n",
    "# Create input data\n",
    "\n",
    "input_ugroups_data = input_ugroups['reports'][0]['data']['rows']\n",
    "\n",
    "input_ugroups_data"
   ]
  },
  {
   "cell_type": "code",
   "execution_count": 4,
   "metadata": {
    "collapsed": false
   },
   "outputs": [
    {
     "data": {
      "text/plain": [
       "[{'Croydon, 18-24': {'values': ['101',\n",
       "    '41.584158415841586',\n",
       "    '4',\n",
       "    '3.9603960396039604']}},\n",
       " {'Croydon, 25-34': {'values': ['334',\n",
       "    '47.90419161676647',\n",
       "    '17',\n",
       "    '5.089820359281437']}},\n",
       " {'Croydon, 35-44': {'values': ['223',\n",
       "    '43.04932735426009',\n",
       "    '7',\n",
       "    '3.1390134529147984']}},\n",
       " {'Croydon, 45-54': {'values': ['90',\n",
       "    '45.55555555555556',\n",
       "    '2',\n",
       "    '2.2222222222222223']}},\n",
       " {'Croydon, 55-64': {'values': ['32', '53.125', '1', '3.125']}},\n",
       " {'London, 18-24': {'values': ['167',\n",
       "    '49.700598802395206',\n",
       "    '8',\n",
       "    '4.790419161676647']}},\n",
       " {'London, 25-34': {'values': ['842',\n",
       "    '59.14489311163895',\n",
       "    '24',\n",
       "    '2.8503562945368173']}},\n",
       " {'London, 35-44': {'values': ['482',\n",
       "    '54.77178423236515',\n",
       "    '14',\n",
       "    '2.904564315352697']}},\n",
       " {'London, 45-54': {'values': ['205',\n",
       "    '55.60975609756098',\n",
       "    '3',\n",
       "    '1.4634146341463417']}},\n",
       " {'London, 55-64': {'values': ['37', '48.64864864864865', '0', '0.0']}}]"
      ]
     },
     "execution_count": 4,
     "metadata": {},
     "output_type": "execute_result"
    }
   ],
   "source": [
    "values_list = []\n",
    "for group in input_ugroups_data:\n",
    "    new_dim_name = group['dimensions'][0] + \", \" + group['dimensions'][1]\n",
    "    group[new_dim_name] = group['metrics'][0]\n",
    "    del group['dimensions']\n",
    "    del group['metrics']\n",
    "    \n",
    "    #conv_rate = round(float(int(group[new_dim_name]['values'][2])/int(group[new_dim_name]['values'][0])*100),2)\n",
    "    values_list.append(group[new_dim_name]['values'])\n",
    "\n",
    "    #group[new_dim_name]['values'].append(conv_rate)\n",
    "    \n",
    "    \n",
    "#values_list    \n",
    "input_ugroups_data"
   ]
  },
  {
   "cell_type": "code",
   "execution_count": 5,
   "metadata": {
    "collapsed": false
   },
   "outputs": [],
   "source": [
    "# Define each metric dict\n",
    "\n",
    "ugroups_data = {}\n",
    "\n",
    "for ugroup in input_ugroups_data:\n",
    "    #print (ugroup)\n",
    "    \n",
    "    for gr in ugroup:\n",
    "        ugroups_data[gr] = {'sessions':0,\n",
    "                       'bounce_rate':0,\n",
    "                       'conversions':0,\n",
    "                       'conversion_rate':0}\n",
    "        \n",
    "        ugroups_data[gr]['sessions'] = round(float(ugroup[gr]['values'][0]),2)\n",
    "        ugroups_data[gr]['conversions'] = round(float(ugroup[gr]['values'][1]),2)\n",
    "        ugroups_data[gr]['bounce_rate'] = round(float(ugroup[gr]['values'][2]),2)\n",
    "        ugroups_data[gr]['conversion_rate'] = round(float(ugroup[gr]['values'][3]),2)\n",
    "        \n",
    "#ugroups_data"
   ]
  },
  {
   "cell_type": "code",
   "execution_count": 6,
   "metadata": {
    "collapsed": false
   },
   "outputs": [
    {
     "data": {
      "text/plain": [
       "['Croydon, 18-24',\n",
       " 'Croydon, 25-34',\n",
       " 'Croydon, 35-44',\n",
       " 'Croydon, 45-54',\n",
       " 'Croydon, 55-64',\n",
       " 'London, 18-24',\n",
       " 'London, 25-34',\n",
       " 'London, 35-44',\n",
       " 'London, 45-54',\n",
       " 'London, 55-64']"
      ]
     },
     "execution_count": 6,
     "metadata": {},
     "output_type": "execute_result"
    }
   ],
   "source": [
    "rows = list(ugroups_data.keys())\n",
    "rows"
   ]
  },
  {
   "cell_type": "code",
   "execution_count": 7,
   "metadata": {
    "collapsed": false
   },
   "outputs": [
    {
     "data": {
      "text/plain": [
       "['sessions', 'bounce_rate', 'conversions', 'conversion_rate']"
      ]
     },
     "execution_count": 7,
     "metadata": {},
     "output_type": "execute_result"
    }
   ],
   "source": [
    "import collections\n",
    "from collections import OrderedDict\n",
    "\n",
    "columns = []\n",
    "for u in ugroups_data:\n",
    "    #print (test[r])\n",
    "    for metric in ugroups_data[u]:\n",
    "        columns.append(metric)\n",
    "    \n",
    "columns = list(OrderedDict.fromkeys(columns))    \n",
    "columns"
   ]
  },
  {
   "cell_type": "code",
   "execution_count": 8,
   "metadata": {
    "collapsed": true
   },
   "outputs": [],
   "source": [
    "import pandas as pd"
   ]
  },
  {
   "cell_type": "code",
   "execution_count": 9,
   "metadata": {
    "collapsed": false
   },
   "outputs": [
    {
     "data": {
      "text/html": [
       "<div>\n",
       "<table border=\"1\" class=\"dataframe\">\n",
       "  <thead>\n",
       "    <tr style=\"text-align: right;\">\n",
       "      <th></th>\n",
       "      <th>sessions</th>\n",
       "      <th>bounce_rate</th>\n",
       "      <th>conversions</th>\n",
       "      <th>conversion_rate</th>\n",
       "    </tr>\n",
       "  </thead>\n",
       "  <tbody>\n",
       "    <tr>\n",
       "      <th>Croydon, 18-24</th>\n",
       "      <td>101</td>\n",
       "      <td>41.584158</td>\n",
       "      <td>4</td>\n",
       "      <td>3.960396</td>\n",
       "    </tr>\n",
       "    <tr>\n",
       "      <th>Croydon, 25-34</th>\n",
       "      <td>334</td>\n",
       "      <td>47.904192</td>\n",
       "      <td>17</td>\n",
       "      <td>5.089820</td>\n",
       "    </tr>\n",
       "    <tr>\n",
       "      <th>Croydon, 35-44</th>\n",
       "      <td>223</td>\n",
       "      <td>43.049327</td>\n",
       "      <td>7</td>\n",
       "      <td>3.139013</td>\n",
       "    </tr>\n",
       "    <tr>\n",
       "      <th>Croydon, 45-54</th>\n",
       "      <td>90</td>\n",
       "      <td>45.555556</td>\n",
       "      <td>2</td>\n",
       "      <td>2.222222</td>\n",
       "    </tr>\n",
       "    <tr>\n",
       "      <th>Croydon, 55-64</th>\n",
       "      <td>32</td>\n",
       "      <td>53.125000</td>\n",
       "      <td>1</td>\n",
       "      <td>3.125000</td>\n",
       "    </tr>\n",
       "    <tr>\n",
       "      <th>London, 18-24</th>\n",
       "      <td>167</td>\n",
       "      <td>49.700599</td>\n",
       "      <td>8</td>\n",
       "      <td>4.790419</td>\n",
       "    </tr>\n",
       "    <tr>\n",
       "      <th>London, 25-34</th>\n",
       "      <td>842</td>\n",
       "      <td>59.144893</td>\n",
       "      <td>24</td>\n",
       "      <td>2.850356</td>\n",
       "    </tr>\n",
       "    <tr>\n",
       "      <th>London, 35-44</th>\n",
       "      <td>482</td>\n",
       "      <td>54.771784</td>\n",
       "      <td>14</td>\n",
       "      <td>2.904564</td>\n",
       "    </tr>\n",
       "    <tr>\n",
       "      <th>London, 45-54</th>\n",
       "      <td>205</td>\n",
       "      <td>55.609756</td>\n",
       "      <td>3</td>\n",
       "      <td>1.463415</td>\n",
       "    </tr>\n",
       "    <tr>\n",
       "      <th>London, 55-64</th>\n",
       "      <td>37</td>\n",
       "      <td>48.648649</td>\n",
       "      <td>0</td>\n",
       "      <td>0.000000</td>\n",
       "    </tr>\n",
       "  </tbody>\n",
       "</table>\n",
       "</div>"
      ],
      "text/plain": [
       "                sessions  bounce_rate  conversions  conversion_rate\n",
       "Croydon, 18-24       101    41.584158            4         3.960396\n",
       "Croydon, 25-34       334    47.904192           17         5.089820\n",
       "Croydon, 35-44       223    43.049327            7         3.139013\n",
       "Croydon, 45-54        90    45.555556            2         2.222222\n",
       "Croydon, 55-64        32    53.125000            1         3.125000\n",
       "London, 18-24        167    49.700599            8         4.790419\n",
       "London, 25-34        842    59.144893           24         2.850356\n",
       "London, 35-44        482    54.771784           14         2.904564\n",
       "London, 45-54        205    55.609756            3         1.463415\n",
       "London, 55-64         37    48.648649            0         0.000000"
      ]
     },
     "execution_count": 9,
     "metadata": {},
     "output_type": "execute_result"
    }
   ],
   "source": [
    "df = pd.DataFrame(values_list,\n",
    "                  index = rows,\n",
    "                  columns = columns)\n",
    "\n",
    "df.to_json(orient='split')\n",
    "table = pd.read_json(df.to_json(orient='split'), orient='split')\n",
    "table"
   ]
  },
  {
   "cell_type": "code",
   "execution_count": 87,
   "metadata": {
    "collapsed": false
   },
   "outputs": [
    {
     "data": {
      "text/plain": [
       "Index(['Croydon, 18-24', 'Croydon, 25-34', 'Croydon, 35-44', 'Croydon, 45-54',\n",
       "       'Croydon, 55-64', 'London, 18-24', 'London, 25-34', 'London, 35-44',\n",
       "       'London, 45-54', 'London, 55-64'],\n",
       "      dtype='object')"
      ]
     },
     "execution_count": 87,
     "metadata": {},
     "output_type": "execute_result"
    }
   ],
   "source": [
    "table.index"
   ]
  },
  {
   "cell_type": "code",
   "execution_count": 10,
   "metadata": {
    "collapsed": false
   },
   "outputs": [
    {
     "data": {
      "text/plain": [
       "[[101], [334], [223], [90], [32], [167], [842], [482], [205], [37]]"
      ]
     },
     "execution_count": 10,
     "metadata": {},
     "output_type": "execute_result"
    }
   ],
   "source": [
    "samples1=[]\n",
    "for i in range(0,len(table)):\n",
    "    a = [table.sessions[i]]\n",
    "    #print(a)\n",
    "    samples1.append(a)\n",
    "samples1\n",
    "#return samples1\n",
    "#print(samples1)\n"
   ]
  },
  {
   "cell_type": "code",
   "execution_count": 11,
   "metadata": {
    "collapsed": false
   },
   "outputs": [
    {
     "data": {
      "text/plain": [
       "251.30000000000001"
      ]
     },
     "execution_count": 11,
     "metadata": {},
     "output_type": "execute_result"
    }
   ],
   "source": [
    "mv = sum(table.sessions)/len(samples1)\n",
    "mv"
   ]
  },
  {
   "cell_type": "code",
   "execution_count": 12,
   "metadata": {
    "collapsed": true
   },
   "outputs": [],
   "source": [
    "import random\n",
    "import math\n",
    "\n",
    "NUM_CLUSTERS = 3\n",
    "TOTAL_DATA = len(samples1)\n",
    "LOWEST_SAMPLE_POINT = samples1.index(min(samples1)) #element 9 of SAMPLES.\n",
    "HIGHEST_SAMPLE_POINT = samples1.index(max(samples1)) #element 6 of SAMPLES.\n",
    "Middle_SAMPLE_POINT = 2\n",
    "BIG_NUMBER = math.pow(10, 10)\n",
    "\n",
    "\n",
    "SAMPLES = samples1\n",
    "data1 = []\n",
    "centroids = []\n",
    "\n",
    "class DataPoint:\n",
    "    def __init__(self, x):\n",
    "        self.x = x\n",
    "          \n",
    "    def set_x(self, x):\n",
    "        self.x = x\n",
    "    \n",
    "    def get_x(self):\n",
    "        return self.x\n",
    "      \n",
    "    def set_cluster(self, clusterNumber):\n",
    "        self.clusterNumber = clusterNumber\n",
    "    \n",
    "    def get_cluster(self):\n",
    "        return self.clusterNumber\n",
    "\n",
    "class Centroid:\n",
    "    def __init__(self, x):\n",
    "        self.x = x\n",
    "    \n",
    "    def set_x(self, x):\n",
    "        self.x = x\n",
    "    \n",
    "    def get_x(self):\n",
    "        return self.x\n",
    "    \n"
   ]
  },
  {
   "cell_type": "code",
   "execution_count": null,
   "metadata": {
    "collapsed": true
   },
   "outputs": [],
   "source": []
  },
  {
   "cell_type": "code",
   "execution_count": 13,
   "metadata": {
    "collapsed": false
   },
   "outputs": [],
   "source": [
    "def initialize_centroids():\n",
    "    # Set the centoid coordinates to match the data points furthest from each other.\n",
    "    # In this example, [31, 51.613, 1, 3.2260000000000004] and [758, 59.234999999999999, 22, 2.9019999999999997]\n",
    "    centroids.append(Centroid(SAMPLES[LOWEST_SAMPLE_POINT][0]))\n",
    "    centroids.append(Centroid(SAMPLES[HIGHEST_SAMPLE_POINT][0]))\n",
    "    centroids.append(Centroid(SAMPLES[Middle_SAMPLE_POINT][0]))\n",
    "    \n",
    "    print(\"Centroids initialized at:\")\n",
    "    print(\"(\", centroids[0].get_x(),\")\")\n",
    "    print(\"(\", centroids[1].get_x(),\")\")\n",
    "    print(\"(\", centroids[2].get_x(),\")\")\n",
    "    print()\n",
    "    return\n",
    "#print(initialize_centroids())\n",
    "#print(centroids.append(Centroid(SAMPLES[HIGHEST_SAMPLE_POINT][0])))"
   ]
  },
  {
   "cell_type": "code",
   "execution_count": 14,
   "metadata": {
    "collapsed": true
   },
   "outputs": [],
   "source": [
    "def initialize_datapoints():\n",
    "    # DataPoint objects' x and y values are taken from the SAMPLE array.\n",
    "    # The DataPoints associated with LOWEST_SAMPLE_POINT and HIGHEST_SAMPLE_POINT are initially\n",
    "    # assigned to the clusters matching the LOWEST_SAMPLE_POINT and HIGHEST_SAMPLE_POINT centroids.\n",
    "    for i in range(TOTAL_DATA):\n",
    "        newPoint = DataPoint(SAMPLES[i][0])\n",
    "        \n",
    "        if(i == LOWEST_SAMPLE_POINT):\n",
    "            newPoint.set_cluster(0)\n",
    "        elif(i == HIGHEST_SAMPLE_POINT):\n",
    "            newPoint.set_cluster(1)\n",
    "        elif(i == Middle_SAMPLE_POINT):\n",
    "            newPoint.set_cluster(2)\n",
    "        else:\n",
    "            newPoint.set_cluster(None)\n",
    "            \n",
    "        data1.append(newPoint)\n",
    "    \n",
    "    return\n",
    "\n"
   ]
  },
  {
   "cell_type": "code",
   "execution_count": null,
   "metadata": {
    "collapsed": false
   },
   "outputs": [],
   "source": []
  },
  {
   "cell_type": "code",
   "execution_count": 15,
   "metadata": {
    "collapsed": true
   },
   "outputs": [],
   "source": [
    "def get_distance(dataPointX, centroidX):\n",
    "    # Calculate Euclidean distance.\n",
    "    return math.sqrt(math.pow((centroidX - dataPointX), 2))\n"
   ]
  },
  {
   "cell_type": "code",
   "execution_count": 16,
   "metadata": {
    "collapsed": false
   },
   "outputs": [
    {
     "name": "stdout",
     "output_type": "stream",
     "text": [
      "None\n"
     ]
    }
   ],
   "source": [
    "def recalculate_centroids():\n",
    "    totalX = 0\n",
    "    totalInCluster = 0\n",
    "    \n",
    "    for j in range(NUM_CLUSTERS):\n",
    "        for k in range(len(data1)):\n",
    "            if(data1[k].get_cluster() == j):\n",
    "                totalX += data1[k].get_x()\n",
    "                totalInCluster += 1\n",
    "        \n",
    "        if(totalInCluster > 0):\n",
    "            centroids[j].set_x(totalX / totalInCluster)\n",
    "               \n",
    "    return\n",
    "\n",
    "print(recalculate_centroids())"
   ]
  },
  {
   "cell_type": "code",
   "execution_count": 17,
   "metadata": {
    "collapsed": true
   },
   "outputs": [],
   "source": [
    "def update_clusters():\n",
    "    isStillMoving = 0\n",
    "    \n",
    "    for i in range(TOTAL_DATA):\n",
    "        bestMinimum = BIG_NUMBER\n",
    "        currentCluster = 0\n",
    "        \n",
    "        for j in range(NUM_CLUSTERS):\n",
    "            distance = get_distance(data1[i].get_x(), centroids[j].get_x())\n",
    "            if(distance < bestMinimum):\n",
    "                bestMinimum = distance\n",
    "                currentCluster = j\n",
    "        \n",
    "        data1[i].set_cluster(currentCluster)\n",
    "        \n",
    "        if(data1[i].get_cluster() is None or data1[i].get_cluster() != currentCluster):\n",
    "            data1[i].set_cluster(currentCluster)\n",
    "            isStillMoving = 1\n",
    "    \n",
    "    return isStillMoving"
   ]
  },
  {
   "cell_type": "code",
   "execution_count": 18,
   "metadata": {
    "collapsed": false
   },
   "outputs": [
    {
     "name": "stdout",
     "output_type": "stream",
     "text": [
      "Centroids initialized at:\n",
      "( 32 )\n",
      "( 842 )\n",
      "( 223 )\n",
      "\n"
     ]
    }
   ],
   "source": [
    "def perform_kmeans():\n",
    "    isStillMoving = 1\n",
    "    \n",
    "    initialize_centroids()\n",
    "    \n",
    "    initialize_datapoints()\n",
    "    \n",
    "    while(isStillMoving):\n",
    "        recalculate_centroids()\n",
    "        isStillMoving = update_clusters()\n",
    "    \n",
    "    return\n",
    "\n",
    "perform_kmeans()"
   ]
  },
  {
   "cell_type": "code",
   "execution_count": 19,
   "metadata": {
    "collapsed": false,
    "scrolled": false
   },
   "outputs": [
    {
     "name": "stdout",
     "output_type": "stream",
     "text": [
      "Cluster  0  includes:\n",
      "[101]\n",
      "[90]\n",
      "[32]\n",
      "[167]\n",
      "[37]\n",
      "\n",
      "Cluster  1  includes:\n",
      "[842]\n",
      "[482]\n",
      "\n",
      "Cluster  2  includes:\n",
      "[334]\n",
      "[223]\n",
      "[205]\n",
      "\n"
     ]
    }
   ],
   "source": [
    "def print_results():\n",
    "    for i in range(NUM_CLUSTERS):\n",
    "        print(\"Cluster \", i, \" includes:\")\n",
    "        for j in range(TOTAL_DATA):\n",
    "            if(data1[j].get_cluster() == i):\n",
    "                s = [data1[j].get_x()]\n",
    "                #print(\"(\", data1[j].get_x(), \")\")\n",
    "                print(s)\n",
    "        print()\n",
    "    \n",
    "    return\n",
    "\n",
    "\n",
    "print_results()\n",
    "#print(data1[j].get_x())\n"
   ]
  },
  {
   "cell_type": "code",
   "execution_count": 20,
   "metadata": {
    "collapsed": false,
    "scrolled": true
   },
   "outputs": [
    {
     "name": "stderr",
     "output_type": "stream",
     "text": [
      "C:\\ProgramData\\Anaconda3\\lib\\site-packages\\ipykernel\\__main__.py:1: FutureWarning: sort(columns=....) is deprecated, use sort_values(by=.....)\n",
      "  if __name__ == '__main__':\n"
     ]
    },
    {
     "data": {
      "text/html": [
       "<div>\n",
       "<table border=\"1\" class=\"dataframe\">\n",
       "  <thead>\n",
       "    <tr style=\"text-align: right;\">\n",
       "      <th></th>\n",
       "      <th>sessions</th>\n",
       "      <th>bounce_rate</th>\n",
       "      <th>conversions</th>\n",
       "      <th>conversion_rate</th>\n",
       "    </tr>\n",
       "  </thead>\n",
       "  <tbody>\n",
       "    <tr>\n",
       "      <th>London, 55-64</th>\n",
       "      <td>37</td>\n",
       "      <td>48.648649</td>\n",
       "      <td>0</td>\n",
       "      <td>0.000000</td>\n",
       "    </tr>\n",
       "    <tr>\n",
       "      <th>London, 45-54</th>\n",
       "      <td>205</td>\n",
       "      <td>55.609756</td>\n",
       "      <td>3</td>\n",
       "      <td>1.463415</td>\n",
       "    </tr>\n",
       "    <tr>\n",
       "      <th>Croydon, 45-54</th>\n",
       "      <td>90</td>\n",
       "      <td>45.555556</td>\n",
       "      <td>2</td>\n",
       "      <td>2.222222</td>\n",
       "    </tr>\n",
       "    <tr>\n",
       "      <th>London, 25-34</th>\n",
       "      <td>842</td>\n",
       "      <td>59.144893</td>\n",
       "      <td>24</td>\n",
       "      <td>2.850356</td>\n",
       "    </tr>\n",
       "    <tr>\n",
       "      <th>London, 35-44</th>\n",
       "      <td>482</td>\n",
       "      <td>54.771784</td>\n",
       "      <td>14</td>\n",
       "      <td>2.904564</td>\n",
       "    </tr>\n",
       "    <tr>\n",
       "      <th>Croydon, 55-64</th>\n",
       "      <td>32</td>\n",
       "      <td>53.125000</td>\n",
       "      <td>1</td>\n",
       "      <td>3.125000</td>\n",
       "    </tr>\n",
       "    <tr>\n",
       "      <th>Croydon, 35-44</th>\n",
       "      <td>223</td>\n",
       "      <td>43.049327</td>\n",
       "      <td>7</td>\n",
       "      <td>3.139013</td>\n",
       "    </tr>\n",
       "    <tr>\n",
       "      <th>Croydon, 18-24</th>\n",
       "      <td>101</td>\n",
       "      <td>41.584158</td>\n",
       "      <td>4</td>\n",
       "      <td>3.960396</td>\n",
       "    </tr>\n",
       "    <tr>\n",
       "      <th>London, 18-24</th>\n",
       "      <td>167</td>\n",
       "      <td>49.700599</td>\n",
       "      <td>8</td>\n",
       "      <td>4.790419</td>\n",
       "    </tr>\n",
       "    <tr>\n",
       "      <th>Croydon, 25-34</th>\n",
       "      <td>334</td>\n",
       "      <td>47.904192</td>\n",
       "      <td>17</td>\n",
       "      <td>5.089820</td>\n",
       "    </tr>\n",
       "  </tbody>\n",
       "</table>\n",
       "</div>"
      ],
      "text/plain": [
       "                sessions  bounce_rate  conversions  conversion_rate\n",
       "London, 55-64         37    48.648649            0         0.000000\n",
       "London, 45-54        205    55.609756            3         1.463415\n",
       "Croydon, 45-54        90    45.555556            2         2.222222\n",
       "London, 25-34        842    59.144893           24         2.850356\n",
       "London, 35-44        482    54.771784           14         2.904564\n",
       "Croydon, 55-64        32    53.125000            1         3.125000\n",
       "Croydon, 35-44       223    43.049327            7         3.139013\n",
       "Croydon, 18-24       101    41.584158            4         3.960396\n",
       "London, 18-24        167    49.700599            8         4.790419\n",
       "Croydon, 25-34       334    47.904192           17         5.089820"
      ]
     },
     "execution_count": 20,
     "metadata": {},
     "output_type": "execute_result"
    }
   ],
   "source": [
    "table.sort('conversion_rate')"
   ]
  },
  {
   "cell_type": "code",
   "execution_count": 21,
   "metadata": {
    "collapsed": false
   },
   "outputs": [
    {
     "data": {
      "text/plain": [
       "2.9545206479734922"
      ]
     },
     "execution_count": 21,
     "metadata": {},
     "output_type": "execute_result"
    }
   ],
   "source": [
    "sum(table.conversion_rate)/10"
   ]
  },
  {
   "cell_type": "code",
   "execution_count": 22,
   "metadata": {
    "collapsed": false
   },
   "outputs": [
    {
     "data": {
      "text/plain": [
       "8"
      ]
     },
     "execution_count": 22,
     "metadata": {},
     "output_type": "execute_result"
    }
   ],
   "source": [
    "table.conversions[5]"
   ]
  },
  {
   "cell_type": "code",
   "execution_count": 23,
   "metadata": {
    "collapsed": false
   },
   "outputs": [
    {
     "data": {
      "text/plain": [
       "[[3.9603960396039604],\n",
       " [5.0898203592814371],\n",
       " [3.1390134529147984],\n",
       " [2.2222222222222223],\n",
       " [3.125],\n",
       " [4.7904191616766472],\n",
       " [2.8503562945368173],\n",
       " [2.904564315352697],\n",
       " [1.4634146341463417],\n",
       " [0.0]]"
      ]
     },
     "execution_count": 23,
     "metadata": {},
     "output_type": "execute_result"
    }
   ],
   "source": [
    "samples1=[]\n",
    "for i in range(0,len(table)):\n",
    "    a = [table.conversion_rate[i]]\n",
    "    #print(a)\n",
    "    samples1.append(a)\n",
    "samples1\n",
    "#return samples1\n",
    "#print(samples1)\n"
   ]
  },
  {
   "cell_type": "code",
   "execution_count": 24,
   "metadata": {
    "collapsed": true
   },
   "outputs": [],
   "source": [
    "samples1=[[3.9603960396039604],\n",
    " [5.0898203592814371],\n",
    " [3.1390134529147984],\n",
    " [2.2222222222222223],\n",
    " [3.125],\n",
    " [4.7904191616766472],\n",
    " [2.8503562945368173],\n",
    " [2.904564315352697],\n",
    " [1.4634146341463417]]"
   ]
  },
  {
   "cell_type": "code",
   "execution_count": 25,
   "metadata": {
    "collapsed": false
   },
   "outputs": [
    {
     "data": {
      "text/plain": [
       "[3.125]"
      ]
     },
     "execution_count": 25,
     "metadata": {},
     "output_type": "execute_result"
    }
   ],
   "source": [
    "samples1[4]"
   ]
  },
  {
   "cell_type": "code",
   "execution_count": 26,
   "metadata": {
    "collapsed": true
   },
   "outputs": [],
   "source": [
    "import random\n",
    "import math\n",
    "\n",
    "NUM_CLUSTERS = 3\n",
    "TOTAL_DATA = len(samples1)\n",
    "LOWEST_SAMPLE_POINT = samples1.index(min(samples1)) #element 9 of SAMPLES.\n",
    "HIGHEST_SAMPLE_POINT = samples1.index(max(samples1)) #element 6 of SAMPLES.\n",
    "Middle_SAMPLE_POINT = 4\n",
    "BIG_NUMBER = math.pow(10, 10)\n",
    "\n",
    "\n",
    "SAMPLES = samples1\n",
    "data1 = []\n",
    "centroids = []\n",
    "\n",
    "class DataPoint:\n",
    "    def __init__(self, x):\n",
    "        self.x = x\n",
    "          \n",
    "    def set_x(self, x):\n",
    "        self.x = x\n",
    "    \n",
    "    def get_x(self):\n",
    "        return self.x\n",
    "      \n",
    "    def set_cluster(self, clusterNumber):\n",
    "        self.clusterNumber = clusterNumber\n",
    "    \n",
    "    def get_cluster(self):\n",
    "        return self.clusterNumber\n",
    "\n",
    "class Centroid:\n",
    "    def __init__(self, x):\n",
    "        self.x = x\n",
    "    \n",
    "    def set_x(self, x):\n",
    "        self.x = x\n",
    "    \n",
    "    def get_x(self):\n",
    "        return self.x\n",
    "    \n"
   ]
  },
  {
   "cell_type": "code",
   "execution_count": 27,
   "metadata": {
    "collapsed": true
   },
   "outputs": [],
   "source": [
    "def initialize_centroids():\n",
    "    # Set the centoid coordinates to match the data points furthest from each other.\n",
    "    # In this example, [31, 51.613, 1, 3.2260000000000004] and [758, 59.234999999999999, 22, 2.9019999999999997]\n",
    "    centroids.append(Centroid(SAMPLES[LOWEST_SAMPLE_POINT][0]))\n",
    "    centroids.append(Centroid(SAMPLES[HIGHEST_SAMPLE_POINT][0]))\n",
    "    centroids.append(Centroid(SAMPLES[Middle_SAMPLE_POINT][0]))\n",
    "    \n",
    "    print(\"Centroids initialized at:\")\n",
    "    print(\"(\", centroids[0].get_x(),\")\")\n",
    "    print(\"(\", centroids[1].get_x(),\")\")\n",
    "    print(\"(\", centroids[2].get_x(),\")\")\n",
    "    print()\n",
    "    return\n",
    "#print(initialize_centroids())\n",
    "#print(centroids.append(Centroid(SAMPLES[HIGHEST_SAMPLE_POINT][0])))"
   ]
  },
  {
   "cell_type": "code",
   "execution_count": 28,
   "metadata": {
    "collapsed": false
   },
   "outputs": [],
   "source": [
    "def initialize_datapoints():\n",
    "    # DataPoint objects' x and y values are taken from the SAMPLE array.\n",
    "    # The DataPoints associated with LOWEST_SAMPLE_POINT and HIGHEST_SAMPLE_POINT are initially\n",
    "    # assigned to the clusters matching the LOWEST_SAMPLE_POINT and HIGHEST_SAMPLE_POINT centroids.\n",
    "    for i in range(TOTAL_DATA):\n",
    "        newPoint = DataPoint(SAMPLES[i][0])\n",
    "        \n",
    "        if(i == LOWEST_SAMPLE_POINT):\n",
    "            newPoint.set_cluster(0)\n",
    "        elif(i == HIGHEST_SAMPLE_POINT):\n",
    "            newPoint.set_cluster(1)\n",
    "        elif(i == Middle_SAMPLE_POINT):\n",
    "            newPoint.set_cluster(2)\n",
    "        else:\n",
    "            newPoint.set_cluster(None)\n",
    "            \n",
    "        data1.append(newPoint)\n",
    "    \n",
    "    return\n"
   ]
  },
  {
   "cell_type": "code",
   "execution_count": 29,
   "metadata": {
    "collapsed": true
   },
   "outputs": [],
   "source": [
    "def get_distance(dataPointX, centroidX):\n",
    "    # Calculate Euclidean distance.\n",
    "    return math.sqrt(math.pow((centroidX - dataPointX), 2))"
   ]
  },
  {
   "cell_type": "code",
   "execution_count": 30,
   "metadata": {
    "collapsed": false
   },
   "outputs": [
    {
     "name": "stdout",
     "output_type": "stream",
     "text": [
      "None\n"
     ]
    }
   ],
   "source": [
    "def recalculate_centroids():\n",
    "    totalX = 0\n",
    "    totalInCluster = 0\n",
    "    \n",
    "    for j in range(NUM_CLUSTERS):\n",
    "        for k in range(len(data1)):\n",
    "            if(data1[k].get_cluster() == j):\n",
    "                totalX += data1[k].get_x()\n",
    "                totalInCluster += 1\n",
    "        \n",
    "        if(totalInCluster > 0):\n",
    "            centroids[j].set_x(totalX / totalInCluster)\n",
    "               \n",
    "    return\n",
    "\n",
    "print(recalculate_centroids())"
   ]
  },
  {
   "cell_type": "code",
   "execution_count": 31,
   "metadata": {
    "collapsed": true
   },
   "outputs": [],
   "source": [
    "def update_clusters():\n",
    "    isStillMoving = 0\n",
    "    \n",
    "    for i in range(TOTAL_DATA):\n",
    "        bestMinimum = BIG_NUMBER\n",
    "        currentCluster = 0\n",
    "        \n",
    "        for j in range(NUM_CLUSTERS):\n",
    "            distance = get_distance(data1[i].get_x(), centroids[j].get_x())\n",
    "            if(distance < bestMinimum):\n",
    "                bestMinimum = distance\n",
    "                currentCluster = j\n",
    "        \n",
    "        data1[i].set_cluster(currentCluster)\n",
    "        \n",
    "        if(data1[i].get_cluster() is None or data1[i].get_cluster() != currentCluster):\n",
    "            data1[i].set_cluster(currentCluster)\n",
    "            isStillMoving = 1\n",
    "    \n",
    "    return isStillMoving"
   ]
  },
  {
   "cell_type": "code",
   "execution_count": 32,
   "metadata": {
    "collapsed": false,
    "scrolled": true
   },
   "outputs": [
    {
     "name": "stdout",
     "output_type": "stream",
     "text": [
      "Centroids initialized at:\n",
      "( 1.4634146341463417 )\n",
      "( 5.089820359281437 )\n",
      "( 3.125 )\n",
      "\n"
     ]
    }
   ],
   "source": [
    "def perform_kmeans():\n",
    "    isStillMoving = 1\n",
    "    \n",
    "    initialize_centroids()\n",
    "    \n",
    "    initialize_datapoints()\n",
    "    \n",
    "    while(isStillMoving):\n",
    "        recalculate_centroids()\n",
    "        isStillMoving = update_clusters()\n",
    "    \n",
    "    return\n",
    "\n",
    "perform_kmeans()"
   ]
  },
  {
   "cell_type": "code",
   "execution_count": 33,
   "metadata": {
    "collapsed": false
   },
   "outputs": [
    {
     "name": "stdout",
     "output_type": "stream",
     "text": [
      "Cluster  0  includes:\n",
      "( 2.2222222222222223 )\n",
      "( 1.4634146341463417 )\n",
      "\n",
      "Cluster  1  includes:\n",
      "( 3.9603960396039604 )\n",
      "( 5.089820359281437 )\n",
      "( 4.790419161676647 )\n",
      "\n",
      "Cluster  2  includes:\n",
      "( 3.1390134529147984 )\n",
      "( 3.125 )\n",
      "( 2.8503562945368173 )\n",
      "( 2.904564315352697 )\n",
      "\n"
     ]
    }
   ],
   "source": [
    "def print_results():\n",
    "    for i in range(NUM_CLUSTERS):\n",
    "        print(\"Cluster \", i, \" includes:\")\n",
    "        for j in range(TOTAL_DATA):\n",
    "            if(data1[j].get_cluster() == i):\n",
    "                print(\"(\", data1[j].get_x(), \")\")\n",
    "        #print(data1[j].get_x())\n",
    "        print()\n",
    "    \n",
    "    return\n",
    "\n",
    "\n",
    "print_results()\n"
   ]
  },
  {
   "cell_type": "code",
   "execution_count": 100,
   "metadata": {
    "collapsed": false,
    "scrolled": true
   },
   "outputs": [
    {
     "data": {
      "text/plain": [
       "[{0: 2.22},\n",
       " {0: 1.46},\n",
       " {1: 3.96},\n",
       " {1: 5.09},\n",
       " {1: 4.79},\n",
       " {2: 3.14},\n",
       " {2: 3.12},\n",
       " {2: 2.85},\n",
       " {2: 2.9}]"
      ]
     },
     "execution_count": 100,
     "metadata": {},
     "output_type": "execute_result"
    }
   ],
   "source": [
    "def print_results():\n",
    "    result_list = []\n",
    "    for i in range(NUM_CLUSTERS):\n",
    "        #print(i)\n",
    "        \n",
    "        for j in range(TOTAL_DATA):\n",
    "            \n",
    "            \n",
    "            \n",
    "            if(data1[j].get_cluster() == i):\n",
    "                result = {}                \n",
    "                #print (data1[j].get_cluster())\n",
    "                #print(data1[j].get_x())\n",
    "                result[data1[j].get_cluster()] = round(data1[j].get_x(),2)\n",
    "                \n",
    "                #result[\"Cluster %s\" % i] = []\n",
    "                \n",
    "                \n",
    "                \n",
    "                #data.append(data1[0].get_x())\n",
    "                #data[0] = 1\n",
    "                \n",
    "                #data.append(data1[j].get_x())\n",
    "                \n",
    "                #result[\"Cluster %s\" % i] = data\n",
    "                \n",
    "                #print(j)\n",
    "                # (result)\n",
    "                #print(data1[j].get_x())\n",
    "                #print()\n",
    "                \n",
    "                #print(result)\n",
    "                result_list.append(result)\n",
    "                \n",
    "                \n",
    "    return result_list\n",
    "\n",
    "a = print_results()\n",
    "a\n",
    "\n"
   ]
  },
  {
   "cell_type": "code",
   "execution_count": 111,
   "metadata": {
    "collapsed": false
   },
   "outputs": [
    {
     "data": {
      "text/plain": [
       "[dict_keys([0]),\n",
       " dict_keys([0]),\n",
       " dict_keys([1]),\n",
       " dict_keys([1]),\n",
       " dict_keys([1]),\n",
       " dict_keys([2]),\n",
       " dict_keys([2]),\n",
       " dict_keys([2])]"
      ]
     },
     "execution_count": 111,
     "metadata": {},
     "output_type": "execute_result"
    }
   ],
   "source": [
    "#for i in range(0, len(a)):\n",
    "b = [a[0].keys(),a[1].keys(),a[2].keys(),a[3].keys(),a[4].keys(),a[5].keys(),a[6].keys(),a[7].keys()]\n",
    "    #b = [a[i].keys()]\n",
    "b"
   ]
  },
  {
   "cell_type": "code",
   "execution_count": 115,
   "metadata": {
    "collapsed": false
   },
   "outputs": [
    {
     "data": {
      "text/plain": [
       "[dict_values([2.22]),\n",
       " dict_values([1.46]),\n",
       " dict_values([3.96]),\n",
       " dict_values([5.09]),\n",
       " dict_values([4.79]),\n",
       " dict_values([3.14]),\n",
       " dict_values([3.12]),\n",
       " dict_values([2.85])]"
      ]
     },
     "execution_count": 115,
     "metadata": {},
     "output_type": "execute_result"
    }
   ],
   "source": [
    "c = [a[0].values(),a[1].values(),a[2].values(),a[3].values(),a[4].values(),a[5].values(),a[6].values(),a[7].values()]\n",
    "c"
   ]
  },
  {
   "cell_type": "code",
   "execution_count": 122,
   "metadata": {
    "collapsed": false
   },
   "outputs": [
    {
     "data": {
      "text/html": [
       "<div>\n",
       "<table border=\"1\" class=\"dataframe\">\n",
       "  <thead>\n",
       "    <tr style=\"text-align: right;\">\n",
       "      <th></th>\n",
       "    </tr>\n",
       "  </thead>\n",
       "  <tbody>\n",
       "    <tr>\n",
       "      <th>(0)</th>\n",
       "    </tr>\n",
       "    <tr>\n",
       "      <th>(0)</th>\n",
       "    </tr>\n",
       "    <tr>\n",
       "      <th>(1)</th>\n",
       "    </tr>\n",
       "    <tr>\n",
       "      <th>(1)</th>\n",
       "    </tr>\n",
       "    <tr>\n",
       "      <th>(1)</th>\n",
       "    </tr>\n",
       "    <tr>\n",
       "      <th>(2)</th>\n",
       "    </tr>\n",
       "    <tr>\n",
       "      <th>(2)</th>\n",
       "    </tr>\n",
       "    <tr>\n",
       "      <th>(2)</th>\n",
       "    </tr>\n",
       "  </tbody>\n",
       "</table>\n",
       "</div>"
      ],
      "text/plain": [
       "Empty DataFrame\n",
       "Columns: []\n",
       "Index: [(0), (0), (1), (1), (1), (2), (2), (2)]"
      ]
     },
     "execution_count": 122,
     "metadata": {},
     "output_type": "execute_result"
    }
   ],
   "source": [
    "f = []\n",
    "k = pd.DataFrame(a,index = b,columns = f)\n",
    "k"
   ]
  },
  {
   "cell_type": "code",
   "execution_count": 92,
   "metadata": {
    "collapsed": false
   },
   "outputs": [
    {
     "ename": "TypeError",
     "evalue": "print_results() takes 0 positional arguments but 1 was given",
     "output_type": "error",
     "traceback": [
      "\u001b[0;31m---------------------------------------------------------------------------\u001b[0m",
      "\u001b[0;31mTypeError\u001b[0m                                 Traceback (most recent call last)",
      "\u001b[0;32m<ipython-input-92-6ff4cff82bb8>\u001b[0m in \u001b[0;36m<module>\u001b[0;34m()\u001b[0m\n\u001b[0;32m----> 1\u001b[0;31m \u001b[0mprint_results\u001b[0m\u001b[1;33m(\u001b[0m\u001b[1;36m1\u001b[0m\u001b[1;33m)\u001b[0m\u001b[1;33m\u001b[0m\u001b[0m\n\u001b[0m",
      "\u001b[0;31mTypeError\u001b[0m: print_results() takes 0 positional arguments but 1 was given"
     ]
    }
   ],
   "source": [
    "print_results(1)"
   ]
  },
  {
   "cell_type": "code",
   "execution_count": null,
   "metadata": {
    "collapsed": true
   },
   "outputs": [],
   "source": []
  },
  {
   "cell_type": "code",
   "execution_count": 77,
   "metadata": {
    "collapsed": false
   },
   "outputs": [
    {
     "ename": "AttributeError",
     "evalue": "'list' object has no attribute 'keys'",
     "output_type": "error",
     "traceback": [
      "\u001b[0;31m---------------------------------------------------------------------------\u001b[0m",
      "\u001b[0;31mAttributeError\u001b[0m                            Traceback (most recent call last)",
      "\u001b[0;32m<ipython-input-77-7bce326df973>\u001b[0m in \u001b[0;36m<module>\u001b[0;34m()\u001b[0m\n\u001b[0;32m----> 1\u001b[0;31m \u001b[0mrows\u001b[0m \u001b[1;33m=\u001b[0m \u001b[0mlist\u001b[0m\u001b[1;33m(\u001b[0m\u001b[0mprint_results\u001b[0m\u001b[1;33m(\u001b[0m\u001b[1;33m)\u001b[0m\u001b[1;33m.\u001b[0m\u001b[0mkeys\u001b[0m\u001b[1;33m(\u001b[0m\u001b[1;33m)\u001b[0m\u001b[1;33m)\u001b[0m\u001b[1;33m\u001b[0m\u001b[0m\n\u001b[0m\u001b[1;32m      2\u001b[0m \u001b[0mrows\u001b[0m\u001b[1;33m\u001b[0m\u001b[0m\n",
      "\u001b[0;31mAttributeError\u001b[0m: 'list' object has no attribute 'keys'"
     ]
    }
   ],
   "source": [
    "rows = list(print_results().keys())\n",
    "rows"
   ]
  },
  {
   "cell_type": "code",
   "execution_count": null,
   "metadata": {
    "collapsed": true
   },
   "outputs": [],
   "source": []
  },
  {
   "cell_type": "code",
   "execution_count": null,
   "metadata": {
    "collapsed": true
   },
   "outputs": [],
   "source": []
  },
  {
   "cell_type": "code",
   "execution_count": null,
   "metadata": {
    "collapsed": true
   },
   "outputs": [],
   "source": []
  },
  {
   "cell_type": "code",
   "execution_count": 63,
   "metadata": {
    "collapsed": false,
    "scrolled": false
   },
   "outputs": [
    {
     "data": {
      "text/html": [
       "<div>\n",
       "<table border=\"1\" class=\"dataframe\">\n",
       "  <thead>\n",
       "    <tr style=\"text-align: right;\">\n",
       "      <th></th>\n",
       "      <th>0</th>\n",
       "      <th>1</th>\n",
       "      <th>2</th>\n",
       "    </tr>\n",
       "  </thead>\n",
       "  <tbody>\n",
       "    <tr>\n",
       "      <th>0</th>\n",
       "      <td>2.22</td>\n",
       "      <td>NaN</td>\n",
       "      <td>NaN</td>\n",
       "    </tr>\n",
       "    <tr>\n",
       "      <th>1</th>\n",
       "      <td>1.46</td>\n",
       "      <td>NaN</td>\n",
       "      <td>NaN</td>\n",
       "    </tr>\n",
       "    <tr>\n",
       "      <th>2</th>\n",
       "      <td>NaN</td>\n",
       "      <td>3.96</td>\n",
       "      <td>NaN</td>\n",
       "    </tr>\n",
       "    <tr>\n",
       "      <th>3</th>\n",
       "      <td>NaN</td>\n",
       "      <td>5.09</td>\n",
       "      <td>NaN</td>\n",
       "    </tr>\n",
       "    <tr>\n",
       "      <th>4</th>\n",
       "      <td>NaN</td>\n",
       "      <td>4.79</td>\n",
       "      <td>NaN</td>\n",
       "    </tr>\n",
       "    <tr>\n",
       "      <th>5</th>\n",
       "      <td>NaN</td>\n",
       "      <td>NaN</td>\n",
       "      <td>3.14</td>\n",
       "    </tr>\n",
       "    <tr>\n",
       "      <th>6</th>\n",
       "      <td>NaN</td>\n",
       "      <td>NaN</td>\n",
       "      <td>3.12</td>\n",
       "    </tr>\n",
       "    <tr>\n",
       "      <th>7</th>\n",
       "      <td>NaN</td>\n",
       "      <td>NaN</td>\n",
       "      <td>2.85</td>\n",
       "    </tr>\n",
       "    <tr>\n",
       "      <th>8</th>\n",
       "      <td>NaN</td>\n",
       "      <td>NaN</td>\n",
       "      <td>2.90</td>\n",
       "    </tr>\n",
       "  </tbody>\n",
       "</table>\n",
       "</div>"
      ],
      "text/plain": [
       "      0     1     2\n",
       "0  2.22   NaN   NaN\n",
       "1  1.46   NaN   NaN\n",
       "2   NaN  3.96   NaN\n",
       "3   NaN  5.09   NaN\n",
       "4   NaN  4.79   NaN\n",
       "5   NaN   NaN  3.14\n",
       "6   NaN   NaN  3.12\n",
       "7   NaN   NaN  2.85\n",
       "8   NaN   NaN  2.90"
      ]
     },
     "execution_count": 63,
     "metadata": {},
     "output_type": "execute_result"
    }
   ],
   "source": [
    "pd.DataFrame(print_results())"
   ]
  },
  {
   "cell_type": "code",
   "execution_count": 89,
   "metadata": {
    "collapsed": false
   },
   "outputs": [
    {
     "ename": "TypeError",
     "evalue": "__init__() got an unexpected keyword argument 'orient'",
     "output_type": "error",
     "traceback": [
      "\u001b[0;31m---------------------------------------------------------------------------\u001b[0m",
      "\u001b[0;31mTypeError\u001b[0m                                 Traceback (most recent call last)",
      "\u001b[0;32m<ipython-input-89-08443e0109dc>\u001b[0m in \u001b[0;36m<module>\u001b[0;34m()\u001b[0m\n\u001b[0;32m----> 1\u001b[0;31m \u001b[0mdf\u001b[0m \u001b[1;33m=\u001b[0m \u001b[0mpd\u001b[0m\u001b[1;33m.\u001b[0m\u001b[0mDataFrame\u001b[0m\u001b[1;33m(\u001b[0m\u001b[0mprint_results\u001b[0m\u001b[1;33m(\u001b[0m\u001b[1;33m)\u001b[0m\u001b[1;33m,\u001b[0m \u001b[0morient\u001b[0m\u001b[1;33m=\u001b[0m\u001b[1;34m'split'\u001b[0m\u001b[1;33m)\u001b[0m\u001b[1;33m\u001b[0m\u001b[0m\n\u001b[0m\u001b[1;32m      2\u001b[0m \u001b[0mdf\u001b[0m\u001b[1;33m\u001b[0m\u001b[0m\n\u001b[1;32m      3\u001b[0m \u001b[1;33m\u001b[0m\u001b[0m\n",
      "\u001b[0;31mTypeError\u001b[0m: __init__() got an unexpected keyword argument 'orient'"
     ]
    }
   ],
   "source": [
    "df = pd.DataFrame(print_results(), orient='split')\n",
    "df\n",
    "            "
   ]
  },
  {
   "cell_type": "code",
   "execution_count": 69,
   "metadata": {
    "collapsed": false,
    "scrolled": true
   },
   "outputs": [],
   "source": [
    "#for n in print_results():\n",
    "    #print(n)\n",
    "    #n[0]\n",
    "    #for p in n:\n",
    "        #print(round(n[p],2))"
   ]
  },
  {
   "cell_type": "code",
   "execution_count": 86,
   "metadata": {
    "collapsed": false,
    "scrolled": true
   },
   "outputs": [
    {
     "data": {
      "text/html": [
       "<div>\n",
       "<table border=\"1\" class=\"dataframe\">\n",
       "  <thead>\n",
       "    <tr style=\"text-align: right;\">\n",
       "      <th></th>\n",
       "      <th>sessions</th>\n",
       "      <th>bounce_rate</th>\n",
       "      <th>conversions</th>\n",
       "      <th>conversion_rate</th>\n",
       "    </tr>\n",
       "  </thead>\n",
       "  <tbody>\n",
       "    <tr>\n",
       "      <th>Croydon, 18-24</th>\n",
       "      <td>101</td>\n",
       "      <td>41.584158</td>\n",
       "      <td>4</td>\n",
       "      <td>3.960396</td>\n",
       "    </tr>\n",
       "    <tr>\n",
       "      <th>Croydon, 25-34</th>\n",
       "      <td>334</td>\n",
       "      <td>47.904192</td>\n",
       "      <td>17</td>\n",
       "      <td>5.089820</td>\n",
       "    </tr>\n",
       "    <tr>\n",
       "      <th>Croydon, 35-44</th>\n",
       "      <td>223</td>\n",
       "      <td>43.049327</td>\n",
       "      <td>7</td>\n",
       "      <td>3.139013</td>\n",
       "    </tr>\n",
       "    <tr>\n",
       "      <th>Croydon, 45-54</th>\n",
       "      <td>90</td>\n",
       "      <td>45.555556</td>\n",
       "      <td>2</td>\n",
       "      <td>2.222222</td>\n",
       "    </tr>\n",
       "    <tr>\n",
       "      <th>Croydon, 55-64</th>\n",
       "      <td>32</td>\n",
       "      <td>53.125000</td>\n",
       "      <td>1</td>\n",
       "      <td>3.125000</td>\n",
       "    </tr>\n",
       "    <tr>\n",
       "      <th>London, 18-24</th>\n",
       "      <td>167</td>\n",
       "      <td>49.700599</td>\n",
       "      <td>8</td>\n",
       "      <td>4.790419</td>\n",
       "    </tr>\n",
       "    <tr>\n",
       "      <th>London, 25-34</th>\n",
       "      <td>842</td>\n",
       "      <td>59.144893</td>\n",
       "      <td>24</td>\n",
       "      <td>2.850356</td>\n",
       "    </tr>\n",
       "    <tr>\n",
       "      <th>London, 35-44</th>\n",
       "      <td>482</td>\n",
       "      <td>54.771784</td>\n",
       "      <td>14</td>\n",
       "      <td>2.904564</td>\n",
       "    </tr>\n",
       "    <tr>\n",
       "      <th>London, 45-54</th>\n",
       "      <td>205</td>\n",
       "      <td>55.609756</td>\n",
       "      <td>3</td>\n",
       "      <td>1.463415</td>\n",
       "    </tr>\n",
       "    <tr>\n",
       "      <th>London, 55-64</th>\n",
       "      <td>37</td>\n",
       "      <td>48.648649</td>\n",
       "      <td>0</td>\n",
       "      <td>0.000000</td>\n",
       "    </tr>\n",
       "  </tbody>\n",
       "</table>\n",
       "</div>"
      ],
      "text/plain": [
       "                sessions  bounce_rate  conversions  conversion_rate\n",
       "Croydon, 18-24       101    41.584158            4         3.960396\n",
       "Croydon, 25-34       334    47.904192           17         5.089820\n",
       "Croydon, 35-44       223    43.049327            7         3.139013\n",
       "Croydon, 45-54        90    45.555556            2         2.222222\n",
       "Croydon, 55-64        32    53.125000            1         3.125000\n",
       "London, 18-24        167    49.700599            8         4.790419\n",
       "London, 25-34        842    59.144893           24         2.850356\n",
       "London, 35-44        482    54.771784           14         2.904564\n",
       "London, 45-54        205    55.609756            3         1.463415\n",
       "London, 55-64         37    48.648649            0         0.000000"
      ]
     },
     "execution_count": 86,
     "metadata": {},
     "output_type": "execute_result"
    }
   ],
   "source": [
    "table"
   ]
  },
  {
   "cell_type": "code",
   "execution_count": 68,
   "metadata": {
    "collapsed": false
   },
   "outputs": [
    {
     "data": {
      "text/html": [
       "<div>\n",
       "<table border=\"1\" class=\"dataframe\">\n",
       "  <thead>\n",
       "    <tr style=\"text-align: right;\">\n",
       "      <th></th>\n",
       "      <th>conversion_rate</th>\n",
       "    </tr>\n",
       "  </thead>\n",
       "  <tbody>\n",
       "    <tr>\n",
       "      <th>Croydon, 18-24</th>\n",
       "      <td>3.96</td>\n",
       "    </tr>\n",
       "    <tr>\n",
       "      <th>Croydon, 25-34</th>\n",
       "      <td>5.09</td>\n",
       "    </tr>\n",
       "    <tr>\n",
       "      <th>Croydon, 35-44</th>\n",
       "      <td>3.14</td>\n",
       "    </tr>\n",
       "    <tr>\n",
       "      <th>Croydon, 45-54</th>\n",
       "      <td>2.22</td>\n",
       "    </tr>\n",
       "    <tr>\n",
       "      <th>Croydon, 55-64</th>\n",
       "      <td>3.12</td>\n",
       "    </tr>\n",
       "    <tr>\n",
       "      <th>London, 18-24</th>\n",
       "      <td>4.79</td>\n",
       "    </tr>\n",
       "    <tr>\n",
       "      <th>London, 25-34</th>\n",
       "      <td>2.85</td>\n",
       "    </tr>\n",
       "    <tr>\n",
       "      <th>London, 35-44</th>\n",
       "      <td>2.90</td>\n",
       "    </tr>\n",
       "    <tr>\n",
       "      <th>London, 45-54</th>\n",
       "      <td>1.46</td>\n",
       "    </tr>\n",
       "    <tr>\n",
       "      <th>London, 55-64</th>\n",
       "      <td>0.00</td>\n",
       "    </tr>\n",
       "  </tbody>\n",
       "</table>\n",
       "</div>"
      ],
      "text/plain": [
       "                conversion_rate\n",
       "Croydon, 18-24             3.96\n",
       "Croydon, 25-34             5.09\n",
       "Croydon, 35-44             3.14\n",
       "Croydon, 45-54             2.22\n",
       "Croydon, 55-64             3.12\n",
       "London, 18-24              4.79\n",
       "London, 25-34              2.85\n",
       "London, 35-44              2.90\n",
       "London, 45-54              1.46\n",
       "London, 55-64              0.00"
      ]
     },
     "execution_count": 68,
     "metadata": {},
     "output_type": "execute_result"
    }
   ],
   "source": [
    "pd.DataFrame(round(table.conversion_rate,2))"
   ]
  },
  {
   "cell_type": "code",
   "execution_count": 61,
   "metadata": {
    "collapsed": false
   },
   "outputs": [
    {
     "data": {
      "text/plain": [
       "3.96"
      ]
     },
     "execution_count": 61,
     "metadata": {},
     "output_type": "execute_result"
    }
   ],
   "source": [
    "round(table.conversion_rate[0],2)"
   ]
  },
  {
   "cell_type": "code",
   "execution_count": 83,
   "metadata": {
    "collapsed": false
   },
   "outputs": [
    {
     "ename": "AttributeError",
     "evalue": "'DataFrame' object has no attribute 'row'",
     "output_type": "error",
     "traceback": [
      "\u001b[0;31m---------------------------------------------------------------------------\u001b[0m",
      "\u001b[0;31mAttributeError\u001b[0m                            Traceback (most recent call last)",
      "\u001b[0;32m<ipython-input-83-78e7fa37d4a8>\u001b[0m in \u001b[0;36m<module>\u001b[0;34m()\u001b[0m\n\u001b[0;32m----> 1\u001b[0;31m \u001b[0mtable\u001b[0m\u001b[1;33m.\u001b[0m\u001b[0mrow\u001b[0m\u001b[1;33m\u001b[0m\u001b[0m\n\u001b[0m",
      "\u001b[0;32mC:\\ProgramData\\Anaconda3\\lib\\site-packages\\pandas\\core\\generic.py\u001b[0m in \u001b[0;36m__getattr__\u001b[0;34m(self, name)\u001b[0m\n\u001b[1;32m   2742\u001b[0m             \u001b[1;32mif\u001b[0m \u001b[0mname\u001b[0m \u001b[1;32min\u001b[0m \u001b[0mself\u001b[0m\u001b[1;33m.\u001b[0m\u001b[0m_info_axis\u001b[0m\u001b[1;33m:\u001b[0m\u001b[1;33m\u001b[0m\u001b[0m\n\u001b[1;32m   2743\u001b[0m                 \u001b[1;32mreturn\u001b[0m \u001b[0mself\u001b[0m\u001b[1;33m[\u001b[0m\u001b[0mname\u001b[0m\u001b[1;33m]\u001b[0m\u001b[1;33m\u001b[0m\u001b[0m\n\u001b[0;32m-> 2744\u001b[0;31m             \u001b[1;32mreturn\u001b[0m \u001b[0mobject\u001b[0m\u001b[1;33m.\u001b[0m\u001b[0m__getattribute__\u001b[0m\u001b[1;33m(\u001b[0m\u001b[0mself\u001b[0m\u001b[1;33m,\u001b[0m \u001b[0mname\u001b[0m\u001b[1;33m)\u001b[0m\u001b[1;33m\u001b[0m\u001b[0m\n\u001b[0m\u001b[1;32m   2745\u001b[0m \u001b[1;33m\u001b[0m\u001b[0m\n\u001b[1;32m   2746\u001b[0m     \u001b[1;32mdef\u001b[0m \u001b[0m__setattr__\u001b[0m\u001b[1;33m(\u001b[0m\u001b[0mself\u001b[0m\u001b[1;33m,\u001b[0m \u001b[0mname\u001b[0m\u001b[1;33m,\u001b[0m \u001b[0mvalue\u001b[0m\u001b[1;33m)\u001b[0m\u001b[1;33m:\u001b[0m\u001b[1;33m\u001b[0m\u001b[0m\n",
      "\u001b[0;31mAttributeError\u001b[0m: 'DataFrame' object has no attribute 'row'"
     ]
    }
   ],
   "source": [
    "table.row"
   ]
  },
  {
   "cell_type": "code",
   "execution_count": null,
   "metadata": {
    "collapsed": true
   },
   "outputs": [],
   "source": []
  }
 ],
 "metadata": {
  "kernelspec": {
   "display_name": "Python 3",
   "language": "python",
   "name": "python3"
  },
  "language_info": {
   "codemirror_mode": {
    "name": "ipython",
    "version": 3
   },
   "file_extension": ".py",
   "mimetype": "text/x-python",
   "name": "python",
   "nbconvert_exporter": "python",
   "pygments_lexer": "ipython3",
   "version": "3.6.0"
  }
 },
 "nbformat": 4,
 "nbformat_minor": 2
}
