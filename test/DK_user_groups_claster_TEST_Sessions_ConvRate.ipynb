{
 "cells": [
  {
   "cell_type": "markdown",
   "metadata": {},
   "source": [
    "# User groups"
   ]
  },
  {
   "cell_type": "code",
   "execution_count": null,
   "metadata": {
    "collapsed": true
   },
   "outputs": [],
   "source": [
    "request = \"POST https://analyticsreporting.googleapis.com/v4/reports:batchGet?fields=reports(columnHeader%2Cdata(rows%2Ctotals))&key={YOUR_API_KEY}\"\n",
    "request = {\n",
    " \"reportRequests\": [\n",
    "  {\n",
    "   \"viewId\": \"123303369\",\n",
    "   \"dateRanges\": [\n",
    "    {\n",
    "     \"startDate\": \"2017-01-01\",\n",
    "     \"endDate\": \"2017-04-30\"\n",
    "    }\n",
    "   ],\n",
    "   \"metrics\": [\n",
    "    {\n",
    "     \"expression\": \"ga:sessions\"\n",
    "    },\n",
    "    {\n",
    "     \"expression\": \"ga:sessionDuration\"\n",
    "    },\n",
    "    {\n",
    "     \"expression\": \"ga:goal1Completions\"\n",
    "    },\n",
    "    {\n",
    "     \"expression\": \"ga:bounceRate\"\n",
    "    }\n",
    "   ],\n",
    "   \"dimensions\": [\n",
    "    {\n",
    "     \"name\": \"ga:city\"\n",
    "    },\n",
    "    {\n",
    "     \"name\": \"ga:userAgeBracket\"\n",
    "    }\n",
    "   ]\n",
    "  }\n",
    " ]\n",
    "}"
   ]
  },
  {
   "cell_type": "code",
   "execution_count": null,
   "metadata": {
    "collapsed": false,
    "scrolled": true
   },
   "outputs": [],
   "source": [
    "import json\n",
    "\n",
    "with open('data/TMRW_user_groups.json') as file:\n",
    "    input_ugroups = json.load(file)\n",
    "    \n",
    "#input_ugroups\n",
    "\n",
    "# Define dimensions list\n",
    "input_ugroups_dimensions = input_ugroups['reports'][0]['columnHeader']['dimensions']\n",
    "\n",
    "dimension_count = len(input_ugroups_dimensions)\n",
    "\n",
    "# Define metrics list\n",
    "input_ugroups_metrics = input_ugroups['reports'][0]['columnHeader']['metricHeader']['metricHeaderEntries']\n",
    "\n",
    "def create_metric_list(raw_data):\n",
    "    lst = []\n",
    "    for item in raw_data:\n",
    "        lst.append(item['name'])\n",
    "    return lst\n",
    "\n",
    "input_ugroups_metrics = create_metric_list(input_ugroups_metrics)\n",
    "\n",
    "\n",
    "# Create input data\n",
    "\n",
    "input_ugroups_data = input_ugroups['reports'][0]['data']['rows']\n",
    "\n",
    "input_ugroups_data"
   ]
  },
  {
   "cell_type": "code",
   "execution_count": null,
   "metadata": {
    "collapsed": false
   },
   "outputs": [],
   "source": [
    "values_list = []\n",
    "for group in input_ugroups_data:\n",
    "    new_dim_name = group['dimensions'][0] + \", \" + group['dimensions'][1]\n",
    "    group[new_dim_name] = group['metrics'][0]\n",
    "    del group['dimensions']\n",
    "    del group['metrics']\n",
    "    \n",
    "    #conv_rate = round(float(int(group[new_dim_name]['values'][2])/int(group[new_dim_name]['values'][0])*100),2)\n",
    "    group[new_dim_name]['values'] = list(map(float,group[new_dim_name]['values']))\n",
    "    group[new_dim_name]['values'].append(new_dim_name)\n",
    "    values_list.append(group[new_dim_name]['values'])\n",
    "    #list(map(float,group[new_dim_name]['values'])).append(new_dim_name)\n",
    "    #values_list = values_list.apply(lambda x: x[0][0][1])\n",
    "\n",
    "    #group[new_dim_name]['values'].append(conv_rate)\n",
    "    #print(group[new_dim_name])\n",
    "    \n",
    "values_list    \n",
    "#input_ugroups_data"
   ]
  },
  {
   "cell_type": "code",
   "execution_count": null,
   "metadata": {
    "collapsed": false
   },
   "outputs": [],
   "source": [
    "# Define each metric dict\n",
    "\n",
    "ugroups_data = {}\n",
    "\n",
    "for ugroup in input_ugroups_data:\n",
    "    #print (ugroup)\n",
    "    \n",
    "    for gr in ugroup:\n",
    "        ugroups_data[gr] = {'sessions':0,\n",
    "                            'bounce_rate':0,\n",
    "                            'conversions':0,\n",
    "                            'conversion_rate':0,\n",
    "                            'city_age':'',}\n",
    "        \n",
    "        ugroups_data[gr]['sessions'] = round(float(ugroup[gr]['values'][0]),2)\n",
    "        ugroups_data[gr]['conversions'] = round(float(ugroup[gr]['values'][1]),2)\n",
    "        ugroups_data[gr]['bounce_rate'] = round(float(ugroup[gr]['values'][2]),2)\n",
    "        ugroups_data[gr]['conversion_rate'] = round(float(ugroup[gr]['values'][3]),2)\n",
    "        ugroups_data[gr]['city_age'] = list(ugroups_data.keys())\n",
    "        \n",
    "#ugroups_data"
   ]
  },
  {
   "cell_type": "code",
   "execution_count": null,
   "metadata": {
    "collapsed": false
   },
   "outputs": [],
   "source": [
    "import collections\n",
    "from collections import OrderedDict\n",
    "\n",
    "columns = []\n",
    "for u in ugroups_data:\n",
    "    #print (test[r])\n",
    "    for metric in ugroups_data[u]:\n",
    "        columns.append(metric)\n",
    "    \n",
    "columns = list(OrderedDict.fromkeys(columns))    \n",
    "columns"
   ]
  },
  {
   "cell_type": "code",
   "execution_count": null,
   "metadata": {
    "collapsed": true
   },
   "outputs": [],
   "source": [
    "import pandas as pd"
   ]
  },
  {
   "cell_type": "code",
   "execution_count": null,
   "metadata": {
    "collapsed": false
   },
   "outputs": [],
   "source": [
    "df = pd.DataFrame(values_list, columns = columns)\n",
    "\n",
    "df.to_json(orient='split')\n",
    "table_data = pd.read_json(df.to_json(orient='split'), orient='split')\n",
    "table_data.conversion_rate = round(table_data.conversion_rate,2)\n",
    "table_data = table_data[table_data.conversions > 0]\n",
    "table_data"
   ]
  },
  {
   "cell_type": "code",
   "execution_count": 45,
   "metadata": {
    "collapsed": false
   },
   "outputs": [
    {
     "data": {
      "text/plain": [
       "[[32], [90], [101], [167], [205], [223], [334], [482], [842]]"
      ]
     },
     "execution_count": 45,
     "metadata": {},
     "output_type": "execute_result"
    }
   ],
   "source": [
    "samples_sessions=[]\n",
    "for i in range(0,len(table_data)):\n",
    "    a = [table_data.sessions[i]]\n",
    "    samples_sessions.append(a)\n",
    "    \n",
    "samples_sessions = sorted(samples_sessions, key=lambda x: x[0])\n",
    "samples_sessions"
   ]
  },
  {
   "cell_type": "code",
   "execution_count": 46,
   "metadata": {
    "collapsed": false
   },
   "outputs": [
    {
     "data": {
      "text/plain": [
       "4"
      ]
     },
     "execution_count": 46,
     "metadata": {},
     "output_type": "execute_result"
    }
   ],
   "source": [
    "mediana_number = int(len(samples_sessions)/2)\n",
    "mediana_number"
   ]
  },
  {
   "cell_type": "code",
   "execution_count": 47,
   "metadata": {
    "collapsed": true
   },
   "outputs": [],
   "source": [
    "import random\n",
    "import math\n",
    "\n",
    "NUM_CLUSTERS = 3\n",
    "TOTAL_DATA = len(samples_sessions)\n",
    "LOWEST_SAMPLE_POINT = samples_sessions.index(min(samples_sessions)) #element 9 of SAMPLES.\n",
    "Middle_SAMPLE_POINT = mediana_number\n",
    "HIGHEST_SAMPLE_POINT = samples_sessions.index(max(samples_sessions)) #element 6 of SAMPLES.\n",
    "BIG_NUMBER = math.pow(10, 10)\n",
    "\n",
    "\n",
    "SAMPLES = samples_sessions\n",
    "data1 = []\n",
    "centroids = []\n",
    "\n",
    "class DataPoint:\n",
    "    def __init__(self, x):\n",
    "        self.x = x\n",
    "          \n",
    "    def set_x(self, x):\n",
    "        self.x = x\n",
    "    \n",
    "    def get_x(self):\n",
    "        return self.x\n",
    "      \n",
    "    def set_cluster(self, clusterNumber):\n",
    "        self.clusterNumber = clusterNumber\n",
    "    \n",
    "    def get_cluster(self):\n",
    "        return self.clusterNumber\n",
    "\n",
    "class Centroid:\n",
    "    def __init__(self, x):\n",
    "        self.x = x\n",
    "    \n",
    "    def set_x(self, x):\n",
    "        self.x = x\n",
    "    \n",
    "    def get_x(self):\n",
    "        return self.x\n",
    "    \n"
   ]
  },
  {
   "cell_type": "code",
   "execution_count": 48,
   "metadata": {
    "collapsed": false
   },
   "outputs": [],
   "source": [
    "def initialize_centroids():\n",
    "    # Set the centoid coordinates to match the data points furthest from each other.\n",
    "    # In this example, [31, 51.613, 1, 3.2260000000000004] and [758, 59.234999999999999, 22, 2.9019999999999997]\n",
    "    centroids.append(Centroid(SAMPLES[LOWEST_SAMPLE_POINT][0]))\n",
    "    centroids.append(Centroid(SAMPLES[Middle_SAMPLE_POINT][0]))\n",
    "    centroids.append(Centroid(SAMPLES[HIGHEST_SAMPLE_POINT][0]))\n",
    "    \n",
    "    print(\"Centroids initialized at:\")\n",
    "    print(\"(\", centroids[0].get_x(),\")\")\n",
    "    print(\"(\", centroids[1].get_x(),\")\")\n",
    "    print(\"(\", centroids[2].get_x(),\")\")\n",
    "    print()\n",
    "    return\n",
    "#print(initialize_centroids())\n",
    "#print(centroids.append(Centroid(SAMPLES[HIGHEST_SAMPLE_POINT][0])))"
   ]
  },
  {
   "cell_type": "code",
   "execution_count": 49,
   "metadata": {
    "collapsed": true
   },
   "outputs": [],
   "source": [
    "def initialize_datapoints():\n",
    "    # DataPoint objects' x and y values are taken from the SAMPLE array.\n",
    "    # The DataPoints associated with LOWEST_SAMPLE_POINT and HIGHEST_SAMPLE_POINT are initially\n",
    "    # assigned to the clusters matching the LOWEST_SAMPLE_POINT and HIGHEST_SAMPLE_POINT centroids.\n",
    "    for i in range(TOTAL_DATA):\n",
    "        newPoint = DataPoint(SAMPLES[i][0])\n",
    "        \n",
    "        if(i == LOWEST_SAMPLE_POINT):\n",
    "            newPoint.set_cluster(0)\n",
    "        elif(i == Middle_SAMPLE_POINT):\n",
    "            newPoint.set_cluster(1)\n",
    "        elif(i == HIGHEST_SAMPLE_POINT):\n",
    "            newPoint.set_cluster(2)\n",
    "        else:\n",
    "            newPoint.set_cluster(None)\n",
    "            \n",
    "        data1.append(newPoint)\n",
    "    \n",
    "    return\n",
    "\n"
   ]
  },
  {
   "cell_type": "code",
   "execution_count": 50,
   "metadata": {
    "collapsed": true
   },
   "outputs": [],
   "source": [
    "def get_distance(dataPointX, centroidX):\n",
    "    # Calculate Euclidean distance.\n",
    "    return math.sqrt(math.pow((centroidX - dataPointX), 2))\n"
   ]
  },
  {
   "cell_type": "code",
   "execution_count": 51,
   "metadata": {
    "collapsed": false
   },
   "outputs": [
    {
     "name": "stdout",
     "output_type": "stream",
     "text": [
      "None\n"
     ]
    }
   ],
   "source": [
    "def recalculate_centroids():\n",
    "    totalX = 0\n",
    "    totalInCluster = 0\n",
    "    \n",
    "    for j in range(NUM_CLUSTERS):\n",
    "        for k in range(len(data1)):\n",
    "            if(data1[k].get_cluster() == j):\n",
    "                totalX += data1[k].get_x()\n",
    "                totalInCluster += 1\n",
    "        \n",
    "        if(totalInCluster > 0):\n",
    "            centroids[j].set_x(totalX / totalInCluster)\n",
    "               \n",
    "    return\n",
    "\n",
    "print(recalculate_centroids())"
   ]
  },
  {
   "cell_type": "code",
   "execution_count": 52,
   "metadata": {
    "collapsed": true
   },
   "outputs": [],
   "source": [
    "def update_clusters():\n",
    "    isStillMoving = 0\n",
    "    \n",
    "    for i in range(TOTAL_DATA):\n",
    "        bestMinimum = BIG_NUMBER\n",
    "        currentCluster = 0\n",
    "        \n",
    "        for j in range(NUM_CLUSTERS):\n",
    "            distance = get_distance(data1[i].get_x(), centroids[j].get_x())\n",
    "            if(distance < bestMinimum):\n",
    "                bestMinimum = distance\n",
    "                currentCluster = j\n",
    "        \n",
    "        data1[i].set_cluster(currentCluster)\n",
    "        \n",
    "        if(data1[i].get_cluster() is None or data1[i].get_cluster() != currentCluster):\n",
    "            data1[i].set_cluster(currentCluster)\n",
    "            isStillMoving = 1\n",
    "    \n",
    "    return isStillMoving"
   ]
  },
  {
   "cell_type": "code",
   "execution_count": 53,
   "metadata": {
    "collapsed": false
   },
   "outputs": [
    {
     "name": "stdout",
     "output_type": "stream",
     "text": [
      "Centroids initialized at:\n",
      "( 32 )\n",
      "( 205 )\n",
      "( 842 )\n",
      "\n"
     ]
    }
   ],
   "source": [
    "def perform_kmeans():\n",
    "    isStillMoving = 1\n",
    "    \n",
    "    initialize_centroids()\n",
    "    \n",
    "    initialize_datapoints()\n",
    "    \n",
    "    while(isStillMoving):\n",
    "        recalculate_centroids()\n",
    "        isStillMoving = update_clusters()\n",
    "    \n",
    "    return\n",
    "\n",
    "perform_kmeans()"
   ]
  },
  {
   "cell_type": "code",
   "execution_count": 54,
   "metadata": {
    "collapsed": false
   },
   "outputs": [
    {
     "data": {
      "text/plain": [
       "[[0, 32],\n",
       " [1, 90],\n",
       " [1, 101],\n",
       " [1, 167],\n",
       " [1, 205],\n",
       " [1, 223],\n",
       " [2, 334],\n",
       " [2, 482],\n",
       " [2, 842]]"
      ]
     },
     "execution_count": 54,
     "metadata": {},
     "output_type": "execute_result"
    }
   ],
   "source": [
    "def print_results():\n",
    "    result_list = []\n",
    "    for i in range(NUM_CLUSTERS):\n",
    "        \n",
    "        for j in range(TOTAL_DATA):            \n",
    "            \n",
    "            if(data1[j].get_cluster() == i):\n",
    "                result = []               \n",
    "                result.append(data1[j].get_cluster())\n",
    "                result.append(data1[j].get_x()) \n",
    "                result_list.append(result)\n",
    "                               \n",
    "    return result_list\n",
    "\n",
    "print_results()\n"
   ]
  },
  {
   "cell_type": "code",
   "execution_count": 55,
   "metadata": {
    "collapsed": false
   },
   "outputs": [
    {
     "data": {
      "text/html": [
       "<div>\n",
       "<table border=\"1\" class=\"dataframe\">\n",
       "  <thead>\n",
       "    <tr style=\"text-align: right;\">\n",
       "      <th></th>\n",
       "      <th>#cluster_for_sess</th>\n",
       "      <th>sessions</th>\n",
       "    </tr>\n",
       "  </thead>\n",
       "  <tbody>\n",
       "    <tr>\n",
       "      <th>0</th>\n",
       "      <td>0</td>\n",
       "      <td>32</td>\n",
       "    </tr>\n",
       "    <tr>\n",
       "      <th>1</th>\n",
       "      <td>1</td>\n",
       "      <td>90</td>\n",
       "    </tr>\n",
       "    <tr>\n",
       "      <th>2</th>\n",
       "      <td>1</td>\n",
       "      <td>101</td>\n",
       "    </tr>\n",
       "    <tr>\n",
       "      <th>3</th>\n",
       "      <td>1</td>\n",
       "      <td>167</td>\n",
       "    </tr>\n",
       "    <tr>\n",
       "      <th>4</th>\n",
       "      <td>1</td>\n",
       "      <td>205</td>\n",
       "    </tr>\n",
       "    <tr>\n",
       "      <th>5</th>\n",
       "      <td>1</td>\n",
       "      <td>223</td>\n",
       "    </tr>\n",
       "    <tr>\n",
       "      <th>6</th>\n",
       "      <td>2</td>\n",
       "      <td>334</td>\n",
       "    </tr>\n",
       "    <tr>\n",
       "      <th>7</th>\n",
       "      <td>2</td>\n",
       "      <td>482</td>\n",
       "    </tr>\n",
       "    <tr>\n",
       "      <th>8</th>\n",
       "      <td>2</td>\n",
       "      <td>842</td>\n",
       "    </tr>\n",
       "  </tbody>\n",
       "</table>\n",
       "</div>"
      ],
      "text/plain": [
       "   #cluster_for_sess  sessions\n",
       "0                  0        32\n",
       "1                  1        90\n",
       "2                  1       101\n",
       "3                  1       167\n",
       "4                  1       205\n",
       "5                  1       223\n",
       "6                  2       334\n",
       "7                  2       482\n",
       "8                  2       842"
      ]
     },
     "execution_count": 55,
     "metadata": {},
     "output_type": "execute_result"
    }
   ],
   "source": [
    "cluster_sessions = pd.DataFrame(print_results(),columns = ['#cluster_for_sess','sessions'])\n",
    "cluster_sessions"
   ]
  },
  {
   "cell_type": "code",
   "execution_count": 56,
   "metadata": {
    "collapsed": false
   },
   "outputs": [
    {
     "name": "stderr",
     "output_type": "stream",
     "text": [
      "C:\\ProgramData\\Anaconda3\\lib\\site-packages\\ipykernel\\__main__.py:1: FutureWarning: sort(columns=....) is deprecated, use sort_values(by=.....)\n",
      "  if __name__ == '__main__':\n"
     ]
    },
    {
     "data": {
      "text/html": [
       "<div>\n",
       "<table border=\"1\" class=\"dataframe\">\n",
       "  <thead>\n",
       "    <tr style=\"text-align: right;\">\n",
       "      <th></th>\n",
       "      <th>sessions</th>\n",
       "      <th>bounce_rate</th>\n",
       "      <th>conversions</th>\n",
       "      <th>conversion_rate</th>\n",
       "      <th>city_age</th>\n",
       "      <th>#cluster_for_sess</th>\n",
       "    </tr>\n",
       "  </thead>\n",
       "  <tbody>\n",
       "    <tr>\n",
       "      <th>0</th>\n",
       "      <td>32</td>\n",
       "      <td>53.125000</td>\n",
       "      <td>1</td>\n",
       "      <td>3.12</td>\n",
       "      <td>Croydon, 55-64</td>\n",
       "      <td>0</td>\n",
       "    </tr>\n",
       "    <tr>\n",
       "      <th>1</th>\n",
       "      <td>90</td>\n",
       "      <td>45.555556</td>\n",
       "      <td>2</td>\n",
       "      <td>2.22</td>\n",
       "      <td>Croydon, 45-54</td>\n",
       "      <td>1</td>\n",
       "    </tr>\n",
       "    <tr>\n",
       "      <th>2</th>\n",
       "      <td>101</td>\n",
       "      <td>41.584158</td>\n",
       "      <td>4</td>\n",
       "      <td>3.96</td>\n",
       "      <td>Croydon, 18-24</td>\n",
       "      <td>1</td>\n",
       "    </tr>\n",
       "    <tr>\n",
       "      <th>3</th>\n",
       "      <td>167</td>\n",
       "      <td>49.700599</td>\n",
       "      <td>8</td>\n",
       "      <td>4.79</td>\n",
       "      <td>London, 18-24</td>\n",
       "      <td>1</td>\n",
       "    </tr>\n",
       "    <tr>\n",
       "      <th>4</th>\n",
       "      <td>205</td>\n",
       "      <td>55.609756</td>\n",
       "      <td>3</td>\n",
       "      <td>1.46</td>\n",
       "      <td>London, 45-54</td>\n",
       "      <td>1</td>\n",
       "    </tr>\n",
       "    <tr>\n",
       "      <th>5</th>\n",
       "      <td>223</td>\n",
       "      <td>43.049327</td>\n",
       "      <td>7</td>\n",
       "      <td>3.14</td>\n",
       "      <td>Croydon, 35-44</td>\n",
       "      <td>1</td>\n",
       "    </tr>\n",
       "    <tr>\n",
       "      <th>6</th>\n",
       "      <td>334</td>\n",
       "      <td>47.904192</td>\n",
       "      <td>17</td>\n",
       "      <td>5.09</td>\n",
       "      <td>Croydon, 25-34</td>\n",
       "      <td>2</td>\n",
       "    </tr>\n",
       "    <tr>\n",
       "      <th>7</th>\n",
       "      <td>482</td>\n",
       "      <td>54.771784</td>\n",
       "      <td>14</td>\n",
       "      <td>2.90</td>\n",
       "      <td>London, 35-44</td>\n",
       "      <td>2</td>\n",
       "    </tr>\n",
       "    <tr>\n",
       "      <th>8</th>\n",
       "      <td>842</td>\n",
       "      <td>59.144893</td>\n",
       "      <td>24</td>\n",
       "      <td>2.85</td>\n",
       "      <td>London, 25-34</td>\n",
       "      <td>2</td>\n",
       "    </tr>\n",
       "  </tbody>\n",
       "</table>\n",
       "</div>"
      ],
      "text/plain": [
       "   sessions  bounce_rate  conversions  conversion_rate        city_age  \\\n",
       "0        32    53.125000            1             3.12  Croydon, 55-64   \n",
       "1        90    45.555556            2             2.22  Croydon, 45-54   \n",
       "2       101    41.584158            4             3.96  Croydon, 18-24   \n",
       "3       167    49.700599            8             4.79   London, 18-24   \n",
       "4       205    55.609756            3             1.46   London, 45-54   \n",
       "5       223    43.049327            7             3.14  Croydon, 35-44   \n",
       "6       334    47.904192           17             5.09  Croydon, 25-34   \n",
       "7       482    54.771784           14             2.90   London, 35-44   \n",
       "8       842    59.144893           24             2.85   London, 25-34   \n",
       "\n",
       "   #cluster_for_sess  \n",
       "0                  0  \n",
       "1                  1  \n",
       "2                  1  \n",
       "3                  1  \n",
       "4                  1  \n",
       "5                  1  \n",
       "6                  2  \n",
       "7                  2  \n",
       "8                  2  "
      ]
     },
     "execution_count": 56,
     "metadata": {},
     "output_type": "execute_result"
    }
   ],
   "source": [
    "result_sessions = (table_data.sort('sessions')).merge(cluster_sessions, on = 'sessions')\n",
    "result_sessions"
   ]
  },
  {
   "cell_type": "code",
   "execution_count": null,
   "metadata": {
    "collapsed": true
   },
   "outputs": [],
   "source": []
  },
  {
   "cell_type": "code",
   "execution_count": 57,
   "metadata": {
    "collapsed": false,
    "scrolled": true
   },
   "outputs": [
    {
     "data": {
      "text/plain": [
       "[[1.46],\n",
       " [2.2200000000000002],\n",
       " [2.8500000000000001],\n",
       " [2.8999999999999999],\n",
       " [3.1200000000000001],\n",
       " [3.1400000000000001],\n",
       " [3.96],\n",
       " [4.79],\n",
       " [5.0899999999999999]]"
      ]
     },
     "execution_count": 57,
     "metadata": {},
     "output_type": "execute_result"
    }
   ],
   "source": [
    "samples_cr=[]\n",
    "for i in range(0,len(table_data)):\n",
    "    a = [table_data.conversion_rate[i]]\n",
    "    samples_cr.append(a)\n",
    "    \n",
    "samples_cr = sorted(samples_cr, key=lambda x: x[0])\n",
    "samples_cr"
   ]
  },
  {
   "cell_type": "code",
   "execution_count": 58,
   "metadata": {
    "collapsed": false
   },
   "outputs": [],
   "source": [
    "import random\n",
    "import math\n",
    "\n",
    "NUM_CLUSTERS = 3\n",
    "TOTAL_DATA = len(samples_cr)\n",
    "LOWEST_SAMPLE_POINT = samples_cr.index(min(samples_cr)) #element 9 of SAMPLES.\n",
    "Middle_SAMPLE_POINT = mediana_number\n",
    "HIGHEST_SAMPLE_POINT = samples_cr.index(max(samples_cr)) #element 6 of SAMPLES.\n",
    "BIG_NUMBER = math.pow(10, 10)\n",
    "\n",
    "\n",
    "SAMPLES = samples_cr\n",
    "data1 = []\n",
    "centroids = []\n",
    "\n",
    "class DataPoint:\n",
    "    def __init__(self, x):\n",
    "        self.x = x\n",
    "          \n",
    "    def set_x(self, x):\n",
    "        self.x = x\n",
    "    \n",
    "    def get_x(self):\n",
    "        return self.x\n",
    "      \n",
    "    def set_cluster(self, clusterNumber):\n",
    "        self.clusterNumber = clusterNumber\n",
    "    \n",
    "    def get_cluster(self):\n",
    "        return self.clusterNumber\n",
    "\n",
    "class Centroid:\n",
    "    def __init__(self, x):\n",
    "        self.x = x\n",
    "    \n",
    "    def set_x(self, x):\n",
    "        self.x = x\n",
    "    \n",
    "    def get_x(self):\n",
    "        return self.x\n",
    "    \n"
   ]
  },
  {
   "cell_type": "code",
   "execution_count": 59,
   "metadata": {
    "collapsed": true
   },
   "outputs": [],
   "source": [
    "def initialize_centroids():\n",
    "    # Set the centoid coordinates to match the data points furthest from each other.\n",
    "    # In this example, [31, 51.613, 1, 3.2260000000000004] and [758, 59.234999999999999, 22, 2.9019999999999997]\n",
    "    centroids.append(Centroid(SAMPLES[LOWEST_SAMPLE_POINT][0]))\n",
    "    centroids.append(Centroid(SAMPLES[Middle_SAMPLE_POINT][0]))\n",
    "    centroids.append(Centroid(SAMPLES[HIGHEST_SAMPLE_POINT][0]))\n",
    "        \n",
    "    print(\"Centroids initialized at:\")\n",
    "    print(\"(\", centroids[0].get_x(),\")\")\n",
    "    print(\"(\", centroids[1].get_x(),\")\")\n",
    "    print(\"(\", centroids[2].get_x(),\")\")\n",
    "    print()\n",
    "    return\n",
    "#print(initialize_centroids())\n",
    "#print(centroids.append(Centroid(SAMPLES[HIGHEST_SAMPLE_POINT][0])))"
   ]
  },
  {
   "cell_type": "code",
   "execution_count": 60,
   "metadata": {
    "collapsed": false
   },
   "outputs": [],
   "source": [
    "def initialize_datapoints():\n",
    "    # DataPoint objects' x and y values are taken from the SAMPLE array.\n",
    "    # The DataPoints associated with LOWEST_SAMPLE_POINT and HIGHEST_SAMPLE_POINT are initially\n",
    "    # assigned to the clusters matching the LOWEST_SAMPLE_POINT and HIGHEST_SAMPLE_POINT centroids.\n",
    "    for i in range(TOTAL_DATA):\n",
    "        newPoint = DataPoint(SAMPLES[i][0])\n",
    "        \n",
    "        if(i == LOWEST_SAMPLE_POINT):\n",
    "            newPoint.set_cluster(0)\n",
    "        elif(i == Middle_SAMPLE_POINT):\n",
    "            newPoint.set_cluster(1)\n",
    "        elif(i == HIGHEST_SAMPLE_POINT):\n",
    "            newPoint.set_cluster(2)\n",
    "        else:\n",
    "            newPoint.set_cluster(None)\n",
    "            \n",
    "        data1.append(newPoint)\n",
    "    \n",
    "    return\n"
   ]
  },
  {
   "cell_type": "code",
   "execution_count": 61,
   "metadata": {
    "collapsed": true
   },
   "outputs": [],
   "source": [
    "def get_distance(dataPointX, centroidX):\n",
    "    # Calculate Euclidean distance.\n",
    "    return math.sqrt(math.pow((centroidX - dataPointX), 2))"
   ]
  },
  {
   "cell_type": "code",
   "execution_count": 62,
   "metadata": {
    "collapsed": false
   },
   "outputs": [
    {
     "name": "stdout",
     "output_type": "stream",
     "text": [
      "None\n"
     ]
    }
   ],
   "source": [
    "def recalculate_centroids():\n",
    "    totalX = 0\n",
    "    totalInCluster = 0\n",
    "    \n",
    "    for j in range(NUM_CLUSTERS):\n",
    "        for k in range(len(data1)):\n",
    "            if(data1[k].get_cluster() == j):\n",
    "                totalX += data1[k].get_x()\n",
    "                totalInCluster += 1\n",
    "        \n",
    "        if(totalInCluster > 0):\n",
    "            centroids[j].set_x(totalX / totalInCluster)\n",
    "               \n",
    "    return\n",
    "\n",
    "print(recalculate_centroids())"
   ]
  },
  {
   "cell_type": "code",
   "execution_count": 72,
   "metadata": {
    "collapsed": true
   },
   "outputs": [],
   "source": [
    "def update_clusters():\n",
    "    isStillMoving = 0\n",
    "    \n",
    "    for i in range(TOTAL_DATA):\n",
    "        bestMinimum = BIG_NUMBER\n",
    "        currentCluster = 0\n",
    "        \n",
    "        for j in range(NUM_CLUSTERS):\n",
    "            distance = get_distance(data1[i].get_x(), centroids[j].get_x())\n",
    "            if(distance < bestMinimum):\n",
    "                bestMinimum = distance\n",
    "                currentCluster = j\n",
    "        \n",
    "        data1[i].set_cluster(currentCluster)\n",
    "        \n",
    "        if(data1[i].get_cluster() is None or data1[i].get_cluster() != currentCluster):\n",
    "            data1[i].set_cluster(currentCluster)\n",
    "            isStillMoving = 1\n",
    "    \n",
    "    return isStillMoving"
   ]
  },
  {
   "cell_type": "code",
   "execution_count": 87,
   "metadata": {
    "collapsed": false
   },
   "outputs": [
    {
     "name": "stdout",
     "output_type": "stream",
     "text": [
      "Centroids initialized at:\n",
      "( 1.46 )\n",
      "( 2.27043478261 )\n",
      "( 3.23026666667 )\n",
      "\n"
     ]
    }
   ],
   "source": [
    "def perform_kmeans():\n",
    "    isStillMoving = 1\n",
    "    \n",
    "    initialize_centroids()\n",
    "    \n",
    "    initialize_datapoints()\n",
    "    \n",
    "    while(isStillMoving):\n",
    "        recalculate_centroids()\n",
    "        isStillMoving = update_clusters()\n",
    "    \n",
    "    return\n",
    "perform_kmeans()"
   ]
  },
  {
   "cell_type": "code",
   "execution_count": 29,
   "metadata": {
    "collapsed": false,
    "scrolled": false
   },
   "outputs": [
    {
     "data": {
      "text/plain": [
       "[[0, 1.46],\n",
       " [1, 2.2200000000000002],\n",
       " [2, 2.8500000000000001],\n",
       " [2, 2.8999999999999999],\n",
       " [2, 3.1200000000000001],\n",
       " [2, 3.1400000000000001],\n",
       " [2, 3.96],\n",
       " [2, 4.79],\n",
       " [2, 5.0899999999999999]]"
      ]
     },
     "execution_count": 29,
     "metadata": {},
     "output_type": "execute_result"
    }
   ],
   "source": [
    "def print_results():\n",
    "    result_list = []\n",
    "    for i in range(NUM_CLUSTERS):\n",
    "        \n",
    "        for j in range(TOTAL_DATA):            \n",
    "            \n",
    "            if(data1[j].get_cluster() == i):\n",
    "                result = []               \n",
    "                result.append(data1[j].get_cluster())\n",
    "                result.append(data1[j].get_x()) \n",
    "                result_list.append(result)\n",
    "               \n",
    "    return result_list\n",
    "\n",
    "print_results()\n"
   ]
  },
  {
   "cell_type": "code",
   "execution_count": null,
   "metadata": {
    "collapsed": true
   },
   "outputs": [],
   "source": []
  },
  {
   "cell_type": "code",
   "execution_count": null,
   "metadata": {
    "collapsed": false,
    "scrolled": false
   },
   "outputs": [],
   "source": [
    "samples_cr=[]\n",
    "for i in range(0,len(table_data)):\n",
    "    a = [table_data.conversion_rate[i]]\n",
    "    samples_cr.append(a)\n",
    "    \n",
    "samples_cr = sorted(samples_cr, key=lambda x: x[0])\n",
    "samples_cr"
   ]
  },
  {
   "cell_type": "code",
   "execution_count": 89,
   "metadata": {
    "collapsed": false
   },
   "outputs": [
    {
     "data": {
      "text/plain": [
       "9"
      ]
     },
     "execution_count": 89,
     "metadata": {},
     "output_type": "execute_result"
    }
   ],
   "source": [
    "len(samples_cr)"
   ]
  },
  {
   "cell_type": "code",
   "execution_count": null,
   "metadata": {
    "collapsed": false
   },
   "outputs": [],
   "source": [
    "import random\n",
    "import math\n",
    "\n",
    "NUM_CLUSTERS = 3\n",
    "TOTAL_DATA = 9\n",
    "LOWEST_SAMPLE_POINT = 0 #element 0 of SAMPLES.\n",
    "Middle_SAMPLE_POINT = 4\n",
    "HIGHEST_SAMPLE_POINT = 8 #element 3 of SAMPLES.\n",
    "BIG_NUMBER = math.pow(10, 10)\n",
    "\n",
    "SAMPLES = samples_cr\n",
    "\n",
    "data = []\n",
    "centroids = []\n",
    "\n",
    "class DataPoint:\n",
    "    def __init__(self, x):\n",
    "        self.x = x\n",
    "       \n",
    "    \n",
    "    def set_x(self, x):\n",
    "        self.x = x\n",
    "    \n",
    "    def get_x(self):\n",
    "        return self.x\n",
    "    \n",
    "    def set_cluster(self, clusterNumber):\n",
    "        self.clusterNumber = clusterNumber\n",
    "    \n",
    "    def get_cluster(self):\n",
    "        return self.clusterNumber\n",
    "\n",
    "class Centroid:\n",
    "    def __init__(self, x):\n",
    "        self.x = x\n",
    "         \n",
    "    def set_x(self, x):\n",
    "        self.x = x\n",
    "    \n",
    "    def get_x(self):\n",
    "        return self.x\n",
    "    \n",
    "def initialize_centroids():\n",
    "    # Set the centoid coordinates to match the data points furthest from each other.\n",
    "    # In this example, (1.0, 1.0) and (5.0, 7.0)\n",
    "    centroids.append(Centroid(SAMPLES[LOWEST_SAMPLE_POINT][0]))\n",
    "    centroids.append(Centroid(SAMPLES[Middle_SAMPLE_POINT][0]))\n",
    "    centroids.append(Centroid(SAMPLES[HIGHEST_SAMPLE_POINT][0]))\n",
    "    \n",
    "    print(\"Centroids initialized at:\")\n",
    "    print(\"(\", centroids[0].get_x(), \")\")\n",
    "    print(\"(\", centroids[1].get_x(), \")\")\n",
    "    print(\"(\", centroids[2].get_x(), \")\")\n",
    "    print()\n",
    "    return\n",
    "\n",
    "def initialize_datapoints():\n",
    "    # DataPoint objects' x and y values are taken from the SAMPLE array.\n",
    "    # The DataPoints associated with LOWEST_SAMPLE_POINT and HIGHEST_SAMPLE_POINT are initially\n",
    "    # assigned to the clusters matching the LOWEST_SAMPLE_POINT and HIGHEST_SAMPLE_POINT centroids.\n",
    "    for i in range(TOTAL_DATA):\n",
    "        newPoint = DataPoint(SAMPLES[i][0])\n",
    "        \n",
    "        if(i == LOWEST_SAMPLE_POINT):\n",
    "            newPoint.set_cluster(0)\n",
    "        elif(i == Middle_SAMPLE_POINT):\n",
    "            newPoint.set_cluster(1)\n",
    "        elif(i == HIGHEST_SAMPLE_POINT):\n",
    "            newPoint.set_cluster(2)\n",
    "        else:\n",
    "            newPoint.set_cluster(None)\n",
    "            \n",
    "        data.append(newPoint)\n",
    "    \n",
    "    return\n",
    "\n",
    "def get_distance(dataPointX, centroidX, ):\n",
    "    # Calculate Euclidean distance.\n",
    "    return math.sqrt(math.pow((centroidX - dataPointX), 2))\n",
    "\n",
    "def recalculate_centroids():\n",
    "    totalX = 0\n",
    "    totalY = 0\n",
    "    totalInCluster = 0\n",
    "    \n",
    "    for j in range(NUM_CLUSTERS):\n",
    "        for k in range(len(data)):\n",
    "            if(data[k].get_cluster() == j):\n",
    "                totalX += data[k].get_x()\n",
    "                totalInCluster += 1\n",
    "        \n",
    "        if(totalInCluster > 0):\n",
    "            centroids[j].set_x(totalX / totalInCluster)\n",
    "           \n",
    "    \n",
    "    return\n",
    "\n",
    "def update_clusters():\n",
    "    isStillMoving = 0\n",
    "    \n",
    "    for i in range(TOTAL_DATA):\n",
    "        bestMinimum = BIG_NUMBER\n",
    "        currentCluster = 0\n",
    "        \n",
    "        for j in range(NUM_CLUSTERS):\n",
    "            distance = get_distance(data[i].get_x(), centroids[j].get_x())\n",
    "            if(distance < bestMinimum):\n",
    "                bestMinimum = distance\n",
    "                currentCluster = j\n",
    "        \n",
    "        data[i].set_cluster(currentCluster)\n",
    "        \n",
    "        if(data[i].get_cluster() is None or data[i].get_cluster() != currentCluster):\n",
    "            data[i].set_cluster(currentCluster)\n",
    "            isStillMoving = 1\n",
    "    \n",
    "    return isStillMoving\n",
    "\n",
    "def perform_kmeans():\n",
    "    isStillMoving = 1\n",
    "    \n",
    "    initialize_centroids()\n",
    "    \n",
    "    initialize_datapoints()\n",
    "    \n",
    "    while(isStillMoving):\n",
    "        recalculate_centroids()\n",
    "        isStillMoving = update_clusters()\n",
    "    \n",
    "    return\n",
    "perform_kmeans()\n",
    "def print_results():\n",
    "    for i in range(NUM_CLUSTERS):\n",
    "        print(\"Cluster \", i, \" includes:\")\n",
    "        for j in range(TOTAL_DATA):\n",
    "            if(data[j].get_cluster() == i):\n",
    "                print(\"(\", data[j].get_x(), \")\")\n",
    "        print()\n",
    "    \n",
    "    return\n",
    "\n",
    "perform_kmeans()\n",
    "print_results()"
   ]
  },
  {
   "cell_type": "code",
   "execution_count": 109,
   "metadata": {
    "collapsed": false
   },
   "outputs": [
    {
     "name": "stdout",
     "output_type": "stream",
     "text": [
      "Centroids initialized at:\n",
      "( 1.46 )\n",
      "( 2.29 )\n",
      "( 3.22333333333 )\n",
      "\n",
      "Cluster  0  includes:\n",
      "( 1.46 )\n",
      "\n",
      "Cluster  1  includes:\n",
      "( 2.22 )\n",
      "\n",
      "Cluster  2  includes:\n",
      "( 2.85 )\n",
      "( 2.9 )\n",
      "( 3.12 )\n",
      "( 3.14 )\n",
      "( 3.96 )\n",
      "( 4.79 )\n",
      "( 5.09 )\n",
      "\n"
     ]
    }
   ],
   "source": [
    "def print_results():\n",
    "    for i in range(NUM_CLUSTERS):\n",
    "        print(\"Cluster \", i, \" includes:\")\n",
    "        for j in range(TOTAL_DATA):\n",
    "            if(data[j].get_cluster() == i):\n",
    "                print(\"(\", data[j].get_x(), \")\")\n",
    "        print()\n",
    "    \n",
    "    return\n",
    "\n",
    "perform_kmeans()\n",
    "print_results()"
   ]
  },
  {
   "cell_type": "code",
   "execution_count": null,
   "metadata": {
    "collapsed": true
   },
   "outputs": [],
   "source": []
  },
  {
   "cell_type": "code",
   "execution_count": null,
   "metadata": {
    "collapsed": true
   },
   "outputs": [],
   "source": []
  },
  {
   "cell_type": "code",
   "execution_count": null,
   "metadata": {
    "collapsed": true
   },
   "outputs": [],
   "source": []
  },
  {
   "cell_type": "code",
   "execution_count": null,
   "metadata": {
    "collapsed": true
   },
   "outputs": [],
   "source": []
  },
  {
   "cell_type": "code",
   "execution_count": null,
   "metadata": {
    "collapsed": true
   },
   "outputs": [],
   "source": []
  },
  {
   "cell_type": "code",
   "execution_count": null,
   "metadata": {
    "collapsed": true
   },
   "outputs": [],
   "source": []
  },
  {
   "cell_type": "code",
   "execution_count": 32,
   "metadata": {
    "collapsed": false
   },
   "outputs": [
    {
     "data": {
      "text/html": [
       "<div>\n",
       "<table border=\"1\" class=\"dataframe\">\n",
       "  <thead>\n",
       "    <tr style=\"text-align: right;\">\n",
       "      <th></th>\n",
       "      <th>#cluster_for_cr</th>\n",
       "      <th>conversion_rate</th>\n",
       "    </tr>\n",
       "  </thead>\n",
       "  <tbody>\n",
       "    <tr>\n",
       "      <th>0</th>\n",
       "      <td>0</td>\n",
       "      <td>1.46</td>\n",
       "    </tr>\n",
       "    <tr>\n",
       "      <th>1</th>\n",
       "      <td>1</td>\n",
       "      <td>2.22</td>\n",
       "    </tr>\n",
       "    <tr>\n",
       "      <th>2</th>\n",
       "      <td>2</td>\n",
       "      <td>2.85</td>\n",
       "    </tr>\n",
       "    <tr>\n",
       "      <th>3</th>\n",
       "      <td>2</td>\n",
       "      <td>2.90</td>\n",
       "    </tr>\n",
       "    <tr>\n",
       "      <th>4</th>\n",
       "      <td>2</td>\n",
       "      <td>3.12</td>\n",
       "    </tr>\n",
       "    <tr>\n",
       "      <th>5</th>\n",
       "      <td>2</td>\n",
       "      <td>3.14</td>\n",
       "    </tr>\n",
       "    <tr>\n",
       "      <th>6</th>\n",
       "      <td>2</td>\n",
       "      <td>3.96</td>\n",
       "    </tr>\n",
       "    <tr>\n",
       "      <th>7</th>\n",
       "      <td>2</td>\n",
       "      <td>4.79</td>\n",
       "    </tr>\n",
       "    <tr>\n",
       "      <th>8</th>\n",
       "      <td>2</td>\n",
       "      <td>5.09</td>\n",
       "    </tr>\n",
       "  </tbody>\n",
       "</table>\n",
       "</div>"
      ],
      "text/plain": [
       "   #cluster_for_cr  conversion_rate\n",
       "0                0             1.46\n",
       "1                1             2.22\n",
       "2                2             2.85\n",
       "3                2             2.90\n",
       "4                2             3.12\n",
       "5                2             3.14\n",
       "6                2             3.96\n",
       "7                2             4.79\n",
       "8                2             5.09"
      ]
     },
     "execution_count": 32,
     "metadata": {},
     "output_type": "execute_result"
    }
   ],
   "source": [
    "cluster_cr = pd.DataFrame(print_results(),columns = ['#cluster_for_cr','conversion_rate'])\n",
    "cluster_cr"
   ]
  },
  {
   "cell_type": "code",
   "execution_count": 33,
   "metadata": {
    "collapsed": false
   },
   "outputs": [
    {
     "name": "stderr",
     "output_type": "stream",
     "text": [
      "C:\\ProgramData\\Anaconda3\\lib\\site-packages\\ipykernel\\__main__.py:1: FutureWarning: sort(columns=....) is deprecated, use sort_values(by=.....)\n",
      "  if __name__ == '__main__':\n"
     ]
    },
    {
     "data": {
      "text/html": [
       "<div>\n",
       "<table border=\"1\" class=\"dataframe\">\n",
       "  <thead>\n",
       "    <tr style=\"text-align: right;\">\n",
       "      <th></th>\n",
       "      <th>sessions</th>\n",
       "      <th>bounce_rate</th>\n",
       "      <th>conversions</th>\n",
       "      <th>conversion_rate</th>\n",
       "      <th>city_age</th>\n",
       "      <th>#cluster_for_cr</th>\n",
       "    </tr>\n",
       "  </thead>\n",
       "  <tbody>\n",
       "    <tr>\n",
       "      <th>0</th>\n",
       "      <td>205</td>\n",
       "      <td>55.609756</td>\n",
       "      <td>3</td>\n",
       "      <td>1.46</td>\n",
       "      <td>London, 45-54</td>\n",
       "      <td>0</td>\n",
       "    </tr>\n",
       "    <tr>\n",
       "      <th>1</th>\n",
       "      <td>90</td>\n",
       "      <td>45.555556</td>\n",
       "      <td>2</td>\n",
       "      <td>2.22</td>\n",
       "      <td>Croydon, 45-54</td>\n",
       "      <td>1</td>\n",
       "    </tr>\n",
       "    <tr>\n",
       "      <th>2</th>\n",
       "      <td>842</td>\n",
       "      <td>59.144893</td>\n",
       "      <td>24</td>\n",
       "      <td>2.85</td>\n",
       "      <td>London, 25-34</td>\n",
       "      <td>2</td>\n",
       "    </tr>\n",
       "    <tr>\n",
       "      <th>3</th>\n",
       "      <td>482</td>\n",
       "      <td>54.771784</td>\n",
       "      <td>14</td>\n",
       "      <td>2.90</td>\n",
       "      <td>London, 35-44</td>\n",
       "      <td>2</td>\n",
       "    </tr>\n",
       "    <tr>\n",
       "      <th>4</th>\n",
       "      <td>32</td>\n",
       "      <td>53.125000</td>\n",
       "      <td>1</td>\n",
       "      <td>3.12</td>\n",
       "      <td>Croydon, 55-64</td>\n",
       "      <td>2</td>\n",
       "    </tr>\n",
       "    <tr>\n",
       "      <th>5</th>\n",
       "      <td>223</td>\n",
       "      <td>43.049327</td>\n",
       "      <td>7</td>\n",
       "      <td>3.14</td>\n",
       "      <td>Croydon, 35-44</td>\n",
       "      <td>2</td>\n",
       "    </tr>\n",
       "    <tr>\n",
       "      <th>6</th>\n",
       "      <td>101</td>\n",
       "      <td>41.584158</td>\n",
       "      <td>4</td>\n",
       "      <td>3.96</td>\n",
       "      <td>Croydon, 18-24</td>\n",
       "      <td>2</td>\n",
       "    </tr>\n",
       "    <tr>\n",
       "      <th>7</th>\n",
       "      <td>167</td>\n",
       "      <td>49.700599</td>\n",
       "      <td>8</td>\n",
       "      <td>4.79</td>\n",
       "      <td>London, 18-24</td>\n",
       "      <td>2</td>\n",
       "    </tr>\n",
       "    <tr>\n",
       "      <th>8</th>\n",
       "      <td>334</td>\n",
       "      <td>47.904192</td>\n",
       "      <td>17</td>\n",
       "      <td>5.09</td>\n",
       "      <td>Croydon, 25-34</td>\n",
       "      <td>2</td>\n",
       "    </tr>\n",
       "  </tbody>\n",
       "</table>\n",
       "</div>"
      ],
      "text/plain": [
       "   sessions  bounce_rate  conversions  conversion_rate        city_age  \\\n",
       "0       205    55.609756            3             1.46   London, 45-54   \n",
       "1        90    45.555556            2             2.22  Croydon, 45-54   \n",
       "2       842    59.144893           24             2.85   London, 25-34   \n",
       "3       482    54.771784           14             2.90   London, 35-44   \n",
       "4        32    53.125000            1             3.12  Croydon, 55-64   \n",
       "5       223    43.049327            7             3.14  Croydon, 35-44   \n",
       "6       101    41.584158            4             3.96  Croydon, 18-24   \n",
       "7       167    49.700599            8             4.79   London, 18-24   \n",
       "8       334    47.904192           17             5.09  Croydon, 25-34   \n",
       "\n",
       "   #cluster_for_cr  \n",
       "0                0  \n",
       "1                1  \n",
       "2                2  \n",
       "3                2  \n",
       "4                2  \n",
       "5                2  \n",
       "6                2  \n",
       "7                2  \n",
       "8                2  "
      ]
     },
     "execution_count": 33,
     "metadata": {},
     "output_type": "execute_result"
    }
   ],
   "source": [
    "result_cr = (table_data.sort('conversion_rate')).merge(cluster_cr, on = 'conversion_rate')\n",
    "result_cr"
   ]
  },
  {
   "cell_type": "code",
   "execution_count": 34,
   "metadata": {
    "collapsed": false
   },
   "outputs": [
    {
     "data": {
      "text/html": [
       "<div>\n",
       "<table border=\"1\" class=\"dataframe\">\n",
       "  <thead>\n",
       "    <tr style=\"text-align: right;\">\n",
       "      <th></th>\n",
       "      <th>sessions_x</th>\n",
       "      <th>bounce_rate_x</th>\n",
       "      <th>conversions_x</th>\n",
       "      <th>conversion_rate_x</th>\n",
       "      <th>city_age</th>\n",
       "      <th>#cluster_for_sess</th>\n",
       "      <th>sessions_y</th>\n",
       "      <th>bounce_rate_y</th>\n",
       "      <th>conversions_y</th>\n",
       "      <th>conversion_rate_y</th>\n",
       "      <th>#cluster_for_cr</th>\n",
       "    </tr>\n",
       "  </thead>\n",
       "  <tbody>\n",
       "    <tr>\n",
       "      <th>0</th>\n",
       "      <td>32</td>\n",
       "      <td>53.125000</td>\n",
       "      <td>1</td>\n",
       "      <td>3.12</td>\n",
       "      <td>Croydon, 55-64</td>\n",
       "      <td>0</td>\n",
       "      <td>32</td>\n",
       "      <td>53.125000</td>\n",
       "      <td>1</td>\n",
       "      <td>3.12</td>\n",
       "      <td>2</td>\n",
       "    </tr>\n",
       "    <tr>\n",
       "      <th>1</th>\n",
       "      <td>90</td>\n",
       "      <td>45.555556</td>\n",
       "      <td>2</td>\n",
       "      <td>2.22</td>\n",
       "      <td>Croydon, 45-54</td>\n",
       "      <td>1</td>\n",
       "      <td>90</td>\n",
       "      <td>45.555556</td>\n",
       "      <td>2</td>\n",
       "      <td>2.22</td>\n",
       "      <td>1</td>\n",
       "    </tr>\n",
       "    <tr>\n",
       "      <th>2</th>\n",
       "      <td>101</td>\n",
       "      <td>41.584158</td>\n",
       "      <td>4</td>\n",
       "      <td>3.96</td>\n",
       "      <td>Croydon, 18-24</td>\n",
       "      <td>1</td>\n",
       "      <td>101</td>\n",
       "      <td>41.584158</td>\n",
       "      <td>4</td>\n",
       "      <td>3.96</td>\n",
       "      <td>2</td>\n",
       "    </tr>\n",
       "    <tr>\n",
       "      <th>3</th>\n",
       "      <td>167</td>\n",
       "      <td>49.700599</td>\n",
       "      <td>8</td>\n",
       "      <td>4.79</td>\n",
       "      <td>London, 18-24</td>\n",
       "      <td>1</td>\n",
       "      <td>167</td>\n",
       "      <td>49.700599</td>\n",
       "      <td>8</td>\n",
       "      <td>4.79</td>\n",
       "      <td>2</td>\n",
       "    </tr>\n",
       "    <tr>\n",
       "      <th>4</th>\n",
       "      <td>205</td>\n",
       "      <td>55.609756</td>\n",
       "      <td>3</td>\n",
       "      <td>1.46</td>\n",
       "      <td>London, 45-54</td>\n",
       "      <td>1</td>\n",
       "      <td>205</td>\n",
       "      <td>55.609756</td>\n",
       "      <td>3</td>\n",
       "      <td>1.46</td>\n",
       "      <td>0</td>\n",
       "    </tr>\n",
       "    <tr>\n",
       "      <th>5</th>\n",
       "      <td>223</td>\n",
       "      <td>43.049327</td>\n",
       "      <td>7</td>\n",
       "      <td>3.14</td>\n",
       "      <td>Croydon, 35-44</td>\n",
       "      <td>1</td>\n",
       "      <td>223</td>\n",
       "      <td>43.049327</td>\n",
       "      <td>7</td>\n",
       "      <td>3.14</td>\n",
       "      <td>2</td>\n",
       "    </tr>\n",
       "    <tr>\n",
       "      <th>6</th>\n",
       "      <td>334</td>\n",
       "      <td>47.904192</td>\n",
       "      <td>17</td>\n",
       "      <td>5.09</td>\n",
       "      <td>Croydon, 25-34</td>\n",
       "      <td>2</td>\n",
       "      <td>334</td>\n",
       "      <td>47.904192</td>\n",
       "      <td>17</td>\n",
       "      <td>5.09</td>\n",
       "      <td>2</td>\n",
       "    </tr>\n",
       "    <tr>\n",
       "      <th>7</th>\n",
       "      <td>482</td>\n",
       "      <td>54.771784</td>\n",
       "      <td>14</td>\n",
       "      <td>2.90</td>\n",
       "      <td>London, 35-44</td>\n",
       "      <td>2</td>\n",
       "      <td>482</td>\n",
       "      <td>54.771784</td>\n",
       "      <td>14</td>\n",
       "      <td>2.90</td>\n",
       "      <td>2</td>\n",
       "    </tr>\n",
       "    <tr>\n",
       "      <th>8</th>\n",
       "      <td>842</td>\n",
       "      <td>59.144893</td>\n",
       "      <td>24</td>\n",
       "      <td>2.85</td>\n",
       "      <td>London, 25-34</td>\n",
       "      <td>2</td>\n",
       "      <td>842</td>\n",
       "      <td>59.144893</td>\n",
       "      <td>24</td>\n",
       "      <td>2.85</td>\n",
       "      <td>2</td>\n",
       "    </tr>\n",
       "  </tbody>\n",
       "</table>\n",
       "</div>"
      ],
      "text/plain": [
       "   sessions_x  bounce_rate_x  conversions_x  conversion_rate_x  \\\n",
       "0          32      53.125000              1               3.12   \n",
       "1          90      45.555556              2               2.22   \n",
       "2         101      41.584158              4               3.96   \n",
       "3         167      49.700599              8               4.79   \n",
       "4         205      55.609756              3               1.46   \n",
       "5         223      43.049327              7               3.14   \n",
       "6         334      47.904192             17               5.09   \n",
       "7         482      54.771784             14               2.90   \n",
       "8         842      59.144893             24               2.85   \n",
       "\n",
       "         city_age  #cluster_for_sess  sessions_y  bounce_rate_y  \\\n",
       "0  Croydon, 55-64                  0          32      53.125000   \n",
       "1  Croydon, 45-54                  1          90      45.555556   \n",
       "2  Croydon, 18-24                  1         101      41.584158   \n",
       "3   London, 18-24                  1         167      49.700599   \n",
       "4   London, 45-54                  1         205      55.609756   \n",
       "5  Croydon, 35-44                  1         223      43.049327   \n",
       "6  Croydon, 25-34                  2         334      47.904192   \n",
       "7   London, 35-44                  2         482      54.771784   \n",
       "8   London, 25-34                  2         842      59.144893   \n",
       "\n",
       "   conversions_y  conversion_rate_y  #cluster_for_cr  \n",
       "0              1               3.12                2  \n",
       "1              2               2.22                1  \n",
       "2              4               3.96                2  \n",
       "3              8               4.79                2  \n",
       "4              3               1.46                0  \n",
       "5              7               3.14                2  \n",
       "6             17               5.09                2  \n",
       "7             14               2.90                2  \n",
       "8             24               2.85                2  "
      ]
     },
     "execution_count": 34,
     "metadata": {},
     "output_type": "execute_result"
    }
   ],
   "source": [
    "finish = result_sessions.merge(result_cr, on = \"city_age\")\n",
    "finish"
   ]
  },
  {
   "cell_type": "code",
   "execution_count": null,
   "metadata": {
    "collapsed": false
   },
   "outputs": [],
   "source": [
    "finish = finish[['city_age','#cluster_for_sess','#cluster_for_cr','sessions_x','conversion_rate_x',]]\n",
    "finish"
   ]
  },
  {
   "cell_type": "code",
   "execution_count": null,
   "metadata": {
    "collapsed": true
   },
   "outputs": [],
   "source": []
  }
 ],
 "metadata": {
  "kernelspec": {
   "display_name": "Python 3",
   "language": "python",
   "name": "python3"
  },
  "language_info": {
   "codemirror_mode": {
    "name": "ipython",
    "version": 3
   },
   "file_extension": ".py",
   "mimetype": "text/x-python",
   "name": "python",
   "nbconvert_exporter": "python",
   "pygments_lexer": "ipython3",
   "version": "3.6.0"
  }
 },
 "nbformat": 4,
 "nbformat_minor": 2
}
