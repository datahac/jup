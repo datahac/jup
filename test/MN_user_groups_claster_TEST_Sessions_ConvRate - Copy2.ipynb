{
 "cells": [
  {
   "cell_type": "markdown",
   "metadata": {},
   "source": [
    "# User groups"
   ]
  },
  {
   "cell_type": "code",
   "execution_count": 146,
   "metadata": {
    "collapsed": true
   },
   "outputs": [],
   "source": [
    "request = \"POST https://analyticsreporting.googleapis.com/v4/reports:batchGet?fields=reports(columnHeader%2Cdata(rows%2Ctotals))&key={YOUR_API_KEY}\"\n",
    "request = {\n",
    " \"reportRequests\": [\n",
    "  {\n",
    "   \"viewId\": \"123303369\",\n",
    "   \"dateRanges\": [\n",
    "    {\n",
    "     \"startDate\": \"2017-01-01\",\n",
    "     \"endDate\": \"2017-04-30\"\n",
    "    }\n",
    "   ],\n",
    "   \"metrics\": [\n",
    "    {\n",
    "     \"expression\": \"ga:sessions\"\n",
    "    },\n",
    "    {\n",
    "     \"expression\": \"ga:sessionDuration\"\n",
    "    },\n",
    "    {\n",
    "     \"expression\": \"ga:goal1Completions\"\n",
    "    },\n",
    "    {\n",
    "     \"expression\": \"ga:bounceRate\"\n",
    "    }\n",
    "   ],\n",
    "   \"dimensions\": [\n",
    "    {\n",
    "     \"name\": \"ga:city\"\n",
    "    },\n",
    "    {\n",
    "     \"name\": \"ga:userAgeBracket\"\n",
    "    }\n",
    "   ]\n",
    "  }\n",
    " ]\n",
    "}"
   ]
  },
  {
   "cell_type": "code",
   "execution_count": 147,
   "metadata": {
    "collapsed": false,
    "scrolled": true
   },
   "outputs": [
    {
     "data": {
      "text/plain": [
       "[{'dimensions': ['Croydon', '18-24'],\n",
       "  'metrics': [{'values': ['101',\n",
       "     '41.584158415841586',\n",
       "     '4',\n",
       "     '3.9603960396039604']}]},\n",
       " {'dimensions': ['Croydon', '25-34'],\n",
       "  'metrics': [{'values': ['334',\n",
       "     '47.90419161676647',\n",
       "     '17',\n",
       "     '5.089820359281437']}]},\n",
       " {'dimensions': ['Croydon', '35-44'],\n",
       "  'metrics': [{'values': ['223',\n",
       "     '43.04932735426009',\n",
       "     '7',\n",
       "     '3.1390134529147984']}]},\n",
       " {'dimensions': ['Croydon', '45-54'],\n",
       "  'metrics': [{'values': ['90',\n",
       "     '45.55555555555556',\n",
       "     '2',\n",
       "     '2.2222222222222223']}]},\n",
       " {'dimensions': ['Croydon', '55-64'],\n",
       "  'metrics': [{'values': ['32', '53.125', '1', '3.125']}]},\n",
       " {'dimensions': ['London', '18-24'],\n",
       "  'metrics': [{'values': ['167',\n",
       "     '49.700598802395206',\n",
       "     '8',\n",
       "     '4.790419161676647']}]},\n",
       " {'dimensions': ['London', '25-34'],\n",
       "  'metrics': [{'values': ['842',\n",
       "     '59.14489311163895',\n",
       "     '24',\n",
       "     '2.8503562945368173']}]},\n",
       " {'dimensions': ['London', '35-44'],\n",
       "  'metrics': [{'values': ['482',\n",
       "     '54.77178423236515',\n",
       "     '14',\n",
       "     '2.904564315352697']}]},\n",
       " {'dimensions': ['London', '45-54'],\n",
       "  'metrics': [{'values': ['205',\n",
       "     '55.60975609756098',\n",
       "     '3',\n",
       "     '1.4634146341463417']}]},\n",
       " {'dimensions': ['London', '55-64'],\n",
       "  'metrics': [{'values': ['37', '48.64864864864865', '0', '0.0']}]}]"
      ]
     },
     "execution_count": 147,
     "metadata": {},
     "output_type": "execute_result"
    }
   ],
   "source": [
    "import json\n",
    "\n",
    "with open('data/TMRW_user_groups.json') as file:\n",
    "    input_ugroups = json.load(file)\n",
    "    \n",
    "#input_ugroups\n",
    "\n",
    "# Define dimensions list\n",
    "input_ugroups_dimensions = input_ugroups['reports'][0]['columnHeader']['dimensions']\n",
    "\n",
    "dimension_count = len(input_ugroups_dimensions)\n",
    "\n",
    "# Define metrics list\n",
    "input_ugroups_metrics = input_ugroups['reports'][0]['columnHeader']['metricHeader']['metricHeaderEntries']\n",
    "\n",
    "def create_metric_list(raw_data):\n",
    "    lst = []\n",
    "    for item in raw_data:\n",
    "        lst.append(item['name'])\n",
    "    return lst\n",
    "\n",
    "input_ugroups_metrics = create_metric_list(input_ugroups_metrics)\n",
    "\n",
    "\n",
    "# Create input data\n",
    "\n",
    "input_ugroups_data = input_ugroups['reports'][0]['data']['rows']\n",
    "\n",
    "input_ugroups_data"
   ]
  },
  {
   "cell_type": "code",
   "execution_count": 148,
   "metadata": {
    "collapsed": false
   },
   "outputs": [
    {
     "data": {
      "text/plain": [
       "[{'Croydon, 18-24': {'values': ['Croydon, 18-24',\n",
       "    101.0,\n",
       "    41.584158415841586,\n",
       "    4.0,\n",
       "    3.9603960396039604]}},\n",
       " {'Croydon, 25-34': {'values': ['Croydon, 25-34',\n",
       "    334.0,\n",
       "    47.90419161676647,\n",
       "    17.0,\n",
       "    5.089820359281437]}},\n",
       " {'Croydon, 35-44': {'values': ['Croydon, 35-44',\n",
       "    223.0,\n",
       "    43.04932735426009,\n",
       "    7.0,\n",
       "    3.1390134529147984]}},\n",
       " {'Croydon, 45-54': {'values': ['Croydon, 45-54',\n",
       "    90.0,\n",
       "    45.55555555555556,\n",
       "    2.0,\n",
       "    2.2222222222222223]}},\n",
       " {'Croydon, 55-64': {'values': ['Croydon, 55-64', 32.0, 53.125, 1.0, 3.125]}},\n",
       " {'London, 18-24': {'values': ['London, 18-24',\n",
       "    167.0,\n",
       "    49.700598802395206,\n",
       "    8.0,\n",
       "    4.790419161676647]}},\n",
       " {'London, 25-34': {'values': ['London, 25-34',\n",
       "    842.0,\n",
       "    59.14489311163895,\n",
       "    24.0,\n",
       "    2.8503562945368173]}},\n",
       " {'London, 35-44': {'values': ['London, 35-44',\n",
       "    482.0,\n",
       "    54.77178423236515,\n",
       "    14.0,\n",
       "    2.904564315352697]}},\n",
       " {'London, 45-54': {'values': ['London, 45-54',\n",
       "    205.0,\n",
       "    55.60975609756098,\n",
       "    3.0,\n",
       "    1.4634146341463417]}},\n",
       " {'London, 55-64': {'values': ['London, 55-64',\n",
       "    37.0,\n",
       "    48.64864864864865,\n",
       "    0.0,\n",
       "    0.0]}}]"
      ]
     },
     "execution_count": 148,
     "metadata": {},
     "output_type": "execute_result"
    }
   ],
   "source": [
    "values_list = []\n",
    "for group in input_ugroups_data:\n",
    "    new_dim_name = group['dimensions'][0] + \", \" + group['dimensions'][1]\n",
    "    group[new_dim_name] = group['metrics'][0]\n",
    "    del group['dimensions']\n",
    "    del group['metrics']\n",
    "    \n",
    "    group[new_dim_name]['values'] = list(map(float,group[new_dim_name]['values']))\n",
    "    #conv_rate = round(float(int(group[new_dim_name]['values'][2])/int(group[new_dim_name]['values'][0])*100),2)\n",
    "    values_list.append(group[new_dim_name]['values'])\n",
    "    \n",
    "    group[new_dim_name]['values'].insert(0,new_dim_name)\n",
    "    #print(group[new_dim_name]['values'])\n",
    "    #group[new_dim_name]['values'].append(conv_rate)\n",
    "    \n",
    "    \n",
    "#values_list\n",
    "input_ugroups_data"
   ]
  },
  {
   "cell_type": "code",
   "execution_count": 149,
   "metadata": {
    "collapsed": false
   },
   "outputs": [
    {
     "data": {
      "text/plain": [
       "{'Croydon, 18-24': {'bounce_rate': 4.0,\n",
       "  'conversion_rate': 3.96,\n",
       "  'conversions': 41.58,\n",
       "  'sessions': 101.0},\n",
       " 'Croydon, 25-34': {'bounce_rate': 17.0,\n",
       "  'conversion_rate': 5.09,\n",
       "  'conversions': 47.9,\n",
       "  'sessions': 334.0},\n",
       " 'Croydon, 35-44': {'bounce_rate': 7.0,\n",
       "  'conversion_rate': 3.14,\n",
       "  'conversions': 43.05,\n",
       "  'sessions': 223.0},\n",
       " 'Croydon, 45-54': {'bounce_rate': 2.0,\n",
       "  'conversion_rate': 2.22,\n",
       "  'conversions': 45.56,\n",
       "  'sessions': 90.0},\n",
       " 'Croydon, 55-64': {'bounce_rate': 1.0,\n",
       "  'conversion_rate': 3.12,\n",
       "  'conversions': 53.12,\n",
       "  'sessions': 32.0},\n",
       " 'London, 18-24': {'bounce_rate': 8.0,\n",
       "  'conversion_rate': 4.79,\n",
       "  'conversions': 49.7,\n",
       "  'sessions': 167.0},\n",
       " 'London, 25-34': {'bounce_rate': 24.0,\n",
       "  'conversion_rate': 2.85,\n",
       "  'conversions': 59.14,\n",
       "  'sessions': 842.0},\n",
       " 'London, 35-44': {'bounce_rate': 14.0,\n",
       "  'conversion_rate': 2.9,\n",
       "  'conversions': 54.77,\n",
       "  'sessions': 482.0},\n",
       " 'London, 45-54': {'bounce_rate': 3.0,\n",
       "  'conversion_rate': 1.46,\n",
       "  'conversions': 55.61,\n",
       "  'sessions': 205.0},\n",
       " 'London, 55-64': {'bounce_rate': 0.0,\n",
       "  'conversion_rate': 0.0,\n",
       "  'conversions': 48.65,\n",
       "  'sessions': 37.0}}"
      ]
     },
     "execution_count": 149,
     "metadata": {},
     "output_type": "execute_result"
    }
   ],
   "source": [
    "# Define each metric dict\n",
    "\n",
    "ugroups_data = {}\n",
    "\n",
    "for ugroup in input_ugroups_data:\n",
    "    #print (ugroup)\n",
    "    \n",
    "    for gr in ugroup:\n",
    "        ugroups_data[gr] = {'sessions':0,\n",
    "                       'bounce_rate':0,\n",
    "                       'conversions':0,\n",
    "                       'conversion_rate':0}\n",
    "        \n",
    "        ugroups_data[gr]['sessions'] = round(float(ugroup[gr]['values'][1]),2)\n",
    "        ugroups_data[gr]['conversions'] = round(float(ugroup[gr]['values'][2]),2)\n",
    "        ugroups_data[gr]['bounce_rate'] = round(float(ugroup[gr]['values'][3]),2)\n",
    "        ugroups_data[gr]['conversion_rate'] = round(float(ugroup[gr]['values'][4]),2)\n",
    "        \n",
    "ugroups_data"
   ]
  },
  {
   "cell_type": "code",
   "execution_count": 150,
   "metadata": {
    "collapsed": false
   },
   "outputs": [
    {
     "data": {
      "text/plain": [
       "['Croydon, 18-24',\n",
       " 'Croydon, 25-34',\n",
       " 'Croydon, 35-44',\n",
       " 'Croydon, 45-54',\n",
       " 'Croydon, 55-64',\n",
       " 'London, 18-24',\n",
       " 'London, 25-34',\n",
       " 'London, 35-44',\n",
       " 'London, 45-54',\n",
       " 'London, 55-64']"
      ]
     },
     "execution_count": 150,
     "metadata": {},
     "output_type": "execute_result"
    }
   ],
   "source": [
    "rows = list(ugroups_data.keys())\n",
    "rows"
   ]
  },
  {
   "cell_type": "code",
   "execution_count": 151,
   "metadata": {
    "collapsed": false
   },
   "outputs": [
    {
     "data": {
      "text/plain": [
       "['city_age', 'sessions', 'bounce_rate', 'conversions', 'conversion_rate']"
      ]
     },
     "execution_count": 151,
     "metadata": {},
     "output_type": "execute_result"
    }
   ],
   "source": [
    "import collections\n",
    "from collections import OrderedDict\n",
    "\n",
    "columns = []\n",
    "for u in ugroups_data:\n",
    "    #print (u)\n",
    "    for metric in ugroups_data[u]:\n",
    "        columns.append('city_age')\n",
    "        columns.append(metric)\n",
    "        \n",
    "    \n",
    "columns = list(OrderedDict.fromkeys(columns))    \n",
    "columns"
   ]
  },
  {
   "cell_type": "code",
   "execution_count": 152,
   "metadata": {
    "collapsed": true
   },
   "outputs": [],
   "source": [
    "import pandas as pd"
   ]
  },
  {
   "cell_type": "code",
   "execution_count": 153,
   "metadata": {
    "collapsed": false
   },
   "outputs": [
    {
     "data": {
      "text/html": [
       "<div>\n",
       "<table border=\"1\" class=\"dataframe\">\n",
       "  <thead>\n",
       "    <tr style=\"text-align: right;\">\n",
       "      <th></th>\n",
       "      <th>city_age</th>\n",
       "      <th>sessions</th>\n",
       "      <th>bounce_rate</th>\n",
       "      <th>conversions</th>\n",
       "      <th>conversion_rate</th>\n",
       "    </tr>\n",
       "  </thead>\n",
       "  <tbody>\n",
       "    <tr>\n",
       "      <th>0</th>\n",
       "      <td>Croydon, 18-24</td>\n",
       "      <td>101</td>\n",
       "      <td>41.58</td>\n",
       "      <td>4</td>\n",
       "      <td>3.96</td>\n",
       "    </tr>\n",
       "    <tr>\n",
       "      <th>1</th>\n",
       "      <td>Croydon, 25-34</td>\n",
       "      <td>334</td>\n",
       "      <td>47.90</td>\n",
       "      <td>17</td>\n",
       "      <td>5.09</td>\n",
       "    </tr>\n",
       "    <tr>\n",
       "      <th>2</th>\n",
       "      <td>Croydon, 35-44</td>\n",
       "      <td>223</td>\n",
       "      <td>43.05</td>\n",
       "      <td>7</td>\n",
       "      <td>3.14</td>\n",
       "    </tr>\n",
       "    <tr>\n",
       "      <th>3</th>\n",
       "      <td>Croydon, 45-54</td>\n",
       "      <td>90</td>\n",
       "      <td>45.56</td>\n",
       "      <td>2</td>\n",
       "      <td>2.22</td>\n",
       "    </tr>\n",
       "    <tr>\n",
       "      <th>4</th>\n",
       "      <td>Croydon, 55-64</td>\n",
       "      <td>32</td>\n",
       "      <td>53.12</td>\n",
       "      <td>1</td>\n",
       "      <td>3.12</td>\n",
       "    </tr>\n",
       "    <tr>\n",
       "      <th>5</th>\n",
       "      <td>London, 18-24</td>\n",
       "      <td>167</td>\n",
       "      <td>49.70</td>\n",
       "      <td>8</td>\n",
       "      <td>4.79</td>\n",
       "    </tr>\n",
       "    <tr>\n",
       "      <th>6</th>\n",
       "      <td>London, 25-34</td>\n",
       "      <td>842</td>\n",
       "      <td>59.14</td>\n",
       "      <td>24</td>\n",
       "      <td>2.85</td>\n",
       "    </tr>\n",
       "    <tr>\n",
       "      <th>7</th>\n",
       "      <td>London, 35-44</td>\n",
       "      <td>482</td>\n",
       "      <td>54.77</td>\n",
       "      <td>14</td>\n",
       "      <td>2.90</td>\n",
       "    </tr>\n",
       "    <tr>\n",
       "      <th>8</th>\n",
       "      <td>London, 45-54</td>\n",
       "      <td>205</td>\n",
       "      <td>55.61</td>\n",
       "      <td>3</td>\n",
       "      <td>1.46</td>\n",
       "    </tr>\n",
       "    <tr>\n",
       "      <th>9</th>\n",
       "      <td>London, 55-64</td>\n",
       "      <td>37</td>\n",
       "      <td>48.65</td>\n",
       "      <td>0</td>\n",
       "      <td>0.00</td>\n",
       "    </tr>\n",
       "  </tbody>\n",
       "</table>\n",
       "</div>"
      ],
      "text/plain": [
       "         city_age  sessions  bounce_rate  conversions  conversion_rate\n",
       "0  Croydon, 18-24       101        41.58            4             3.96\n",
       "1  Croydon, 25-34       334        47.90           17             5.09\n",
       "2  Croydon, 35-44       223        43.05            7             3.14\n",
       "3  Croydon, 45-54        90        45.56            2             2.22\n",
       "4  Croydon, 55-64        32        53.12            1             3.12\n",
       "5   London, 18-24       167        49.70            8             4.79\n",
       "6   London, 25-34       842        59.14           24             2.85\n",
       "7   London, 35-44       482        54.77           14             2.90\n",
       "8   London, 45-54       205        55.61            3             1.46\n",
       "9   London, 55-64        37        48.65            0             0.00"
      ]
     },
     "execution_count": 153,
     "metadata": {},
     "output_type": "execute_result"
    }
   ],
   "source": [
    "df = pd.DataFrame(values_list,\n",
    "                  columns = columns)\n",
    "\n",
    "df.to_json(orient='split')\n",
    "table = pd.read_json(df.to_json(orient='split'), orient='split')\n",
    "table.conversion_rate = round(table.conversion_rate,2)\n",
    "table.bounce_rate = round(table.bounce_rate,2)\n",
    "table"
   ]
  },
  {
   "cell_type": "code",
   "execution_count": 154,
   "metadata": {
    "collapsed": false
   },
   "outputs": [
    {
     "data": {
      "text/html": [
       "<div>\n",
       "<table border=\"1\" class=\"dataframe\">\n",
       "  <thead>\n",
       "    <tr style=\"text-align: right;\">\n",
       "      <th></th>\n",
       "      <th>city_age</th>\n",
       "      <th>cluster</th>\n",
       "    </tr>\n",
       "  </thead>\n",
       "  <tbody>\n",
       "    <tr>\n",
       "      <th>0</th>\n",
       "      <td>Croydon, 18-24</td>\n",
       "      <td>0</td>\n",
       "    </tr>\n",
       "    <tr>\n",
       "      <th>1</th>\n",
       "      <td>Croydon, 25-34</td>\n",
       "      <td>1</td>\n",
       "    </tr>\n",
       "    <tr>\n",
       "      <th>2</th>\n",
       "      <td>London, 18-24</td>\n",
       "      <td>0</td>\n",
       "    </tr>\n",
       "    <tr>\n",
       "      <th>3</th>\n",
       "      <td>Croydon, 45-54</td>\n",
       "      <td>1</td>\n",
       "    </tr>\n",
       "  </tbody>\n",
       "</table>\n",
       "</div>"
      ],
      "text/plain": [
       "         city_age  cluster\n",
       "0  Croydon, 18-24        0\n",
       "1  Croydon, 25-34        1\n",
       "2   London, 18-24        0\n",
       "3  Croydon, 45-54        1"
      ]
     },
     "execution_count": 154,
     "metadata": {},
     "output_type": "execute_result"
    }
   ],
   "source": [
    "table2 = pd.DataFrame([['Croydon, 18-24',0],['Croydon, 25-34',1],['London, 18-24',0],['Croydon, 45-54',1]],\n",
    "                       columns = ['city_age','cluster'])\n",
    "\n",
    "table2"
   ]
  },
  {
   "cell_type": "code",
   "execution_count": 155,
   "metadata": {
    "collapsed": false
   },
   "outputs": [
    {
     "data": {
      "text/html": [
       "<div>\n",
       "<table border=\"1\" class=\"dataframe\">\n",
       "  <thead>\n",
       "    <tr style=\"text-align: right;\">\n",
       "      <th></th>\n",
       "      <th>city_age</th>\n",
       "      <th>cluster</th>\n",
       "      <th>sessions</th>\n",
       "      <th>bounce_rate</th>\n",
       "      <th>conversions</th>\n",
       "      <th>conversion_rate</th>\n",
       "    </tr>\n",
       "  </thead>\n",
       "  <tbody>\n",
       "    <tr>\n",
       "      <th>0</th>\n",
       "      <td>Croydon, 18-24</td>\n",
       "      <td>0</td>\n",
       "      <td>101</td>\n",
       "      <td>41.58</td>\n",
       "      <td>4</td>\n",
       "      <td>3.96</td>\n",
       "    </tr>\n",
       "    <tr>\n",
       "      <th>1</th>\n",
       "      <td>Croydon, 25-34</td>\n",
       "      <td>1</td>\n",
       "      <td>334</td>\n",
       "      <td>47.90</td>\n",
       "      <td>17</td>\n",
       "      <td>5.09</td>\n",
       "    </tr>\n",
       "    <tr>\n",
       "      <th>2</th>\n",
       "      <td>London, 18-24</td>\n",
       "      <td>0</td>\n",
       "      <td>167</td>\n",
       "      <td>49.70</td>\n",
       "      <td>8</td>\n",
       "      <td>4.79</td>\n",
       "    </tr>\n",
       "    <tr>\n",
       "      <th>3</th>\n",
       "      <td>Croydon, 45-54</td>\n",
       "      <td>1</td>\n",
       "      <td>90</td>\n",
       "      <td>45.56</td>\n",
       "      <td>2</td>\n",
       "      <td>2.22</td>\n",
       "    </tr>\n",
       "  </tbody>\n",
       "</table>\n",
       "</div>"
      ],
      "text/plain": [
       "         city_age  cluster  sessions  bounce_rate  conversions  \\\n",
       "0  Croydon, 18-24        0       101        41.58            4   \n",
       "1  Croydon, 25-34        1       334        47.90           17   \n",
       "2   London, 18-24        0       167        49.70            8   \n",
       "3  Croydon, 45-54        1        90        45.56            2   \n",
       "\n",
       "   conversion_rate  \n",
       "0             3.96  \n",
       "1             5.09  \n",
       "2             4.79  \n",
       "3             2.22  "
      ]
     },
     "execution_count": 155,
     "metadata": {},
     "output_type": "execute_result"
    }
   ],
   "source": [
    "data = table2.merge(table, on='city_age')\n",
    "data"
   ]
  },
  {
   "cell_type": "code",
   "execution_count": 156,
   "metadata": {
    "collapsed": false
   },
   "outputs": [
    {
     "data": {
      "text/plain": [
       "[[101], [334], [223], [90], [32], [167], [842], [482], [205], [37]]"
      ]
     },
     "execution_count": 156,
     "metadata": {},
     "output_type": "execute_result"
    }
   ],
   "source": [
    "samples1=[]\n",
    "for i in range(0,len(table)):\n",
    "    a = [table.sessions[i]]\n",
    "    #print(a)\n",
    "    samples1.append(a)\n",
    "samples1\n",
    "#return samples1\n",
    "#print(samples1)\n"
   ]
  },
  {
   "cell_type": "code",
   "execution_count": 157,
   "metadata": {
    "collapsed": false
   },
   "outputs": [
    {
     "data": {
      "text/plain": [
       "251.30000000000001"
      ]
     },
     "execution_count": 157,
     "metadata": {},
     "output_type": "execute_result"
    }
   ],
   "source": [
    "mv = sum(table.sessions)/len(samples1)\n",
    "mv"
   ]
  },
  {
   "cell_type": "code",
   "execution_count": 158,
   "metadata": {
    "collapsed": true
   },
   "outputs": [],
   "source": [
    "import random\n",
    "import math\n",
    "\n",
    "NUM_CLUSTERS = 3\n",
    "TOTAL_DATA = len(samples1)\n",
    "LOWEST_SAMPLE_POINT = samples1.index(min(samples1)) #element 9 of SAMPLES.\n",
    "HIGHEST_SAMPLE_POINT = samples1.index(max(samples1)) #element 6 of SAMPLES.\n",
    "Middle_SAMPLE_POINT = 2\n",
    "BIG_NUMBER = math.pow(10, 10)\n",
    "\n",
    "\n",
    "SAMPLES = samples1\n",
    "data1 = []\n",
    "centroids = []\n",
    "\n",
    "class DataPoint:\n",
    "    def __init__(self, x):\n",
    "        self.x = x\n",
    "          \n",
    "    def set_x(self, x):\n",
    "        self.x = x\n",
    "    \n",
    "    def get_x(self):\n",
    "        return self.x\n",
    "      \n",
    "    def set_cluster(self, clusterNumber):\n",
    "        self.clusterNumber = clusterNumber\n",
    "    \n",
    "    def get_cluster(self):\n",
    "        return self.clusterNumber\n",
    "\n",
    "class Centroid:\n",
    "    def __init__(self, x):\n",
    "        self.x = x\n",
    "    \n",
    "    def set_x(self, x):\n",
    "        self.x = x\n",
    "    \n",
    "    def get_x(self):\n",
    "        return self.x\n",
    "    \n"
   ]
  },
  {
   "cell_type": "code",
   "execution_count": null,
   "metadata": {
    "collapsed": true
   },
   "outputs": [],
   "source": []
  },
  {
   "cell_type": "code",
   "execution_count": 159,
   "metadata": {
    "collapsed": false
   },
   "outputs": [],
   "source": [
    "def initialize_centroids():\n",
    "    # Set the centoid coordinates to match the data points furthest from each other.\n",
    "    # In this example, [31, 51.613, 1, 3.2260000000000004] and [758, 59.234999999999999, 22, 2.9019999999999997]\n",
    "    centroids.append(Centroid(SAMPLES[LOWEST_SAMPLE_POINT][0]))\n",
    "    centroids.append(Centroid(SAMPLES[HIGHEST_SAMPLE_POINT][0]))\n",
    "    centroids.append(Centroid(SAMPLES[Middle_SAMPLE_POINT][0]))\n",
    "    \n",
    "    print(\"Centroids initialized at:\")\n",
    "    print(\"(\", centroids[0].get_x(),\")\")\n",
    "    print(\"(\", centroids[1].get_x(),\")\")\n",
    "    print(\"(\", centroids[2].get_x(),\")\")\n",
    "    print()\n",
    "    return\n",
    "#print(initialize_centroids())\n",
    "#print(centroids.append(Centroid(SAMPLES[HIGHEST_SAMPLE_POINT][0])))"
   ]
  },
  {
   "cell_type": "code",
   "execution_count": 160,
   "metadata": {
    "collapsed": true
   },
   "outputs": [],
   "source": [
    "def initialize_datapoints():\n",
    "    # DataPoint objects' x and y values are taken from the SAMPLE array.\n",
    "    # The DataPoints associated with LOWEST_SAMPLE_POINT and HIGHEST_SAMPLE_POINT are initially\n",
    "    # assigned to the clusters matching the LOWEST_SAMPLE_POINT and HIGHEST_SAMPLE_POINT centroids.\n",
    "    for i in range(TOTAL_DATA):\n",
    "        newPoint = DataPoint(SAMPLES[i][0])\n",
    "        \n",
    "        if(i == LOWEST_SAMPLE_POINT):\n",
    "            newPoint.set_cluster(0)\n",
    "        elif(i == HIGHEST_SAMPLE_POINT):\n",
    "            newPoint.set_cluster(1)\n",
    "        elif(i == Middle_SAMPLE_POINT):\n",
    "            newPoint.set_cluster(2)\n",
    "        else:\n",
    "            newPoint.set_cluster(None)\n",
    "            \n",
    "        data1.append(newPoint)\n",
    "    \n",
    "    return\n",
    "\n"
   ]
  },
  {
   "cell_type": "code",
   "execution_count": null,
   "metadata": {
    "collapsed": false
   },
   "outputs": [],
   "source": []
  },
  {
   "cell_type": "code",
   "execution_count": 161,
   "metadata": {
    "collapsed": true
   },
   "outputs": [],
   "source": [
    "def get_distance(dataPointX, centroidX):\n",
    "    # Calculate Euclidean distance.\n",
    "    return math.sqrt(math.pow((centroidX - dataPointX), 2))\n"
   ]
  },
  {
   "cell_type": "code",
   "execution_count": 162,
   "metadata": {
    "collapsed": false
   },
   "outputs": [
    {
     "name": "stdout",
     "output_type": "stream",
     "text": [
      "None\n"
     ]
    }
   ],
   "source": [
    "def recalculate_centroids():\n",
    "    totalX = 0\n",
    "    totalInCluster = 0\n",
    "    \n",
    "    for j in range(NUM_CLUSTERS):\n",
    "        for k in range(len(data1)):\n",
    "            if(data1[k].get_cluster() == j):\n",
    "                totalX += data1[k].get_x()\n",
    "                totalInCluster += 1\n",
    "        \n",
    "        if(totalInCluster > 0):\n",
    "            centroids[j].set_x(totalX / totalInCluster)\n",
    "               \n",
    "    return\n",
    "\n",
    "print(recalculate_centroids())"
   ]
  },
  {
   "cell_type": "code",
   "execution_count": 163,
   "metadata": {
    "collapsed": true
   },
   "outputs": [],
   "source": [
    "def update_clusters():\n",
    "    isStillMoving = 0\n",
    "    \n",
    "    for i in range(TOTAL_DATA):\n",
    "        bestMinimum = BIG_NUMBER\n",
    "        currentCluster = 0\n",
    "        \n",
    "        for j in range(NUM_CLUSTERS):\n",
    "            distance = get_distance(data1[i].get_x(), centroids[j].get_x())\n",
    "            if(distance < bestMinimum):\n",
    "                bestMinimum = distance\n",
    "                currentCluster = j\n",
    "        \n",
    "        data1[i].set_cluster(currentCluster)\n",
    "        \n",
    "        if(data1[i].get_cluster() is None or data1[i].get_cluster() != currentCluster):\n",
    "            data1[i].set_cluster(currentCluster)\n",
    "            isStillMoving = 1\n",
    "    \n",
    "    return isStillMoving"
   ]
  },
  {
   "cell_type": "code",
   "execution_count": 164,
   "metadata": {
    "collapsed": false
   },
   "outputs": [
    {
     "name": "stdout",
     "output_type": "stream",
     "text": [
      "Centroids initialized at:\n",
      "( 32 )\n",
      "( 842 )\n",
      "( 223 )\n",
      "\n"
     ]
    }
   ],
   "source": [
    "def perform_kmeans():\n",
    "    isStillMoving = 1\n",
    "    \n",
    "    initialize_centroids()\n",
    "    \n",
    "    initialize_datapoints()\n",
    "    \n",
    "    while(isStillMoving):\n",
    "        recalculate_centroids()\n",
    "        isStillMoving = update_clusters()\n",
    "    \n",
    "    return\n",
    "\n",
    "perform_kmeans()"
   ]
  },
  {
   "cell_type": "code",
   "execution_count": 165,
   "metadata": {
    "collapsed": false,
    "scrolled": false
   },
   "outputs": [
    {
     "name": "stdout",
     "output_type": "stream",
     "text": [
      "Cluster  0  includes:\n",
      "[101]\n",
      "[90]\n",
      "[32]\n",
      "[167]\n",
      "[37]\n",
      "\n",
      "Cluster  1  includes:\n",
      "[842]\n",
      "[482]\n",
      "\n",
      "Cluster  2  includes:\n",
      "[334]\n",
      "[223]\n",
      "[205]\n",
      "\n"
     ]
    }
   ],
   "source": [
    "def print_results():\n",
    "    for i in range(NUM_CLUSTERS):\n",
    "        print(\"Cluster \", i, \" includes:\")\n",
    "        for j in range(TOTAL_DATA):\n",
    "            if(data1[j].get_cluster() == i):\n",
    "                s = [data1[j].get_x()]\n",
    "                #print(\"(\", data1[j].get_x(), \")\")\n",
    "                print(s)\n",
    "        print()\n",
    "    \n",
    "    return\n",
    "\n",
    "\n",
    "print_results()\n",
    "#print(data1[j].get_x())\n"
   ]
  },
  {
   "cell_type": "code",
   "execution_count": 166,
   "metadata": {
    "collapsed": false,
    "scrolled": true
   },
   "outputs": [
    {
     "data": {
      "text/html": [
       "<div>\n",
       "<table border=\"1\" class=\"dataframe\">\n",
       "  <thead>\n",
       "    <tr style=\"text-align: right;\">\n",
       "      <th></th>\n",
       "      <th>city_age</th>\n",
       "      <th>sessions</th>\n",
       "      <th>bounce_rate</th>\n",
       "      <th>conversions</th>\n",
       "      <th>conversion_rate</th>\n",
       "    </tr>\n",
       "  </thead>\n",
       "  <tbody>\n",
       "    <tr>\n",
       "      <th>9</th>\n",
       "      <td>London, 55-64</td>\n",
       "      <td>37</td>\n",
       "      <td>48.65</td>\n",
       "      <td>0</td>\n",
       "      <td>0.00</td>\n",
       "    </tr>\n",
       "    <tr>\n",
       "      <th>8</th>\n",
       "      <td>London, 45-54</td>\n",
       "      <td>205</td>\n",
       "      <td>55.61</td>\n",
       "      <td>3</td>\n",
       "      <td>1.46</td>\n",
       "    </tr>\n",
       "    <tr>\n",
       "      <th>3</th>\n",
       "      <td>Croydon, 45-54</td>\n",
       "      <td>90</td>\n",
       "      <td>45.56</td>\n",
       "      <td>2</td>\n",
       "      <td>2.22</td>\n",
       "    </tr>\n",
       "    <tr>\n",
       "      <th>6</th>\n",
       "      <td>London, 25-34</td>\n",
       "      <td>842</td>\n",
       "      <td>59.14</td>\n",
       "      <td>24</td>\n",
       "      <td>2.85</td>\n",
       "    </tr>\n",
       "    <tr>\n",
       "      <th>7</th>\n",
       "      <td>London, 35-44</td>\n",
       "      <td>482</td>\n",
       "      <td>54.77</td>\n",
       "      <td>14</td>\n",
       "      <td>2.90</td>\n",
       "    </tr>\n",
       "    <tr>\n",
       "      <th>4</th>\n",
       "      <td>Croydon, 55-64</td>\n",
       "      <td>32</td>\n",
       "      <td>53.12</td>\n",
       "      <td>1</td>\n",
       "      <td>3.12</td>\n",
       "    </tr>\n",
       "    <tr>\n",
       "      <th>2</th>\n",
       "      <td>Croydon, 35-44</td>\n",
       "      <td>223</td>\n",
       "      <td>43.05</td>\n",
       "      <td>7</td>\n",
       "      <td>3.14</td>\n",
       "    </tr>\n",
       "    <tr>\n",
       "      <th>0</th>\n",
       "      <td>Croydon, 18-24</td>\n",
       "      <td>101</td>\n",
       "      <td>41.58</td>\n",
       "      <td>4</td>\n",
       "      <td>3.96</td>\n",
       "    </tr>\n",
       "    <tr>\n",
       "      <th>5</th>\n",
       "      <td>London, 18-24</td>\n",
       "      <td>167</td>\n",
       "      <td>49.70</td>\n",
       "      <td>8</td>\n",
       "      <td>4.79</td>\n",
       "    </tr>\n",
       "    <tr>\n",
       "      <th>1</th>\n",
       "      <td>Croydon, 25-34</td>\n",
       "      <td>334</td>\n",
       "      <td>47.90</td>\n",
       "      <td>17</td>\n",
       "      <td>5.09</td>\n",
       "    </tr>\n",
       "  </tbody>\n",
       "</table>\n",
       "</div>"
      ],
      "text/plain": [
       "         city_age  sessions  bounce_rate  conversions  conversion_rate\n",
       "9   London, 55-64        37        48.65            0             0.00\n",
       "8   London, 45-54       205        55.61            3             1.46\n",
       "3  Croydon, 45-54        90        45.56            2             2.22\n",
       "6   London, 25-34       842        59.14           24             2.85\n",
       "7   London, 35-44       482        54.77           14             2.90\n",
       "4  Croydon, 55-64        32        53.12            1             3.12\n",
       "2  Croydon, 35-44       223        43.05            7             3.14\n",
       "0  Croydon, 18-24       101        41.58            4             3.96\n",
       "5   London, 18-24       167        49.70            8             4.79\n",
       "1  Croydon, 25-34       334        47.90           17             5.09"
      ]
     },
     "execution_count": 166,
     "metadata": {},
     "output_type": "execute_result"
    }
   ],
   "source": [
    "table.sort_values(by='conversion_rate')"
   ]
  },
  {
   "cell_type": "code",
   "execution_count": 167,
   "metadata": {
    "collapsed": false
   },
   "outputs": [
    {
     "data": {
      "text/plain": [
       "2.9530000000000003"
      ]
     },
     "execution_count": 167,
     "metadata": {},
     "output_type": "execute_result"
    }
   ],
   "source": [
    "sum(table.conversion_rate)/10"
   ]
  },
  {
   "cell_type": "code",
   "execution_count": 168,
   "metadata": {
    "collapsed": false
   },
   "outputs": [
    {
     "data": {
      "text/plain": [
       "8"
      ]
     },
     "execution_count": 168,
     "metadata": {},
     "output_type": "execute_result"
    }
   ],
   "source": [
    "table.conversions[5]"
   ]
  },
  {
   "cell_type": "code",
   "execution_count": 169,
   "metadata": {
    "collapsed": false
   },
   "outputs": [
    {
     "data": {
      "text/plain": [
       "[[3.96],\n",
       " [5.0899999999999999],\n",
       " [3.1400000000000001],\n",
       " [2.2200000000000002],\n",
       " [3.1200000000000001],\n",
       " [4.79],\n",
       " [2.8500000000000001],\n",
       " [2.8999999999999999],\n",
       " [1.46],\n",
       " [0.0]]"
      ]
     },
     "execution_count": 169,
     "metadata": {},
     "output_type": "execute_result"
    }
   ],
   "source": [
    "samples1=[]\n",
    "for i in range(0,len(table)):\n",
    "    a = [table.conversion_rate[i]]\n",
    "    #print(a)\n",
    "    samples1.append(a)\n",
    "samples1\n",
    "#return samples1\n",
    "#print(samples1)\n"
   ]
  },
  {
   "cell_type": "code",
   "execution_count": 170,
   "metadata": {
    "collapsed": true
   },
   "outputs": [],
   "source": [
    "samples1=[[3.9603960396039604],\n",
    " [5.0898203592814371],\n",
    " [3.1390134529147984],\n",
    " [2.2222222222222223],\n",
    " [3.125],\n",
    " [4.7904191616766472],\n",
    " [2.8503562945368173],\n",
    " [2.904564315352697],\n",
    " [1.4634146341463417]]"
   ]
  },
  {
   "cell_type": "code",
   "execution_count": 171,
   "metadata": {
    "collapsed": false
   },
   "outputs": [
    {
     "data": {
      "text/plain": [
       "[3.125]"
      ]
     },
     "execution_count": 171,
     "metadata": {},
     "output_type": "execute_result"
    }
   ],
   "source": [
    "samples1[4]"
   ]
  },
  {
   "cell_type": "code",
   "execution_count": 172,
   "metadata": {
    "collapsed": true
   },
   "outputs": [],
   "source": [
    "import random\n",
    "import math\n",
    "\n",
    "NUM_CLUSTERS = 3\n",
    "TOTAL_DATA = len(samples1)\n",
    "LOWEST_SAMPLE_POINT = samples1.index(min(samples1)) #element 9 of SAMPLES.\n",
    "HIGHEST_SAMPLE_POINT = samples1.index(max(samples1)) #element 6 of SAMPLES.\n",
    "Middle_SAMPLE_POINT = 4\n",
    "BIG_NUMBER = math.pow(10, 10)\n",
    "\n",
    "\n",
    "SAMPLES = samples1\n",
    "data1 = []\n",
    "centroids = []\n",
    "\n",
    "class DataPoint:\n",
    "    def __init__(self, x):\n",
    "        self.x = x\n",
    "          \n",
    "    def set_x(self, x):\n",
    "        self.x = x\n",
    "    \n",
    "    def get_x(self):\n",
    "        return self.x\n",
    "      \n",
    "    def set_cluster(self, clusterNumber):\n",
    "        self.clusterNumber = clusterNumber\n",
    "    \n",
    "    def get_cluster(self):\n",
    "        return self.clusterNumber\n",
    "\n",
    "class Centroid:\n",
    "    def __init__(self, x):\n",
    "        self.x = x\n",
    "    \n",
    "    def set_x(self, x):\n",
    "        self.x = x\n",
    "    \n",
    "    def get_x(self):\n",
    "        return self.x\n",
    "    \n"
   ]
  },
  {
   "cell_type": "code",
   "execution_count": 173,
   "metadata": {
    "collapsed": true
   },
   "outputs": [],
   "source": [
    "def initialize_centroids():\n",
    "    # Set the centoid coordinates to match the data points furthest from each other.\n",
    "    # In this example, [31, 51.613, 1, 3.2260000000000004] and [758, 59.234999999999999, 22, 2.9019999999999997]\n",
    "    centroids.append(Centroid(SAMPLES[LOWEST_SAMPLE_POINT][0]))\n",
    "    centroids.append(Centroid(SAMPLES[HIGHEST_SAMPLE_POINT][0]))\n",
    "    centroids.append(Centroid(SAMPLES[Middle_SAMPLE_POINT][0]))\n",
    "    \n",
    "    print(\"Centroids initialized at:\")\n",
    "    print(\"(\", centroids[0].get_x(),\")\")\n",
    "    print(\"(\", centroids[1].get_x(),\")\")\n",
    "    print(\"(\", centroids[2].get_x(),\")\")\n",
    "    print()\n",
    "    return\n",
    "#print(initialize_centroids())\n",
    "#print(centroids.append(Centroid(SAMPLES[HIGHEST_SAMPLE_POINT][0])))"
   ]
  },
  {
   "cell_type": "code",
   "execution_count": 174,
   "metadata": {
    "collapsed": false
   },
   "outputs": [],
   "source": [
    "def initialize_datapoints():\n",
    "    # DataPoint objects' x and y values are taken from the SAMPLE array.\n",
    "    # The DataPoints associated with LOWEST_SAMPLE_POINT and HIGHEST_SAMPLE_POINT are initially\n",
    "    # assigned to the clusters matching the LOWEST_SAMPLE_POINT and HIGHEST_SAMPLE_POINT centroids.\n",
    "    for i in range(TOTAL_DATA):\n",
    "        newPoint = DataPoint(SAMPLES[i][0])\n",
    "        \n",
    "        if(i == LOWEST_SAMPLE_POINT):\n",
    "            newPoint.set_cluster(0)\n",
    "        elif(i == HIGHEST_SAMPLE_POINT):\n",
    "            newPoint.set_cluster(1)\n",
    "        elif(i == Middle_SAMPLE_POINT):\n",
    "            newPoint.set_cluster(2)\n",
    "        else:\n",
    "            newPoint.set_cluster(None)\n",
    "            \n",
    "        data1.append(newPoint)\n",
    "    \n",
    "    return\n"
   ]
  },
  {
   "cell_type": "code",
   "execution_count": 175,
   "metadata": {
    "collapsed": true
   },
   "outputs": [],
   "source": [
    "def get_distance(dataPointX, centroidX):\n",
    "    # Calculate Euclidean distance.\n",
    "    return math.sqrt(math.pow((centroidX - dataPointX), 2))"
   ]
  },
  {
   "cell_type": "code",
   "execution_count": 176,
   "metadata": {
    "collapsed": false
   },
   "outputs": [
    {
     "name": "stdout",
     "output_type": "stream",
     "text": [
      "None\n"
     ]
    }
   ],
   "source": [
    "def recalculate_centroids():\n",
    "    totalX = 0\n",
    "    totalInCluster = 0\n",
    "    \n",
    "    for j in range(NUM_CLUSTERS):\n",
    "        for k in range(len(data1)):\n",
    "            if(data1[k].get_cluster() == j):\n",
    "                totalX += data1[k].get_x()\n",
    "                totalInCluster += 1\n",
    "        \n",
    "        if(totalInCluster > 0):\n",
    "            centroids[j].set_x(totalX / totalInCluster)\n",
    "               \n",
    "    return\n",
    "\n",
    "print(recalculate_centroids())"
   ]
  },
  {
   "cell_type": "code",
   "execution_count": 177,
   "metadata": {
    "collapsed": true
   },
   "outputs": [],
   "source": [
    "def update_clusters():\n",
    "    isStillMoving = 0\n",
    "    \n",
    "    for i in range(TOTAL_DATA):\n",
    "        bestMinimum = BIG_NUMBER\n",
    "        currentCluster = 0\n",
    "        \n",
    "        for j in range(NUM_CLUSTERS):\n",
    "            distance = get_distance(data1[i].get_x(), centroids[j].get_x())\n",
    "            if(distance < bestMinimum):\n",
    "                bestMinimum = distance\n",
    "                currentCluster = j\n",
    "        \n",
    "        data1[i].set_cluster(currentCluster)\n",
    "        \n",
    "        if(data1[i].get_cluster() is None or data1[i].get_cluster() != currentCluster):\n",
    "            data1[i].set_cluster(currentCluster)\n",
    "            isStillMoving = 1\n",
    "    \n",
    "    return isStillMoving"
   ]
  },
  {
   "cell_type": "code",
   "execution_count": 178,
   "metadata": {
    "collapsed": false,
    "scrolled": true
   },
   "outputs": [
    {
     "name": "stdout",
     "output_type": "stream",
     "text": [
      "Centroids initialized at:\n",
      "( 1.4634146341463417 )\n",
      "( 5.089820359281437 )\n",
      "( 3.125 )\n",
      "\n"
     ]
    }
   ],
   "source": [
    "def perform_kmeans():\n",
    "    isStillMoving = 1\n",
    "    \n",
    "    initialize_centroids()\n",
    "    \n",
    "    initialize_datapoints()\n",
    "    \n",
    "    while(isStillMoving):\n",
    "        recalculate_centroids()\n",
    "        isStillMoving = update_clusters()\n",
    "    \n",
    "    return\n",
    "\n",
    "perform_kmeans()"
   ]
  },
  {
   "cell_type": "code",
   "execution_count": 179,
   "metadata": {
    "collapsed": false
   },
   "outputs": [
    {
     "name": "stdout",
     "output_type": "stream",
     "text": [
      "Cluster  0  includes:\n",
      "( 2.2222222222222223 )\n",
      "( 1.4634146341463417 )\n",
      "\n",
      "Cluster  1  includes:\n",
      "( 3.9603960396039604 )\n",
      "( 5.089820359281437 )\n",
      "( 4.790419161676647 )\n",
      "\n",
      "Cluster  2  includes:\n",
      "( 3.1390134529147984 )\n",
      "( 3.125 )\n",
      "( 2.8503562945368173 )\n",
      "( 2.904564315352697 )\n",
      "\n"
     ]
    }
   ],
   "source": [
    "def print_results():\n",
    "    for i in range(NUM_CLUSTERS):\n",
    "        print(\"Cluster \", i, \" includes:\")\n",
    "        for j in range(TOTAL_DATA):\n",
    "            if(data1[j].get_cluster() == i):\n",
    "                print(\"(\", data1[j].get_x(), \")\")\n",
    "        #print(data1[j].get_x())\n",
    "        print()\n",
    "    \n",
    "    return\n",
    "\n",
    "\n",
    "print_results()\n"
   ]
  },
  {
   "cell_type": "code",
   "execution_count": 222,
   "metadata": {
    "collapsed": false
   },
   "outputs": [
    {
     "data": {
      "text/plain": [
       "[[0, 2.2222222222222223],\n",
       " [0, 1.4634146341463417],\n",
       " [1, 3.9603960396039604],\n",
       " [1, 5.089820359281437],\n",
       " [1, 4.790419161676647],\n",
       " [2, 3.1390134529147984],\n",
       " [2, 3.125],\n",
       " [2, 2.8503562945368173],\n",
       " [2, 2.904564315352697]]"
      ]
     },
     "execution_count": 222,
     "metadata": {},
     "output_type": "execute_result"
    }
   ],
   "source": [
    "def print_results():\n",
    "    result_list = []\n",
    "    \n",
    "    for i in range(NUM_CLUSTERS):\n",
    "        #print(i)\n",
    "        \n",
    "        for j in range(TOTAL_DATA):\n",
    "\n",
    "            if(data1[j].get_cluster() == i):\n",
    "                \n",
    "                result_list.append([data1[j].get_cluster(), data1[j].get_x()])\n",
    "                #result_list.append(result)\n",
    "                \n",
    "                \n",
    "    return result_list\n",
    "\n",
    "\n",
    "print_results()"
   ]
  },
  {
   "cell_type": "code",
   "execution_count": null,
   "metadata": {
    "collapsed": false
   },
   "outputs": [],
   "source": [
    "\n"
   ]
  },
  {
   "cell_type": "code",
   "execution_count": 183,
   "metadata": {
    "collapsed": false
   },
   "outputs": [
    {
     "name": "stderr",
     "output_type": "stream",
     "text": [
      "C:\\Users\\Analytics\\Anaconda3\\lib\\site-packages\\ipykernel\\__main__.py:1: FutureWarning: sort(columns=....) is deprecated, use sort_values(by=.....)\n",
      "  if __name__ == '__main__':\n"
     ]
    },
    {
     "data": {
      "text/html": [
       "<div>\n",
       "<table border=\"1\" class=\"dataframe\">\n",
       "  <thead>\n",
       "    <tr style=\"text-align: right;\">\n",
       "      <th></th>\n",
       "      <th>city_age</th>\n",
       "      <th>sessions</th>\n",
       "      <th>bounce_rate</th>\n",
       "      <th>conversions</th>\n",
       "      <th>conversion_rate</th>\n",
       "    </tr>\n",
       "  </thead>\n",
       "  <tbody>\n",
       "    <tr>\n",
       "      <th>4</th>\n",
       "      <td>Croydon, 55-64</td>\n",
       "      <td>32</td>\n",
       "      <td>53.12</td>\n",
       "      <td>1</td>\n",
       "      <td>3.12</td>\n",
       "    </tr>\n",
       "    <tr>\n",
       "      <th>9</th>\n",
       "      <td>London, 55-64</td>\n",
       "      <td>37</td>\n",
       "      <td>48.65</td>\n",
       "      <td>0</td>\n",
       "      <td>0.00</td>\n",
       "    </tr>\n",
       "    <tr>\n",
       "      <th>3</th>\n",
       "      <td>Croydon, 45-54</td>\n",
       "      <td>90</td>\n",
       "      <td>45.56</td>\n",
       "      <td>2</td>\n",
       "      <td>2.22</td>\n",
       "    </tr>\n",
       "    <tr>\n",
       "      <th>0</th>\n",
       "      <td>Croydon, 18-24</td>\n",
       "      <td>101</td>\n",
       "      <td>41.58</td>\n",
       "      <td>4</td>\n",
       "      <td>3.96</td>\n",
       "    </tr>\n",
       "    <tr>\n",
       "      <th>5</th>\n",
       "      <td>London, 18-24</td>\n",
       "      <td>167</td>\n",
       "      <td>49.70</td>\n",
       "      <td>8</td>\n",
       "      <td>4.79</td>\n",
       "    </tr>\n",
       "    <tr>\n",
       "      <th>8</th>\n",
       "      <td>London, 45-54</td>\n",
       "      <td>205</td>\n",
       "      <td>55.61</td>\n",
       "      <td>3</td>\n",
       "      <td>1.46</td>\n",
       "    </tr>\n",
       "    <tr>\n",
       "      <th>2</th>\n",
       "      <td>Croydon, 35-44</td>\n",
       "      <td>223</td>\n",
       "      <td>43.05</td>\n",
       "      <td>7</td>\n",
       "      <td>3.14</td>\n",
       "    </tr>\n",
       "    <tr>\n",
       "      <th>1</th>\n",
       "      <td>Croydon, 25-34</td>\n",
       "      <td>334</td>\n",
       "      <td>47.90</td>\n",
       "      <td>17</td>\n",
       "      <td>5.09</td>\n",
       "    </tr>\n",
       "    <tr>\n",
       "      <th>7</th>\n",
       "      <td>London, 35-44</td>\n",
       "      <td>482</td>\n",
       "      <td>54.77</td>\n",
       "      <td>14</td>\n",
       "      <td>2.90</td>\n",
       "    </tr>\n",
       "    <tr>\n",
       "      <th>6</th>\n",
       "      <td>London, 25-34</td>\n",
       "      <td>842</td>\n",
       "      <td>59.14</td>\n",
       "      <td>24</td>\n",
       "      <td>2.85</td>\n",
       "    </tr>\n",
       "  </tbody>\n",
       "</table>\n",
       "</div>"
      ],
      "text/plain": [
       "         city_age  sessions  bounce_rate  conversions  conversion_rate\n",
       "4  Croydon, 55-64        32        53.12            1             3.12\n",
       "9   London, 55-64        37        48.65            0             0.00\n",
       "3  Croydon, 45-54        90        45.56            2             2.22\n",
       "0  Croydon, 18-24       101        41.58            4             3.96\n",
       "5   London, 18-24       167        49.70            8             4.79\n",
       "8   London, 45-54       205        55.61            3             1.46\n",
       "2  Croydon, 35-44       223        43.05            7             3.14\n",
       "1  Croydon, 25-34       334        47.90           17             5.09\n",
       "7   London, 35-44       482        54.77           14             2.90\n",
       "6   London, 25-34       842        59.14           24             2.85"
      ]
     },
     "execution_count": 183,
     "metadata": {},
     "output_type": "execute_result"
    }
   ],
   "source": [
    "table.sort('sessions')"
   ]
  },
  {
   "cell_type": "code",
   "execution_count": 184,
   "metadata": {
    "collapsed": false
   },
   "outputs": [
    {
     "name": "stderr",
     "output_type": "stream",
     "text": [
      "C:\\Users\\Analytics\\Anaconda3\\lib\\site-packages\\ipykernel\\__main__.py:1: FutureWarning: sort(columns=....) is deprecated, use sort_values(by=.....)\n",
      "  if __name__ == '__main__':\n"
     ]
    },
    {
     "data": {
      "text/html": [
       "<div>\n",
       "<table border=\"1\" class=\"dataframe\">\n",
       "  <thead>\n",
       "    <tr style=\"text-align: right;\">\n",
       "      <th></th>\n",
       "      <th>city_age</th>\n",
       "      <th>sessions</th>\n",
       "      <th>bounce_rate</th>\n",
       "      <th>conversions</th>\n",
       "      <th>conversion_rate</th>\n",
       "    </tr>\n",
       "  </thead>\n",
       "  <tbody>\n",
       "    <tr>\n",
       "      <th>9</th>\n",
       "      <td>London, 55-64</td>\n",
       "      <td>37</td>\n",
       "      <td>48.65</td>\n",
       "      <td>0</td>\n",
       "      <td>0.00</td>\n",
       "    </tr>\n",
       "    <tr>\n",
       "      <th>8</th>\n",
       "      <td>London, 45-54</td>\n",
       "      <td>205</td>\n",
       "      <td>55.61</td>\n",
       "      <td>3</td>\n",
       "      <td>1.46</td>\n",
       "    </tr>\n",
       "    <tr>\n",
       "      <th>3</th>\n",
       "      <td>Croydon, 45-54</td>\n",
       "      <td>90</td>\n",
       "      <td>45.56</td>\n",
       "      <td>2</td>\n",
       "      <td>2.22</td>\n",
       "    </tr>\n",
       "    <tr>\n",
       "      <th>6</th>\n",
       "      <td>London, 25-34</td>\n",
       "      <td>842</td>\n",
       "      <td>59.14</td>\n",
       "      <td>24</td>\n",
       "      <td>2.85</td>\n",
       "    </tr>\n",
       "    <tr>\n",
       "      <th>7</th>\n",
       "      <td>London, 35-44</td>\n",
       "      <td>482</td>\n",
       "      <td>54.77</td>\n",
       "      <td>14</td>\n",
       "      <td>2.90</td>\n",
       "    </tr>\n",
       "    <tr>\n",
       "      <th>4</th>\n",
       "      <td>Croydon, 55-64</td>\n",
       "      <td>32</td>\n",
       "      <td>53.12</td>\n",
       "      <td>1</td>\n",
       "      <td>3.12</td>\n",
       "    </tr>\n",
       "    <tr>\n",
       "      <th>2</th>\n",
       "      <td>Croydon, 35-44</td>\n",
       "      <td>223</td>\n",
       "      <td>43.05</td>\n",
       "      <td>7</td>\n",
       "      <td>3.14</td>\n",
       "    </tr>\n",
       "    <tr>\n",
       "      <th>0</th>\n",
       "      <td>Croydon, 18-24</td>\n",
       "      <td>101</td>\n",
       "      <td>41.58</td>\n",
       "      <td>4</td>\n",
       "      <td>3.96</td>\n",
       "    </tr>\n",
       "    <tr>\n",
       "      <th>5</th>\n",
       "      <td>London, 18-24</td>\n",
       "      <td>167</td>\n",
       "      <td>49.70</td>\n",
       "      <td>8</td>\n",
       "      <td>4.79</td>\n",
       "    </tr>\n",
       "    <tr>\n",
       "      <th>1</th>\n",
       "      <td>Croydon, 25-34</td>\n",
       "      <td>334</td>\n",
       "      <td>47.90</td>\n",
       "      <td>17</td>\n",
       "      <td>5.09</td>\n",
       "    </tr>\n",
       "  </tbody>\n",
       "</table>\n",
       "</div>"
      ],
      "text/plain": [
       "         city_age  sessions  bounce_rate  conversions  conversion_rate\n",
       "9   London, 55-64        37        48.65            0             0.00\n",
       "8   London, 45-54       205        55.61            3             1.46\n",
       "3  Croydon, 45-54        90        45.56            2             2.22\n",
       "6   London, 25-34       842        59.14           24             2.85\n",
       "7   London, 35-44       482        54.77           14             2.90\n",
       "4  Croydon, 55-64        32        53.12            1             3.12\n",
       "2  Croydon, 35-44       223        43.05            7             3.14\n",
       "0  Croydon, 18-24       101        41.58            4             3.96\n",
       "5   London, 18-24       167        49.70            8             4.79\n",
       "1  Croydon, 25-34       334        47.90           17             5.09"
      ]
     },
     "execution_count": 184,
     "metadata": {},
     "output_type": "execute_result"
    }
   ],
   "source": [
    "table.sort('conversion_rate')"
   ]
  },
  {
   "cell_type": "code",
   "execution_count": null,
   "metadata": {
    "collapsed": true
   },
   "outputs": [],
   "source": []
  },
  {
   "cell_type": "code",
   "execution_count": null,
   "metadata": {
    "collapsed": true
   },
   "outputs": [],
   "source": []
  },
  {
   "cell_type": "code",
   "execution_count": null,
   "metadata": {
    "collapsed": true
   },
   "outputs": [],
   "source": []
  },
  {
   "cell_type": "code",
   "execution_count": null,
   "metadata": {
    "collapsed": true
   },
   "outputs": [],
   "source": []
  }
 ],
 "metadata": {
  "kernelspec": {
   "display_name": "Python 3",
   "language": "python",
   "name": "python3"
  },
  "language_info": {
   "codemirror_mode": {
    "name": "ipython",
    "version": 3
   },
   "file_extension": ".py",
   "mimetype": "text/x-python",
   "name": "python",
   "nbconvert_exporter": "python",
   "pygments_lexer": "ipython3",
   "version": "3.6.0"
  }
 },
 "nbformat": 4,
 "nbformat_minor": 2
}
