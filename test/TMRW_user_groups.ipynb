{
 "cells": [
  {
   "cell_type": "code",
   "execution_count": 43,
   "metadata": {
    "collapsed": true
   },
   "outputs": [],
   "source": [
    "#data_city\n",
    "\n",
    "#Account: TMRW Tech Hub\n",
    "#Property: TMRW\n",
    "#View: All Web Site Data\n",
    "#ids: ga:123303369\n",
    "#start-date: 2017-02-01\n",
    "#end-date: 2017-04-30\n",
    "\n",
    "#metrics\n",
    "#ga:sessions\n",
    "#ga:bounceRate\n",
    "#ga:goal1ConversionRate\n",
    "#ga:goal1Completions\n",
    "\n",
    "#dimensions\n",
    "#ga:city\n",
    "\n",
    "#filter\n",
    "#ga:sessions>30;ga:city!=(not set)"
   ]
  },
  {
   "cell_type": "code",
   "execution_count": 44,
   "metadata": {
    "collapsed": false,
    "scrolled": true
   },
   "outputs": [
    {
     "name": "stdout",
     "output_type": "stream",
     "text": [
      "[{'dimensions': ['Croydon', '18-24'],\n",
      "  'metrics': [{'values': ['101',\n",
      "                          '41.584158415841586',\n",
      "                          '4',\n",
      "                          '3.9603960396039604']}]},\n",
      " {'dimensions': ['Croydon', '25-34'],\n",
      "  'metrics': [{'values': ['334',\n",
      "                          '47.90419161676647',\n",
      "                          '17',\n",
      "                          '5.089820359281437']}]},\n",
      " {'dimensions': ['Croydon', '35-44'],\n",
      "  'metrics': [{'values': ['223',\n",
      "                          '43.04932735426009',\n",
      "                          '7',\n",
      "                          '3.1390134529147984']}]},\n",
      " {'dimensions': ['Croydon', '45-54'],\n",
      "  'metrics': [{'values': ['90',\n",
      "                          '45.55555555555556',\n",
      "                          '2',\n",
      "                          '2.2222222222222223']}]},\n",
      " {'dimensions': ['Croydon', '55-64'],\n",
      "  'metrics': [{'values': ['32', '53.125', '1', '3.125']}]},\n",
      " {'dimensions': ['London', '18-24'],\n",
      "  'metrics': [{'values': ['167',\n",
      "                          '49.700598802395206',\n",
      "                          '8',\n",
      "                          '4.790419161676647']}]},\n",
      " {'dimensions': ['London', '25-34'],\n",
      "  'metrics': [{'values': ['842',\n",
      "                          '59.14489311163895',\n",
      "                          '24',\n",
      "                          '2.8503562945368173']}]},\n",
      " {'dimensions': ['London', '35-44'],\n",
      "  'metrics': [{'values': ['482',\n",
      "                          '54.77178423236515',\n",
      "                          '14',\n",
      "                          '2.904564315352697']}]},\n",
      " {'dimensions': ['London', '45-54'],\n",
      "  'metrics': [{'values': ['205',\n",
      "                          '55.60975609756098',\n",
      "                          '3',\n",
      "                          '1.4634146341463417']}]},\n",
      " {'dimensions': ['London', '55-64'],\n",
      "  'metrics': [{'values': ['37', '48.64864864864865', '0', '0.0']}]}]\n"
     ]
    }
   ],
   "source": [
    "import json\n",
    "from pprint import pprint\n",
    "\n",
    "with open('data/TMRW_user_groups.json') as file: \n",
    "    data_city = json.load(file)\n",
    "\n",
    "data_city = data_city['reports'][0]['data']['rows']\n",
    "data_city\n",
    "pprint(data_city)"
   ]
  },
  {
   "cell_type": "code",
   "execution_count": 45,
   "metadata": {
    "collapsed": false,
    "scrolled": false
   },
   "outputs": [
    {
     "name": "stdout",
     "output_type": "stream",
     "text": [
      "{('Croydon', '18-24'): ('101', '41.584158415841586', '4', '3.9603960396039604'),\n",
      " ('Croydon', '25-34'): ('334', '47.90419161676647', '17', '5.089820359281437'),\n",
      " ('Croydon', '35-44'): ('223', '43.04932735426009', '7', '3.1390134529147984'),\n",
      " ('Croydon', '45-54'): ('90', '45.55555555555556', '2', '2.2222222222222223'),\n",
      " ('Croydon', '55-64'): ('32', '53.125', '1', '3.125'),\n",
      " ('London', '18-24'): ('167', '49.700598802395206', '8', '4.790419161676647'),\n",
      " ('London', '25-34'): ('842', '59.14489311163895', '24', '2.8503562945368173'),\n",
      " ('London', '35-44'): ('482', '54.77178423236515', '14', '2.904564315352697'),\n",
      " ('London', '45-54'): ('205', '55.60975609756098', '3', '1.4634146341463417'),\n",
      " ('London', '55-64'): ('37', '48.64864864864865', '0', '0.0')}\n"
     ]
    }
   ],
   "source": [
    "def create_dict(x):\n",
    "    city_dict = {}\n",
    "\n",
    "    for s in x:\n",
    "        \n",
    "        city_dict[s['dimensions'][0],s['dimensions'][1]] = (s['metrics'][0]['values'][0],s['metrics'][0]['values'][1],s['metrics'][0]['values'][2],s['metrics'][0]['values'][3])\n",
    "        \n",
    "    \n",
    "    return city_dict\n",
    "        \n",
    "\n",
    "city_dict = (create_dict(data_city))\n",
    "pprint(city_dict)\n"
   ]
  },
  {
   "cell_type": "code",
   "execution_count": null,
   "metadata": {
    "collapsed": true
   },
   "outputs": [],
   "source": []
  },
  {
   "cell_type": "code",
   "execution_count": null,
   "metadata": {
    "collapsed": true
   },
   "outputs": [],
   "source": []
  },
  {
   "cell_type": "code",
   "execution_count": 46,
   "metadata": {
    "collapsed": false,
    "scrolled": true
   },
   "outputs": [
    {
     "data": {
      "text/html": [
       "<div>\n",
       "<table border=\"1\" class=\"dataframe\">\n",
       "  <thead>\n",
       "    <tr style=\"text-align: right;\">\n",
       "      <th></th>\n",
       "      <th>City_Age</th>\n",
       "      <th>Sessions</th>\n",
       "      <th>BounceRate</th>\n",
       "      <th>Goal1Completions</th>\n",
       "      <th>Goal1ConversionRate</th>\n",
       "    </tr>\n",
       "  </thead>\n",
       "  <tbody>\n",
       "    <tr>\n",
       "      <th>1</th>\n",
       "      <td>London 45-54</td>\n",
       "      <td>165</td>\n",
       "      <td>53.939</td>\n",
       "      <td>2</td>\n",
       "      <td>1.212</td>\n",
       "    </tr>\n",
       "    <tr>\n",
       "      <th>2</th>\n",
       "      <td>Croydon 45-54</td>\n",
       "      <td>82</td>\n",
       "      <td>48.780</td>\n",
       "      <td>1</td>\n",
       "      <td>1.220</td>\n",
       "    </tr>\n",
       "    <tr>\n",
       "      <th>3</th>\n",
       "      <td>London 35-44</td>\n",
       "      <td>426</td>\n",
       "      <td>53.756</td>\n",
       "      <td>12</td>\n",
       "      <td>2.817</td>\n",
       "    </tr>\n",
       "    <tr>\n",
       "      <th>4</th>\n",
       "      <td>London 25-34</td>\n",
       "      <td>758</td>\n",
       "      <td>59.235</td>\n",
       "      <td>22</td>\n",
       "      <td>2.902</td>\n",
       "    </tr>\n",
       "    <tr>\n",
       "      <th>5</th>\n",
       "      <td>Croydon 35-44</td>\n",
       "      <td>204</td>\n",
       "      <td>43.137</td>\n",
       "      <td>6</td>\n",
       "      <td>2.941</td>\n",
       "    </tr>\n",
       "    <tr>\n",
       "      <th>6</th>\n",
       "      <td>Croydon 55-64</td>\n",
       "      <td>31</td>\n",
       "      <td>51.613</td>\n",
       "      <td>1</td>\n",
       "      <td>3.226</td>\n",
       "    </tr>\n",
       "    <tr>\n",
       "      <th>7</th>\n",
       "      <td>Croydon 18-24</td>\n",
       "      <td>86</td>\n",
       "      <td>43.023</td>\n",
       "      <td>3</td>\n",
       "      <td>3.488</td>\n",
       "    </tr>\n",
       "    <tr>\n",
       "      <th>8</th>\n",
       "      <td>Croydon 25-34</td>\n",
       "      <td>299</td>\n",
       "      <td>47.157</td>\n",
       "      <td>15</td>\n",
       "      <td>5.017</td>\n",
       "    </tr>\n",
       "    <tr>\n",
       "      <th>9</th>\n",
       "      <td>London 18-24</td>\n",
       "      <td>155</td>\n",
       "      <td>51.613</td>\n",
       "      <td>8</td>\n",
       "      <td>5.161</td>\n",
       "    </tr>\n",
       "  </tbody>\n",
       "</table>\n",
       "</div>"
      ],
      "text/plain": [
       "        City_Age  Sessions  BounceRate  Goal1Completions  Goal1ConversionRate\n",
       "1   London 45-54       165      53.939                 2                1.212\n",
       "2  Croydon 45-54        82      48.780                 1                1.220\n",
       "3   London 35-44       426      53.756                12                2.817\n",
       "4   London 25-34       758      59.235                22                2.902\n",
       "5  Croydon 35-44       204      43.137                 6                2.941\n",
       "6  Croydon 55-64        31      51.613                 1                3.226\n",
       "7  Croydon 18-24        86      43.023                 3                3.488\n",
       "8  Croydon 25-34       299      47.157                15                5.017\n",
       "9   London 18-24       155      51.613                 8                5.161"
      ]
     },
     "execution_count": 46,
     "metadata": {},
     "output_type": "execute_result"
    }
   ],
   "source": [
    "import pandas as pd\n",
    "\n",
    "data = pd.read_csv(\"data/TMRW_users.csv\")\n",
    "data = data[data.City_Age!=\"(not set)\"]\n",
    "data = data[data.Sessions>30]\n",
    "data = data[data.Goal1Completions>0]\n",
    "data"
   ]
  },
  {
   "cell_type": "code",
   "execution_count": 47,
   "metadata": {
    "collapsed": false
   },
   "outputs": [
    {
     "data": {
      "text/plain": [
       "[[165, 53.938999999999993, 2, 1.212],\n",
       " [82, 48.780000000000001, 1, 1.22],\n",
       " [426, 53.756, 12, 2.8169999999999997],\n",
       " [758, 59.234999999999999, 22, 2.9019999999999997],\n",
       " [204, 43.137, 6, 2.9410000000000003],\n",
       " [31, 51.613, 1, 3.2260000000000004],\n",
       " [86, 43.023000000000003, 3, 3.488]]"
      ]
     },
     "execution_count": 47,
     "metadata": {},
     "output_type": "execute_result"
    }
   ],
   "source": [
    "samples1 = [[data.Sessions[1],data.BounceRate[1],data.Goal1Completions[1],data.Goal1ConversionRate[1]],[data.Sessions[2],data.BounceRate[2],data.Goal1Completions[2],data.Goal1ConversionRate[2]],[data.Sessions[3],data.BounceRate[3],data.Goal1Completions[3],data.Goal1ConversionRate[3]],[data.Sessions[4],data.BounceRate[4],data.Goal1Completions[4],data.Goal1ConversionRate[4]],[data.Sessions[5],data.BounceRate[5],data.Goal1Completions[5],data.Goal1ConversionRate[5]],[data.Sessions[6],data.BounceRate[6],data.Goal1Completions[6],data.Goal1ConversionRate[6]],[data.Sessions[7],data.BounceRate[7],data.Goal1Completions[7],data.Goal1ConversionRate[7]]]\n",
    "samples1"
   ]
  },
  {
   "cell_type": "code",
   "execution_count": 48,
   "metadata": {
    "collapsed": false
   },
   "outputs": [
    {
     "data": {
      "text/plain": [
       "8.0"
      ]
     },
     "execution_count": 48,
     "metadata": {},
     "output_type": "execute_result"
    }
   ],
   "source": [
    "import math\n",
    "\n",
    "a = math.pow(2,3)\n",
    "a"
   ]
  },
  {
   "cell_type": "code",
   "execution_count": 49,
   "metadata": {
    "collapsed": false
   },
   "outputs": [],
   "source": [
    "import random\n",
    "import math\n",
    "\n",
    "NUM_CLUSTERS = 2\n",
    "TOTAL_DATA = 7\n",
    "LOWEST_SAMPLE_POINT = 5 #element 0 of SAMPLES.\n",
    "HIGHEST_SAMPLE_POINT = 3 #element 3 of SAMPLES.\n",
    "BIG_NUMBER = math.pow(10, 10)\n",
    "\n",
    "\n",
    "SAMPLES = samples1\n",
    "data1 = []\n",
    "centroids = []\n",
    "\n",
    "class DataPoint:\n",
    "    def __init__(self, x, y, z, f):\n",
    "        self.x = x\n",
    "        self.y = y\n",
    "        self.z = z\n",
    "        self.f = f\n",
    "    \n",
    "    def set_x(self, x):\n",
    "        self.x = x\n",
    "    \n",
    "    def get_x(self):\n",
    "        return self.x\n",
    "    \n",
    "    def set_y(self, y):\n",
    "        self.y = y\n",
    "    \n",
    "    def get_y(self):\n",
    "        return self.y\n",
    "    \n",
    "    def set_z(self, z):\n",
    "        self.z = z\n",
    "    \n",
    "    def get_z(self):\n",
    "        return self.z\n",
    "    \n",
    "    def set_f(self, f):\n",
    "        self.f = f\n",
    "    \n",
    "    def get_f(self):\n",
    "        return self.f\n",
    "    \n",
    "    def set_cluster(self, clusterNumber):\n",
    "        self.clusterNumber = clusterNumber\n",
    "    \n",
    "    def get_cluster(self):\n",
    "        return self.clusterNumber\n",
    "\n",
    "class Centroid:\n",
    "    def __init__(self, x, y, z, f):\n",
    "        self.x = x\n",
    "        self.y = y\n",
    "        self.z = z\n",
    "        self.f = f\n",
    "    \n",
    "    def set_x(self, x):\n",
    "        self.x = x\n",
    "    \n",
    "    def get_x(self):\n",
    "        return self.x\n",
    "    \n",
    "    def set_y(self, y):\n",
    "        self.y = y\n",
    "    \n",
    "    def get_y(self):\n",
    "        return self.y\n",
    "    \n",
    "    def set_z(self, z):\n",
    "        self.z = z\n",
    "    \n",
    "    def get_z(self):\n",
    "        return self.z\n",
    "    \n",
    "    def set_f(self, f):\n",
    "        self.f = f\n",
    "    \n",
    "    def get_f(self):\n",
    "        return self.f\n",
    "\n"
   ]
  },
  {
   "cell_type": "code",
   "execution_count": 50,
   "metadata": {
    "collapsed": false
   },
   "outputs": [
    {
     "name": "stdout",
     "output_type": "stream",
     "text": [
      "Centroids initialized at:\n",
      "( 31 ,  51.613 ,  1 ,  3.226 )\n",
      "( 758 ,  59.235 ,  22 ,  2.902 )\n",
      "\n",
      "None\n"
     ]
    }
   ],
   "source": [
    "def initialize_centroids():\n",
    "    # Set the centoid coordinates to match the data points furthest from each other.\n",
    "    # In this example, [31, 51.613, 1, 3.2260000000000004] and [758, 59.234999999999999, 22, 2.9019999999999997]\n",
    "    centroids.append(Centroid(SAMPLES[LOWEST_SAMPLE_POINT][0], SAMPLES[LOWEST_SAMPLE_POINT][1],SAMPLES[LOWEST_SAMPLE_POINT][2],SAMPLES[LOWEST_SAMPLE_POINT][3]))\n",
    "    centroids.append(Centroid(SAMPLES[HIGHEST_SAMPLE_POINT][0], SAMPLES[HIGHEST_SAMPLE_POINT][1],SAMPLES[HIGHEST_SAMPLE_POINT][2],SAMPLES[HIGHEST_SAMPLE_POINT][3]))\n",
    "    \n",
    "    print(\"Centroids initialized at:\")\n",
    "    print(\"(\", centroids[0].get_x(), \", \", centroids[0].get_y(), \", \", centroids[0].get_z(),  \", \", centroids[0].get_f(),\")\")\n",
    "    print(\"(\", centroids[1].get_x(), \", \", centroids[1].get_y(), \", \", centroids[1].get_z(),  \", \", centroids[1].get_f(),\")\")\n",
    "    #print(\"(\", centroids[2].get_x(), \", \", centroids[2].get_y(), \", \", centroids[2].get_z(),  \", \", centroids[2].get_f(),\")\")\n",
    "    #print(\"(\", centroids[3].get_x(), \", \", centroids[3].get_y(), \", \", centroids[3].get_z(),  \", \", centroids[3].get_f(),\")\")\n",
    "    print()\n",
    "    return\n",
    "\n",
    "print(initialize_centroids())"
   ]
  },
  {
   "cell_type": "code",
   "execution_count": 57,
   "metadata": {
    "collapsed": false
   },
   "outputs": [],
   "source": [
    "def initialize_datapoints():\n",
    "    # DataPoint objects' x and y values are taken from the SAMPLE array.\n",
    "    # The DataPoints associated with LOWEST_SAMPLE_POINT and HIGHEST_SAMPLE_POINT are initially\n",
    "    # assigned to the clusters matching the LOWEST_SAMPLE_POINT and HIGHEST_SAMPLE_POINT centroids.\n",
    "    for i in range(TOTAL_DATA):\n",
    "        newPoint = DataPoint(SAMPLES[i][0], SAMPLES[i][1], SAMPLES[i][2], SAMPLES[i][3])\n",
    "        \n",
    "        if(i == LOWEST_SAMPLE_POINT):\n",
    "            newPoint.set_cluster(0)\n",
    "        elif(i == HIGHEST_SAMPLE_POINT):\n",
    "            newPoint.set_cluster(1)\n",
    "        else:\n",
    "            newPoint.set_cluster(None)\n",
    "            \n",
    "        data1.append(newPoint)\n",
    "    \n",
    "    return"
   ]
  },
  {
   "cell_type": "code",
   "execution_count": 61,
   "metadata": {
    "collapsed": false
   },
   "outputs": [],
   "source": [
    "def get_distance(dataPointX, dataPointY, dataPointZ, dataPointF, centroidX, centroidY, centroidZ, centroidF):\n",
    "    # Calculate Euclidean distance.\n",
    "    return math.sqrt(math.pow((centroidY - dataPointY), 2) + math.pow((centroidX - dataPointX), 2) /\n",
    "                     + math.pow((centroidZ - dataPointZ), 2) + math.pow((centroidF - dataPointF), 2))\n"
   ]
  },
  {
   "cell_type": "code",
   "execution_count": 69,
   "metadata": {
    "collapsed": true
   },
   "outputs": [],
   "source": [
    "def recalculate_centroids():\n",
    "    totalX = 0\n",
    "    totalY = 0\n",
    "    totalZ = 0\n",
    "    totalF = 0\n",
    "    totalInCluster = 0\n",
    "    \n",
    "    for j in range(NUM_CLUSTERS):\n",
    "        for k in range(len(data1)):\n",
    "            if(data1[k].get_cluster() == j):\n",
    "                totalX += data1[k].get_x()\n",
    "                totalY += data1[k].get_y()\n",
    "                totalZ += data1[k].get_z()\n",
    "                totalF += data1[k].get_f()\n",
    "                totalInCluster += 1\n",
    "        \n",
    "        if(totalInCluster > 0):\n",
    "            centroids[j].set_x(totalX / totalInCluster)\n",
    "            centroids[j].set_y(totalY / totalInCluster)\n",
    "            centroids[j].set_z(totalX / totalInCluster)\n",
    "            centroids[j].set_f(totalY / totalInCluster)\n",
    "    \n",
    "    return"
   ]
  },
  {
   "cell_type": "code",
   "execution_count": 70,
   "metadata": {
    "collapsed": true
   },
   "outputs": [],
   "source": [
    "def update_clusters():\n",
    "    isStillMoving = 0\n",
    "    \n",
    "    for i in range(TOTAL_DATA):\n",
    "        bestMinimum = BIG_NUMBER\n",
    "        currentCluster = 0\n",
    "        \n",
    "        for j in range(NUM_CLUSTERS):\n",
    "            distance = get_distance(data1[i].get_x(), data1[i].get_y(), data1[i].get_z(), data1[i].get_f(),\n",
    "                                    centroids[j].get_x(), centroids[j].get_y(), centroids[j].get_z(), centroids[j].get_f())\n",
    "            if(distance < bestMinimum):\n",
    "                bestMinimum = distance\n",
    "                currentCluster = j\n",
    "        \n",
    "        data[i].set_cluster(currentCluster)\n",
    "        \n",
    "        if(data1[i].get_cluster() is None or data1[i].get_cluster() != currentCluster):\n",
    "            data1[i].set_cluster(currentCluster)\n",
    "            isStillMoving = 1\n",
    "    \n",
    "    return isStillMoving"
   ]
  },
  {
   "cell_type": "code",
   "execution_count": 71,
   "metadata": {
    "collapsed": false
   },
   "outputs": [],
   "source": [
    "def perform_kmeans():\n",
    "    isStillMoving = 1\n",
    "    \n",
    "    initialize_centroids()\n",
    "    \n",
    "    initialize_datapoints()\n",
    "    \n",
    "    while(isStillMoving):\n",
    "        recalculate_centroids()\n",
    "        isStillMoving = update_clusters()\n",
    "    \n",
    "    return"
   ]
  },
  {
   "cell_type": "code",
   "execution_count": 72,
   "metadata": {
    "collapsed": false
   },
   "outputs": [],
   "source": [
    "def print_results():\n",
    "    for i in range(NUM_CLUSTERS):\n",
    "        print(\"Cluster \", i, \" includes:\")\n",
    "        for j in range(TOTAL_DATA):\n",
    "            if(data1[j].get_cluster() == i):\n",
    "                print(\"(\", data1[j].get_x(), \", \", data1[j].get_y(), \", \", data1[j].get_z(), \", \", data1[j].get_f(), \")\")\n",
    "        print()\n",
    "    \n",
    "    return\n",
    "\n",
    "#perform_kmeans()\n",
    "#print_results()"
   ]
  },
  {
   "cell_type": "code",
   "execution_count": 28,
   "metadata": {
    "collapsed": false
   },
   "outputs": [
    {
     "ename": "IndexError",
     "evalue": "list index out of range",
     "output_type": "error",
     "traceback": [
      "\u001b[0;31m---------------------------------------------------------------------------\u001b[0m",
      "\u001b[0;31mIndexError\u001b[0m                                Traceback (most recent call last)",
      "\u001b[0;32m<ipython-input-28-71a83485180e>\u001b[0m in \u001b[0;36m<module>\u001b[0;34m()\u001b[0m\n\u001b[1;32m      1\u001b[0m \u001b[0mSAMPLES2\u001b[0m \u001b[1;33m=\u001b[0m \u001b[1;33m[\u001b[0m\u001b[1;33m[\u001b[0m\u001b[1;36m5\u001b[0m\u001b[1;33m,\u001b[0m\u001b[1;36m4\u001b[0m\u001b[1;33m]\u001b[0m\u001b[1;33m,\u001b[0m\u001b[1;33m[\u001b[0m\u001b[1;36m3\u001b[0m\u001b[1;33m,\u001b[0m\u001b[1;36m2\u001b[0m\u001b[1;33m]\u001b[0m\u001b[1;33m]\u001b[0m\u001b[1;33m\u001b[0m\u001b[0m\n\u001b[1;32m      2\u001b[0m \u001b[0mLOWEST_SAMPLE_POINT2\u001b[0m\u001b[1;33m=\u001b[0m\u001b[1;36m2\u001b[0m\u001b[1;33m\u001b[0m\u001b[0m\n\u001b[0;32m----> 3\u001b[0;31m \u001b[0ma\u001b[0m \u001b[1;33m=\u001b[0m \u001b[0mSAMPLES2\u001b[0m\u001b[1;33m[\u001b[0m\u001b[0mLOWEST_SAMPLE_POINT2\u001b[0m\u001b[1;33m]\u001b[0m\u001b[1;33m[\u001b[0m\u001b[1;36m0\u001b[0m\u001b[1;33m]\u001b[0m\u001b[1;33m\u001b[0m\u001b[0m\n\u001b[0m\u001b[1;32m      4\u001b[0m \u001b[0ma\u001b[0m\u001b[1;33m\u001b[0m\u001b[0m\n",
      "\u001b[0;31mIndexError\u001b[0m: list index out of range"
     ]
    }
   ],
   "source": [
    "SAMPLES2 = [[5,4],[3,2]]\n",
    "LOWEST_SAMPLE_POINT2=2\n",
    "a = SAMPLES2[LOWEST_SAMPLE_POINT2][0]\n",
    "a"
   ]
  },
  {
   "cell_type": "code",
   "execution_count": null,
   "metadata": {
    "collapsed": true
   },
   "outputs": [],
   "source": []
  },
  {
   "cell_type": "code",
   "execution_count": 29,
   "metadata": {
    "collapsed": true
   },
   "outputs": [],
   "source": [
    "from scipy.cluster.hierarchy import *\n",
    "from scipy.spatial.distance import pdist"
   ]
  },
  {
   "cell_type": "code",
   "execution_count": 33,
   "metadata": {
    "collapsed": false,
    "scrolled": true
   },
   "outputs": [],
   "source": [
    "# Для оценки качества кластеров как смеси распределений\n",
    "from sklearn import mixture\n",
    "\n",
    "# Анализа главных компонент\n",
    "from sklearn.decomposition import PCA \n",
    "\n",
    "# Линейный дискриминантный анализ\n",
    "from sklearn.lda import LDA\n",
    "\n",
    "\n",
    "# Для загрузки данных из xls документа\n",
    "import pandas as pd\n",
    "\n",
    "# Для отрисовки графиков\n",
    "from pylab import *"
   ]
  },
  {
   "cell_type": "code",
   "execution_count": 36,
   "metadata": {
    "collapsed": false,
    "scrolled": true
   },
   "outputs": [
    {
     "data": {
      "text/html": [
       "<div>\n",
       "<table border=\"1\" class=\"dataframe\">\n",
       "  <thead>\n",
       "    <tr style=\"text-align: right;\">\n",
       "      <th></th>\n",
       "      <th>City_Age</th>\n",
       "      <th>Sessions</th>\n",
       "      <th>BounceRate</th>\n",
       "      <th>Goal1Completions</th>\n",
       "      <th>Goal1ConversionRate</th>\n",
       "    </tr>\n",
       "  </thead>\n",
       "  <tbody>\n",
       "    <tr>\n",
       "      <th>1</th>\n",
       "      <td>London 45-54</td>\n",
       "      <td>165</td>\n",
       "      <td>53.939</td>\n",
       "      <td>2</td>\n",
       "      <td>1.212</td>\n",
       "    </tr>\n",
       "    <tr>\n",
       "      <th>2</th>\n",
       "      <td>Croydon 45-54</td>\n",
       "      <td>82</td>\n",
       "      <td>48.780</td>\n",
       "      <td>1</td>\n",
       "      <td>1.220</td>\n",
       "    </tr>\n",
       "    <tr>\n",
       "      <th>3</th>\n",
       "      <td>London 35-44</td>\n",
       "      <td>426</td>\n",
       "      <td>53.756</td>\n",
       "      <td>12</td>\n",
       "      <td>2.817</td>\n",
       "    </tr>\n",
       "    <tr>\n",
       "      <th>4</th>\n",
       "      <td>London 25-34</td>\n",
       "      <td>758</td>\n",
       "      <td>59.235</td>\n",
       "      <td>22</td>\n",
       "      <td>2.902</td>\n",
       "    </tr>\n",
       "    <tr>\n",
       "      <th>5</th>\n",
       "      <td>Croydon 35-44</td>\n",
       "      <td>204</td>\n",
       "      <td>43.137</td>\n",
       "      <td>6</td>\n",
       "      <td>2.941</td>\n",
       "    </tr>\n",
       "    <tr>\n",
       "      <th>6</th>\n",
       "      <td>Croydon 55-64</td>\n",
       "      <td>31</td>\n",
       "      <td>51.613</td>\n",
       "      <td>1</td>\n",
       "      <td>3.226</td>\n",
       "    </tr>\n",
       "    <tr>\n",
       "      <th>7</th>\n",
       "      <td>Croydon 18-24</td>\n",
       "      <td>86</td>\n",
       "      <td>43.023</td>\n",
       "      <td>3</td>\n",
       "      <td>3.488</td>\n",
       "    </tr>\n",
       "    <tr>\n",
       "      <th>8</th>\n",
       "      <td>Croydon 25-34</td>\n",
       "      <td>299</td>\n",
       "      <td>47.157</td>\n",
       "      <td>15</td>\n",
       "      <td>5.017</td>\n",
       "    </tr>\n",
       "    <tr>\n",
       "      <th>9</th>\n",
       "      <td>London 18-24</td>\n",
       "      <td>155</td>\n",
       "      <td>51.613</td>\n",
       "      <td>8</td>\n",
       "      <td>5.161</td>\n",
       "    </tr>\n",
       "  </tbody>\n",
       "</table>\n",
       "</div>"
      ],
      "text/plain": [
       "        City_Age  Sessions  BounceRate  Goal1Completions  Goal1ConversionRate\n",
       "1   London 45-54       165      53.939                 2                1.212\n",
       "2  Croydon 45-54        82      48.780                 1                1.220\n",
       "3   London 35-44       426      53.756                12                2.817\n",
       "4   London 25-34       758      59.235                22                2.902\n",
       "5  Croydon 35-44       204      43.137                 6                2.941\n",
       "6  Croydon 55-64        31      51.613                 1                3.226\n",
       "7  Croydon 18-24        86      43.023                 3                3.488\n",
       "8  Croydon 25-34       299      47.157                15                5.017\n",
       "9   London 18-24       155      51.613                 8                5.161"
      ]
     },
     "execution_count": 36,
     "metadata": {},
     "output_type": "execute_result"
    }
   ],
   "source": [
    "data = pd.read_csv(\"data/TMRW_users.csv\")\n",
    "data = data[data.City_Age!=\"(not set)\"]\n",
    "data = data[data.Sessions>30]\n",
    "data = data[data.Goal1Completions>0]\n",
    "data"
   ]
  },
  {
   "cell_type": "code",
   "execution_count": 173,
   "metadata": {
    "collapsed": false,
    "scrolled": true
   },
   "outputs": [
    {
     "data": {
      "text/plain": [
       "array([[ 165.   ,   53.939,    2.   ,    1.212],\n",
       "       [  82.   ,   48.78 ,    1.   ,    1.22 ],\n",
       "       [ 426.   ,   53.756,   12.   ,    2.817],\n",
       "       [ 758.   ,   59.235,   22.   ,    2.902],\n",
       "       [ 204.   ,   43.137,    6.   ,    2.941],\n",
       "       [  31.   ,   51.613,    1.   ,    3.226],\n",
       "       [  86.   ,   43.023,    3.   ,    3.488],\n",
       "       [ 299.   ,   47.157,   15.   ,    5.017],\n",
       "       [ 155.   ,   51.613,    8.   ,    5.161]])"
      ]
     },
     "execution_count": 173,
     "metadata": {},
     "output_type": "execute_result"
    }
   ],
   "source": [
    "data_for_clust = data.ix[:,2:].as_matrix()\n",
    "data_for_clust"
   ]
  },
  {
   "cell_type": "code",
   "execution_count": 174,
   "metadata": {
    "collapsed": false
   },
   "outputs": [
    {
     "data": {
      "text/plain": [
       "array([  83.16619112,  261.19649598,  593.36321399,   40.70224373,\n",
       "        134.03904831,   79.78934285,  134.85352628,   12.5301587 ,\n",
       "        344.21550079,  676.40900064,  122.24485793,   51.11800001,\n",
       "          7.63458401,  217.49034769,   73.49528808,  332.19576558,\n",
       "        222.33483429,  395.15915747,  340.28906466,  127.22573168,\n",
       "        271.04812633,  554.4647393 ,  727.34324762,  672.46425358,\n",
       "        459.21710694,  603.2148854 ,  173.27990016,  118.0394519 ,\n",
       "         95.53256082,   49.81737625,   55.70329204,  268.40838962,\n",
       "        124.21249625,  213.38328847,   69.73225243,  144.23895685])"
      ]
     },
     "execution_count": 174,
     "metadata": {},
     "output_type": "execute_result"
    }
   ],
   "source": [
    "data_dist = pdist(data_for_clust, 'euclidean')\n",
    "data_dist"
   ]
  },
  {
   "cell_type": "code",
   "execution_count": 175,
   "metadata": {
    "collapsed": false
   },
   "outputs": [
    {
     "data": {
      "text/plain": [
       "array([[   1.        ,    6.        ,    7.63458401,    2.        ],\n",
       "       [   0.        ,    8.        ,   12.5301587 ,    2.        ],\n",
       "       [   4.        ,   10.        ,   45.25980999,    3.        ],\n",
       "       [   5.        ,    9.        ,   53.41064602,    3.        ],\n",
       "       [  11.        ,   12.        ,  108.66653656,    6.        ],\n",
       "       [   2.        ,    7.        ,  127.22573168,    2.        ],\n",
       "       [  13.        ,   14.        ,  242.3458541 ,    8.        ],\n",
       "       [   3.        ,   15.        ,  577.33402663,    9.        ]])"
      ]
     },
     "execution_count": 175,
     "metadata": {},
     "output_type": "execute_result"
    }
   ],
   "source": [
    "data_linkage = linkage(data_dist, method='average')\n",
    "data_linkage"
   ]
  },
  {
   "cell_type": "code",
   "execution_count": 176,
   "metadata": {
    "collapsed": false
   },
   "outputs": [
    {
     "name": "stdout",
     "output_type": "stream",
     "text": [
      "<function wgss at 0x0F726030>\n"
     ]
    }
   ],
   "source": [
    "def wgss(data, groups):\n",
    "\n",
    "    _data = np.array(data)\n",
    "    res = 0.0\n",
    "    for cluster in groups:\n",
    "        inclust = _data[np.array(groups) == cluster]\n",
    "        meanval = np.mean(inclust, axis=0)\n",
    "        res += np.sum((inclust - meanval) ** 2)\n",
    "    return res\n",
    "\n",
    "print(wgss)"
   ]
  },
  {
   "cell_type": "code",
   "execution_count": 177,
   "metadata": {
    "collapsed": false
   },
   "outputs": [
    {
     "data": {
      "text/plain": [
       "<matplotlib.text.Text at 0x115abe10>"
      ]
     },
     "execution_count": 177,
     "metadata": {},
     "output_type": "execute_result"
    }
   ],
   "source": [
    "elbow = [np.nan, wgss(data_for_clust, [1]*len(data_for_clust[:,1]))]\n",
    "for k in range(2, 10):\n",
    "    groups = fcluster(data_linkage, k, criterion='maxclust')\n",
    "    elbow.append(wgss(data_for_clust, groups))\n",
    "\n",
    "fig = figure()\n",
    "ax = fig.add_subplot('121')\n",
    "elbow = np.array(elbow)\n",
    "ax.plot(elbow/np.nanmax(elbow),'o', ls='solid')\n",
    "ax.set_xlim([0, 10])\n",
    "ax.set_ylim([0, 1.2])\n",
    "ax.set_title(u'Сумма внутригрупповых вариаций')\n",
    "ax.set_xlabel(u'Число кластеров')\n",
    "\n",
    "ax1 = fig.add_subplot('122') \n",
    "\n",
    "ax1.plot((elbow[1]-elbow)/np.nanmax(elbow),'o', ls='solid') \n",
    "ax1.set_xlim([0, 10])\n",
    "ax1.set_ylim([0, 1.2])\n",
    "ax1.set_xlabel(u'Число кластеров')\n",
    "ax1.set_title(u'Доля объясняемой вариации')"
   ]
  },
  {
   "cell_type": "code",
   "execution_count": 178,
   "metadata": {
    "collapsed": false
   },
   "outputs": [
    {
     "data": {
      "text/plain": [
       "<matplotlib.text.Text at 0x11699270>"
      ]
     },
     "execution_count": 178,
     "metadata": {},
     "output_type": "execute_result"
    }
   ],
   "source": [
    "pca = PCA(n_components=2)\n",
    "Xt = pca.fit_transform(data_for_clust)\n",
    "fig = figure()\n",
    "for k in range(2, 8):\n",
    "    groups = fcluster(data_linkage, k, criterion='maxclust')\n",
    "    ax = fig.add_subplot(3, 2, k-1)\n",
    "    for j, m, c in zip(range(k), 'so><^v', 'rgbmyc'):\n",
    "        ax.scatter(Xt[groups==(j+1), 0], Xt[groups==(j+1), 1], marker=m, s=30, label='%s'%j, facecolors=c)\n",
    "        ax.set_title('k=%s'%k)\n",
    "        ax.legend(fontsize=14, loc=\"lower right\")\n",
    "fig.suptitle(u'Проекрация кластеров на главные компоненты')"
   ]
  },
  {
   "cell_type": "code",
   "execution_count": 179,
   "metadata": {
    "collapsed": false
   },
   "outputs": [
    {
     "ename": "NameError",
     "evalue": "name 'labels' is not defined",
     "output_type": "error",
     "traceback": [
      "\u001b[0;31m---------------------------------------------------------------------------\u001b[0m",
      "\u001b[0;31mNameError\u001b[0m                                 Traceback (most recent call last)",
      "\u001b[0;32m<ipython-input-179-478f41cf9980>\u001b[0m in \u001b[0;36m<module>\u001b[0;34m()\u001b[0m\n\u001b[1;32m      1\u001b[0m \u001b[0mfigure\u001b[0m\u001b[1;33m(\u001b[0m\u001b[1;33m)\u001b[0m\u001b[1;33m\u001b[0m\u001b[0m\n\u001b[0;32m----> 2\u001b[0;31m \u001b[0mdendrogram\u001b[0m\u001b[1;33m(\u001b[0m\u001b[0mdata_linkage\u001b[0m\u001b[1;33m,\u001b[0m \u001b[0mlabels\u001b[0m\u001b[1;33m=\u001b[0m\u001b[0mlabels\u001b[0m\u001b[1;33m)\u001b[0m\u001b[1;33m\u001b[0m\u001b[0m\n\u001b[0m\u001b[1;32m      3\u001b[0m \u001b[0mtitle\u001b[0m\u001b[1;33m(\u001b[0m\u001b[1;34mu'Дендрограмма'\u001b[0m\u001b[1;33m)\u001b[0m\u001b[1;33m\u001b[0m\u001b[0m\n",
      "\u001b[0;31mNameError\u001b[0m: name 'labels' is not defined"
     ]
    }
   ],
   "source": [
    "figure()\n",
    "dendrogram(data_linkage, labels=labels)\n",
    "title(u'Дендрограмма')"
   ]
  },
  {
   "cell_type": "code",
   "execution_count": 180,
   "metadata": {
    "collapsed": false
   },
   "outputs": [
    {
     "name": "stderr",
     "output_type": "stream",
     "text": [
      "C:\\ProgramData\\Anaconda3\\lib\\site-packages\\sklearn\\discriminant_analysis.py:455: UserWarning: The priors do not sum to 1. Renormalizing\n",
      "  UserWarning)\n",
      "C:\\ProgramData\\Anaconda3\\lib\\site-packages\\sklearn\\discriminant_analysis.py:387: UserWarning: Variables are collinear.\n",
      "  warnings.warn(\"Variables are collinear.\")\n"
     ]
    },
    {
     "data": {
      "text/plain": [
       "<matplotlib.figure.Figure at 0xf819a50>"
      ]
     },
     "metadata": {},
     "output_type": "display_data"
    },
    {
     "data": {
      "image/png": "[encoded data removed]",
      "text/plain": [
       "<matplotlib.figure.Figure at 0xfeb4d30>"
      ]
     },
     "metadata": {},
     "output_type": "display_data"
    },
    {
     "data": {
      "image/png": "[encoded data removed]",
      "text/plain": [
       "<matplotlib.figure.Figure at 0xebe1430>"
      ]
     },
     "metadata": {},
     "output_type": "display_data"
    },
    {
     "data": {
      "text/plain": [
       "<matplotlib.figure.Figure at 0xfebb110>"
      ]
     },
     "metadata": {},
     "output_type": "display_data"
    },
    {
     "data": {
      "image/png": "[encoded data removed]",
      "text/plain": [
       "<matplotlib.figure.Figure at 0x118a61d0>"
      ]
     },
     "metadata": {},
     "output_type": "display_data"
    }
   ],
   "source": [
    "import seaborn as sns; sns.set(color_codes=True)\n",
    "rcParams['font.family'] = 'DejaVu Sans' \n",
    "rcParams['font.size'] = 16\n",
    "lda = LDA(n_components=2) \n",
    "fig = figure()\n",
    "for k in range(3, 9):\n",
    "    groups = fcluster(data_linkage, k, criterion='maxclust')\n",
    "    lda.fit(data_for_clust, groups)\n",
    "    Xt = lda.transform(data_for_clust) \n",
    "    ax = fig.add_subplot(3, 2, k-2)\n",
    "    for j, m, c in zip(range(k), 'so><^v', 'rgbmyc'):\n",
    "        ax.scatter(Xt[groups==(j+1), 0], Xt[groups==(j+1), 1], marker=m, s=30, label='%s'%j, facecolors=c, zorder=10)\n",
    "        sns.kdeplot(Xt[:, 0], Xt[:, 1], shade=True, cmap=\"Blues\")\n",
    "        ax.set_title('k=%s'%k)\n",
    "        ax.legend(fontsize=14, loc=\"lower right\")\n",
    "fig.suptitle(u'Проекрация кластеров на дискриминантные оси')\n",
    "\n",
    "show()"
   ]
  },
  {
   "cell_type": "code",
   "execution_count": null,
   "metadata": {
    "collapsed": true
   },
   "outputs": [],
   "source": []
  },
  {
   "cell_type": "code",
   "execution_count": null,
   "metadata": {
    "collapsed": true
   },
   "outputs": [],
   "source": []
  },
  {
   "cell_type": "code",
   "execution_count": null,
   "metadata": {
    "collapsed": true
   },
   "outputs": [],
   "source": []
  },
  {
   "cell_type": "code",
   "execution_count": null,
   "metadata": {
    "collapsed": true
   },
   "outputs": [],
   "source": []
  },
  {
   "cell_type": "code",
   "execution_count": null,
   "metadata": {
    "collapsed": true
   },
   "outputs": [],
   "source": []
  },
  {
   "cell_type": "code",
   "execution_count": null,
   "metadata": {
    "collapsed": true
   },
   "outputs": [],
   "source": []
  },
  {
   "cell_type": "code",
   "execution_count": null,
   "metadata": {
    "collapsed": true
   },
   "outputs": [],
   "source": []
  },
  {
   "cell_type": "code",
   "execution_count": 67,
   "metadata": {
    "collapsed": false
   },
   "outputs": [],
   "source": [
    "from pandas import Series, DataFrame\n",
    "import pandas as pd\n",
    "import numpy as np\n",
    "import matplotlib.pylab as plt\n",
    "from sklearn.cross_validation import train_test_split\n",
    "from sklearn import preprocessing\n",
    "from sklearn.cluster import KMeans"
   ]
  },
  {
   "cell_type": "code",
   "execution_count": 119,
   "metadata": {
    "collapsed": false
   },
   "outputs": [],
   "source": [
    "clustervar = cluster.copy()\n",
    "clustervar['Sessions']=preprocessing.scale(clustervar['Sessions'].astype('float64'))\n",
    "clustervar['BounceRate']=preprocessing.scale(clustervar['BounceRate'].astype('float64'))\n",
    "clustervar['Goal1Completions']=preprocessing.scale(clustervar['Goal1Completions'].astype('float64'))"
   ]
  },
  {
   "cell_type": "code",
   "execution_count": 120,
   "metadata": {
    "collapsed": true
   },
   "outputs": [],
   "source": [
    "(clus_train, clus_test) = train_test_split(clustervar,test_size=.3,random_state=123)"
   ]
  },
  {
   "cell_type": "code",
   "execution_count": 115,
   "metadata": {
    "collapsed": false
   },
   "outputs": [
    {
     "ename": "ValueError",
     "evalue": "n_samples=6 should be >= n_clusters=7",
     "output_type": "error",
     "traceback": [
      "\u001b[0;31m---------------------------------------------------------------------------\u001b[0m",
      "\u001b[0;31mValueError\u001b[0m                                Traceback (most recent call last)",
      "\u001b[0;32m<ipython-input-115-e3e0cfa2c121>\u001b[0m in \u001b[0;36m<module>\u001b[0;34m()\u001b[0m\n\u001b[1;32m      5\u001b[0m \u001b[1;32mfor\u001b[0m \u001b[0mk\u001b[0m \u001b[1;32min\u001b[0m \u001b[0mclusters\u001b[0m\u001b[1;33m:\u001b[0m\u001b[1;33m\u001b[0m\u001b[0m\n\u001b[1;32m      6\u001b[0m     \u001b[0mmodel\u001b[0m \u001b[1;33m=\u001b[0m \u001b[0mKMeans\u001b[0m\u001b[1;33m(\u001b[0m\u001b[0mn_clusters\u001b[0m \u001b[1;33m=\u001b[0m \u001b[0mk\u001b[0m\u001b[1;33m)\u001b[0m\u001b[1;33m\u001b[0m\u001b[0m\n\u001b[0;32m----> 7\u001b[0;31m     \u001b[0mmodel\u001b[0m\u001b[1;33m.\u001b[0m\u001b[0mfit\u001b[0m\u001b[1;33m(\u001b[0m\u001b[0mclus_train\u001b[0m\u001b[1;33m)\u001b[0m\u001b[1;33m\u001b[0m\u001b[0m\n\u001b[0m\u001b[1;32m      8\u001b[0m     \u001b[0mclusassign\u001b[0m \u001b[1;33m=\u001b[0m \u001b[0mmodel\u001b[0m\u001b[1;33m.\u001b[0m\u001b[0mpredict\u001b[0m\u001b[1;33m(\u001b[0m\u001b[0mclus_train\u001b[0m\u001b[1;33m)\u001b[0m\u001b[1;33m\u001b[0m\u001b[0m\n\u001b[1;32m      9\u001b[0m     \u001b[0mmeandist\u001b[0m\u001b[1;33m.\u001b[0m\u001b[0mappend\u001b[0m\u001b[1;33m(\u001b[0m\u001b[0msum\u001b[0m\u001b[1;33m(\u001b[0m\u001b[0mnp\u001b[0m\u001b[1;33m.\u001b[0m\u001b[0mmin\u001b[0m\u001b[1;33m(\u001b[0m\u001b[0mcdist\u001b[0m\u001b[1;33m(\u001b[0m\u001b[0mclus_train\u001b[0m\u001b[1;33m,\u001b[0m\u001b[0mmodel\u001b[0m\u001b[1;33m.\u001b[0m\u001b[0mcluster_centers_\u001b[0m\u001b[1;33m,\u001b[0m\u001b[1;34m'euclidean'\u001b[0m\u001b[1;33m)\u001b[0m\u001b[1;33m,\u001b[0m\u001b[0maxis\u001b[0m\u001b[1;33m=\u001b[0m\u001b[1;36m1\u001b[0m\u001b[1;33m)\u001b[0m\u001b[1;33m)\u001b[0m\u001b[1;33m/\u001b[0m\u001b[0mclus_train\u001b[0m\u001b[1;33m.\u001b[0m\u001b[0mshape\u001b[0m\u001b[1;33m[\u001b[0m\u001b[1;36m0\u001b[0m\u001b[1;33m]\u001b[0m\u001b[1;33m)\u001b[0m\u001b[1;33m\u001b[0m\u001b[0m\n",
      "\u001b[0;32mC:\\ProgramData\\Anaconda3\\lib\\site-packages\\sklearn\\cluster\\k_means_.py\u001b[0m in \u001b[0;36mfit\u001b[0;34m(self, X, y)\u001b[0m\n\u001b[1;32m    878\u001b[0m         \"\"\"\n\u001b[1;32m    879\u001b[0m         \u001b[0mrandom_state\u001b[0m \u001b[1;33m=\u001b[0m \u001b[0mcheck_random_state\u001b[0m\u001b[1;33m(\u001b[0m\u001b[0mself\u001b[0m\u001b[1;33m.\u001b[0m\u001b[0mrandom_state\u001b[0m\u001b[1;33m)\u001b[0m\u001b[1;33m\u001b[0m\u001b[0m\n\u001b[0;32m--> 880\u001b[0;31m         \u001b[0mX\u001b[0m \u001b[1;33m=\u001b[0m \u001b[0mself\u001b[0m\u001b[1;33m.\u001b[0m\u001b[0m_check_fit_data\u001b[0m\u001b[1;33m(\u001b[0m\u001b[0mX\u001b[0m\u001b[1;33m)\u001b[0m\u001b[1;33m\u001b[0m\u001b[0m\n\u001b[0m\u001b[1;32m    881\u001b[0m \u001b[1;33m\u001b[0m\u001b[0m\n\u001b[1;32m    882\u001b[0m         \u001b[0mself\u001b[0m\u001b[1;33m.\u001b[0m\u001b[0mcluster_centers_\u001b[0m\u001b[1;33m,\u001b[0m \u001b[0mself\u001b[0m\u001b[1;33m.\u001b[0m\u001b[0mlabels_\u001b[0m\u001b[1;33m,\u001b[0m \u001b[0mself\u001b[0m\u001b[1;33m.\u001b[0m\u001b[0minertia_\u001b[0m\u001b[1;33m,\u001b[0m \u001b[0mself\u001b[0m\u001b[1;33m.\u001b[0m\u001b[0mn_iter_\u001b[0m \u001b[1;33m=\u001b[0m\u001b[0;31m \u001b[0m\u001b[0;31m\\\u001b[0m\u001b[1;33m\u001b[0m\u001b[0m\n",
      "\u001b[0;32mC:\\ProgramData\\Anaconda3\\lib\\site-packages\\sklearn\\cluster\\k_means_.py\u001b[0m in \u001b[0;36m_check_fit_data\u001b[0;34m(self, X)\u001b[0m\n\u001b[1;32m    855\u001b[0m         \u001b[1;32mif\u001b[0m \u001b[0mX\u001b[0m\u001b[1;33m.\u001b[0m\u001b[0mshape\u001b[0m\u001b[1;33m[\u001b[0m\u001b[1;36m0\u001b[0m\u001b[1;33m]\u001b[0m \u001b[1;33m<\u001b[0m \u001b[0mself\u001b[0m\u001b[1;33m.\u001b[0m\u001b[0mn_clusters\u001b[0m\u001b[1;33m:\u001b[0m\u001b[1;33m\u001b[0m\u001b[0m\n\u001b[1;32m    856\u001b[0m             raise ValueError(\"n_samples=%d should be >= n_clusters=%d\" % (\n\u001b[0;32m--> 857\u001b[0;31m                 X.shape[0], self.n_clusters))\n\u001b[0m\u001b[1;32m    858\u001b[0m         \u001b[1;32mreturn\u001b[0m \u001b[0mX\u001b[0m\u001b[1;33m\u001b[0m\u001b[0m\n\u001b[1;32m    859\u001b[0m \u001b[1;33m\u001b[0m\u001b[0m\n",
      "\u001b[0;31mValueError\u001b[0m: n_samples=6 should be >= n_clusters=7"
     ]
    }
   ],
   "source": [
    "from scipy.spatial.distance import cdist\n",
    "clusters = range(1,10)\n",
    "meandist = []\n",
    "\n",
    "for k in clusters:\n",
    "    model = KMeans(n_clusters = k)\n",
    "    model.fit(clus_train)\n",
    "    clusassign = model.predict(clus_train)\n",
    "    meandist.append(sum(np.min(cdist(clus_train,model.cluster_centers_,'euclidean'),axis=1))/clus_train.shape[0])"
   ]
  },
  {
   "cell_type": "code",
   "execution_count": null,
   "metadata": {
    "collapsed": true
   },
   "outputs": [],
   "source": []
  }
 ],
 "metadata": {
  "kernelspec": {
   "display_name": "Python 3",
   "language": "python",
   "name": "python3"
  },
  "language_info": {
   "codemirror_mode": {
    "name": "ipython",
    "version": 3
   },
   "file_extension": ".py",
   "mimetype": "text/x-python",
   "name": "python",
   "nbconvert_exporter": "python",
   "pygments_lexer": "ipython3",
   "version": "3.6.0"
  }
 },
 "nbformat": 4,
 "nbformat_minor": 2
}
