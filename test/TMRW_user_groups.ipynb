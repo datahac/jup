{
 "cells": [
  {
   "cell_type": "code",
<<<<<<< HEAD
   "execution_count": 43,
=======
   "execution_count": 121,
>>>>>>> 6c3ee854c65d7da024d2da082688b7c8bd465c3b
   "metadata": {
    "collapsed": true
   },
   "outputs": [],
   "source": [
    "#data_city\n",
    "\n",
    "#Account: TMRW Tech Hub\n",
    "#Property: TMRW\n",
    "#View: All Web Site Data\n",
    "#ids: ga:123303369\n",
    "#start-date: 2017-02-01\n",
    "#end-date: 2017-04-30\n",
    "\n",
    "#metrics\n",
    "#ga:sessions\n",
    "#ga:bounceRate\n",
    "#ga:goal1ConversionRate\n",
    "#ga:goal1Completions\n",
    "\n",
    "#dimensions\n",
    "#ga:city\n",
    "\n",
    "#filter\n",
    "#ga:sessions>30;ga:city!=(not set)"
   ]
  },
  {
   "cell_type": "code",
<<<<<<< HEAD
   "execution_count": 44,
=======
   "execution_count": 122,
>>>>>>> 6c3ee854c65d7da024d2da082688b7c8bd465c3b
   "metadata": {
    "collapsed": false,
    "scrolled": true
   },
   "outputs": [
    {
     "name": "stdout",
     "output_type": "stream",
     "text": [
      "[{'dimensions': ['Croydon', '18-24'],\n",
      "  'metrics': [{'values': ['101',\n",
      "                          '41.584158415841586',\n",
      "                          '4',\n",
      "                          '3.9603960396039604']}]},\n",
      " {'dimensions': ['Croydon', '25-34'],\n",
      "  'metrics': [{'values': ['334',\n",
      "                          '47.90419161676647',\n",
      "                          '17',\n",
      "                          '5.089820359281437']}]},\n",
      " {'dimensions': ['Croydon', '35-44'],\n",
      "  'metrics': [{'values': ['223',\n",
      "                          '43.04932735426009',\n",
      "                          '7',\n",
      "                          '3.1390134529147984']}]},\n",
      " {'dimensions': ['Croydon', '45-54'],\n",
      "  'metrics': [{'values': ['90',\n",
      "                          '45.55555555555556',\n",
      "                          '2',\n",
      "                          '2.2222222222222223']}]},\n",
      " {'dimensions': ['Croydon', '55-64'],\n",
      "  'metrics': [{'values': ['32', '53.125', '1', '3.125']}]},\n",
      " {'dimensions': ['London', '18-24'],\n",
      "  'metrics': [{'values': ['167',\n",
      "                          '49.700598802395206',\n",
      "                          '8',\n",
      "                          '4.790419161676647']}]},\n",
      " {'dimensions': ['London', '25-34'],\n",
      "  'metrics': [{'values': ['842',\n",
      "                          '59.14489311163895',\n",
      "                          '24',\n",
      "                          '2.8503562945368173']}]},\n",
      " {'dimensions': ['London', '35-44'],\n",
      "  'metrics': [{'values': ['482',\n",
      "                          '54.77178423236515',\n",
      "                          '14',\n",
      "                          '2.904564315352697']}]},\n",
      " {'dimensions': ['London', '45-54'],\n",
      "  'metrics': [{'values': ['205',\n",
      "                          '55.60975609756098',\n",
      "                          '3',\n",
      "                          '1.4634146341463417']}]},\n",
      " {'dimensions': ['London', '55-64'],\n",
      "  'metrics': [{'values': ['37', '48.64864864864865', '0', '0.0']}]}]\n"
     ]
    }
   ],
   "source": [
    "import json\n",
    "from pprint import pprint\n",
    "\n",
    "with open('data/TMRW_user_groups.json') as file: \n",
    "    data_city = json.load(file)\n",
    "\n",
    "data_city = data_city['reports'][0]['data']['rows']\n",
    "data_city\n",
    "pprint(data_city)"
   ]
  },
  {
   "cell_type": "code",
<<<<<<< HEAD
   "execution_count": 45,
=======
   "execution_count": 173,
>>>>>>> 6c3ee854c65d7da024d2da082688b7c8bd465c3b
   "metadata": {
    "collapsed": false,
    "scrolled": true
   },
   "outputs": [
    {
     "name": "stdout",
     "output_type": "stream",
     "text": [
      "{('Croydon', '18-24'): ('101', '41.584158415841586', '4', '3.9603960396039604'),\n",
      " ('Croydon', '25-34'): ('334', '47.90419161676647', '17', '5.089820359281437'),\n",
      " ('Croydon', '35-44'): ('223', '43.04932735426009', '7', '3.1390134529147984'),\n",
      " ('Croydon', '45-54'): ('90', '45.55555555555556', '2', '2.2222222222222223'),\n",
      " ('Croydon', '55-64'): ('32', '53.125', '1', '3.125'),\n",
      " ('London', '18-24'): ('167', '49.700598802395206', '8', '4.790419161676647'),\n",
      " ('London', '25-34'): ('842', '59.14489311163895', '24', '2.8503562945368173'),\n",
      " ('London', '35-44'): ('482', '54.77178423236515', '14', '2.904564315352697'),\n",
      " ('London', '45-54'): ('205', '55.60975609756098', '3', '1.4634146341463417'),\n",
      " ('London', '55-64'): ('37', '48.64864864864865', '0', '0.0')}\n"
     ]
    }
   ],
   "source": [
    "def create_dict(x):\n",
    "    city_dict = {}\n",
    "    for s in x:\n",
    "        \n",
    "        city_dict[s['dimensions'][0],s['dimensions'][1]] = (s['metrics'][0]['values'][0],s['metrics'][0]['values'][1],s['metrics'][0]['values'][2],s['metrics'][0]['values'][3])\n",
    "        \n",
    "    \n",
    "    return city_dict\n",
    "        \n",
    "\n",
    "city_dict = create_dict(data_city)\n",
    "pprint(city_dict)\n"
   ]
  },
  {
   "cell_type": "code",
   "execution_count": 220,
   "metadata": {
    "collapsed": false,
    "scrolled": true
   },
   "outputs": [
    {
     "data": {
      "text/plain": [
       "[['101', '41.584158415841586', '4', '3.9603960396039604'],\n",
       " ['334', '47.90419161676647', '17', '5.089820359281437'],\n",
       " ['223', '43.04932735426009', '7', '3.1390134529147984'],\n",
       " ['90', '45.55555555555556', '2', '2.2222222222222223'],\n",
       " ['32', '53.125', '1', '3.125'],\n",
       " ['167', '49.700598802395206', '8', '4.790419161676647'],\n",
       " ['842', '59.14489311163895', '24', '2.8503562945368173'],\n",
       " ['482', '54.77178423236515', '14', '2.904564315352697'],\n",
       " ['205', '55.60975609756098', '3', '1.4634146341463417'],\n",
       " ['37', '48.64864864864865', '0', '0.0']]"
      ]
     },
     "execution_count": 220,
     "metadata": {},
     "output_type": "execute_result"
    }
   ],
   "source": [
    "import numpy as np\n",
    "def create_dict(x):\n",
    "    points_dict = []\n",
    "    for s in x:\n",
    "        #print(s)\n",
    "        for z in s['metrics']:\n",
    "            #list_float = np.array(z['values']) + 0\n",
    "            #print(list_float)\n",
    "            #print((z['values']))\n",
    "            points_dict.append(z['values'])\n",
    "            #for v in z['values']:\n",
    "                #rint (v)\n",
    "\n",
    "    return points_dict\n",
    "        \n",
    "points_dict = create_dict(data_city)\n",
    "points_dict\n",
    "  "
   ]
  },
  {
   "cell_type": "code",
   "execution_count": 219,
   "metadata": {
    "collapsed": false
   },
   "outputs": [
    {
     "name": "stdout",
     "output_type": "stream",
     "text": [
      "101\n",
      "41.584158415841586\n",
      "4\n",
      "3.9603960396039604\n"
     ]
    },
    {
     "ename": "IndexError",
     "evalue": "list index out of range",
     "output_type": "error",
     "traceback": [
      "\u001b[0;31m---------------------------------------------------------------------------\u001b[0m",
      "\u001b[0;31mIndexError\u001b[0m                                Traceback (most recent call last)",
      "\u001b[0;32m<ipython-input-219-840139d10be5>\u001b[0m in \u001b[0;36m<module>\u001b[0;34m()\u001b[0m\n\u001b[1;32m      3\u001b[0m \u001b[1;32mfor\u001b[0m \u001b[0mn\u001b[0m \u001b[1;32min\u001b[0m \u001b[0mpoints_dict\u001b[0m\u001b[1;33m:\u001b[0m\u001b[1;33m\u001b[0m\u001b[0m\n\u001b[1;32m      4\u001b[0m     \u001b[1;32mfor\u001b[0m \u001b[0mi\u001b[0m \u001b[1;32min\u001b[0m \u001b[0mrange\u001b[0m\u001b[1;33m(\u001b[0m\u001b[0mlen\u001b[0m\u001b[1;33m(\u001b[0m\u001b[0mpoints_dict\u001b[0m\u001b[1;33m)\u001b[0m\u001b[1;33m-\u001b[0m\u001b[1;36m1\u001b[0m\u001b[1;33m)\u001b[0m\u001b[1;33m:\u001b[0m\u001b[1;33m\u001b[0m\u001b[0m\n\u001b[0;32m----> 5\u001b[0;31m         \u001b[0mprint\u001b[0m\u001b[1;33m(\u001b[0m\u001b[0mn\u001b[0m\u001b[1;33m[\u001b[0m\u001b[0mi\u001b[0m\u001b[1;33m]\u001b[0m\u001b[1;33m)\u001b[0m\u001b[1;33m\u001b[0m\u001b[0m\n\u001b[0m\u001b[1;32m      6\u001b[0m \u001b[1;33m\u001b[0m\u001b[0m\n\u001b[1;32m      7\u001b[0m         \u001b[1;31m#new.append(float(n[0]))\u001b[0m\u001b[1;33m\u001b[0m\u001b[1;33m\u001b[0m\u001b[0m\n",
      "\u001b[0;31mIndexError\u001b[0m: list index out of range"
     ]
    }
   ],
   "source": [
    "new = []\n",
    "\n",
    "for n in points_dict:\n",
    "    for i in range(len(points_dict)-1):\n",
    "        print(n[i])\n",
    "\n",
    "        #new.append(float(n[0]))\n",
    "    #new.append(n[1])\n",
    "    \n",
    "    #new.append = \n",
    "    #for z in n:\n",
    "        \n",
    "        #print (z)\n",
    "        #new.append(float(z))\n",
    "        \n",
    "new\n",
    "    "
   ]
  },
  {
   "cell_type": "code",
<<<<<<< HEAD
   "execution_count": 46,
=======
   "execution_count": 143,
>>>>>>> 6c3ee854c65d7da024d2da082688b7c8bd465c3b
   "metadata": {
    "collapsed": false
   },
   "outputs": [
    {
<<<<<<< HEAD
     "data": {
      "text/html": [
       "<div>\n",
       "<table border=\"1\" class=\"dataframe\">\n",
       "  <thead>\n",
       "    <tr style=\"text-align: right;\">\n",
       "      <th></th>\n",
       "      <th>City_Age</th>\n",
       "      <th>Sessions</th>\n",
       "      <th>BounceRate</th>\n",
       "      <th>Goal1Completions</th>\n",
       "      <th>Goal1ConversionRate</th>\n",
       "    </tr>\n",
       "  </thead>\n",
       "  <tbody>\n",
       "    <tr>\n",
       "      <th>1</th>\n",
       "      <td>London 45-54</td>\n",
       "      <td>165</td>\n",
       "      <td>53.939</td>\n",
       "      <td>2</td>\n",
       "      <td>1.212</td>\n",
       "    </tr>\n",
       "    <tr>\n",
       "      <th>2</th>\n",
       "      <td>Croydon 45-54</td>\n",
       "      <td>82</td>\n",
       "      <td>48.780</td>\n",
       "      <td>1</td>\n",
       "      <td>1.220</td>\n",
       "    </tr>\n",
       "    <tr>\n",
       "      <th>3</th>\n",
       "      <td>London 35-44</td>\n",
       "      <td>426</td>\n",
       "      <td>53.756</td>\n",
       "      <td>12</td>\n",
       "      <td>2.817</td>\n",
       "    </tr>\n",
       "    <tr>\n",
       "      <th>4</th>\n",
       "      <td>London 25-34</td>\n",
       "      <td>758</td>\n",
       "      <td>59.235</td>\n",
       "      <td>22</td>\n",
       "      <td>2.902</td>\n",
       "    </tr>\n",
       "    <tr>\n",
       "      <th>5</th>\n",
       "      <td>Croydon 35-44</td>\n",
       "      <td>204</td>\n",
       "      <td>43.137</td>\n",
       "      <td>6</td>\n",
       "      <td>2.941</td>\n",
       "    </tr>\n",
       "    <tr>\n",
       "      <th>6</th>\n",
       "      <td>Croydon 55-64</td>\n",
       "      <td>31</td>\n",
       "      <td>51.613</td>\n",
       "      <td>1</td>\n",
       "      <td>3.226</td>\n",
       "    </tr>\n",
       "    <tr>\n",
       "      <th>7</th>\n",
       "      <td>Croydon 18-24</td>\n",
       "      <td>86</td>\n",
       "      <td>43.023</td>\n",
       "      <td>3</td>\n",
       "      <td>3.488</td>\n",
       "    </tr>\n",
       "    <tr>\n",
       "      <th>8</th>\n",
       "      <td>Croydon 25-34</td>\n",
       "      <td>299</td>\n",
       "      <td>47.157</td>\n",
       "      <td>15</td>\n",
       "      <td>5.017</td>\n",
       "    </tr>\n",
       "    <tr>\n",
       "      <th>9</th>\n",
       "      <td>London 18-24</td>\n",
       "      <td>155</td>\n",
       "      <td>51.613</td>\n",
       "      <td>8</td>\n",
       "      <td>5.161</td>\n",
       "    </tr>\n",
       "  </tbody>\n",
       "</table>\n",
       "</div>"
      ],
      "text/plain": [
       "        City_Age  Sessions  BounceRate  Goal1Completions  Goal1ConversionRate\n",
       "1   London 45-54       165      53.939                 2                1.212\n",
       "2  Croydon 45-54        82      48.780                 1                1.220\n",
       "3   London 35-44       426      53.756                12                2.817\n",
       "4   London 25-34       758      59.235                22                2.902\n",
       "5  Croydon 35-44       204      43.137                 6                2.941\n",
       "6  Croydon 55-64        31      51.613                 1                3.226\n",
       "7  Croydon 18-24        86      43.023                 3                3.488\n",
       "8  Croydon 25-34       299      47.157                15                5.017\n",
       "9   London 18-24       155      51.613                 8                5.161"
      ]
     },
     "execution_count": 46,
     "metadata": {},
     "output_type": "execute_result"
    }
   ],
   "source": [
    "import pandas as pd\n",
    "\n",
    "data = pd.read_csv(\"data/TMRW_users.csv\")\n",
    "data = data[data.City_Age!=\"(not set)\"]\n",
    "data = data[data.Sessions>30]\n",
    "data = data[data.Goal1Completions>0]\n",
    "data"
=======
     "name": "stdout",
     "output_type": "stream",
     "text": [
      "334.0\n",
      "223.0\n",
      "43.04932735426009\n",
      "90.0\n",
      "45.55555555555556\n",
      "2.0\n",
      "32.0\n",
      "53.125\n",
      "1.0\n",
      "3.125\n",
      "167.0\n",
      "49.700598802395206\n",
      "8.0\n",
      "4.790419161676647\n"
     ]
    },
    {
     "ename": "IndexError",
     "evalue": "list index out of range",
     "output_type": "error",
     "traceback": [
      "\u001b[0;31m---------------------------------------------------------------------------\u001b[0m",
      "\u001b[0;31mIndexError\u001b[0m                                Traceback (most recent call last)",
      "\u001b[0;32m<ipython-input-143-c815e8e179fe>\u001b[0m in \u001b[0;36m<module>\u001b[0;34m()\u001b[0m\n\u001b[1;32m      3\u001b[0m     \u001b[1;31m#print(i)\u001b[0m\u001b[1;33m\u001b[0m\u001b[1;33m\u001b[0m\u001b[0m\n\u001b[1;32m      4\u001b[0m     \u001b[1;32mfor\u001b[0m \u001b[0mk\u001b[0m \u001b[1;32min\u001b[0m \u001b[0mrange\u001b[0m\u001b[1;33m(\u001b[0m\u001b[1;36m0\u001b[0m\u001b[1;33m,\u001b[0m\u001b[0mi\u001b[0m\u001b[1;33m)\u001b[0m\u001b[1;33m:\u001b[0m\u001b[1;33m\u001b[0m\u001b[0m\n\u001b[0;32m----> 5\u001b[0;31m         \u001b[0ma\u001b[0m \u001b[1;33m=\u001b[0m \u001b[0mfloat\u001b[0m\u001b[1;33m(\u001b[0m\u001b[0msamples1\u001b[0m\u001b[1;33m[\u001b[0m\u001b[0mi\u001b[0m\u001b[1;33m]\u001b[0m\u001b[1;33m[\u001b[0m\u001b[0mk\u001b[0m\u001b[1;33m]\u001b[0m\u001b[1;33m)\u001b[0m\u001b[1;33m\u001b[0m\u001b[0m\n\u001b[0m\u001b[1;32m      6\u001b[0m         \u001b[0mprint\u001b[0m\u001b[1;33m(\u001b[0m\u001b[0ma\u001b[0m\u001b[1;33m)\u001b[0m\u001b[1;33m\u001b[0m\u001b[0m\n",
      "\u001b[0;31mIndexError\u001b[0m: list index out of range"
     ]
    }
   ],
   "source": [
    "samples1 =points_dict\n",
    "for i in range(0,len(samples1)-1):\n",
    "    #print(i)\n",
    "    for k in range(0,i):\n",
    "        a = float(samples1[i][k])\n",
    "        print(a)"
   ]
  },
  {
   "cell_type": "code",
   "execution_count": null,
   "metadata": {
    "collapsed": true
   },
   "outputs": [],
   "source": []
  },
  {
   "cell_type": "code",
   "execution_count": 126,
   "metadata": {
    "collapsed": true
   },
   "outputs": [],
   "source": [
    "#for z in s['metrics']:\n",
    "            #print(z)\n",
    "            #points_dict.append(z['values'])\n",
    "\n",
    "    #return points_dict\n",
    "        \n",
    "#points_dict = (create_dict(data_city))\n",
    "#points_dict"
>>>>>>> 6c3ee854c65d7da024d2da082688b7c8bd465c3b
   ]
  },
  {
   "cell_type": "code",
<<<<<<< HEAD
   "execution_count": 47,
=======
   "execution_count": 133,
>>>>>>> 6c3ee854c65d7da024d2da082688b7c8bd465c3b
   "metadata": {
    "collapsed": false
   },
   "outputs": [
    {
<<<<<<< HEAD
     "data": {
      "text/plain": [
       "[[165, 53.938999999999993, 2, 1.212],\n",
       " [82, 48.780000000000001, 1, 1.22],\n",
       " [426, 53.756, 12, 2.8169999999999997],\n",
       " [758, 59.234999999999999, 22, 2.9019999999999997],\n",
       " [204, 43.137, 6, 2.9410000000000003],\n",
       " [31, 51.613, 1, 3.2260000000000004],\n",
       " [86, 43.023000000000003, 3, 3.488]]"
      ]
     },
     "execution_count": 47,
     "metadata": {},
     "output_type": "execute_result"
=======
     "name": "stdout",
     "output_type": "stream",
     "text": [
      "[101.0]\n",
      "[41.584158415841586]\n",
      "[4.0]\n",
      "[3.9603960396039604]\n",
      "[334.0]\n",
      "[47.90419161676647]\n",
      "[17.0]\n",
      "[5.089820359281437]\n",
      "[223.0]\n",
      "[43.04932735426009]\n",
      "[7.0]\n",
      "[3.1390134529147984]\n",
      "[90.0]\n",
      "[45.55555555555556]\n",
      "[2.0]\n",
      "[2.2222222222222223]\n",
      "[32.0]\n",
      "[53.125]\n",
      "[1.0]\n",
      "[3.125]\n",
      "[167.0]\n",
      "[49.700598802395206]\n",
      "[8.0]\n",
      "[4.790419161676647]\n",
      "[842.0]\n",
      "[59.14489311163895]\n",
      "[24.0]\n",
      "[2.8503562945368173]\n",
      "[482.0]\n",
      "[54.77178423236515]\n",
      "[14.0]\n",
      "[2.904564315352697]\n",
      "[205.0]\n",
      "[55.60975609756098]\n",
      "[3.0]\n",
      "[1.4634146341463417]\n",
      "[37.0]\n",
      "[48.64864864864865]\n",
      "[0.0]\n",
      "[0.0]\n"
     ]
>>>>>>> 6c3ee854c65d7da024d2da082688b7c8bd465c3b
    }
   ],
   "source": [
    "for i in samples1:\n",
    "    #print(i)\n",
    "    for k in range(0,4):\n",
    "        a = [float(i[k])]\n",
    "        print(a)\n"
   ]
  },
  {
   "cell_type": "code",
<<<<<<< HEAD
   "execution_count": 48,
=======
   "execution_count": 66,
>>>>>>> 6c3ee854c65d7da024d2da082688b7c8bd465c3b
   "metadata": {
    "collapsed": false
   },
   "outputs": [
    {
     "data": {
      "text/plain": [
       "'.'"
      ]
     },
<<<<<<< HEAD
     "execution_count": 48,
=======
     "execution_count": 66,
>>>>>>> 6c3ee854c65d7da024d2da082688b7c8bd465c3b
     "metadata": {},
     "output_type": "execute_result"
    }
   ],
   "source": [
<<<<<<< HEAD
    "import math\n",
    "\n",
    "a = math.pow(2,3)\n",
    "a"
=======
    "for x in samples1:\n",
    "    minn = min(x[0]+x[1]+x[2]+x[3])\n",
    "    #a=min(x)\n",
    "    #print(a)\n",
    "\n",
    "#min(x[0]+x[1]+x[2]+x[3] for x in gen)\n",
    "minn"
>>>>>>> 6c3ee854c65d7da024d2da082688b7c8bd465c3b
   ]
  },
  {
   "cell_type": "code",
<<<<<<< HEAD
   "execution_count": 49,
=======
   "execution_count": 99,
>>>>>>> 6c3ee854c65d7da024d2da082688b7c8bd465c3b
   "metadata": {
    "collapsed": false
   },
   "outputs": [],
   "source": [
    "import random\n",
    "import math\n",
    "\n",
    "NUM_CLUSTERS = 2\n",
    "TOTAL_DATA = 7\n",
    "LOWEST_SAMPLE_POINT = 5 #element 0 of SAMPLES.\n",
    "HIGHEST_SAMPLE_POINT = 3 #element 3 of SAMPLES.\n",
    "BIG_NUMBER = math.pow(10, 10)\n",
    "\n",
    "\n",
    "SAMPLES = samples1\n",
    "data1 = []\n",
    "centroids = []\n",
    "\n",
    "class DataPoint:\n",
    "    def __init__(self, x, y, z, f):\n",
    "        self.x = x\n",
    "        self.y = y\n",
    "        self.z = z\n",
    "        self.f = f\n",
    "    \n",
    "    def set_x(self, x):\n",
    "        self.x = x\n",
    "    \n",
    "    def get_x(self):\n",
    "        return self.x\n",
    "    \n",
    "    def set_y(self, y):\n",
    "        self.y = y\n",
    "    \n",
    "    def get_y(self):\n",
    "        return self.y\n",
    "    \n",
    "    def set_z(self, z):\n",
    "        self.z = z\n",
    "    \n",
    "    def get_z(self):\n",
    "        return self.z\n",
    "    \n",
    "    def set_f(self, f):\n",
    "        self.f = f\n",
    "    \n",
    "    def get_f(self):\n",
    "        return self.f\n",
    "    \n",
    "    def set_cluster(self, clusterNumber):\n",
    "        self.clusterNumber = clusterNumber\n",
    "    \n",
    "    def get_cluster(self):\n",
    "        return self.clusterNumber\n",
    "\n",
    "class Centroid:\n",
    "    def __init__(self, x, y, z, f):\n",
    "        self.x = x\n",
    "        self.y = y\n",
    "        self.z = z\n",
    "        self.f = f\n",
    "    \n",
    "    def set_x(self, x):\n",
    "        self.x = x\n",
    "    \n",
    "    def get_x(self):\n",
    "        return self.x\n",
    "    \n",
    "    def set_y(self, y):\n",
    "        self.y = y\n",
    "    \n",
    "    def get_y(self):\n",
    "        return self.y\n",
    "    \n",
    "    def set_z(self, z):\n",
    "        self.z = z\n",
    "    \n",
    "    def get_z(self):\n",
    "        return self.z\n",
    "    \n",
    "    def set_f(self, f):\n",
    "        self.f = f\n",
    "    \n",
    "    def get_f(self):\n",
    "        return self.f\n",
    "\n"
   ]
  },
  {
   "cell_type": "code",
<<<<<<< HEAD
   "execution_count": 50,
=======
   "execution_count": 100,
>>>>>>> 6c3ee854c65d7da024d2da082688b7c8bd465c3b
   "metadata": {
    "collapsed": false
   },
   "outputs": [
    {
     "name": "stdout",
     "output_type": "stream",
     "text": [
      "Centroids initialized at:\n",
      "( 31 ,  51.613 ,  1 ,  3.226 )\n",
      "( 758 ,  59.235 ,  22 ,  2.902 )\n",
      "\n",
      "None\n"
     ]
    }
   ],
   "source": [
    "def initialize_centroids():\n",
    "    # Set the centoid coordinates to match the data points furthest from each other.\n",
    "    # In this example, [31, 51.613, 1, 3.2260000000000004] and [758, 59.234999999999999, 22, 2.9019999999999997]\n",
    "    centroids.append(Centroid(SAMPLES[LOWEST_SAMPLE_POINT][0], SAMPLES[LOWEST_SAMPLE_POINT][1],SAMPLES[LOWEST_SAMPLE_POINT][2],SAMPLES[LOWEST_SAMPLE_POINT][3]))\n",
    "    centroids.append(Centroid(SAMPLES[HIGHEST_SAMPLE_POINT][0], SAMPLES[HIGHEST_SAMPLE_POINT][1],SAMPLES[HIGHEST_SAMPLE_POINT][2],SAMPLES[HIGHEST_SAMPLE_POINT][3]))\n",
    "    \n",
    "    print(\"Centroids initialized at:\")\n",
    "    print(\"(\", centroids[0].get_x(), \", \", centroids[0].get_y(), \", \", centroids[0].get_z(),  \", \", centroids[0].get_f(),\")\")\n",
    "    print(\"(\", centroids[1].get_x(), \", \", centroids[1].get_y(), \", \", centroids[1].get_z(),  \", \", centroids[1].get_f(),\")\")\n",
<<<<<<< HEAD
    "    #print(\"(\", centroids[2].get_x(), \", \", centroids[2].get_y(), \", \", centroids[2].get_z(),  \", \", centroids[2].get_f(),\")\")\n",
    "    #print(\"(\", centroids[3].get_x(), \", \", centroids[3].get_y(), \", \", centroids[3].get_z(),  \", \", centroids[3].get_f(),\")\")\n",
=======
>>>>>>> 6c3ee854c65d7da024d2da082688b7c8bd465c3b
    "    print()\n",
    "    return\n",
    "\n",
    "print(initialize_centroids())"
   ]
  },
  {
   "cell_type": "code",
<<<<<<< HEAD
   "execution_count": 57,
=======
   "execution_count": 101,
>>>>>>> 6c3ee854c65d7da024d2da082688b7c8bd465c3b
   "metadata": {
    "collapsed": false
   },
   "outputs": [],
   "source": [
    "def initialize_datapoints():\n",
    "    # DataPoint objects' x and y values are taken from the SAMPLE array.\n",
    "    # The DataPoints associated with LOWEST_SAMPLE_POINT and HIGHEST_SAMPLE_POINT are initially\n",
    "    # assigned to the clusters matching the LOWEST_SAMPLE_POINT and HIGHEST_SAMPLE_POINT centroids.\n",
    "    for i in range(TOTAL_DATA):\n",
<<<<<<< HEAD
    "        newPoint = DataPoint(SAMPLES[i][0], SAMPLES[i][1], SAMPLES[i][2], SAMPLES[i][3])\n",
=======
    "        newPoint = DataPoint(SAMPLES[i][0], SAMPLES[i][1],SAMPLES[i][2],SAMPLES[i][3])\n",
>>>>>>> 6c3ee854c65d7da024d2da082688b7c8bd465c3b
    "        \n",
    "        if(i == LOWEST_SAMPLE_POINT):\n",
    "            newPoint.set_cluster(0)\n",
    "        elif(i == HIGHEST_SAMPLE_POINT):\n",
    "            newPoint.set_cluster(1)\n",
    "        else:\n",
    "            newPoint.set_cluster(None)\n",
    "            \n",
    "        data1.append(newPoint)\n",
    "    \n",
<<<<<<< HEAD
    "    return"
=======
    "    return\n",
    "\n"
>>>>>>> 6c3ee854c65d7da024d2da082688b7c8bd465c3b
   ]
  },
  {
   "cell_type": "code",
<<<<<<< HEAD
   "execution_count": 61,
=======
   "execution_count": 102,
>>>>>>> 6c3ee854c65d7da024d2da082688b7c8bd465c3b
   "metadata": {
    "collapsed": false
   },
   "outputs": [],
   "source": [
<<<<<<< HEAD
    "def get_distance(dataPointX, dataPointY, dataPointZ, dataPointF, centroidX, centroidY, centroidZ, centroidF):\n",
    "    # Calculate Euclidean distance.\n",
    "    return math.sqrt(math.pow((centroidY - dataPointY), 2) + math.pow((centroidX - dataPointX), 2) /\n",
    "                     + math.pow((centroidZ - dataPointZ), 2) + math.pow((centroidF - dataPointF), 2))\n"
=======
    "def get_distance(dataPointX, dataPointY,dataPointZ, dataPointF,centroidX, centroidY,centroidZ, centroidF):\n",
    "    # Calculate Euclidean distance.\n",
    "    return math.sqrt(math.pow((centroidY - dataPointY), 2) + math.pow((centroidX - dataPointX), 2) + math.pow((centroidZ - dataPointZ), 2) + math.pow((centroidF - dataPointF), 2))\n"
>>>>>>> 6c3ee854c65d7da024d2da082688b7c8bd465c3b
   ]
  },
  {
   "cell_type": "code",
<<<<<<< HEAD
   "execution_count": 69,
   "metadata": {
    "collapsed": true
   },
   "outputs": [],
=======
   "execution_count": 103,
   "metadata": {
    "collapsed": false
   },
   "outputs": [
    {
     "name": "stdout",
     "output_type": "stream",
     "text": [
      "None\n"
     ]
    }
   ],
>>>>>>> 6c3ee854c65d7da024d2da082688b7c8bd465c3b
   "source": [
    "def recalculate_centroids():\n",
    "    totalX = 0\n",
    "    totalY = 0\n",
    "    totalZ = 0\n",
    "    totalF = 0\n",
    "    totalInCluster = 0\n",
    "    \n",
    "    for j in range(NUM_CLUSTERS):\n",
    "        for k in range(len(data1)):\n",
    "            if(data1[k].get_cluster() == j):\n",
    "                totalX += data1[k].get_x()\n",
    "                totalY += data1[k].get_y()\n",
    "                totalZ += data1[k].get_z()\n",
    "                totalF += data1[k].get_f()\n",
    "                totalInCluster += 1\n",
    "        \n",
    "        if(totalInCluster > 0):\n",
    "            centroids[j].set_x(totalX / totalInCluster)\n",
    "            centroids[j].set_y(totalY / totalInCluster)\n",
<<<<<<< HEAD
    "            centroids[j].set_z(totalX / totalInCluster)\n",
    "            centroids[j].set_f(totalY / totalInCluster)\n",
    "    \n",
    "    return"
=======
    "            centroids[j].set_z(totalZ / totalInCluster)\n",
    "            centroids[j].set_f(totalF / totalInCluster)\n",
    "    \n",
    "    return\n",
    "\n",
    "print(recalculate_centroids())"
>>>>>>> 6c3ee854c65d7da024d2da082688b7c8bd465c3b
   ]
  },
  {
   "cell_type": "code",
<<<<<<< HEAD
   "execution_count": 70,
   "metadata": {
    "collapsed": true
=======
   "execution_count": 104,
   "metadata": {
    "collapsed": false
>>>>>>> 6c3ee854c65d7da024d2da082688b7c8bd465c3b
   },
   "outputs": [],
   "source": [
    "def update_clusters():\n",
    "    isStillMoving = 0\n",
    "    \n",
    "    for i in range(TOTAL_DATA):\n",
    "        bestMinimum = BIG_NUMBER\n",
    "        currentCluster = 0\n",
    "        \n",
    "        for j in range(NUM_CLUSTERS):\n",
<<<<<<< HEAD
    "            distance = get_distance(data1[i].get_x(), data1[i].get_y(), data1[i].get_z(), data1[i].get_f(),\n",
    "                                    centroids[j].get_x(), centroids[j].get_y(), centroids[j].get_z(), centroids[j].get_f())\n",
=======
    "            distance = get_distance(data1[i].get_x(), data1[i].get_y(), data1[i].get_z(), data1[i].get_f(), centroids[j].get_x(), centroids[j].get_y(),centroids[j].get_z(), centroids[j].get_f())\n",
>>>>>>> 6c3ee854c65d7da024d2da082688b7c8bd465c3b
    "            if(distance < bestMinimum):\n",
    "                bestMinimum = distance\n",
    "                currentCluster = j\n",
    "        \n",
    "        data1[i].set_cluster(currentCluster)\n",
    "        \n",
    "        if(data1[i].get_cluster() is None or data1[i].get_cluster() != currentCluster):\n",
    "            data1[i].set_cluster(currentCluster)\n",
    "            isStillMoving = 1\n",
    "    \n",
    "    return isStillMoving"
   ]
  },
  {
   "cell_type": "code",
<<<<<<< HEAD
   "execution_count": 71,
   "metadata": {
    "collapsed": false
   },
   "outputs": [],
=======
   "execution_count": 134,
   "metadata": {
    "collapsed": false
   },
   "outputs": [
    {
     "name": "stdout",
     "output_type": "stream",
     "text": [
      "Centroids initialized at:\n",
      "( 99.8333333333 ,  48.6841666667 ,  2.33333333333 ,  2.55216666667 )\n",
      "( 282.333333333 ,  51.5923333333 ,  7.77777777778 ,  2.65933333333 )\n",
      "\n",
      "Cluster  0  includes:\n",
      "( 165 ,  53.939 ,  2 ,  1.212 )\n",
      "( 82 ,  48.78 ,  1 ,  1.22 )\n",
      "( 31 ,  51.613 ,  1 ,  3.226 )\n",
      "( 86 ,  43.023 ,  3 ,  3.488 )\n",
      "\n",
      "Cluster  1  includes:\n",
      "( 426 ,  53.756 ,  12 ,  2.817 )\n",
      "( 758 ,  59.235 ,  22 ,  2.902 )\n",
      "( 204 ,  43.137 ,  6 ,  2.941 )\n",
      "\n"
     ]
    }
   ],
>>>>>>> 6c3ee854c65d7da024d2da082688b7c8bd465c3b
   "source": [
    "def perform_kmeans():\n",
    "    isStillMoving = 1\n",
    "    \n",
    "    initialize_centroids()\n",
    "    \n",
    "    initialize_datapoints()\n",
    "    \n",
    "    while(isStillMoving):\n",
    "        recalculate_centroids()\n",
    "        isStillMoving = update_clusters()\n",
    "    \n",
    "    return"
   ]
  },
  {
   "cell_type": "code",
   "execution_count": 72,
   "metadata": {
    "collapsed": false
   },
   "outputs": [],
   "source": [
    "def print_results():\n",
    "    for i in range(NUM_CLUSTERS):\n",
    "        print(\"Cluster \", i, \" includes:\")\n",
    "        for j in range(TOTAL_DATA):\n",
    "            if(data1[j].get_cluster() == i):\n",
<<<<<<< HEAD
    "                print(\"(\", data1[j].get_x(), \", \", data1[j].get_y(), \", \", data1[j].get_z(), \", \", data1[j].get_f(), \")\")\n",
=======
    "                print(\"(\", data1[j].get_x(), \", \", data1[j].get_y(),\", \", data1[j].get_z(), \", \", data1[j].get_f(), \")\")\n",
>>>>>>> 6c3ee854c65d7da024d2da082688b7c8bd465c3b
    "        print()\n",
    "    \n",
    "    return\n",
    "\n",
    "#perform_kmeans()\n",
    "#print_results()"
   ]
  },
  {
   "cell_type": "code",
<<<<<<< HEAD
   "execution_count": 28,
=======
   "execution_count": 106,
>>>>>>> 6c3ee854c65d7da024d2da082688b7c8bd465c3b
   "metadata": {
    "collapsed": false
   },
   "outputs": [
    {
<<<<<<< HEAD
     "ename": "IndexError",
     "evalue": "list index out of range",
     "output_type": "error",
     "traceback": [
      "\u001b[0;31m---------------------------------------------------------------------------\u001b[0m",
      "\u001b[0;31mIndexError\u001b[0m                                Traceback (most recent call last)",
      "\u001b[0;32m<ipython-input-28-71a83485180e>\u001b[0m in \u001b[0;36m<module>\u001b[0;34m()\u001b[0m\n\u001b[1;32m      1\u001b[0m \u001b[0mSAMPLES2\u001b[0m \u001b[1;33m=\u001b[0m \u001b[1;33m[\u001b[0m\u001b[1;33m[\u001b[0m\u001b[1;36m5\u001b[0m\u001b[1;33m,\u001b[0m\u001b[1;36m4\u001b[0m\u001b[1;33m]\u001b[0m\u001b[1;33m,\u001b[0m\u001b[1;33m[\u001b[0m\u001b[1;36m3\u001b[0m\u001b[1;33m,\u001b[0m\u001b[1;36m2\u001b[0m\u001b[1;33m]\u001b[0m\u001b[1;33m]\u001b[0m\u001b[1;33m\u001b[0m\u001b[0m\n\u001b[1;32m      2\u001b[0m \u001b[0mLOWEST_SAMPLE_POINT2\u001b[0m\u001b[1;33m=\u001b[0m\u001b[1;36m2\u001b[0m\u001b[1;33m\u001b[0m\u001b[0m\n\u001b[0;32m----> 3\u001b[0;31m \u001b[0ma\u001b[0m \u001b[1;33m=\u001b[0m \u001b[0mSAMPLES2\u001b[0m\u001b[1;33m[\u001b[0m\u001b[0mLOWEST_SAMPLE_POINT2\u001b[0m\u001b[1;33m]\u001b[0m\u001b[1;33m[\u001b[0m\u001b[1;36m0\u001b[0m\u001b[1;33m]\u001b[0m\u001b[1;33m\u001b[0m\u001b[0m\n\u001b[0m\u001b[1;32m      4\u001b[0m \u001b[0ma\u001b[0m\u001b[1;33m\u001b[0m\u001b[0m\n",
      "\u001b[0;31mIndexError\u001b[0m: list index out of range"
     ]
=======
     "data": {
      "text/plain": [
       "[[165, 53.938999999999993, 2, 1.212],\n",
       " [82, 48.780000000000001, 1, 1.22],\n",
       " [426, 53.756, 12, 2.8169999999999997],\n",
       " [758, 59.234999999999999, 22, 2.9019999999999997],\n",
       " [204, 43.137, 6, 2.9410000000000003],\n",
       " [31, 51.613, 1, 3.2260000000000004],\n",
       " [86, 43.023000000000003, 3, 3.488]]"
      ]
     },
     "execution_count": 106,
     "metadata": {},
     "output_type": "execute_result"
>>>>>>> 6c3ee854c65d7da024d2da082688b7c8bd465c3b
    }
   ],
   "source": [
    "samples1 = [[data.Sessions[1],data.BounceRate[1],data.Goal1Completions[1],data.Goal1ConversionRate[1]],[data.Sessions[2],data.BounceRate[2],data.Goal1Completions[2],data.Goal1ConversionRate[2]],[data.Sessions[3],data.BounceRate[3],data.Goal1Completions[3],data.Goal1ConversionRate[3]],[data.Sessions[4],data.BounceRate[4],data.Goal1Completions[4],data.Goal1ConversionRate[4]],[data.Sessions[5],data.BounceRate[5],data.Goal1Completions[5],data.Goal1ConversionRate[5]],[data.Sessions[6],data.BounceRate[6],data.Goal1Completions[6],data.Goal1ConversionRate[6]],[data.Sessions[7],data.BounceRate[7],data.Goal1Completions[7],data.Goal1ConversionRate[7]]]\n",
    "samples1"
   ]
  },
  {
   "cell_type": "code",
   "execution_count": null,
   "metadata": {
    "collapsed": true
   },
   "outputs": [],
   "source": []
  },
  {
   "cell_type": "code",
   "execution_count": 99,
   "metadata": {
    "collapsed": false,
    "scrolled": true
   },
   "outputs": [],
   "source": [
    "#data = pd.read_csv(\"data/TMRW_users.csv\")\n",
    "#data = data[data.City_Age!=\"(not set)\"]\n",
    "#data = data[data.Sessions>30]\n",
    "#data = data[data.Goal1Completions>0]\n",
    "#data"
   ]
  }
 ],
 "metadata": {
  "kernelspec": {
   "display_name": "Python 3",
   "language": "python",
   "name": "python3"
  },
  "language_info": {
   "codemirror_mode": {
    "name": "ipython",
    "version": 3
   },
   "file_extension": ".py",
   "mimetype": "text/x-python",
   "name": "python",
   "nbconvert_exporter": "python",
   "pygments_lexer": "ipython3",
   "version": "3.6.0"
  }
 },
 "nbformat": 4,
 "nbformat_minor": 2
}
