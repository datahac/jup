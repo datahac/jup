{
 "cells": [
  {
   "cell_type": "markdown",
   "metadata": {},
   "source": [
    "# User groups"
   ]
  },
  {
   "cell_type": "code",
   "execution_count": 68,
   "metadata": {
    "collapsed": true
   },
   "outputs": [],
   "source": [
    "request = \"POST https://analyticsreporting.googleapis.com/v4/reports:batchGet?fields=reports(columnHeader%2Cdata(rows%2Ctotals))&key={YOUR_API_KEY}\"\n",
    "request = {\n",
    " \"reportRequests\": [\n",
    "  {\n",
    "   \"viewId\": \"123303369\",\n",
    "   \"dateRanges\": [\n",
    "    {\n",
    "     \"startDate\": \"2017-01-01\",\n",
    "     \"endDate\": \"2017-04-30\"\n",
    "    }\n",
    "   ],\n",
    "   \"metrics\": [\n",
    "    {\n",
    "     \"expression\": \"ga:sessions\"\n",
    "    },\n",
    "    {\n",
    "     \"expression\": \"ga:sessionDuration\"\n",
    "    },\n",
    "    {\n",
    "     \"expression\": \"ga:goal1Completions\"\n",
    "    },\n",
    "    {\n",
    "     \"expression\": \"ga:bounceRate\"\n",
    "    }\n",
    "   ],\n",
    "   \"dimensions\": [\n",
    "    {\n",
    "     \"name\": \"ga:city\"\n",
    "    },\n",
    "    {\n",
    "     \"name\": \"ga:userAgeBracket\"\n",
    "    }\n",
    "   ]\n",
    "  }\n",
    " ]\n",
    "}"
   ]
  },
  {
   "cell_type": "code",
   "execution_count": 69,
   "metadata": {
    "collapsed": false,
    "scrolled": true
   },
   "outputs": [
    {
     "data": {
      "text/plain": [
       "[{'dimensions': ['Croydon', '18-24'],\n",
       "  'metrics': [{'values': ['101',\n",
       "     '41.584158415841586',\n",
       "     '4',\n",
       "     '3.9603960396039604']}]},\n",
       " {'dimensions': ['Croydon', '25-34'],\n",
       "  'metrics': [{'values': ['334',\n",
       "     '47.90419161676647',\n",
       "     '17',\n",
       "     '5.089820359281437']}]},\n",
       " {'dimensions': ['Croydon', '35-44'],\n",
       "  'metrics': [{'values': ['223',\n",
       "     '43.04932735426009',\n",
       "     '7',\n",
       "     '3.1390134529147984']}]},\n",
       " {'dimensions': ['Croydon', '45-54'],\n",
       "  'metrics': [{'values': ['90',\n",
       "     '45.55555555555556',\n",
       "     '2',\n",
       "     '2.2222222222222223']}]},\n",
       " {'dimensions': ['Croydon', '55-64'],\n",
       "  'metrics': [{'values': ['32', '53.125', '1', '3.125']}]},\n",
       " {'dimensions': ['London', '18-24'],\n",
       "  'metrics': [{'values': ['167',\n",
       "     '49.700598802395206',\n",
       "     '8',\n",
       "     '4.790419161676647']}]},\n",
       " {'dimensions': ['London', '25-34'],\n",
       "  'metrics': [{'values': ['842',\n",
       "     '59.14489311163895',\n",
       "     '24',\n",
       "     '2.8503562945368173']}]},\n",
       " {'dimensions': ['London', '35-44'],\n",
       "  'metrics': [{'values': ['482',\n",
       "     '54.77178423236515',\n",
       "     '14',\n",
       "     '2.904564315352697']}]},\n",
       " {'dimensions': ['London', '45-54'],\n",
       "  'metrics': [{'values': ['205',\n",
       "     '55.60975609756098',\n",
       "     '3',\n",
       "     '1.4634146341463417']}]},\n",
       " {'dimensions': ['London', '55-64'],\n",
       "  'metrics': [{'values': ['37', '48.64864864864865', '0', '0.0']}]}]"
      ]
     },
     "execution_count": 69,
     "metadata": {},
     "output_type": "execute_result"
    }
   ],
   "source": [
    "import json\n",
    "\n",
    "with open('data/TMRW_user_groups.json') as file:\n",
    "    input_ugroups = json.load(file)\n",
    "    \n",
    "#input_ugroups\n",
    "\n",
    "# Define dimensions list\n",
    "input_ugroups_dimensions = input_ugroups['reports'][0]['columnHeader']['dimensions']\n",
    "\n",
    "dimension_count = len(input_ugroups_dimensions)\n",
    "\n",
    "# Define metrics list\n",
    "input_ugroups_metrics = input_ugroups['reports'][0]['columnHeader']['metricHeader']['metricHeaderEntries']\n",
    "\n",
    "def create_metric_list(raw_data):\n",
    "    lst = []\n",
    "    for item in raw_data:\n",
    "        lst.append(item['name'])\n",
    "    return lst\n",
    "\n",
    "input_ugroups_metrics = create_metric_list(input_ugroups_metrics)\n",
    "\n",
    "\n",
    "# Create input data\n",
    "\n",
    "input_ugroups_data = input_ugroups['reports'][0]['data']['rows']\n",
    "\n",
    "input_ugroups_data"
   ]
  },
  {
   "cell_type": "code",
   "execution_count": 70,
   "metadata": {
    "collapsed": false
   },
   "outputs": [
    {
     "data": {
      "text/plain": [
       "[{'Croydon, 18-24': {'values': ['101',\n",
       "    '41.584158415841586',\n",
       "    '4',\n",
       "    '3.9603960396039604']}},\n",
       " {'Croydon, 25-34': {'values': ['334',\n",
       "    '47.90419161676647',\n",
       "    '17',\n",
       "    '5.089820359281437']}},\n",
       " {'Croydon, 35-44': {'values': ['223',\n",
       "    '43.04932735426009',\n",
       "    '7',\n",
       "    '3.1390134529147984']}},\n",
       " {'Croydon, 45-54': {'values': ['90',\n",
       "    '45.55555555555556',\n",
       "    '2',\n",
       "    '2.2222222222222223']}},\n",
       " {'Croydon, 55-64': {'values': ['32', '53.125', '1', '3.125']}},\n",
       " {'London, 18-24': {'values': ['167',\n",
       "    '49.700598802395206',\n",
       "    '8',\n",
       "    '4.790419161676647']}},\n",
       " {'London, 25-34': {'values': ['842',\n",
       "    '59.14489311163895',\n",
       "    '24',\n",
       "    '2.8503562945368173']}},\n",
       " {'London, 35-44': {'values': ['482',\n",
       "    '54.77178423236515',\n",
       "    '14',\n",
       "    '2.904564315352697']}},\n",
       " {'London, 45-54': {'values': ['205',\n",
       "    '55.60975609756098',\n",
       "    '3',\n",
       "    '1.4634146341463417']}},\n",
       " {'London, 55-64': {'values': ['37', '48.64864864864865', '0', '0.0']}}]"
      ]
     },
     "execution_count": 70,
     "metadata": {},
     "output_type": "execute_result"
    }
   ],
   "source": [
    "values_list = []\n",
    "for group in input_ugroups_data:\n",
    "    new_dim_name = group['dimensions'][0] + \", \" + group['dimensions'][1]\n",
    "    group[new_dim_name] = group['metrics'][0]\n",
    "    del group['dimensions']\n",
    "    del group['metrics']\n",
    "    \n",
    "    #conv_rate = round(float(int(group[new_dim_name]['values'][2])/int(group[new_dim_name]['values'][0])*100),2)\n",
    "    values_list.append(group[new_dim_name]['values'])\n",
    "\n",
    "    #group[new_dim_name]['values'].append(conv_rate)\n",
    "    \n",
    "    \n",
    "#values_list    \n",
    "input_ugroups_data"
   ]
  },
  {
   "cell_type": "code",
   "execution_count": 74,
   "metadata": {
    "collapsed": false
   },
   "outputs": [],
   "source": [
    "# Define each metric dict\n",
    "\n",
    "ugroups_data = {}\n",
    "\n",
    "for ugroup in input_ugroups_data:\n",
    "    #print (ugroup)\n",
    "    \n",
    "    for gr in ugroup:\n",
    "        ugroups_data[gr] = {'sessions':0,\n",
    "                       'bounce_rate':0,\n",
    "                       'conversions':0,\n",
    "                       'conversion_rate':0}\n",
    "        \n",
    "        ugroups_data[gr]['sessions'] = round(float(ugroup[gr]['values'][0]),2)\n",
    "        ugroups_data[gr]['conversions'] = round(float(ugroup[gr]['values'][1]),2)\n",
    "        ugroups_data[gr]['bounce_rate'] = round(float(ugroup[gr]['values'][2]),2)\n",
    "        ugroups_data[gr]['conversion_rate'] = round(float(ugroup[gr]['values'][3]),2)\n",
    "        \n",
    "#ugroups_data"
   ]
  },
  {
   "cell_type": "code",
   "execution_count": 75,
   "metadata": {
    "collapsed": false
   },
   "outputs": [
    {
     "data": {
      "text/plain": [
       "['Croydon, 18-24',\n",
       " 'Croydon, 25-34',\n",
       " 'Croydon, 35-44',\n",
       " 'Croydon, 45-54',\n",
       " 'Croydon, 55-64',\n",
       " 'London, 18-24',\n",
       " 'London, 25-34',\n",
       " 'London, 35-44',\n",
       " 'London, 45-54',\n",
       " 'London, 55-64']"
      ]
     },
     "execution_count": 75,
     "metadata": {},
     "output_type": "execute_result"
    }
   ],
   "source": [
    "rows = list(ugroups_data.keys())\n",
    "rows"
   ]
  },
  {
   "cell_type": "code",
   "execution_count": 76,
   "metadata": {
    "collapsed": false
   },
   "outputs": [
    {
     "data": {
      "text/plain": [
       "['sessions', 'bounce_rate', 'conversions', 'conversion_rate']"
      ]
     },
     "execution_count": 76,
     "metadata": {},
     "output_type": "execute_result"
    }
   ],
   "source": [
    "import collections\n",
    "from collections import OrderedDict\n",
    "\n",
    "columns = []\n",
    "for u in ugroups_data:\n",
    "    #print (test[r])\n",
    "    for metric in ugroups_data[u]:\n",
    "        columns.append(metric)\n",
    "    \n",
    "columns = list(OrderedDict.fromkeys(columns))    \n",
    "columns"
   ]
  },
  {
   "cell_type": "code",
   "execution_count": 77,
   "metadata": {
    "collapsed": true
   },
   "outputs": [],
   "source": [
    "import pandas as pd"
   ]
  },
  {
   "cell_type": "code",
   "execution_count": 78,
   "metadata": {
    "collapsed": false
   },
   "outputs": [
    {
     "data": {
      "text/html": [
       "<div>\n",
       "<table border=\"1\" class=\"dataframe\">\n",
       "  <thead>\n",
       "    <tr style=\"text-align: right;\">\n",
       "      <th></th>\n",
       "      <th>sessions</th>\n",
       "      <th>bounce_rate</th>\n",
       "      <th>conversions</th>\n",
       "      <th>conversion_rate</th>\n",
       "    </tr>\n",
       "  </thead>\n",
       "  <tbody>\n",
       "    <tr>\n",
       "      <th>Croydon, 18-24</th>\n",
       "      <td>101</td>\n",
       "      <td>41.584158</td>\n",
       "      <td>4</td>\n",
       "      <td>3.960396</td>\n",
       "    </tr>\n",
       "    <tr>\n",
       "      <th>Croydon, 25-34</th>\n",
       "      <td>334</td>\n",
       "      <td>47.904192</td>\n",
       "      <td>17</td>\n",
       "      <td>5.089820</td>\n",
       "    </tr>\n",
       "    <tr>\n",
       "      <th>Croydon, 35-44</th>\n",
       "      <td>223</td>\n",
       "      <td>43.049327</td>\n",
       "      <td>7</td>\n",
       "      <td>3.139013</td>\n",
       "    </tr>\n",
       "    <tr>\n",
       "      <th>Croydon, 45-54</th>\n",
       "      <td>90</td>\n",
       "      <td>45.555556</td>\n",
       "      <td>2</td>\n",
       "      <td>2.222222</td>\n",
       "    </tr>\n",
       "    <tr>\n",
       "      <th>Croydon, 55-64</th>\n",
       "      <td>32</td>\n",
       "      <td>53.125000</td>\n",
       "      <td>1</td>\n",
       "      <td>3.125000</td>\n",
       "    </tr>\n",
       "    <tr>\n",
       "      <th>London, 18-24</th>\n",
       "      <td>167</td>\n",
       "      <td>49.700599</td>\n",
       "      <td>8</td>\n",
       "      <td>4.790419</td>\n",
       "    </tr>\n",
       "    <tr>\n",
       "      <th>London, 25-34</th>\n",
       "      <td>842</td>\n",
       "      <td>59.144893</td>\n",
       "      <td>24</td>\n",
       "      <td>2.850356</td>\n",
       "    </tr>\n",
       "    <tr>\n",
       "      <th>London, 35-44</th>\n",
       "      <td>482</td>\n",
       "      <td>54.771784</td>\n",
       "      <td>14</td>\n",
       "      <td>2.904564</td>\n",
       "    </tr>\n",
       "    <tr>\n",
       "      <th>London, 45-54</th>\n",
       "      <td>205</td>\n",
       "      <td>55.609756</td>\n",
       "      <td>3</td>\n",
       "      <td>1.463415</td>\n",
       "    </tr>\n",
       "    <tr>\n",
       "      <th>London, 55-64</th>\n",
       "      <td>37</td>\n",
       "      <td>48.648649</td>\n",
       "      <td>0</td>\n",
       "      <td>0.000000</td>\n",
       "    </tr>\n",
       "  </tbody>\n",
       "</table>\n",
       "</div>"
      ],
      "text/plain": [
       "                sessions  bounce_rate  conversions  conversion_rate\n",
       "Croydon, 18-24       101    41.584158            4         3.960396\n",
       "Croydon, 25-34       334    47.904192           17         5.089820\n",
       "Croydon, 35-44       223    43.049327            7         3.139013\n",
       "Croydon, 45-54        90    45.555556            2         2.222222\n",
       "Croydon, 55-64        32    53.125000            1         3.125000\n",
       "London, 18-24        167    49.700599            8         4.790419\n",
       "London, 25-34        842    59.144893           24         2.850356\n",
       "London, 35-44        482    54.771784           14         2.904564\n",
       "London, 45-54        205    55.609756            3         1.463415\n",
       "London, 55-64         37    48.648649            0         0.000000"
      ]
     },
     "execution_count": 78,
     "metadata": {},
     "output_type": "execute_result"
    }
   ],
   "source": [
    "df = pd.DataFrame(values_list,\n",
    "                  index = rows,\n",
    "                  columns = columns)\n",
    "\n",
    "df.to_json(orient='split')\n",
    "table = pd.read_json(df.to_json(orient='split'), orient='split')\n",
    "table"
   ]
  },
  {
   "cell_type": "code",
   "execution_count": 83,
   "metadata": {
    "collapsed": false
   },
   "outputs": [
    {
     "name": "stdout",
     "output_type": "stream",
     "text": [
      "[101, 41.584158415841586, 4, 3.9603960396039604]\n",
      "[334, 47.904191616766468, 17, 5.0898203592814371]\n",
      "[223, 43.049327354260093, 7, 3.1390134529147984]\n",
      "[90, 45.555555555555557, 2, 2.2222222222222223]\n",
      "[32, 53.125, 1, 3.125]\n",
      "[167, 49.700598802395206, 8, 4.7904191616766472]\n",
      "[842, 59.14489311163895, 24, 2.8503562945368173]\n",
      "[482, 54.77178423236515, 14, 2.904564315352697]\n",
      "[205, 55.609756097560982, 3, 1.4634146341463417]\n",
      "[37, 48.648648648648653, 0, 0.0]\n"
     ]
    }
   ],
   "source": [
    "samples1=[]\n",
    "for i in range(0,len(table)):\n",
    "    a = [table.sessions[i],table.bounce_rate[i],table.conversions[i],table.conversion_rate[i]]\n",
    "    print(a)\n",
    "samples1=a\n",
    "#return samples1\n",
    "#print(samples1)"
   ]
  },
  {
   "cell_type": "code",
   "execution_count": 35,
   "metadata": {
    "collapsed": false
   },
   "outputs": [
    {
     "data": {
      "text/plain": [
       "[205, 55.609756097560982, 3, 1.4634146341463417, 1.46]"
      ]
     },
     "execution_count": 35,
     "metadata": {},
     "output_type": "execute_result"
    }
   ],
   "source": [
    "a = samples1\n",
    "a"
   ]
  },
  {
   "cell_type": "code",
   "execution_count": null,
   "metadata": {
    "collapsed": true
   },
   "outputs": [],
   "source": []
  },
  {
   "cell_type": "code",
   "execution_count": null,
   "metadata": {
    "collapsed": true
   },
   "outputs": [],
   "source": []
  }
 ],
 "metadata": {
  "kernelspec": {
   "display_name": "Python 3",
   "language": "python",
   "name": "python3"
  },
  "language_info": {
   "codemirror_mode": {
    "name": "ipython",
    "version": 3
   },
   "file_extension": ".py",
   "mimetype": "text/x-python",
   "name": "python",
   "nbconvert_exporter": "python",
   "pygments_lexer": "ipython3",
   "version": "3.6.0"
  }
 },
 "nbformat": 4,
 "nbformat_minor": 2
}
