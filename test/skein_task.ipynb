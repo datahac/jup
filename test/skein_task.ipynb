{
 "cells": [
  {
   "cell_type": "markdown",
   "metadata": {},
   "source": [
    "###### importing requeired libs "
   ]
  },
  {
   "cell_type": "code",
   "execution_count": 1,
   "metadata": {
    "collapsed": false
   },
   "outputs": [],
   "source": [
    "import json\n",
    "from pprint import pprint\n",
    "import pandas as pd\n",
    "import matplotlib.pyplot as plt\n",
    "%matplotlib inline\n"
   ]
  },
  {
   "cell_type": "markdown",
   "metadata": {},
   "source": [
    "### Working on first json file"
   ]
  },
  {
   "cell_type": "code",
   "execution_count": 2,
   "metadata": {
    "collapsed": false
   },
   "outputs": [
    {
     "data": {
      "text/html": [
       "<div>\n",
       "<table border=\"1\" class=\"dataframe\">\n",
       "  <thead>\n",
       "    <tr style=\"text-align: right;\">\n",
       "      <th></th>\n",
       "      <th>goal_one</th>\n",
       "      <th>page</th>\n",
       "    </tr>\n",
       "  </thead>\n",
       "  <tbody>\n",
       "    <tr>\n",
       "      <th>0</th>\n",
       "      <td>6</td>\n",
       "      <td>(entrance)</td>\n",
       "    </tr>\n",
       "    <tr>\n",
       "      <th>1</th>\n",
       "      <td>85</td>\n",
       "      <td>/</td>\n",
       "    </tr>\n",
       "    <tr>\n",
       "      <th>2</th>\n",
       "      <td>1</td>\n",
       "      <td>/portfolio-single-gallery.html</td>\n",
       "    </tr>\n",
       "    <tr>\n",
       "      <th>3</th>\n",
       "      <td>22</td>\n",
       "      <td>/TMRW_Byte_Cafe.php</td>\n",
       "    </tr>\n",
       "    <tr>\n",
       "      <th>4</th>\n",
       "      <td>24</td>\n",
       "      <td>/TMRW_FAQs.php</td>\n",
       "    </tr>\n",
       "  </tbody>\n",
       "</table>\n",
       "</div>"
      ],
      "text/plain": [
       "   goal_one                            page\n",
       "0         6                      (entrance)\n",
       "1        85                               /\n",
       "2         1  /portfolio-single-gallery.html\n",
       "3        22             /TMRW_Byte_Cafe.php\n",
       "4        24                  /TMRW_FAQs.php"
      ]
     },
     "execution_count": 2,
     "metadata": {},
     "output_type": "execute_result"
    }
   ],
   "source": [
    "landing_page = []\n",
    "goal_one = []\n",
    "\n",
    "with open('Goal1CompletionLocation_Goal1Completions.json') as data_file:    \n",
    "    data = json.load(data_file)\n",
    "    \n",
    "list_of_dict = data['reports'][0]['data']['rows']\n",
    "for dictionary in list_of_dict:\n",
    "    landing_page.append(dictionary['dimensions'][0])\n",
    "    goal_one.append(int(dictionary['metrics'][0]['values'][0]))\n",
    "    \n",
    "goals_df = pd.DataFrame(data = {'page': landing_page, 'goal_one': goal_one})\n",
    "goals_df.head()\n",
    "\n",
    "    \n"
   ]
  },
  {
   "cell_type": "markdown",
   "metadata": {},
   "source": [
    "### Working on second json file"
   ]
  },
  {
   "cell_type": "code",
   "execution_count": 3,
   "metadata": {
    "collapsed": false
   },
   "outputs": [
    {
     "data": {
      "text/html": [
       "<div>\n",
       "<table border=\"1\" class=\"dataframe\">\n",
       "  <thead>\n",
       "    <tr style=\"text-align: right;\">\n",
       "      <th></th>\n",
       "      <th>page</th>\n",
       "      <th>sessions</th>\n",
       "    </tr>\n",
       "  </thead>\n",
       "  <tbody>\n",
       "    <tr>\n",
       "      <th>0</th>\n",
       "      <td>/</td>\n",
       "      <td>5925</td>\n",
       "    </tr>\n",
       "    <tr>\n",
       "      <th>1</th>\n",
       "      <td>/?_hsenc=p2ANqtz-_McBb_ag9eyaYD3mJjDG7G_uB3uhg...</td>\n",
       "      <td>1</td>\n",
       "    </tr>\n",
       "    <tr>\n",
       "      <th>2</th>\n",
       "      <td>/?_hsenc=p2ANqtz-_ORc__Ui5VKSGvLO72LiNTFW98hg-...</td>\n",
       "      <td>1</td>\n",
       "    </tr>\n",
       "    <tr>\n",
       "      <th>3</th>\n",
       "      <td>/?_hsenc=p2ANqtz-_PMnaFvC1MTCPb_RghCCNcPyb6VHP...</td>\n",
       "      <td>1</td>\n",
       "    </tr>\n",
       "    <tr>\n",
       "      <th>4</th>\n",
       "      <td>/?_hsenc=p2ANqtz--3SZ9_TxAeV_6dUflCeBmtEy9p5-k...</td>\n",
       "      <td>1</td>\n",
       "    </tr>\n",
       "  </tbody>\n",
       "</table>\n",
       "</div>"
      ],
      "text/plain": [
       "                                                page  sessions\n",
       "0                                                  /      5925\n",
       "1  /?_hsenc=p2ANqtz-_McBb_ag9eyaYD3mJjDG7G_uB3uhg...         1\n",
       "2  /?_hsenc=p2ANqtz-_ORc__Ui5VKSGvLO72LiNTFW98hg-...         1\n",
       "3  /?_hsenc=p2ANqtz-_PMnaFvC1MTCPb_RghCCNcPyb6VHP...         1\n",
       "4  /?_hsenc=p2ANqtz--3SZ9_TxAeV_6dUflCeBmtEy9p5-k...         1"
      ]
     },
     "execution_count": 3,
     "metadata": {},
     "output_type": "execute_result"
    }
   ],
   "source": [
    "landing_page = []\n",
    "sessions = []\n",
    "\n",
    "with open('Sessions_Page.json') as data_file:    \n",
    "    data = json.load(data_file)\n",
    "    \n",
    "list_of_dict = data['reports'][0]['data']['rows']\n",
    "for dictionary in list_of_dict:\n",
    "    landing_page.append(dictionary['dimensions'][0])\n",
    "    sessions.append(int(dictionary['metrics'][0]['values'][0]))\n",
    "    \n",
    "sessions_df = pd.DataFrame(data = {'page': landing_page, 'sessions': sessions})\n",
    "sessions_df.head()\n",
    "\n",
    "    \n"
   ]
  },
  {
   "cell_type": "markdown",
   "metadata": {},
   "source": [
    "### merging dataframes by key"
   ]
  },
  {
   "cell_type": "code",
   "execution_count": 7,
   "metadata": {
    "collapsed": false
   },
   "outputs": [
    {
     "data": {
      "text/html": [
       "<div>\n",
       "<table border=\"1\" class=\"dataframe\">\n",
       "  <thead>\n",
       "    <tr style=\"text-align: right;\">\n",
       "      <th></th>\n",
       "      <th>page</th>\n",
       "      <th>sessions</th>\n",
       "      <th>goal_one</th>\n",
       "      <th>conversion_rate</th>\n",
       "    </tr>\n",
       "  </thead>\n",
       "  <tbody>\n",
       "    <tr>\n",
       "      <th>0</th>\n",
       "      <td>/</td>\n",
       "      <td>5925</td>\n",
       "      <td>85</td>\n",
       "      <td>1.434599</td>\n",
       "    </tr>\n",
       "    <tr>\n",
       "      <th>1</th>\n",
       "      <td>/portfolio-single-gallery.html</td>\n",
       "      <td>2</td>\n",
       "      <td>1</td>\n",
       "      <td>50.000000</td>\n",
       "    </tr>\n",
       "    <tr>\n",
       "      <th>2</th>\n",
       "      <td>/TMRW_Byte_Cafe.php</td>\n",
       "      <td>270</td>\n",
       "      <td>22</td>\n",
       "      <td>8.148148</td>\n",
       "    </tr>\n",
       "    <tr>\n",
       "      <th>3</th>\n",
       "      <td>/TMRW_FAQs.php</td>\n",
       "      <td>129</td>\n",
       "      <td>24</td>\n",
       "      <td>18.604651</td>\n",
       "    </tr>\n",
       "    <tr>\n",
       "      <th>4</th>\n",
       "      <td>/TMRW_Get_in_touch.php</td>\n",
       "      <td>4</td>\n",
       "      <td>3</td>\n",
       "      <td>75.000000</td>\n",
       "    </tr>\n",
       "    <tr>\n",
       "      <th>5</th>\n",
       "      <td>/TMRW_the_team.php</td>\n",
       "      <td>140</td>\n",
       "      <td>5</td>\n",
       "      <td>3.571429</td>\n",
       "    </tr>\n",
       "  </tbody>\n",
       "</table>\n",
       "</div>"
      ],
      "text/plain": [
       "                             page  sessions  goal_one  conversion_rate\n",
       "0                               /      5925        85         1.434599\n",
       "1  /portfolio-single-gallery.html         2         1        50.000000\n",
       "2             /TMRW_Byte_Cafe.php       270        22         8.148148\n",
       "3                  /TMRW_FAQs.php       129        24        18.604651\n",
       "4          /TMRW_Get_in_touch.php         4         3        75.000000\n",
       "5              /TMRW_the_team.php       140         5         3.571429"
      ]
     },
     "execution_count": 7,
     "metadata": {},
     "output_type": "execute_result"
    }
   ],
   "source": [
    "merged = pd.merge(sessions_df, goals_df, on='page')\n",
    "merged['conversion_rate'] = merged['goal_one'] / merged['sessions'] * 100\n",
    "merged"
   ]
  },
  {
   "cell_type": "markdown",
   "metadata": {
    "collapsed": false
   },
   "source": [
    "### graph ploting"
   ]
  },
  {
   "cell_type": "code",
   "execution_count": 6,
   "metadata": {
    "collapsed": false
   },
   "outputs": [
    {
     "name": "stdout",
     "output_type": "stream",
     "text": [
      "The best converting page on your site is \"/TMRW_Get_in_touch.php\" with conversion rate 75.0 %.\n"
     ]
    },
    {
     "data": {
      "image/png": "[encoded data removed]",
      "text/plain": [
       "<matplotlib.figure.Figure at 0x9a13a90>"
      ]
     },
     "metadata": {},
     "output_type": "display_data"
    }
   ],
   "source": [
    "max_info = merged.loc[merged['conversion_rate'].idxmax()]\n",
    "print 'The best converting page on your site is \"{}\" with conversion rate {} %.'\\\n",
    ".format(max_info['page'],max_info['conversion_rate'])\n",
    "\n",
    "y = merged.conversion_rate\n",
    "N = len(y)\n",
    "x = range(N)\n",
    "plt.xticks(x, merged.page, rotation='vertical')\n",
    "plt.ylabel('Conversion Rate')\n",
    "width = 1/1.5\n",
    "\n",
    "plt.bar(x, y, width, color=\"green\")\n",
    "plt.show()"
   ]
  },
  {
   "cell_type": "code",
   "execution_count": null,
   "metadata": {
    "collapsed": true
   },
   "outputs": [],
   "source": []
  }
 ],
 "metadata": {
  "kernelspec": {
   "display_name": "Python 3",
   "language": "python",
   "name": "python3"
  },
  "language_info": {
   "codemirror_mode": {
    "name": "ipython",
    "version": 3
   },
   "file_extension": ".py",
   "mimetype": "text/x-python",
   "name": "python",
   "nbconvert_exporter": "python",
   "pygments_lexer": "ipython3",
   "version": "3.6.0"
  }
 },
 "nbformat": 4,
 "nbformat_minor": 2
}
