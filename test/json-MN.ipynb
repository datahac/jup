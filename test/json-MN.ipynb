{
 "cells": [
  {
   "cell_type": "markdown",
   "metadata": {},
   "source": [
    "# Parsing JSON \n",
    "http://python-guide-pt-br.readthedocs.io/en/latest/scenarios/json/"
   ]
  },
  {
   "cell_type": "markdown",
   "metadata": {},
   "source": [
    "## Example"
   ]
  },
  {
   "cell_type": "code",
   "execution_count": 14,
   "metadata": {
    "collapsed": true
   },
   "outputs": [],
   "source": [
    "json_string = '{\"first_name\": \"Guido\", \"last_name\":\"Rossum\"}'"
   ]
  },
  {
   "cell_type": "code",
   "execution_count": 15,
   "metadata": {
    "collapsed": false,
    "scrolled": true
   },
   "outputs": [],
   "source": [
    "import json\n",
    "parsed_json = json.loads(json_string)"
   ]
  },
  {
   "cell_type": "code",
   "execution_count": 17,
   "metadata": {
    "collapsed": false
   },
   "outputs": [
    {
     "name": "stdout",
     "output_type": "stream",
     "text": [
      "Guido\n"
     ]
    }
   ],
   "source": [
    "print(parsed_json['first_name'])"
   ]
  },
  {
   "cell_type": "markdown",
   "metadata": {
    "collapsed": false
   },
   "source": [
    "## GA data"
   ]
  },
  {
   "cell_type": "code",
   "execution_count": 12,
   "metadata": {
    "collapsed": false
   },
   "outputs": [
    {
     "name": "stdout",
     "output_type": "stream",
     "text": [
      "{'error': False, 'data': {'reports': [{'data': {'maximums': [{'values': ['1030', '50']}], 'minimums': [{'values': ['1', '0']}], 'rows': [{'metrics': [{'values': ['1030', '50']}], 'dimensions': ['/']}, {'metrics': [{'values': ['20', '0']}], 'dimensions': ['/2017-data-technology-trends/']}, {'metrics': [{'values': ['1', '0']}], 'dimensions': ['/7-easy-ways-to-make-your-webpage-sell-more-of-you-product/']}, {'metrics': [{'values': ['6', '0']}], 'dimensions': ['/careers./']}, {'metrics': [{'values': ['227', '0']}], 'dimensions': ['/careers/']}, {'metrics': [{'values': ['6', '0']}], 'dimensions': ['/Careers/']}, {'metrics': [{'values': ['1', '0']}], 'dimensions': ['/careers~~pobj.']}, {'metrics': [{'values': ['101', '0']}], 'dimensions': ['/case-studies/']}, {'metrics': [{'values': ['26', '1']}], 'dimensions': ['/case-studies/c24tech-swift-blockchain/']}, {'metrics': [{'values': ['14', '0']}], 'dimensions': ['/case-studies/cools/']}, {'metrics': [{'values': ['21', '0']}], 'dimensions': ['/case-studies/toothscan-dental-app/']}, {'metrics': [{'values': ['13', '0']}], 'dimensions': ['/case-studies/tp-link-partner-portal/']}, {'metrics': [{'values': ['22', '1']}], 'dimensions': ['/case-studies/travel-weekly/']}, {'metrics': [{'values': ['8', '0']}], 'dimensions': ['/case-studies/we-are-models/']}, {'metrics': [{'values': ['11', '0']}], 'dimensions': ['/category/blog/']}, {'metrics': [{'values': ['2', '0']}], 'dimensions': ['/category/blog/dev-blog/']}, {'metrics': [{'values': ['2', '0']}], 'dimensions': ['/category/blog/lean-innovation-methodology/']}, {'metrics': [{'values': ['1', '0']}], 'dimensions': ['/category/uncategorized/']}, {'metrics': [{'values': ['1', '0']}], 'dimensions': ['/contact-kyiv/']}, {'metrics': [{'values': ['14', '3']}], 'dimensions': ['/contact-us/']}, {'metrics': [{'values': ['2', '0']}], 'dimensions': ['/development-for-technology-companies/']}, {'metrics': [{'values': ['16', '0']}], 'dimensions': ['/en_us/article/google-wins-legal-battle-against-pro-trump-spammer-over-the-letter-g']}, {'metrics': [{'values': ['1', '0']}], 'dimensions': ['/funding-for-high-growth-ventures/']}, {'metrics': [{'values': ['40', '0']}], 'dimensions': ['/google-liar-ru-spam-in-analytics/']}, {'metrics': [{'values': ['1', '0']}], 'dimensions': ['/home']}, {'metrics': [{'values': ['2', '0']}], 'dimensions': ['/how-businesses-can-use-crowd-science/']}, {'metrics': [{'values': ['23', '0']}], 'dimensions': ['/incubator-rus/']}, {'metrics': [{'values': ['1', '0']}], 'dimensions': ['/java-developer/']}, {'metrics': [{'values': ['1', '0']}], 'dimensions': ['/jmb-app-is-now-available-in-appstore/']}, {'metrics': [{'values': ['2', '0']}], 'dimensions': ['/jobs/junior-software-developer-e-mail-support/']}, {'metrics': [{'values': ['2', '0']}], 'dimensions': ['/jobs/middle-python-developer/']}, {'metrics': [{'values': ['2', '0']}], 'dimensions': ['/jobs/office-manager-ceo-assistant/']}, {'metrics': [{'values': ['6', '1']}], 'dimensions': ['/jobs/project-manager-agile-pm-scrum-master/']}, {'metrics': [{'values': ['1', '0']}], 'dimensions': ['/jobs/python-developer-new-york-company-project/']}, {'metrics': [{'values': ['4', '0']}], 'dimensions': ['/jobs/python-developer/']}, {'metrics': [{'values': ['1', '0']}], 'dimensions': ['/jobs/react-js-developer-start-now/']}, {'metrics': [{'values': ['21', '1']}], 'dimensions': ['/jobs/ux-ui-designer/']}, {'metrics': [{'values': ['1', '0']}], 'dimensions': ['/maxim-brovenko/']}, {'metrics': [{'values': ['1', '0']}], 'dimensions': ['/new-exciting-market-niche-pre-travel-shopping/']}, {'metrics': [{'values': ['33', '0']}], 'dimensions': ['/news/google-g/']}, {'metrics': [{'values': ['3', '0']}], 'dimensions': ['/partner-portal-built-skein-wins-best-partner-programme-year/']}, {'metrics': [{'values': ['1', '0']}], 'dimensions': ['/pavel-kozda/']}, {'metrics': [{'values': ['1', '0']}], 'dimensions': ['/research-phase-tech-innovation-projects/']}, {'metrics': [{'values': ['1', '0']}], 'dimensions': ['/shalaev-dmitriy/']}, {'metrics': [{'values': ['5', '0']}], 'dimensions': ['/skein-announces-release-igostories-project/']}, {'metrics': [{'values': ['1', '0']}], 'dimensions': ['/skein-partnership-with-oil-industry/']}, {'metrics': [{'values': ['1', '0']}], 'dimensions': ['/skein-presents-at-open-data-institute-summit/']}, {'metrics': [{'values': ['2', '0']}], 'dimensions': ['/startContent']}, {'metrics': [{'values': ['5', '0']}], 'dimensions': ['/svitlana-surodina/']}, {'metrics': [{'values': ['3', '0']}], 'dimensions': ['/technology-business-mentoring/']}, {'metrics': [{'values': ['2', '0']}], 'dimensions': ['/technology-consultancy-and-team-formation/']}, {'metrics': [{'values': ['1', '0']}], 'dimensions': ['/terms-and-conditions/']}, {'metrics': [{'values': ['1', '0']}], 'dimensions': ['/ux']}, {'metrics': [{'values': ['21', '0']}], 'dimensions': ['/ux/']}, {'metrics': [{'values': ['14', '0']}], 'dimensions': ['/ux/ux-analysis-result/']}, {'metrics': [{'values': ['25', '0']}], 'dimensions': ['/what_we_do_lean_innovation/']}], 'isDataGolden': True, 'totals': [{'values': ['1775', '57']}], 'rowCount': 56}, 'columnHeader': {'metricHeader': {'metricHeaderEntries': [{'type': 'INTEGER', 'name': 'ga:sessions'}, {'type': 'INTEGER', 'name': 'ga:sessionsWithEvent'}]}, 'dimensions': ['ga:pagePath']}}]}, 'msg': 'Retrieve'}\n"
     ]
    }
   ],
   "source": [
    "import json\n",
    "\n",
    "#загрузить из json\n",
    "with open('data/SKEIN_test.json') as file: #открываем файл на чтение\n",
    "    input0 = json.load(file) #загружаем из файла данные в словарь data\n",
    "print(input0)"
   ]
  },
  {
   "cell_type": "code",
   "execution_count": 29,
   "metadata": {
    "collapsed": false
   },
   "outputs": [
    {
     "ename": "TypeError",
     "evalue": "'dict' object is not callable",
     "output_type": "error",
     "traceback": [
      "\u001b[0;31m---------------------------------------------------------------------------\u001b[0m",
      "\u001b[0;31mTypeError\u001b[0m                                 Traceback (most recent call last)",
      "\u001b[0;32m<ipython-input-29-bb0059b882af>\u001b[0m in \u001b[0;36m<module>\u001b[0;34m()\u001b[0m\n\u001b[0;32m----> 1\u001b[0;31m \u001b[0mprint\u001b[0m\u001b[1;33m(\u001b[0m\u001b[0minput0\u001b[0m\u001b[1;33m(\u001b[0m\u001b[1;34m\"\\\"data\\reports\"\u001b[0m\u001b[1;33m)\u001b[0m\u001b[1;33m)\u001b[0m\u001b[1;33m\u001b[0m\u001b[0m\n\u001b[0m",
      "\u001b[0;31mTypeError\u001b[0m: 'dict' object is not callable"
     ]
    }
   ],
   "source": [
    "print(input0(\"\\\"data\\reports\"))"
   ]
  },
  {
   "cell_type": "code",
   "execution_count": 15,
   "metadata": {
    "collapsed": false
   },
   "outputs": [
    {
     "data": {
      "text/plain": [
       "{'reports': [{'columnHeader': {'dimensions': ['ga:pagePath'],\n",
       "    'metricHeader': {'metricHeaderEntries': [{'name': 'ga:sessions',\n",
       "       'type': 'INTEGER'},\n",
       "      {'name': 'ga:sessionsWithEvent', 'type': 'INTEGER'}]}},\n",
       "   'data': {'isDataGolden': True,\n",
       "    'maximums': [{'values': ['1030', '50']}],\n",
       "    'minimums': [{'values': ['1', '0']}],\n",
       "    'rowCount': 56,\n",
       "    'rows': [{'dimensions': ['/'], 'metrics': [{'values': ['1030', '50']}]},\n",
       "     {'dimensions': ['/2017-data-technology-trends/'],\n",
       "      'metrics': [{'values': ['20', '0']}]},\n",
       "     {'dimensions': ['/7-easy-ways-to-make-your-webpage-sell-more-of-you-product/'],\n",
       "      'metrics': [{'values': ['1', '0']}]},\n",
       "     {'dimensions': ['/careers./'], 'metrics': [{'values': ['6', '0']}]},\n",
       "     {'dimensions': ['/careers/'], 'metrics': [{'values': ['227', '0']}]},\n",
       "     {'dimensions': ['/Careers/'], 'metrics': [{'values': ['6', '0']}]},\n",
       "     {'dimensions': ['/careers~~pobj.'], 'metrics': [{'values': ['1', '0']}]},\n",
       "     {'dimensions': ['/case-studies/'], 'metrics': [{'values': ['101', '0']}]},\n",
       "     {'dimensions': ['/case-studies/c24tech-swift-blockchain/'],\n",
       "      'metrics': [{'values': ['26', '1']}]},\n",
       "     {'dimensions': ['/case-studies/cools/'],\n",
       "      'metrics': [{'values': ['14', '0']}]},\n",
       "     {'dimensions': ['/case-studies/toothscan-dental-app/'],\n",
       "      'metrics': [{'values': ['21', '0']}]},\n",
       "     {'dimensions': ['/case-studies/tp-link-partner-portal/'],\n",
       "      'metrics': [{'values': ['13', '0']}]},\n",
       "     {'dimensions': ['/case-studies/travel-weekly/'],\n",
       "      'metrics': [{'values': ['22', '1']}]},\n",
       "     {'dimensions': ['/case-studies/we-are-models/'],\n",
       "      'metrics': [{'values': ['8', '0']}]},\n",
       "     {'dimensions': ['/category/blog/'], 'metrics': [{'values': ['11', '0']}]},\n",
       "     {'dimensions': ['/category/blog/dev-blog/'],\n",
       "      'metrics': [{'values': ['2', '0']}]},\n",
       "     {'dimensions': ['/category/blog/lean-innovation-methodology/'],\n",
       "      'metrics': [{'values': ['2', '0']}]},\n",
       "     {'dimensions': ['/category/uncategorized/'],\n",
       "      'metrics': [{'values': ['1', '0']}]},\n",
       "     {'dimensions': ['/contact-kyiv/'], 'metrics': [{'values': ['1', '0']}]},\n",
       "     {'dimensions': ['/contact-us/'], 'metrics': [{'values': ['14', '3']}]},\n",
       "     {'dimensions': ['/development-for-technology-companies/'],\n",
       "      'metrics': [{'values': ['2', '0']}]},\n",
       "     {'dimensions': ['/en_us/article/google-wins-legal-battle-against-pro-trump-spammer-over-the-letter-g'],\n",
       "      'metrics': [{'values': ['16', '0']}]},\n",
       "     {'dimensions': ['/funding-for-high-growth-ventures/'],\n",
       "      'metrics': [{'values': ['1', '0']}]},\n",
       "     {'dimensions': ['/google-liar-ru-spam-in-analytics/'],\n",
       "      'metrics': [{'values': ['40', '0']}]},\n",
       "     {'dimensions': ['/home'], 'metrics': [{'values': ['1', '0']}]},\n",
       "     {'dimensions': ['/how-businesses-can-use-crowd-science/'],\n",
       "      'metrics': [{'values': ['2', '0']}]},\n",
       "     {'dimensions': ['/incubator-rus/'], 'metrics': [{'values': ['23', '0']}]},\n",
       "     {'dimensions': ['/java-developer/'], 'metrics': [{'values': ['1', '0']}]},\n",
       "     {'dimensions': ['/jmb-app-is-now-available-in-appstore/'],\n",
       "      'metrics': [{'values': ['1', '0']}]},\n",
       "     {'dimensions': ['/jobs/junior-software-developer-e-mail-support/'],\n",
       "      'metrics': [{'values': ['2', '0']}]},\n",
       "     {'dimensions': ['/jobs/middle-python-developer/'],\n",
       "      'metrics': [{'values': ['2', '0']}]},\n",
       "     {'dimensions': ['/jobs/office-manager-ceo-assistant/'],\n",
       "      'metrics': [{'values': ['2', '0']}]},\n",
       "     {'dimensions': ['/jobs/project-manager-agile-pm-scrum-master/'],\n",
       "      'metrics': [{'values': ['6', '1']}]},\n",
       "     {'dimensions': ['/jobs/python-developer-new-york-company-project/'],\n",
       "      'metrics': [{'values': ['1', '0']}]},\n",
       "     {'dimensions': ['/jobs/python-developer/'],\n",
       "      'metrics': [{'values': ['4', '0']}]},\n",
       "     {'dimensions': ['/jobs/react-js-developer-start-now/'],\n",
       "      'metrics': [{'values': ['1', '0']}]},\n",
       "     {'dimensions': ['/jobs/ux-ui-designer/'],\n",
       "      'metrics': [{'values': ['21', '1']}]},\n",
       "     {'dimensions': ['/maxim-brovenko/'], 'metrics': [{'values': ['1', '0']}]},\n",
       "     {'dimensions': ['/new-exciting-market-niche-pre-travel-shopping/'],\n",
       "      'metrics': [{'values': ['1', '0']}]},\n",
       "     {'dimensions': ['/news/google-g/'], 'metrics': [{'values': ['33', '0']}]},\n",
       "     {'dimensions': ['/partner-portal-built-skein-wins-best-partner-programme-year/'],\n",
       "      'metrics': [{'values': ['3', '0']}]},\n",
       "     {'dimensions': ['/pavel-kozda/'], 'metrics': [{'values': ['1', '0']}]},\n",
       "     {'dimensions': ['/research-phase-tech-innovation-projects/'],\n",
       "      'metrics': [{'values': ['1', '0']}]},\n",
       "     {'dimensions': ['/shalaev-dmitriy/'],\n",
       "      'metrics': [{'values': ['1', '0']}]},\n",
       "     {'dimensions': ['/skein-announces-release-igostories-project/'],\n",
       "      'metrics': [{'values': ['5', '0']}]},\n",
       "     {'dimensions': ['/skein-partnership-with-oil-industry/'],\n",
       "      'metrics': [{'values': ['1', '0']}]},\n",
       "     {'dimensions': ['/skein-presents-at-open-data-institute-summit/'],\n",
       "      'metrics': [{'values': ['1', '0']}]},\n",
       "     {'dimensions': ['/startContent'], 'metrics': [{'values': ['2', '0']}]},\n",
       "     {'dimensions': ['/svitlana-surodina/'],\n",
       "      'metrics': [{'values': ['5', '0']}]},\n",
       "     {'dimensions': ['/technology-business-mentoring/'],\n",
       "      'metrics': [{'values': ['3', '0']}]},\n",
       "     {'dimensions': ['/technology-consultancy-and-team-formation/'],\n",
       "      'metrics': [{'values': ['2', '0']}]},\n",
       "     {'dimensions': ['/terms-and-conditions/'],\n",
       "      'metrics': [{'values': ['1', '0']}]},\n",
       "     {'dimensions': ['/ux'], 'metrics': [{'values': ['1', '0']}]},\n",
       "     {'dimensions': ['/ux/'], 'metrics': [{'values': ['21', '0']}]},\n",
       "     {'dimensions': ['/ux/ux-analysis-result/'],\n",
       "      'metrics': [{'values': ['14', '0']}]},\n",
       "     {'dimensions': ['/what_we_do_lean_innovation/'],\n",
       "      'metrics': [{'values': ['25', '0']}]}],\n",
       "    'totals': [{'values': ['1775', '57']}]}}]}"
      ]
     },
     "execution_count": 15,
     "metadata": {},
     "output_type": "execute_result"
    }
   ],
   "source": [
    "input1 = input0['data']\n",
    "input1"
   ]
  },
  {
   "cell_type": "code",
   "execution_count": 34,
   "metadata": {
    "collapsed": false
   },
   "outputs": [
    {
     "data": {
      "text/plain": [
       "{'isDataGolden': True,\n",
       " 'maximums': [{'values': ['1030', '50']}],\n",
       " 'minimums': [{'values': ['1', '0']}],\n",
       " 'rowCount': 56,\n",
       " 'rows': [{'dimensions': ['/'], 'metrics': [{'values': ['1030', '50']}]},\n",
       "  {'dimensions': ['/2017-data-technology-trends/'],\n",
       "   'metrics': [{'values': ['20', '0']}]},\n",
       "  {'dimensions': ['/7-easy-ways-to-make-your-webpage-sell-more-of-you-product/'],\n",
       "   'metrics': [{'values': ['1', '0']}]},\n",
       "  {'dimensions': ['/careers./'], 'metrics': [{'values': ['6', '0']}]},\n",
       "  {'dimensions': ['/careers/'], 'metrics': [{'values': ['227', '0']}]},\n",
       "  {'dimensions': ['/Careers/'], 'metrics': [{'values': ['6', '0']}]},\n",
       "  {'dimensions': ['/careers~~pobj.'], 'metrics': [{'values': ['1', '0']}]},\n",
       "  {'dimensions': ['/case-studies/'], 'metrics': [{'values': ['101', '0']}]},\n",
       "  {'dimensions': ['/case-studies/c24tech-swift-blockchain/'],\n",
       "   'metrics': [{'values': ['26', '1']}]},\n",
       "  {'dimensions': ['/case-studies/cools/'],\n",
       "   'metrics': [{'values': ['14', '0']}]},\n",
       "  {'dimensions': ['/case-studies/toothscan-dental-app/'],\n",
       "   'metrics': [{'values': ['21', '0']}]},\n",
       "  {'dimensions': ['/case-studies/tp-link-partner-portal/'],\n",
       "   'metrics': [{'values': ['13', '0']}]},\n",
       "  {'dimensions': ['/case-studies/travel-weekly/'],\n",
       "   'metrics': [{'values': ['22', '1']}]},\n",
       "  {'dimensions': ['/case-studies/we-are-models/'],\n",
       "   'metrics': [{'values': ['8', '0']}]},\n",
       "  {'dimensions': ['/category/blog/'], 'metrics': [{'values': ['11', '0']}]},\n",
       "  {'dimensions': ['/category/blog/dev-blog/'],\n",
       "   'metrics': [{'values': ['2', '0']}]},\n",
       "  {'dimensions': ['/category/blog/lean-innovation-methodology/'],\n",
       "   'metrics': [{'values': ['2', '0']}]},\n",
       "  {'dimensions': ['/category/uncategorized/'],\n",
       "   'metrics': [{'values': ['1', '0']}]},\n",
       "  {'dimensions': ['/contact-kyiv/'], 'metrics': [{'values': ['1', '0']}]},\n",
       "  {'dimensions': ['/contact-us/'], 'metrics': [{'values': ['14', '3']}]},\n",
       "  {'dimensions': ['/development-for-technology-companies/'],\n",
       "   'metrics': [{'values': ['2', '0']}]},\n",
       "  {'dimensions': ['/en_us/article/google-wins-legal-battle-against-pro-trump-spammer-over-the-letter-g'],\n",
       "   'metrics': [{'values': ['16', '0']}]},\n",
       "  {'dimensions': ['/funding-for-high-growth-ventures/'],\n",
       "   'metrics': [{'values': ['1', '0']}]},\n",
       "  {'dimensions': ['/google-liar-ru-spam-in-analytics/'],\n",
       "   'metrics': [{'values': ['40', '0']}]},\n",
       "  {'dimensions': ['/home'], 'metrics': [{'values': ['1', '0']}]},\n",
       "  {'dimensions': ['/how-businesses-can-use-crowd-science/'],\n",
       "   'metrics': [{'values': ['2', '0']}]},\n",
       "  {'dimensions': ['/incubator-rus/'], 'metrics': [{'values': ['23', '0']}]},\n",
       "  {'dimensions': ['/java-developer/'], 'metrics': [{'values': ['1', '0']}]},\n",
       "  {'dimensions': ['/jmb-app-is-now-available-in-appstore/'],\n",
       "   'metrics': [{'values': ['1', '0']}]},\n",
       "  {'dimensions': ['/jobs/junior-software-developer-e-mail-support/'],\n",
       "   'metrics': [{'values': ['2', '0']}]},\n",
       "  {'dimensions': ['/jobs/middle-python-developer/'],\n",
       "   'metrics': [{'values': ['2', '0']}]},\n",
       "  {'dimensions': ['/jobs/office-manager-ceo-assistant/'],\n",
       "   'metrics': [{'values': ['2', '0']}]},\n",
       "  {'dimensions': ['/jobs/project-manager-agile-pm-scrum-master/'],\n",
       "   'metrics': [{'values': ['6', '1']}]},\n",
       "  {'dimensions': ['/jobs/python-developer-new-york-company-project/'],\n",
       "   'metrics': [{'values': ['1', '0']}]},\n",
       "  {'dimensions': ['/jobs/python-developer/'],\n",
       "   'metrics': [{'values': ['4', '0']}]},\n",
       "  {'dimensions': ['/jobs/react-js-developer-start-now/'],\n",
       "   'metrics': [{'values': ['1', '0']}]},\n",
       "  {'dimensions': ['/jobs/ux-ui-designer/'],\n",
       "   'metrics': [{'values': ['21', '1']}]},\n",
       "  {'dimensions': ['/maxim-brovenko/'], 'metrics': [{'values': ['1', '0']}]},\n",
       "  {'dimensions': ['/new-exciting-market-niche-pre-travel-shopping/'],\n",
       "   'metrics': [{'values': ['1', '0']}]},\n",
       "  {'dimensions': ['/news/google-g/'], 'metrics': [{'values': ['33', '0']}]},\n",
       "  {'dimensions': ['/partner-portal-built-skein-wins-best-partner-programme-year/'],\n",
       "   'metrics': [{'values': ['3', '0']}]},\n",
       "  {'dimensions': ['/pavel-kozda/'], 'metrics': [{'values': ['1', '0']}]},\n",
       "  {'dimensions': ['/research-phase-tech-innovation-projects/'],\n",
       "   'metrics': [{'values': ['1', '0']}]},\n",
       "  {'dimensions': ['/shalaev-dmitriy/'], 'metrics': [{'values': ['1', '0']}]},\n",
       "  {'dimensions': ['/skein-announces-release-igostories-project/'],\n",
       "   'metrics': [{'values': ['5', '0']}]},\n",
       "  {'dimensions': ['/skein-partnership-with-oil-industry/'],\n",
       "   'metrics': [{'values': ['1', '0']}]},\n",
       "  {'dimensions': ['/skein-presents-at-open-data-institute-summit/'],\n",
       "   'metrics': [{'values': ['1', '0']}]},\n",
       "  {'dimensions': ['/startContent'], 'metrics': [{'values': ['2', '0']}]},\n",
       "  {'dimensions': ['/svitlana-surodina/'], 'metrics': [{'values': ['5', '0']}]},\n",
       "  {'dimensions': ['/technology-business-mentoring/'],\n",
       "   'metrics': [{'values': ['3', '0']}]},\n",
       "  {'dimensions': ['/technology-consultancy-and-team-formation/'],\n",
       "   'metrics': [{'values': ['2', '0']}]},\n",
       "  {'dimensions': ['/terms-and-conditions/'],\n",
       "   'metrics': [{'values': ['1', '0']}]},\n",
       "  {'dimensions': ['/ux'], 'metrics': [{'values': ['1', '0']}]},\n",
       "  {'dimensions': ['/ux/'], 'metrics': [{'values': ['21', '0']}]},\n",
       "  {'dimensions': ['/ux/ux-analysis-result/'],\n",
       "   'metrics': [{'values': ['14', '0']}]},\n",
       "  {'dimensions': ['/what_we_do_lean_innovation/'],\n",
       "   'metrics': [{'values': ['25', '0']}]}],\n",
       " 'totals': [{'values': ['1775', '57']}]}"
      ]
     },
     "execution_count": 34,
     "metadata": {},
     "output_type": "execute_result"
    }
   ],
   "source": [
    "input2 = input1['reports']\n",
    "a = {'a':1}\n",
    "input2[0]['data']\n",
    "#input2"
   ]
  },
  {
   "cell_type": "code",
   "execution_count": 24,
   "metadata": {
    "collapsed": false
   },
   "outputs": [
    {
     "data": {
      "text/html": [
       "<div>\n",
       "<table border=\"1\" class=\"dataframe\">\n",
       "  <thead>\n",
       "    <tr style=\"text-align: right;\">\n",
       "      <th></th>\n",
       "      <th>data</th>\n",
       "      <th>error</th>\n",
       "      <th>msg</th>\n",
       "    </tr>\n",
       "  </thead>\n",
       "  <tbody>\n",
       "    <tr>\n",
       "      <th>reports</th>\n",
       "      <td>[{'data': {'maximums': [{'values': ['1030', '5...</td>\n",
       "      <td>False</td>\n",
       "      <td>Retrieve</td>\n",
       "    </tr>\n",
       "  </tbody>\n",
       "</table>\n",
       "</div>"
      ],
      "text/plain": [
       "                                                      data  error       msg\n",
       "reports  [{'data': {'maximums': [{'values': ['1030', '5...  False  Retrieve"
      ]
     },
     "execution_count": 24,
     "metadata": {},
     "output_type": "execute_result"
    }
   ],
   "source": [
    "import pandas\n",
    "\n",
    "init=pandas.read_json('data/SKEIN_test.json')\n",
    "init"
   ]
  },
  {
   "cell_type": "code",
   "execution_count": 8,
   "metadata": {
    "collapsed": false
   },
   "outputs": [
    {
     "data": {
      "text/plain": [
       "reports    [{'data': {'maximums': [{'values': ['1030', '5...\n",
       "Name: data, dtype: object"
      ]
     },
     "execution_count": 8,
     "metadata": {},
     "output_type": "execute_result"
    }
   ],
   "source": [
    "data=init['data']\n",
    "data"
   ]
  },
  {
   "cell_type": "code",
   "execution_count": null,
   "metadata": {
    "collapsed": true
   },
   "outputs": [],
   "source": []
  }
 ],
 "metadata": {
  "kernelspec": {
   "display_name": "Python 3",
   "language": "python",
   "name": "python3"
  },
  "language_info": {
   "codemirror_mode": {
    "name": "ipython",
    "version": 3
   },
   "file_extension": ".py",
   "mimetype": "text/x-python",
   "name": "python",
   "nbconvert_exporter": "python",
   "pygments_lexer": "ipython3",
   "version": "3.6.0"
  }
 },
 "nbformat": 4,
 "nbformat_minor": 2
}
