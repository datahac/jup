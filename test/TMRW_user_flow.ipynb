{
 "cells": [
  {
   "cell_type": "code",
   "execution_count": 220,
   "metadata": {
    "collapsed": false,
    "scrolled": false
   },
   "outputs": [
    {
     "name": "stdout",
     "output_type": "stream",
     "text": [
      "[{'columnHeader': {'dimensions': ['ga:goalCompletionLocation'],\n",
      "                   'metricHeader': {'metricHeaderEntries': [{'name': 'ga:goal1Completions',\n",
      "                                                             'type': 'INTEGER'}]}},\n",
      "  'data': {'isDataGolden': True,\n",
      "           'maximums': [{'values': ['85']}],\n",
      "           'minimums': [{'values': ['22']}],\n",
      "           'rowCount': 3,\n",
      "           'rows': [{'dimensions': ['/'], 'metrics': [{'values': ['85']}]},\n",
      "                    {'dimensions': ['/TMRW_Byte_Cafe.php'],\n",
      "                     'metrics': [{'values': ['22']}]},\n",
      "                    {'dimensions': ['/TMRW_FAQs.php'],\n",
      "                     'metrics': [{'values': ['24']}]}],\n",
      "           'totals': [{'values': ['131']}]}}]\n"
     ]
    }
   ],
   "source": [
    "import json\n",
    "from pprint import pprint\n",
    "\n",
    "with open('data/TMRW_goal1_goalloc.json') as file: \n",
    "    goals = json.load(file)\n",
    "\n",
    "goals = goals[\"reports\"]\n",
    "pprint(goals)"
   ]
  },
  {
   "cell_type": "code",
   "execution_count": 221,
   "metadata": {
    "collapsed": false
   },
   "outputs": [
    {
     "data": {
      "text/plain": [
       "[{'dimensions': ['/'], 'metrics': [{'values': ['85']}]},\n",
       " {'dimensions': ['/TMRW_Byte_Cafe.php'], 'metrics': [{'values': ['22']}]},\n",
       " {'dimensions': ['/TMRW_FAQs.php'], 'metrics': [{'values': ['24']}]}]"
      ]
     },
     "execution_count": 221,
     "metadata": {},
     "output_type": "execute_result"
    }
   ],
   "source": [
    "goals = goals[0]['data']['rows']\n",
    "goals"
   ]
  },
  {
   "cell_type": "code",
   "execution_count": 222,
   "metadata": {
    "collapsed": false
   },
   "outputs": [
    {
     "data": {
      "text/plain": [
       "{'/': 85, '/TMRW_Byte_Cafe.php': 22, '/TMRW_FAQs.php': 24}"
      ]
     },
     "execution_count": 222,
     "metadata": {},
     "output_type": "execute_result"
    }
   ],
   "source": [
    "def create_dict(x):\n",
    "    goals_dict = {}\n",
    "\n",
    "    for s in x:\n",
    "        \n",
    "        #print (str((s['dimensions'])))\n",
    "        #print (s['metrics'][0]['values'])\n",
    "        #session_dict[] = 0\n",
    "        goals_dict[s['dimensions'][0]] = int(s['metrics'][0]['values'][0])\n",
    "        #session_dict[s['dimensions']] = s['metrics'][0]['values']\n",
    "    \n",
    "    return goals_dict\n",
    "        \n",
    "\n",
    "goals_dict = (create_dict(goals))\n",
    "\n",
    "goals_dict"
   ]
  },
  {
   "cell_type": "code",
   "execution_count": 223,
   "metadata": {
    "collapsed": false,
    "scrolled": true
   },
   "outputs": [
    {
     "name": "stdout",
     "output_type": "stream",
     "text": [
      "[{'columnHeader': {'dimensions': ['ga:pagePath'],\n",
      "                   'metricHeader': {'metricHeaderEntries': [{'name': 'ga:sessions',\n",
      "                                                             'type': 'INTEGER'}]}},\n",
      "  'data': {'isDataGolden': True,\n",
      "           'maximums': [{'values': ['5925']}],\n",
      "           'minimums': [{'values': ['79']}],\n",
      "           'rowCount': 6,\n",
      "           'rows': [{'dimensions': ['/'], 'metrics': [{'values': ['5925']}]},\n",
      "                    {'dimensions': ['/TMRW_Byte_Cafe.php'],\n",
      "                     'metrics': [{'values': ['270']}]},\n",
      "                    {'dimensions': ['/TMRW_FAQs.php'],\n",
      "                     'metrics': [{'values': ['129']}]},\n",
      "                    {'dimensions': ['/TMRW_the_team.php'],\n",
      "                     'metrics': [{'values': ['140']}]},\n",
      "                    {'dimensions': ['/trainstrikes.php'],\n",
      "                     'metrics': [{'values': ['231']}]},\n",
      "                    {'dimensions': ['/voteforbyte.php'],\n",
      "                     'metrics': [{'values': ['79']}]}],\n",
      "           'totals': [{'values': ['6774']}]}}]\n"
     ]
    }
   ],
   "source": [
    "with open('data/TMRW_sess_page.json') as file: \n",
    "    sessions = json.load(file)\n",
    "\n",
    "sessions = sessions[\"reports\"]\n",
    "pprint(sessions)"
   ]
  },
  {
   "cell_type": "code",
   "execution_count": 224,
   "metadata": {
    "collapsed": false,
    "scrolled": true
   },
   "outputs": [
    {
     "data": {
      "text/plain": [
       "[{'dimensions': ['/'], 'metrics': [{'values': ['5925']}]},\n",
       " {'dimensions': ['/TMRW_Byte_Cafe.php'], 'metrics': [{'values': ['270']}]},\n",
       " {'dimensions': ['/TMRW_FAQs.php'], 'metrics': [{'values': ['129']}]},\n",
       " {'dimensions': ['/TMRW_the_team.php'], 'metrics': [{'values': ['140']}]},\n",
       " {'dimensions': ['/trainstrikes.php'], 'metrics': [{'values': ['231']}]},\n",
       " {'dimensions': ['/voteforbyte.php'], 'metrics': [{'values': ['79']}]}]"
      ]
     },
     "execution_count": 224,
     "metadata": {},
     "output_type": "execute_result"
    }
   ],
   "source": [
    "sessions = sessions[0]['data']['rows']\n",
    "sessions"
   ]
  },
  {
   "cell_type": "code",
   "execution_count": 313,
   "metadata": {
    "collapsed": false,
    "scrolled": true
   },
   "outputs": [
    {
     "data": {
      "text/plain": [
       "{'/': 5925,\n",
       " '/TMRW_Byte_Cafe.php': 270,\n",
       " '/TMRW_FAQs.php': 129,\n",
       " '/TMRW_the_team.php': 140,\n",
       " '/trainstrikes.php': 231,\n",
       " '/voteforbyte.php': 79}"
      ]
     },
     "execution_count": 313,
     "metadata": {},
     "output_type": "execute_result"
    }
   ],
   "source": [
    "def create_dict(x):\n",
    "    sessions_dict = {}\n",
    "\n",
    "    for s in x:\n",
    "        \n",
    "        #print (str((s['dimensions'])))\n",
    "        #print (s['metrics'][0]['values'])\n",
    "        #session_dict[] = 0\n",
    "        sessions_dict[s['dimensions'][0]] = int(s['metrics'][0]['values'][0])\n",
    "        #session_dict[s['dimensions']] = s['metrics'][0]['values']\n",
    "    \n",
    "    return sessions_dict\n",
    "        \n",
    "\n",
    "sessions_dict = (create_dict(sessions))\n",
    "\n",
    "sessions_dict"
   ]
  },
  {
   "cell_type": "code",
   "execution_count": 314,
   "metadata": {
    "collapsed": false
   },
   "outputs": [
    {
     "data": {
      "text/plain": [
       "['/',\n",
       " '/TMRW_Byte_Cafe.php',\n",
       " '/TMRW_FAQs.php',\n",
       " '/TMRW_the_team.php',\n",
       " '/trainstrikes.php',\n",
       " '/voteforbyte.php']"
      ]
     },
     "execution_count": 314,
     "metadata": {},
     "output_type": "execute_result"
    }
   ],
   "source": [
    "dictionaryKeys = []\n",
    "\n",
    "# For each key in the dictionary's keys,\n",
    "for key in sessions_dict.keys():\n",
    "    # add the key to dictionaryKeys\n",
    "    dictionaryKeys.append(key)\n",
    "\n",
    "# View the dictionaryKeys list\n",
    "dictionaryKeys"
   ]
  },
  {
   "cell_type": "code",
   "execution_count": 348,
   "metadata": {
    "collapsed": false
   },
   "outputs": [
    {
     "data": {
      "text/plain": [
       "['/',\n",
       " '/TMRW_Byte_Cafe.php',\n",
       " '/TMRW_FAQs.php',\n",
       " '/TMRW_the_team.php',\n",
       " '/trainstrikes.php',\n",
       " '/voteforbyte.php']"
      ]
     },
     "execution_count": 348,
     "metadata": {},
     "output_type": "execute_result"
    }
   ],
   "source": [
    "dictionaryKey1 = []\n",
    "\n",
    "# For each key in the dictionary's keys,\n",
    "for key in sessions_dict.keys():\n",
    "    # add the key to dictionaryKeys\n",
    "    dictionaryKey1.append(key)\n",
    "\n",
    "# View the dictionaryKeys list\n",
    "dictionaryKey1"
   ]
  },
  {
   "cell_type": "code",
   "execution_count": 349,
   "metadata": {
    "collapsed": false,
    "scrolled": true
   },
   "outputs": [
    {
     "data": {
      "text/plain": [
       "['/', '/TMRW_Byte_Cafe.php', '/TMRW_FAQs.php']"
      ]
     },
     "execution_count": 349,
     "metadata": {},
     "output_type": "execute_result"
    }
   ],
   "source": [
    "dictionaryKey2 = []\n",
    "\n",
    "# For each key in the dictionary's keys,\n",
    "for key in goals_dict.keys():\n",
    "    # add the key to dictionaryKeys\n",
    "    dictionaryKey2.append(key)\n",
    "\n",
    "# View the dictionaryKeys list\n",
    "dictionaryKey2"
   ]
  },
  {
   "cell_type": "code",
   "execution_count": 355,
   "metadata": {
    "collapsed": false
   },
   "outputs": [
    {
     "data": {
      "text/plain": [
       "True"
      ]
     },
     "execution_count": 355,
     "metadata": {},
     "output_type": "execute_result"
    }
   ],
   "source": [
    "if dictionaryKey2[0] == dictionaryKey1[0]:\n",
    "    r = True\n",
    "\n",
    "else:\n",
    "    r = False\n",
    "\n",
    "r"
   ]
  },
  {
   "cell_type": "code",
   "execution_count": 339,
   "metadata": {
    "collapsed": false
   },
   "outputs": [
    {
     "name": "stdout",
     "output_type": "stream",
     "text": [
      "{'/': 1.4345991561181435, '/TMRW_Byte_Cafe.php': 8.148148148148149, '/TMRW_FAQs.php': 18.6046511627907}\n"
     ]
    }
   ],
   "source": [
    "if r == True:\n",
    "    conv_rate_dict= {}\n",
    "    for page in goals_dict:\n",
    "        conv_rate = (goals_dict[page]/(sessions_dict[page])*100)\n",
    "        conv_rate_dict[page] = conv_rate \n",
    "        \n",
    "    print(conv_rate_dict)\n",
    "\n",
    "else:\n",
    "    print(Error)\n",
    " "
   ]
  },
  {
   "cell_type": "code",
   "execution_count": 340,
   "metadata": {
    "collapsed": false
   },
   "outputs": [
    {
     "data": {
      "text/plain": [
       "[1.4345991561181435, 8.148148148148149, 18.6046511627907]"
      ]
     },
     "execution_count": 340,
     "metadata": {},
     "output_type": "execute_result"
    }
   ],
   "source": [
    "dictValues = []\n",
    "\n",
    "# For each key in the dict's Values,\n",
    "for x in conv_rate_dict.values():\n",
    "    # add the key to dictValues\n",
    "    dictValues.append(x)\n",
    "\n",
    "# View the dictionaryValues list\n",
    "dictValues"
   ]
  },
  {
   "cell_type": "code",
   "execution_count": 341,
   "metadata": {
    "collapsed": false
   },
   "outputs": [
    {
     "data": {
      "text/plain": [
       "18.6"
      ]
     },
     "execution_count": 341,
     "metadata": {},
     "output_type": "execute_result"
    }
   ],
   "source": [
    "max_value = max(dictValues)\n",
    "max_value = round(max_value,2)\n",
    "max_value"
   ]
  },
  {
   "cell_type": "code",
   "execution_count": 342,
   "metadata": {
    "collapsed": false
   },
   "outputs": [
    {
     "data": {
      "text/plain": [
       "1.43"
      ]
     },
     "execution_count": 342,
     "metadata": {},
     "output_type": "execute_result"
    }
   ],
   "source": [
    "min_value = min(dictValues)\n",
    "min_value = round(min_value,2)\n",
    "min_value"
   ]
  },
  {
   "cell_type": "code",
   "execution_count": 343,
   "metadata": {
    "collapsed": false
   },
   "outputs": [
    {
     "data": {
      "text/plain": [
       "'/TMRW_FAQs.php'"
      ]
     },
     "execution_count": 343,
     "metadata": {},
     "output_type": "execute_result"
    }
   ],
   "source": [
    "max_page = max(conv_rate_dict, key=conv_rate_dict.get)\n",
    "\n",
    "if max_page == '/':\n",
    "    max_page = \"homepage\"\n",
    "else:\n",
    "    max_page = max_page\n",
    "\n",
    "max_page"
   ]
  },
  {
   "cell_type": "code",
   "execution_count": 344,
   "metadata": {
    "collapsed": false
   },
   "outputs": [
    {
     "data": {
      "text/plain": [
       "'homepage'"
      ]
     },
     "execution_count": 344,
     "metadata": {},
     "output_type": "execute_result"
    }
   ],
   "source": [
    "min_page = min(conv_rate_dict, key=conv_rate_dict.get)\n",
    "\n",
    "if min_page == '/':\n",
    "    min_page = \"homepage\"\n",
    "else:\n",
    "    min_page = min_page\n",
    "\n",
    "min_page\n"
   ]
  },
  {
   "cell_type": "code",
   "execution_count": 345,
   "metadata": {
    "collapsed": false,
    "scrolled": true
   },
   "outputs": [
    {
     "name": "stdout",
     "output_type": "stream",
     "text": [
      "Page:\"/TMRW_FAQs.php\" has the highest Conversion Rate - 18.6% .\n"
     ]
    }
   ],
   "source": [
    "print('Page:\"%s' % max_page + '\" has the highest Conversion Rate - %s' % max_value + '% .' )"
   ]
  },
  {
   "cell_type": "code",
   "execution_count": 346,
   "metadata": {
    "collapsed": false
   },
   "outputs": [
    {
     "name": "stdout",
     "output_type": "stream",
     "text": [
      "Page:\"homepage\" has the lowest Conversion Rate - 1.43% .\n"
     ]
    }
   ],
   "source": [
    "print('Page:\"%s'% min_page + '\" has the lowest Conversion Rate - %s' % min_value + '% .' )"
   ]
  },
  {
   "cell_type": "code",
   "execution_count": null,
   "metadata": {
    "collapsed": true
   },
   "outputs": [],
   "source": []
  },
  {
   "cell_type": "code",
   "execution_count": null,
   "metadata": {
    "collapsed": true
   },
   "outputs": [],
   "source": []
  }
 ],
 "metadata": {
  "kernelspec": {
   "display_name": "Python 3",
   "language": "python",
   "name": "python3"
  },
  "language_info": {
   "codemirror_mode": {
    "name": "ipython",
    "version": 3
   },
   "file_extension": ".py",
   "mimetype": "text/x-python",
   "name": "python",
   "nbconvert_exporter": "python",
   "pygments_lexer": "ipython3",
   "version": "3.6.0"
  }
 },
 "nbformat": 4,
 "nbformat_minor": 2
}
