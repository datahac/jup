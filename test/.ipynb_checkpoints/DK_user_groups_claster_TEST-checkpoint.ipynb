{
 "cells": [
  {
   "cell_type": "markdown",
   "metadata": {},
   "source": [
    "# User groups"
   ]
  },
  {
   "cell_type": "code",
   "execution_count": 1,
   "metadata": {
    "collapsed": true
   },
   "outputs": [],
   "source": [
    "request = \"POST https://analyticsreporting.googleapis.com/v4/reports:batchGet?fields=reports(columnHeader%2Cdata(rows%2Ctotals))&key={YOUR_API_KEY}\"\n",
    "request = {\n",
    " \"reportRequests\": [\n",
    "  {\n",
    "   \"viewId\": \"123303369\",\n",
    "   \"dateRanges\": [\n",
    "    {\n",
    "     \"startDate\": \"2017-01-01\",\n",
    "     \"endDate\": \"2017-04-30\"\n",
    "    }\n",
    "   ],\n",
    "   \"metrics\": [\n",
    "    {\n",
    "     \"expression\": \"ga:sessions\"\n",
    "    },\n",
    "    {\n",
    "     \"expression\": \"ga:sessionDuration\"\n",
    "    },\n",
    "    {\n",
    "     \"expression\": \"ga:goal1Completions\"\n",
    "    },\n",
    "    {\n",
    "     \"expression\": \"ga:bounceRate\"\n",
    "    }\n",
    "   ],\n",
    "   \"dimensions\": [\n",
    "    {\n",
    "     \"name\": \"ga:city\"\n",
    "    },\n",
    "    {\n",
    "     \"name\": \"ga:userAgeBracket\"\n",
    "    }\n",
    "   ]\n",
    "  }\n",
    " ]\n",
    "}"
   ]
  },
  {
   "cell_type": "code",
   "execution_count": 2,
   "metadata": {
    "collapsed": false
   },
   "outputs": [
    {
     "data": {
      "text/plain": [
       "[{'dimensions': ['(not set)', '25-34'],\n",
       "  'metrics': [{'values': ['27', '1848.0', '1', '62.96296296296296']}]},\n",
       " {'dimensions': ['(not set)', '35-44'],\n",
       "  'metrics': [{'values': ['23', '1790.0', '1', '52.17391304347826']}]},\n",
       " {'dimensions': ['Croydon', '18-24'],\n",
       "  'metrics': [{'values': ['101', '10047.0', '4', '41.584158415841586']}]},\n",
       " {'dimensions': ['Croydon', '25-34'],\n",
       "  'metrics': [{'values': ['334', '62737.0', '17', '47.90419161676647']}]},\n",
       " {'dimensions': ['Croydon', '35-44'],\n",
       "  'metrics': [{'values': ['223', '34564.0', '7', '43.04932735426009']}]},\n",
       " {'dimensions': ['Croydon', '45-54'],\n",
       "  'metrics': [{'values': ['90', '14131.0', '2', '45.55555555555556']}]},\n",
       " {'dimensions': ['Croydon', '55-64'],\n",
       "  'metrics': [{'values': ['32', '1932.0', '1', '53.125']}]},\n",
       " {'dimensions': ['Hove', '35-44'],\n",
       "  'metrics': [{'values': ['12', '833.0', '1', '16.666666666666664']}]},\n",
       " {'dimensions': ['London', '18-24'],\n",
       "  'metrics': [{'values': ['167', '29335.0', '8', '49.700598802395206']}]},\n",
       " {'dimensions': ['London', '25-34'],\n",
       "  'metrics': [{'values': ['842', '84813.0', '24', '59.14489311163895']}]},\n",
       " {'dimensions': ['London', '35-44'],\n",
       "  'metrics': [{'values': ['482', '56008.0', '14', '54.77178423236515']}]},\n",
       " {'dimensions': ['London', '45-54'],\n",
       "  'metrics': [{'values': ['205', '26525.0', '3', '55.60975609756098']}]},\n",
       " {'dimensions': ['London', '55-64'],\n",
       "  'metrics': [{'values': ['37', '3329.0', '0', '48.64864864864865']}]},\n",
       " {'dimensions': ['London', '65+'],\n",
       "  'metrics': [{'values': ['15', '2224.0', '1', '66.66666666666666']}]}]"
      ]
     },
     "execution_count": 2,
     "metadata": {},
     "output_type": "execute_result"
    }
   ],
   "source": [
    "import json\n",
    "\n",
    "with open('data/TMRW_users.json') as file:\n",
    "    input_ugroups = json.load(file)\n",
    "    \n",
    "#input_ugroups\n",
    "\n",
    "# Define dimensions list\n",
    "input_ugroups_dimensions = input_ugroups['reports'][0]['columnHeader']['dimensions']\n",
    "\n",
    "dimension_count = len(input_ugroups_dimensions)\n",
    "\n",
    "# Define metrics list\n",
    "input_ugroups_metrics = input_ugroups['reports'][0]['columnHeader']['metricHeader']['metricHeaderEntries']\n",
    "\n",
    "def create_metric_list(raw_data):\n",
    "    lst = []\n",
    "    for item in raw_data:\n",
    "        lst.append(item['name'])\n",
    "    return lst\n",
    "\n",
    "input_ugroups_metrics = create_metric_list(input_ugroups_metrics)\n",
    "\n",
    "\n",
    "# Create input data\n",
    "\n",
    "input_ugroups_data = input_ugroups['reports'][0]['data']['rows']\n",
    "\n",
    "input_ugroups_data"
   ]
  },
  {
   "cell_type": "code",
   "execution_count": 3,
   "metadata": {
    "collapsed": false
   },
   "outputs": [
    {
     "data": {
      "text/plain": [
       "[{'(not set), 25-34': {'values': ['27',\n",
       "    '1848.0',\n",
       "    '1',\n",
       "    '62.96296296296296',\n",
       "    3.7]}},\n",
       " {'(not set), 35-44': {'values': ['23',\n",
       "    '1790.0',\n",
       "    '1',\n",
       "    '52.17391304347826',\n",
       "    4.35]}},\n",
       " {'Croydon, 18-24': {'values': ['101',\n",
       "    '10047.0',\n",
       "    '4',\n",
       "    '41.584158415841586',\n",
       "    3.96]}},\n",
       " {'Croydon, 25-34': {'values': ['334',\n",
       "    '62737.0',\n",
       "    '17',\n",
       "    '47.90419161676647',\n",
       "    5.09]}},\n",
       " {'Croydon, 35-44': {'values': ['223',\n",
       "    '34564.0',\n",
       "    '7',\n",
       "    '43.04932735426009',\n",
       "    3.14]}},\n",
       " {'Croydon, 45-54': {'values': ['90',\n",
       "    '14131.0',\n",
       "    '2',\n",
       "    '45.55555555555556',\n",
       "    2.22]}},\n",
       " {'Croydon, 55-64': {'values': ['32', '1932.0', '1', '53.125', 3.12]}},\n",
       " {'Hove, 35-44': {'values': ['12', '833.0', '1', '16.666666666666664', 8.33]}},\n",
       " {'London, 18-24': {'values': ['167',\n",
       "    '29335.0',\n",
       "    '8',\n",
       "    '49.700598802395206',\n",
       "    4.79]}},\n",
       " {'London, 25-34': {'values': ['842',\n",
       "    '84813.0',\n",
       "    '24',\n",
       "    '59.14489311163895',\n",
       "    2.85]}},\n",
       " {'London, 35-44': {'values': ['482',\n",
       "    '56008.0',\n",
       "    '14',\n",
       "    '54.77178423236515',\n",
       "    2.9]}},\n",
       " {'London, 45-54': {'values': ['205',\n",
       "    '26525.0',\n",
       "    '3',\n",
       "    '55.60975609756098',\n",
       "    1.46]}},\n",
       " {'London, 55-64': {'values': ['37',\n",
       "    '3329.0',\n",
       "    '0',\n",
       "    '48.64864864864865',\n",
       "    0.0]}},\n",
       " {'London, 65+': {'values': ['15', '2224.0', '1', '66.66666666666666', 6.67]}}]"
      ]
     },
     "execution_count": 3,
     "metadata": {},
     "output_type": "execute_result"
    }
   ],
   "source": [
    "values_list = []\n",
    "for group in input_ugroups_data:\n",
    "    new_dim_name = group['dimensions'][0] + \", \" + group['dimensions'][1]\n",
    "    group[new_dim_name] = group['metrics'][0]\n",
    "    del group['dimensions']\n",
    "    del group['metrics']\n",
    "    \n",
    "    conv_rate = round(float(int(group[new_dim_name]['values'][2])/int(group[new_dim_name]['values'][0])*100),2)\n",
    "    values_list.append(group[new_dim_name]['values'])\n",
    "\n",
    "    group[new_dim_name]['values'].append(conv_rate)\n",
    "    \n",
    "    \n",
    "#values_list    \n",
    "input_ugroups_data"
   ]
  },
  {
   "cell_type": "code",
   "execution_count": 4,
   "metadata": {
    "collapsed": false
   },
   "outputs": [],
   "source": [
    "# Define each metric dict\n",
    "\n",
    "ugroups_data = {}\n",
    "\n",
    "for ugroup in input_ugroups_data:\n",
    "    #print (ugroup)\n",
    "    \n",
    "    for gr in ugroup:\n",
    "        ugroups_data[gr] = {'sessions':0,\n",
    "                       'duration':0,\n",
    "                       'bounce rate':0,\n",
    "                       'conversions':0,\n",
    "                       'conversion rate':0}\n",
    "        \n",
    "        ugroups_data[gr]['sessions'] = int(ugroup[gr]['values'][0])\n",
    "        ugroups_data[gr]['duration'] = float(ugroup[gr]['values'][1])\n",
    "        ugroups_data[gr]['conversions'] = int(ugroup[gr]['values'][2])\n",
    "        ugroups_data[gr]['bounce rate'] = float(ugroup[gr]['values'][3])\n",
    "        ugroups_data[gr]['conversion rate'] = float(ugroup[gr]['values'][4])\n",
    "        \n",
    "#ugroups_data"
   ]
  },
  {
   "cell_type": "code",
   "execution_count": 5,
   "metadata": {
    "collapsed": false
   },
   "outputs": [
    {
     "data": {
      "text/plain": [
       "['(not set), 25-34',\n",
       " '(not set), 35-44',\n",
       " 'Croydon, 18-24',\n",
       " 'Croydon, 25-34',\n",
       " 'Croydon, 35-44',\n",
       " 'Croydon, 45-54',\n",
       " 'Croydon, 55-64',\n",
       " 'Hove, 35-44',\n",
       " 'London, 18-24',\n",
       " 'London, 25-34',\n",
       " 'London, 35-44',\n",
       " 'London, 45-54',\n",
       " 'London, 55-64',\n",
       " 'London, 65+']"
      ]
     },
     "execution_count": 5,
     "metadata": {},
     "output_type": "execute_result"
    }
   ],
   "source": [
    "rows = list(ugroups_data.keys())\n",
    "rows"
   ]
  },
  {
   "cell_type": "code",
   "execution_count": 6,
   "metadata": {
    "collapsed": false
   },
   "outputs": [
    {
     "data": {
      "text/plain": [
       "['sessions', 'duration', 'bounce rate', 'conversions', 'conversion rate']"
      ]
     },
     "execution_count": 6,
     "metadata": {},
     "output_type": "execute_result"
    }
   ],
   "source": [
    "import collections\n",
    "from collections import OrderedDict\n",
    "\n",
    "columns = []\n",
    "for u in ugroups_data:\n",
    "    #print (test[r])\n",
    "    for metric in ugroups_data[u]:\n",
    "        columns.append(metric)\n",
    "    \n",
    "columns = list(OrderedDict.fromkeys(columns))    \n",
    "columns"
   ]
  },
  {
   "cell_type": "code",
   "execution_count": 7,
   "metadata": {
    "collapsed": true
   },
   "outputs": [],
   "source": [
    "import pandas as pd"
   ]
  },
  {
   "cell_type": "code",
   "execution_count": 8,
   "metadata": {
    "collapsed": false
   },
   "outputs": [
    {
     "ename": "TypeError",
     "evalue": "Expected String or Unicode",
     "output_type": "error",
     "traceback": [
      "\u001b[0;31m---------------------------------------------------------------------------\u001b[0m",
      "\u001b[0;31mTypeError\u001b[0m                                 Traceback (most recent call last)",
      "\u001b[0;32m<ipython-input-8-35e87e64fee1>\u001b[0m in \u001b[0;36m<module>\u001b[0;34m()\u001b[0m\n\u001b[1;32m      4\u001b[0m \u001b[1;33m\u001b[0m\u001b[0m\n\u001b[1;32m      5\u001b[0m \u001b[0mdf\u001b[0m\u001b[1;33m.\u001b[0m\u001b[0mto_json\u001b[0m\u001b[1;33m(\u001b[0m\u001b[0morient\u001b[0m\u001b[1;33m=\u001b[0m\u001b[1;34m'split'\u001b[0m\u001b[1;33m)\u001b[0m\u001b[1;33m\u001b[0m\u001b[0m\n\u001b[0;32m----> 6\u001b[0;31m \u001b[0mpd\u001b[0m\u001b[1;33m.\u001b[0m\u001b[0mread_json\u001b[0m\u001b[1;33m(\u001b[0m\u001b[0m_\u001b[0m\u001b[1;33m,\u001b[0m \u001b[0morient\u001b[0m\u001b[1;33m=\u001b[0m\u001b[1;34m'split'\u001b[0m\u001b[1;33m)\u001b[0m\u001b[1;33m\u001b[0m\u001b[0m\n\u001b[0m",
      "\u001b[0;32mC:\\ProgramData\\Anaconda3\\lib\\site-packages\\pandas\\io\\json.py\u001b[0m in \u001b[0;36mread_json\u001b[0;34m(path_or_buf, orient, typ, dtype, convert_axes, convert_dates, keep_default_dates, numpy, precise_float, date_unit, encoding, lines)\u001b[0m\n\u001b[1;32m    279\u001b[0m         obj = FrameParser(json, orient, dtype, convert_axes, convert_dates,\n\u001b[1;32m    280\u001b[0m                           \u001b[0mkeep_default_dates\u001b[0m\u001b[1;33m,\u001b[0m \u001b[0mnumpy\u001b[0m\u001b[1;33m,\u001b[0m \u001b[0mprecise_float\u001b[0m\u001b[1;33m,\u001b[0m\u001b[1;33m\u001b[0m\u001b[0m\n\u001b[0;32m--> 281\u001b[0;31m                           date_unit).parse()\n\u001b[0m\u001b[1;32m    282\u001b[0m \u001b[1;33m\u001b[0m\u001b[0m\n\u001b[1;32m    283\u001b[0m     \u001b[1;32mif\u001b[0m \u001b[0mtyp\u001b[0m \u001b[1;33m==\u001b[0m \u001b[1;34m'series'\u001b[0m \u001b[1;32mor\u001b[0m \u001b[0mobj\u001b[0m \u001b[1;32mis\u001b[0m \u001b[1;32mNone\u001b[0m\u001b[1;33m:\u001b[0m\u001b[1;33m\u001b[0m\u001b[0m\n",
      "\u001b[0;32mC:\\ProgramData\\Anaconda3\\lib\\site-packages\\pandas\\io\\json.py\u001b[0m in \u001b[0;36mparse\u001b[0;34m(self)\u001b[0m\n\u001b[1;32m    347\u001b[0m \u001b[1;33m\u001b[0m\u001b[0m\n\u001b[1;32m    348\u001b[0m         \u001b[1;32melse\u001b[0m\u001b[1;33m:\u001b[0m\u001b[1;33m\u001b[0m\u001b[0m\n\u001b[0;32m--> 349\u001b[0;31m             \u001b[0mself\u001b[0m\u001b[1;33m.\u001b[0m\u001b[0m_parse_no_numpy\u001b[0m\u001b[1;33m(\u001b[0m\u001b[1;33m)\u001b[0m\u001b[1;33m\u001b[0m\u001b[0m\n\u001b[0m\u001b[1;32m    350\u001b[0m \u001b[1;33m\u001b[0m\u001b[0m\n\u001b[1;32m    351\u001b[0m         \u001b[1;32mif\u001b[0m \u001b[0mself\u001b[0m\u001b[1;33m.\u001b[0m\u001b[0mobj\u001b[0m \u001b[1;32mis\u001b[0m \u001b[1;32mNone\u001b[0m\u001b[1;33m:\u001b[0m\u001b[1;33m\u001b[0m\u001b[0m\n",
      "\u001b[0;32mC:\\ProgramData\\Anaconda3\\lib\\site-packages\\pandas\\io\\json.py\u001b[0m in \u001b[0;36m_parse_no_numpy\u001b[0;34m(self)\u001b[0m\n\u001b[1;32m    569\u001b[0m                            for k, v in compat.iteritems(loads(\n\u001b[1;32m    570\u001b[0m                                \u001b[0mjson\u001b[0m\u001b[1;33m,\u001b[0m\u001b[1;33m\u001b[0m\u001b[0m\n\u001b[0;32m--> 571\u001b[0;31m                                precise_float=self.precise_float)))\n\u001b[0m\u001b[1;32m    572\u001b[0m             \u001b[0mself\u001b[0m\u001b[1;33m.\u001b[0m\u001b[0mcheck_keys_split\u001b[0m\u001b[1;33m(\u001b[0m\u001b[0mdecoded\u001b[0m\u001b[1;33m)\u001b[0m\u001b[1;33m\u001b[0m\u001b[0m\n\u001b[1;32m    573\u001b[0m             \u001b[0mself\u001b[0m\u001b[1;33m.\u001b[0m\u001b[0mobj\u001b[0m \u001b[1;33m=\u001b[0m \u001b[0mDataFrame\u001b[0m\u001b[1;33m(\u001b[0m\u001b[0mdtype\u001b[0m\u001b[1;33m=\u001b[0m\u001b[1;32mNone\u001b[0m\u001b[1;33m,\u001b[0m \u001b[1;33m**\u001b[0m\u001b[0mdecoded\u001b[0m\u001b[1;33m)\u001b[0m\u001b[1;33m\u001b[0m\u001b[0m\n",
      "\u001b[0;31mTypeError\u001b[0m: Expected String or Unicode"
     ]
    }
   ],
   "source": [
    "df = pd.DataFrame(values_list,\n",
    "                  index = rows,\n",
    "                  columns = columns)\n",
    "\n",
    "df.to_json(orient='split')\n",
    "pd.read_json(_, orient='split')"
   ]
  },
  {
   "cell_type": "code",
   "execution_count": null,
   "metadata": {
    "collapsed": true
   },
   "outputs": [],
   "source": []
  },
  {
   "cell_type": "code",
   "execution_count": null,
   "metadata": {
    "collapsed": true
   },
   "outputs": [],
   "source": []
  },
  {
   "cell_type": "code",
   "execution_count": null,
   "metadata": {
    "collapsed": true
   },
   "outputs": [],
   "source": []
  },
  {
   "cell_type": "code",
   "execution_count": 14,
   "metadata": {
    "collapsed": false
   },
   "outputs": [],
   "source": [
    "import numpy as np\n",
    " \n",
    "def cluster_points(X, mu):\n",
    "    clusters  = {}\n",
    "    for x in X:\n",
    "        bestmukey = min([(i[0], np.linalg.norm(x-mu[i[0]])) \\\n",
    "                    for i in enumerate(mu)], key=lambda t:t[1])[0]\n",
    "        try:\n",
    "            clusters[bestmukey].append(x)\n",
    "        except KeyError:\n",
    "            clusters[bestmukey] = [x]\n",
    "    return clusters\n",
    " \n",
    "def reevaluate_centers(mu, clusters):\n",
    "    newmu = []\n",
    "    keys = sorted(clusters.keys())\n",
    "    for k in keys:\n",
    "        newmu.append(np.mean(clusters[k], axis = 0))\n",
    "    return newmu\n",
    "\n",
    "def has_converged(mu, oldmu):\n",
    "    return set([tuple(a) for a in mu]) == set([tuple(a) for a in oldmu])\n",
    "\n",
    "def find_centers(X, K):\n",
    "    # Initialize to K random centers\n",
    "    oldmu = random.sample(X, K)\n",
    "    mu = random.sample(X, K)\n",
    "    while not has_converged(mu, oldmu):\n",
    "        oldmu = mu\n",
    "        # Assign all points in X to clusters\n",
    "        clusters = cluster_points(X, mu)\n",
    "        # Reevaluate centers\n",
    "        mu = reevaluate_centers(oldmu, clusters)\n",
    "    return(mu, clusters)"
   ]
  },
  {
   "cell_type": "code",
   "execution_count": 15,
   "metadata": {
    "collapsed": false
   },
   "outputs": [],
   "source": [
    "import random\n",
    " \n",
    "def init_board(N):\n",
    "    X = np.array([(random.uniform(-1, 1), random.uniform(-1, 1)) for i in range(N)])\n",
    "    return X"
   ]
  },
  {
   "cell_type": "code",
   "execution_count": 16,
   "metadata": {
    "collapsed": true
   },
   "outputs": [],
   "source": [
    "def init_board_gauss(N, k):\n",
    "    n = float(N)/k\n",
    "    X = []\n",
    "    for i in range(k):\n",
    "        c = (random.uniform(-1, 1), random.uniform(-1, 1))\n",
    "        s = random.uniform(0.05,0.5)\n",
    "        x = []\n",
    "        while len(x) < n:\n",
    "            a, b = np.array([np.random.normal(c[0], s), np.random.normal(c[1], s)])\n",
    "            # Continue drawing points from the distribution in the range [-1,1]\n",
    "            if abs(a) < 1 and abs(b) < 1:\n",
    "                x.append([a,b])\n",
    "        X.extend(x)\n",
    "    X = np.array(X)[:N]\n",
    "    return X"
   ]
  },
  {
   "cell_type": "code",
   "execution_count": 4,
   "metadata": {
    "collapsed": false
   },
   "outputs": [
    {
     "ename": "ModuleNotFoundError",
     "evalue": "No module named 'pybrain'",
     "output_type": "error",
     "traceback": [
      "\u001b[0;31m---------------------------------------------------------------------------\u001b[0m",
      "\u001b[0;31mModuleNotFoundError\u001b[0m                       Traceback (most recent call last)",
      "\u001b[0;32m<ipython-input-4-cd3e1c99c440>\u001b[0m in \u001b[0;36m<module>\u001b[0;34m()\u001b[0m\n\u001b[0;32m----> 1\u001b[0;31m \u001b[1;32mimport\u001b[0m \u001b[0mpybrain\u001b[0m\u001b[1;33m\u001b[0m\u001b[0m\n\u001b[0m\u001b[1;32m      2\u001b[0m \u001b[0mdir\u001b[0m\u001b[1;33m(\u001b[0m\u001b[0mpybrain\u001b[0m\u001b[1;33m)\u001b[0m\u001b[1;33m\u001b[0m\u001b[0m\n",
      "\u001b[0;31mModuleNotFoundError\u001b[0m: No module named 'pybrain'"
     ]
    }
   ],
   "source": [
    "import pybrain\n",
    "dir(pybrain)"
   ]
  },
  {
   "cell_type": "code",
   "execution_count": null,
   "metadata": {
    "collapsed": true
   },
   "outputs": [],
   "source": []
  }
 ],
 "metadata": {
  "kernelspec": {
   "display_name": "Python 3",
   "language": "python",
   "name": "python3"
  },
  "language_info": {
   "codemirror_mode": {
    "name": "ipython",
    "version": 3
   },
   "file_extension": ".py",
   "mimetype": "text/x-python",
   "name": "python",
   "nbconvert_exporter": "python",
   "pygments_lexer": "ipython3",
   "version": "3.6.0"
  }
 },
 "nbformat": 4,
 "nbformat_minor": 2
}
