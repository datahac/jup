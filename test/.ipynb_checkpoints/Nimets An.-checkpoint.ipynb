{
 "cells": [
  {
   "cell_type": "code",
   "execution_count": 5,
   "metadata": {
    "collapsed": true
   },
   "outputs": [],
   "source": [
    "%matplotlib inline"
   ]
  },
  {
   "cell_type": "code",
   "execution_count": 6,
   "metadata": {
    "collapsed": true
   },
   "outputs": [],
   "source": [
    "import pandas as pd\n",
    "import json"
   ]
  },
  {
   "cell_type": "code",
   "execution_count": 10,
   "metadata": {
    "collapsed": true
   },
   "outputs": [],
   "source": [
    "def read_data_from_json(file):\n",
    "    with open(file) as json_data:\n",
    "        data_dict = json.load(json_data)\n",
    "    data_dict = data_dict['reports'][0]['data']['rows']\n",
    "    data = pd.DataFrame.from_dict(data_dict)\n",
    "    data['dimensions'] = data['dimensions'].apply(lambda x: x[0])\n",
    "    data['metrics'] = data['metrics'].apply(lambda x: x[0]['values'][0])\n",
    "    return data"
   ]
  },
  {
   "cell_type": "markdown",
   "metadata": {},
   "source": [
    "### Read data from json"
   ]
  },
  {
   "cell_type": "code",
   "execution_count": 14,
   "metadata": {
    "collapsed": false
   },
   "outputs": [],
   "source": [
    "completion = read_data_from_json('data/Goal1CompletionLocation_Goal1Completions.json')\n",
    "sessions = read_data_from_json('data/Sessions_Page.json')"
   ]
  },
  {
   "cell_type": "markdown",
   "metadata": {},
   "source": [
    "### Compute conversion rate"
   ]
  },
  {
   "cell_type": "code",
   "execution_count": 5,
   "metadata": {
    "collapsed": false
   },
   "outputs": [
    {
     "data": {
      "text/html": [
       "<div>\n",
       "<table border=\"1\" class=\"dataframe\">\n",
       "  <thead>\n",
       "    <tr style=\"text-align: right;\">\n",
       "      <th></th>\n",
       "      <th>Page</th>\n",
       "      <th>Goal1Completions</th>\n",
       "      <th>Sessions</th>\n",
       "      <th>Conversion rate,%</th>\n",
       "    </tr>\n",
       "  </thead>\n",
       "  <tbody>\n",
       "    <tr>\n",
       "      <th>4</th>\n",
       "      <td>/TMRW_Get_in_touch.php</td>\n",
       "      <td>3</td>\n",
       "      <td>4</td>\n",
       "      <td>75.000000</td>\n",
       "    </tr>\n",
       "    <tr>\n",
       "      <th>1</th>\n",
       "      <td>/portfolio-single-gallery.html</td>\n",
       "      <td>1</td>\n",
       "      <td>2</td>\n",
       "      <td>50.000000</td>\n",
       "    </tr>\n",
       "    <tr>\n",
       "      <th>3</th>\n",
       "      <td>/TMRW_FAQs.php</td>\n",
       "      <td>24</td>\n",
       "      <td>129</td>\n",
       "      <td>18.604651</td>\n",
       "    </tr>\n",
       "    <tr>\n",
       "      <th>2</th>\n",
       "      <td>/TMRW_Byte_Cafe.php</td>\n",
       "      <td>22</td>\n",
       "      <td>270</td>\n",
       "      <td>8.148148</td>\n",
       "    </tr>\n",
       "    <tr>\n",
       "      <th>5</th>\n",
       "      <td>/TMRW_the_team.php</td>\n",
       "      <td>5</td>\n",
       "      <td>140</td>\n",
       "      <td>3.571429</td>\n",
       "    </tr>\n",
       "    <tr>\n",
       "      <th>0</th>\n",
       "      <td>/</td>\n",
       "      <td>85</td>\n",
       "      <td>5925</td>\n",
       "      <td>1.434599</td>\n",
       "    </tr>\n",
       "  </tbody>\n",
       "</table>\n",
       "</div>"
      ],
      "text/plain": [
       "                             Page  Goal1Completions  Sessions  \\\n",
       "4          /TMRW_Get_in_touch.php                 3         4   \n",
       "1  /portfolio-single-gallery.html                 1         2   \n",
       "3                  /TMRW_FAQs.php                24       129   \n",
       "2             /TMRW_Byte_Cafe.php                22       270   \n",
       "5              /TMRW_the_team.php                 5       140   \n",
       "0                               /                85      5925   \n",
       "\n",
       "   Conversion rate,%  \n",
       "4          75.000000  \n",
       "1          50.000000  \n",
       "3          18.604651  \n",
       "2           8.148148  \n",
       "5           3.571429  \n",
       "0           1.434599  "
      ]
     },
     "execution_count": 5,
     "metadata": {},
     "output_type": "execute_result"
    }
   ],
   "source": [
    "data = completion.merge(sessions, on='dimensions')\n",
    "data.columns = ['Page','Goal1Completions','Sessions']\n",
    "data[['Goal1Completions','Sessions']] = data[['Goal1Completions','Sessions']].apply(pd.to_numeric)\n",
    "data['Conversion rate,%'] = data.apply(lambda row: 100*row['Goal1Completions']/float(row['Sessions']), axis=1)\n",
    "data = data.sort_values(by='Conversion rate,%', ascending=False)\n",
    "data"
   ]
  },
  {
   "cell_type": "markdown",
   "metadata": {},
   "source": [
    "### Get page with highest conversion rate"
   ]
  },
  {
   "cell_type": "code",
   "execution_count": 6,
   "metadata": {
    "collapsed": false
   },
   "outputs": [
    {
     "name": "stdout",
     "output_type": "stream",
     "text": [
      "The best converting page on your site is '/TMRW_Get_in_touch.php' with conversion rate 75.00%.\n"
     ]
    }
   ],
   "source": [
    "max_conv_rate = data.ix[data['Conversion rate,%'].idxmax()]\n",
    "print('The best converting page on your site is \\'%s\\' with conversion rate %.2f%%.' %(max_conv_rate['Page'], max_conv_rate['Conversion rate,%']))"
   ]
  },
  {
   "cell_type": "markdown",
   "metadata": {},
   "source": [
    "### Histogram"
   ]
  },
  {
   "cell_type": "code",
   "execution_count": 8,
   "metadata": {
    "collapsed": false
   },
   "outputs": [
    {
     "data": {
      "text/plain": [
       "<matplotlib.axes._subplots.AxesSubplot at 0x7fefb91820b8>"
      ]
     },
     "execution_count": 8,
     "metadata": {},
     "output_type": "execute_result"
    },
    {
     "data": {
      "image/png": "[encoded data removed]",
      "text/plain": [
       "<matplotlib.figure.Figure at 0x7fefb918b898>"
      ]
     },
     "metadata": {},
     "output_type": "display_data"
    }
   ],
   "source": [
    "data.set_index('Page')['Conversion rate,%'].plot.bar(rot=40, legend=True)"
   ]
  },
  {
   "cell_type": "code",
   "execution_count": null,
   "metadata": {
    "collapsed": true
   },
   "outputs": [],
   "source": []
  }
 ],
 "metadata": {
  "kernelspec": {
   "display_name": "Python 3",
   "language": "python",
   "name": "python3"
  },
  "language_info": {
   "codemirror_mode": {
    "name": "ipython",
    "version": 3
   },
   "file_extension": ".py",
   "mimetype": "text/x-python",
   "name": "python",
   "nbconvert_exporter": "python",
   "pygments_lexer": "ipython3",
   "version": "3.6.0"
  }
 },
 "nbformat": 4,
 "nbformat_minor": 2
}
