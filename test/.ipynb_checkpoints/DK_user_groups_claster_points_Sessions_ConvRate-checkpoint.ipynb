{
 "cells": [
  {
   "cell_type": "markdown",
   "metadata": {},
   "source": [
    "# User groups"
   ]
  },
  {
   "cell_type": "code",
   "execution_count": 484,
   "metadata": {
    "collapsed": true
   },
   "outputs": [],
   "source": [
    "request = \"POST https://analyticsreporting.googleapis.com/v4/reports:batchGet?fields=reports(columnHeader%2Cdata(rows%2Ctotals))&key={YOUR_API_KEY}\"\n",
    "request = {\n",
    " \"reportRequests\": [\n",
    "  {\n",
    "   \"viewId\": \"123303369\",\n",
    "   \"dateRanges\": [\n",
    "    {\n",
    "     \"startDate\": \"2017-01-01\",\n",
    "     \"endDate\": \"2017-04-30\"\n",
    "    }\n",
    "   ],\n",
    "   \"metrics\": [\n",
    "    {\n",
    "     \"expression\": \"ga:sessions\"\n",
    "    },\n",
    "    {\n",
    "     \"expression\": \"ga:sessionDuration\"\n",
    "    },\n",
    "    {\n",
    "     \"expression\": \"ga:goal1Completions\"\n",
    "    },\n",
    "    {\n",
    "     \"expression\": \"ga:bounceRate\"\n",
    "    }\n",
    "   ],\n",
    "   \"dimensions\": [\n",
    "    {\n",
    "     \"name\": \"ga:city\"\n",
    "    },\n",
    "    {\n",
    "     \"name\": \"ga:userAgeBracket\"\n",
    "    }\n",
    "   ]\n",
    "  }\n",
    " ]\n",
    "}"
   ]
  },
  {
   "cell_type": "code",
   "execution_count": 485,
   "metadata": {
    "collapsed": false,
    "scrolled": false
   },
   "outputs": [
    {
     "data": {
      "text/plain": [
       "[{'dimensions': ['Croydon', '18-24'],\n",
       "  'metrics': [{'values': ['101',\n",
       "     '41.584158415841586',\n",
       "     '4',\n",
       "     '3.9603960396039604']}]},\n",
       " {'dimensions': ['Croydon', '25-34'],\n",
       "  'metrics': [{'values': ['334',\n",
       "     '47.90419161676647',\n",
       "     '17',\n",
       "     '5.089820359281437']}]},\n",
       " {'dimensions': ['Croydon', '35-44'],\n",
       "  'metrics': [{'values': ['223',\n",
       "     '43.04932735426009',\n",
       "     '7',\n",
       "     '3.1390134529147984']}]},\n",
       " {'dimensions': ['Croydon', '45-54'],\n",
       "  'metrics': [{'values': ['90',\n",
       "     '45.55555555555556',\n",
       "     '2',\n",
       "     '2.2222222222222223']}]},\n",
       " {'dimensions': ['Croydon', '55-64'],\n",
       "  'metrics': [{'values': ['32', '53.125', '1', '3.125']}]},\n",
       " {'dimensions': ['London', '18-24'],\n",
       "  'metrics': [{'values': ['167',\n",
       "     '49.700598802395206',\n",
       "     '8',\n",
       "     '4.790419161676647']}]},\n",
       " {'dimensions': ['London', '25-34'],\n",
       "  'metrics': [{'values': ['842',\n",
       "     '59.14489311163895',\n",
       "     '24',\n",
       "     '2.8503562945368173']}]},\n",
       " {'dimensions': ['London', '35-44'],\n",
       "  'metrics': [{'values': ['482',\n",
       "     '54.77178423236515',\n",
       "     '14',\n",
       "     '2.904564315352697']}]},\n",
       " {'dimensions': ['London', '45-54'],\n",
       "  'metrics': [{'values': ['205',\n",
       "     '55.60975609756098',\n",
       "     '3',\n",
       "     '1.4634146341463417']}]},\n",
       " {'dimensions': ['London', '55-64'],\n",
       "  'metrics': [{'values': ['37', '48.64864864864865', '0', '0.0']}]}]"
      ]
     },
     "execution_count": 485,
     "metadata": {},
     "output_type": "execute_result"
    }
   ],
   "source": [
    "import json\n",
    "\n",
    "with open('data/TMRW_user_groups.json') as file:\n",
    "    input_ugroups = json.load(file)\n",
    "    \n",
    "#input_ugroups\n",
    "\n",
    "# Define dimensions list\n",
    "input_ugroups_dimensions = input_ugroups['reports'][0]['columnHeader']['dimensions']\n",
    "\n",
    "dimension_count = len(input_ugroups_dimensions)\n",
    "\n",
    "# Define metrics list\n",
    "input_ugroups_metrics = input_ugroups['reports'][0]['columnHeader']['metricHeader']['metricHeaderEntries']\n",
    "\n",
    "def create_metric_list(raw_data):\n",
    "    lst = []\n",
    "    for item in raw_data:\n",
    "        lst.append(item['name'])\n",
    "    return lst\n",
    "\n",
    "input_ugroups_metrics = create_metric_list(input_ugroups_metrics)\n",
    "\n",
    "\n",
    "# Create input data\n",
    "\n",
    "input_ugroups_data = input_ugroups['reports'][0]['data']['rows']\n",
    "\n",
    "input_ugroups_data"
   ]
  },
  {
   "cell_type": "code",
   "execution_count": 486,
   "metadata": {
    "collapsed": false
   },
   "outputs": [
    {
     "data": {
      "text/plain": [
       "[['Croydon, 18-24', 101.0, 41.584158415841586, 4.0, 3.9603960396039604],\n",
       " ['Croydon, 25-34', 334.0, 47.90419161676647, 17.0, 5.089820359281437],\n",
       " ['Croydon, 35-44', 223.0, 43.04932735426009, 7.0, 3.1390134529147984],\n",
       " ['Croydon, 45-54', 90.0, 45.55555555555556, 2.0, 2.2222222222222223],\n",
       " ['Croydon, 55-64', 32.0, 53.125, 1.0, 3.125],\n",
       " ['London, 18-24', 167.0, 49.700598802395206, 8.0, 4.790419161676647],\n",
       " ['London, 25-34', 842.0, 59.14489311163895, 24.0, 2.8503562945368173],\n",
       " ['London, 35-44', 482.0, 54.77178423236515, 14.0, 2.904564315352697],\n",
       " ['London, 45-54', 205.0, 55.60975609756098, 3.0, 1.4634146341463417],\n",
       " ['London, 55-64', 37.0, 48.64864864864865, 0.0, 0.0]]"
      ]
     },
     "execution_count": 486,
     "metadata": {},
     "output_type": "execute_result"
    }
   ],
   "source": [
    "values_list = []\n",
    "for group in input_ugroups_data:\n",
    "    new_dim_name = group['dimensions'][0] + \", \" + group['dimensions'][1]\n",
    "    group[new_dim_name] = group['metrics'][0]\n",
    "    del group['dimensions']\n",
    "    del group['metrics']\n",
    "    \n",
    "    #conv_rate = round(float(int(group[new_dim_name]['values'][2])/int(group[new_dim_name]['values'][0])*100),2)\n",
    "    group[new_dim_name]['values'] = list(map(float,group[new_dim_name]['values']))\n",
    "    #group[new_dim_name]['values'].append(new_dim_name)\n",
    "    values_list.append(group[new_dim_name]['values'])\n",
    "    group[new_dim_name]['values'].insert(0,new_dim_name)\n",
    "    #list(map(float,group[new_dim_name]['values'])).append(new_dim_name)\n",
    "    #values_list = values_list.apply(lambda x: x[0][0][1])\n",
    "\n",
    "    #group[new_dim_name]['values'].append(conv_rate)\n",
    "    #print(group[new_dim_name])\n",
    "    \n",
    "values_list    \n",
    "#input_ugroups_data"
   ]
  },
  {
   "cell_type": "code",
   "execution_count": 487,
   "metadata": {
    "collapsed": false
   },
   "outputs": [
    {
     "data": {
      "text/plain": [
       "{'Croydon, 18-24': {'bounce_rate': 4.0,\n",
       "  'conversion_rate': 3.96,\n",
       "  'conversions': 41.58,\n",
       "  'sessions': 101.0},\n",
       " 'Croydon, 25-34': {'bounce_rate': 17.0,\n",
       "  'conversion_rate': 5.09,\n",
       "  'conversions': 47.9,\n",
       "  'sessions': 334.0},\n",
       " 'Croydon, 35-44': {'bounce_rate': 7.0,\n",
       "  'conversion_rate': 3.14,\n",
       "  'conversions': 43.05,\n",
       "  'sessions': 223.0},\n",
       " 'Croydon, 45-54': {'bounce_rate': 2.0,\n",
       "  'conversion_rate': 2.22,\n",
       "  'conversions': 45.56,\n",
       "  'sessions': 90.0},\n",
       " 'Croydon, 55-64': {'bounce_rate': 1.0,\n",
       "  'conversion_rate': 3.12,\n",
       "  'conversions': 53.12,\n",
       "  'sessions': 32.0},\n",
       " 'London, 18-24': {'bounce_rate': 8.0,\n",
       "  'conversion_rate': 4.79,\n",
       "  'conversions': 49.7,\n",
       "  'sessions': 167.0},\n",
       " 'London, 25-34': {'bounce_rate': 24.0,\n",
       "  'conversion_rate': 2.85,\n",
       "  'conversions': 59.14,\n",
       "  'sessions': 842.0},\n",
       " 'London, 35-44': {'bounce_rate': 14.0,\n",
       "  'conversion_rate': 2.9,\n",
       "  'conversions': 54.77,\n",
       "  'sessions': 482.0},\n",
       " 'London, 45-54': {'bounce_rate': 3.0,\n",
       "  'conversion_rate': 1.46,\n",
       "  'conversions': 55.61,\n",
       "  'sessions': 205.0},\n",
       " 'London, 55-64': {'bounce_rate': 0.0,\n",
       "  'conversion_rate': 0.0,\n",
       "  'conversions': 48.65,\n",
       "  'sessions': 37.0}}"
      ]
     },
     "execution_count": 487,
     "metadata": {},
     "output_type": "execute_result"
    }
   ],
   "source": [
    "# Define each metric dict\n",
    "\n",
    "ugroups_data = {}\n",
    "\n",
    "for ugroup in input_ugroups_data:\n",
    "    #print (ugroup)\n",
    "    \n",
    "    for gr in ugroup:\n",
    "        ugroups_data[gr] = {'sessions':0,\n",
    "                       'bounce_rate':0,\n",
    "                       'conversions':0,\n",
    "                       'conversion_rate':0}\n",
    "        \n",
    "        ugroups_data[gr]['sessions'] = round(float(ugroup[gr]['values'][1]),2)\n",
    "        ugroups_data[gr]['conversions'] = round(float(ugroup[gr]['values'][2]),2)\n",
    "        ugroups_data[gr]['bounce_rate'] = round(float(ugroup[gr]['values'][3]),2)\n",
    "        ugroups_data[gr]['conversion_rate'] = round(float(ugroup[gr]['values'][4]),2)\n",
    "        \n",
    "ugroups_data"
   ]
  },
  {
   "cell_type": "code",
   "execution_count": 488,
   "metadata": {
    "collapsed": false
   },
   "outputs": [
    {
     "data": {
      "text/plain": [
       "['city_age', 'sessions', 'bounce_rate', 'conversions', 'conversion_rate']"
      ]
     },
     "execution_count": 488,
     "metadata": {},
     "output_type": "execute_result"
    }
   ],
   "source": [
    "import collections\n",
    "from collections import OrderedDict\n",
    "\n",
    "columns = []\n",
    "for u in ugroups_data:\n",
    "    #print (u)\n",
    "    for metric in ugroups_data[u]:\n",
    "        columns.append('city_age')\n",
    "        columns.append(metric)\n",
    "        \n",
    "    \n",
    "columns = list(OrderedDict.fromkeys(columns))    \n",
    "columns"
   ]
  },
  {
   "cell_type": "code",
   "execution_count": 414,
   "metadata": {
    "collapsed": true
   },
   "outputs": [],
   "source": [
    "import pandas as pd"
   ]
  },
  {
   "cell_type": "code",
   "execution_count": 489,
   "metadata": {
    "collapsed": false,
    "scrolled": true
   },
   "outputs": [
    {
     "name": "stderr",
     "output_type": "stream",
     "text": [
      "C:\\ProgramData\\Anaconda3\\lib\\site-packages\\ipykernel\\__main__.py:6: FutureWarning: sort(columns=....) is deprecated, use sort_values(by=.....)\n"
     ]
    },
    {
     "data": {
      "text/html": [
       "<div>\n",
       "<table border=\"1\" class=\"dataframe\">\n",
       "  <thead>\n",
       "    <tr style=\"text-align: right;\">\n",
       "      <th></th>\n",
       "      <th>city_age</th>\n",
       "      <th>sessions</th>\n",
       "      <th>bounce_rate</th>\n",
       "      <th>conversions</th>\n",
       "      <th>conversion_rate</th>\n",
       "    </tr>\n",
       "  </thead>\n",
       "  <tbody>\n",
       "    <tr>\n",
       "      <th>4</th>\n",
       "      <td>Croydon, 55-64</td>\n",
       "      <td>32</td>\n",
       "      <td>53.125000</td>\n",
       "      <td>1</td>\n",
       "      <td>3.12</td>\n",
       "    </tr>\n",
       "    <tr>\n",
       "      <th>3</th>\n",
       "      <td>Croydon, 45-54</td>\n",
       "      <td>90</td>\n",
       "      <td>45.555556</td>\n",
       "      <td>2</td>\n",
       "      <td>2.22</td>\n",
       "    </tr>\n",
       "    <tr>\n",
       "      <th>0</th>\n",
       "      <td>Croydon, 18-24</td>\n",
       "      <td>101</td>\n",
       "      <td>41.584158</td>\n",
       "      <td>4</td>\n",
       "      <td>3.96</td>\n",
       "    </tr>\n",
       "    <tr>\n",
       "      <th>5</th>\n",
       "      <td>London, 18-24</td>\n",
       "      <td>167</td>\n",
       "      <td>49.700599</td>\n",
       "      <td>8</td>\n",
       "      <td>4.79</td>\n",
       "    </tr>\n",
       "    <tr>\n",
       "      <th>8</th>\n",
       "      <td>London, 45-54</td>\n",
       "      <td>205</td>\n",
       "      <td>55.609756</td>\n",
       "      <td>3</td>\n",
       "      <td>1.46</td>\n",
       "    </tr>\n",
       "    <tr>\n",
       "      <th>2</th>\n",
       "      <td>Croydon, 35-44</td>\n",
       "      <td>223</td>\n",
       "      <td>43.049327</td>\n",
       "      <td>7</td>\n",
       "      <td>3.14</td>\n",
       "    </tr>\n",
       "    <tr>\n",
       "      <th>1</th>\n",
       "      <td>Croydon, 25-34</td>\n",
       "      <td>334</td>\n",
       "      <td>47.904192</td>\n",
       "      <td>17</td>\n",
       "      <td>5.09</td>\n",
       "    </tr>\n",
       "    <tr>\n",
       "      <th>7</th>\n",
       "      <td>London, 35-44</td>\n",
       "      <td>482</td>\n",
       "      <td>54.771784</td>\n",
       "      <td>14</td>\n",
       "      <td>2.90</td>\n",
       "    </tr>\n",
       "    <tr>\n",
       "      <th>6</th>\n",
       "      <td>London, 25-34</td>\n",
       "      <td>842</td>\n",
       "      <td>59.144893</td>\n",
       "      <td>24</td>\n",
       "      <td>2.85</td>\n",
       "    </tr>\n",
       "  </tbody>\n",
       "</table>\n",
       "</div>"
      ],
      "text/plain": [
       "         city_age  sessions  bounce_rate  conversions  conversion_rate\n",
       "4  Croydon, 55-64        32    53.125000            1             3.12\n",
       "3  Croydon, 45-54        90    45.555556            2             2.22\n",
       "0  Croydon, 18-24       101    41.584158            4             3.96\n",
       "5   London, 18-24       167    49.700599            8             4.79\n",
       "8   London, 45-54       205    55.609756            3             1.46\n",
       "2  Croydon, 35-44       223    43.049327            7             3.14\n",
       "1  Croydon, 25-34       334    47.904192           17             5.09\n",
       "7   London, 35-44       482    54.771784           14             2.90\n",
       "6   London, 25-34       842    59.144893           24             2.85"
      ]
     },
     "execution_count": 489,
     "metadata": {},
     "output_type": "execute_result"
    }
   ],
   "source": [
    "df = pd.DataFrame(values_list, columns = columns)\n",
    "\n",
    "df.to_json(orient='split')\n",
    "table_data = pd.read_json(df.to_json(orient='split'), orient='split')\n",
    "table_data.conversion_rate = round(table_data.conversion_rate,2)\n",
    "table_data = table_data[table_data.conversions > 0].sort('sessions')\n",
    "table_data"
   ]
  },
  {
   "cell_type": "code",
   "execution_count": 490,
   "metadata": {
    "collapsed": false
   },
   "outputs": [
    {
     "data": {
      "text/plain": [
       "[32, 90, 101, 167, 205, 223, 334, 482, 842]"
      ]
     },
     "execution_count": 490,
     "metadata": {},
     "output_type": "execute_result"
    }
   ],
   "source": [
    "samples_sessions=[]\n",
    "for i in range(0,len(table_data)):\n",
    "    a = table_data.sessions[i]\n",
    "    samples_sessions.append(a)\n",
    "    \n",
    "samples_sessions = sorted(samples_sessions)\n",
    "samples_sessions"
   ]
  },
  {
   "cell_type": "code",
   "execution_count": 491,
   "metadata": {
    "collapsed": false
   },
   "outputs": [
    {
     "data": {
      "text/plain": [
       "32"
      ]
     },
     "execution_count": 491,
     "metadata": {},
     "output_type": "execute_result"
    }
   ],
   "source": [
    "minn = samples_sessions[0]\n",
    "cl1=minn\n",
    "cl1"
   ]
  },
  {
   "cell_type": "code",
   "execution_count": 492,
   "metadata": {
    "collapsed": false
   },
   "outputs": [
    {
     "data": {
      "text/plain": [
       "842"
      ]
     },
     "execution_count": 492,
     "metadata": {},
     "output_type": "execute_result"
    }
   ],
   "source": [
    "maxx = samples_sessions[len(samples_sessions)-1]\n",
    "cl3 = maxx\n",
    "cl3"
   ]
  },
  {
   "cell_type": "code",
   "execution_count": 493,
   "metadata": {
    "collapsed": false
   },
   "outputs": [
    {
     "data": {
      "text/plain": [
       "205"
      ]
     },
     "execution_count": 493,
     "metadata": {},
     "output_type": "execute_result"
    }
   ],
   "source": [
    "mediana_number = int(len(samples_sessions)/2)\n",
    "cl2 = samples_sessions[mediana_number]\n",
    "cl2"
   ]
  },
  {
   "cell_type": "code",
   "execution_count": 494,
   "metadata": {
    "collapsed": false
   },
   "outputs": [
    {
     "data": {
      "text/plain": [
       "[0.0, 58.0, 69.0, 135.0, 173.0, 191.0, 302.0, 450.0, 810.0]"
      ]
     },
     "execution_count": 494,
     "metadata": {},
     "output_type": "execute_result"
    }
   ],
   "source": [
    "distance_cl1 = []\n",
    "for i in range(0,len(table_data)):\n",
    "    d = math.sqrt(math.pow((cl1 - samples_sessions[i]), 2))\n",
    "    distance_cl1.append(d)\n",
    "distance_cl1"
   ]
  },
  {
   "cell_type": "code",
   "execution_count": 495,
   "metadata": {
    "collapsed": false
   },
   "outputs": [
    {
     "data": {
      "text/plain": [
       "[173.0, 115.0, 104.0, 38.0, 0.0, 18.0, 129.0, 277.0, 637.0]"
      ]
     },
     "execution_count": 495,
     "metadata": {},
     "output_type": "execute_result"
    }
   ],
   "source": [
    "distance_cl2 = []\n",
    "for i in range(0,len(table_data)):\n",
    "    d = math.sqrt(math.pow((cl2 - samples_sessions[i]), 2))\n",
    "    distance_cl2.append(d)\n",
    "distance_cl2"
   ]
  },
  {
   "cell_type": "code",
   "execution_count": 496,
   "metadata": {
    "collapsed": false
   },
   "outputs": [
    {
     "data": {
      "text/plain": [
       "[810.0, 752.0, 741.0, 675.0, 637.0, 619.0, 508.0, 360.0, 0.0]"
      ]
     },
     "execution_count": 496,
     "metadata": {},
     "output_type": "execute_result"
    }
   ],
   "source": [
    "distance_cl3 = []\n",
    "for i in range(0,len(table_data)):\n",
    "    d = math.sqrt(math.pow((cl3 - samples_sessions[i]), 2))\n",
    "    distance_cl3.append(d)\n",
    "distance_cl3"
   ]
  },
  {
   "cell_type": "code",
   "execution_count": 497,
   "metadata": {
    "collapsed": false
   },
   "outputs": [
    {
     "data": {
      "text/plain": [
       "[0.0, 58.0, 69.0]"
      ]
     },
     "execution_count": 497,
     "metadata": {},
     "output_type": "execute_result"
    }
   ],
   "source": [
    "cluster1 = []\n",
    "cluster2 = []\n",
    "cluster3 = []\n",
    "for k in range(0,len(samples_sessions)):\n",
    "    #for k in range(0,len(distance_cl2)-1):\n",
    "        #for k in range(0,len(distance_cl3)-1):\n",
    "            if (distance_cl1[k] < distance_cl2[k]):\n",
    "                res = distance_cl1[k]\n",
    "                cluster1.append(res)\n",
    "                \n",
    "#res\n",
    "cluster1\n"
   ]
  },
  {
   "cell_type": "code",
   "execution_count": 498,
   "metadata": {
    "collapsed": false
   },
   "outputs": [
    {
     "data": {
      "text/plain": [
       "[38.0, 0.0, 18.0, 129.0, 277.0]"
      ]
     },
     "execution_count": 498,
     "metadata": {},
     "output_type": "execute_result"
    }
   ],
   "source": [
    "cluster2 = []\n",
    "for k in range(len(cluster1),len(samples_sessions)):\n",
    "    if (distance_cl2[k] < distance_cl3[k]):\n",
    "                res = distance_cl2[k]\n",
    "                cluster2.append(res)\n",
    "cluster2"
   ]
  },
  {
   "cell_type": "code",
   "execution_count": 499,
   "metadata": {
    "collapsed": false
   },
   "outputs": [
    {
     "data": {
      "text/plain": [
       "[0.0]"
      ]
     },
     "execution_count": 499,
     "metadata": {},
     "output_type": "execute_result"
    }
   ],
   "source": [
    "cluster3 = []\n",
    "for k in range(len(cluster1)+len(cluster2),len(samples_sessions)):\n",
    "    if (distance_cl3[k]<distance_cl2[k]):\n",
    "                res = distance_cl3[k]\n",
    "                cluster3.append(res)\n",
    "cluster3"
   ]
  },
  {
   "cell_type": "code",
   "execution_count": 500,
   "metadata": {
    "collapsed": false
   },
   "outputs": [
    {
     "data": {
      "text/plain": [
       "[[1, 32], [1, 90], [1, 101]]"
      ]
     },
     "execution_count": 500,
     "metadata": {},
     "output_type": "execute_result"
    }
   ],
   "source": [
    "cl1 = []\n",
    "for f in range(0,len(cluster1)):\n",
    "    n =[]\n",
    "    n.append(1)\n",
    "    n.append(samples_sessions[f])\n",
    "    cl1.append(n)\n",
    "cl1"
   ]
  },
  {
   "cell_type": "code",
   "execution_count": 501,
   "metadata": {
    "collapsed": false
   },
   "outputs": [
    {
     "data": {
      "text/html": [
       "<div>\n",
       "<table border=\"1\" class=\"dataframe\">\n",
       "  <thead>\n",
       "    <tr style=\"text-align: right;\">\n",
       "      <th></th>\n",
       "      <th>#cluster_sess</th>\n",
       "      <th>sessions</th>\n",
       "    </tr>\n",
       "  </thead>\n",
       "  <tbody>\n",
       "    <tr>\n",
       "      <th>0</th>\n",
       "      <td>1</td>\n",
       "      <td>32</td>\n",
       "    </tr>\n",
       "    <tr>\n",
       "      <th>1</th>\n",
       "      <td>1</td>\n",
       "      <td>90</td>\n",
       "    </tr>\n",
       "    <tr>\n",
       "      <th>2</th>\n",
       "      <td>1</td>\n",
       "      <td>101</td>\n",
       "    </tr>\n",
       "  </tbody>\n",
       "</table>\n",
       "</div>"
      ],
      "text/plain": [
       "   #cluster_sess  sessions\n",
       "0              1        32\n",
       "1              1        90\n",
       "2              1       101"
      ]
     },
     "execution_count": 501,
     "metadata": {},
     "output_type": "execute_result"
    }
   ],
   "source": [
    "table_cl1 = pd.DataFrame(cl1,columns = ['#cluster_sess','sessions'])\n",
    "table_cl1"
   ]
  },
  {
   "cell_type": "code",
   "execution_count": 502,
   "metadata": {
    "collapsed": false
   },
   "outputs": [
    {
     "data": {
      "text/plain": [
       "[[2, 167], [2, 205], [2, 223], [2, 334], [2, 482]]"
      ]
     },
     "execution_count": 502,
     "metadata": {},
     "output_type": "execute_result"
    }
   ],
   "source": [
    "cl2 = []\n",
    "for h in range(len(cluster1),len(cluster2)+len(cluster1)):\n",
    "    n =[]\n",
    "    n.append(2)\n",
    "    n.append(samples_sessions[h])\n",
    "    cl2.append(n)\n",
    "cl2"
   ]
  },
  {
   "cell_type": "code",
   "execution_count": 503,
   "metadata": {
    "collapsed": false
   },
   "outputs": [
    {
     "data": {
      "text/html": [
       "<div>\n",
       "<table border=\"1\" class=\"dataframe\">\n",
       "  <thead>\n",
       "    <tr style=\"text-align: right;\">\n",
       "      <th></th>\n",
       "      <th>#cluster_sess</th>\n",
       "      <th>sessions</th>\n",
       "    </tr>\n",
       "  </thead>\n",
       "  <tbody>\n",
       "    <tr>\n",
       "      <th>3</th>\n",
       "      <td>2</td>\n",
       "      <td>167</td>\n",
       "    </tr>\n",
       "    <tr>\n",
       "      <th>4</th>\n",
       "      <td>2</td>\n",
       "      <td>205</td>\n",
       "    </tr>\n",
       "    <tr>\n",
       "      <th>5</th>\n",
       "      <td>2</td>\n",
       "      <td>223</td>\n",
       "    </tr>\n",
       "    <tr>\n",
       "      <th>6</th>\n",
       "      <td>2</td>\n",
       "      <td>334</td>\n",
       "    </tr>\n",
       "    <tr>\n",
       "      <th>7</th>\n",
       "      <td>2</td>\n",
       "      <td>482</td>\n",
       "    </tr>\n",
       "  </tbody>\n",
       "</table>\n",
       "</div>"
      ],
      "text/plain": [
       "   #cluster_sess  sessions\n",
       "3              2       167\n",
       "4              2       205\n",
       "5              2       223\n",
       "6              2       334\n",
       "7              2       482"
      ]
     },
     "execution_count": 503,
     "metadata": {},
     "output_type": "execute_result"
    }
   ],
   "source": [
    "table_cl2 = pd.DataFrame(cl2,index = range(len(cluster1),len(cluster2)+len(cluster1)), columns = ['#cluster_sess','sessions'])\n",
    "table_cl2"
   ]
  },
  {
   "cell_type": "code",
   "execution_count": 504,
   "metadata": {
    "collapsed": false
   },
   "outputs": [
    {
     "data": {
      "text/plain": [
       "[[3, 842]]"
      ]
     },
     "execution_count": 504,
     "metadata": {},
     "output_type": "execute_result"
    }
   ],
   "source": [
    "cl3 = []\n",
    "for h in range(len(cluster2)+len(cluster1),len(samples_sessions)):\n",
    "    n =[]\n",
    "    n.append(3)\n",
    "    n.append(samples_sessions[h])\n",
    "    cl3.append(n)\n",
    "cl3"
   ]
  },
  {
   "cell_type": "code",
   "execution_count": 505,
   "metadata": {
    "collapsed": false
   },
   "outputs": [
    {
     "data": {
      "text/html": [
       "<div>\n",
       "<table border=\"1\" class=\"dataframe\">\n",
       "  <thead>\n",
       "    <tr style=\"text-align: right;\">\n",
       "      <th></th>\n",
       "      <th>#cluster_sess</th>\n",
       "      <th>sessions</th>\n",
       "    </tr>\n",
       "  </thead>\n",
       "  <tbody>\n",
       "    <tr>\n",
       "      <th>8</th>\n",
       "      <td>3</td>\n",
       "      <td>842</td>\n",
       "    </tr>\n",
       "  </tbody>\n",
       "</table>\n",
       "</div>"
      ],
      "text/plain": [
       "   #cluster_sess  sessions\n",
       "8              3       842"
      ]
     },
     "execution_count": 505,
     "metadata": {},
     "output_type": "execute_result"
    }
   ],
   "source": [
    "table_cl3 = pd.DataFrame(cl3,index = range(len(cluster2)+len(cluster1),len(samples_sessions)), columns = ['#cluster_sess','sessions'])\n",
    "table_cl3"
   ]
  },
  {
   "cell_type": "code",
   "execution_count": 506,
   "metadata": {
    "collapsed": false
   },
   "outputs": [
    {
     "data": {
      "text/html": [
       "<div>\n",
       "<table border=\"1\" class=\"dataframe\">\n",
       "  <thead>\n",
       "    <tr style=\"text-align: right;\">\n",
       "      <th></th>\n",
       "      <th>#cluster_sess</th>\n",
       "      <th>sessions</th>\n",
       "    </tr>\n",
       "  </thead>\n",
       "  <tbody>\n",
       "    <tr>\n",
       "      <th>0</th>\n",
       "      <td>1</td>\n",
       "      <td>32</td>\n",
       "    </tr>\n",
       "    <tr>\n",
       "      <th>1</th>\n",
       "      <td>1</td>\n",
       "      <td>90</td>\n",
       "    </tr>\n",
       "    <tr>\n",
       "      <th>2</th>\n",
       "      <td>1</td>\n",
       "      <td>101</td>\n",
       "    </tr>\n",
       "    <tr>\n",
       "      <th>3</th>\n",
       "      <td>2</td>\n",
       "      <td>167</td>\n",
       "    </tr>\n",
       "    <tr>\n",
       "      <th>4</th>\n",
       "      <td>2</td>\n",
       "      <td>205</td>\n",
       "    </tr>\n",
       "    <tr>\n",
       "      <th>5</th>\n",
       "      <td>2</td>\n",
       "      <td>223</td>\n",
       "    </tr>\n",
       "    <tr>\n",
       "      <th>6</th>\n",
       "      <td>2</td>\n",
       "      <td>334</td>\n",
       "    </tr>\n",
       "    <tr>\n",
       "      <th>7</th>\n",
       "      <td>2</td>\n",
       "      <td>482</td>\n",
       "    </tr>\n",
       "    <tr>\n",
       "      <th>8</th>\n",
       "      <td>3</td>\n",
       "      <td>842</td>\n",
       "    </tr>\n",
       "  </tbody>\n",
       "</table>\n",
       "</div>"
      ],
      "text/plain": [
       "   #cluster_sess  sessions\n",
       "0              1        32\n",
       "1              1        90\n",
       "2              1       101\n",
       "3              2       167\n",
       "4              2       205\n",
       "5              2       223\n",
       "6              2       334\n",
       "7              2       482\n",
       "8              3       842"
      ]
     },
     "execution_count": 506,
     "metadata": {},
     "output_type": "execute_result"
    }
   ],
   "source": [
    "result_clusters = pd.concat([table_cl1,table_cl2,table_cl3])\n",
    "result_clusters"
   ]
  },
  {
   "cell_type": "code",
   "execution_count": 507,
   "metadata": {
    "collapsed": false
   },
   "outputs": [
    {
     "data": {
      "text/html": [
       "<div>\n",
       "<table border=\"1\" class=\"dataframe\">\n",
       "  <thead>\n",
       "    <tr style=\"text-align: right;\">\n",
       "      <th></th>\n",
       "      <th>#cluster_sess</th>\n",
       "      <th>sessions</th>\n",
       "      <th>city_age</th>\n",
       "      <th>bounce_rate</th>\n",
       "      <th>conversions</th>\n",
       "      <th>conversion_rate</th>\n",
       "    </tr>\n",
       "  </thead>\n",
       "  <tbody>\n",
       "    <tr>\n",
       "      <th>0</th>\n",
       "      <td>1</td>\n",
       "      <td>32</td>\n",
       "      <td>Croydon, 55-64</td>\n",
       "      <td>53.125000</td>\n",
       "      <td>1</td>\n",
       "      <td>3.12</td>\n",
       "    </tr>\n",
       "    <tr>\n",
       "      <th>1</th>\n",
       "      <td>1</td>\n",
       "      <td>90</td>\n",
       "      <td>Croydon, 45-54</td>\n",
       "      <td>45.555556</td>\n",
       "      <td>2</td>\n",
       "      <td>2.22</td>\n",
       "    </tr>\n",
       "    <tr>\n",
       "      <th>2</th>\n",
       "      <td>1</td>\n",
       "      <td>101</td>\n",
       "      <td>Croydon, 18-24</td>\n",
       "      <td>41.584158</td>\n",
       "      <td>4</td>\n",
       "      <td>3.96</td>\n",
       "    </tr>\n",
       "    <tr>\n",
       "      <th>3</th>\n",
       "      <td>2</td>\n",
       "      <td>167</td>\n",
       "      <td>London, 18-24</td>\n",
       "      <td>49.700599</td>\n",
       "      <td>8</td>\n",
       "      <td>4.79</td>\n",
       "    </tr>\n",
       "    <tr>\n",
       "      <th>4</th>\n",
       "      <td>2</td>\n",
       "      <td>205</td>\n",
       "      <td>London, 45-54</td>\n",
       "      <td>55.609756</td>\n",
       "      <td>3</td>\n",
       "      <td>1.46</td>\n",
       "    </tr>\n",
       "    <tr>\n",
       "      <th>5</th>\n",
       "      <td>2</td>\n",
       "      <td>223</td>\n",
       "      <td>Croydon, 35-44</td>\n",
       "      <td>43.049327</td>\n",
       "      <td>7</td>\n",
       "      <td>3.14</td>\n",
       "    </tr>\n",
       "    <tr>\n",
       "      <th>6</th>\n",
       "      <td>2</td>\n",
       "      <td>334</td>\n",
       "      <td>Croydon, 25-34</td>\n",
       "      <td>47.904192</td>\n",
       "      <td>17</td>\n",
       "      <td>5.09</td>\n",
       "    </tr>\n",
       "    <tr>\n",
       "      <th>7</th>\n",
       "      <td>2</td>\n",
       "      <td>482</td>\n",
       "      <td>London, 35-44</td>\n",
       "      <td>54.771784</td>\n",
       "      <td>14</td>\n",
       "      <td>2.90</td>\n",
       "    </tr>\n",
       "    <tr>\n",
       "      <th>8</th>\n",
       "      <td>3</td>\n",
       "      <td>842</td>\n",
       "      <td>London, 25-34</td>\n",
       "      <td>59.144893</td>\n",
       "      <td>24</td>\n",
       "      <td>2.85</td>\n",
       "    </tr>\n",
       "  </tbody>\n",
       "</table>\n",
       "</div>"
      ],
      "text/plain": [
       "   #cluster_sess  sessions        city_age  bounce_rate  conversions  \\\n",
       "0              1        32  Croydon, 55-64    53.125000            1   \n",
       "1              1        90  Croydon, 45-54    45.555556            2   \n",
       "2              1       101  Croydon, 18-24    41.584158            4   \n",
       "3              2       167   London, 18-24    49.700599            8   \n",
       "4              2       205   London, 45-54    55.609756            3   \n",
       "5              2       223  Croydon, 35-44    43.049327            7   \n",
       "6              2       334  Croydon, 25-34    47.904192           17   \n",
       "7              2       482   London, 35-44    54.771784           14   \n",
       "8              3       842   London, 25-34    59.144893           24   \n",
       "\n",
       "   conversion_rate  \n",
       "0             3.12  \n",
       "1             2.22  \n",
       "2             3.96  \n",
       "3             4.79  \n",
       "4             1.46  \n",
       "5             3.14  \n",
       "6             5.09  \n",
       "7             2.90  \n",
       "8             2.85  "
      ]
     },
     "execution_count": 507,
     "metadata": {},
     "output_type": "execute_result"
    }
   ],
   "source": [
    "result_sess = result_clusters.merge(table_data, on = 'sessions')\n",
    "result_sess"
   ]
  },
  {
   "cell_type": "code",
   "execution_count": null,
   "metadata": {
    "collapsed": true
   },
   "outputs": [],
   "source": []
  },
  {
   "cell_type": "code",
   "execution_count": 508,
   "metadata": {
    "collapsed": false,
    "scrolled": true
   },
   "outputs": [
    {
     "data": {
      "text/plain": [
       "[1.46,\n",
       " 2.2200000000000002,\n",
       " 2.8500000000000001,\n",
       " 2.8999999999999999,\n",
       " 3.1200000000000001,\n",
       " 3.1400000000000001,\n",
       " 3.96,\n",
       " 4.79,\n",
       " 5.0899999999999999]"
      ]
     },
     "execution_count": 508,
     "metadata": {},
     "output_type": "execute_result"
    }
   ],
   "source": [
    "samples_cr=[]\n",
    "for i in range(0,len(table_data)):\n",
    "    a = round(table_data.conversion_rate[i],2)\n",
    "    samples_cr.append(a)\n",
    "    #print(a)\n",
    "samples_cr = sorted(samples_cr)#, key=lambda x: x[0])\n",
    "samples_cr"
   ]
  },
  {
   "cell_type": "code",
   "execution_count": 509,
   "metadata": {
    "collapsed": false
   },
   "outputs": [],
   "source": [
    "#samples_cr = list(map(float, [ '%.2f' % elem for elem in samples_cr ]))\n",
    "#samples_cr\n",
    "#list(map(float,group[new_dim_name]['values']))"
   ]
  },
  {
   "cell_type": "code",
   "execution_count": 510,
   "metadata": {
    "collapsed": false
   },
   "outputs": [
    {
     "data": {
      "text/plain": [
       "1.46"
      ]
     },
     "execution_count": 510,
     "metadata": {},
     "output_type": "execute_result"
    }
   ],
   "source": [
    "minn = samples_cr[0]\n",
    "cl1=minn\n",
    "cl1"
   ]
  },
  {
   "cell_type": "code",
   "execution_count": 511,
   "metadata": {
    "collapsed": false
   },
   "outputs": [
    {
     "data": {
      "text/plain": [
       "5.0899999999999999"
      ]
     },
     "execution_count": 511,
     "metadata": {},
     "output_type": "execute_result"
    }
   ],
   "source": [
    "maxx = samples_cr[len(samples_cr)-1]\n",
    "cl3=maxx\n",
    "cl3"
   ]
  },
  {
   "cell_type": "code",
   "execution_count": 512,
   "metadata": {
    "collapsed": false
   },
   "outputs": [
    {
     "data": {
      "text/plain": [
       "3.1200000000000001"
      ]
     },
     "execution_count": 512,
     "metadata": {},
     "output_type": "execute_result"
    }
   ],
   "source": [
    "mediana_number = int(len(samples_cr)/2)\n",
    "cl2 = samples_cr[mediana_number]\n",
    "cl2"
   ]
  },
  {
   "cell_type": "code",
   "execution_count": 513,
   "metadata": {
    "collapsed": false
   },
   "outputs": [
    {
     "data": {
      "text/plain": [
       "[0.0,\n",
       " 0.7600000000000002,\n",
       " 1.3900000000000001,\n",
       " 1.44,\n",
       " 1.6600000000000001,\n",
       " 1.6800000000000002,\n",
       " 2.5,\n",
       " 3.33,\n",
       " 3.63]"
      ]
     },
     "execution_count": 513,
     "metadata": {},
     "output_type": "execute_result"
    }
   ],
   "source": [
    "distance_cl1 = []\n",
    "for i in range(0,len(table_data)):\n",
    "    d = math.sqrt(math.pow((cl1 - samples_cr[i]), 2))\n",
    "    distance_cl1.append(d)\n",
    "distance_cl1"
   ]
  },
  {
   "cell_type": "code",
   "execution_count": 514,
   "metadata": {
    "collapsed": false
   },
   "outputs": [
    {
     "data": {
      "text/plain": [
       "[1.6600000000000001,\n",
       " 0.8999999999999999,\n",
       " 0.27,\n",
       " 0.2200000000000002,\n",
       " 0.0,\n",
       " 0.020000000000000018,\n",
       " 0.8399999999999999,\n",
       " 1.67,\n",
       " 1.9699999999999998]"
      ]
     },
     "execution_count": 514,
     "metadata": {},
     "output_type": "execute_result"
    }
   ],
   "source": [
    "distance_cl2 = []\n",
    "for i in range(0,len(table_data)):\n",
    "    d = math.sqrt(math.pow((cl2 - samples_cr[i]), 2))\n",
    "    distance_cl2.append(d)\n",
    "distance_cl2"
   ]
  },
  {
   "cell_type": "code",
   "execution_count": 515,
   "metadata": {
    "collapsed": false
   },
   "outputs": [
    {
     "data": {
      "text/plain": [
       "[3.63,\n",
       " 2.8699999999999997,\n",
       " 2.2399999999999998,\n",
       " 2.19,\n",
       " 1.9699999999999998,\n",
       " 1.9499999999999997,\n",
       " 1.13,\n",
       " 0.2999999999999998,\n",
       " 0.0]"
      ]
     },
     "execution_count": 515,
     "metadata": {},
     "output_type": "execute_result"
    }
   ],
   "source": [
    "distance_cl3 = []\n",
    "for i in range(0,len(table_data)):\n",
    "    d = math.sqrt(math.pow((cl3 - samples_cr[i]), 2))\n",
    "    distance_cl3.append(d)\n",
    "distance_cl3"
   ]
  },
  {
   "cell_type": "code",
   "execution_count": 516,
   "metadata": {
    "collapsed": false
   },
   "outputs": [
    {
     "data": {
      "text/plain": [
       "[0.0, 0.7600000000000002]"
      ]
     },
     "execution_count": 516,
     "metadata": {},
     "output_type": "execute_result"
    }
   ],
   "source": [
    "cluster1 = []\n",
    "cluster2 = []\n",
    "cluster3 = []\n",
    "for k in range(0,len(samples_cr)):\n",
    "    #for k in range(0,len(distance_cl2)-1):\n",
    "        #for k in range(0,len(distance_cl3)-1):\n",
    "            if (distance_cl1[k] < distance_cl2[k]):\n",
    "                res = distance_cl1[k]\n",
    "                cluster1.append(res)\n",
    "                \n",
    "#res\n",
    "cluster1\n"
   ]
  },
  {
   "cell_type": "code",
   "execution_count": 517,
   "metadata": {
    "collapsed": false
   },
   "outputs": [
    {
     "data": {
      "text/plain": [
       "[0.27, 0.2200000000000002, 0.0, 0.020000000000000018, 0.8399999999999999]"
      ]
     },
     "execution_count": 517,
     "metadata": {},
     "output_type": "execute_result"
    }
   ],
   "source": [
    "cluster2 = []\n",
    "for k in range(len(cluster1),len(samples_cr)):\n",
    "    if (distance_cl2[k] < distance_cl3[k]):\n",
    "                res = distance_cl2[k]\n",
    "                cluster2.append(res)\n",
    "cluster2"
   ]
  },
  {
   "cell_type": "code",
   "execution_count": 518,
   "metadata": {
    "collapsed": false
   },
   "outputs": [
    {
     "data": {
      "text/plain": [
       "[0.2999999999999998, 0.0]"
      ]
     },
     "execution_count": 518,
     "metadata": {},
     "output_type": "execute_result"
    }
   ],
   "source": [
    "cluster3 = []\n",
    "for k in range(len(cluster1)+len(cluster2),len(samples_cr)):\n",
    "    if (distance_cl3[k]<distance_cl2[k]):\n",
    "                res = distance_cl3[k]\n",
    "                cluster3.append(res)\n",
    "cluster3"
   ]
  },
  {
   "cell_type": "code",
   "execution_count": 519,
   "metadata": {
    "collapsed": false
   },
   "outputs": [
    {
     "data": {
      "text/plain": [
       "[[1, 1.46], [1, 2.2200000000000002]]"
      ]
     },
     "execution_count": 519,
     "metadata": {},
     "output_type": "execute_result"
    }
   ],
   "source": [
    "cl1 = []\n",
    "for f in range(0,len(cluster1)):\n",
    "    n =[]\n",
    "    n.append(1)\n",
    "    n.append(samples_cr[f])\n",
    "    cl1.append(n)\n",
    "cl1"
   ]
  },
  {
   "cell_type": "code",
   "execution_count": 520,
   "metadata": {
    "collapsed": false
   },
   "outputs": [
    {
     "data": {
      "text/html": [
       "<div>\n",
       "<table border=\"1\" class=\"dataframe\">\n",
       "  <thead>\n",
       "    <tr style=\"text-align: right;\">\n",
       "      <th></th>\n",
       "      <th>#cluster_cr</th>\n",
       "      <th>conversion_rate</th>\n",
       "    </tr>\n",
       "  </thead>\n",
       "  <tbody>\n",
       "    <tr>\n",
       "      <th>0</th>\n",
       "      <td>1</td>\n",
       "      <td>1.46</td>\n",
       "    </tr>\n",
       "    <tr>\n",
       "      <th>1</th>\n",
       "      <td>1</td>\n",
       "      <td>2.22</td>\n",
       "    </tr>\n",
       "  </tbody>\n",
       "</table>\n",
       "</div>"
      ],
      "text/plain": [
       "   #cluster_cr  conversion_rate\n",
       "0            1             1.46\n",
       "1            1             2.22"
      ]
     },
     "execution_count": 520,
     "metadata": {},
     "output_type": "execute_result"
    }
   ],
   "source": [
    "table_cl1 = pd.DataFrame(cl1,columns = ['#cluster_cr','conversion_rate'])\n",
    "table_cl1"
   ]
  },
  {
   "cell_type": "code",
   "execution_count": 521,
   "metadata": {
    "collapsed": false
   },
   "outputs": [
    {
     "data": {
      "text/plain": [
       "[[2, 2.8500000000000001],\n",
       " [2, 2.8999999999999999],\n",
       " [2, 3.1200000000000001],\n",
       " [2, 3.1400000000000001],\n",
       " [2, 3.96]]"
      ]
     },
     "execution_count": 521,
     "metadata": {},
     "output_type": "execute_result"
    }
   ],
   "source": [
    "cl2 = []\n",
    "for h in range(len(cluster1),len(cluster2)+len(cluster1)):\n",
    "    n =[]\n",
    "    n.append(2)\n",
    "    n.append(samples_cr[h])\n",
    "    cl2.append(n)\n",
    "cl2"
   ]
  },
  {
   "cell_type": "code",
   "execution_count": 522,
   "metadata": {
    "collapsed": false
   },
   "outputs": [
    {
     "data": {
      "text/html": [
       "<div>\n",
       "<table border=\"1\" class=\"dataframe\">\n",
       "  <thead>\n",
       "    <tr style=\"text-align: right;\">\n",
       "      <th></th>\n",
       "      <th>#cluster_cr</th>\n",
       "      <th>conversion_rate</th>\n",
       "    </tr>\n",
       "  </thead>\n",
       "  <tbody>\n",
       "    <tr>\n",
       "      <th>2</th>\n",
       "      <td>2</td>\n",
       "      <td>2.85</td>\n",
       "    </tr>\n",
       "    <tr>\n",
       "      <th>3</th>\n",
       "      <td>2</td>\n",
       "      <td>2.90</td>\n",
       "    </tr>\n",
       "    <tr>\n",
       "      <th>4</th>\n",
       "      <td>2</td>\n",
       "      <td>3.12</td>\n",
       "    </tr>\n",
       "    <tr>\n",
       "      <th>5</th>\n",
       "      <td>2</td>\n",
       "      <td>3.14</td>\n",
       "    </tr>\n",
       "    <tr>\n",
       "      <th>6</th>\n",
       "      <td>2</td>\n",
       "      <td>3.96</td>\n",
       "    </tr>\n",
       "  </tbody>\n",
       "</table>\n",
       "</div>"
      ],
      "text/plain": [
       "   #cluster_cr  conversion_rate\n",
       "2            2             2.85\n",
       "3            2             2.90\n",
       "4            2             3.12\n",
       "5            2             3.14\n",
       "6            2             3.96"
      ]
     },
     "execution_count": 522,
     "metadata": {},
     "output_type": "execute_result"
    }
   ],
   "source": [
    "table_cl2 = pd.DataFrame(cl2,index = range(len(cluster1),len(cluster2)+len(cluster1)), columns = ['#cluster_cr','conversion_rate'])\n",
    "table_cl2"
   ]
  },
  {
   "cell_type": "code",
   "execution_count": 523,
   "metadata": {
    "collapsed": false
   },
   "outputs": [
    {
     "data": {
      "text/plain": [
       "[[3, 4.79], [3, 5.0899999999999999]]"
      ]
     },
     "execution_count": 523,
     "metadata": {},
     "output_type": "execute_result"
    }
   ],
   "source": [
    "cl3 = []\n",
    "for h in range(len(cluster2)+len(cluster1),len(samples_cr)):\n",
    "    n =[]\n",
    "    n.append(3)\n",
    "    n.append(samples_cr[h])\n",
    "    cl3.append(n)\n",
    "cl3"
   ]
  },
  {
   "cell_type": "code",
   "execution_count": 524,
   "metadata": {
    "collapsed": false
   },
   "outputs": [
    {
     "data": {
      "text/html": [
       "<div>\n",
       "<table border=\"1\" class=\"dataframe\">\n",
       "  <thead>\n",
       "    <tr style=\"text-align: right;\">\n",
       "      <th></th>\n",
       "      <th>#cluster_cr</th>\n",
       "      <th>conversion_rate</th>\n",
       "    </tr>\n",
       "  </thead>\n",
       "  <tbody>\n",
       "    <tr>\n",
       "      <th>7</th>\n",
       "      <td>3</td>\n",
       "      <td>4.79</td>\n",
       "    </tr>\n",
       "    <tr>\n",
       "      <th>8</th>\n",
       "      <td>3</td>\n",
       "      <td>5.09</td>\n",
       "    </tr>\n",
       "  </tbody>\n",
       "</table>\n",
       "</div>"
      ],
      "text/plain": [
       "   #cluster_cr  conversion_rate\n",
       "7            3             4.79\n",
       "8            3             5.09"
      ]
     },
     "execution_count": 524,
     "metadata": {},
     "output_type": "execute_result"
    }
   ],
   "source": [
    "table_cl3 = pd.DataFrame(cl3,index = range(len(cluster2)+len(cluster1),len(samples_sessions)), columns = ['#cluster_cr','conversion_rate'])\n",
    "table_cl3"
   ]
  },
  {
   "cell_type": "code",
   "execution_count": 525,
   "metadata": {
    "collapsed": false
   },
   "outputs": [
    {
     "data": {
      "text/html": [
       "<div>\n",
       "<table border=\"1\" class=\"dataframe\">\n",
       "  <thead>\n",
       "    <tr style=\"text-align: right;\">\n",
       "      <th></th>\n",
       "      <th>#cluster_cr</th>\n",
       "      <th>conversion_rate</th>\n",
       "    </tr>\n",
       "  </thead>\n",
       "  <tbody>\n",
       "    <tr>\n",
       "      <th>0</th>\n",
       "      <td>1</td>\n",
       "      <td>1.46</td>\n",
       "    </tr>\n",
       "    <tr>\n",
       "      <th>1</th>\n",
       "      <td>1</td>\n",
       "      <td>2.22</td>\n",
       "    </tr>\n",
       "    <tr>\n",
       "      <th>2</th>\n",
       "      <td>2</td>\n",
       "      <td>2.85</td>\n",
       "    </tr>\n",
       "    <tr>\n",
       "      <th>3</th>\n",
       "      <td>2</td>\n",
       "      <td>2.90</td>\n",
       "    </tr>\n",
       "    <tr>\n",
       "      <th>4</th>\n",
       "      <td>2</td>\n",
       "      <td>3.12</td>\n",
       "    </tr>\n",
       "    <tr>\n",
       "      <th>5</th>\n",
       "      <td>2</td>\n",
       "      <td>3.14</td>\n",
       "    </tr>\n",
       "    <tr>\n",
       "      <th>6</th>\n",
       "      <td>2</td>\n",
       "      <td>3.96</td>\n",
       "    </tr>\n",
       "    <tr>\n",
       "      <th>7</th>\n",
       "      <td>3</td>\n",
       "      <td>4.79</td>\n",
       "    </tr>\n",
       "    <tr>\n",
       "      <th>8</th>\n",
       "      <td>3</td>\n",
       "      <td>5.09</td>\n",
       "    </tr>\n",
       "  </tbody>\n",
       "</table>\n",
       "</div>"
      ],
      "text/plain": [
       "   #cluster_cr  conversion_rate\n",
       "0            1             1.46\n",
       "1            1             2.22\n",
       "2            2             2.85\n",
       "3            2             2.90\n",
       "4            2             3.12\n",
       "5            2             3.14\n",
       "6            2             3.96\n",
       "7            3             4.79\n",
       "8            3             5.09"
      ]
     },
     "execution_count": 525,
     "metadata": {},
     "output_type": "execute_result"
    }
   ],
   "source": [
    "result_clusters = pd.concat([table_cl1,table_cl2,table_cl3])\n",
    "result_clusters"
   ]
  },
  {
   "cell_type": "code",
   "execution_count": 526,
   "metadata": {
    "collapsed": false
   },
   "outputs": [
    {
     "data": {
      "text/html": [
       "<div>\n",
       "<table border=\"1\" class=\"dataframe\">\n",
       "  <thead>\n",
       "    <tr style=\"text-align: right;\">\n",
       "      <th></th>\n",
       "      <th>#cluster_cr</th>\n",
       "      <th>conversion_rate</th>\n",
       "      <th>city_age</th>\n",
       "      <th>sessions</th>\n",
       "      <th>bounce_rate</th>\n",
       "      <th>conversions</th>\n",
       "    </tr>\n",
       "  </thead>\n",
       "  <tbody>\n",
       "    <tr>\n",
       "      <th>0</th>\n",
       "      <td>1</td>\n",
       "      <td>1.46</td>\n",
       "      <td>London, 45-54</td>\n",
       "      <td>205</td>\n",
       "      <td>55.609756</td>\n",
       "      <td>3</td>\n",
       "    </tr>\n",
       "    <tr>\n",
       "      <th>1</th>\n",
       "      <td>1</td>\n",
       "      <td>2.22</td>\n",
       "      <td>Croydon, 45-54</td>\n",
       "      <td>90</td>\n",
       "      <td>45.555556</td>\n",
       "      <td>2</td>\n",
       "    </tr>\n",
       "    <tr>\n",
       "      <th>2</th>\n",
       "      <td>2</td>\n",
       "      <td>2.85</td>\n",
       "      <td>London, 25-34</td>\n",
       "      <td>842</td>\n",
       "      <td>59.144893</td>\n",
       "      <td>24</td>\n",
       "    </tr>\n",
       "    <tr>\n",
       "      <th>3</th>\n",
       "      <td>2</td>\n",
       "      <td>2.90</td>\n",
       "      <td>London, 35-44</td>\n",
       "      <td>482</td>\n",
       "      <td>54.771784</td>\n",
       "      <td>14</td>\n",
       "    </tr>\n",
       "    <tr>\n",
       "      <th>4</th>\n",
       "      <td>2</td>\n",
       "      <td>3.12</td>\n",
       "      <td>Croydon, 55-64</td>\n",
       "      <td>32</td>\n",
       "      <td>53.125000</td>\n",
       "      <td>1</td>\n",
       "    </tr>\n",
       "    <tr>\n",
       "      <th>5</th>\n",
       "      <td>2</td>\n",
       "      <td>3.14</td>\n",
       "      <td>Croydon, 35-44</td>\n",
       "      <td>223</td>\n",
       "      <td>43.049327</td>\n",
       "      <td>7</td>\n",
       "    </tr>\n",
       "    <tr>\n",
       "      <th>6</th>\n",
       "      <td>2</td>\n",
       "      <td>3.96</td>\n",
       "      <td>Croydon, 18-24</td>\n",
       "      <td>101</td>\n",
       "      <td>41.584158</td>\n",
       "      <td>4</td>\n",
       "    </tr>\n",
       "    <tr>\n",
       "      <th>7</th>\n",
       "      <td>3</td>\n",
       "      <td>4.79</td>\n",
       "      <td>London, 18-24</td>\n",
       "      <td>167</td>\n",
       "      <td>49.700599</td>\n",
       "      <td>8</td>\n",
       "    </tr>\n",
       "    <tr>\n",
       "      <th>8</th>\n",
       "      <td>3</td>\n",
       "      <td>5.09</td>\n",
       "      <td>Croydon, 25-34</td>\n",
       "      <td>334</td>\n",
       "      <td>47.904192</td>\n",
       "      <td>17</td>\n",
       "    </tr>\n",
       "  </tbody>\n",
       "</table>\n",
       "</div>"
      ],
      "text/plain": [
       "   #cluster_cr  conversion_rate        city_age  sessions  bounce_rate  \\\n",
       "0            1             1.46   London, 45-54       205    55.609756   \n",
       "1            1             2.22  Croydon, 45-54        90    45.555556   \n",
       "2            2             2.85   London, 25-34       842    59.144893   \n",
       "3            2             2.90   London, 35-44       482    54.771784   \n",
       "4            2             3.12  Croydon, 55-64        32    53.125000   \n",
       "5            2             3.14  Croydon, 35-44       223    43.049327   \n",
       "6            2             3.96  Croydon, 18-24       101    41.584158   \n",
       "7            3             4.79   London, 18-24       167    49.700599   \n",
       "8            3             5.09  Croydon, 25-34       334    47.904192   \n",
       "\n",
       "   conversions  \n",
       "0            3  \n",
       "1            2  \n",
       "2           24  \n",
       "3           14  \n",
       "4            1  \n",
       "5            7  \n",
       "6            4  \n",
       "7            8  \n",
       "8           17  "
      ]
     },
     "execution_count": 526,
     "metadata": {},
     "output_type": "execute_result"
    }
   ],
   "source": [
    "result_cr = result_clusters.merge(table_data, on = 'conversion_rate')\n",
    "result_cr"
   ]
  },
  {
   "cell_type": "code",
   "execution_count": 527,
   "metadata": {
    "collapsed": false
   },
   "outputs": [
    {
     "data": {
      "text/html": [
       "<div>\n",
       "<table border=\"1\" class=\"dataframe\">\n",
       "  <thead>\n",
       "    <tr style=\"text-align: right;\">\n",
       "      <th></th>\n",
       "      <th>#cluster_cr</th>\n",
       "      <th>conversion_rate_x</th>\n",
       "      <th>city_age</th>\n",
       "      <th>sessions_x</th>\n",
       "      <th>bounce_rate_x</th>\n",
       "      <th>conversions_x</th>\n",
       "      <th>#cluster_sess</th>\n",
       "      <th>sessions_y</th>\n",
       "      <th>bounce_rate_y</th>\n",
       "      <th>conversions_y</th>\n",
       "      <th>conversion_rate_y</th>\n",
       "    </tr>\n",
       "  </thead>\n",
       "  <tbody>\n",
       "    <tr>\n",
       "      <th>0</th>\n",
       "      <td>1</td>\n",
       "      <td>1.46</td>\n",
       "      <td>London, 45-54</td>\n",
       "      <td>205</td>\n",
       "      <td>55.609756</td>\n",
       "      <td>3</td>\n",
       "      <td>2</td>\n",
       "      <td>205</td>\n",
       "      <td>55.609756</td>\n",
       "      <td>3</td>\n",
       "      <td>1.46</td>\n",
       "    </tr>\n",
       "    <tr>\n",
       "      <th>1</th>\n",
       "      <td>1</td>\n",
       "      <td>2.22</td>\n",
       "      <td>Croydon, 45-54</td>\n",
       "      <td>90</td>\n",
       "      <td>45.555556</td>\n",
       "      <td>2</td>\n",
       "      <td>1</td>\n",
       "      <td>90</td>\n",
       "      <td>45.555556</td>\n",
       "      <td>2</td>\n",
       "      <td>2.22</td>\n",
       "    </tr>\n",
       "    <tr>\n",
       "      <th>2</th>\n",
       "      <td>2</td>\n",
       "      <td>2.85</td>\n",
       "      <td>London, 25-34</td>\n",
       "      <td>842</td>\n",
       "      <td>59.144893</td>\n",
       "      <td>24</td>\n",
       "      <td>3</td>\n",
       "      <td>842</td>\n",
       "      <td>59.144893</td>\n",
       "      <td>24</td>\n",
       "      <td>2.85</td>\n",
       "    </tr>\n",
       "    <tr>\n",
       "      <th>3</th>\n",
       "      <td>2</td>\n",
       "      <td>2.90</td>\n",
       "      <td>London, 35-44</td>\n",
       "      <td>482</td>\n",
       "      <td>54.771784</td>\n",
       "      <td>14</td>\n",
       "      <td>2</td>\n",
       "      <td>482</td>\n",
       "      <td>54.771784</td>\n",
       "      <td>14</td>\n",
       "      <td>2.90</td>\n",
       "    </tr>\n",
       "    <tr>\n",
       "      <th>4</th>\n",
       "      <td>2</td>\n",
       "      <td>3.12</td>\n",
       "      <td>Croydon, 55-64</td>\n",
       "      <td>32</td>\n",
       "      <td>53.125000</td>\n",
       "      <td>1</td>\n",
       "      <td>1</td>\n",
       "      <td>32</td>\n",
       "      <td>53.125000</td>\n",
       "      <td>1</td>\n",
       "      <td>3.12</td>\n",
       "    </tr>\n",
       "    <tr>\n",
       "      <th>5</th>\n",
       "      <td>2</td>\n",
       "      <td>3.14</td>\n",
       "      <td>Croydon, 35-44</td>\n",
       "      <td>223</td>\n",
       "      <td>43.049327</td>\n",
       "      <td>7</td>\n",
       "      <td>2</td>\n",
       "      <td>223</td>\n",
       "      <td>43.049327</td>\n",
       "      <td>7</td>\n",
       "      <td>3.14</td>\n",
       "    </tr>\n",
       "    <tr>\n",
       "      <th>6</th>\n",
       "      <td>2</td>\n",
       "      <td>3.96</td>\n",
       "      <td>Croydon, 18-24</td>\n",
       "      <td>101</td>\n",
       "      <td>41.584158</td>\n",
       "      <td>4</td>\n",
       "      <td>1</td>\n",
       "      <td>101</td>\n",
       "      <td>41.584158</td>\n",
       "      <td>4</td>\n",
       "      <td>3.96</td>\n",
       "    </tr>\n",
       "    <tr>\n",
       "      <th>7</th>\n",
       "      <td>3</td>\n",
       "      <td>4.79</td>\n",
       "      <td>London, 18-24</td>\n",
       "      <td>167</td>\n",
       "      <td>49.700599</td>\n",
       "      <td>8</td>\n",
       "      <td>2</td>\n",
       "      <td>167</td>\n",
       "      <td>49.700599</td>\n",
       "      <td>8</td>\n",
       "      <td>4.79</td>\n",
       "    </tr>\n",
       "    <tr>\n",
       "      <th>8</th>\n",
       "      <td>3</td>\n",
       "      <td>5.09</td>\n",
       "      <td>Croydon, 25-34</td>\n",
       "      <td>334</td>\n",
       "      <td>47.904192</td>\n",
       "      <td>17</td>\n",
       "      <td>2</td>\n",
       "      <td>334</td>\n",
       "      <td>47.904192</td>\n",
       "      <td>17</td>\n",
       "      <td>5.09</td>\n",
       "    </tr>\n",
       "  </tbody>\n",
       "</table>\n",
       "</div>"
      ],
      "text/plain": [
       "   #cluster_cr  conversion_rate_x        city_age  sessions_x  bounce_rate_x  \\\n",
       "0            1               1.46   London, 45-54         205      55.609756   \n",
       "1            1               2.22  Croydon, 45-54          90      45.555556   \n",
       "2            2               2.85   London, 25-34         842      59.144893   \n",
       "3            2               2.90   London, 35-44         482      54.771784   \n",
       "4            2               3.12  Croydon, 55-64          32      53.125000   \n",
       "5            2               3.14  Croydon, 35-44         223      43.049327   \n",
       "6            2               3.96  Croydon, 18-24         101      41.584158   \n",
       "7            3               4.79   London, 18-24         167      49.700599   \n",
       "8            3               5.09  Croydon, 25-34         334      47.904192   \n",
       "\n",
       "   conversions_x  #cluster_sess  sessions_y  bounce_rate_y  conversions_y  \\\n",
       "0              3              2         205      55.609756              3   \n",
       "1              2              1          90      45.555556              2   \n",
       "2             24              3         842      59.144893             24   \n",
       "3             14              2         482      54.771784             14   \n",
       "4              1              1          32      53.125000              1   \n",
       "5              7              2         223      43.049327              7   \n",
       "6              4              1         101      41.584158              4   \n",
       "7              8              2         167      49.700599              8   \n",
       "8             17              2         334      47.904192             17   \n",
       "\n",
       "   conversion_rate_y  \n",
       "0               1.46  \n",
       "1               2.22  \n",
       "2               2.85  \n",
       "3               2.90  \n",
       "4               3.12  \n",
       "5               3.14  \n",
       "6               3.96  \n",
       "7               4.79  \n",
       "8               5.09  "
      ]
     },
     "execution_count": 527,
     "metadata": {},
     "output_type": "execute_result"
    }
   ],
   "source": [
    "final = result_cr.merge(result_sess, on = 'city_age')\n",
    "final"
   ]
  },
  {
   "cell_type": "code",
   "execution_count": 528,
   "metadata": {
    "collapsed": false
   },
   "outputs": [
    {
     "data": {
      "text/html": [
       "<div>\n",
       "<table border=\"1\" class=\"dataframe\">\n",
       "  <thead>\n",
       "    <tr style=\"text-align: right;\">\n",
       "      <th></th>\n",
       "      <th>city_age</th>\n",
       "      <th>#cluster_sess</th>\n",
       "      <th>#cluster_cr</th>\n",
       "      <th>sessions_x</th>\n",
       "      <th>conversion_rate_x</th>\n",
       "    </tr>\n",
       "  </thead>\n",
       "  <tbody>\n",
       "    <tr>\n",
       "      <th>0</th>\n",
       "      <td>London, 45-54</td>\n",
       "      <td>2</td>\n",
       "      <td>1</td>\n",
       "      <td>205</td>\n",
       "      <td>1.46</td>\n",
       "    </tr>\n",
       "    <tr>\n",
       "      <th>1</th>\n",
       "      <td>Croydon, 45-54</td>\n",
       "      <td>1</td>\n",
       "      <td>1</td>\n",
       "      <td>90</td>\n",
       "      <td>2.22</td>\n",
       "    </tr>\n",
       "    <tr>\n",
       "      <th>2</th>\n",
       "      <td>London, 25-34</td>\n",
       "      <td>3</td>\n",
       "      <td>2</td>\n",
       "      <td>842</td>\n",
       "      <td>2.85</td>\n",
       "    </tr>\n",
       "    <tr>\n",
       "      <th>3</th>\n",
       "      <td>London, 35-44</td>\n",
       "      <td>2</td>\n",
       "      <td>2</td>\n",
       "      <td>482</td>\n",
       "      <td>2.90</td>\n",
       "    </tr>\n",
       "    <tr>\n",
       "      <th>4</th>\n",
       "      <td>Croydon, 55-64</td>\n",
       "      <td>1</td>\n",
       "      <td>2</td>\n",
       "      <td>32</td>\n",
       "      <td>3.12</td>\n",
       "    </tr>\n",
       "    <tr>\n",
       "      <th>5</th>\n",
       "      <td>Croydon, 35-44</td>\n",
       "      <td>2</td>\n",
       "      <td>2</td>\n",
       "      <td>223</td>\n",
       "      <td>3.14</td>\n",
       "    </tr>\n",
       "    <tr>\n",
       "      <th>6</th>\n",
       "      <td>Croydon, 18-24</td>\n",
       "      <td>1</td>\n",
       "      <td>2</td>\n",
       "      <td>101</td>\n",
       "      <td>3.96</td>\n",
       "    </tr>\n",
       "    <tr>\n",
       "      <th>7</th>\n",
       "      <td>London, 18-24</td>\n",
       "      <td>2</td>\n",
       "      <td>3</td>\n",
       "      <td>167</td>\n",
       "      <td>4.79</td>\n",
       "    </tr>\n",
       "    <tr>\n",
       "      <th>8</th>\n",
       "      <td>Croydon, 25-34</td>\n",
       "      <td>2</td>\n",
       "      <td>3</td>\n",
       "      <td>334</td>\n",
       "      <td>5.09</td>\n",
       "    </tr>\n",
       "  </tbody>\n",
       "</table>\n",
       "</div>"
      ],
      "text/plain": [
       "         city_age  #cluster_sess  #cluster_cr  sessions_x  conversion_rate_x\n",
       "0   London, 45-54              2            1         205               1.46\n",
       "1  Croydon, 45-54              1            1          90               2.22\n",
       "2   London, 25-34              3            2         842               2.85\n",
       "3   London, 35-44              2            2         482               2.90\n",
       "4  Croydon, 55-64              1            2          32               3.12\n",
       "5  Croydon, 35-44              2            2         223               3.14\n",
       "6  Croydon, 18-24              1            2         101               3.96\n",
       "7   London, 18-24              2            3         167               4.79\n",
       "8  Croydon, 25-34              2            3         334               5.09"
      ]
     },
     "execution_count": 528,
     "metadata": {},
     "output_type": "execute_result"
    }
   ],
   "source": [
    "finish = final[['city_age','#cluster_sess','#cluster_cr','sessions_x','conversion_rate_x',]]\n",
    "finish"
   ]
  },
  {
   "cell_type": "code",
   "execution_count": null,
   "metadata": {
    "collapsed": true
   },
   "outputs": [],
   "source": []
  },
  {
   "cell_type": "code",
   "execution_count": 529,
   "metadata": {
    "collapsed": false,
    "scrolled": true
   },
   "outputs": [
    {
     "data": {
      "text/plain": [
       "[[32, 3.1200000000000001],\n",
       " [90, 2.2200000000000002],\n",
       " [101, 3.96],\n",
       " [167, 4.79],\n",
       " [205, 1.46],\n",
       " [223, 3.1400000000000001],\n",
       " [334, 5.0899999999999999],\n",
       " [482, 2.8999999999999999],\n",
       " [842, 2.8500000000000001]]"
      ]
     },
     "execution_count": 529,
     "metadata": {},
     "output_type": "execute_result"
    }
   ],
   "source": [
    "samples=[]\n",
    "for i in range(0,len(table_data)):\n",
    "    a = [table_data.sessions[i],table_data.conversion_rate[i]]\n",
    "    samples.append(a)\n",
    "    #print(a)\n",
    "samples = sorted(samples, key=lambda x: x[0])\n",
    "samples"
   ]
  },
  {
   "cell_type": "code",
   "execution_count": 530,
   "metadata": {
    "collapsed": false
   },
   "outputs": [
    {
     "data": {
      "text/plain": [
       "[32, 3.1200000000000001]"
      ]
     },
     "execution_count": 530,
     "metadata": {},
     "output_type": "execute_result"
    }
   ],
   "source": [
    "minn = samples[0]\n",
    "cl1=minn\n",
    "cl1"
   ]
  },
  {
   "cell_type": "code",
   "execution_count": 531,
   "metadata": {
    "collapsed": false
   },
   "outputs": [
    {
     "data": {
      "text/plain": [
       "[842, 2.8500000000000001]"
      ]
     },
     "execution_count": 531,
     "metadata": {},
     "output_type": "execute_result"
    }
   ],
   "source": [
    "maxx = samples[len(samples_cr)-1]\n",
    "cl3=maxx\n",
    "cl3"
   ]
  },
  {
   "cell_type": "code",
   "execution_count": 532,
   "metadata": {
    "collapsed": false
   },
   "outputs": [
    {
     "data": {
      "text/plain": [
       "[205, 1.46]"
      ]
     },
     "execution_count": 532,
     "metadata": {},
     "output_type": "execute_result"
    }
   ],
   "source": [
    "mediana_number = int(len(samples_cr)/2)\n",
    "cl2 = samples[mediana_number]\n",
    "cl2"
   ]
  },
  {
   "cell_type": "code",
   "execution_count": 533,
   "metadata": {
    "collapsed": false
   },
   "outputs": [
    {
     "data": {
      "text/plain": [
       "[0.0,\n",
       " 58.00698233833579,\n",
       " 69.00511285404872,\n",
       " 135.010328864128,\n",
       " 173.0079639785406,\n",
       " 191.0000010471204,\n",
       " 302.0064252627748,\n",
       " 450.00005377777455,\n",
       " 810.0000449999987]"
      ]
     },
     "execution_count": 533,
     "metadata": {},
     "output_type": "execute_result"
    }
   ],
   "source": [
    "distance_cl1 = []\n",
    "for i in range(0,len(table_data)):\n",
    "    d = math.sqrt(math.pow((cl1[0] - samples[i][0]),2) + math.pow((cl1[1] - samples[i][1]), 2))\n",
    "#print(d)\n",
    "    distance_cl1.append(d)\n",
    "distance_cl1\n",
    "\n"
   ]
  },
  {
   "cell_type": "code",
   "execution_count": 534,
   "metadata": {
    "collapsed": false
   },
   "outputs": [
    {
     "data": {
      "text/plain": [
       "[173.0079639785406,\n",
       " 115.00251127692822,\n",
       " 104.03004373737426,\n",
       " 38.145627534489456,\n",
       " 0.0,\n",
       " 18.078230001855825,\n",
       " 129.05106314943708,\n",
       " 277.0037429350008,\n",
       " 637.0015165602041]"
      ]
     },
     "execution_count": 534,
     "metadata": {},
     "output_type": "execute_result"
    }
   ],
   "source": [
    "distance_cl2 = []\n",
    "for i in range(0,len(table_data)):\n",
    "    d = math.sqrt(math.pow((cl2[0] - samples[i][0]),2) + math.pow((cl2[1] - samples[i][1]), 2))\n",
    "    distance_cl2.append(d)\n",
    "distance_cl2\n",
    "\n",
    "\n"
   ]
  },
  {
   "cell_type": "code",
   "execution_count": 535,
   "metadata": {
    "collapsed": false
   },
   "outputs": [
    {
     "data": {
      "text/plain": [
       "[810.0000449999987,\n",
       " 752.0002638962303,\n",
       " 741.0008313760518,\n",
       " 675.0027878460947,\n",
       " 637.0015165602041,\n",
       " 619.0000679321449,\n",
       " 508.0049385586719,\n",
       " 360.0000034722222,\n",
       " 0.0]"
      ]
     },
     "execution_count": 535,
     "metadata": {},
     "output_type": "execute_result"
    }
   ],
   "source": [
    "distance_cl3 = []\n",
    "for i in range(0,len(table_data)):\n",
    "    d = math.sqrt(math.pow((cl3[0] - samples[i][0]),2) + math.pow((cl3[1] - samples[i][1]), 2))\n",
    "    distance_cl3.append(d)\n",
    "distance_cl3"
   ]
  },
  {
   "cell_type": "code",
   "execution_count": 536,
   "metadata": {
    "collapsed": false
   },
   "outputs": [
    {
     "data": {
      "text/plain": [
       "[0.0, 58.00698233833579, 69.00511285404872]"
      ]
     },
     "execution_count": 536,
     "metadata": {},
     "output_type": "execute_result"
    }
   ],
   "source": [
    "cluster1 = []\n",
    "for k in range(0,len(samples)):\n",
    "    #for k in range(0,len(distance_cl2)-1):\n",
    "        #for k in range(0,len(distance_cl3)-1):\n",
    "            if (distance_cl1[k] < distance_cl2[k]):\n",
    "                res = distance_cl1[k]\n",
    "                cluster1.append(res)\n",
    "                \n",
    "#res\n",
    "cluster1"
   ]
  },
  {
   "cell_type": "code",
   "execution_count": 537,
   "metadata": {
    "collapsed": false
   },
   "outputs": [
    {
     "data": {
      "text/plain": [
       "[38.145627534489456,\n",
       " 0.0,\n",
       " 18.078230001855825,\n",
       " 129.05106314943708,\n",
       " 277.0037429350008]"
      ]
     },
     "execution_count": 537,
     "metadata": {},
     "output_type": "execute_result"
    }
   ],
   "source": [
    "cluster2 = []\n",
    "for k in range(len(cluster1),len(samples_cr)):\n",
    "    if (distance_cl2[k] < distance_cl3[k]):\n",
    "                res = distance_cl2[k]\n",
    "                cluster2.append(res)\n",
    "cluster2"
   ]
  },
  {
   "cell_type": "code",
   "execution_count": 538,
   "metadata": {
    "collapsed": false
   },
   "outputs": [
    {
     "data": {
      "text/plain": [
       "[0.0]"
      ]
     },
     "execution_count": 538,
     "metadata": {},
     "output_type": "execute_result"
    }
   ],
   "source": [
    "cluster3 = []\n",
    "for k in range(len(cluster1)+len(cluster2),len(samples_cr)):\n",
    "    if (distance_cl3[k]<distance_cl2[k]):\n",
    "                res = distance_cl3[k]\n",
    "                cluster3.append(res)\n",
    "cluster3"
   ]
  },
  {
   "cell_type": "code",
   "execution_count": 550,
   "metadata": {
    "collapsed": false
   },
   "outputs": [
    {
     "data": {
      "text/plain": [
       "[[1, [32, 3.1200000000000001]],\n",
       " [1, [90, 2.2200000000000002]],\n",
       " [1, [101, 3.96]]]"
      ]
     },
     "execution_count": 550,
     "metadata": {},
     "output_type": "execute_result"
    }
   ],
   "source": [
    "from itertools import chain\n",
    "cl1 = []\n",
    "for f in range(0,len(cluster1)):\n",
    "    n =[]\n",
    "    n.append(1)\n",
    "    n.append(samples[f])\n",
    "    cl1.append(n)\n",
    "cl1"
   ]
  },
  {
   "cell_type": "code",
   "execution_count": 551,
   "metadata": {
    "collapsed": false
   },
   "outputs": [],
   "source": [
    "#cl1 = []\n",
    "#for i in cl1:\n",
    "    #from itertools import chain\n",
    "    #cl1=list(chain.from_iterable(cl1[i]))\n",
    "    #cl1.append()\n",
    "#print(cl1)"
   ]
  },
  {
   "cell_type": "code",
   "execution_count": 552,
   "metadata": {
    "collapsed": false
   },
   "outputs": [
    {
     "data": {
      "text/html": [
       "<div>\n",
       "<table border=\"1\" class=\"dataframe\">\n",
       "  <thead>\n",
       "    <tr style=\"text-align: right;\">\n",
       "      <th></th>\n",
       "      <th>#cluster_cr</th>\n",
       "      <th>result</th>\n",
       "    </tr>\n",
       "  </thead>\n",
       "  <tbody>\n",
       "    <tr>\n",
       "      <th>0</th>\n",
       "      <td>1</td>\n",
       "      <td>[32, 3.12]</td>\n",
       "    </tr>\n",
       "    <tr>\n",
       "      <th>1</th>\n",
       "      <td>1</td>\n",
       "      <td>[90, 2.22]</td>\n",
       "    </tr>\n",
       "    <tr>\n",
       "      <th>2</th>\n",
       "      <td>1</td>\n",
       "      <td>[101, 3.96]</td>\n",
       "    </tr>\n",
       "  </tbody>\n",
       "</table>\n",
       "</div>"
      ],
      "text/plain": [
       "   #cluster_cr       result\n",
       "0            1   [32, 3.12]\n",
       "1            1   [90, 2.22]\n",
       "2            1  [101, 3.96]"
      ]
     },
     "execution_count": 552,
     "metadata": {},
     "output_type": "execute_result"
    }
   ],
   "source": [
    "table_cl1 = pd.DataFrame(cl1,columns = ['#cluster_cr','result'])\n",
    "table_cl1"
   ]
  },
  {
   "cell_type": "code",
   "execution_count": 553,
   "metadata": {
    "collapsed": false
   },
   "outputs": [
    {
     "data": {
      "text/plain": [
       "[[2, [167, 4.79]],\n",
       " [2, [205, 1.46]],\n",
       " [2, [223, 3.1400000000000001]],\n",
       " [2, [334, 5.0899999999999999]],\n",
       " [2, [482, 2.8999999999999999]]]"
      ]
     },
     "execution_count": 553,
     "metadata": {},
     "output_type": "execute_result"
    }
   ],
   "source": [
    "cl2 = []\n",
    "for h in range(len(cluster1),len(cluster2)+len(cluster1)):\n",
    "    n =[]\n",
    "    n.append(2)\n",
    "    n.append(samples[h])\n",
    "    cl2.append(n)\n",
    "cl2"
   ]
  },
  {
   "cell_type": "code",
   "execution_count": 554,
   "metadata": {
    "collapsed": false
   },
   "outputs": [
    {
     "data": {
      "text/html": [
       "<div>\n",
       "<table border=\"1\" class=\"dataframe\">\n",
       "  <thead>\n",
       "    <tr style=\"text-align: right;\">\n",
       "      <th></th>\n",
       "      <th>#cluster_cr</th>\n",
       "      <th>result</th>\n",
       "    </tr>\n",
       "  </thead>\n",
       "  <tbody>\n",
       "    <tr>\n",
       "      <th>3</th>\n",
       "      <td>2</td>\n",
       "      <td>[167, 4.79]</td>\n",
       "    </tr>\n",
       "    <tr>\n",
       "      <th>4</th>\n",
       "      <td>2</td>\n",
       "      <td>[205, 1.46]</td>\n",
       "    </tr>\n",
       "    <tr>\n",
       "      <th>5</th>\n",
       "      <td>2</td>\n",
       "      <td>[223, 3.14]</td>\n",
       "    </tr>\n",
       "    <tr>\n",
       "      <th>6</th>\n",
       "      <td>2</td>\n",
       "      <td>[334, 5.09]</td>\n",
       "    </tr>\n",
       "    <tr>\n",
       "      <th>7</th>\n",
       "      <td>2</td>\n",
       "      <td>[482, 2.9]</td>\n",
       "    </tr>\n",
       "  </tbody>\n",
       "</table>\n",
       "</div>"
      ],
      "text/plain": [
       "   #cluster_cr       result\n",
       "3            2  [167, 4.79]\n",
       "4            2  [205, 1.46]\n",
       "5            2  [223, 3.14]\n",
       "6            2  [334, 5.09]\n",
       "7            2   [482, 2.9]"
      ]
     },
     "execution_count": 554,
     "metadata": {},
     "output_type": "execute_result"
    }
   ],
   "source": [
    "table_cl2 = pd.DataFrame(cl2,index = range(len(cluster1),len(cluster2)+len(cluster1)), columns = ['#cluster_cr','result'])\n",
    "table_cl2"
   ]
  },
  {
   "cell_type": "code",
   "execution_count": 556,
   "metadata": {
    "collapsed": false
   },
   "outputs": [
    {
     "data": {
      "text/plain": [
       "[[3, [842, 2.8500000000000001]]]"
      ]
     },
     "execution_count": 556,
     "metadata": {},
     "output_type": "execute_result"
    }
   ],
   "source": [
    "cl3 = []\n",
    "for h in range(len(cluster2)+len(cluster1),len(samples_cr)):\n",
    "    n =[]\n",
    "    n.append(3)\n",
    "    n.append(samples[h])\n",
    "    cl3.append(n)\n",
    "cl3"
   ]
  },
  {
   "cell_type": "code",
   "execution_count": 557,
   "metadata": {
    "collapsed": false
   },
   "outputs": [
    {
     "data": {
      "text/html": [
       "<div>\n",
       "<table border=\"1\" class=\"dataframe\">\n",
       "  <thead>\n",
       "    <tr style=\"text-align: right;\">\n",
       "      <th></th>\n",
       "      <th>#cluster_cr</th>\n",
       "      <th>result</th>\n",
       "    </tr>\n",
       "  </thead>\n",
       "  <tbody>\n",
       "    <tr>\n",
       "      <th>8</th>\n",
       "      <td>3</td>\n",
       "      <td>[842, 2.85]</td>\n",
       "    </tr>\n",
       "  </tbody>\n",
       "</table>\n",
       "</div>"
      ],
      "text/plain": [
       "   #cluster_cr       result\n",
       "8            3  [842, 2.85]"
      ]
     },
     "execution_count": 557,
     "metadata": {},
     "output_type": "execute_result"
    }
   ],
   "source": [
    "table_cl3 = pd.DataFrame(cl3,index = range(len(cluster2)+len(cluster1),len(samples_sessions)), columns = ['#cluster_cr','result'])\n",
    "table_cl3"
   ]
  },
  {
   "cell_type": "code",
   "execution_count": 558,
   "metadata": {
    "collapsed": false,
    "scrolled": true
   },
   "outputs": [
    {
     "data": {
      "text/html": [
       "<div>\n",
       "<table border=\"1\" class=\"dataframe\">\n",
       "  <thead>\n",
       "    <tr style=\"text-align: right;\">\n",
       "      <th></th>\n",
       "      <th>#cluster_cr</th>\n",
       "      <th>result</th>\n",
       "    </tr>\n",
       "  </thead>\n",
       "  <tbody>\n",
       "    <tr>\n",
       "      <th>0</th>\n",
       "      <td>1</td>\n",
       "      <td>[32, 3.12]</td>\n",
       "    </tr>\n",
       "    <tr>\n",
       "      <th>1</th>\n",
       "      <td>1</td>\n",
       "      <td>[90, 2.22]</td>\n",
       "    </tr>\n",
       "    <tr>\n",
       "      <th>2</th>\n",
       "      <td>1</td>\n",
       "      <td>[101, 3.96]</td>\n",
       "    </tr>\n",
       "    <tr>\n",
       "      <th>3</th>\n",
       "      <td>2</td>\n",
       "      <td>[167, 4.79]</td>\n",
       "    </tr>\n",
       "    <tr>\n",
       "      <th>4</th>\n",
       "      <td>2</td>\n",
       "      <td>[205, 1.46]</td>\n",
       "    </tr>\n",
       "    <tr>\n",
       "      <th>5</th>\n",
       "      <td>2</td>\n",
       "      <td>[223, 3.14]</td>\n",
       "    </tr>\n",
       "    <tr>\n",
       "      <th>6</th>\n",
       "      <td>2</td>\n",
       "      <td>[334, 5.09]</td>\n",
       "    </tr>\n",
       "    <tr>\n",
       "      <th>7</th>\n",
       "      <td>2</td>\n",
       "      <td>[482, 2.9]</td>\n",
       "    </tr>\n",
       "    <tr>\n",
       "      <th>8</th>\n",
       "      <td>3</td>\n",
       "      <td>[842, 2.85]</td>\n",
       "    </tr>\n",
       "  </tbody>\n",
       "</table>\n",
       "</div>"
      ],
      "text/plain": [
       "   #cluster_cr       result\n",
       "0            1   [32, 3.12]\n",
       "1            1   [90, 2.22]\n",
       "2            1  [101, 3.96]\n",
       "3            2  [167, 4.79]\n",
       "4            2  [205, 1.46]\n",
       "5            2  [223, 3.14]\n",
       "6            2  [334, 5.09]\n",
       "7            2   [482, 2.9]\n",
       "8            3  [842, 2.85]"
      ]
     },
     "execution_count": 558,
     "metadata": {},
     "output_type": "execute_result"
    }
   ],
   "source": [
    "result_clusters = pd.concat([table_cl1,table_cl2,table_cl3])\n",
    "result_clusters"
   ]
  },
  {
   "cell_type": "code",
   "execution_count": 562,
   "metadata": {
    "collapsed": false
   },
   "outputs": [
    {
     "name": "stderr",
     "output_type": "stream",
     "text": [
      "C:\\ProgramData\\Anaconda3\\lib\\site-packages\\ipykernel\\__main__.py:1: FutureWarning: sort(columns=....) is deprecated, use sort_values(by=.....)\n",
      "  if __name__ == '__main__':\n"
     ]
    },
    {
     "data": {
      "text/html": [
       "<div>\n",
       "<table border=\"1\" class=\"dataframe\">\n",
       "  <thead>\n",
       "    <tr style=\"text-align: right;\">\n",
       "      <th></th>\n",
       "      <th>city_age</th>\n",
       "      <th>sessions</th>\n",
       "      <th>bounce_rate</th>\n",
       "      <th>conversions</th>\n",
       "      <th>conversion_rate</th>\n",
       "    </tr>\n",
       "  </thead>\n",
       "  <tbody>\n",
       "    <tr>\n",
       "      <th>4</th>\n",
       "      <td>Croydon, 55-64</td>\n",
       "      <td>32</td>\n",
       "      <td>53.125000</td>\n",
       "      <td>1</td>\n",
       "      <td>3.12</td>\n",
       "    </tr>\n",
       "    <tr>\n",
       "      <th>3</th>\n",
       "      <td>Croydon, 45-54</td>\n",
       "      <td>90</td>\n",
       "      <td>45.555556</td>\n",
       "      <td>2</td>\n",
       "      <td>2.22</td>\n",
       "    </tr>\n",
       "    <tr>\n",
       "      <th>0</th>\n",
       "      <td>Croydon, 18-24</td>\n",
       "      <td>101</td>\n",
       "      <td>41.584158</td>\n",
       "      <td>4</td>\n",
       "      <td>3.96</td>\n",
       "    </tr>\n",
       "    <tr>\n",
       "      <th>5</th>\n",
       "      <td>London, 18-24</td>\n",
       "      <td>167</td>\n",
       "      <td>49.700599</td>\n",
       "      <td>8</td>\n",
       "      <td>4.79</td>\n",
       "    </tr>\n",
       "    <tr>\n",
       "      <th>8</th>\n",
       "      <td>London, 45-54</td>\n",
       "      <td>205</td>\n",
       "      <td>55.609756</td>\n",
       "      <td>3</td>\n",
       "      <td>1.46</td>\n",
       "    </tr>\n",
       "    <tr>\n",
       "      <th>2</th>\n",
       "      <td>Croydon, 35-44</td>\n",
       "      <td>223</td>\n",
       "      <td>43.049327</td>\n",
       "      <td>7</td>\n",
       "      <td>3.14</td>\n",
       "    </tr>\n",
       "    <tr>\n",
       "      <th>1</th>\n",
       "      <td>Croydon, 25-34</td>\n",
       "      <td>334</td>\n",
       "      <td>47.904192</td>\n",
       "      <td>17</td>\n",
       "      <td>5.09</td>\n",
       "    </tr>\n",
       "    <tr>\n",
       "      <th>7</th>\n",
       "      <td>London, 35-44</td>\n",
       "      <td>482</td>\n",
       "      <td>54.771784</td>\n",
       "      <td>14</td>\n",
       "      <td>2.90</td>\n",
       "    </tr>\n",
       "    <tr>\n",
       "      <th>6</th>\n",
       "      <td>London, 25-34</td>\n",
       "      <td>842</td>\n",
       "      <td>59.144893</td>\n",
       "      <td>24</td>\n",
       "      <td>2.85</td>\n",
       "    </tr>\n",
       "  </tbody>\n",
       "</table>\n",
       "</div>"
      ],
      "text/plain": [
       "         city_age  sessions  bounce_rate  conversions  conversion_rate\n",
       "4  Croydon, 55-64        32    53.125000            1             3.12\n",
       "3  Croydon, 45-54        90    45.555556            2             2.22\n",
       "0  Croydon, 18-24       101    41.584158            4             3.96\n",
       "5   London, 18-24       167    49.700599            8             4.79\n",
       "8   London, 45-54       205    55.609756            3             1.46\n",
       "2  Croydon, 35-44       223    43.049327            7             3.14\n",
       "1  Croydon, 25-34       334    47.904192           17             5.09\n",
       "7   London, 35-44       482    54.771784           14             2.90\n",
       "6   London, 25-34       842    59.144893           24             2.85"
      ]
     },
     "execution_count": 562,
     "metadata": {},
     "output_type": "execute_result"
    }
   ],
   "source": [
    "a = table_data.sort('sessions')\n",
    "a"
   ]
  },
  {
   "cell_type": "code",
   "execution_count": 564,
   "metadata": {
    "collapsed": false,
    "scrolled": true
   },
   "outputs": [
    {
     "data": {
      "text/html": [
       "<div>\n",
       "<table border=\"1\" class=\"dataframe\">\n",
       "  <thead>\n",
       "    <tr style=\"text-align: right;\">\n",
       "      <th></th>\n",
       "      <th>#cluster_cr</th>\n",
       "      <th>result</th>\n",
       "      <th>city_age</th>\n",
       "      <th>sessions</th>\n",
       "      <th>bounce_rate</th>\n",
       "      <th>conversions</th>\n",
       "      <th>conversion_rate</th>\n",
       "    </tr>\n",
       "  </thead>\n",
       "  <tbody>\n",
       "    <tr>\n",
       "      <th>0</th>\n",
       "      <td>1</td>\n",
       "      <td>[32, 3.12]</td>\n",
       "      <td>Croydon, 18-24</td>\n",
       "      <td>101</td>\n",
       "      <td>41.584158</td>\n",
       "      <td>4</td>\n",
       "      <td>3.96</td>\n",
       "    </tr>\n",
       "    <tr>\n",
       "      <th>1</th>\n",
       "      <td>1</td>\n",
       "      <td>[90, 2.22]</td>\n",
       "      <td>Croydon, 25-34</td>\n",
       "      <td>334</td>\n",
       "      <td>47.904192</td>\n",
       "      <td>17</td>\n",
       "      <td>5.09</td>\n",
       "    </tr>\n",
       "    <tr>\n",
       "      <th>2</th>\n",
       "      <td>1</td>\n",
       "      <td>[101, 3.96]</td>\n",
       "      <td>Croydon, 35-44</td>\n",
       "      <td>223</td>\n",
       "      <td>43.049327</td>\n",
       "      <td>7</td>\n",
       "      <td>3.14</td>\n",
       "    </tr>\n",
       "    <tr>\n",
       "      <th>3</th>\n",
       "      <td>2</td>\n",
       "      <td>[167, 4.79]</td>\n",
       "      <td>Croydon, 45-54</td>\n",
       "      <td>90</td>\n",
       "      <td>45.555556</td>\n",
       "      <td>2</td>\n",
       "      <td>2.22</td>\n",
       "    </tr>\n",
       "    <tr>\n",
       "      <th>4</th>\n",
       "      <td>2</td>\n",
       "      <td>[205, 1.46]</td>\n",
       "      <td>Croydon, 55-64</td>\n",
       "      <td>32</td>\n",
       "      <td>53.125000</td>\n",
       "      <td>1</td>\n",
       "      <td>3.12</td>\n",
       "    </tr>\n",
       "    <tr>\n",
       "      <th>5</th>\n",
       "      <td>2</td>\n",
       "      <td>[223, 3.14]</td>\n",
       "      <td>London, 18-24</td>\n",
       "      <td>167</td>\n",
       "      <td>49.700599</td>\n",
       "      <td>8</td>\n",
       "      <td>4.79</td>\n",
       "    </tr>\n",
       "    <tr>\n",
       "      <th>6</th>\n",
       "      <td>2</td>\n",
       "      <td>[334, 5.09]</td>\n",
       "      <td>London, 25-34</td>\n",
       "      <td>842</td>\n",
       "      <td>59.144893</td>\n",
       "      <td>24</td>\n",
       "      <td>2.85</td>\n",
       "    </tr>\n",
       "    <tr>\n",
       "      <th>7</th>\n",
       "      <td>2</td>\n",
       "      <td>[482, 2.9]</td>\n",
       "      <td>London, 35-44</td>\n",
       "      <td>482</td>\n",
       "      <td>54.771784</td>\n",
       "      <td>14</td>\n",
       "      <td>2.90</td>\n",
       "    </tr>\n",
       "    <tr>\n",
       "      <th>8</th>\n",
       "      <td>3</td>\n",
       "      <td>[842, 2.85]</td>\n",
       "      <td>London, 45-54</td>\n",
       "      <td>205</td>\n",
       "      <td>55.609756</td>\n",
       "      <td>3</td>\n",
       "      <td>1.46</td>\n",
       "    </tr>\n",
       "  </tbody>\n",
       "</table>\n",
       "</div>"
      ],
      "text/plain": [
       "   #cluster_cr       result        city_age  sessions  bounce_rate  \\\n",
       "0            1   [32, 3.12]  Croydon, 18-24       101    41.584158   \n",
       "1            1   [90, 2.22]  Croydon, 25-34       334    47.904192   \n",
       "2            1  [101, 3.96]  Croydon, 35-44       223    43.049327   \n",
       "3            2  [167, 4.79]  Croydon, 45-54        90    45.555556   \n",
       "4            2  [205, 1.46]  Croydon, 55-64        32    53.125000   \n",
       "5            2  [223, 3.14]   London, 18-24       167    49.700599   \n",
       "6            2  [334, 5.09]   London, 25-34       842    59.144893   \n",
       "7            2   [482, 2.9]   London, 35-44       482    54.771784   \n",
       "8            3  [842, 2.85]   London, 45-54       205    55.609756   \n",
       "\n",
       "   conversions  conversion_rate  \n",
       "0            4             3.96  \n",
       "1           17             5.09  \n",
       "2            7             3.14  \n",
       "3            2             2.22  \n",
       "4            1             3.12  \n",
       "5            8             4.79  \n",
       "6           24             2.85  \n",
       "7           14             2.90  \n",
       "8            3             1.46  "
      ]
     },
     "execution_count": 564,
     "metadata": {},
     "output_type": "execute_result"
    }
   ],
   "source": [
    "sessions_cr = pd.concat([result_clusters,a], axis=1)\n",
    "sessions_cr"
   ]
  },
  {
   "cell_type": "code",
   "execution_count": 481,
   "metadata": {
    "collapsed": false
   },
   "outputs": [
    {
     "data": {
      "text/html": [
       "<div>\n",
       "<table border=\"1\" class=\"dataframe\">\n",
       "  <thead>\n",
       "    <tr style=\"text-align: right;\">\n",
       "      <th></th>\n",
       "      <th>#cluster_cr</th>\n",
       "      <th>conversion_rate</th>\n",
       "      <th>city_age</th>\n",
       "      <th>sessions</th>\n",
       "      <th>bounce_rate</th>\n",
       "      <th>conversions</th>\n",
       "    </tr>\n",
       "  </thead>\n",
       "  <tbody>\n",
       "    <tr>\n",
       "      <th>0</th>\n",
       "      <td>1</td>\n",
       "      <td>1.46</td>\n",
       "      <td>London, 45-54</td>\n",
       "      <td>205</td>\n",
       "      <td>55.609756</td>\n",
       "      <td>3</td>\n",
       "    </tr>\n",
       "    <tr>\n",
       "      <th>1</th>\n",
       "      <td>1</td>\n",
       "      <td>2.22</td>\n",
       "      <td>Croydon, 45-54</td>\n",
       "      <td>90</td>\n",
       "      <td>45.555556</td>\n",
       "      <td>2</td>\n",
       "    </tr>\n",
       "    <tr>\n",
       "      <th>2</th>\n",
       "      <td>2</td>\n",
       "      <td>2.85</td>\n",
       "      <td>London, 25-34</td>\n",
       "      <td>842</td>\n",
       "      <td>59.144893</td>\n",
       "      <td>24</td>\n",
       "    </tr>\n",
       "    <tr>\n",
       "      <th>3</th>\n",
       "      <td>2</td>\n",
       "      <td>2.90</td>\n",
       "      <td>London, 35-44</td>\n",
       "      <td>482</td>\n",
       "      <td>54.771784</td>\n",
       "      <td>14</td>\n",
       "    </tr>\n",
       "    <tr>\n",
       "      <th>4</th>\n",
       "      <td>2</td>\n",
       "      <td>3.12</td>\n",
       "      <td>Croydon, 55-64</td>\n",
       "      <td>32</td>\n",
       "      <td>53.125000</td>\n",
       "      <td>1</td>\n",
       "    </tr>\n",
       "    <tr>\n",
       "      <th>5</th>\n",
       "      <td>2</td>\n",
       "      <td>3.14</td>\n",
       "      <td>Croydon, 35-44</td>\n",
       "      <td>223</td>\n",
       "      <td>43.049327</td>\n",
       "      <td>7</td>\n",
       "    </tr>\n",
       "    <tr>\n",
       "      <th>6</th>\n",
       "      <td>2</td>\n",
       "      <td>3.96</td>\n",
       "      <td>Croydon, 18-24</td>\n",
       "      <td>101</td>\n",
       "      <td>41.584158</td>\n",
       "      <td>4</td>\n",
       "    </tr>\n",
       "    <tr>\n",
       "      <th>7</th>\n",
       "      <td>3</td>\n",
       "      <td>4.79</td>\n",
       "      <td>London, 18-24</td>\n",
       "      <td>167</td>\n",
       "      <td>49.700599</td>\n",
       "      <td>8</td>\n",
       "    </tr>\n",
       "    <tr>\n",
       "      <th>8</th>\n",
       "      <td>3</td>\n",
       "      <td>5.09</td>\n",
       "      <td>Croydon, 25-34</td>\n",
       "      <td>334</td>\n",
       "      <td>47.904192</td>\n",
       "      <td>17</td>\n",
       "    </tr>\n",
       "  </tbody>\n",
       "</table>\n",
       "</div>"
      ],
      "text/plain": [
       "   #cluster_cr  conversion_rate        city_age  sessions  bounce_rate  \\\n",
       "0            1             1.46   London, 45-54       205    55.609756   \n",
       "1            1             2.22  Croydon, 45-54        90    45.555556   \n",
       "2            2             2.85   London, 25-34       842    59.144893   \n",
       "3            2             2.90   London, 35-44       482    54.771784   \n",
       "4            2             3.12  Croydon, 55-64        32    53.125000   \n",
       "5            2             3.14  Croydon, 35-44       223    43.049327   \n",
       "6            2             3.96  Croydon, 18-24       101    41.584158   \n",
       "7            3             4.79   London, 18-24       167    49.700599   \n",
       "8            3             5.09  Croydon, 25-34       334    47.904192   \n",
       "\n",
       "   conversions  \n",
       "0            3  \n",
       "1            2  \n",
       "2           24  \n",
       "3           14  \n",
       "4            1  \n",
       "5            7  \n",
       "6            4  \n",
       "7            8  \n",
       "8           17  "
      ]
     },
     "execution_count": 481,
     "metadata": {},
     "output_type": "execute_result"
    }
   ],
   "source": [
    "result_cr"
   ]
  },
  {
   "cell_type": "code",
   "execution_count": 480,
   "metadata": {
    "collapsed": false
   },
   "outputs": [
    {
     "data": {
      "text/html": [
       "<div>\n",
       "<table border=\"1\" class=\"dataframe\">\n",
       "  <thead>\n",
       "    <tr style=\"text-align: right;\">\n",
       "      <th></th>\n",
       "      <th>#cluster_sess</th>\n",
       "      <th>sessions</th>\n",
       "      <th>city_age</th>\n",
       "      <th>bounce_rate</th>\n",
       "      <th>conversions</th>\n",
       "      <th>conversion_rate</th>\n",
       "    </tr>\n",
       "  </thead>\n",
       "  <tbody>\n",
       "    <tr>\n",
       "      <th>0</th>\n",
       "      <td>1</td>\n",
       "      <td>32</td>\n",
       "      <td>Croydon, 55-64</td>\n",
       "      <td>53.125000</td>\n",
       "      <td>1</td>\n",
       "      <td>3.12</td>\n",
       "    </tr>\n",
       "    <tr>\n",
       "      <th>1</th>\n",
       "      <td>1</td>\n",
       "      <td>90</td>\n",
       "      <td>Croydon, 45-54</td>\n",
       "      <td>45.555556</td>\n",
       "      <td>2</td>\n",
       "      <td>2.22</td>\n",
       "    </tr>\n",
       "    <tr>\n",
       "      <th>2</th>\n",
       "      <td>1</td>\n",
       "      <td>101</td>\n",
       "      <td>Croydon, 18-24</td>\n",
       "      <td>41.584158</td>\n",
       "      <td>4</td>\n",
       "      <td>3.96</td>\n",
       "    </tr>\n",
       "    <tr>\n",
       "      <th>3</th>\n",
       "      <td>2</td>\n",
       "      <td>167</td>\n",
       "      <td>London, 18-24</td>\n",
       "      <td>49.700599</td>\n",
       "      <td>8</td>\n",
       "      <td>4.79</td>\n",
       "    </tr>\n",
       "    <tr>\n",
       "      <th>4</th>\n",
       "      <td>2</td>\n",
       "      <td>205</td>\n",
       "      <td>London, 45-54</td>\n",
       "      <td>55.609756</td>\n",
       "      <td>3</td>\n",
       "      <td>1.46</td>\n",
       "    </tr>\n",
       "    <tr>\n",
       "      <th>5</th>\n",
       "      <td>2</td>\n",
       "      <td>223</td>\n",
       "      <td>Croydon, 35-44</td>\n",
       "      <td>43.049327</td>\n",
       "      <td>7</td>\n",
       "      <td>3.14</td>\n",
       "    </tr>\n",
       "    <tr>\n",
       "      <th>6</th>\n",
       "      <td>2</td>\n",
       "      <td>334</td>\n",
       "      <td>Croydon, 25-34</td>\n",
       "      <td>47.904192</td>\n",
       "      <td>17</td>\n",
       "      <td>5.09</td>\n",
       "    </tr>\n",
       "    <tr>\n",
       "      <th>7</th>\n",
       "      <td>2</td>\n",
       "      <td>482</td>\n",
       "      <td>London, 35-44</td>\n",
       "      <td>54.771784</td>\n",
       "      <td>14</td>\n",
       "      <td>2.90</td>\n",
       "    </tr>\n",
       "    <tr>\n",
       "      <th>8</th>\n",
       "      <td>3</td>\n",
       "      <td>842</td>\n",
       "      <td>London, 25-34</td>\n",
       "      <td>59.144893</td>\n",
       "      <td>24</td>\n",
       "      <td>2.85</td>\n",
       "    </tr>\n",
       "  </tbody>\n",
       "</table>\n",
       "</div>"
      ],
      "text/plain": [
       "   #cluster_sess  sessions        city_age  bounce_rate  conversions  \\\n",
       "0              1        32  Croydon, 55-64    53.125000            1   \n",
       "1              1        90  Croydon, 45-54    45.555556            2   \n",
       "2              1       101  Croydon, 18-24    41.584158            4   \n",
       "3              2       167   London, 18-24    49.700599            8   \n",
       "4              2       205   London, 45-54    55.609756            3   \n",
       "5              2       223  Croydon, 35-44    43.049327            7   \n",
       "6              2       334  Croydon, 25-34    47.904192           17   \n",
       "7              2       482   London, 35-44    54.771784           14   \n",
       "8              3       842   London, 25-34    59.144893           24   \n",
       "\n",
       "   conversion_rate  \n",
       "0             3.12  \n",
       "1             2.22  \n",
       "2             3.96  \n",
       "3             4.79  \n",
       "4             1.46  \n",
       "5             3.14  \n",
       "6             5.09  \n",
       "7             2.90  \n",
       "8             2.85  "
      ]
     },
     "execution_count": 480,
     "metadata": {},
     "output_type": "execute_result"
    }
   ],
   "source": [
    "result_sess"
   ]
  },
  {
   "cell_type": "code",
   "execution_count": 479,
   "metadata": {
    "collapsed": false
   },
   "outputs": [
    {
     "data": {
      "text/html": [
       "<div>\n",
       "<table border=\"1\" class=\"dataframe\">\n",
       "  <thead>\n",
       "    <tr style=\"text-align: right;\">\n",
       "      <th></th>\n",
       "      <th>city_age</th>\n",
       "      <th>#cluster_sess</th>\n",
       "      <th>#cluster_cr</th>\n",
       "      <th>sessions_x</th>\n",
       "      <th>conversion_rate_x</th>\n",
       "    </tr>\n",
       "  </thead>\n",
       "  <tbody>\n",
       "    <tr>\n",
       "      <th>0</th>\n",
       "      <td>London, 45-54</td>\n",
       "      <td>2</td>\n",
       "      <td>1</td>\n",
       "      <td>205</td>\n",
       "      <td>1.46</td>\n",
       "    </tr>\n",
       "    <tr>\n",
       "      <th>1</th>\n",
       "      <td>Croydon, 45-54</td>\n",
       "      <td>1</td>\n",
       "      <td>1</td>\n",
       "      <td>90</td>\n",
       "      <td>2.22</td>\n",
       "    </tr>\n",
       "    <tr>\n",
       "      <th>2</th>\n",
       "      <td>London, 25-34</td>\n",
       "      <td>3</td>\n",
       "      <td>2</td>\n",
       "      <td>842</td>\n",
       "      <td>2.85</td>\n",
       "    </tr>\n",
       "    <tr>\n",
       "      <th>3</th>\n",
       "      <td>London, 35-44</td>\n",
       "      <td>2</td>\n",
       "      <td>2</td>\n",
       "      <td>482</td>\n",
       "      <td>2.90</td>\n",
       "    </tr>\n",
       "    <tr>\n",
       "      <th>4</th>\n",
       "      <td>Croydon, 55-64</td>\n",
       "      <td>1</td>\n",
       "      <td>2</td>\n",
       "      <td>32</td>\n",
       "      <td>3.12</td>\n",
       "    </tr>\n",
       "    <tr>\n",
       "      <th>5</th>\n",
       "      <td>Croydon, 35-44</td>\n",
       "      <td>2</td>\n",
       "      <td>2</td>\n",
       "      <td>223</td>\n",
       "      <td>3.14</td>\n",
       "    </tr>\n",
       "    <tr>\n",
       "      <th>6</th>\n",
       "      <td>Croydon, 18-24</td>\n",
       "      <td>1</td>\n",
       "      <td>2</td>\n",
       "      <td>101</td>\n",
       "      <td>3.96</td>\n",
       "    </tr>\n",
       "    <tr>\n",
       "      <th>7</th>\n",
       "      <td>London, 18-24</td>\n",
       "      <td>2</td>\n",
       "      <td>3</td>\n",
       "      <td>167</td>\n",
       "      <td>4.79</td>\n",
       "    </tr>\n",
       "    <tr>\n",
       "      <th>8</th>\n",
       "      <td>Croydon, 25-34</td>\n",
       "      <td>2</td>\n",
       "      <td>3</td>\n",
       "      <td>334</td>\n",
       "      <td>5.09</td>\n",
       "    </tr>\n",
       "  </tbody>\n",
       "</table>\n",
       "</div>"
      ],
      "text/plain": [
       "         city_age  #cluster_sess  #cluster_cr  sessions_x  conversion_rate_x\n",
       "0   London, 45-54              2            1         205               1.46\n",
       "1  Croydon, 45-54              1            1          90               2.22\n",
       "2   London, 25-34              3            2         842               2.85\n",
       "3   London, 35-44              2            2         482               2.90\n",
       "4  Croydon, 55-64              1            2          32               3.12\n",
       "5  Croydon, 35-44              2            2         223               3.14\n",
       "6  Croydon, 18-24              1            2         101               3.96\n",
       "7   London, 18-24              2            3         167               4.79\n",
       "8  Croydon, 25-34              2            3         334               5.09"
      ]
     },
     "execution_count": 479,
     "metadata": {},
     "output_type": "execute_result"
    }
   ],
   "source": [
    "finish"
   ]
  },
  {
   "cell_type": "code",
   "execution_count": null,
   "metadata": {
    "collapsed": true
   },
   "outputs": [],
   "source": []
  },
  {
   "cell_type": "code",
   "execution_count": null,
   "metadata": {
    "collapsed": true
   },
   "outputs": [],
   "source": []
  },
  {
   "cell_type": "code",
   "execution_count": null,
   "metadata": {
    "collapsed": true
   },
   "outputs": [],
   "source": []
  },
  {
   "cell_type": "code",
   "execution_count": null,
   "metadata": {
    "collapsed": true
   },
   "outputs": [],
   "source": []
  },
  {
   "cell_type": "code",
   "execution_count": null,
   "metadata": {
    "collapsed": true
   },
   "outputs": [],
   "source": []
  },
  {
   "cell_type": "code",
   "execution_count": null,
   "metadata": {
    "collapsed": true
   },
   "outputs": [],
   "source": []
  },
  {
   "cell_type": "code",
   "execution_count": null,
   "metadata": {
    "collapsed": true
   },
   "outputs": [],
   "source": []
  },
  {
   "cell_type": "code",
   "execution_count": null,
   "metadata": {
    "collapsed": true
   },
   "outputs": [],
   "source": []
  },
  {
   "cell_type": "code",
   "execution_count": null,
   "metadata": {
    "collapsed": true
   },
   "outputs": [],
   "source": []
  },
  {
   "cell_type": "code",
   "execution_count": 26,
   "metadata": {
    "collapsed": true
   },
   "outputs": [],
   "source": [
    "np.random.seed(1000)\n",
    "\n",
    "\n",
    "# Настройка шрифтов для будущих графиков\n",
    "rcParams['font.family'] = 'DejaVu Sans' # Понимает русские буквы\n",
    "rcParams['font.size'] = 16"
   ]
  },
  {
   "cell_type": "code",
   "execution_count": 28,
   "metadata": {
    "collapsed": false
   },
   "outputs": [
    {
     "data": {
      "text/plain": [
       "array([[ 101.        ,   41.58415842,    4.        ,    3.96      ],\n",
       "       [ 334.        ,   47.90419162,   17.        ,    5.09      ],\n",
       "       [ 223.        ,   43.04932735,    7.        ,    3.14      ],\n",
       "       [  90.        ,   45.55555556,    2.        ,    2.22      ],\n",
       "       [  32.        ,   53.125     ,    1.        ,    3.12      ],\n",
       "       [ 167.        ,   49.7005988 ,    8.        ,    4.79      ],\n",
       "       [ 842.        ,   59.14489311,   24.        ,    2.85      ],\n",
       "       [ 482.        ,   54.77178423,   14.        ,    2.9       ],\n",
       "       [ 205.        ,   55.6097561 ,    3.        ,    1.46      ]])"
      ]
     },
     "execution_count": 28,
     "metadata": {},
     "output_type": "execute_result"
    }
   ],
   "source": [
    "data_for_clust =  table_data.ix[:,1:].as_matrix()\n",
    "data_for_clust"
   ]
  },
  {
   "cell_type": "code",
   "execution_count": 30,
   "metadata": {
    "collapsed": false
   },
   "outputs": [
    {
     "data": {
      "text/plain": [
       "array([ 233.45067942,  122.0484294 ,   11.99164689,   70.0278275 ,\n",
       "         66.62256003,  741.47866558,  381.36077024,  104.97603246,\n",
       "        111.57227347,  244.48875842,  302.47502003,  167.25225583,\n",
       "        508.17749947,  148.20580261,  130.03673567,  133.12072558,\n",
       "        191.35966027,   56.42660642,  619.44261343,  259.35973781,\n",
       "         22.37379651,   58.50731996,   77.38724884,  752.44472687,\n",
       "        392.29249454,  115.44550467,  135.23503771,  810.3488829 ,\n",
       "        450.19080432,  173.03736479,  675.25843815,  315.10361633,\n",
       "         38.92309135,  360.16541558,  637.35737957,  277.22333198])"
      ]
     },
     "execution_count": 30,
     "metadata": {},
     "output_type": "execute_result"
    }
   ],
   "source": [
    "# Вычислим расстояния между каждым набором данных,\n",
    "# т.е. строками массива data_for_clust\n",
    "# Вычисляется евклидово расстояние (по умолчанию)\n",
    "data_dist = pdist(data_for_clust, 'euclidean')\n",
    "data_dist"
   ]
  },
  {
   "cell_type": "code",
   "execution_count": 32,
   "metadata": {
    "collapsed": false
   },
   "outputs": [
    {
     "data": {
      "text/plain": [
       "array([[   0.        ,    3.        ,   11.99164689,    2.        ],\n",
       "       [   2.        ,    8.        ,   22.37379651,    2.        ],\n",
       "       [   5.        ,   10.        ,   47.67484888,    3.        ],\n",
       "       [   4.        ,    9.        ,   64.26757373,    3.        ],\n",
       "       [  11.        ,   12.        ,  124.35917375,    6.        ],\n",
       "       [   1.        ,    7.        ,  148.20580261,    2.        ],\n",
       "       [  13.        ,   14.        ,  272.0672065 ,    8.        ],\n",
       "       [   6.        ,   15.        ,  638.08420269,    9.        ]])"
      ]
     },
     "execution_count": 32,
     "metadata": {},
     "output_type": "execute_result"
    }
   ],
   "source": [
    "# Главная функция иерархической кластеризии\n",
    "# Объедение элементов в кластера и сохранение в \n",
    "# специальной переменной (используется ниже для визуализации \n",
    "# и выделения количества кластеров\n",
    "data_linkage = linkage(data_dist, method='average')\n",
    "data_linkage"
   ]
  },
  {
   "cell_type": "code",
   "execution_count": 33,
   "metadata": {
    "collapsed": true
   },
   "outputs": [],
   "source": [
    "def wgss(data, groups):\n",
    "    '''Within groups sum of squares (wgss)\n",
    "#     Сумма квадратов расстояний от центроида до каждой точки данных \n",
    "#     в многомерном пространстве.\n",
    "#     Специально на английском, чтобы объяснить название функции \n",
    "    '''\n",
    "    _data = np.array(data)\n",
    "    res = 0.0\n",
    "    for cluster in groups:\n",
    "        inclust = _data[np.array(groups) == cluster]\n",
    "        meanval = np.mean(inclust, axis=0)\n",
    "        res += np.sum((inclust - meanval) ** 2)\n",
    "    return res"
   ]
  },
  {
   "cell_type": "code",
   "execution_count": 34,
   "metadata": {
    "collapsed": false
   },
   "outputs": [
    {
     "data": {
      "text/plain": [
       "<matplotlib.text.Text at 0x9a687b0>"
      ]
     },
     "execution_count": 34,
     "metadata": {},
     "output_type": "execute_result"
    }
   ],
   "source": [
    "# -------------- Elbow method (метод локтя) -------------------------\n",
    "elbow = [np.nan, wgss(data_for_clust, [1]*len(data_for_clust[:,1]))]\n",
    "for k in range(2, 10):\n",
    "    groups = fcluster(data_linkage, k, criterion='maxclust')\n",
    "    elbow.append(wgss(data_for_clust, groups))\n",
    "\n",
    "fig = figure()\n",
    "ax = fig.add_subplot('121') # 2 графика в строке, выбираем первый график\n",
    "elbow = np.array(elbow) # Пусть будет numpy массив, удобней...\n",
    "ax.plot(elbow/np.nanmax(elbow),'o', ls='solid')\n",
    "ax.set_xlim([0, 10])\n",
    "ax.set_ylim([0, 1.2])\n",
    "ax.set_title(u'Сумма внутригрупповых вариаций')\n",
    "ax.set_xlabel(u'Число кластеров')\n",
    "\n",
    "ax1 = fig.add_subplot('122') # выбираем второй график в строке\n",
    "\n",
    "ax1.plot((elbow[1]-elbow)/np.nanmax(elbow),'o', ls='solid') \n",
    "ax1.set_xlim([0, 10])\n",
    "ax1.set_ylim([0, 1.2])\n",
    "ax1.set_xlabel(u'Число кластеров')\n",
    "ax1.set_title(u'Доля объясняемой вариации')\n",
    "# ---------------------------------------------------------------------"
   ]
  },
  {
   "cell_type": "code",
   "execution_count": 36,
   "metadata": {
    "collapsed": false
   },
   "outputs": [
    {
     "ename": "NameError",
     "evalue": "name 'labels' is not defined",
     "output_type": "error",
     "traceback": [
      "\u001b[0;31m---------------------------------------------------------------------------\u001b[0m",
      "\u001b[0;31mNameError\u001b[0m                                 Traceback (most recent call last)",
      "\u001b[0;32m<ipython-input-36-382c12bf9dcf>\u001b[0m in \u001b[0;36m<module>\u001b[0;34m()\u001b[0m\n\u001b[1;32m     15\u001b[0m \u001b[1;33m\u001b[0m\u001b[0m\n\u001b[1;32m     16\u001b[0m \u001b[0mfigure\u001b[0m\u001b[1;33m(\u001b[0m\u001b[1;33m)\u001b[0m\u001b[1;33m\u001b[0m\u001b[0m\n\u001b[0;32m---> 17\u001b[0;31m \u001b[0mdendrogram\u001b[0m\u001b[1;33m(\u001b[0m\u001b[0mdata_linkage\u001b[0m\u001b[1;33m,\u001b[0m \u001b[0mlabels\u001b[0m\u001b[1;33m=\u001b[0m\u001b[0mlabels\u001b[0m\u001b[1;33m)\u001b[0m\u001b[1;33m\u001b[0m\u001b[0m\n\u001b[0m\u001b[1;32m     18\u001b[0m \u001b[0mtitle\u001b[0m\u001b[1;33m(\u001b[0m\u001b[1;34mu'Дендрограмма'\u001b[0m\u001b[1;33m)\u001b[0m\u001b[1;33m\u001b[0m\u001b[0m\n\u001b[1;32m     19\u001b[0m \u001b[1;33m\u001b[0m\u001b[0m\n",
      "\u001b[0;31mNameError\u001b[0m: name 'labels' is not defined"
     ]
    }
   ],
   "source": [
    "# ------------- Проекция кластеров на главные компоненты --------------\n",
    "pca = PCA(n_components=2) # Будем проецировать данные на 2 главные компоненты\n",
    "Xt = pca.fit_transform(data_for_clust)\n",
    "fig = figure()\n",
    "for k in range(2, 8):\n",
    "    groups = fcluster(data_linkage, k, criterion='maxclust')\n",
    "    ax = fig.add_subplot(3, 2, k-1)\n",
    "    for j, m, c in zip(range(k), 'so><^v', 'rgbmyc'):\n",
    "        ax.scatter(Xt[groups==(j+1), 0], Xt[groups==(j+1), 1], marker=m, s=30, label='%s'%j, facecolors=c)\n",
    "        ax.set_title('k=%s'%k)\n",
    "        ax.legend(fontsize=14, loc=\"lower right\")\n",
    "fig.suptitle(u'Проекрация кластеров на главные компоненты')\n",
    "# ---------------------------------------------------------------------\n",
    "\n",
    "\n",
    "figure()\n",
    "dendrogram(data_linkage, labels=labels)\n",
    "title(u'Дендрограмма')\n",
    "\n",
    "show()\n",
    "\n",
    "# ------------- Проекция на главные дискриминантны оси-----------------\n",
    "import seaborn as sns; sns.set(color_codes=True)\n",
    "rcParams['font.family'] = 'DejaVu Sans' # Импорт seaborn сбрасывает настройки, устанавливаем их снова\n",
    "rcParams['font.size'] = 16\n",
    "lda = LDA(n_components=2) # Проецируем данные на 2 главные дискримнационные оси\n",
    "fig = figure()\n",
    "for k in range(3, 9):\n",
    "    groups = fcluster(data_linkage, k, criterion='maxclust')\n",
    "    lda.fit(data_for_clust, groups)\n",
    "    Xt = lda.transform(data_for_clust) # Собственно проекция данных\n",
    "    ax = fig.add_subplot(3, 2, k-2)\n",
    "    for j, m, c in zip(range(k), 'so><^v', 'rgbmyc'):\n",
    "        # Проекции при различном числе кластеров разные (в отличие от главных компонент!)\n",
    "        # Поэтому и данные выглядят на графиках различно\n",
    "        ax.scatter(Xt[groups==(j+1), 0], Xt[groups==(j+1), 1], marker=m, s=30, label='%s'%j, facecolors=c, zorder=10)\n",
    "        sns.kdeplot(Xt[:, 0], Xt[:, 1], shade=True, cmap=\"Blues\")\n",
    "        ax.set_title('k=%s'%k)\n",
    "        ax.legend(fontsize=14, loc=\"lower right\")\n",
    "fig.suptitle(u'Проекрация кластеров на дискриминантные оси')\n",
    "# ---------------------------------------------------------------------"
   ]
  },
  {
   "cell_type": "code",
   "execution_count": null,
   "metadata": {
    "collapsed": true
   },
   "outputs": [],
   "source": []
  },
  {
   "cell_type": "code",
   "execution_count": null,
   "metadata": {
    "collapsed": true
   },
   "outputs": [],
   "source": []
  },
  {
   "cell_type": "code",
   "execution_count": null,
   "metadata": {
    "collapsed": true
   },
   "outputs": [],
   "source": []
  },
  {
   "cell_type": "code",
   "execution_count": null,
   "metadata": {
    "collapsed": true
   },
   "outputs": [],
   "source": []
  },
  {
   "cell_type": "code",
   "execution_count": null,
   "metadata": {
    "collapsed": true
   },
   "outputs": [],
   "source": []
  },
  {
   "cell_type": "code",
   "execution_count": null,
   "metadata": {
    "collapsed": true
   },
   "outputs": [],
   "source": []
  },
  {
   "cell_type": "code",
   "execution_count": null,
   "metadata": {
    "collapsed": true
   },
   "outputs": [],
   "source": []
  },
  {
   "cell_type": "code",
   "execution_count": null,
   "metadata": {
    "collapsed": true
   },
   "outputs": [],
   "source": []
  },
  {
   "cell_type": "code",
   "execution_count": null,
   "metadata": {
    "collapsed": true
   },
   "outputs": [],
   "source": []
  },
  {
   "cell_type": "code",
   "execution_count": null,
   "metadata": {
    "collapsed": true
   },
   "outputs": [],
   "source": []
  },
  {
   "cell_type": "code",
   "execution_count": null,
   "metadata": {
    "collapsed": true
   },
   "outputs": [],
   "source": []
  },
  {
   "cell_type": "code",
   "execution_count": null,
   "metadata": {
    "collapsed": true
   },
   "outputs": [],
   "source": []
  },
  {
   "cell_type": "code",
   "execution_count": 45,
   "metadata": {
    "collapsed": false
   },
   "outputs": [
    {
     "data": {
      "text/plain": [
       "[[32], [90], [101], [167], [205], [223], [334], [482], [842]]"
      ]
     },
     "execution_count": 45,
     "metadata": {},
     "output_type": "execute_result"
    }
   ],
   "source": [
    "samples_sessions=[]\n",
    "for i in range(0,len(table_data)):\n",
    "    a = [table_data.sessions[i]]\n",
    "    samples_sessions.append(a)\n",
    "    \n",
    "samples_sessions = sorted(samples_sessions, key=lambda x: x[0])\n",
    "samples_sessions"
   ]
  },
  {
   "cell_type": "code",
   "execution_count": 46,
   "metadata": {
    "collapsed": false
   },
   "outputs": [
    {
     "data": {
      "text/plain": [
       "4"
      ]
     },
     "execution_count": 46,
     "metadata": {},
     "output_type": "execute_result"
    }
   ],
   "source": [
    "mediana_number = int(len(samples_sessions)/2)\n",
    "mediana_number"
   ]
  },
  {
   "cell_type": "code",
   "execution_count": 47,
   "metadata": {
    "collapsed": true
   },
   "outputs": [],
   "source": [
    "import random\n",
    "import math\n",
    "\n",
    "NUM_CLUSTERS = 3\n",
    "TOTAL_DATA = len(samples_sessions)\n",
    "LOWEST_SAMPLE_POINT = samples_sessions.index(min(samples_sessions)) #element 9 of SAMPLES.\n",
    "Middle_SAMPLE_POINT = mediana_number\n",
    "HIGHEST_SAMPLE_POINT = samples_sessions.index(max(samples_sessions)) #element 6 of SAMPLES.\n",
    "BIG_NUMBER = math.pow(10, 10)\n",
    "\n",
    "\n",
    "SAMPLES = samples_sessions\n",
    "data1 = []\n",
    "centroids = []\n",
    "\n",
    "class DataPoint:\n",
    "    def __init__(self, x):\n",
    "        self.x = x\n",
    "          \n",
    "    def set_x(self, x):\n",
    "        self.x = x\n",
    "    \n",
    "    def get_x(self):\n",
    "        return self.x\n",
    "      \n",
    "    def set_cluster(self, clusterNumber):\n",
    "        self.clusterNumber = clusterNumber\n",
    "    \n",
    "    def get_cluster(self):\n",
    "        return self.clusterNumber\n",
    "\n",
    "class Centroid:\n",
    "    def __init__(self, x):\n",
    "        self.x = x\n",
    "    \n",
    "    def set_x(self, x):\n",
    "        self.x = x\n",
    "    \n",
    "    def get_x(self):\n",
    "        return self.x\n",
    "    \n"
   ]
  },
  {
   "cell_type": "code",
   "execution_count": 48,
   "metadata": {
    "collapsed": false
   },
   "outputs": [],
   "source": [
    "def initialize_centroids():\n",
    "    # Set the centoid coordinates to match the data points furthest from each other.\n",
    "    # In this example, [31, 51.613, 1, 3.2260000000000004] and [758, 59.234999999999999, 22, 2.9019999999999997]\n",
    "    centroids.append(Centroid(SAMPLES[LOWEST_SAMPLE_POINT][0]))\n",
    "    centroids.append(Centroid(SAMPLES[Middle_SAMPLE_POINT][0]))\n",
    "    centroids.append(Centroid(SAMPLES[HIGHEST_SAMPLE_POINT][0]))\n",
    "    \n",
    "    print(\"Centroids initialized at:\")\n",
    "    print(\"(\", centroids[0].get_x(),\")\")\n",
    "    print(\"(\", centroids[1].get_x(),\")\")\n",
    "    print(\"(\", centroids[2].get_x(),\")\")\n",
    "    print()\n",
    "    return\n",
    "#print(initialize_centroids())\n",
    "#print(centroids.append(Centroid(SAMPLES[HIGHEST_SAMPLE_POINT][0])))"
   ]
  },
  {
   "cell_type": "code",
   "execution_count": 49,
   "metadata": {
    "collapsed": true
   },
   "outputs": [],
   "source": [
    "def initialize_datapoints():\n",
    "    # DataPoint objects' x and y values are taken from the SAMPLE array.\n",
    "    # The DataPoints associated with LOWEST_SAMPLE_POINT and HIGHEST_SAMPLE_POINT are initially\n",
    "    # assigned to the clusters matching the LOWEST_SAMPLE_POINT and HIGHEST_SAMPLE_POINT centroids.\n",
    "    for i in range(TOTAL_DATA):\n",
    "        newPoint = DataPoint(SAMPLES[i][0])\n",
    "        \n",
    "        if(i == LOWEST_SAMPLE_POINT):\n",
    "            newPoint.set_cluster(0)\n",
    "        elif(i == Middle_SAMPLE_POINT):\n",
    "            newPoint.set_cluster(1)\n",
    "        elif(i == HIGHEST_SAMPLE_POINT):\n",
    "            newPoint.set_cluster(2)\n",
    "        else:\n",
    "            newPoint.set_cluster(None)\n",
    "            \n",
    "        data1.append(newPoint)\n",
    "    \n",
    "    return\n",
    "\n"
   ]
  },
  {
   "cell_type": "code",
   "execution_count": 50,
   "metadata": {
    "collapsed": true
   },
   "outputs": [],
   "source": [
    "def get_distance(dataPointX, centroidX):\n",
    "    # Calculate Euclidean distance.\n",
    "    return math.sqrt(math.pow((centroidX - dataPointX), 2))\n"
   ]
  },
  {
   "cell_type": "code",
   "execution_count": 51,
   "metadata": {
    "collapsed": false
   },
   "outputs": [
    {
     "name": "stdout",
     "output_type": "stream",
     "text": [
      "None\n"
     ]
    }
   ],
   "source": [
    "def recalculate_centroids():\n",
    "    totalX = 0\n",
    "    totalInCluster = 0\n",
    "    \n",
    "    for j in range(NUM_CLUSTERS):\n",
    "        for k in range(len(data1)):\n",
    "            if(data1[k].get_cluster() == j):\n",
    "                totalX += data1[k].get_x()\n",
    "                totalInCluster += 1\n",
    "        \n",
    "        if(totalInCluster > 0):\n",
    "            centroids[j].set_x(totalX / totalInCluster)\n",
    "               \n",
    "    return\n",
    "\n",
    "print(recalculate_centroids())"
   ]
  },
  {
   "cell_type": "code",
   "execution_count": 52,
   "metadata": {
    "collapsed": true
   },
   "outputs": [],
   "source": [
    "def update_clusters():\n",
    "    isStillMoving = 0\n",
    "    \n",
    "    for i in range(TOTAL_DATA):\n",
    "        bestMinimum = BIG_NUMBER\n",
    "        currentCluster = 0\n",
    "        \n",
    "        for j in range(NUM_CLUSTERS):\n",
    "            distance = get_distance(data1[i].get_x(), centroids[j].get_x())\n",
    "            if(distance < bestMinimum):\n",
    "                bestMinimum = distance\n",
    "                currentCluster = j\n",
    "        \n",
    "        data1[i].set_cluster(currentCluster)\n",
    "        \n",
    "        if(data1[i].get_cluster() is None or data1[i].get_cluster() != currentCluster):\n",
    "            data1[i].set_cluster(currentCluster)\n",
    "            isStillMoving = 1\n",
    "    \n",
    "    return isStillMoving"
   ]
  },
  {
   "cell_type": "code",
   "execution_count": 53,
   "metadata": {
    "collapsed": false
   },
   "outputs": [
    {
     "name": "stdout",
     "output_type": "stream",
     "text": [
      "Centroids initialized at:\n",
      "( 32 )\n",
      "( 205 )\n",
      "( 842 )\n",
      "\n"
     ]
    }
   ],
   "source": [
    "def perform_kmeans():\n",
    "    isStillMoving = 1\n",
    "    \n",
    "    initialize_centroids()\n",
    "    \n",
    "    initialize_datapoints()\n",
    "    \n",
    "    while(isStillMoving):\n",
    "        recalculate_centroids()\n",
    "        isStillMoving = update_clusters()\n",
    "    \n",
    "    return\n",
    "\n",
    "perform_kmeans()"
   ]
  },
  {
   "cell_type": "code",
   "execution_count": 54,
   "metadata": {
    "collapsed": false
   },
   "outputs": [
    {
     "data": {
      "text/plain": [
       "[[0, 32],\n",
       " [1, 90],\n",
       " [1, 101],\n",
       " [1, 167],\n",
       " [1, 205],\n",
       " [1, 223],\n",
       " [2, 334],\n",
       " [2, 482],\n",
       " [2, 842]]"
      ]
     },
     "execution_count": 54,
     "metadata": {},
     "output_type": "execute_result"
    }
   ],
   "source": [
    "def print_results():\n",
    "    result_list = []\n",
    "    for i in range(NUM_CLUSTERS):\n",
    "        \n",
    "        for j in range(TOTAL_DATA):            \n",
    "            \n",
    "            if(data1[j].get_cluster() == i):\n",
    "                result = []               \n",
    "                result.append(data1[j].get_cluster())\n",
    "                result.append(data1[j].get_x()) \n",
    "                result_list.append(result)\n",
    "                               \n",
    "    return result_list\n",
    "\n",
    "print_results()\n"
   ]
  },
  {
   "cell_type": "code",
   "execution_count": 55,
   "metadata": {
    "collapsed": false
   },
   "outputs": [
    {
     "data": {
      "text/html": [
       "<div>\n",
       "<table border=\"1\" class=\"dataframe\">\n",
       "  <thead>\n",
       "    <tr style=\"text-align: right;\">\n",
       "      <th></th>\n",
       "      <th>#cluster_for_sess</th>\n",
       "      <th>sessions</th>\n",
       "    </tr>\n",
       "  </thead>\n",
       "  <tbody>\n",
       "    <tr>\n",
       "      <th>0</th>\n",
       "      <td>0</td>\n",
       "      <td>32</td>\n",
       "    </tr>\n",
       "    <tr>\n",
       "      <th>1</th>\n",
       "      <td>1</td>\n",
       "      <td>90</td>\n",
       "    </tr>\n",
       "    <tr>\n",
       "      <th>2</th>\n",
       "      <td>1</td>\n",
       "      <td>101</td>\n",
       "    </tr>\n",
       "    <tr>\n",
       "      <th>3</th>\n",
       "      <td>1</td>\n",
       "      <td>167</td>\n",
       "    </tr>\n",
       "    <tr>\n",
       "      <th>4</th>\n",
       "      <td>1</td>\n",
       "      <td>205</td>\n",
       "    </tr>\n",
       "    <tr>\n",
       "      <th>5</th>\n",
       "      <td>1</td>\n",
       "      <td>223</td>\n",
       "    </tr>\n",
       "    <tr>\n",
       "      <th>6</th>\n",
       "      <td>2</td>\n",
       "      <td>334</td>\n",
       "    </tr>\n",
       "    <tr>\n",
       "      <th>7</th>\n",
       "      <td>2</td>\n",
       "      <td>482</td>\n",
       "    </tr>\n",
       "    <tr>\n",
       "      <th>8</th>\n",
       "      <td>2</td>\n",
       "      <td>842</td>\n",
       "    </tr>\n",
       "  </tbody>\n",
       "</table>\n",
       "</div>"
      ],
      "text/plain": [
       "   #cluster_for_sess  sessions\n",
       "0                  0        32\n",
       "1                  1        90\n",
       "2                  1       101\n",
       "3                  1       167\n",
       "4                  1       205\n",
       "5                  1       223\n",
       "6                  2       334\n",
       "7                  2       482\n",
       "8                  2       842"
      ]
     },
     "execution_count": 55,
     "metadata": {},
     "output_type": "execute_result"
    }
   ],
   "source": [
    "cluster_sessions = pd.DataFrame(print_results(),columns = ['#cluster_for_sess','sessions'])\n",
    "cluster_sessions"
   ]
  },
  {
   "cell_type": "code",
   "execution_count": 56,
   "metadata": {
    "collapsed": false
   },
   "outputs": [
    {
     "name": "stderr",
     "output_type": "stream",
     "text": [
      "C:\\ProgramData\\Anaconda3\\lib\\site-packages\\ipykernel\\__main__.py:1: FutureWarning: sort(columns=....) is deprecated, use sort_values(by=.....)\n",
      "  if __name__ == '__main__':\n"
     ]
    },
    {
     "data": {
      "text/html": [
       "<div>\n",
       "<table border=\"1\" class=\"dataframe\">\n",
       "  <thead>\n",
       "    <tr style=\"text-align: right;\">\n",
       "      <th></th>\n",
       "      <th>sessions</th>\n",
       "      <th>bounce_rate</th>\n",
       "      <th>conversions</th>\n",
       "      <th>conversion_rate</th>\n",
       "      <th>city_age</th>\n",
       "      <th>#cluster_for_sess</th>\n",
       "    </tr>\n",
       "  </thead>\n",
       "  <tbody>\n",
       "    <tr>\n",
       "      <th>0</th>\n",
       "      <td>32</td>\n",
       "      <td>53.125000</td>\n",
       "      <td>1</td>\n",
       "      <td>3.12</td>\n",
       "      <td>Croydon, 55-64</td>\n",
       "      <td>0</td>\n",
       "    </tr>\n",
       "    <tr>\n",
       "      <th>1</th>\n",
       "      <td>90</td>\n",
       "      <td>45.555556</td>\n",
       "      <td>2</td>\n",
       "      <td>2.22</td>\n",
       "      <td>Croydon, 45-54</td>\n",
       "      <td>1</td>\n",
       "    </tr>\n",
       "    <tr>\n",
       "      <th>2</th>\n",
       "      <td>101</td>\n",
       "      <td>41.584158</td>\n",
       "      <td>4</td>\n",
       "      <td>3.96</td>\n",
       "      <td>Croydon, 18-24</td>\n",
       "      <td>1</td>\n",
       "    </tr>\n",
       "    <tr>\n",
       "      <th>3</th>\n",
       "      <td>167</td>\n",
       "      <td>49.700599</td>\n",
       "      <td>8</td>\n",
       "      <td>4.79</td>\n",
       "      <td>London, 18-24</td>\n",
       "      <td>1</td>\n",
       "    </tr>\n",
       "    <tr>\n",
       "      <th>4</th>\n",
       "      <td>205</td>\n",
       "      <td>55.609756</td>\n",
       "      <td>3</td>\n",
       "      <td>1.46</td>\n",
       "      <td>London, 45-54</td>\n",
       "      <td>1</td>\n",
       "    </tr>\n",
       "    <tr>\n",
       "      <th>5</th>\n",
       "      <td>223</td>\n",
       "      <td>43.049327</td>\n",
       "      <td>7</td>\n",
       "      <td>3.14</td>\n",
       "      <td>Croydon, 35-44</td>\n",
       "      <td>1</td>\n",
       "    </tr>\n",
       "    <tr>\n",
       "      <th>6</th>\n",
       "      <td>334</td>\n",
       "      <td>47.904192</td>\n",
       "      <td>17</td>\n",
       "      <td>5.09</td>\n",
       "      <td>Croydon, 25-34</td>\n",
       "      <td>2</td>\n",
       "    </tr>\n",
       "    <tr>\n",
       "      <th>7</th>\n",
       "      <td>482</td>\n",
       "      <td>54.771784</td>\n",
       "      <td>14</td>\n",
       "      <td>2.90</td>\n",
       "      <td>London, 35-44</td>\n",
       "      <td>2</td>\n",
       "    </tr>\n",
       "    <tr>\n",
       "      <th>8</th>\n",
       "      <td>842</td>\n",
       "      <td>59.144893</td>\n",
       "      <td>24</td>\n",
       "      <td>2.85</td>\n",
       "      <td>London, 25-34</td>\n",
       "      <td>2</td>\n",
       "    </tr>\n",
       "  </tbody>\n",
       "</table>\n",
       "</div>"
      ],
      "text/plain": [
       "   sessions  bounce_rate  conversions  conversion_rate        city_age  \\\n",
       "0        32    53.125000            1             3.12  Croydon, 55-64   \n",
       "1        90    45.555556            2             2.22  Croydon, 45-54   \n",
       "2       101    41.584158            4             3.96  Croydon, 18-24   \n",
       "3       167    49.700599            8             4.79   London, 18-24   \n",
       "4       205    55.609756            3             1.46   London, 45-54   \n",
       "5       223    43.049327            7             3.14  Croydon, 35-44   \n",
       "6       334    47.904192           17             5.09  Croydon, 25-34   \n",
       "7       482    54.771784           14             2.90   London, 35-44   \n",
       "8       842    59.144893           24             2.85   London, 25-34   \n",
       "\n",
       "   #cluster_for_sess  \n",
       "0                  0  \n",
       "1                  1  \n",
       "2                  1  \n",
       "3                  1  \n",
       "4                  1  \n",
       "5                  1  \n",
       "6                  2  \n",
       "7                  2  \n",
       "8                  2  "
      ]
     },
     "execution_count": 56,
     "metadata": {},
     "output_type": "execute_result"
    }
   ],
   "source": [
    "result_sessions = (table_data.sort('sessions')).merge(cluster_sessions, on = 'sessions')\n",
    "result_sessions"
   ]
  },
  {
   "cell_type": "code",
   "execution_count": null,
   "metadata": {
    "collapsed": true
   },
   "outputs": [],
   "source": []
  },
  {
   "cell_type": "code",
   "execution_count": 57,
   "metadata": {
    "collapsed": false,
    "scrolled": true
   },
   "outputs": [
    {
     "data": {
      "text/plain": [
       "[[1.46],\n",
       " [2.2200000000000002],\n",
       " [2.8500000000000001],\n",
       " [2.8999999999999999],\n",
       " [3.1200000000000001],\n",
       " [3.1400000000000001],\n",
       " [3.96],\n",
       " [4.79],\n",
       " [5.0899999999999999]]"
      ]
     },
     "execution_count": 57,
     "metadata": {},
     "output_type": "execute_result"
    }
   ],
   "source": [
    "samples_cr=[]\n",
    "for i in range(0,len(table_data)):\n",
    "    a = [table_data.conversion_rate[i]]\n",
    "    samples_cr.append(a)\n",
    "    \n",
    "samples_cr = sorted(samples_cr, key=lambda x: x[0])\n",
    "samples_cr"
   ]
  },
  {
   "cell_type": "code",
   "execution_count": 58,
   "metadata": {
    "collapsed": false
   },
   "outputs": [],
   "source": [
    "import random\n",
    "import math\n",
    "\n",
    "NUM_CLUSTERS = 3\n",
    "TOTAL_DATA = len(samples_cr)\n",
    "LOWEST_SAMPLE_POINT = samples_cr.index(min(samples_cr)) #element 9 of SAMPLES.\n",
    "Middle_SAMPLE_POINT = mediana_number\n",
    "HIGHEST_SAMPLE_POINT = samples_cr.index(max(samples_cr)) #element 6 of SAMPLES.\n",
    "BIG_NUMBER = math.pow(10, 10)\n",
    "\n",
    "\n",
    "SAMPLES = samples_cr\n",
    "data1 = []\n",
    "centroids = []\n",
    "\n",
    "class DataPoint:\n",
    "    def __init__(self, x):\n",
    "        self.x = x\n",
    "          \n",
    "    def set_x(self, x):\n",
    "        self.x = x\n",
    "    \n",
    "    def get_x(self):\n",
    "        return self.x\n",
    "      \n",
    "    def set_cluster(self, clusterNumber):\n",
    "        self.clusterNumber = clusterNumber\n",
    "    \n",
    "    def get_cluster(self):\n",
    "        return self.clusterNumber\n",
    "\n",
    "class Centroid:\n",
    "    def __init__(self, x):\n",
    "        self.x = x\n",
    "    \n",
    "    def set_x(self, x):\n",
    "        self.x = x\n",
    "    \n",
    "    def get_x(self):\n",
    "        return self.x\n",
    "    \n"
   ]
  },
  {
   "cell_type": "code",
   "execution_count": 59,
   "metadata": {
    "collapsed": true
   },
   "outputs": [],
   "source": [
    "def initialize_centroids():\n",
    "    # Set the centoid coordinates to match the data points furthest from each other.\n",
    "    # In this example, [31, 51.613, 1, 3.2260000000000004] and [758, 59.234999999999999, 22, 2.9019999999999997]\n",
    "    centroids.append(Centroid(SAMPLES[LOWEST_SAMPLE_POINT][0]))\n",
    "    centroids.append(Centroid(SAMPLES[Middle_SAMPLE_POINT][0]))\n",
    "    centroids.append(Centroid(SAMPLES[HIGHEST_SAMPLE_POINT][0]))\n",
    "        \n",
    "    print(\"Centroids initialized at:\")\n",
    "    print(\"(\", centroids[0].get_x(),\")\")\n",
    "    print(\"(\", centroids[1].get_x(),\")\")\n",
    "    print(\"(\", centroids[2].get_x(),\")\")\n",
    "    print()\n",
    "    return\n",
    "#print(initialize_centroids())\n",
    "#print(centroids.append(Centroid(SAMPLES[HIGHEST_SAMPLE_POINT][0])))"
   ]
  },
  {
   "cell_type": "code",
   "execution_count": 60,
   "metadata": {
    "collapsed": false
   },
   "outputs": [],
   "source": [
    "def initialize_datapoints():\n",
    "    # DataPoint objects' x and y values are taken from the SAMPLE array.\n",
    "    # The DataPoints associated with LOWEST_SAMPLE_POINT and HIGHEST_SAMPLE_POINT are initially\n",
    "    # assigned to the clusters matching the LOWEST_SAMPLE_POINT and HIGHEST_SAMPLE_POINT centroids.\n",
    "    for i in range(TOTAL_DATA):\n",
    "        newPoint = DataPoint(SAMPLES[i][0])\n",
    "        \n",
    "        if(i == LOWEST_SAMPLE_POINT):\n",
    "            newPoint.set_cluster(0)\n",
    "        elif(i == Middle_SAMPLE_POINT):\n",
    "            newPoint.set_cluster(1)\n",
    "        elif(i == HIGHEST_SAMPLE_POINT):\n",
    "            newPoint.set_cluster(2)\n",
    "        else:\n",
    "            newPoint.set_cluster(None)\n",
    "            \n",
    "        data1.append(newPoint)\n",
    "    \n",
    "    return\n"
   ]
  },
  {
   "cell_type": "code",
   "execution_count": 61,
   "metadata": {
    "collapsed": true
   },
   "outputs": [],
   "source": [
    "def get_distance(dataPointX, centroidX):\n",
    "    # Calculate Euclidean distance.\n",
    "    return math.sqrt(math.pow((centroidX - dataPointX), 2))"
   ]
  },
  {
   "cell_type": "code",
   "execution_count": 62,
   "metadata": {
    "collapsed": false
   },
   "outputs": [
    {
     "name": "stdout",
     "output_type": "stream",
     "text": [
      "None\n"
     ]
    }
   ],
   "source": [
    "def recalculate_centroids():\n",
    "    totalX = 0\n",
    "    totalInCluster = 0\n",
    "    \n",
    "    for j in range(NUM_CLUSTERS):\n",
    "        for k in range(len(data1)):\n",
    "            if(data1[k].get_cluster() == j):\n",
    "                totalX += data1[k].get_x()\n",
    "                totalInCluster += 1\n",
    "        \n",
    "        if(totalInCluster > 0):\n",
    "            centroids[j].set_x(totalX / totalInCluster)\n",
    "               \n",
    "    return\n",
    "\n",
    "print(recalculate_centroids())"
   ]
  },
  {
   "cell_type": "code",
   "execution_count": 72,
   "metadata": {
    "collapsed": true
   },
   "outputs": [],
   "source": [
    "def update_clusters():\n",
    "    isStillMoving = 0\n",
    "    \n",
    "    for i in range(TOTAL_DATA):\n",
    "        bestMinimum = BIG_NUMBER\n",
    "        currentCluster = 0\n",
    "        \n",
    "        for j in range(NUM_CLUSTERS):\n",
    "            distance = get_distance(data1[i].get_x(), centroids[j].get_x())\n",
    "            if(distance < bestMinimum):\n",
    "                bestMinimum = distance\n",
    "                currentCluster = j\n",
    "        \n",
    "        data1[i].set_cluster(currentCluster)\n",
    "        \n",
    "        if(data1[i].get_cluster() is None or data1[i].get_cluster() != currentCluster):\n",
    "            data1[i].set_cluster(currentCluster)\n",
    "            isStillMoving = 1\n",
    "    \n",
    "    return isStillMoving"
   ]
  },
  {
   "cell_type": "code",
   "execution_count": 87,
   "metadata": {
    "collapsed": false
   },
   "outputs": [
    {
     "name": "stdout",
     "output_type": "stream",
     "text": [
      "Centroids initialized at:\n",
      "( 1.46 )\n",
      "( 2.27043478261 )\n",
      "( 3.23026666667 )\n",
      "\n"
     ]
    }
   ],
   "source": [
    "def perform_kmeans():\n",
    "    isStillMoving = 1\n",
    "    \n",
    "    initialize_centroids()\n",
    "    \n",
    "    initialize_datapoints()\n",
    "    \n",
    "    while(isStillMoving):\n",
    "        recalculate_centroids()\n",
    "        isStillMoving = update_clusters()\n",
    "    \n",
    "    return\n",
    "perform_kmeans()"
   ]
  },
  {
   "cell_type": "code",
   "execution_count": 29,
   "metadata": {
    "collapsed": false,
    "scrolled": false
   },
   "outputs": [
    {
     "data": {
      "text/plain": [
       "[[0, 1.46],\n",
       " [1, 2.2200000000000002],\n",
       " [2, 2.8500000000000001],\n",
       " [2, 2.8999999999999999],\n",
       " [2, 3.1200000000000001],\n",
       " [2, 3.1400000000000001],\n",
       " [2, 3.96],\n",
       " [2, 4.79],\n",
       " [2, 5.0899999999999999]]"
      ]
     },
     "execution_count": 29,
     "metadata": {},
     "output_type": "execute_result"
    }
   ],
   "source": [
    "def print_results():\n",
    "    result_list = []\n",
    "    for i in range(NUM_CLUSTERS):\n",
    "        \n",
    "        for j in range(TOTAL_DATA):            \n",
    "            \n",
    "            if(data1[j].get_cluster() == i):\n",
    "                result = []               \n",
    "                result.append(data1[j].get_cluster())\n",
    "                result.append(data1[j].get_x()) \n",
    "                result_list.append(result)\n",
    "               \n",
    "    return result_list\n",
    "\n",
    "print_results()\n"
   ]
  },
  {
   "cell_type": "code",
   "execution_count": null,
   "metadata": {
    "collapsed": true
   },
   "outputs": [],
   "source": []
  },
  {
   "cell_type": "code",
   "execution_count": null,
   "metadata": {
    "collapsed": false,
    "scrolled": false
   },
   "outputs": [],
   "source": [
    "samples_cr=[]\n",
    "for i in range(0,len(table_data)):\n",
    "    a = [table_data.conversion_rate[i]]\n",
    "    samples_cr.append(a)\n",
    "    \n",
    "samples_cr = sorted(samples_cr, key=lambda x: x[0])\n",
    "samples_cr"
   ]
  },
  {
   "cell_type": "code",
   "execution_count": 89,
   "metadata": {
    "collapsed": false
   },
   "outputs": [
    {
     "data": {
      "text/plain": [
       "9"
      ]
     },
     "execution_count": 89,
     "metadata": {},
     "output_type": "execute_result"
    }
   ],
   "source": [
    "len(samples_cr)"
   ]
  },
  {
   "cell_type": "code",
   "execution_count": null,
   "metadata": {
    "collapsed": false
   },
   "outputs": [],
   "source": [
    "import random\n",
    "import math\n",
    "\n",
    "NUM_CLUSTERS = 3\n",
    "TOTAL_DATA = 9\n",
    "LOWEST_SAMPLE_POINT = 0 #element 0 of SAMPLES.\n",
    "Middle_SAMPLE_POINT = 4\n",
    "HIGHEST_SAMPLE_POINT = 8 #element 3 of SAMPLES.\n",
    "BIG_NUMBER = math.pow(10, 10)\n",
    "\n",
    "SAMPLES = samples_cr\n",
    "\n",
    "data = []\n",
    "centroids = []\n",
    "\n",
    "class DataPoint:\n",
    "    def __init__(self, x):\n",
    "        self.x = x\n",
    "       \n",
    "    \n",
    "    def set_x(self, x):\n",
    "        self.x = x\n",
    "    \n",
    "    def get_x(self):\n",
    "        return self.x\n",
    "    \n",
    "    def set_cluster(self, clusterNumber):\n",
    "        self.clusterNumber = clusterNumber\n",
    "    \n",
    "    def get_cluster(self):\n",
    "        return self.clusterNumber\n",
    "\n",
    "class Centroid:\n",
    "    def __init__(self, x):\n",
    "        self.x = x\n",
    "         \n",
    "    def set_x(self, x):\n",
    "        self.x = x\n",
    "    \n",
    "    def get_x(self):\n",
    "        return self.x\n",
    "    \n",
    "def initialize_centroids():\n",
    "    # Set the centoid coordinates to match the data points furthest from each other.\n",
    "    # In this example, (1.0, 1.0) and (5.0, 7.0)\n",
    "    centroids.append(Centroid(SAMPLES[LOWEST_SAMPLE_POINT][0]))\n",
    "    centroids.append(Centroid(SAMPLES[Middle_SAMPLE_POINT][0]))\n",
    "    centroids.append(Centroid(SAMPLES[HIGHEST_SAMPLE_POINT][0]))\n",
    "    \n",
    "    print(\"Centroids initialized at:\")\n",
    "    print(\"(\", centroids[0].get_x(), \")\")\n",
    "    print(\"(\", centroids[1].get_x(), \")\")\n",
    "    print(\"(\", centroids[2].get_x(), \")\")\n",
    "    print()\n",
    "    return\n",
    "\n",
    "def initialize_datapoints():\n",
    "    # DataPoint objects' x and y values are taken from the SAMPLE array.\n",
    "    # The DataPoints associated with LOWEST_SAMPLE_POINT and HIGHEST_SAMPLE_POINT are initially\n",
    "    # assigned to the clusters matching the LOWEST_SAMPLE_POINT and HIGHEST_SAMPLE_POINT centroids.\n",
    "    for i in range(TOTAL_DATA):\n",
    "        newPoint = DataPoint(SAMPLES[i][0])\n",
    "        \n",
    "        if(i == LOWEST_SAMPLE_POINT):\n",
    "            newPoint.set_cluster(0)\n",
    "        elif(i == Middle_SAMPLE_POINT):\n",
    "            newPoint.set_cluster(1)\n",
    "        elif(i == HIGHEST_SAMPLE_POINT):\n",
    "            newPoint.set_cluster(2)\n",
    "        else:\n",
    "            newPoint.set_cluster(None)\n",
    "            \n",
    "        data.append(newPoint)\n",
    "    \n",
    "    return\n",
    "\n",
    "def get_distance(dataPointX, centroidX, ):\n",
    "    # Calculate Euclidean distance.\n",
    "    return math.sqrt(math.pow((centroidX - dataPointX), 2))\n",
    "\n",
    "def recalculate_centroids():\n",
    "    totalX = 0\n",
    "    totalY = 0\n",
    "    totalInCluster = 0\n",
    "    \n",
    "    for j in range(NUM_CLUSTERS):\n",
    "        for k in range(len(data)):\n",
    "            if(data[k].get_cluster() == j):\n",
    "                totalX += data[k].get_x()\n",
    "                totalInCluster += 1\n",
    "        \n",
    "        if(totalInCluster > 0):\n",
    "            centroids[j].set_x(totalX / totalInCluster)\n",
    "           \n",
    "    \n",
    "    return\n",
    "\n",
    "def update_clusters():\n",
    "    isStillMoving = 0\n",
    "    \n",
    "    for i in range(TOTAL_DATA):\n",
    "        bestMinimum = BIG_NUMBER\n",
    "        currentCluster = 0\n",
    "        \n",
    "        for j in range(NUM_CLUSTERS):\n",
    "            distance = get_distance(data[i].get_x(), centroids[j].get_x())\n",
    "            if(distance < bestMinimum):\n",
    "                bestMinimum = distance\n",
    "                currentCluster = j\n",
    "        \n",
    "        data[i].set_cluster(currentCluster)\n",
    "        \n",
    "        if(data[i].get_cluster() is None or data[i].get_cluster() != currentCluster):\n",
    "            data[i].set_cluster(currentCluster)\n",
    "            isStillMoving = 1\n",
    "    \n",
    "    return isStillMoving\n",
    "\n",
    "def perform_kmeans():\n",
    "    isStillMoving = 1\n",
    "    \n",
    "    initialize_centroids()\n",
    "    \n",
    "    initialize_datapoints()\n",
    "    \n",
    "    while(isStillMoving):\n",
    "        recalculate_centroids()\n",
    "        isStillMoving = update_clusters()\n",
    "    \n",
    "    return\n",
    "perform_kmeans()\n",
    "def print_results():\n",
    "    for i in range(NUM_CLUSTERS):\n",
    "        print(\"Cluster \", i, \" includes:\")\n",
    "        for j in range(TOTAL_DATA):\n",
    "            if(data[j].get_cluster() == i):\n",
    "                print(\"(\", data[j].get_x(), \")\")\n",
    "        print()\n",
    "    \n",
    "    return\n",
    "\n",
    "perform_kmeans()\n",
    "print_results()"
   ]
  },
  {
   "cell_type": "code",
   "execution_count": 109,
   "metadata": {
    "collapsed": false
   },
   "outputs": [
    {
     "name": "stdout",
     "output_type": "stream",
     "text": [
      "Centroids initialized at:\n",
      "( 1.46 )\n",
      "( 2.29 )\n",
      "( 3.22333333333 )\n",
      "\n",
      "Cluster  0  includes:\n",
      "( 1.46 )\n",
      "\n",
      "Cluster  1  includes:\n",
      "( 2.22 )\n",
      "\n",
      "Cluster  2  includes:\n",
      "( 2.85 )\n",
      "( 2.9 )\n",
      "( 3.12 )\n",
      "( 3.14 )\n",
      "( 3.96 )\n",
      "( 4.79 )\n",
      "( 5.09 )\n",
      "\n"
     ]
    }
   ],
   "source": [
    "def print_results():\n",
    "    for i in range(NUM_CLUSTERS):\n",
    "        print(\"Cluster \", i, \" includes:\")\n",
    "        for j in range(TOTAL_DATA):\n",
    "            if(data[j].get_cluster() == i):\n",
    "                print(\"(\", data[j].get_x(), \")\")\n",
    "        print()\n",
    "    \n",
    "    return\n",
    "\n",
    "perform_kmeans()\n",
    "print_results()"
   ]
  },
  {
   "cell_type": "code",
   "execution_count": null,
   "metadata": {
    "collapsed": true
   },
   "outputs": [],
   "source": []
  },
  {
   "cell_type": "code",
   "execution_count": null,
   "metadata": {
    "collapsed": true
   },
   "outputs": [],
   "source": []
  },
  {
   "cell_type": "code",
   "execution_count": null,
   "metadata": {
    "collapsed": true
   },
   "outputs": [],
   "source": []
  },
  {
   "cell_type": "code",
   "execution_count": null,
   "metadata": {
    "collapsed": true
   },
   "outputs": [],
   "source": []
  },
  {
   "cell_type": "code",
   "execution_count": null,
   "metadata": {
    "collapsed": true
   },
   "outputs": [],
   "source": []
  },
  {
   "cell_type": "code",
   "execution_count": null,
   "metadata": {
    "collapsed": true
   },
   "outputs": [],
   "source": []
  },
  {
   "cell_type": "code",
   "execution_count": 32,
   "metadata": {
    "collapsed": false
   },
   "outputs": [
    {
     "data": {
      "text/html": [
       "<div>\n",
       "<table border=\"1\" class=\"dataframe\">\n",
       "  <thead>\n",
       "    <tr style=\"text-align: right;\">\n",
       "      <th></th>\n",
       "      <th>#cluster_for_cr</th>\n",
       "      <th>conversion_rate</th>\n",
       "    </tr>\n",
       "  </thead>\n",
       "  <tbody>\n",
       "    <tr>\n",
       "      <th>0</th>\n",
       "      <td>0</td>\n",
       "      <td>1.46</td>\n",
       "    </tr>\n",
       "    <tr>\n",
       "      <th>1</th>\n",
       "      <td>1</td>\n",
       "      <td>2.22</td>\n",
       "    </tr>\n",
       "    <tr>\n",
       "      <th>2</th>\n",
       "      <td>2</td>\n",
       "      <td>2.85</td>\n",
       "    </tr>\n",
       "    <tr>\n",
       "      <th>3</th>\n",
       "      <td>2</td>\n",
       "      <td>2.90</td>\n",
       "    </tr>\n",
       "    <tr>\n",
       "      <th>4</th>\n",
       "      <td>2</td>\n",
       "      <td>3.12</td>\n",
       "    </tr>\n",
       "    <tr>\n",
       "      <th>5</th>\n",
       "      <td>2</td>\n",
       "      <td>3.14</td>\n",
       "    </tr>\n",
       "    <tr>\n",
       "      <th>6</th>\n",
       "      <td>2</td>\n",
       "      <td>3.96</td>\n",
       "    </tr>\n",
       "    <tr>\n",
       "      <th>7</th>\n",
       "      <td>2</td>\n",
       "      <td>4.79</td>\n",
       "    </tr>\n",
       "    <tr>\n",
       "      <th>8</th>\n",
       "      <td>2</td>\n",
       "      <td>5.09</td>\n",
       "    </tr>\n",
       "  </tbody>\n",
       "</table>\n",
       "</div>"
      ],
      "text/plain": [
       "   #cluster_for_cr  conversion_rate\n",
       "0                0             1.46\n",
       "1                1             2.22\n",
       "2                2             2.85\n",
       "3                2             2.90\n",
       "4                2             3.12\n",
       "5                2             3.14\n",
       "6                2             3.96\n",
       "7                2             4.79\n",
       "8                2             5.09"
      ]
     },
     "execution_count": 32,
     "metadata": {},
     "output_type": "execute_result"
    }
   ],
   "source": [
    "cluster_cr = pd.DataFrame(print_results(),columns = ['#cluster_for_cr','conversion_rate'])\n",
    "cluster_cr"
   ]
  },
  {
   "cell_type": "code",
   "execution_count": 33,
   "metadata": {
    "collapsed": false
   },
   "outputs": [
    {
     "name": "stderr",
     "output_type": "stream",
     "text": [
      "C:\\ProgramData\\Anaconda3\\lib\\site-packages\\ipykernel\\__main__.py:1: FutureWarning: sort(columns=....) is deprecated, use sort_values(by=.....)\n",
      "  if __name__ == '__main__':\n"
     ]
    },
    {
     "data": {
      "text/html": [
       "<div>\n",
       "<table border=\"1\" class=\"dataframe\">\n",
       "  <thead>\n",
       "    <tr style=\"text-align: right;\">\n",
       "      <th></th>\n",
       "      <th>sessions</th>\n",
       "      <th>bounce_rate</th>\n",
       "      <th>conversions</th>\n",
       "      <th>conversion_rate</th>\n",
       "      <th>city_age</th>\n",
       "      <th>#cluster_for_cr</th>\n",
       "    </tr>\n",
       "  </thead>\n",
       "  <tbody>\n",
       "    <tr>\n",
       "      <th>0</th>\n",
       "      <td>205</td>\n",
       "      <td>55.609756</td>\n",
       "      <td>3</td>\n",
       "      <td>1.46</td>\n",
       "      <td>London, 45-54</td>\n",
       "      <td>0</td>\n",
       "    </tr>\n",
       "    <tr>\n",
       "      <th>1</th>\n",
       "      <td>90</td>\n",
       "      <td>45.555556</td>\n",
       "      <td>2</td>\n",
       "      <td>2.22</td>\n",
       "      <td>Croydon, 45-54</td>\n",
       "      <td>1</td>\n",
       "    </tr>\n",
       "    <tr>\n",
       "      <th>2</th>\n",
       "      <td>842</td>\n",
       "      <td>59.144893</td>\n",
       "      <td>24</td>\n",
       "      <td>2.85</td>\n",
       "      <td>London, 25-34</td>\n",
       "      <td>2</td>\n",
       "    </tr>\n",
       "    <tr>\n",
       "      <th>3</th>\n",
       "      <td>482</td>\n",
       "      <td>54.771784</td>\n",
       "      <td>14</td>\n",
       "      <td>2.90</td>\n",
       "      <td>London, 35-44</td>\n",
       "      <td>2</td>\n",
       "    </tr>\n",
       "    <tr>\n",
       "      <th>4</th>\n",
       "      <td>32</td>\n",
       "      <td>53.125000</td>\n",
       "      <td>1</td>\n",
       "      <td>3.12</td>\n",
       "      <td>Croydon, 55-64</td>\n",
       "      <td>2</td>\n",
       "    </tr>\n",
       "    <tr>\n",
       "      <th>5</th>\n",
       "      <td>223</td>\n",
       "      <td>43.049327</td>\n",
       "      <td>7</td>\n",
       "      <td>3.14</td>\n",
       "      <td>Croydon, 35-44</td>\n",
       "      <td>2</td>\n",
       "    </tr>\n",
       "    <tr>\n",
       "      <th>6</th>\n",
       "      <td>101</td>\n",
       "      <td>41.584158</td>\n",
       "      <td>4</td>\n",
       "      <td>3.96</td>\n",
       "      <td>Croydon, 18-24</td>\n",
       "      <td>2</td>\n",
       "    </tr>\n",
       "    <tr>\n",
       "      <th>7</th>\n",
       "      <td>167</td>\n",
       "      <td>49.700599</td>\n",
       "      <td>8</td>\n",
       "      <td>4.79</td>\n",
       "      <td>London, 18-24</td>\n",
       "      <td>2</td>\n",
       "    </tr>\n",
       "    <tr>\n",
       "      <th>8</th>\n",
       "      <td>334</td>\n",
       "      <td>47.904192</td>\n",
       "      <td>17</td>\n",
       "      <td>5.09</td>\n",
       "      <td>Croydon, 25-34</td>\n",
       "      <td>2</td>\n",
       "    </tr>\n",
       "  </tbody>\n",
       "</table>\n",
       "</div>"
      ],
      "text/plain": [
       "   sessions  bounce_rate  conversions  conversion_rate        city_age  \\\n",
       "0       205    55.609756            3             1.46   London, 45-54   \n",
       "1        90    45.555556            2             2.22  Croydon, 45-54   \n",
       "2       842    59.144893           24             2.85   London, 25-34   \n",
       "3       482    54.771784           14             2.90   London, 35-44   \n",
       "4        32    53.125000            1             3.12  Croydon, 55-64   \n",
       "5       223    43.049327            7             3.14  Croydon, 35-44   \n",
       "6       101    41.584158            4             3.96  Croydon, 18-24   \n",
       "7       167    49.700599            8             4.79   London, 18-24   \n",
       "8       334    47.904192           17             5.09  Croydon, 25-34   \n",
       "\n",
       "   #cluster_for_cr  \n",
       "0                0  \n",
       "1                1  \n",
       "2                2  \n",
       "3                2  \n",
       "4                2  \n",
       "5                2  \n",
       "6                2  \n",
       "7                2  \n",
       "8                2  "
      ]
     },
     "execution_count": 33,
     "metadata": {},
     "output_type": "execute_result"
    }
   ],
   "source": [
    "result_cr = (table_data.sort('conversion_rate')).merge(cluster_cr, on = 'conversion_rate')\n",
    "result_cr"
   ]
  },
  {
   "cell_type": "code",
   "execution_count": 34,
   "metadata": {
    "collapsed": false
   },
   "outputs": [
    {
     "data": {
      "text/html": [
       "<div>\n",
       "<table border=\"1\" class=\"dataframe\">\n",
       "  <thead>\n",
       "    <tr style=\"text-align: right;\">\n",
       "      <th></th>\n",
       "      <th>sessions_x</th>\n",
       "      <th>bounce_rate_x</th>\n",
       "      <th>conversions_x</th>\n",
       "      <th>conversion_rate_x</th>\n",
       "      <th>city_age</th>\n",
       "      <th>#cluster_for_sess</th>\n",
       "      <th>sessions_y</th>\n",
       "      <th>bounce_rate_y</th>\n",
       "      <th>conversions_y</th>\n",
       "      <th>conversion_rate_y</th>\n",
       "      <th>#cluster_for_cr</th>\n",
       "    </tr>\n",
       "  </thead>\n",
       "  <tbody>\n",
       "    <tr>\n",
       "      <th>0</th>\n",
       "      <td>32</td>\n",
       "      <td>53.125000</td>\n",
       "      <td>1</td>\n",
       "      <td>3.12</td>\n",
       "      <td>Croydon, 55-64</td>\n",
       "      <td>0</td>\n",
       "      <td>32</td>\n",
       "      <td>53.125000</td>\n",
       "      <td>1</td>\n",
       "      <td>3.12</td>\n",
       "      <td>2</td>\n",
       "    </tr>\n",
       "    <tr>\n",
       "      <th>1</th>\n",
       "      <td>90</td>\n",
       "      <td>45.555556</td>\n",
       "      <td>2</td>\n",
       "      <td>2.22</td>\n",
       "      <td>Croydon, 45-54</td>\n",
       "      <td>1</td>\n",
       "      <td>90</td>\n",
       "      <td>45.555556</td>\n",
       "      <td>2</td>\n",
       "      <td>2.22</td>\n",
       "      <td>1</td>\n",
       "    </tr>\n",
       "    <tr>\n",
       "      <th>2</th>\n",
       "      <td>101</td>\n",
       "      <td>41.584158</td>\n",
       "      <td>4</td>\n",
       "      <td>3.96</td>\n",
       "      <td>Croydon, 18-24</td>\n",
       "      <td>1</td>\n",
       "      <td>101</td>\n",
       "      <td>41.584158</td>\n",
       "      <td>4</td>\n",
       "      <td>3.96</td>\n",
       "      <td>2</td>\n",
       "    </tr>\n",
       "    <tr>\n",
       "      <th>3</th>\n",
       "      <td>167</td>\n",
       "      <td>49.700599</td>\n",
       "      <td>8</td>\n",
       "      <td>4.79</td>\n",
       "      <td>London, 18-24</td>\n",
       "      <td>1</td>\n",
       "      <td>167</td>\n",
       "      <td>49.700599</td>\n",
       "      <td>8</td>\n",
       "      <td>4.79</td>\n",
       "      <td>2</td>\n",
       "    </tr>\n",
       "    <tr>\n",
       "      <th>4</th>\n",
       "      <td>205</td>\n",
       "      <td>55.609756</td>\n",
       "      <td>3</td>\n",
       "      <td>1.46</td>\n",
       "      <td>London, 45-54</td>\n",
       "      <td>1</td>\n",
       "      <td>205</td>\n",
       "      <td>55.609756</td>\n",
       "      <td>3</td>\n",
       "      <td>1.46</td>\n",
       "      <td>0</td>\n",
       "    </tr>\n",
       "    <tr>\n",
       "      <th>5</th>\n",
       "      <td>223</td>\n",
       "      <td>43.049327</td>\n",
       "      <td>7</td>\n",
       "      <td>3.14</td>\n",
       "      <td>Croydon, 35-44</td>\n",
       "      <td>1</td>\n",
       "      <td>223</td>\n",
       "      <td>43.049327</td>\n",
       "      <td>7</td>\n",
       "      <td>3.14</td>\n",
       "      <td>2</td>\n",
       "    </tr>\n",
       "    <tr>\n",
       "      <th>6</th>\n",
       "      <td>334</td>\n",
       "      <td>47.904192</td>\n",
       "      <td>17</td>\n",
       "      <td>5.09</td>\n",
       "      <td>Croydon, 25-34</td>\n",
       "      <td>2</td>\n",
       "      <td>334</td>\n",
       "      <td>47.904192</td>\n",
       "      <td>17</td>\n",
       "      <td>5.09</td>\n",
       "      <td>2</td>\n",
       "    </tr>\n",
       "    <tr>\n",
       "      <th>7</th>\n",
       "      <td>482</td>\n",
       "      <td>54.771784</td>\n",
       "      <td>14</td>\n",
       "      <td>2.90</td>\n",
       "      <td>London, 35-44</td>\n",
       "      <td>2</td>\n",
       "      <td>482</td>\n",
       "      <td>54.771784</td>\n",
       "      <td>14</td>\n",
       "      <td>2.90</td>\n",
       "      <td>2</td>\n",
       "    </tr>\n",
       "    <tr>\n",
       "      <th>8</th>\n",
       "      <td>842</td>\n",
       "      <td>59.144893</td>\n",
       "      <td>24</td>\n",
       "      <td>2.85</td>\n",
       "      <td>London, 25-34</td>\n",
       "      <td>2</td>\n",
       "      <td>842</td>\n",
       "      <td>59.144893</td>\n",
       "      <td>24</td>\n",
       "      <td>2.85</td>\n",
       "      <td>2</td>\n",
       "    </tr>\n",
       "  </tbody>\n",
       "</table>\n",
       "</div>"
      ],
      "text/plain": [
       "   sessions_x  bounce_rate_x  conversions_x  conversion_rate_x  \\\n",
       "0          32      53.125000              1               3.12   \n",
       "1          90      45.555556              2               2.22   \n",
       "2         101      41.584158              4               3.96   \n",
       "3         167      49.700599              8               4.79   \n",
       "4         205      55.609756              3               1.46   \n",
       "5         223      43.049327              7               3.14   \n",
       "6         334      47.904192             17               5.09   \n",
       "7         482      54.771784             14               2.90   \n",
       "8         842      59.144893             24               2.85   \n",
       "\n",
       "         city_age  #cluster_for_sess  sessions_y  bounce_rate_y  \\\n",
       "0  Croydon, 55-64                  0          32      53.125000   \n",
       "1  Croydon, 45-54                  1          90      45.555556   \n",
       "2  Croydon, 18-24                  1         101      41.584158   \n",
       "3   London, 18-24                  1         167      49.700599   \n",
       "4   London, 45-54                  1         205      55.609756   \n",
       "5  Croydon, 35-44                  1         223      43.049327   \n",
       "6  Croydon, 25-34                  2         334      47.904192   \n",
       "7   London, 35-44                  2         482      54.771784   \n",
       "8   London, 25-34                  2         842      59.144893   \n",
       "\n",
       "   conversions_y  conversion_rate_y  #cluster_for_cr  \n",
       "0              1               3.12                2  \n",
       "1              2               2.22                1  \n",
       "2              4               3.96                2  \n",
       "3              8               4.79                2  \n",
       "4              3               1.46                0  \n",
       "5              7               3.14                2  \n",
       "6             17               5.09                2  \n",
       "7             14               2.90                2  \n",
       "8             24               2.85                2  "
      ]
     },
     "execution_count": 34,
     "metadata": {},
     "output_type": "execute_result"
    }
   ],
   "source": [
    "finish = result_sessions.merge(result_cr, on = \"city_age\")\n",
    "finish"
   ]
  },
  {
   "cell_type": "code",
   "execution_count": 36,
   "metadata": {
    "collapsed": false
   },
   "outputs": [
    {
     "data": {
      "text/html": [
       "<div>\n",
       "<table border=\"1\" class=\"dataframe\">\n",
       "  <thead>\n",
       "    <tr style=\"text-align: right;\">\n",
       "      <th></th>\n",
       "      <th>city_age</th>\n",
       "      <th>#cluster_for_sess</th>\n",
       "      <th>#cluster_for_cr</th>\n",
       "      <th>sessions_x</th>\n",
       "      <th>conversion_rate_x</th>\n",
       "    </tr>\n",
       "  </thead>\n",
       "  <tbody>\n",
       "    <tr>\n",
       "      <th>0</th>\n",
       "      <td>Croydon, 55-64</td>\n",
       "      <td>0</td>\n",
       "      <td>2</td>\n",
       "      <td>32</td>\n",
       "      <td>3.12</td>\n",
       "    </tr>\n",
       "    <tr>\n",
       "      <th>1</th>\n",
       "      <td>Croydon, 45-54</td>\n",
       "      <td>1</td>\n",
       "      <td>1</td>\n",
       "      <td>90</td>\n",
       "      <td>2.22</td>\n",
       "    </tr>\n",
       "    <tr>\n",
       "      <th>2</th>\n",
       "      <td>Croydon, 18-24</td>\n",
       "      <td>1</td>\n",
       "      <td>2</td>\n",
       "      <td>101</td>\n",
       "      <td>3.96</td>\n",
       "    </tr>\n",
       "    <tr>\n",
       "      <th>3</th>\n",
       "      <td>London, 18-24</td>\n",
       "      <td>1</td>\n",
       "      <td>2</td>\n",
       "      <td>167</td>\n",
       "      <td>4.79</td>\n",
       "    </tr>\n",
       "    <tr>\n",
       "      <th>4</th>\n",
       "      <td>London, 45-54</td>\n",
       "      <td>1</td>\n",
       "      <td>0</td>\n",
       "      <td>205</td>\n",
       "      <td>1.46</td>\n",
       "    </tr>\n",
       "    <tr>\n",
       "      <th>5</th>\n",
       "      <td>Croydon, 35-44</td>\n",
       "      <td>1</td>\n",
       "      <td>2</td>\n",
       "      <td>223</td>\n",
       "      <td>3.14</td>\n",
       "    </tr>\n",
       "    <tr>\n",
       "      <th>6</th>\n",
       "      <td>Croydon, 25-34</td>\n",
       "      <td>2</td>\n",
       "      <td>2</td>\n",
       "      <td>334</td>\n",
       "      <td>5.09</td>\n",
       "    </tr>\n",
       "    <tr>\n",
       "      <th>7</th>\n",
       "      <td>London, 35-44</td>\n",
       "      <td>2</td>\n",
       "      <td>2</td>\n",
       "      <td>482</td>\n",
       "      <td>2.90</td>\n",
       "    </tr>\n",
       "    <tr>\n",
       "      <th>8</th>\n",
       "      <td>London, 25-34</td>\n",
       "      <td>2</td>\n",
       "      <td>2</td>\n",
       "      <td>842</td>\n",
       "      <td>2.85</td>\n",
       "    </tr>\n",
       "  </tbody>\n",
       "</table>\n",
       "</div>"
      ],
      "text/plain": [
       "         city_age  #cluster_for_sess  #cluster_for_cr  sessions_x  \\\n",
       "0  Croydon, 55-64                  0                2          32   \n",
       "1  Croydon, 45-54                  1                1          90   \n",
       "2  Croydon, 18-24                  1                2         101   \n",
       "3   London, 18-24                  1                2         167   \n",
       "4   London, 45-54                  1                0         205   \n",
       "5  Croydon, 35-44                  1                2         223   \n",
       "6  Croydon, 25-34                  2                2         334   \n",
       "7   London, 35-44                  2                2         482   \n",
       "8   London, 25-34                  2                2         842   \n",
       "\n",
       "   conversion_rate_x  \n",
       "0               3.12  \n",
       "1               2.22  \n",
       "2               3.96  \n",
       "3               4.79  \n",
       "4               1.46  \n",
       "5               3.14  \n",
       "6               5.09  \n",
       "7               2.90  \n",
       "8               2.85  "
      ]
     },
     "execution_count": 36,
     "metadata": {},
     "output_type": "execute_result"
    }
   ],
   "source": [
    "finish = finish[['city_age','#cluster_for_sess','#cluster_for_cr','sessions_x','conversion_rate_x',]]\n",
    "finish"
   ]
  },
  {
   "cell_type": "code",
   "execution_count": null,
   "metadata": {
    "collapsed": true
   },
   "outputs": [],
   "source": []
  }
 ],
 "metadata": {
  "kernelspec": {
   "display_name": "Python 3",
   "language": "python",
   "name": "python3"
  },
  "language_info": {
   "codemirror_mode": {
    "name": "ipython",
    "version": 3
   },
   "file_extension": ".py",
   "mimetype": "text/x-python",
   "name": "python",
   "nbconvert_exporter": "python",
   "pygments_lexer": "ipython3",
   "version": "3.6.0"
  }
 },
 "nbformat": 4,
 "nbformat_minor": 2
}
