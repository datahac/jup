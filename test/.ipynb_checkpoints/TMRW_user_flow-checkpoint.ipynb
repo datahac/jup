{
 "cells": [
  {
   "cell_type": "code",
   "execution_count": 8,
   "metadata": {
    "collapsed": false
   },
   "outputs": [
    {
     "name": "stdout",
     "output_type": "stream",
     "text": [
      "[{'columnHeader': {'dimensions': ['ga:goalCompletionLocation'],\n",
      "                   'metricHeader': {'metricHeaderEntries': [{'name': 'ga:goal1Completions',\n",
      "                                                             'type': 'INTEGER'}]}},\n",
      "  'data': {'isDataGolden': True,\n",
      "           'maximums': [{'values': ['85']}],\n",
      "           'minimums': [{'values': ['6']}],\n",
      "           'rowCount': 4,\n",
      "           'rows': [{'dimensions': ['(entrance)'],\n",
      "                     'metrics': [{'values': ['6']}]},\n",
      "                    {'dimensions': ['/'], 'metrics': [{'values': ['85']}]},\n",
      "                    {'dimensions': ['/TMRW_Byte_Cafe.php'],\n",
      "                     'metrics': [{'values': ['22']}]},\n",
      "                    {'dimensions': ['/TMRW_FAQs.php'],\n",
      "                     'metrics': [{'values': ['24']}]}],\n",
      "           'totals': [{'values': ['137']}]}}]\n"
     ]
    }
   ],
   "source": [
    "import json\n",
    "from pprint import pprint\n",
    "\n",
    "with open('data/TMRW_goal1_goalloc.json') as file: \n",
    "    goals = json.load(file)\n",
    "\n",
    "goals = goals[\"reports\"]\n",
    "pprint(goals)"
   ]
  },
  {
   "cell_type": "code",
   "execution_count": 49,
   "metadata": {
    "collapsed": false
   },
   "outputs": [
    {
     "data": {
      "text/html": [
       "<div>\n",
       "<table border=\"1\" class=\"dataframe\">\n",
       "  <thead>\n",
       "    <tr style=\"text-align: right;\">\n",
       "      <th></th>\n",
       "      <th>reports</th>\n",
       "    </tr>\n",
       "  </thead>\n",
       "  <tbody>\n",
       "    <tr>\n",
       "      <th>0</th>\n",
       "      <td>{'columnHeader': {'dimensions': ['ga:goalCompl...</td>\n",
       "    </tr>\n",
       "  </tbody>\n",
       "</table>\n",
       "</div>"
      ],
      "text/plain": [
       "                                             reports\n",
       "0  {'columnHeader': {'dimensions': ['ga:goalCompl..."
      ]
     },
     "execution_count": 49,
     "metadata": {},
     "output_type": "execute_result"
    }
   ],
   "source": [
    "import pandas\n",
    "\n",
    "init=pandas.read_json('data/TMRW_goal1_goalloc.json')\n",
    "init"
   ]
  },
  {
   "cell_type": "code",
   "execution_count": 50,
   "metadata": {
    "collapsed": false
   },
   "outputs": [
    {
     "name": "stdout",
     "output_type": "stream",
     "text": [
      "[{'columnHeader': {'dimensions': ['ga:pagePath'], 'metricHeader': {'metricHeaderEntries': [{'name': 'ga:sessions', 'type': 'INTEGER'}]}}, 'data': {'rows': [{'dimensions': ['/'], 'metrics': [{'values': ['5925']}]}, {'dimensions': ['/TMRW_Byte_Cafe.php'], 'metrics': [{'values': ['270']}]}, {'dimensions': ['/TMRW_FAQs.php'], 'metrics': [{'values': ['129']}]}, {'dimensions': ['/TMRW_the_team.php'], 'metrics': [{'values': ['140']}]}, {'dimensions': ['/trainstrikes.php'], 'metrics': [{'values': ['231']}]}, {'dimensions': ['/voteforbyte.php'], 'metrics': [{'values': ['79']}]}], 'totals': [{'values': ['6774']}], 'rowCount': 6, 'minimums': [{'values': ['79']}], 'maximums': [{'values': ['5925']}], 'isDataGolden': True}}]\n"
     ]
    }
   ],
   "source": [
    "with open('data/TMRW_sess_page.json') as file: \n",
    "    sessions = json.load(file)\n",
    "\n",
    "sessions = sessions[\"reports\"]\n",
    "print(sessions)"
   ]
  },
  {
   "cell_type": "code",
   "execution_count": 51,
   "metadata": {
    "collapsed": false
   },
   "outputs": [
    {
     "data": {
      "text/plain": [
       "[{'dimensions': ['/'], 'metrics': [{'values': ['5925']}]},\n",
       " {'dimensions': ['/TMRW_Byte_Cafe.php'], 'metrics': [{'values': ['270']}]},\n",
       " {'dimensions': ['/TMRW_FAQs.php'], 'metrics': [{'values': ['129']}]},\n",
       " {'dimensions': ['/TMRW_the_team.php'], 'metrics': [{'values': ['140']}]},\n",
       " {'dimensions': ['/trainstrikes.php'], 'metrics': [{'values': ['231']}]},\n",
       " {'dimensions': ['/voteforbyte.php'], 'metrics': [{'values': ['79']}]}]"
      ]
     },
     "execution_count": 51,
     "metadata": {},
     "output_type": "execute_result"
    }
   ],
   "source": [
    "sessions = sessions[0]['data']['rows']\n",
    "sessions\n"
   ]
  },
  {
   "cell_type": "code",
   "execution_count": 101,
   "metadata": {
    "collapsed": false
   },
   "outputs": [
    {
     "data": {
      "text/plain": [
       "{'/': 45,\n",
       " '/TMRW_Byte_Cafe.php': 30,\n",
       " '/TMRW_FAQs.php': 2,\n",
       " '/TMRW_the_team.php': 14,\n",
       " '/voteforbyte.php': 7}"
      ]
     },
     "execution_count": 101,
     "metadata": {},
     "output_type": "execute_result"
    }
   ],
   "source": [
    "goals_dict = {'/': 45,\n",
    " '/TMRW_Byte_Cafe.php': 30,\n",
    " '/TMRW_FAQs.php': 2,\n",
    " '/TMRW_the_team.php': 14,\n",
    " '/voteforbyte.php': 7}\n",
    "goals_dict"
   ]
  },
  {
   "cell_type": "code",
   "execution_count": 99,
   "metadata": {
    "collapsed": false
   },
   "outputs": [
    {
     "data": {
      "text/plain": [
       "{'/': 5925,\n",
       " '/TMRW_Byte_Cafe.php': 270,\n",
       " '/TMRW_FAQs.php': 129,\n",
       " '/TMRW_the_team.php': 140,\n",
       " '/trainstrikes.php': 231,\n",
       " '/voteforbyte.php': 79}"
      ]
     },
     "execution_count": 99,
     "metadata": {},
     "output_type": "execute_result"
    }
   ],
   "source": [
    "def create_dict(x):\n",
    "    session_dict = {}\n",
    "\n",
    "    for s in x:\n",
    "        \n",
    "        #print (str((s['dimensions'])))\n",
    "        #print (s['metrics'][0]['values'])\n",
    "        #session_dict[] = 0\n",
    "        session_dict[s['dimensions'][0]] = int(s['metrics'][0]['values'][0])\n",
    "        #session_dict[s['dimensions']] = s['metrics'][0]['values']\n",
    "    \n",
    "    return session_dict\n",
    "        \n",
    "\n",
    "sessions_dict = (create_dict(sessions))\n",
    "\n",
    "sessions_dict"
   ]
  },
  {
   "cell_type": "code",
   "execution_count": 114,
   "metadata": {
    "collapsed": false
   },
   "outputs": [
    {
     "data": {
      "text/plain": [
       "{'/': 0.7594936708860759,\n",
       " '/TMRW_Byte_Cafe.php': 11.11111111111111,\n",
       " '/TMRW_FAQs.php': 1.550387596899225,\n",
       " '/TMRW_the_team.php': 10.0,\n",
       " '/voteforbyte.php': 8.860759493670885}"
      ]
     },
     "execution_count": 114,
     "metadata": {},
     "output_type": "execute_result"
    }
   ],
   "source": [
    "conv_rate_dict= {}\n",
    "\n",
    "for page in goals_dict:\n",
    "    conv_rate = (goals_dict[page]/(sessions_dict[page])*100)\n",
    "    \n",
    "    conv_rate_dict[page] = conv_rate \n",
    "\n",
    "conv_rate_dict"
   ]
  },
  {
   "cell_type": "code",
   "execution_count": 19,
   "metadata": {
    "collapsed": false
   },
   "outputs": [
    {
     "name": "stdout",
     "output_type": "stream",
     "text": [
      "[0, 1, 2, 3, 4, 5]\n"
     ]
    }
   ],
   "source": [
    "sessions = []\n",
    "\n",
    "for i in range(0,6):\n",
    "    sessions.append(i)\n",
    "\n",
    "print(sessions)"
   ]
  },
  {
   "cell_type": "code",
   "execution_count": 86,
   "metadata": {
    "collapsed": false
   },
   "outputs": [
    {
     "data": {
      "text/plain": [
       "[['/TMRW_Byte_Cafe.php'], ['270']]"
      ]
     },
     "execution_count": 86,
     "metadata": {},
     "output_type": "execute_result"
    }
   ],
   "source": [
    "page2 = sessions['rows'][1]['dimensions']\n",
    "sess2 = sessions['rows'][1]['metrics']\n",
    "value2 = sess2[0]['values']\n",
    "\n",
    "result =[page2,value2]\n",
    "result"
   ]
  },
  {
   "cell_type": "code",
   "execution_count": 95,
   "metadata": {
    "collapsed": false
   },
   "outputs": [
    {
     "data": {
      "text/plain": [
       "[['/TMRW_FAQs.php'], ['129']]"
      ]
     },
     "execution_count": 95,
     "metadata": {},
     "output_type": "execute_result"
    }
   ],
   "source": [
    "page2 = sessions['rows'][2]['dimensions']\n",
    "sess2 = sessions['rows'][2]['metrics']\n",
    "value2 = sess2[0]['values']\n",
    "\n",
    "result =[page2,value2]\n",
    "result"
   ]
  },
  {
   "cell_type": "code",
   "execution_count": null,
   "metadata": {
    "collapsed": true
   },
   "outputs": [],
   "source": []
  }
 ],
 "metadata": {
  "kernelspec": {
   "display_name": "Python 3",
   "language": "python",
   "name": "python3"
  },
  "language_info": {
   "codemirror_mode": {
    "name": "ipython",
    "version": 3
   },
   "file_extension": ".py",
   "mimetype": "text/x-python",
   "name": "python",
   "nbconvert_exporter": "python",
   "pygments_lexer": "ipython3",
   "version": "3.6.0"
  }
 },
 "nbformat": 4,
 "nbformat_minor": 2
}
