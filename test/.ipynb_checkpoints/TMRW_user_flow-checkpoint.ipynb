{
 "cells": [
  {
   "cell_type": "code",
   "execution_count": 29,
   "metadata": {
    "collapsed": false
   },
   "outputs": [
    {
     "name": "stdout",
     "output_type": "stream",
     "text": [
      "[{'columnHeader': {'dimensions': ['ga:goalCompletionLocation'],\n",
      "                   'metricHeader': {'metricHeaderEntries': [{'name': 'ga:goal1Completions',\n",
      "                                                             'type': 'INTEGER'}]}},\n",
      "  'data': {'isDataGolden': True,\n",
      "           'maximums': [{'values': ['85']}],\n",
      "           'minimums': [{'values': ['6']}],\n",
      "           'rowCount': 4,\n",
      "           'rows': [{'dimensions': ['(entrance)'],\n",
      "                     'metrics': [{'values': ['6']}]},\n",
      "                    {'dimensions': ['/'], 'metrics': [{'values': ['85']}]},\n",
      "                    {'dimensions': ['/TMRW_Byte_Cafe.php'],\n",
      "                     'metrics': [{'values': ['22']}]},\n",
      "                    {'dimensions': ['/TMRW_FAQs.php'],\n",
      "                     'metrics': [{'values': ['24']}]}],\n",
      "           'totals': [{'values': ['137']}]}}]\n"
     ]
    }
   ],
   "source": [
    "import json\n",
    "from pprint import pprint\n",
    "\n",
    "with open('data/TMRW_goal1_goalloc.json') as file: \n",
    "    goals = json.load(file)\n",
    "\n",
    "goals = goals[\"reports\"]\n",
    "pprint(goals)"
   ]
  },
  {
   "cell_type": "code",
   "execution_count": 30,
   "metadata": {
    "collapsed": false
   },
   "outputs": [
    {
     "data": {
      "text/html": [
       "<div>\n",
       "<table border=\"1\" class=\"dataframe\">\n",
       "  <thead>\n",
       "    <tr style=\"text-align: right;\">\n",
       "      <th></th>\n",
       "      <th>reports</th>\n",
       "    </tr>\n",
       "  </thead>\n",
       "  <tbody>\n",
       "    <tr>\n",
       "      <th>0</th>\n",
       "      <td>{'columnHeader': {'dimensions': ['ga:goalCompl...</td>\n",
       "    </tr>\n",
       "  </tbody>\n",
       "</table>\n",
       "</div>"
      ],
      "text/plain": [
       "                                             reports\n",
       "0  {'columnHeader': {'dimensions': ['ga:goalCompl..."
      ]
     },
     "execution_count": 30,
     "metadata": {},
     "output_type": "execute_result"
    }
   ],
   "source": [
    "import pandas\n",
    "\n",
    "init=pandas.read_json('data/TMRW_goal1_goalloc.json')\n",
    "init"
   ]
  },
  {
   "cell_type": "code",
   "execution_count": 36,
   "metadata": {
    "collapsed": false
   },
   "outputs": [
    {
     "name": "stdout",
     "output_type": "stream",
     "text": [
      "[{'columnHeader': {'dimensions': ['ga:pagePath'],\n",
      "                   'metricHeader': {'metricHeaderEntries': [{'name': 'ga:sessions',\n",
      "                                                             'type': 'INTEGER'}]}},\n",
      "  'data': {'isDataGolden': True,\n",
      "           'maximums': [{'values': ['5925']}],\n",
      "           'minimums': [{'values': ['79']}],\n",
      "           'rowCount': 6,\n",
      "           'rows': [{'dimensions': ['/'], 'metrics': [{'values': ['5925']}]},\n",
      "                    {'dimensions': ['/TMRW_Byte_Cafe.php'],\n",
      "                     'metrics': [{'values': ['270']}]},\n",
      "                    {'dimensions': ['/TMRW_FAQs.php'],\n",
      "                     'metrics': [{'values': ['129']}]},\n",
      "                    {'dimensions': ['/TMRW_the_team.php'],\n",
      "                     'metrics': [{'values': ['140']}]},\n",
      "                    {'dimensions': ['/trainstrikes.php'],\n",
      "                     'metrics': [{'values': ['231']}]},\n",
      "                    {'dimensions': ['/voteforbyte.php'],\n",
      "                     'metrics': [{'values': ['79']}]}],\n",
      "           'totals': [{'values': ['6774']}]}}]\n"
     ]
    }
   ],
   "source": [
    "with open('data/TMRW_sess_page.json') as file: \n",
    "    sessions = json.load(file)\n",
    "\n",
    "sessions = sessions[\"reports\"]\n",
    "pprint(sessions)"
   ]
  },
  {
   "cell_type": "code",
   "execution_count": 79,
   "metadata": {
    "collapsed": false
   },
   "outputs": [
    {
     "data": {
      "text/plain": [
       "{'isDataGolden': True,\n",
       " 'maximums': [{'values': ['5925']}],\n",
       " 'minimums': [{'values': ['79']}],\n",
       " 'rowCount': 6,\n",
       " 'rows': [{'dimensions': ['/'], 'metrics': [{'values': ['5925']}]},\n",
       "  {'dimensions': ['/TMRW_Byte_Cafe.php'], 'metrics': [{'values': ['270']}]},\n",
       "  {'dimensions': ['/TMRW_FAQs.php'], 'metrics': [{'values': ['129']}]},\n",
       "  {'dimensions': ['/TMRW_the_team.php'], 'metrics': [{'values': ['140']}]},\n",
       "  {'dimensions': ['/trainstrikes.php'], 'metrics': [{'values': ['231']}]},\n",
       "  {'dimensions': ['/voteforbyte.php'], 'metrics': [{'values': ['79']}]}],\n",
       " 'totals': [{'values': ['6774']}]}"
      ]
     },
     "execution_count": 79,
     "metadata": {},
     "output_type": "execute_result"
    }
   ],
   "source": [
    "sessions = sessions[0]['data']\n",
    "sessions\n"
   ]
  },
  {
   "cell_type": "code",
   "execution_count": 94,
   "metadata": {
    "collapsed": false
   },
   "outputs": [
    {
     "ename": "IndentationError",
     "evalue": "expected an indented block (<ipython-input-94-48d683350db0>, line 3)",
     "output_type": "error",
     "traceback": [
      "\u001b[0;36m  File \u001b[0;32m\"<ipython-input-94-48d683350db0>\"\u001b[0;36m, line \u001b[0;32m3\u001b[0m\n\u001b[0;31m    page1 = sessions['rows'][i]['dimensions']\u001b[0m\n\u001b[0m        ^\u001b[0m\n\u001b[0;31mIndentationError\u001b[0m\u001b[0;31m:\u001b[0m expected an indented block\n"
     ]
    }
   ],
   "source": [
    "for i in range(0,6):\n",
    "\n",
    "page1 = sessions['rows'][i]['dimensions']\n",
    "sess1 = sessions['rows'][i]['metrics']\n",
    "value1 = sess1[0]['values']\n",
    "\n",
    "pprint(sess1)"
   ]
  },
  {
   "cell_type": "code",
   "execution_count": 86,
   "metadata": {
    "collapsed": false
   },
   "outputs": [
    {
     "data": {
      "text/plain": [
       "[['/TMRW_Byte_Cafe.php'], ['270']]"
      ]
     },
     "execution_count": 86,
     "metadata": {},
     "output_type": "execute_result"
    }
   ],
   "source": [
    "page2 = sessions['rows'][1]['dimensions']\n",
    "sess2 = sessions['rows'][1]['metrics']\n",
    "value2 = sess2[0]['values']\n",
    "\n",
    "result =[page2,value2]\n",
    "result"
   ]
  },
  {
   "cell_type": "code",
   "execution_count": 95,
   "metadata": {
    "collapsed": false
   },
   "outputs": [
    {
     "data": {
      "text/plain": [
       "[['/TMRW_FAQs.php'], ['129']]"
      ]
     },
     "execution_count": 95,
     "metadata": {},
     "output_type": "execute_result"
    }
   ],
   "source": [
    "page2 = sessions['rows'][2]['dimensions']\n",
    "sess2 = sessions['rows'][2]['metrics']\n",
    "value2 = sess2[0]['values']\n",
    "\n",
    "result =[page2,value2]\n",
    "result"
   ]
  },
  {
   "cell_type": "code",
   "execution_count": null,
   "metadata": {
    "collapsed": true
   },
   "outputs": [],
   "source": []
  }
 ],
 "metadata": {
  "kernelspec": {
   "display_name": "Python 3",
   "language": "python",
   "name": "python3"
  },
  "language_info": {
   "codemirror_mode": {
    "name": "ipython",
    "version": 3
   },
   "file_extension": ".py",
   "mimetype": "text/x-python",
   "name": "python",
   "nbconvert_exporter": "python",
   "pygments_lexer": "ipython3",
   "version": "3.6.0"
  }
 },
 "nbformat": 4,
 "nbformat_minor": 2
}
