{
 "cells": [
  {
   "cell_type": "code",
   "execution_count": 17,
   "metadata": {
    "collapsed": false
   },
   "outputs": [
    {
     "name": "stdout",
     "output_type": "stream",
     "text": [
      "[{'dimensions': ['(not set)', '25-34'],\n",
      "  'metrics': [{'values': ['27',\n",
      "                          '62.96296296296296',\n",
      "                          '3.7037037037037033',\n",
      "                          '1']}]},\n",
      " {'dimensions': ['(not set)', '35-44'],\n",
      "  'metrics': [{'values': ['23',\n",
      "                          '52.17391304347826',\n",
      "                          '4.3478260869565215',\n",
      "                          '1']}]},\n",
      " {'dimensions': ['Croydon', '18-24'],\n",
      "  'metrics': [{'values': ['101',\n",
      "                          '41.584158415841586',\n",
      "                          '3.9603960396039604',\n",
      "                          '4']}]},\n",
      " {'dimensions': ['Croydon', '25-34'],\n",
      "  'metrics': [{'values': ['334',\n",
      "                          '47.90419161676647',\n",
      "                          '5.089820359281437',\n",
      "                          '17']}]},\n",
      " {'dimensions': ['Croydon', '35-44'],\n",
      "  'metrics': [{'values': ['223',\n",
      "                          '43.04932735426009',\n",
      "                          '3.1390134529147984',\n",
      "                          '7']}]},\n",
      " {'dimensions': ['Croydon', '45-54'],\n",
      "  'metrics': [{'values': ['90',\n",
      "                          '45.55555555555556',\n",
      "                          '2.2222222222222223',\n",
      "                          '2']}]},\n",
      " {'dimensions': ['Croydon', '55-64'],\n",
      "  'metrics': [{'values': ['32', '53.125', '3.125', '1']}]},\n",
      " {'dimensions': ['Hove', '35-44'],\n",
      "  'metrics': [{'values': ['12',\n",
      "                          '16.666666666666664',\n",
      "                          '8.333333333333332',\n",
      "                          '1']}]},\n",
      " {'dimensions': ['London', '18-24'],\n",
      "  'metrics': [{'values': ['167',\n",
      "                          '49.700598802395206',\n",
      "                          '4.790419161676647',\n",
      "                          '8']}]},\n",
      " {'dimensions': ['London', '25-34'],\n",
      "  'metrics': [{'values': ['842',\n",
      "                          '59.14489311163895',\n",
      "                          '2.8503562945368173',\n",
      "                          '24']}]},\n",
      " {'dimensions': ['London', '35-44'],\n",
      "  'metrics': [{'values': ['482',\n",
      "                          '54.77178423236515',\n",
      "                          '2.904564315352697',\n",
      "                          '14']}]},\n",
      " {'dimensions': ['London', '45-54'],\n",
      "  'metrics': [{'values': ['205',\n",
      "                          '55.60975609756098',\n",
      "                          '1.4634146341463417',\n",
      "                          '3']}]},\n",
      " {'dimensions': ['London', '55-64'],\n",
      "  'metrics': [{'values': ['37', '48.64864864864865', '0.0', '0']}]},\n",
      " {'dimensions': ['London', '65+'],\n",
      "  'metrics': [{'values': ['15',\n",
      "                          '66.66666666666666',\n",
      "                          '6.666666666666667',\n",
      "                          '1']}]}]\n"
     ]
    }
   ],
   "source": [
    "import json\n",
    "from pprint import pprint\n",
    "\n",
    "with open('data/TMRW_user_groups.json') as file: \n",
    "    data = json.load(file)\n",
    "\n",
    "data = data['reports'][0]['data']['rows']\n",
    "data\n",
    "pprint(data)"
   ]
  },
  {
   "cell_type": "code",
   "execution_count": null,
   "metadata": {
    "collapsed": true
   },
   "outputs": [],
   "source": []
  },
  {
   "cell_type": "code",
   "execution_count": null,
   "metadata": {
    "collapsed": true
   },
   "outputs": [],
   "source": []
  }
 ],
 "metadata": {
  "kernelspec": {
   "display_name": "Python 3",
   "language": "python",
   "name": "python3"
  },
  "language_info": {
   "codemirror_mode": {
    "name": "ipython",
    "version": 3
   },
   "file_extension": ".py",
   "mimetype": "text/x-python",
   "name": "python",
   "nbconvert_exporter": "python",
   "pygments_lexer": "ipython3",
   "version": "3.6.0"
  }
 },
 "nbformat": 4,
 "nbformat_minor": 2
}
