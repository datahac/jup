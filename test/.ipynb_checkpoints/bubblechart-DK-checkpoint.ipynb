{
 "cells": [
  {
   "cell_type": "code",
   "execution_count": 53,
   "metadata": {
    "collapsed": false
   },
   "outputs": [],
   "source": [
    "%matplotlib inline \n",
    "\n",
    "import numpy as np\n",
    "import scipy as sp\n",
    "import matplotlib as mpl\n",
    "import matplotlib.cm as cm\n",
    "import matplotlib.pyplot as plt\n",
    "import pandas as pd\n",
    "\n",
    "pd.set_option('display.width', 500)\n",
    "pd.set_option('display.max_columns', 100)\n",
    "pd.set_option('display.notebook_repr_html', True)\n",
    "import seaborn as sns #sets up styles and gives us more plotting options\n"
   ]
  },
  {
   "cell_type": "code",
   "execution_count": 54,
   "metadata": {
    "collapsed": false
   },
   "outputs": [
    {
     "data": {
      "text/html": [
       "<div>\n",
       "<table border=\"1\" class=\"dataframe\">\n",
       "  <thead>\n",
       "    <tr style=\"text-align: right;\">\n",
       "      <th></th>\n",
       "      <th>Page</th>\n",
       "      <th>Sessions</th>\n",
       "      <th>Conversions</th>\n",
       "    </tr>\n",
       "  </thead>\n",
       "  <tbody>\n",
       "    <tr>\n",
       "      <th>0</th>\n",
       "      <td>'/</td>\n",
       "      <td>4436</td>\n",
       "      <td>82</td>\n",
       "    </tr>\n",
       "    <tr>\n",
       "      <th>1</th>\n",
       "      <td>'/TMRW_FAQs.php</td>\n",
       "      <td>100</td>\n",
       "      <td>26</td>\n",
       "    </tr>\n",
       "    <tr>\n",
       "      <th>2</th>\n",
       "      <td>'/TMRW_Byte_Cafe.php</td>\n",
       "      <td>218</td>\n",
       "      <td>23</td>\n",
       "    </tr>\n",
       "    <tr>\n",
       "      <th>3</th>\n",
       "      <td>'/TMRW_the_team.php</td>\n",
       "      <td>99</td>\n",
       "      <td>10</td>\n",
       "    </tr>\n",
       "  </tbody>\n",
       "</table>\n",
       "</div>"
      ],
      "text/plain": [
       "                   Page  Sessions  Conversions\n",
       "0                    '/      4436           82\n",
       "1       '/TMRW_FAQs.php       100           26\n",
       "2  '/TMRW_Byte_Cafe.php       218           23\n",
       "3   '/TMRW_the_team.php        99           10"
      ]
     },
     "execution_count": 54,
     "metadata": {},
     "output_type": "execute_result"
    }
   ],
   "source": [
    "input_flow= pd.read_csv('data/TMRW_flow.csv')\n",
    "\n",
    "# rename columns\n",
    "input_flow.columns=['Page','Sessions','Conversions']\n",
    "\n",
    "# filter page with CR > 0\n",
    "input_flow = input_flow[input_flow.Conversions > 0]\n",
    "\n",
    "# group by page\n",
    "input_flow_index = input_flow.set_index('Page')\n",
    "input_flow"
   ]
  },
  {
   "cell_type": "code",
   "execution_count": 55,
   "metadata": {
    "collapsed": false
   },
   "outputs": [
    {
     "data": {
      "text/html": [
       "<div>\n",
       "<table border=\"1\" class=\"dataframe\">\n",
       "  <thead>\n",
       "    <tr style=\"text-align: right;\">\n",
       "      <th></th>\n",
       "      <th>Page</th>\n",
       "      <th>Sessions</th>\n",
       "      <th>Conversions</th>\n",
       "      <th>CR</th>\n",
       "    </tr>\n",
       "  </thead>\n",
       "  <tbody>\n",
       "    <tr>\n",
       "      <th>0</th>\n",
       "      <td>'/</td>\n",
       "      <td>4436</td>\n",
       "      <td>82</td>\n",
       "      <td>1.848512</td>\n",
       "    </tr>\n",
       "    <tr>\n",
       "      <th>1</th>\n",
       "      <td>'/TMRW_FAQs.php</td>\n",
       "      <td>100</td>\n",
       "      <td>26</td>\n",
       "      <td>26.000000</td>\n",
       "    </tr>\n",
       "    <tr>\n",
       "      <th>2</th>\n",
       "      <td>'/TMRW_Byte_Cafe.php</td>\n",
       "      <td>218</td>\n",
       "      <td>23</td>\n",
       "      <td>10.550459</td>\n",
       "    </tr>\n",
       "    <tr>\n",
       "      <th>3</th>\n",
       "      <td>'/TMRW_the_team.php</td>\n",
       "      <td>99</td>\n",
       "      <td>10</td>\n",
       "      <td>10.101010</td>\n",
       "    </tr>\n",
       "  </tbody>\n",
       "</table>\n",
       "</div>"
      ],
      "text/plain": [
       "                   Page  Sessions  Conversions         CR\n",
       "0                    '/      4436           82   1.848512\n",
       "1       '/TMRW_FAQs.php       100           26  26.000000\n",
       "2  '/TMRW_Byte_Cafe.php       218           23  10.550459\n",
       "3   '/TMRW_the_team.php        99           10  10.101010"
      ]
     },
     "execution_count": 55,
     "metadata": {},
     "output_type": "execute_result"
    }
   ],
   "source": [
    "input_flow['CR'] = input_flow.Conversions / input_flow.Sessions * 100\n",
    "input_flow"
   ]
  },
  {
   "cell_type": "code",
   "execution_count": 56,
   "metadata": {
    "collapsed": false
   },
   "outputs": [
    {
     "data": {
      "text/html": [
       "<div>\n",
       "<table border=\"1\" class=\"dataframe\">\n",
       "  <thead>\n",
       "    <tr style=\"text-align: right;\">\n",
       "      <th></th>\n",
       "      <th>Page</th>\n",
       "      <th>Conversions</th>\n",
       "      <th>CR</th>\n",
       "    </tr>\n",
       "  </thead>\n",
       "  <tbody>\n",
       "    <tr>\n",
       "      <th>0</th>\n",
       "      <td>'/</td>\n",
       "      <td>82</td>\n",
       "      <td>1.848512</td>\n",
       "    </tr>\n",
       "    <tr>\n",
       "      <th>1</th>\n",
       "      <td>'/TMRW_FAQs.php</td>\n",
       "      <td>26</td>\n",
       "      <td>26.000000</td>\n",
       "    </tr>\n",
       "    <tr>\n",
       "      <th>2</th>\n",
       "      <td>'/TMRW_Byte_Cafe.php</td>\n",
       "      <td>23</td>\n",
       "      <td>10.550459</td>\n",
       "    </tr>\n",
       "    <tr>\n",
       "      <th>3</th>\n",
       "      <td>'/TMRW_the_team.php</td>\n",
       "      <td>10</td>\n",
       "      <td>10.101010</td>\n",
       "    </tr>\n",
       "  </tbody>\n",
       "</table>\n",
       "</div>"
      ],
      "text/plain": [
       "                   Page  Conversions         CR\n",
       "0                    '/           82   1.848512\n",
       "1       '/TMRW_FAQs.php           26  26.000000\n",
       "2  '/TMRW_Byte_Cafe.php           23  10.550459\n",
       "3   '/TMRW_the_team.php           10  10.101010"
      ]
     },
     "execution_count": 56,
     "metadata": {},
     "output_type": "execute_result"
    }
   ],
   "source": [
    "d= input_flow.drop('Sessions', 1)\n",
    "d"
   ]
  },
  {
   "cell_type": "code",
   "execution_count": 58,
   "metadata": {
    "collapsed": false
   },
   "outputs": [
    {
     "data": {
      "text/plain": [
       "\"'/TMRW_FAQs.php\""
      ]
     },
     "execution_count": 58,
     "metadata": {},
     "output_type": "execute_result"
    }
   ],
   "source": [
    "input_flow_cr = input_flow.set_index('CR')\n",
    "\n",
    "max_CR = max(input_flow.CR)\n",
    "best_page = input_flow_cr.loc[max_CR,'Page']\n",
    "best_page"
   ]
  },
  {
   "cell_type": "code",
   "execution_count": 59,
   "metadata": {
    "collapsed": false
   },
   "outputs": [
    {
     "data": {
      "image/png": "[encoded data removed]",
      "text/plain": [
       "<matplotlib.figure.Figure at 0xe096370>"
      ]
     },
     "metadata": {},
     "output_type": "display_data"
    }
   ],
   "source": [
    "import matplotlib.pyplot as plt\n",
    "import matplotlib.cm as cm\n",
    "import numpy as np\n",
    "\n",
    "\n",
    "page=d['Page']\n",
    "convesions = d['Conversions']\n",
    "cr = d['CR']\n",
    "injuries = [1625,1752,1629,2255,1630]\n",
    "\n",
    "colors=cm.rainbow(np.random.rand(N))\n",
    "\n",
    "plt.scatter(conversions,cr,s=injuries,color=colors)\n",
    "for i in range(N):\n",
    "    plt.annotate(page[i],xy=(conversions[i],cr[i]))\n",
    "plt.xlabel('Conversions')\n",
    "plt.ylabel('CR')\n",
    "\n",
    "# Move title up with the \"y\" option\n",
    "plt.title('USER FLOW',y=1.05)\n",
    "plt.show()"
   ]
  },
  {
   "cell_type": "code",
   "execution_count": null,
   "metadata": {
    "collapsed": true
   },
   "outputs": [],
   "source": []
  },
  {
   "cell_type": "code",
   "execution_count": null,
   "metadata": {
    "collapsed": true
   },
   "outputs": [],
   "source": [
    "goal_to_use_id = \"\""
   ]
  },
  {
   "cell_type": "code",
   "execution_count": null,
   "metadata": {
    "collapsed": true
   },
   "outputs": [],
   "source": []
  }
 ],
 "metadata": {
  "kernelspec": {
   "display_name": "Python 3",
   "language": "python",
   "name": "python3"
  },
  "language_info": {
   "codemirror_mode": {
    "name": "ipython",
    "version": 3
   },
   "file_extension": ".py",
   "mimetype": "text/x-python",
   "name": "python",
   "nbconvert_exporter": "python",
   "pygments_lexer": "ipython3",
   "version": "3.6.0"
  }
 },
 "nbformat": 4,
 "nbformat_minor": 2
}
