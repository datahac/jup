{
 "cells": [
  {
   "cell_type": "markdown",
   "metadata": {},
   "source": [
    "# User groups"
   ]
  },
  {
   "cell_type": "code",
   "execution_count": null,
   "metadata": {
    "collapsed": true
   },
   "outputs": [],
   "source": [
    "request = \"POST https://analyticsreporting.googleapis.com/v4/reports:batchGet?fields=reports(columnHeader%2Cdata(rows%2Ctotals))&key={YOUR_API_KEY}\"\n",
    "request = {\n",
    " \"reportRequests\": [\n",
    "  {\n",
    "   \"viewId\": \"123303369\",\n",
    "   \"dateRanges\": [\n",
    "    {\n",
    "     \"startDate\": \"2017-01-01\",\n",
    "     \"endDate\": \"2017-04-30\"\n",
    "    }\n",
    "   ],\n",
    "   \"metrics\": [\n",
    "    {\n",
    "     \"expression\": \"ga:sessions\"\n",
    "    },\n",
    "    {\n",
    "     \"expression\": \"ga:sessionDuration\"\n",
    "    },\n",
    "    {\n",
    "     \"expression\": \"ga:goal1Completions\"\n",
    "    },\n",
    "    {\n",
    "     \"expression\": \"ga:bounceRate\"\n",
    "    }\n",
    "   ],\n",
    "   \"dimensions\": [\n",
    "    {\n",
    "     \"name\": \"ga:city\"\n",
    "    },\n",
    "    {\n",
    "     \"name\": \"ga:userAgeBracket\"\n",
    "    }\n",
    "   ]\n",
    "  }\n",
    " ]\n",
    "}"
   ]
  },
  {
   "cell_type": "code",
   "execution_count": 26,
   "metadata": {
    "collapsed": false
   },
   "outputs": [
    {
     "data": {
      "text/plain": [
       "{'reports': [{'columnHeader': {'dimensions': ['ga:city', 'ga:userAgeBracket'],\n",
       "    'metricHeader': {'metricHeaderEntries': [{'name': 'ga:sessions',\n",
       "       'type': 'INTEGER'},\n",
       "      {'name': 'ga:sessionDuration', 'type': 'TIME'},\n",
       "      {'name': 'ga:goal1Completions', 'type': 'INTEGER'},\n",
       "      {'name': 'ga:bounceRate', 'type': 'PERCENT'}]}},\n",
       "   'data': {'rows': [{'dimensions': ['(not set)', '25-34'],\n",
       "      'metrics': [{'values': ['27', '1848.0', '1', '62.96296296296296']}]},\n",
       "     {'dimensions': ['(not set)', '35-44'],\n",
       "      'metrics': [{'values': ['23', '1790.0', '1', '52.17391304347826']}]},\n",
       "     {'dimensions': ['Croydon', '18-24'],\n",
       "      'metrics': [{'values': ['101', '10047.0', '4', '41.584158415841586']}]},\n",
       "     {'dimensions': ['Croydon', '25-34'],\n",
       "      'metrics': [{'values': ['334', '62737.0', '17', '47.90419161676647']}]},\n",
       "     {'dimensions': ['Croydon', '35-44'],\n",
       "      'metrics': [{'values': ['223', '34564.0', '7', '43.04932735426009']}]},\n",
       "     {'dimensions': ['Croydon', '45-54'],\n",
       "      'metrics': [{'values': ['90', '14131.0', '2', '45.55555555555556']}]},\n",
       "     {'dimensions': ['Croydon', '55-64'],\n",
       "      'metrics': [{'values': ['32', '1932.0', '1', '53.125']}]},\n",
       "     {'dimensions': ['Hove', '35-44'],\n",
       "      'metrics': [{'values': ['12', '833.0', '1', '16.666666666666664']}]},\n",
       "     {'dimensions': ['London', '18-24'],\n",
       "      'metrics': [{'values': ['167', '29335.0', '8', '49.700598802395206']}]},\n",
       "     {'dimensions': ['London', '25-34'],\n",
       "      'metrics': [{'values': ['842', '84813.0', '24', '59.14489311163895']}]},\n",
       "     {'dimensions': ['London', '35-44'],\n",
       "      'metrics': [{'values': ['482', '56008.0', '14', '54.77178423236515']}]},\n",
       "     {'dimensions': ['London', '45-54'],\n",
       "      'metrics': [{'values': ['205', '26525.0', '3', '55.60975609756098']}]},\n",
       "     {'dimensions': ['London', '55-64'],\n",
       "      'metrics': [{'values': ['37', '3329.0', '0', '48.64864864864865']}]},\n",
       "     {'dimensions': ['London', '65+'],\n",
       "      'metrics': [{'values': ['15', '2224.0', '1', '66.66666666666666']}]}],\n",
       "    'totals': [{'values': ['2590', '330116.0', '84', '53.05019305019305']}]}}]}"
      ]
     },
     "execution_count": 26,
     "metadata": {},
     "output_type": "execute_result"
    }
   ],
   "source": [
    "import json\n",
    "\n",
    "with open('data/TMRW_users.json') as file:\n",
    "    input_ugroups = json.load(file)\n",
    "    \n",
    "input_ugroups"
   ]
  },
  {
   "cell_type": "code",
   "execution_count": 80,
   "metadata": {
    "collapsed": false
   },
   "outputs": [
    {
     "data": {
      "text/plain": [
       "2"
      ]
     },
     "execution_count": 80,
     "metadata": {},
     "output_type": "execute_result"
    }
   ],
   "source": [
    "# Define dimensions list\n",
    "input_ugroups_dimensions = input_ugroups['reports'][0]['columnHeader']['dimensions']\n",
    "\n",
    "dimension_count = len(input_ugroups_dimensions)\n",
    "dimension_count"
   ]
  },
  {
   "cell_type": "code",
   "execution_count": 39,
   "metadata": {
    "collapsed": false
   },
   "outputs": [
    {
     "data": {
      "text/plain": [
       "['ga:sessions', 'ga:sessionDuration', 'ga:goal1Completions', 'ga:bounceRate']"
      ]
     },
     "execution_count": 39,
     "metadata": {},
     "output_type": "execute_result"
    }
   ],
   "source": [
    "# Define metrics list\n",
    "input_ugroups_metrics = input_ugroups['reports'][0]['columnHeader']['metricHeader']['metricHeaderEntries']\n",
    "\n",
    "def create_metric_list(raw_data):\n",
    "    lst = []\n",
    "    for item in raw_data:\n",
    "        lst.append(item['name'])\n",
    "    return lst\n",
    "\n",
    "input_ugroups_metrics = create_metric_list(input_ugroups_metrics)\n",
    "\n",
    "input_ugroups_metrics"
   ]
  },
  {
   "cell_type": "code",
   "execution_count": 32,
   "metadata": {
    "collapsed": false
   },
   "outputs": [
    {
     "data": {
      "text/plain": [
       "[{'dimensions': ['(not set)', '25-34'],\n",
       "  'metrics': [{'values': ['27', '1848.0', '1', '62.96296296296296']}]},\n",
       " {'dimensions': ['(not set)', '35-44'],\n",
       "  'metrics': [{'values': ['23', '1790.0', '1', '52.17391304347826']}]},\n",
       " {'dimensions': ['Croydon', '18-24'],\n",
       "  'metrics': [{'values': ['101', '10047.0', '4', '41.584158415841586']}]},\n",
       " {'dimensions': ['Croydon', '25-34'],\n",
       "  'metrics': [{'values': ['334', '62737.0', '17', '47.90419161676647']}]},\n",
       " {'dimensions': ['Croydon', '35-44'],\n",
       "  'metrics': [{'values': ['223', '34564.0', '7', '43.04932735426009']}]},\n",
       " {'dimensions': ['Croydon', '45-54'],\n",
       "  'metrics': [{'values': ['90', '14131.0', '2', '45.55555555555556']}]},\n",
       " {'dimensions': ['Croydon', '55-64'],\n",
       "  'metrics': [{'values': ['32', '1932.0', '1', '53.125']}]},\n",
       " {'dimensions': ['Hove', '35-44'],\n",
       "  'metrics': [{'values': ['12', '833.0', '1', '16.666666666666664']}]},\n",
       " {'dimensions': ['London', '18-24'],\n",
       "  'metrics': [{'values': ['167', '29335.0', '8', '49.700598802395206']}]},\n",
       " {'dimensions': ['London', '25-34'],\n",
       "  'metrics': [{'values': ['842', '84813.0', '24', '59.14489311163895']}]},\n",
       " {'dimensions': ['London', '35-44'],\n",
       "  'metrics': [{'values': ['482', '56008.0', '14', '54.77178423236515']}]},\n",
       " {'dimensions': ['London', '45-54'],\n",
       "  'metrics': [{'values': ['205', '26525.0', '3', '55.60975609756098']}]},\n",
       " {'dimensions': ['London', '55-64'],\n",
       "  'metrics': [{'values': ['37', '3329.0', '0', '48.64864864864865']}]},\n",
       " {'dimensions': ['London', '65+'],\n",
       "  'metrics': [{'values': ['15', '2224.0', '1', '66.66666666666666']}]}]"
      ]
     },
     "execution_count": 32,
     "metadata": {},
     "output_type": "execute_result"
    }
   ],
   "source": [
    "# Create input_dev_data\n",
    "\n",
    "input_ugroups_data = input_users['reports'][0]['data']['rows']\n",
    "\n",
    "input_ugroups_data"
   ]
  },
  {
   "cell_type": "code",
   "execution_count": 115,
   "metadata": {
    "collapsed": false
   },
   "outputs": [
    {
     "data": {
      "text/plain": [
       "[{'name': ['London', '65+']}, {}, {}, {}, {}]"
      ]
     },
     "execution_count": 115,
     "metadata": {},
     "output_type": "execute_result"
    }
   ],
   "source": [
    "# Define each metric dict\n",
    "\n",
    "ugroup_sessions = {}\n",
    "ugroup_duration = {}\n",
    "ugroup_conversions = {}\n",
    "ugroup_bounce_rate = {}\n",
    "ugroup_conversion_rate = {}\n",
    "\n",
    "\n",
    "for ugroup in input_ugroups_data:\n",
    "    ugroup_list = ugroup['dimensions']\n",
    "    #print (ugroup_list)\n",
    "    ugroup_name = ugroup_list\n",
    "    #ugroup_name.append(ugroup['dimensions'])\n",
    "    #print(ugroup_name)\n",
    "    \n",
    "    \n",
    "    sessions_metric = int(ugroup['metrics'][0]['values'][0])\n",
    "    #print(sessions_metric)\n",
    "    #print(ugroup['metrics'][0]['values'][0])\n",
    "    duration_metric = float(ugroup['metrics'][0]['values'][1])\n",
    "    conv_metric = int(ugroup['metrics'][0]['values'][2])\n",
    "    bounce_rate_metric = round(float(ugroup['metrics'][0]['values'][3]),2)\n",
    "    conv_rate_metric = round(float(int(ugroup['metrics'][0]['values'][2])/int(ugroup['metrics'][0]['values'][0])*100),2)\n",
    "\n",
    "    #print(sessions_metric)\n",
    "    ugroup_sessions['name'] = ugroup_name\n",
    "    #= sessions_metric\n",
    "    #ugroup_duration[ugroup_list] = duration_metric\n",
    "    #ugroup_bounce_rate[ugroup_list] = bounce_rate_metric\n",
    "    #ugroup_conversions[ugroup_list] = conv_metric\n",
    "    #ugroup_conversion_rate[ugroup_list] = conv_rate_metric\n",
    "\n",
    "    \n",
    "new_data = [ugroup_sessions, ugroup_duration, ugroup_bounce_rate, ugroup_conversions, ugroup_conversion_rate]\n",
    "new_data"
   ]
  },
  {
   "cell_type": "code",
   "execution_count": 70,
   "metadata": {
    "collapsed": false
   },
   "outputs": [
    {
     "data": {
      "text/plain": [
       "{'(not set)': {'bounce rate': 0,\n",
       "  'conversion rate': 0,\n",
       "  'conversions': 0,\n",
       "  'duration': 0,\n",
       "  'sessions': 0},\n",
       " 'Croydon': {'bounce rate': 0,\n",
       "  'conversion rate': 0,\n",
       "  'conversions': 0,\n",
       "  'duration': 0,\n",
       "  'sessions': 0},\n",
       " 'Hove': {'bounce rate': 0,\n",
       "  'conversion rate': 0,\n",
       "  'conversions': 0,\n",
       "  'duration': 0,\n",
       "  'sessions': 0},\n",
       " 'London': {'bounce rate': 0,\n",
       "  'conversion rate': 0,\n",
       "  'conversions': 0,\n",
       "  'duration': 0,\n",
       "  'sessions': 0}}"
      ]
     },
     "execution_count": 70,
     "metadata": {},
     "output_type": "execute_result"
    }
   ],
   "source": [
    "# Create dev_data\n",
    "\n",
    "ugroup_data = {}  \n",
    "\n",
    "for metric_list in new_data:\n",
    "    #print(metric_list)\n",
    "    for ugroup in metric_list:\n",
    "        \n",
    "        ugroup_data[ugroup] = {'sessions':0,\n",
    "                                'duration':0,\n",
    "                                'bounce rate':0,\n",
    "                                'conversions':0,\n",
    "                                'conversion rate':0\n",
    "                               }\n",
    "                \n",
    "        #ugroup_data[device]['sessions'] = dev_sessions[device]      \n",
    "        \n",
    "ugroup_data"
   ]
  },
  {
   "cell_type": "code",
   "execution_count": null,
   "metadata": {
    "collapsed": true
   },
   "outputs": [],
   "source": []
  },
  {
   "cell_type": "code",
   "execution_count": null,
   "metadata": {
    "collapsed": true
   },
   "outputs": [],
   "source": []
  },
  {
   "cell_type": "code",
   "execution_count": null,
   "metadata": {
    "collapsed": true
   },
   "outputs": [],
   "source": []
  },
  {
   "cell_type": "code",
   "execution_count": null,
   "metadata": {
    "collapsed": true
   },
   "outputs": [],
   "source": []
  },
  {
   "cell_type": "code",
   "execution_count": 14,
   "metadata": {
    "collapsed": false
   },
   "outputs": [],
   "source": [
    "import numpy as np\n",
    " \n",
    "def cluster_points(X, mu):\n",
    "    clusters  = {}\n",
    "    for x in X:\n",
    "        bestmukey = min([(i[0], np.linalg.norm(x-mu[i[0]])) \\\n",
    "                    for i in enumerate(mu)], key=lambda t:t[1])[0]\n",
    "        try:\n",
    "            clusters[bestmukey].append(x)\n",
    "        except KeyError:\n",
    "            clusters[bestmukey] = [x]\n",
    "    return clusters\n",
    " \n",
    "def reevaluate_centers(mu, clusters):\n",
    "    newmu = []\n",
    "    keys = sorted(clusters.keys())\n",
    "    for k in keys:\n",
    "        newmu.append(np.mean(clusters[k], axis = 0))\n",
    "    return newmu\n",
    "\n",
    "def has_converged(mu, oldmu):\n",
    "    return set([tuple(a) for a in mu]) == set([tuple(a) for a in oldmu])\n",
    "\n",
    "def find_centers(X, K):\n",
    "    # Initialize to K random centers\n",
    "    oldmu = random.sample(X, K)\n",
    "    mu = random.sample(X, K)\n",
    "    while not has_converged(mu, oldmu):\n",
    "        oldmu = mu\n",
    "        # Assign all points in X to clusters\n",
    "        clusters = cluster_points(X, mu)\n",
    "        # Reevaluate centers\n",
    "        mu = reevaluate_centers(oldmu, clusters)\n",
    "    return(mu, clusters)"
   ]
  },
  {
   "cell_type": "code",
   "execution_count": 15,
   "metadata": {
    "collapsed": false
   },
   "outputs": [],
   "source": [
    "import random\n",
    " \n",
    "def init_board(N):\n",
    "    X = np.array([(random.uniform(-1, 1), random.uniform(-1, 1)) for i in range(N)])\n",
    "    return X"
   ]
  },
  {
   "cell_type": "code",
   "execution_count": 16,
   "metadata": {
    "collapsed": true
   },
   "outputs": [],
   "source": [
    "def init_board_gauss(N, k):\n",
    "    n = float(N)/k\n",
    "    X = []\n",
    "    for i in range(k):\n",
    "        c = (random.uniform(-1, 1), random.uniform(-1, 1))\n",
    "        s = random.uniform(0.05,0.5)\n",
    "        x = []\n",
    "        while len(x) < n:\n",
    "            a, b = np.array([np.random.normal(c[0], s), np.random.normal(c[1], s)])\n",
    "            # Continue drawing points from the distribution in the range [-1,1]\n",
    "            if abs(a) < 1 and abs(b) < 1:\n",
    "                x.append([a,b])\n",
    "        X.extend(x)\n",
    "    X = np.array(X)[:N]\n",
    "    return X"
   ]
  },
  {
   "cell_type": "code",
   "execution_count": null,
   "metadata": {
    "collapsed": true
   },
   "outputs": [],
   "source": []
  }
 ],
 "metadata": {
  "kernelspec": {
   "display_name": "Python 3",
   "language": "python",
   "name": "python3"
  },
  "language_info": {
   "codemirror_mode": {
    "name": "ipython",
    "version": 3
   },
   "file_extension": ".py",
   "mimetype": "text/x-python",
   "name": "python",
   "nbconvert_exporter": "python",
   "pygments_lexer": "ipython3",
   "version": "3.6.0"
  }
 },
 "nbformat": 4,
 "nbformat_minor": 2
}
