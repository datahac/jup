{
 "cells": [
  {
   "cell_type": "markdown",
   "metadata": {},
   "source": [
    "# Mobile insights"
   ]
  },
  {
   "cell_type": "markdown",
   "metadata": {},
   "source": [
    "## CSV"
   ]
  },
  {
   "cell_type": "markdown",
   "metadata": {},
   "source": [
    "### 0. Import libraries"
   ]
  },
  {
   "cell_type": "code",
   "execution_count": 10,
   "metadata": {
    "collapsed": true
   },
   "outputs": [],
   "source": [
    "%matplotlib inline \n",
    "\n",
    "import numpy as np\n",
    "import scipy as sp\n",
    "import matplotlib as mpl\n",
    "import matplotlib.cm as cm\n",
    "import matplotlib.pyplot as plt\n",
    "import pandas as pd\n",
    "\n",
    "pd.set_option('display.width', 500)\n",
    "pd.set_option('display.max_columns', 100)\n",
    "pd.set_option('display.notebook_repr_html', True)\n",
    "import seaborn as sns #sets up styles and gives us more plotting options\n"
   ]
  },
  {
   "cell_type": "markdown",
   "metadata": {},
   "source": [
    "### 1. Settings"
   ]
  },
  {
   "cell_type": "code",
   "execution_count": 11,
   "metadata": {
    "collapsed": true
   },
   "outputs": [],
   "source": [
    "# Time period 1st Jan - 30th April (arbitrary )\n",
    "\n",
    "# API credentials\n",
    "# Email address 705762800217-compute@developer.gserviceaccount.com\n",
    "# Key IDs 948ee8e2a420ef14a5d5a29bd35104fe2f1e6ed4\n",
    " "
   ]
  },
  {
   "cell_type": "code",
   "execution_count": 13,
   "metadata": {
    "collapsed": true
   },
   "outputs": [],
   "source": [
    "# open file. It is requested via API explorer using request parameters:\n",
    "\n",
    "#Account: Skein.co\n",
    "#Property: Skein.co\n",
    "#View: Skein.co - Report\n",
    "#ids: ga:93735856\n",
    "#start-date: 2017-02-01\n",
    "#end-date: 2017-04-30\n",
    "\n",
    "#metrics\n",
    "#ga:sessions\n",
    "#ga:goal1Completions\n",
    "#ga:bounceRate\n",
    "\n",
    "#dimensions\n",
    "#ga:deviceCategory"
   ]
  },
  {
   "cell_type": "markdown",
   "metadata": {},
   "source": [
    "### 2. Data import & transformation"
   ]
  },
  {
   "cell_type": "code",
   "execution_count": 14,
   "metadata": {
    "collapsed": false,
    "scrolled": false
   },
   "outputs": [
    {
     "data": {
      "text/html": [
       "<div>\n",
       "<table border=\"1\" class=\"dataframe\">\n",
       "  <thead>\n",
       "    <tr style=\"text-align: right;\">\n",
       "      <th></th>\n",
       "      <th>Sessions</th>\n",
       "      <th>Bounce Rate</th>\n",
       "      <th>Conversions</th>\n",
       "    </tr>\n",
       "    <tr>\n",
       "      <th>Device</th>\n",
       "      <th></th>\n",
       "      <th></th>\n",
       "      <th></th>\n",
       "    </tr>\n",
       "  </thead>\n",
       "  <tbody>\n",
       "    <tr>\n",
       "      <th>desktop</th>\n",
       "      <td>1855</td>\n",
       "      <td>69.487871</td>\n",
       "      <td>483</td>\n",
       "    </tr>\n",
       "    <tr>\n",
       "      <th>mobile</th>\n",
       "      <td>520</td>\n",
       "      <td>36.346154</td>\n",
       "      <td>326</td>\n",
       "    </tr>\n",
       "    <tr>\n",
       "      <th>tablet</th>\n",
       "      <td>20</td>\n",
       "      <td>75.000000</td>\n",
       "      <td>5</td>\n",
       "    </tr>\n",
       "  </tbody>\n",
       "</table>\n",
       "</div>"
      ],
      "text/plain": [
       "         Sessions  Bounce Rate  Conversions\n",
       "Device                                     \n",
       "desktop      1855    69.487871          483\n",
       "mobile        520    36.346154          326\n",
       "tablet         20    75.000000            5"
      ]
     },
     "execution_count": 14,
     "metadata": {},
     "output_type": "execute_result"
    }
   ],
   "source": [
    "# Open file\n",
    "input_mob= pd.read_csv('skein_data/Skein_mob.csv')\n",
    "\n",
    "# rename columns\n",
    "input_mob.columns=['Device','Sessions','Bounce Rate','Conversions'] \n",
    "\n",
    "# group by device\n",
    "input_mob = input_mob.set_index('Device')\n",
    "\n",
    "input_mob"
   ]
  },
  {
   "cell_type": "markdown",
   "metadata": {},
   "source": [
    "### 3. Calculate"
   ]
  },
  {
   "cell_type": "code",
   "execution_count": 15,
   "metadata": {
    "collapsed": false,
    "scrolled": true
   },
   "outputs": [
    {
     "data": {
      "text/html": [
       "<div>\n",
       "<table border=\"1\" class=\"dataframe\">\n",
       "  <thead>\n",
       "    <tr style=\"text-align: right;\">\n",
       "      <th></th>\n",
       "      <th>Sessions</th>\n",
       "      <th>Bounce Rate</th>\n",
       "      <th>Conversions</th>\n",
       "      <th>CR</th>\n",
       "    </tr>\n",
       "    <tr>\n",
       "      <th>Device</th>\n",
       "      <th></th>\n",
       "      <th></th>\n",
       "      <th></th>\n",
       "      <th></th>\n",
       "    </tr>\n",
       "  </thead>\n",
       "  <tbody>\n",
       "    <tr>\n",
       "      <th>desktop</th>\n",
       "      <td>1855</td>\n",
       "      <td>69.487871</td>\n",
       "      <td>483</td>\n",
       "      <td>26.037736</td>\n",
       "    </tr>\n",
       "    <tr>\n",
       "      <th>mobile</th>\n",
       "      <td>520</td>\n",
       "      <td>36.346154</td>\n",
       "      <td>326</td>\n",
       "      <td>62.692308</td>\n",
       "    </tr>\n",
       "    <tr>\n",
       "      <th>tablet</th>\n",
       "      <td>20</td>\n",
       "      <td>75.000000</td>\n",
       "      <td>5</td>\n",
       "      <td>25.000000</td>\n",
       "    </tr>\n",
       "  </tbody>\n",
       "</table>\n",
       "</div>"
      ],
      "text/plain": [
       "         Sessions  Bounce Rate  Conversions         CR\n",
       "Device                                                \n",
       "desktop      1855    69.487871          483  26.037736\n",
       "mobile        520    36.346154          326  62.692308\n",
       "tablet         20    75.000000            5  25.000000"
      ]
     },
     "execution_count": 15,
     "metadata": {},
     "output_type": "execute_result"
    }
   ],
   "source": [
    "input_mob['CR'] = input_mob.Conversions / input_mob.Sessions * 100\n",
    "input_mob"
   ]
  },
  {
   "cell_type": "code",
   "execution_count": 16,
   "metadata": {
    "collapsed": false,
    "scrolled": true
   },
   "outputs": [
    {
     "data": {
      "text/plain": [
       "62.692307692307693"
      ]
     },
     "execution_count": 16,
     "metadata": {},
     "output_type": "execute_result"
    }
   ],
   "source": [
    "mobile_Sessions = input_mob.loc['mobile','Sessions']\n",
    "desktop_CR = input_mob.loc['desktop','CR']\n",
    "mobile_Conversions = input_mob.loc['mobile','Conversions']\n",
    "mobile_CR = input_mob.loc['mobile','CR']\n",
    "\n",
    "conv_increase =  \"%.0f\" % (mobile_Sessions * desktop_CR - mobile_Conversions)\n",
    "conv_increase = int(conv_increase)\n",
    "\n",
    "#mobileSessions\n",
    "#desktopCR\n",
    "#mobileConversions\n",
    "mobile_CR"
   ]
  },
  {
   "cell_type": "markdown",
   "metadata": {},
   "source": [
    "### 4. Validate"
   ]
  },
  {
   "cell_type": "code",
   "execution_count": 17,
   "metadata": {
    "collapsed": false
   },
   "outputs": [
    {
     "data": {
      "text/plain": [
       "False"
      ]
     },
     "execution_count": 17,
     "metadata": {},
     "output_type": "execute_result"
    }
   ],
   "source": [
    "#if mobile CR is greater, equel or less by more than 20% result is failed\n",
    "\n",
    "dif = mobile_CR / desktop_CR\n",
    "\n",
    "if dif > 0.8:\n",
    "    result = False\n",
    "    \n",
    "else:\n",
    "    result = True\n",
    "    \n",
    "result"
   ]
  },
  {
   "cell_type": "markdown",
   "metadata": {},
   "source": [
    "### 5. Visualise"
   ]
  },
  {
   "cell_type": "code",
   "execution_count": 18,
   "metadata": {
    "collapsed": false,
    "scrolled": true
   },
   "outputs": [
    {
     "name": "stdout",
     "output_type": "stream",
     "text": [
      "Have 13214 more conversions per month by optmising mobile UX\n"
     ]
    },
    {
     "data": {
      "image/png": "[encoded data removed]",
      "text/plain": [
       "<matplotlib.figure.Figure at 0xbea24f0>"
      ]
     },
     "metadata": {},
     "output_type": "display_data"
    }
   ],
   "source": [
    "output_chart_mob = input_mob.loc['mobile',['Sessions','Conversions']]\n",
    "output_chart_mob.plot.barh(stacked=True)\n",
    "\n",
    "labels = output_chart_mob.index\n",
    "sizes = output_chart_mob\n",
    "\n",
    "# colours are taken from http://tools.medialab.sciences-po.fr/iwanthue/\n",
    "colors = ['#b94663','#6fac5d', '#677ad1']\n",
    "explode = (0, 0, 0)\n",
    "plt.xlabel('Visits')\n",
    "plt.title('Only %s ' % (\"%.2f\" % (mobile_CR*100) +'% of all mobile visits end up completing a conversion' ))\n",
    "\n",
    "#need to specify analytics time perdiod\n",
    "print (\"Have %s more conversions per month by optmising mobile UX\" % conv_increase)\n",
    "\n",
    "plt.show()\n"
   ]
  },
  {
   "cell_type": "markdown",
   "metadata": {},
   "source": [
    "## JSON"
   ]
  },
  {
   "cell_type": "markdown",
   "metadata": {},
   "source": [
    "### 0. Import libraries"
   ]
  },
  {
   "cell_type": "code",
   "execution_count": 6,
   "metadata": {
    "collapsed": true
   },
   "outputs": [],
   "source": [
    "import json\n",
    "\n",
    "%matplotlib inline \n",
    "\n",
    "import numpy as np\n",
    "import scipy as sp\n",
    "import matplotlib as mpl\n",
    "import matplotlib.cm as cm\n",
    "import matplotlib.pyplot as plt\n",
    "import pandas as pd\n",
    "\n",
    "pd.set_option('display.width', 500)\n",
    "pd.set_option('display.max_columns', 100)\n",
    "pd.set_option('display.notebook_repr_html', True)\n",
    "import seaborn as sns"
   ]
  },
  {
   "cell_type": "code",
   "execution_count": 10,
   "metadata": {
    "collapsed": false
   },
   "outputs": [
    {
     "data": {
      "text/plain": [
       "{'columnHeaders': [{'columnType': 'DIMENSION',\n",
       "   'dataType': 'STRING',\n",
       "   'name': 'ga:deviceCategory'},\n",
       "  {'columnType': 'METRIC', 'dataType': 'INTEGER', 'name': 'ga:sessions'},\n",
       "  {'columnType': 'METRIC', 'dataType': 'INTEGER', 'name': 'ga:bounces'},\n",
       "  {'columnType': 'METRIC',\n",
       "   'dataType': 'INTEGER',\n",
       "   'name': 'ga:sessionsWithEvent'}],\n",
       " 'containsSampledData': False,\n",
       " 'id': 'https://www.googleapis.com/analytics/v3/data/ga?ids=ga:123303369&dimensions=ga:deviceCategory&metrics=ga:sessions,ga:bounces,ga:sessionsWithEvent&start-date=2017-01-01&end-date=2017-04-30',\n",
       " 'itemsPerPage': 1000,\n",
       " 'kind': 'analytics#gaData',\n",
       " 'profileInfo': {'accountId': '78795478',\n",
       "  'internalWebPropertyId': '117885953',\n",
       "  'profileId': '123303369',\n",
       "  'profileName': 'All Web Site Data',\n",
       "  'tableId': 'ga:123303369',\n",
       "  'webPropertyId': 'UA-78795478-1'},\n",
       " 'query': {'dimensions': 'ga:deviceCategory',\n",
       "  'end-date': '2017-04-30',\n",
       "  'ids': 'ga:123303369',\n",
       "  'max-results': 1000,\n",
       "  'metrics': ['ga:sessions', 'ga:bounces', 'ga:sessionsWithEvent'],\n",
       "  'start-date': '2017-01-01',\n",
       "  'start-index': 1},\n",
       " 'rows': [['desktop', '4263', '2251', '124'],\n",
       "  ['mobile', '2352', '1468', '32'],\n",
       "  ['tablet', '278', '155', '3']],\n",
       " 'selfLink': 'https://www.googleapis.com/analytics/v3/data/ga?ids=ga:123303369&dimensions=ga:deviceCategory&metrics=ga:sessions,ga:bounces,ga:sessionsWithEvent&start-date=2017-01-01&end-date=2017-04-30',\n",
       " 'totalResults': 3,\n",
       " 'totalsForAllResults': {'ga:bounces': '3874',\n",
       "  'ga:sessions': '6893',\n",
       "  'ga:sessionsWithEvent': '159'}}"
      ]
     },
     "execution_count": 10,
     "metadata": {},
     "output_type": "execute_result"
    }
   ],
   "source": [
    "with open('files/TMRW_mob.json') as file: #открываем файл на чтение\n",
    "    input_mob = json.load(file) #загружаем из файла данные в словарь data\n",
    "input_mob"
   ]
  },
  {
   "cell_type": "code",
   "execution_count": 18,
   "metadata": {
    "collapsed": false
   },
   "outputs": [
    {
     "data": {
      "text/plain": [
       "[{'columnType': 'DIMENSION',\n",
       "  'dataType': 'STRING',\n",
       "  'name': 'ga:deviceCategory'},\n",
       " {'columnType': 'METRIC', 'dataType': 'INTEGER', 'name': 'ga:sessions'},\n",
       " {'columnType': 'METRIC', 'dataType': 'INTEGER', 'name': 'ga:bounces'},\n",
       " {'columnType': 'METRIC',\n",
       "  'dataType': 'INTEGER',\n",
       "  'name': 'ga:sessionsWithEvent'}]"
      ]
     },
     "execution_count": 18,
     "metadata": {},
     "output_type": "execute_result"
    }
   ],
   "source": [
    "columns = input_mob['columnHeaders']\n",
    "columns"
   ]
  },
  {
   "cell_type": "code",
   "execution_count": 21,
   "metadata": {
    "collapsed": false
   },
   "outputs": [
    {
     "data": {
      "text/plain": [
       "[['desktop', '4263', '2251', '124'],\n",
       " ['mobile', '2352', '1468', '32'],\n",
       " ['tablet', '278', '155', '3']]"
      ]
     },
     "execution_count": 21,
     "metadata": {},
     "output_type": "execute_result"
    }
   ],
   "source": [
    "rows = input_mob['rows']\n",
    "rows"
   ]
  },
  {
   "cell_type": "code",
   "execution_count": null,
   "metadata": {
    "collapsed": true
   },
   "outputs": [],
   "source": []
  }
 ],
 "metadata": {
  "anaconda-cloud": {},
  "kernelspec": {
   "display_name": "Python 3",
   "language": "python",
   "name": "python3"
  },
  "language_info": {
   "codemirror_mode": {
    "name": "ipython",
    "version": 3
   },
   "file_extension": ".py",
   "mimetype": "text/x-python",
   "name": "python",
   "nbconvert_exporter": "python",
   "pygments_lexer": "ipython3",
   "version": "3.6.0"
  }
 },
 "nbformat": 4,
 "nbformat_minor": 1
}
