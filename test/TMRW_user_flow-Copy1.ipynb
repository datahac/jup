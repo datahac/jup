{
 "cells": [
  {
   "cell_type": "code",
   "execution_count": 2,
   "metadata": {
    "collapsed": false,
    "scrolled": false
   },
   "outputs": [
    {
     "name": "stdout",
     "output_type": "stream",
     "text": [
      "[{'columnHeader': {'dimensions': ['ga:goalCompletionLocation'],\n",
      "                   'metricHeader': {'metricHeaderEntries': [{'name': 'ga:goal1Completions',\n",
      "                                                             'type': 'INTEGER'}]}},\n",
      "  'data': {'isDataGolden': True,\n",
      "           'maximums': [{'values': ['85']}],\n",
      "           'minimums': [{'values': ['6']}],\n",
      "           'rowCount': 4,\n",
      "           'rows': [{'dimensions': ['(entrance)'],\n",
      "                     'metrics': [{'values': ['6']}]},\n",
      "                    {'dimensions': ['/'], 'metrics': [{'values': ['85']}]},\n",
      "                    {'dimensions': ['/TMRW_Byte_Cafe.php'],\n",
      "                     'metrics': [{'values': ['22']}]},\n",
      "                    {'dimensions': ['/TMRW_FAQs.php'],\n",
      "                     'metrics': [{'values': ['24']}]}],\n",
      "           'totals': [{'values': ['137']}]}}]\n"
     ]
    }
   ],
   "source": [
    "import json\n",
    "from pprint import pprint\n",
    "\n",
    "with open('data/TMRW_goal1_goalloc_copy.json') as file: \n",
    "    goals = json.load(file)\n",
    "\n",
    "goals = goals[\"reports\"]\n",
    "pprint(goals)"
   ]
  },
  {
   "cell_type": "code",
   "execution_count": 3,
   "metadata": {
    "collapsed": false
   },
   "outputs": [
    {
     "data": {
      "text/plain": [
       "[{'dimensions': ['(entrance)'], 'metrics': [{'values': ['6']}]},\n",
       " {'dimensions': ['/'], 'metrics': [{'values': ['85']}]},\n",
       " {'dimensions': ['/TMRW_Byte_Cafe.php'], 'metrics': [{'values': ['22']}]},\n",
       " {'dimensions': ['/TMRW_FAQs.php'], 'metrics': [{'values': ['24']}]}]"
      ]
     },
     "execution_count": 3,
     "metadata": {},
     "output_type": "execute_result"
    }
   ],
   "source": [
    "goals = goals[0]['data']['rows']\n",
    "goals"
   ]
  },
  {
   "cell_type": "code",
   "execution_count": 4,
   "metadata": {
    "collapsed": false
   },
   "outputs": [
    {
     "data": {
      "text/plain": [
       "{'(entrance)': 6, '/': 85, '/TMRW_Byte_Cafe.php': 22, '/TMRW_FAQs.php': 24}"
      ]
     },
     "execution_count": 4,
     "metadata": {},
     "output_type": "execute_result"
    }
   ],
   "source": [
    "def create_dict(x):\n",
    "    goals_dict = {}\n",
    "\n",
    "    for s in x:\n",
    "        \n",
    "        #print (str((s['dimensions'])))\n",
    "        #print (s['metrics'][0]['values'])\n",
    "        #session_dict[] = 0\n",
    "        goals_dict[s['dimensions'][0]] = int(s['metrics'][0]['values'][0])\n",
    "        #session_dict[s['dimensions']] = s['metrics'][0]['values']\n",
    "    \n",
    "    return goals_dict\n",
    "        \n",
    "\n",
    "goals_dict = (create_dict(goals))\n",
    "\n",
    "goals_dict"
   ]
  },
  {
   "cell_type": "code",
   "execution_count": 28,
   "metadata": {
    "collapsed": false,
    "scrolled": true
   },
   "outputs": [
    {
     "name": "stdout",
     "output_type": "stream",
     "text": [
      "[{'columnHeader': {'dimensions': ['ga:pagePath'], 'metricHeader': {'metricHeaderEntries': [{'name': 'ga:sessions', 'type': 'INTEGER'}]}}, 'data': {'rows': [{'dimensions': ['/'], 'metrics': [{'values': ['5925']}]}, {'dimensions': ['/TMRW_Byte_Cafe.php'], 'metrics': [{'values': ['270']}]}, {'dimensions': ['/TMRW_FAQs.php'], 'metrics': [{'values': ['129']}]}, {'dimensions': ['/TMRW_the_team.php'], 'metrics': [{'values': ['140']}]}, {'dimensions': ['/trainstrikes.php'], 'metrics': [{'values': ['231']}]}, {'dimensions': ['/voteforbyte.php'], 'metrics': [{'values': ['79']}]}], 'totals': [{'values': ['6774']}], 'rowCount': 6, 'minimums': [{'values': ['79']}], 'maximums': [{'values': ['5925']}], 'isDataGolden': True}}]\n"
     ]
    }
   ],
   "source": [
    "with open('data/TMRW_sess_page.json') as file: \n",
    "    sessions = json.load(file)\n",
    "\n",
    "sessions = sessions[\"reports\"]\n",
    "print(sessions)"
   ]
  },
  {
   "cell_type": "code",
   "execution_count": 6,
   "metadata": {
    "collapsed": false,
    "scrolled": true
   },
   "outputs": [
    {
     "data": {
      "text/plain": [
       "[{'dimensions': ['/'], 'metrics': [{'values': ['5925']}]},\n",
       " {'dimensions': ['/TMRW_Byte_Cafe.php'], 'metrics': [{'values': ['270']}]},\n",
       " {'dimensions': ['/TMRW_FAQs.php'], 'metrics': [{'values': ['129']}]},\n",
       " {'dimensions': ['/TMRW_the_team.php'], 'metrics': [{'values': ['140']}]},\n",
       " {'dimensions': ['/trainstrikes.php'], 'metrics': [{'values': ['231']}]},\n",
       " {'dimensions': ['/voteforbyte.php'], 'metrics': [{'values': ['79']}]}]"
      ]
     },
     "execution_count": 6,
     "metadata": {},
     "output_type": "execute_result"
    }
   ],
   "source": [
    "sessions = sessions[0]['data']['rows']\n",
    "sessions"
   ]
  },
  {
   "cell_type": "code",
   "execution_count": 7,
   "metadata": {
    "collapsed": false,
    "scrolled": true
   },
   "outputs": [
    {
     "data": {
      "text/plain": [
       "{'/': 5925,\n",
       " '/TMRW_Byte_Cafe.php': 270,\n",
       " '/TMRW_FAQs.php': 129,\n",
       " '/TMRW_the_team.php': 140,\n",
       " '/trainstrikes.php': 231,\n",
       " '/voteforbyte.php': 79}"
      ]
     },
     "execution_count": 7,
     "metadata": {},
     "output_type": "execute_result"
    }
   ],
   "source": [
    "def create_dict(x):\n",
    "    sessions_dict = {}\n",
    "\n",
    "    for s in x:\n",
    "        \n",
    "        #print (str((s['dimensions'])))\n",
    "        #print (s['metrics'][0]['values'])\n",
    "        #session_dict[] = 0\n",
    "        sessions_dict[s['dimensions'][0]] = int(s['metrics'][0]['values'][0])\n",
    "        #session_dict[s['dimensions']] = s['metrics'][0]['values']\n",
    "    \n",
    "    return sessions_dict\n",
    "        \n",
    "\n",
    "sessions_dict = (create_dict(sessions))\n",
    "\n",
    "sessions_dict"
   ]
  },
  {
   "cell_type": "code",
   "execution_count": 8,
   "metadata": {
    "collapsed": false
   },
   "outputs": [
    {
     "data": {
      "text/plain": [
       "['/',\n",
       " '/TMRW_Byte_Cafe.php',\n",
       " '/TMRW_FAQs.php',\n",
       " '/TMRW_the_team.php',\n",
       " '/trainstrikes.php',\n",
       " '/voteforbyte.php']"
      ]
     },
     "execution_count": 8,
     "metadata": {},
     "output_type": "execute_result"
    }
   ],
   "source": [
    "dictionaryKey1 = []\n",
    "\n",
    "# For each key in the dictionary's keys,\n",
    "for key in sessions_dict.keys():\n",
    "    # add the key to dictionaryKeys\n",
    "    dictionaryKey1.append(key)\n",
    "\n",
    "# View the dictionaryKeys list\n",
    "dictionaryKey1"
   ]
  },
  {
   "cell_type": "code",
   "execution_count": 9,
   "metadata": {
    "collapsed": false
   },
   "outputs": [
    {
     "data": {
      "text/plain": [
       "['(entrance)', '/', '/TMRW_Byte_Cafe.php', '/TMRW_FAQs.php']"
      ]
     },
     "execution_count": 9,
     "metadata": {},
     "output_type": "execute_result"
    }
   ],
   "source": [
    "dictionaryKey2 = []\n",
    "\n",
    "# For each key in the dictionary's keys,\n",
    "for key in goals_dict.keys():\n",
    "    # add the key to dictionaryKeys\n",
    "    dictionaryKey2.append(key)\n",
    "\n",
    "# View the dictionaryKeys list\n",
    "dictionaryKey2"
   ]
  },
  {
   "cell_type": "code",
   "execution_count": 12,
   "metadata": {
    "collapsed": false
   },
   "outputs": [
    {
     "data": {
      "text/plain": [
       "range(0, 3)"
      ]
     },
     "execution_count": 12,
     "metadata": {},
     "output_type": "execute_result"
    }
   ],
   "source": [
    "range(len(dictionaryKey2)-1)"
   ]
  },
  {
   "cell_type": "code",
   "execution_count": 18,
   "metadata": {
    "collapsed": false
   },
   "outputs": [
    {
     "data": {
      "text/plain": [
       "[5925, 270, 129, 140, 231, 79]"
      ]
     },
     "execution_count": 18,
     "metadata": {},
     "output_type": "execute_result"
    }
   ],
   "source": [
    "dictValues = []\n",
    "\n",
    "# For each key in the dict's Values,\n",
    "for x in sessions_dict.values():\n",
    "    # add the key to dictValues\n",
    "    dictValues.append(x)\n",
    "\n",
    "# View the dictionaryValues list\n",
    "dictValues"
   ]
  },
  {
   "cell_type": "code",
   "execution_count": 67,
   "metadata": {
    "collapsed": false
   },
   "outputs": [
    {
     "data": {
      "text/plain": [
       "{'/', '/TMRW_Byte_Cafe.php', '/TMRW_FAQs.php'}"
      ]
     },
     "execution_count": 67,
     "metadata": {},
     "output_type": "execute_result"
    }
   ],
   "source": [
    "def dict_compare(goals_dict, sessions_dict):\n",
    "    goals_dict_keys = set(goals_dict.keys())\n",
    "    \n",
    "    sessions_dict_keys = set(sessions_dict.keys())\n",
    "    \n",
    "    intersect_keys = goals_dict_keys.intersection(sessions_dict_keys)\n",
    "    \n",
    "    added = goals_dict_keys - sessions_dict_keys\n",
    "    \n",
    "    removed = sessions_dict_keys - goals_dict_keys\n",
    "    \n",
    "    same = set(o for o in intersect_keys if goals_dict[o] == sessions_dict[o])\n",
    "    \n",
    "    return intersect_keys\n",
    "\n",
    "\n",
    "correct_pages = dict_compare(goals_dict, sessions_dict)\n",
    "#correct_pages = ['/', '/TMRW_Byte_Cafe.php', '/TMRW_FAQs.php']\n",
    "correct_pages"
   ]
  },
  {
   "cell_type": "code",
   "execution_count": 68,
   "metadata": {
    "collapsed": false
   },
   "outputs": [
    {
     "name": "stdout",
     "output_type": "stream",
     "text": [
      "/TMRW_Byte_Cafe.php\n",
      "/TMRW_FAQs.php\n",
      "/\n"
     ]
    }
   ],
   "source": [
    "for page in correct_pages:\n",
    "    #rint (page)\n",
    "    for page2 in goals_dict:\n",
    "        if page == page2:\n",
    "            print(page2)"
   ]
  },
  {
   "cell_type": "code",
   "execution_count": 69,
   "metadata": {
    "collapsed": false
   },
   "outputs": [
    {
     "name": "stdout",
     "output_type": "stream",
     "text": [
      "{'/TMRW_Byte_Cafe.php': 8.148148148148149, '/TMRW_FAQs.php': 18.6046511627907, '/': 1.4345991561181435}\n"
     ]
    }
   ],
   "source": [
    "conv_rate_dict= {}\n",
    "\n",
    "for page in correct_pages:\n",
    "    #rint (page)\n",
    "    for page2 in goals_dict:\n",
    "        if page == page2:\n",
    "            #print(page2)\n",
    "        \n",
    "        \n",
    "            conv_rate = (goals_dict[page]/(sessions_dict[page])*100)\n",
    "            conv_rate_dict[page] = conv_rate \n",
    "        \n",
    "print(conv_rate_dict)"
   ]
  },
  {
   "cell_type": "code",
   "execution_count": 46,
   "metadata": {
    "collapsed": false
   },
   "outputs": [
    {
     "ename": "TypeError",
     "evalue": "'int' object is not subscriptable",
     "output_type": "error",
     "traceback": [
      "\u001b[0;31m---------------------------------------------------------------------------\u001b[0m",
      "\u001b[0;31mTypeError\u001b[0m                                 Traceback (most recent call last)",
      "\u001b[0;32m<ipython-input-46-d752c2f99bb6>\u001b[0m in \u001b[0;36m<module>\u001b[0;34m()\u001b[0m\n\u001b[0;32m----> 1\u001b[0;31m \u001b[0mgoals_dict\u001b[0m\u001b[1;33m[\u001b[0m\u001b[0mpage\u001b[0m\u001b[1;33m]\u001b[0m\u001b[1;33m[\u001b[0m\u001b[1;36m1\u001b[0m\u001b[1;33m]\u001b[0m\u001b[1;33m\u001b[0m\u001b[0m\n\u001b[0m",
      "\u001b[0;31mTypeError\u001b[0m: 'int' object is not subscriptable"
     ]
    }
   ],
   "source": [
    "goals_dict[page][1]"
   ]
  },
  {
   "cell_type": "code",
   "execution_count": null,
   "metadata": {
    "collapsed": true
   },
   "outputs": [],
   "source": [
    "for ghfh in fh:\n",
    "    if "
   ]
  },
  {
   "cell_type": "code",
   "execution_count": null,
   "metadata": {
    "collapsed": true
   },
   "outputs": [],
   "source": []
  },
  {
   "cell_type": "code",
   "execution_count": 9,
   "metadata": {
    "collapsed": false
   },
   "outputs": [
    {
     "ename": "ValueError",
     "evalue": "max() arg is an empty sequence",
     "output_type": "error",
     "traceback": [
      "\u001b[0;31m---------------------------------------------------------------------------\u001b[0m",
      "\u001b[0;31mValueError\u001b[0m                                Traceback (most recent call last)",
      "\u001b[0;32m<ipython-input-9-91503d4c5ef6>\u001b[0m in \u001b[0;36m<module>\u001b[0;34m()\u001b[0m\n\u001b[0;32m----> 1\u001b[0;31m \u001b[0mmax_value\u001b[0m \u001b[1;33m=\u001b[0m \u001b[0mmax\u001b[0m\u001b[1;33m(\u001b[0m\u001b[0mdictValues\u001b[0m\u001b[1;33m)\u001b[0m\u001b[1;33m\u001b[0m\u001b[0m\n\u001b[0m\u001b[1;32m      2\u001b[0m \u001b[0mmax_value\u001b[0m \u001b[1;33m=\u001b[0m \u001b[0mround\u001b[0m\u001b[1;33m(\u001b[0m\u001b[0mmax_value\u001b[0m\u001b[1;33m,\u001b[0m\u001b[1;36m2\u001b[0m\u001b[1;33m)\u001b[0m\u001b[1;33m\u001b[0m\u001b[0m\n\u001b[1;32m      3\u001b[0m \u001b[0mmax_value\u001b[0m\u001b[1;33m\u001b[0m\u001b[0m\n",
      "\u001b[0;31mValueError\u001b[0m: max() arg is an empty sequence"
     ]
    }
   ],
   "source": [
    "max_value = max(dictValues)\n",
    "max_value = round(max_value,2)\n",
    "max_value"
   ]
  },
  {
   "cell_type": "code",
   "execution_count": 10,
   "metadata": {
    "collapsed": false
   },
   "outputs": [
    {
     "ename": "ValueError",
     "evalue": "min() arg is an empty sequence",
     "output_type": "error",
     "traceback": [
      "\u001b[0;31m---------------------------------------------------------------------------\u001b[0m",
      "\u001b[0;31mValueError\u001b[0m                                Traceback (most recent call last)",
      "\u001b[0;32m<ipython-input-10-2ce6806e3f94>\u001b[0m in \u001b[0;36m<module>\u001b[0;34m()\u001b[0m\n\u001b[0;32m----> 1\u001b[0;31m \u001b[0mmin_value\u001b[0m \u001b[1;33m=\u001b[0m \u001b[0mmin\u001b[0m\u001b[1;33m(\u001b[0m\u001b[0mdictValues\u001b[0m\u001b[1;33m)\u001b[0m\u001b[1;33m\u001b[0m\u001b[0m\n\u001b[0m\u001b[1;32m      2\u001b[0m \u001b[0mmin_value\u001b[0m \u001b[1;33m=\u001b[0m \u001b[0mround\u001b[0m\u001b[1;33m(\u001b[0m\u001b[0mmin_value\u001b[0m\u001b[1;33m,\u001b[0m\u001b[1;36m2\u001b[0m\u001b[1;33m)\u001b[0m\u001b[1;33m\u001b[0m\u001b[0m\n\u001b[1;32m      3\u001b[0m \u001b[0mmin_value\u001b[0m\u001b[1;33m\u001b[0m\u001b[0m\n",
      "\u001b[0;31mValueError\u001b[0m: min() arg is an empty sequence"
     ]
    }
   ],
   "source": [
    "min_value = min(dictValues)\n",
    "min_value = round(min_value,2)\n",
    "min_value"
   ]
  },
  {
   "cell_type": "code",
   "execution_count": 11,
   "metadata": {
    "collapsed": false
   },
   "outputs": [
    {
     "ename": "ValueError",
     "evalue": "max() arg is an empty sequence",
     "output_type": "error",
     "traceback": [
      "\u001b[0;31m---------------------------------------------------------------------------\u001b[0m",
      "\u001b[0;31mValueError\u001b[0m                                Traceback (most recent call last)",
      "\u001b[0;32m<ipython-input-11-7b07d793a42c>\u001b[0m in \u001b[0;36m<module>\u001b[0;34m()\u001b[0m\n\u001b[0;32m----> 1\u001b[0;31m \u001b[0mmax_page\u001b[0m \u001b[1;33m=\u001b[0m \u001b[0mmax\u001b[0m\u001b[1;33m(\u001b[0m\u001b[0mconv_rate_dict\u001b[0m\u001b[1;33m,\u001b[0m \u001b[0mkey\u001b[0m\u001b[1;33m=\u001b[0m\u001b[0mconv_rate_dict\u001b[0m\u001b[1;33m.\u001b[0m\u001b[0mget\u001b[0m\u001b[1;33m)\u001b[0m\u001b[1;33m\u001b[0m\u001b[0m\n\u001b[0m\u001b[1;32m      2\u001b[0m \u001b[1;33m\u001b[0m\u001b[0m\n\u001b[1;32m      3\u001b[0m \u001b[1;32mif\u001b[0m \u001b[0mmax_page\u001b[0m \u001b[1;33m==\u001b[0m \u001b[1;34m'/'\u001b[0m\u001b[1;33m:\u001b[0m\u001b[1;33m\u001b[0m\u001b[0m\n\u001b[1;32m      4\u001b[0m     \u001b[0mmax_page\u001b[0m \u001b[1;33m=\u001b[0m \u001b[1;34m\"homepage\"\u001b[0m\u001b[1;33m\u001b[0m\u001b[0m\n\u001b[1;32m      5\u001b[0m \u001b[1;32melse\u001b[0m\u001b[1;33m:\u001b[0m\u001b[1;33m\u001b[0m\u001b[0m\n",
      "\u001b[0;31mValueError\u001b[0m: max() arg is an empty sequence"
     ]
    }
   ],
   "source": [
    "max_page = max(conv_rate_dict, key=conv_rate_dict.get)\n",
    "\n",
    "if max_page == '/':\n",
    "    max_page = \"homepage\"\n",
    "else:\n",
    "    max_page = max_page\n",
    "\n",
    "max_page"
   ]
  },
  {
   "cell_type": "code",
   "execution_count": 12,
   "metadata": {
    "collapsed": false
   },
   "outputs": [
    {
     "ename": "ValueError",
     "evalue": "min() arg is an empty sequence",
     "output_type": "error",
     "traceback": [
      "\u001b[0;31m---------------------------------------------------------------------------\u001b[0m",
      "\u001b[0;31mValueError\u001b[0m                                Traceback (most recent call last)",
      "\u001b[0;32m<ipython-input-12-95941fb7422f>\u001b[0m in \u001b[0;36m<module>\u001b[0;34m()\u001b[0m\n\u001b[0;32m----> 1\u001b[0;31m \u001b[0mmin_page\u001b[0m \u001b[1;33m=\u001b[0m \u001b[0mmin\u001b[0m\u001b[1;33m(\u001b[0m\u001b[0mconv_rate_dict\u001b[0m\u001b[1;33m,\u001b[0m \u001b[0mkey\u001b[0m\u001b[1;33m=\u001b[0m\u001b[0mconv_rate_dict\u001b[0m\u001b[1;33m.\u001b[0m\u001b[0mget\u001b[0m\u001b[1;33m)\u001b[0m\u001b[1;33m\u001b[0m\u001b[0m\n\u001b[0m\u001b[1;32m      2\u001b[0m \u001b[1;33m\u001b[0m\u001b[0m\n\u001b[1;32m      3\u001b[0m \u001b[1;32mif\u001b[0m \u001b[0mmin_page\u001b[0m \u001b[1;33m==\u001b[0m \u001b[1;34m'/'\u001b[0m\u001b[1;33m:\u001b[0m\u001b[1;33m\u001b[0m\u001b[0m\n\u001b[1;32m      4\u001b[0m     \u001b[0mmin_page\u001b[0m \u001b[1;33m=\u001b[0m \u001b[1;34m\"homepage\"\u001b[0m\u001b[1;33m\u001b[0m\u001b[0m\n\u001b[1;32m      5\u001b[0m \u001b[1;32melse\u001b[0m\u001b[1;33m:\u001b[0m\u001b[1;33m\u001b[0m\u001b[0m\n",
      "\u001b[0;31mValueError\u001b[0m: min() arg is an empty sequence"
     ]
    }
   ],
   "source": [
    "min_page = min(conv_rate_dict, key=conv_rate_dict.get)\n",
    "\n",
    "if min_page == '/':\n",
    "    min_page = \"homepage\"\n",
    "else:\n",
    "    min_page = min_page\n",
    "\n",
    "min_page\n"
   ]
  },
  {
   "cell_type": "code",
   "execution_count": 13,
   "metadata": {
    "collapsed": false,
    "scrolled": true
   },
   "outputs": [
    {
     "name": "stdout",
     "output_type": "stream",
     "text": [
      "Page:\"/TMRW_FAQs.php\" has the highest Conversion Rate - 18.6% .\n"
     ]
    }
   ],
   "source": [
    "print('Page:\"%s' % max_page + '\" has the highest Conversion Rate - %s' % max_value + '% .' )"
   ]
  },
  {
   "cell_type": "code",
   "execution_count": 14,
   "metadata": {
    "collapsed": false
   },
   "outputs": [
    {
     "name": "stdout",
     "output_type": "stream",
     "text": [
      "Page:\"homepage\" has the lowest Conversion Rate - 1.43% .\n"
     ]
    }
   ],
   "source": [
    "print('Page:\"%s'% min_page + '\" has the lowest Conversion Rate - %s' % min_value + '% .' )"
   ]
  },
  {
   "cell_type": "code",
   "execution_count": null,
   "metadata": {
    "collapsed": true
   },
   "outputs": [],
   "source": []
  },
  {
   "cell_type": "code",
   "execution_count": null,
   "metadata": {
    "collapsed": true
   },
   "outputs": [],
   "source": []
  }
 ],
 "metadata": {
  "kernelspec": {
   "display_name": "Python 3",
   "language": "python",
   "name": "python3"
  },
  "language_info": {
   "codemirror_mode": {
    "name": "ipython",
    "version": 3
   },
   "file_extension": ".py",
   "mimetype": "text/x-python",
   "name": "python",
   "nbconvert_exporter": "python",
   "pygments_lexer": "ipython3",
   "version": "3.6.0"
  }
 },
 "nbformat": 4,
 "nbformat_minor": 2
}
