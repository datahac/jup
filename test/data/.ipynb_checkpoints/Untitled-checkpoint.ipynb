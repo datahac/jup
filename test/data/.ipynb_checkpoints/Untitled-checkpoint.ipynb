{
 "cells": [
  {
   "cell_type": "markdown",
   "metadata": {},
   "source": [
    "JSON Test"
   ]
  },
  {
   "cell_type": "code",
   "execution_count": 23,
   "metadata": {
    "collapsed": false
   },
   "outputs": [
    {
     "name": "stdout",
     "output_type": "stream",
     "text": [
      "{'results': [{'address_components': [{'long_name': '1600', 'short_name': '1600', 'types': ['street_number']}, {'long_name': 'Amphitheatre Parkway', 'short_name': 'Amphitheatre Pkwy', 'types': ['route']}, {'long_name': 'Mountain View', 'short_name': 'Mountain View', 'types': ['locality', 'political']}, {'long_name': 'Santa Clara County', 'short_name': 'Santa Clara County', 'types': ['administrative_area_level_2', 'political']}, {'long_name': 'California', 'short_name': 'CA', 'types': ['administrative_area_level_1', 'political']}, {'long_name': 'United States', 'short_name': 'US', 'types': ['country', 'political']}, {'long_name': '94043', 'short_name': '94043', 'types': ['postal_code']}], 'formatted_address': '1600 Amphitheatre Pkwy, Mountain View, CA 94043, USA', 'geometry': {'location': {'lat': 37.4219999, 'lng': -122.0840575}, 'location_type': 'APPROXIMATE', 'viewport': {'northeast': {'lat': 37.4233488802915, 'lng': -122.0827085197085}, 'southwest': {'lat': 37.4206509197085, 'lng': -122.0854064802915}}}, 'place_id': 'ChIJj61dQgK6j4AR4GeTYWZsKWw', 'types': ['establishment', 'point_of_interest']}], 'status': 'OK'}\n"
     ]
    }
   ],
   "source": [
    "import urllib.request, json \n",
    "with urllib.request.urlopen(\"http://maps.googleapis.com/maps/api/geocode/json?address=google\") as url:\n",
    "    data = json.loads(url.read().decode())\n",
    "    print(data)"
   ]
  },
  {
   "cell_type": "code",
   "execution_count": 48,
   "metadata": {
    "collapsed": false
   },
   "outputs": [
    {
     "data": {
      "text/plain": [
       "{'results': [{'address_components': [{'long_name': '1600',\n",
       "     'short_name': '1600',\n",
       "     'types': ['street_number']},\n",
       "    {'long_name': 'Amphitheatre Parkway',\n",
       "     'short_name': 'Amphitheatre Pkwy',\n",
       "     'types': ['route']},\n",
       "    {'long_name': 'Mountain View',\n",
       "     'short_name': 'Mountain View',\n",
       "     'types': ['locality', 'political']},\n",
       "    {'long_name': 'Santa Clara County',\n",
       "     'short_name': 'Santa Clara County',\n",
       "     'types': ['administrative_area_level_2', 'political']},\n",
       "    {'long_name': 'California',\n",
       "     'short_name': 'CA',\n",
       "     'types': ['administrative_area_level_1', 'political']},\n",
       "    {'long_name': 'United States',\n",
       "     'short_name': 'US',\n",
       "     'types': ['country', 'political']},\n",
       "    {'long_name': '94043', 'short_name': '94043', 'types': ['postal_code']}],\n",
       "   'formatted_address': '1600 Amphitheatre Pkwy, Mountain View, CA 94043, USA',\n",
       "   'geometry': {'location': {'lat': 37.4219999, 'lng': -122.0840575},\n",
       "    'location_type': 'APPROXIMATE',\n",
       "    'viewport': {'northeast': {'lat': 37.4233488802915,\n",
       "      'lng': -122.0827085197085},\n",
       "     'southwest': {'lat': 37.4206509197085, 'lng': -122.0854064802915}}},\n",
       "   'place_id': 'ChIJj61dQgK6j4AR4GeTYWZsKWw',\n",
       "   'types': ['establishment', 'point_of_interest']}],\n",
       " 'status': 'OK'}"
      ]
     },
     "execution_count": 48,
     "metadata": {},
     "output_type": "execute_result"
    }
   ],
   "source": [
    "import requests\n",
    "r = requests.get(\"http://maps.googleapis.com/maps/api/geocode/json?address=google\")\n",
    "r.json()"
   ]
  },
  {
   "cell_type": "code",
   "execution_count": 57,
   "metadata": {
    "collapsed": false
   },
   "outputs": [
    {
     "ename": "ModuleNotFoundError",
     "evalue": "No module named 'apiclient'",
     "output_type": "error",
     "traceback": [
      "\u001b[0;31m---------------------------------------------------------------------------\u001b[0m",
      "\u001b[0;31mModuleNotFoundError\u001b[0m                       Traceback (most recent call last)",
      "\u001b[0;32m<ipython-input-57-77984bc39d59>\u001b[0m in \u001b[0;36m<module>\u001b[0;34m()\u001b[0m\n\u001b[1;32m      5\u001b[0m \u001b[1;32mimport\u001b[0m \u001b[0margparse\u001b[0m\u001b[1;33m\u001b[0m\u001b[0m\n\u001b[1;32m      6\u001b[0m \u001b[1;33m\u001b[0m\u001b[0m\n\u001b[0;32m----> 7\u001b[0;31m \u001b[1;32mfrom\u001b[0m \u001b[0mapiclient\u001b[0m\u001b[1;33m.\u001b[0m\u001b[0mdiscovery\u001b[0m \u001b[1;32mimport\u001b[0m \u001b[0mbuild\u001b[0m\u001b[1;33m\u001b[0m\u001b[0m\n\u001b[0m\u001b[1;32m      8\u001b[0m \u001b[1;32mimport\u001b[0m \u001b[0mhttplib2\u001b[0m\u001b[1;33m\u001b[0m\u001b[0m\n\u001b[1;32m      9\u001b[0m \u001b[1;32mfrom\u001b[0m \u001b[0moauth2client\u001b[0m \u001b[1;32mimport\u001b[0m \u001b[0mclient\u001b[0m\u001b[1;33m\u001b[0m\u001b[0m\n",
      "\u001b[0;31mModuleNotFoundError\u001b[0m: No module named 'apiclient'"
     ]
    }
   ],
   "source": [
    "\n",
    "\n",
    "\"\"\"Простой пример получения доступа к Google Analytics API.\"\"\"\n",
    "\n",
    "import argparse\n",
    "\n",
    "from apiclient.discovery import build\n",
    "import httplib2\n",
    "from oauth2client import client\n",
    "from oauth2client import file\n",
    "from oauth2client import tools\n",
    "\n",
    "\n",
    "def get_service(api_name, api_version, scope, client_secrets_path):\n",
    "  \"\"\"Получение службы, связывающейся с Google API.\n",
    "\n",
    "  Аргументы:\n",
    "    api_name: имя API (строка);\n",
    "    api_version: версия API (строка);\n",
    "    scope: области действия метода AUTH для авторизации соединения (cписок строк);\n",
    "    client_secrets_path: путь к действительному файлу секретного кода клиента (строка).\n",
    "\n",
    "  Возвращает\n",
    "    службу, которая подключается к указанному API.\n",
    "  \"\"\"\n",
    "  # Анализ аргументов командной строки.\n",
    "  parser = argparse.ArgumentParser(\n",
    "      formatter_class=argparse.RawDescriptionHelpFormatter,\n",
    "      parents=[tools.argparser])\n",
    "  flags = parser.parse_args([])\n",
    "\n",
    "  # Настройка объекта Flow, который будет использоваться при необходимости аутентификации.\n",
    "  flow = client.flow_from_clientsecrets(\n",
    "      client_secrets_path, scope=scope,\n",
    "      message=tools.message_if_missing(client_secrets_path))\n",
    "\n",
    "  # Подготовьте учетные данные и авторизуйте с их помощью объекта HTTP.\n",
    "  # Если учетные данные недействительны или не существуют, воспользуйтесь оригинальной\n",
    "  # процедурой клиента. Применение объекта Storage гарантирует, что в случае успеха правильные\n",
    "  # учетные данные будут записаны обратно в файл.\n",
    "  storage = file.Storage(api_name + '.dat')\n",
    "  credentials = storage.get()\n",
    "  if credentials is None or credentials.invalid:\n",
    "    credentials = tools.run_flow(flow, storage, flags)\n",
    "  http = credentials.authorize(http=httplib2.Http())\n",
    "\n",
    "  # Создание объекта службы.\n",
    "  service = build(api_name, api_version, http=http)\n",
    "\n",
    "  return service\n",
    "\n",
    "\n",
    "def get_first_profile_id(service):\n",
    "  # Используйте объект службы Analytics, чтобы получить первый идентификатор профиля.\n",
    "\n",
    "  # Получение списка всех аккаунтов Google Analytics авторизованного пользователя.\n",
    "  accounts = service.management().accounts().list().execute()\n",
    "\n",
    "  if accounts.get('items'):\n",
    "    # Получение первого аккаунта Google Analytics.\n",
    "    account = accounts.get('items')[0].get('id')\n",
    "\n",
    "    # Получение списка всех ресурсов первого аккаунта.\n",
    "    properties = service.management().webproperties().list(\n",
    "        accountId=account).execute()\n",
    "\n",
    "    if properties.get('items'):\n",
    "      # Получение идентификатора первого ресурса.\n",
    "      property = properties.get('items')[0].get('id')\n",
    "\n",
    "      # Получение списка всех представлений (профилей) первого ресурса.\n",
    "      profiles = service.management().profiles().list(\n",
    "          accountId=account,\n",
    "          webPropertyId=property).execute()\n",
    "\n",
    "      if profiles.get('items'):\n",
    "        # Возвращает идентификатор первого представления (профиля).\n",
    "        return profiles.get('items')[0].get('id')\n",
    "\n",
    "  return None\n",
    "\n",
    "\n",
    "def get_results(service, profile_id):\n",
    "  # Используйте объект службы Analytics для запроса к Core Reporting API\n",
    "  # о количестве сессий за последние семь дней.\n",
    "  return service.data().ga().get(\n",
    "      ids='ga:' + profile_id,\n",
    "      start_date='7daysAgo',\n",
    "      end_date='today',\n",
    "      metrics='ga:sessions').execute()\n",
    "\n",
    "\n",
    "def print_results(results):\n",
    "  # Вывод данных в удобном для пользователя формате.\n",
    "  if results:\n",
    "    print ('View (Profile): %s ' % results.get('profileInfo').get('profileName'))\n",
    "    print ('Total Sessions: %s ' % results.get('rows')[0][0])\n",
    "\n",
    "  else:\n",
    "    print ('No results found')\n",
    "\n",
    "\n",
    "def main():\n",
    "  # Определение области доступа для запроса.\n",
    "  scope = ['https://www.googleapis.com/auth/analytics.readonly']\n",
    "\n",
    "  # Аутентификация и создание службы.\n",
    "  service = get_service('analytics', 'v3', scope, 'client_secrets.json')\n",
    "  profile = get_first_profile_id(service)\n",
    "  print_results(get_results(service, profile))\n",
    "\n",
    "\n",
    "if __name__ == '__main__':\n",
    "  main()"
   ]
  },
  {
   "cell_type": "code",
   "execution_count": 49,
   "metadata": {
    "collapsed": false
   },
   "outputs": [
    {
     "data": {
      "text/plain": [
       "{'error': {'code': 401,\n",
       "  'errors': [{'domain': 'global',\n",
       "    'location': 'Authorization',\n",
       "    'locationType': 'header',\n",
       "    'message': 'Login Required',\n",
       "    'reason': 'required'}],\n",
       "  'message': 'Login Required'}}"
      ]
     },
     "execution_count": 49,
     "metadata": {},
     "output_type": "execute_result"
    }
   ],
   "source": [
    "import requests\n",
    "r = requests.get(\"https://www.googleapis.com/analytics/v3/data/ga?ids=ga%3A93735856&start-date=2017-04-04&end-date=2017-04-20&metrics=ga%3Asessions&dimensions=ga%3Adate&key=ya29.GlxGBHSQD_DS00-nP_cAvzYX5zEnAeDXPxhxBTnKQ8y7Z90KfGQ_CAlUPgqaIzbYHFUo_s3sYdMc8GqBVpHZty-0wvFksuGiQIH-euPn7usGr-iWLOi4LMFTg6-7Cg\")\n",
    "r.status_code\n",
    "r.headers['content-type']\n",
    "r.encoding\n",
    "r.text\n",
    "r.json()"
   ]
  },
  {
   "cell_type": "code",
   "execution_count": null,
   "metadata": {
    "collapsed": true
   },
   "outputs": [],
   "source": []
  },
  {
   "cell_type": "code",
   "execution_count": null,
   "metadata": {
    "collapsed": true
   },
   "outputs": [],
   "source": []
  }
 ],
 "metadata": {
  "kernelspec": {
   "display_name": "Python 3",
   "language": "python",
   "name": "python3"
  },
  "language_info": {
   "codemirror_mode": {
    "name": "ipython",
    "version": 3
   },
   "file_extension": ".py",
   "mimetype": "text/x-python",
   "name": "python",
   "nbconvert_exporter": "python",
   "pygments_lexer": "ipython3",
   "version": "3.6.0"
  }
 },
 "nbformat": 4,
 "nbformat_minor": 2
}
