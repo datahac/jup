{
 "cells": [
  {
   "cell_type": "code",
   "execution_count": 3,
   "metadata": {
    "collapsed": false
   },
   "outputs": [
    {
     "name": "stdout",
     "output_type": "stream",
     "text": [
      "{'kind': 'analytics#goals', 'username': 'skein@skeingroup.com', 'totalResults': 3, 'startIndex': 1, 'itemsPerPage': 1000, 'items': [{'id': '1', 'kind': 'analytics#goal', 'selfLink': 'https://www.googleapis.com/analytics/v3/management/accounts/78795478/webproperties/UA-78795478-1/profiles/123303369/goals/1', 'accountId': '78795478', 'webPropertyId': 'UA-78795478-1', 'internalWebPropertyId': '117885953', 'profileId': '123303369', 'name': 'Contact form submission', 'value': 0.0, 'active': True, 'type': 'EVENT', 'created': '2017-01-26T16:41:38.797Z', 'updated': '2017-01-29T19:24:58.853Z', 'parentLink': {'type': 'analytics#profile', 'href': 'https://www.googleapis.com/analytics/v3/management/accounts/78795478/webproperties/UA-78795478-1/profiles/123303369'}, 'eventDetails': {'useEventValue': True, 'eventConditions': [{'type': 'CATEGORY', 'matchType': 'EXACT', 'expression': 'Event'}, {'type': 'ACTION', 'matchType': 'EXACT', 'expression': 'Form'}, {'type': 'LABEL', 'matchType': 'EXACT', 'expression': 'Submitted'}]}}, {'id': '2', 'kind': 'analytics#goal', 'selfLink': 'https://www.googleapis.com/analytics/v3/management/accounts/78795478/webproperties/UA-78795478-1/profiles/123303369/goals/2', 'accountId': '78795478', 'webPropertyId': 'UA-78795478-1', 'internalWebPropertyId': '117885953', 'profileId': '123303369', 'name': 'Stay informed submission', 'value': 0.0, 'active': True, 'type': 'EVENT', 'created': '2017-01-26T16:42:15.852Z', 'updated': '2017-01-26T16:42:15.852Z', 'parentLink': {'type': 'analytics#profile', 'href': 'https://www.googleapis.com/analytics/v3/management/accounts/78795478/webproperties/UA-78795478-1/profiles/123303369'}, 'eventDetails': {'useEventValue': True, 'eventConditions': [{'type': 'CATEGORY', 'matchType': 'EXACT', 'expression': 'Form'}, {'type': 'ACTION', 'matchType': 'EXACT', 'expression': 'Submitted'}, {'type': 'LABEL', 'matchType': 'EXACT', 'expression': 'Stay Informed Form'}]}}, {'id': '3', 'kind': 'analytics#goal', 'selfLink': 'https://www.googleapis.com/analytics/v3/management/accounts/78795478/webproperties/UA-78795478-1/profiles/123303369/goals/3', 'accountId': '78795478', 'webPropertyId': 'UA-78795478-1', 'internalWebPropertyId': '117885953', 'profileId': '123303369', 'name': 'Telephone click', 'value': 0.0, 'active': True, 'type': 'EVENT', 'created': '2017-01-26T16:42:51.939Z', 'updated': '2017-01-29T19:29:12.187Z', 'parentLink': {'type': 'analytics#profile', 'href': 'https://www.googleapis.com/analytics/v3/management/accounts/78795478/webproperties/UA-78795478-1/profiles/123303369'}, 'eventDetails': {'useEventValue': True, 'eventConditions': [{'type': 'CATEGORY', 'matchType': 'EXACT', 'expression': 'Link'}, {'type': 'ACTION', 'matchType': 'EXACT', 'expression': 'Click'}, {'type': 'LABEL', 'matchType': 'EXACT', 'expression': 'Clicked'}]}}]}\n"
     ]
    }
   ],
   "source": [
    "import json\n",
    "\n",
    "#загрузить из json\n",
    "with open('data/TMRW_goals_checking.json') as file: #открываем файл на чтение\n",
    "    input0 = json.load(file) #загружаем из файла данные в словарь data\n",
    "print(input0)"
   ]
  },
  {
   "cell_type": "code",
   "execution_count": 6,
   "metadata": {
    "collapsed": true
   },
   "outputs": [],
   "source": [
    "%matplotlib inline \n",
    "\n",
    "import numpy as np\n",
    "import scipy as sp\n",
    "import matplotlib as mpl\n",
    "import matplotlib.cm as cm\n",
    "import matplotlib.pyplot as plt\n",
    "import pandas as pd\n",
    "\n",
    "pd.set_option('display.width', 500)\n",
    "pd.set_option('display.max_columns', 100)\n",
    "pd.set_option('display.notebook_repr_html', True)\n",
    "import seaborn as sns #sets up styles and gives us more plotting options\n"
   ]
  },
  {
   "cell_type": "code",
   "execution_count": 7,
   "metadata": {
    "collapsed": false
   },
   "outputs": [
    {
     "data": {
      "text/html": [
       "<div>\n",
       "<table border=\"1\" class=\"dataframe\">\n",
       "  <thead>\n",
       "    <tr style=\"text-align: right;\">\n",
       "      <th></th>\n",
       "      <th>items</th>\n",
       "      <th>itemsPerPage</th>\n",
       "      <th>kind</th>\n",
       "      <th>startIndex</th>\n",
       "      <th>totalResults</th>\n",
       "      <th>username</th>\n",
       "    </tr>\n",
       "  </thead>\n",
       "  <tbody>\n",
       "    <tr>\n",
       "      <th>0</th>\n",
       "      <td>{'id': '1', 'kind': 'analytics#goal', 'selfLin...</td>\n",
       "      <td>1000</td>\n",
       "      <td>analytics#goals</td>\n",
       "      <td>1</td>\n",
       "      <td>3</td>\n",
       "      <td>skein@skeingroup.com</td>\n",
       "    </tr>\n",
       "    <tr>\n",
       "      <th>1</th>\n",
       "      <td>{'id': '2', 'kind': 'analytics#goal', 'selfLin...</td>\n",
       "      <td>1000</td>\n",
       "      <td>analytics#goals</td>\n",
       "      <td>1</td>\n",
       "      <td>3</td>\n",
       "      <td>skein@skeingroup.com</td>\n",
       "    </tr>\n",
       "    <tr>\n",
       "      <th>2</th>\n",
       "      <td>{'id': '3', 'kind': 'analytics#goal', 'selfLin...</td>\n",
       "      <td>1000</td>\n",
       "      <td>analytics#goals</td>\n",
       "      <td>1</td>\n",
       "      <td>3</td>\n",
       "      <td>skein@skeingroup.com</td>\n",
       "    </tr>\n",
       "  </tbody>\n",
       "</table>\n",
       "</div>"
      ],
      "text/plain": [
       "                                               items  itemsPerPage             kind  startIndex  totalResults              username\n",
       "0  {'id': '1', 'kind': 'analytics#goal', 'selfLin...          1000  analytics#goals           1             3  skein@skeingroup.com\n",
       "1  {'id': '2', 'kind': 'analytics#goal', 'selfLin...          1000  analytics#goals           1             3  skein@skeingroup.com\n",
       "2  {'id': '3', 'kind': 'analytics#goal', 'selfLin...          1000  analytics#goals           1             3  skein@skeingroup.com"
      ]
     },
     "execution_count": 7,
     "metadata": {},
     "output_type": "execute_result"
    }
   ],
   "source": [
    "import pandas\n",
    "\n",
    "init=pandas.read_json('data/TMRW_goals_checking.json')\n",
    "init"
   ]
  },
  {
   "cell_type": "code",
   "execution_count": 19,
   "metadata": {
    "collapsed": false
   },
   "outputs": [
    {
     "data": {
      "text/plain": [
       "0    {'id': '1', 'kind': 'analytics#goal', 'selfLin...\n",
       "1    {'id': '2', 'kind': 'analytics#goal', 'selfLin...\n",
       "2    {'id': '3', 'kind': 'analytics#goal', 'selfLin...\n",
       "Name: items, dtype: object"
      ]
     },
     "execution_count": 19,
     "metadata": {},
     "output_type": "execute_result"
    }
   ],
   "source": [
    "a = init['items']\n",
    "a"
   ]
  },
  {
   "cell_type": "code",
   "execution_count": 8,
   "metadata": {
    "collapsed": false
   },
   "outputs": [
    {
     "name": "stdout",
     "output_type": "stream",
     "text": [
      "3\n"
     ]
    }
   ],
   "source": [
    "#count goals\n",
    "\n",
    "df=pd.DataFrame(init)\n",
    "total_goals=len(df.axes[0])\n",
    "print(total_goals)"
   ]
  },
  {
   "cell_type": "code",
   "execution_count": 16,
   "metadata": {
    "collapsed": false
   },
   "outputs": [
    {
     "data": {
      "text/plain": [
       "[{'accountId': '78795478',\n",
       "  'active': True,\n",
       "  'created': '2017-01-26T16:41:38.797Z',\n",
       "  'eventDetails': {'eventConditions': [{'expression': 'Event',\n",
       "     'matchType': 'EXACT',\n",
       "     'type': 'CATEGORY'},\n",
       "    {'expression': 'Form', 'matchType': 'EXACT', 'type': 'ACTION'},\n",
       "    {'expression': 'Submitted', 'matchType': 'EXACT', 'type': 'LABEL'}],\n",
       "   'useEventValue': True},\n",
       "  'id': '1',\n",
       "  'internalWebPropertyId': '117885953',\n",
       "  'kind': 'analytics#goal',\n",
       "  'name': 'Contact form submission',\n",
       "  'parentLink': {'href': 'https://www.googleapis.com/analytics/v3/management/accounts/78795478/webproperties/UA-78795478-1/profiles/123303369',\n",
       "   'type': 'analytics#profile'},\n",
       "  'profileId': '123303369',\n",
       "  'selfLink': 'https://www.googleapis.com/analytics/v3/management/accounts/78795478/webproperties/UA-78795478-1/profiles/123303369/goals/1',\n",
       "  'type': 'EVENT',\n",
       "  'updated': '2017-01-29T19:24:58.853Z',\n",
       "  'value': 0.0,\n",
       "  'webPropertyId': 'UA-78795478-1'},\n",
       " {'accountId': '78795478',\n",
       "  'active': True,\n",
       "  'created': '2017-01-26T16:42:15.852Z',\n",
       "  'eventDetails': {'eventConditions': [{'expression': 'Form',\n",
       "     'matchType': 'EXACT',\n",
       "     'type': 'CATEGORY'},\n",
       "    {'expression': 'Submitted', 'matchType': 'EXACT', 'type': 'ACTION'},\n",
       "    {'expression': 'Stay Informed Form',\n",
       "     'matchType': 'EXACT',\n",
       "     'type': 'LABEL'}],\n",
       "   'useEventValue': True},\n",
       "  'id': '2',\n",
       "  'internalWebPropertyId': '117885953',\n",
       "  'kind': 'analytics#goal',\n",
       "  'name': 'Stay informed submission',\n",
       "  'parentLink': {'href': 'https://www.googleapis.com/analytics/v3/management/accounts/78795478/webproperties/UA-78795478-1/profiles/123303369',\n",
       "   'type': 'analytics#profile'},\n",
       "  'profileId': '123303369',\n",
       "  'selfLink': 'https://www.googleapis.com/analytics/v3/management/accounts/78795478/webproperties/UA-78795478-1/profiles/123303369/goals/2',\n",
       "  'type': 'EVENT',\n",
       "  'updated': '2017-01-26T16:42:15.852Z',\n",
       "  'value': 0.0,\n",
       "  'webPropertyId': 'UA-78795478-1'},\n",
       " {'accountId': '78795478',\n",
       "  'active': True,\n",
       "  'created': '2017-01-26T16:42:51.939Z',\n",
       "  'eventDetails': {'eventConditions': [{'expression': 'Link',\n",
       "     'matchType': 'EXACT',\n",
       "     'type': 'CATEGORY'},\n",
       "    {'expression': 'Click', 'matchType': 'EXACT', 'type': 'ACTION'},\n",
       "    {'expression': 'Clicked', 'matchType': 'EXACT', 'type': 'LABEL'}],\n",
       "   'useEventValue': True},\n",
       "  'id': '3',\n",
       "  'internalWebPropertyId': '117885953',\n",
       "  'kind': 'analytics#goal',\n",
       "  'name': 'Telephone click',\n",
       "  'parentLink': {'href': 'https://www.googleapis.com/analytics/v3/management/accounts/78795478/webproperties/UA-78795478-1/profiles/123303369',\n",
       "   'type': 'analytics#profile'},\n",
       "  'profileId': '123303369',\n",
       "  'selfLink': 'https://www.googleapis.com/analytics/v3/management/accounts/78795478/webproperties/UA-78795478-1/profiles/123303369/goals/3',\n",
       "  'type': 'EVENT',\n",
       "  'updated': '2017-01-29T19:29:12.187Z',\n",
       "  'value': 0.0,\n",
       "  'webPropertyId': 'UA-78795478-1'}]"
      ]
     },
     "execution_count": 16,
     "metadata": {},
     "output_type": "execute_result"
    }
   ],
   "source": [
    "matching = [s for s in a if 'name' in s]\n",
    "matching"
   ]
  },
  {
   "cell_type": "code",
   "execution_count": null,
   "metadata": {
    "collapsed": true
   },
   "outputs": [],
   "source": [
    "id , name, type ??"
   ]
  },
  {
   "cell_type": "code",
   "execution_count": 24,
   "metadata": {
    "collapsed": false,
    "scrolled": true
   },
   "outputs": [
    {
     "ename": "NameError",
     "evalue": "name 'xmlrpclib' is not defined",
     "output_type": "error",
     "traceback": [
      "\u001b[0;31m---------------------------------------------------------------------------\u001b[0m",
      "\u001b[0;31mNameError\u001b[0m                                 Traceback (most recent call last)",
      "\u001b[0;32m<ipython-input-24-10b7feaf30a1>\u001b[0m in \u001b[0;36m<module>\u001b[0;34m()\u001b[0m\n\u001b[1;32m     16\u001b[0m             if node.firstChild.nodeValue in key]\n\u001b[1;32m     17\u001b[0m \u001b[1;33m\u001b[0m\u001b[0m\n\u001b[0;32m---> 18\u001b[0;31m \u001b[0mbar\u001b[0m\u001b[1;33m(\u001b[0m \u001b[0minit\u001b[0m\u001b[1;33m,\u001b[0m \u001b[1;34m'id'\u001b[0m\u001b[1;33m)\u001b[0m\u001b[1;33m\u001b[0m\u001b[0m\n\u001b[0m\u001b[1;32m     19\u001b[0m \u001b[1;33m\u001b[0m\u001b[0m\n\u001b[1;32m     20\u001b[0m \u001b[1;33m\u001b[0m\u001b[0m\n",
      "\u001b[0;32m<ipython-input-24-10b7feaf30a1>\u001b[0m in \u001b[0;36mbar\u001b[0;34m(init, key)\u001b[0m\n\u001b[1;32m     10\u001b[0m                 else None)\n\u001b[1;32m     11\u001b[0m     \u001b[1;31m# parse the JSON as XML\u001b[0m\u001b[1;33m\u001b[0m\u001b[1;33m\u001b[0m\u001b[0m\n\u001b[0;32m---> 12\u001b[0;31m     \u001b[0mfoo_dom\u001b[0m \u001b[1;33m=\u001b[0m \u001b[0mparseString\u001b[0m\u001b[1;33m(\u001b[0m\u001b[0mxmlrpclib\u001b[0m\u001b[1;33m.\u001b[0m\u001b[0mdumps\u001b[0m\u001b[1;33m(\u001b[0m\u001b[1;33m(\u001b[0m\u001b[0mjson\u001b[0m\u001b[1;33m.\u001b[0m\u001b[0mloads\u001b[0m\u001b[1;33m(\u001b[0m\u001b[0minit\u001b[0m\u001b[1;33m)\u001b[0m\u001b[1;33m,\u001b[0m\u001b[1;33m)\u001b[0m\u001b[1;33m)\u001b[0m\u001b[1;33m)\u001b[0m\u001b[1;33m\u001b[0m\u001b[0m\n\u001b[0m\u001b[1;32m     13\u001b[0m     \u001b[1;31m# and then search all the name tags which are P1's\u001b[0m\u001b[1;33m\u001b[0m\u001b[1;33m\u001b[0m\u001b[0m\n\u001b[1;32m     14\u001b[0m     \u001b[1;31m# and use the val user function to get the value\u001b[0m\u001b[1;33m\u001b[0m\u001b[1;33m\u001b[0m\u001b[0m\n",
      "\u001b[0;31mNameError\u001b[0m: name 'xmlrpclib' is not defined"
     ]
    }
   ],
   "source": [
    "from xml.dom.minidom import parseString\n",
    "import json        \n",
    "def bar(init, key):\n",
    "    def val(node):\n",
    "        # Searches for the next Element Node containing Value\n",
    "        e = node.nextSibling\n",
    "        while e and e.nodeType != e.ELEMENT_NODE:\n",
    "            e = e.nextSibling\n",
    "        return (e.getElementsByTagName('string')[0].firstChild.nodeValue if e \n",
    "                else None)\n",
    "    # parse the JSON as XML\n",
    "    foo_dom = parseString(xmlrpclib.dumps((json.loads(init),)))\n",
    "    # and then search all the name tags which are P1's\n",
    "    # and use the val user function to get the value\n",
    "    return [val(node) for node in foo_dom.getElementsByTagName('id') \n",
    "            if node.firstChild.nodeValue in key]\n",
    "\n",
    "bar( init, 'id')\n",
    "\n",
    "\n"
   ]
  },
  {
   "cell_type": "code",
   "execution_count": null,
   "metadata": {
    "collapsed": true
   },
   "outputs": [],
   "source": []
  },
  {
   "cell_type": "code",
   "execution_count": null,
   "metadata": {
    "collapsed": true
   },
   "outputs": [],
   "source": []
  },
  {
   "cell_type": "code",
   "execution_count": null,
   "metadata": {
    "collapsed": true
   },
   "outputs": [],
   "source": []
  },
  {
   "cell_type": "code",
   "execution_count": null,
   "metadata": {
    "collapsed": true
   },
   "outputs": [],
   "source": []
  }
 ],
 "metadata": {
  "kernelspec": {
   "display_name": "Python 3",
   "language": "python",
   "name": "python3"
  },
  "language_info": {
   "codemirror_mode": {
    "name": "ipython",
    "version": 3
   },
   "file_extension": ".py",
   "mimetype": "text/x-python",
   "name": "python",
   "nbconvert_exporter": "python",
   "pygments_lexer": "ipython3",
   "version": "3.6.0"
  }
 },
 "nbformat": 4,
 "nbformat_minor": 2
}
