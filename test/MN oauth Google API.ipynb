{
 "cells": [
  {
   "cell_type": "markdown",
   "metadata": {},
   "source": [
    "# OAUTH 2 \n",
    "https://developers.google.com/adwords/api/docs/guides/authentication"
   ]
  },
  {
   "cell_type": "code",
   "execution_count": 21,
   "metadata": {
    "collapsed": false
   },
   "outputs": [
    {
     "ename": "OSError",
     "evalue": "[Errno 22] Invalid argument: '<Replace with /path/to/generated/client_secrets.p12>'",
     "output_type": "error",
     "traceback": [
      "\u001b[0;31m---------------------------------------------------------------------------\u001b[0m",
      "\u001b[0;31mOSError\u001b[0m                                   Traceback (most recent call last)",
      "\u001b[0;32m<ipython-input-21-31edc39d3692>\u001b[0m in \u001b[0;36m<module>\u001b[0;34m()\u001b[0m\n\u001b[1;32m    101\u001b[0m \u001b[1;33m\u001b[0m\u001b[0m\n\u001b[1;32m    102\u001b[0m \u001b[1;32mif\u001b[0m \u001b[0m__name__\u001b[0m \u001b[1;33m==\u001b[0m \u001b[1;34m'__main__'\u001b[0m\u001b[1;33m:\u001b[0m\u001b[1;33m\u001b[0m\u001b[0m\n\u001b[0;32m--> 103\u001b[0;31m     \u001b[0mmain\u001b[0m\u001b[1;33m(\u001b[0m\u001b[1;33m)\u001b[0m\u001b[1;33m\u001b[0m\u001b[0m\n\u001b[0m",
      "\u001b[0;32m<ipython-input-21-31edc39d3692>\u001b[0m in \u001b[0;36mmain\u001b[0;34m()\u001b[0m\n\u001b[1;32m     96\u001b[0m \u001b[1;33m\u001b[0m\u001b[0m\n\u001b[1;32m     97\u001b[0m     \u001b[1;31m# Authenticate and construct service.\u001b[0m\u001b[1;33m\u001b[0m\u001b[1;33m\u001b[0m\u001b[0m\n\u001b[0;32m---> 98\u001b[0;31m     \u001b[0mservice\u001b[0m \u001b[1;33m=\u001b[0m \u001b[0mget_service\u001b[0m\u001b[1;33m(\u001b[0m\u001b[1;34m'analytics'\u001b[0m\u001b[1;33m,\u001b[0m \u001b[1;34m'v3'\u001b[0m\u001b[1;33m,\u001b[0m \u001b[0mscope\u001b[0m\u001b[1;33m,\u001b[0m \u001b[0mkey_file_location\u001b[0m\u001b[1;33m,\u001b[0m \u001b[0mservice_account_email\u001b[0m\u001b[1;33m)\u001b[0m\u001b[1;33m\u001b[0m\u001b[0m\n\u001b[0m\u001b[1;32m     99\u001b[0m     \u001b[0mprofile\u001b[0m \u001b[1;33m=\u001b[0m \u001b[0mget_first_profile_id\u001b[0m\u001b[1;33m(\u001b[0m\u001b[0mservice\u001b[0m\u001b[1;33m)\u001b[0m\u001b[1;33m\u001b[0m\u001b[0m\n\u001b[1;32m    100\u001b[0m     \u001b[0mprint_results\u001b[0m\u001b[1;33m(\u001b[0m\u001b[0mget_results\u001b[0m\u001b[1;33m(\u001b[0m\u001b[0mservice\u001b[0m\u001b[1;33m,\u001b[0m \u001b[0mprofile\u001b[0m\u001b[1;33m)\u001b[0m\u001b[1;33m)\u001b[0m\u001b[1;33m\u001b[0m\u001b[0m\n",
      "\u001b[0;32m<ipython-input-21-31edc39d3692>\u001b[0m in \u001b[0;36mget_service\u001b[0;34m(api_name, api_version, scope, key_file_location, service_account_email)\u001b[0m\n\u001b[1;32m     30\u001b[0m     \"\"\"\n\u001b[1;32m     31\u001b[0m \u001b[1;33m\u001b[0m\u001b[0m\n\u001b[0;32m---> 32\u001b[0;31m     \u001b[0mcredentials\u001b[0m \u001b[1;33m=\u001b[0m \u001b[0mServiceAccountCredentials\u001b[0m\u001b[1;33m.\u001b[0m\u001b[0mfrom_p12_keyfile\u001b[0m\u001b[1;33m(\u001b[0m\u001b[0mservice_account_email\u001b[0m\u001b[1;33m,\u001b[0m \u001b[0mkey_file_location\u001b[0m\u001b[1;33m,\u001b[0m \u001b[0mscopes\u001b[0m\u001b[1;33m=\u001b[0m\u001b[0mscope\u001b[0m\u001b[1;33m)\u001b[0m\u001b[1;33m\u001b[0m\u001b[0m\n\u001b[0m\u001b[1;32m     33\u001b[0m \u001b[1;33m\u001b[0m\u001b[0m\n\u001b[1;32m     34\u001b[0m     \u001b[0mhttp\u001b[0m \u001b[1;33m=\u001b[0m \u001b[0mcredentials\u001b[0m\u001b[1;33m.\u001b[0m\u001b[0mauthorize\u001b[0m\u001b[1;33m(\u001b[0m\u001b[0mhttplib2\u001b[0m\u001b[1;33m.\u001b[0m\u001b[0mHttp\u001b[0m\u001b[1;33m(\u001b[0m\u001b[1;33m)\u001b[0m\u001b[1;33m)\u001b[0m\u001b[1;33m\u001b[0m\u001b[0m\n",
      "\u001b[0;32mC:\\Users\\Analytics\\Anaconda3\\lib\\site-packages\\oauth2client\\service_account.py\u001b[0m in \u001b[0;36mfrom_p12_keyfile\u001b[0;34m(cls, service_account_email, filename, private_key_password, scopes, token_uri, revoke_uri)\u001b[0m\n\u001b[1;32m    327\u001b[0m             \u001b[0mactive\u001b[0m \u001b[0mcrypto\u001b[0m \u001b[0mlibrary\u001b[0m\u001b[1;33m.\u001b[0m\u001b[1;33m\u001b[0m\u001b[0m\n\u001b[1;32m    328\u001b[0m         \"\"\"\n\u001b[0;32m--> 329\u001b[0;31m         \u001b[1;32mwith\u001b[0m \u001b[0mopen\u001b[0m\u001b[1;33m(\u001b[0m\u001b[0mfilename\u001b[0m\u001b[1;33m,\u001b[0m \u001b[1;34m'rb'\u001b[0m\u001b[1;33m)\u001b[0m \u001b[1;32mas\u001b[0m \u001b[0mfile_obj\u001b[0m\u001b[1;33m:\u001b[0m\u001b[1;33m\u001b[0m\u001b[0m\n\u001b[0m\u001b[1;32m    330\u001b[0m             \u001b[0mprivate_key_pkcs12\u001b[0m \u001b[1;33m=\u001b[0m \u001b[0mfile_obj\u001b[0m\u001b[1;33m.\u001b[0m\u001b[0mread\u001b[0m\u001b[1;33m(\u001b[0m\u001b[1;33m)\u001b[0m\u001b[1;33m\u001b[0m\u001b[0m\n\u001b[1;32m    331\u001b[0m         return cls._from_p12_keyfile_contents(\n",
      "\u001b[0;31mOSError\u001b[0m: [Errno 22] Invalid argument: '<Replace with /path/to/generated/client_secrets.p12>'"
     ]
    }
   ],
   "source": [
    "import argparse\n",
    "\n",
    "from apiclient.discovery import build\n",
    "from oauth2client.service_account import ServiceAccountCredentials\n",
    "\n",
    "import httplib2\n",
    "from oauth2client import client\n",
    "from oauth2client import file\n",
    "from oauth2client import tools\n",
    "\n",
    "service_account_email = \"mn-557@mn-test-167313.iam.gserviceaccount.com\"\n",
    "key_file_location = \"data/MN_test_key.p12\"\n",
    "scope = \"https://www.googleapis.com/auth/analytics\"\n",
    "api_name = \"Core Reporting API\"\n",
    "api_version = \"3.0\"\n",
    "\n",
    "def get_service(api_name, api_version, scope, key_file_location, service_account_email):\n",
    "    \n",
    "    \"\"\"Get a service that communicates to a Google API.\n",
    "\n",
    "  Args:\n",
    "    api_name: The name of the api to connect to.\n",
    "    api_version: The api version to connect to.\n",
    "    scope: A list auth scopes to authorize for the application.\n",
    "    key_file_location: The path to a valid service account p12 key file.\n",
    "    service_account_email: The service account email address.\n",
    "\n",
    "    Returns:\n",
    "    A service that is connected to the specified API.\n",
    "    \"\"\"\n",
    "\n",
    "    credentials = ServiceAccountCredentials.from_p12_keyfile(service_account_email, key_file_location, scopes=scope)\n",
    "\n",
    "    http = credentials.authorize(httplib2.Http())\n",
    "\n",
    "    # Build the service object.\n",
    "    service = build(api_name, api_version, http=http)\n",
    "\n",
    "    return service\n",
    "\n",
    "def get_first_profile_id(service):\n",
    "# Use the Analytics service object to get the first profile id.\n",
    "\n",
    "  # Get a list of all Google Analytics accounts for this user\n",
    "    accounts = service.management().accounts().list().execute()\n",
    "\n",
    "    if accounts.get('items'):\n",
    "        # Get the first Google Analytics account.\n",
    "        account = accounts.get('items')[0].get('id')\n",
    "\n",
    "        # Get a list of all the properties for the first account.\n",
    "        properties = service.management().webproperties().list(\n",
    "        accountId=account).execute()\n",
    "\n",
    "        if properties.get('items'):\n",
    "        # Get the first property id.\n",
    "          property = properties.get('items')[0].get('id')\n",
    "\n",
    "        # Get a list of all views (profiles) for the first property.\n",
    "          profiles = service.management().profiles().list(\n",
    "              accountId=account,\n",
    "              webPropertyId=property).execute()\n",
    "\n",
    "        if profiles.get('items'):\n",
    "            # return the first view (profile) id.\n",
    "            return profiles.get('items')[0].get('id')\n",
    "\n",
    "    return None\n",
    "\n",
    "def get_results(service, profile_id):\n",
    "# Use the Analytics Service Object to query the Core Reporting API\n",
    "  # for the number of sessions within the past seven days.\n",
    "    return service.data().ga().get(\n",
    "      ids='ga:' + profile_id,\n",
    "      start_date='7daysAgo',\n",
    "      end_date='today',\n",
    "      metrics='ga:sessions').execute()\n",
    "\n",
    "def print_results(results):\n",
    "# Print data nicely for the user.\n",
    "    if results:\n",
    "        print ('View (Profile): %s' % results.get('profileInfo').get('profileName'))\n",
    "        print ('Total Sessions: %s' % results.get('rows')[0][0])\n",
    "\n",
    "    else:\n",
    "        print ('No results found')\n",
    "\n",
    "def main():\n",
    "# Define the auth scopes to request.\n",
    "    scope = ['https://www.googleapis.com/auth/analytics.readonly']\n",
    "\n",
    "    # Use the developer console and replace the values with your\n",
    "      # service account email and relative location of your key file.\n",
    "    service_account_email = '<Replace with your service account email address.>'\n",
    "    key_file_location = '<Replace with /path/to/generated/client_secrets.p12>'\n",
    "\n",
    "    # Authenticate and construct service.\n",
    "    service = get_service('analytics', 'v3', scope, key_file_location, service_account_email)\n",
    "    profile = get_first_profile_id(service)\n",
    "    print_results(get_results(service, profile))\n",
    "\n",
    "if __name__ == '__main__':\n",
    "    main()"
   ]
  },
  {
   "cell_type": "code",
   "execution_count": null,
   "metadata": {
    "collapsed": true
   },
   "outputs": [],
   "source": []
  },
  {
   "cell_type": "code",
   "execution_count": null,
   "metadata": {
    "collapsed": true
   },
   "outputs": [],
   "source": []
  },
  {
   "cell_type": "markdown",
   "metadata": {},
   "source": [
    "# REQUEST OATHLIB\n",
    "http://requests-oauthlib.readthedocs.io/en/latest/oauth2_workflow.html#web-application-flow"
   ]
  },
  {
   "cell_type": "code",
   "execution_count": 38,
   "metadata": {
    "collapsed": false
   },
   "outputs": [
    {
     "ename": "ImportError",
     "evalue": "cannot import name 'OAuth2Session'",
     "output_type": "error",
     "traceback": [
      "\u001b[0;31m---------------------------------------------------------------------------\u001b[0m",
      "\u001b[0;31mImportError\u001b[0m                               Traceback (most recent call last)",
      "\u001b[0;32m<ipython-input-38-5802085a0a57>\u001b[0m in \u001b[0;36m<module>\u001b[0;34m()\u001b[0m\n\u001b[0;32m----> 1\u001b[0;31m \u001b[1;32mfrom\u001b[0m \u001b[0moauth2client\u001b[0m\u001b[1;33m.\u001b[0m\u001b[0mclient\u001b[0m \u001b[1;32mimport\u001b[0m \u001b[0mOAuth2Session\u001b[0m\u001b[1;33m\u001b[0m\u001b[0m\n\u001b[0m\u001b[1;32m      2\u001b[0m \u001b[1;33m\u001b[0m\u001b[0m\n\u001b[1;32m      3\u001b[0m \u001b[0mclient_id\u001b[0m \u001b[1;33m=\u001b[0m \u001b[1;34m'301497635683-49vo2tj7g3lj5rra1ureggsu7ok3jqk8.apps.googleusercontent.com'\u001b[0m\u001b[1;33m\u001b[0m\u001b[0m\n\u001b[1;32m      4\u001b[0m \u001b[0mclient_secret\u001b[0m \u001b[1;33m=\u001b[0m \u001b[1;34m'aPCX8YD0oYxpwYSiAeJ6qbTp'\u001b[0m\u001b[1;33m\u001b[0m\u001b[0m\n\u001b[1;32m      5\u001b[0m \u001b[0mredirect_uri\u001b[0m \u001b[1;33m=\u001b[0m \u001b[1;34m'https://your.callback/uri'\u001b[0m\u001b[1;33m\u001b[0m\u001b[0m\n",
      "\u001b[0;31mImportError\u001b[0m: cannot import name 'OAuth2Session'"
     ]
    }
   ],
   "source": [
    "from oauth2client.client import OAuth2Session\n",
    "\n",
    "client_id = '301497635683-49vo2tj7g3lj5rra1ureggsu7ok3jqk8.apps.googleusercontent.com'\n",
    "client_secret = 'aPCX8YD0oYxpwYSiAeJ6qbTp'\n",
    "redirect_uri = 'https://your.callback/uri'\n",
    "\n",
    "scope = ['https://www.googleapis.com/auth/userinfo.email',\n",
    "             'https://www.googleapis.com/auth/userinfo.profile']\n",
    "oauth = OAuth2Session(client_id, redirect_uri=redirect_uri,\n",
    "                          scope=scope)\n",
    "authorization_url, state = oauth.authorization_url(\n",
    "        'https://accounts.google.com/o/oauth2/auth',\n",
    "        # access_type and approval_prompt are Google specific extra\n",
    "        # parameters.\n",
    "        access_type=\"offline\", approval_prompt=\"force\")\n",
    "\n",
    "#print 'Please go to %s and authorize access.' % authorization_url \n",
    "authorization_response = raw_input('Enter the full callback URL')"
   ]
  },
  {
   "cell_type": "code",
   "execution_count": 36,
   "metadata": {
    "collapsed": false
   },
   "outputs": [
    {
     "ename": "NameError",
     "evalue": "name 'oauth' is not defined",
     "output_type": "error",
     "traceback": [
      "\u001b[0;31m---------------------------------------------------------------------------\u001b[0m",
      "\u001b[0;31mNameError\u001b[0m                                 Traceback (most recent call last)",
      "\u001b[0;32m<ipython-input-36-64e299b32ce2>\u001b[0m in \u001b[0;36m<module>\u001b[0;34m()\u001b[0m\n\u001b[0;32m----> 1\u001b[0;31m \u001b[0mr\u001b[0m \u001b[1;33m=\u001b[0m \u001b[0moauth\u001b[0m\u001b[1;33m.\u001b[0m\u001b[0mget\u001b[0m\u001b[1;33m(\u001b[0m\u001b[1;34m'https://www.googleapis.com/oauth2/v1/userinfo'\u001b[0m\u001b[1;33m)\u001b[0m\u001b[1;33m\u001b[0m\u001b[0m\n\u001b[0m\u001b[1;32m      2\u001b[0m \u001b[0mr\u001b[0m\u001b[1;33m\u001b[0m\u001b[0m\n",
      "\u001b[0;31mNameError\u001b[0m: name 'oauth' is not defined"
     ]
    }
   ],
   "source": [
    "r = oauth.get('https://www.googleapis.com/oauth2/v1/userinfo')\n",
    "r"
   ]
  },
  {
   "cell_type": "code",
   "execution_count": 53,
   "metadata": {
    "collapsed": false
   },
   "outputs": [
    {
     "ename": "ModuleNotFoundError",
     "evalue": "No module named 'requests_oauthlib'",
     "output_type": "error",
     "traceback": [
      "\u001b[0;31m---------------------------------------------------------------------------\u001b[0m",
      "\u001b[0;31mModuleNotFoundError\u001b[0m                       Traceback (most recent call last)",
      "\u001b[0;32m<ipython-input-53-e148fb60fd5a>\u001b[0m in \u001b[0;36m<module>\u001b[0;34m()\u001b[0m\n\u001b[1;32m      1\u001b[0m \u001b[1;32mimport\u001b[0m \u001b[0mrequests\u001b[0m\u001b[1;33m\u001b[0m\u001b[0m\n\u001b[0;32m----> 2\u001b[0;31m \u001b[1;32mfrom\u001b[0m \u001b[0mrequests_oauthlib\u001b[0m \u001b[1;32mimport\u001b[0m \u001b[0mOAuth2Session\u001b[0m\u001b[1;33m\u001b[0m\u001b[0m\n\u001b[0m\u001b[1;32m      3\u001b[0m \u001b[1;33m\u001b[0m\u001b[0m\n\u001b[1;32m      4\u001b[0m oauth = OAuth2Session(client_id='301497635683-49vo2tj7g3lj5rra1ureggsu7ok3jqk8.apps.googleusercontent.com',\n\u001b[1;32m      5\u001b[0m                            \u001b[0mclient_secret\u001b[0m\u001b[1;33m=\u001b[0m\u001b[1;34m'aPCX8YD0oYxpwYSiAeJ6qbTp'\u001b[0m\u001b[1;33m,\u001b[0m\u001b[1;33m\u001b[0m\u001b[0m\n",
      "\u001b[0;31mModuleNotFoundError\u001b[0m: No module named 'requests_oauthlib'"
     ]
    }
   ],
   "source": [
    "import requests\n",
    "from requests_oauthlib import OAuth2Session\n",
    "\n",
    "oauth = OAuth2Session(client_id='615971725291-80293f88sc1iknsg705loom9q4n0b8vq.apps.googleusercontent.com',\n",
    "                           client_secret='WMkLWDdkJ_hJu2LqgHze7lna',\n",
    "                           scope='https://www.googleapis.com/auth/analytics',\n",
    "                           redirect_uri='http://example.com/auth_return')"
   ]
  },
  {
   "cell_type": "code",
   "execution_count": 45,
   "metadata": {
    "collapsed": false
   },
   "outputs": [
    {
     "ename": "AttributeError",
     "evalue": "'OAuth2WebServerFlow' object has no attribute 'authorization_url'",
     "output_type": "error",
     "traceback": [
      "\u001b[0;31m---------------------------------------------------------------------------\u001b[0m",
      "\u001b[0;31mAttributeError\u001b[0m                            Traceback (most recent call last)",
      "\u001b[0;32m<ipython-input-45-09b81da45b59>\u001b[0m in \u001b[0;36m<module>\u001b[0;34m()\u001b[0m\n\u001b[0;32m----> 1\u001b[0;31m authorization_url, state = oauth.authorization_url(\n\u001b[0m\u001b[1;32m      2\u001b[0m         \u001b[1;34m'https://accounts.google.com/o/oauth2/auth'\u001b[0m\u001b[1;33m,\u001b[0m\u001b[1;33m\u001b[0m\u001b[0m\n\u001b[1;32m      3\u001b[0m         \u001b[1;31m# access_type and approval_prompt are Google specific extra\u001b[0m\u001b[1;33m\u001b[0m\u001b[1;33m\u001b[0m\u001b[0m\n\u001b[1;32m      4\u001b[0m         \u001b[1;31m# parameters.\u001b[0m\u001b[1;33m\u001b[0m\u001b[1;33m\u001b[0m\u001b[0m\n\u001b[1;32m      5\u001b[0m         access_type=\"offline\", approval_prompt=\"force\")\n",
      "\u001b[0;31mAttributeError\u001b[0m: 'OAuth2WebServerFlow' object has no attribute 'authorization_url'"
     ]
    }
   ],
   "source": [
    "authorization_url, state = oauth.authorization_url(\n",
    "        'https://accounts.google.com/o/oauth2/auth',\n",
    "        # access_type and approval_prompt are Google specific extra\n",
    "        # parameters.\n",
    "        access_type=\"offline\", approval_prompt=\"force\")"
   ]
  },
  {
   "cell_type": "code",
   "execution_count": 42,
   "metadata": {
    "collapsed": false
   },
   "outputs": [
    {
     "ename": "AttributeError",
     "evalue": "'OAuth2WebServerFlow' object has no attribute 'fetch_token'",
     "output_type": "error",
     "traceback": [
      "\u001b[0;31m---------------------------------------------------------------------------\u001b[0m",
      "\u001b[0;31mAttributeError\u001b[0m                            Traceback (most recent call last)",
      "\u001b[0;32m<ipython-input-42-2a16cf3a6ed2>\u001b[0m in \u001b[0;36m<module>\u001b[0;34m()\u001b[0m\n\u001b[0;32m----> 1\u001b[0;31m token = oauth.fetch_token(\n\u001b[0m\u001b[1;32m      2\u001b[0m         \u001b[1;34m'https://accounts.google.com/o/oauth2/token'\u001b[0m\u001b[1;33m,\u001b[0m\u001b[1;33m\u001b[0m\u001b[0m\n\u001b[1;32m      3\u001b[0m         \u001b[0mauthorization_response\u001b[0m\u001b[1;33m=\u001b[0m\u001b[0mauthorization_response\u001b[0m\u001b[1;33m,\u001b[0m\u001b[1;33m\u001b[0m\u001b[0m\n\u001b[1;32m      4\u001b[0m         \u001b[1;31m# Google specific extra parameter used for client\u001b[0m\u001b[1;33m\u001b[0m\u001b[1;33m\u001b[0m\u001b[0m\n\u001b[1;32m      5\u001b[0m         \u001b[1;31m# authentication\u001b[0m\u001b[1;33m\u001b[0m\u001b[1;33m\u001b[0m\u001b[0m\n",
      "\u001b[0;31mAttributeError\u001b[0m: 'OAuth2WebServerFlow' object has no attribute 'fetch_token'"
     ]
    }
   ],
   "source": [
    "token = oauth.fetch_token(\n",
    "        'https://accounts.google.com/o/oauth2/token',\n",
    "        authorization_response=authorization_response,\n",
    "        client_secret=client_secret)"
   ]
  },
  {
   "cell_type": "code",
   "execution_count": 10,
   "metadata": {
    "collapsed": false
   },
   "outputs": [
    {
     "name": "stdout",
     "output_type": "stream",
     "text": [
      "Please go here and authorize, https://accounts.google.com/o/oauth2/v2/auth?response_type=code&client_id=615971725291-80293f88sc1iknsg705loom9q4n0b8vq.apps.googleusercontent.com&redirect_uri=http%3A%2F%2Fapp.skein.co&scope=https%3A%2F%2Fwww.googleapis.com%2Fauth%2Fuserinfo.email+https%3A%2F%2Fwww.googleapis.com%2Fauth%2Fuserinfo.profile+https%3A%2F%2Fwww.googleapis.com%2Fauth%2Fanalytics&state=sga5UbmzAyH56hps4rMMLVTGjIyNR2&access_type=offline&approval_prompt=force\n"
     ]
    },
    {
     "ename": "ValueError",
     "evalue": "Please supply either code or authorization_response parameters.",
     "output_type": "error",
     "traceback": [
      "\u001b[0;31m---------------------------------------------------------------------------\u001b[0m",
      "\u001b[0;31mValueError\u001b[0m                                Traceback (most recent call last)",
      "\u001b[0;32m<ipython-input-10-b953484b403b>\u001b[0m in \u001b[0;36m<module>\u001b[0;34m()\u001b[0m\n\u001b[1;32m     26\u001b[0m \u001b[1;33m\u001b[0m\u001b[0m\n\u001b[1;32m     27\u001b[0m \u001b[1;31m# Fetch the access token\u001b[0m\u001b[1;33m\u001b[0m\u001b[1;33m\u001b[0m\u001b[0m\n\u001b[0;32m---> 28\u001b[0;31m \u001b[0mgoogle\u001b[0m\u001b[1;33m.\u001b[0m\u001b[0mfetch_token\u001b[0m\u001b[1;33m(\u001b[0m\u001b[0mtoken_url\u001b[0m\u001b[1;33m,\u001b[0m \u001b[0mclient_secret\u001b[0m\u001b[1;33m=\u001b[0m\u001b[0mclient_secret\u001b[0m\u001b[1;33m,\u001b[0m\u001b[1;33m)\u001b[0m\u001b[1;33m\u001b[0m\u001b[0m\n\u001b[0m\u001b[1;32m     29\u001b[0m \u001b[1;33m\u001b[0m\u001b[0m\n\u001b[1;32m     30\u001b[0m \u001b[1;31m# Fetch a protected resource, i.e. user profile\u001b[0m\u001b[1;33m\u001b[0m\u001b[1;33m\u001b[0m\u001b[0m\n",
      "\u001b[0;32mC:\\Users\\Analytics\\Anaconda3\\lib\\site-packages\\requests_oauthlib\\oauth2_session.py\u001b[0m in \u001b[0;36mfetch_token\u001b[0;34m(self, token_url, code, authorization_response, body, auth, username, password, method, timeout, headers, verify, proxies, **kwargs)\u001b[0m\n\u001b[1;32m    190\u001b[0m             \u001b[0mcode\u001b[0m \u001b[1;33m=\u001b[0m \u001b[0mself\u001b[0m\u001b[1;33m.\u001b[0m\u001b[0m_client\u001b[0m\u001b[1;33m.\u001b[0m\u001b[0mcode\u001b[0m\u001b[1;33m\u001b[0m\u001b[0m\n\u001b[1;32m    191\u001b[0m             \u001b[1;32mif\u001b[0m \u001b[1;32mnot\u001b[0m \u001b[0mcode\u001b[0m\u001b[1;33m:\u001b[0m\u001b[1;33m\u001b[0m\u001b[0m\n\u001b[0;32m--> 192\u001b[0;31m                 raise ValueError('Please supply either code or '\n\u001b[0m\u001b[1;32m    193\u001b[0m                                  'authorization_response parameters.')\n\u001b[1;32m    194\u001b[0m \u001b[1;33m\u001b[0m\u001b[0m\n",
      "\u001b[0;31mValueError\u001b[0m: Please supply either code or authorization_response parameters."
     ]
    }
   ],
   "source": [
    "import requests\n",
    "\n",
    "# Credentials you get from registering a new application\n",
    "client_id = '615971725291-80293f88sc1iknsg705loom9q4n0b8vq.apps.googleusercontent.com'\n",
    "client_secret = 'WMkLWDdkJ_hJu2LqgHze7lna'\n",
    "redirect_uri = 'http://app.skein.co'\n",
    "\n",
    "# OAuth endpoints given in the Google API documentation\n",
    "authorization_base_url = \"https://accounts.google.com/o/oauth2/v2/auth\"\n",
    "token_url = \"https://www.googleapis.com/oauth2/v4/token\"\n",
    "scope = [\n",
    "    \"https://www.googleapis.com/auth/userinfo.email\",\n",
    "    \"https://www.googleapis.com/auth/userinfo.profile\",\n",
    "    \"https://www.googleapis.com/auth/analytics\"\n",
    "]\n",
    "\n",
    "from requests_oauthlib import OAuth2Session\n",
    "google = OAuth2Session(client_id, scope=scope, redirect_uri=redirect_uri)\n",
    "\n",
    "# Redirect user to Google for authorization\n",
    "authorization_url, state = google.authorization_url(authorization_base_url,\n",
    "     # offline for refresh token\n",
    "     # force to always make user click authorize\n",
    "    access_type=\"offline\", approval_prompt=\"force\")\n",
    "print('Please go here and authorize,', authorization_url)\n",
    "\n",
    "# Fetch the access token\n",
    "google.fetch_token(token_url, client_secret=client_secret,)\n",
    "\n",
    "# Fetch a protected resource, i.e. user profile\n",
    "r = google.get('https://www.googleapis.com/oauth2/v1/userinfo')\n",
    "print(r.content)"
   ]
  },
  {
   "cell_type": "code",
   "execution_count": null,
   "metadata": {
    "collapsed": true
   },
   "outputs": [],
   "source": []
  },
  {
   "cell_type": "code",
   "execution_count": 11,
   "metadata": {
    "collapsed": true
   },
   "outputs": [],
   "source": [
    "client_id = '615971725291-80293f88sc1iknsg705loom9q4n0b8vq.apps.googleusercontent.com'\n",
    "client_secret = 'WMkLWDdkJ_hJu2LqgHze7lna'\n",
    "redirect_uri = 'http://app.skein.co'\n",
    "\n"
   ]
  },
  {
   "cell_type": "code",
   "execution_count": 12,
   "metadata": {
    "collapsed": false
   },
   "outputs": [
    {
     "name": "stdout",
     "output_type": "stream",
     "text": [
      "Please go to https://accounts.google.com/o/oauth2/auth?response_type=code&client_id=615971725291-80293f88sc1iknsg705loom9q4n0b8vq.apps.googleusercontent.com&redirect_uri=http%3A%2F%2Fapp.skein.co&scope=https%3A%2F%2Fwww.googleapis.com%2Fauth%2Fuserinfo.email+https%3A%2F%2Fwww.googleapis.com%2Fauth%2Fuserinfo.profile&state=6wJM8s5ir7kBHWMmORLvSpAOwdLOE7&access_type=offline&approval_prompt=force and authorize access.\n"
     ]
    },
    {
     "ename": "NameError",
     "evalue": "name 'raw_input' is not defined",
     "output_type": "error",
     "traceback": [
      "\u001b[0;31m---------------------------------------------------------------------------\u001b[0m",
      "\u001b[0;31mNameError\u001b[0m                                 Traceback (most recent call last)",
      "\u001b[0;32m<ipython-input-12-baa5c4c03fac>\u001b[0m in \u001b[0;36m<module>\u001b[0;34m()\u001b[0m\n\u001b[1;32m     10\u001b[0m \u001b[1;33m\u001b[0m\u001b[0m\n\u001b[1;32m     11\u001b[0m \u001b[0mprint\u001b[0m\u001b[1;33m(\u001b[0m\u001b[1;34m'Please go to %s and authorize access.'\u001b[0m \u001b[1;33m%\u001b[0m \u001b[0mauthorization_url\u001b[0m\u001b[1;33m)\u001b[0m\u001b[1;33m\u001b[0m\u001b[0m\n\u001b[0;32m---> 12\u001b[0;31m \u001b[0mauthorization_response\u001b[0m \u001b[1;33m=\u001b[0m \u001b[0mraw_input\u001b[0m\u001b[1;33m(\u001b[0m\u001b[1;34m'Enter the full callback URL'\u001b[0m\u001b[1;33m)\u001b[0m\u001b[1;33m\u001b[0m\u001b[0m\n\u001b[0m",
      "\u001b[0;31mNameError\u001b[0m: name 'raw_input' is not defined"
     ]
    }
   ],
   "source": [
    "scope = ['https://www.googleapis.com/auth/userinfo.email',\n",
    "             'https://www.googleapis.com/auth/userinfo.profile']\n",
    "oauth = OAuth2Session(client_id, redirect_uri=redirect_uri,\n",
    "                          scope=scope)\n",
    "authorization_url, state = oauth.authorization_url(\n",
    "        'https://accounts.google.com/o/oauth2/auth',\n",
    "        # access_type and approval_prompt are Google specific extra\n",
    "        # parameters.\n",
    "        access_type=\"offline\", approval_prompt=\"force\")\n",
    "\n",
    "print('Please go to %s and authorize access.' % authorization_url)\n",
    "authorization_response = raw_input('Enter the full callback URL')"
   ]
  },
  {
   "cell_type": "code",
   "execution_count": 23,
   "metadata": {
    "collapsed": false
   },
   "outputs": [
    {
     "data": {
      "text/plain": [
       "{'error': {'code': 401,\n",
       "  'errors': [{'domain': 'global',\n",
       "    'location': 'Authorization',\n",
       "    'locationType': 'header',\n",
       "    'message': 'Invalid Credentials',\n",
       "    'reason': 'authError'}],\n",
       "  'message': 'Invalid Credentials'}}"
      ]
     },
     "execution_count": 23,
     "metadata": {},
     "output_type": "execute_result"
    }
   ],
   "source": [
    "import requests\n",
    "from requests_oauthlib import OAuth1\n",
    "\n",
    "url=\"https://www.googleapis.com/analytics/v3/data/ga?ids=ga%3A93735856&start-date=2017-04-04&end-date=2017-04-20&metrics=ga%3Asessions&dimensions=ga%3Adate\" \n",
    "auth=OAuth1('615971725291-80293f88sc1iknsg705loom9q4n0b8vq.apps.googleusercontent.com', 'WMkLWDdkJ_hJu2LqgHze7lna')\n",
    "\n",
    "r = requests.get(url, auth=auth)\n",
    "\n",
    "r.json()"
   ]
  },
  {
   "cell_type": "code",
   "execution_count": null,
   "metadata": {
    "collapsed": true
   },
   "outputs": [],
   "source": []
  },
  {
   "cell_type": "code",
   "execution_count": 30,
   "metadata": {
    "collapsed": true
   },
   "outputs": [],
   "source": [
    "client_id = '615971725291-80293f88sc1iknsg705loom9q4n0b8vq.apps.googleusercontent.com'\n",
    "client_secret = 'WMkLWDdkJ_hJu2LqgHze7lna'\n",
    "token = 'ya29.GltHBEer6RL1iLcOoFYk7Qb_xt8S_XUFZuHVbfio3iro0x9yAWHrMZwwrEHlvfv4g9ea0nBuwcsvcMxfIXEvz5g8UcIbyEjEPN7x8sBERQXvS8bhKdciYLFSZlOW'"
   ]
  },
  {
   "cell_type": "code",
   "execution_count": 31,
   "metadata": {
    "collapsed": false
   },
   "outputs": [
    {
     "ename": "NameError",
     "evalue": "name 'idinfo' is not defined",
     "output_type": "error",
     "traceback": [
      "\u001b[0;31m---------------------------------------------------------------------------\u001b[0m",
      "\u001b[0;31mAppIdentityError\u001b[0m                          Traceback (most recent call last)",
      "\u001b[0;32m<ipython-input-31-142225f5a4e6>\u001b[0m in \u001b[0;36m<module>\u001b[0;34m()\u001b[0m\n\u001b[1;32m      6\u001b[0m \u001b[1;32mtry\u001b[0m\u001b[1;33m:\u001b[0m\u001b[1;33m\u001b[0m\u001b[0m\n\u001b[0;32m----> 7\u001b[0;31m     \u001b[0midinfo\u001b[0m \u001b[1;33m=\u001b[0m \u001b[0mclient\u001b[0m\u001b[1;33m.\u001b[0m\u001b[0mverify_id_token\u001b[0m\u001b[1;33m(\u001b[0m\u001b[0mtoken\u001b[0m\u001b[1;33m,\u001b[0m \u001b[0mclient_id\u001b[0m\u001b[1;33m)\u001b[0m\u001b[1;33m\u001b[0m\u001b[0m\n\u001b[0m\u001b[1;32m      8\u001b[0m \u001b[1;33m\u001b[0m\u001b[0m\n",
      "\u001b[0;32mC:\\Users\\Analytics\\Anaconda3\\lib\\site-packages\\oauth2client\\_helpers.py\u001b[0m in \u001b[0;36mpositional_wrapper\u001b[0;34m(*args, **kwargs)\u001b[0m\n\u001b[1;32m    132\u001b[0m                     \u001b[0mlogger\u001b[0m\u001b[1;33m.\u001b[0m\u001b[0mwarning\u001b[0m\u001b[1;33m(\u001b[0m\u001b[0mmessage\u001b[0m\u001b[1;33m)\u001b[0m\u001b[1;33m\u001b[0m\u001b[0m\n\u001b[0;32m--> 133\u001b[0;31m             \u001b[1;32mreturn\u001b[0m \u001b[0mwrapped\u001b[0m\u001b[1;33m(\u001b[0m\u001b[1;33m*\u001b[0m\u001b[0margs\u001b[0m\u001b[1;33m,\u001b[0m \u001b[1;33m**\u001b[0m\u001b[0mkwargs\u001b[0m\u001b[1;33m)\u001b[0m\u001b[1;33m\u001b[0m\u001b[0m\n\u001b[0m\u001b[1;32m    134\u001b[0m         \u001b[1;32mreturn\u001b[0m \u001b[0mpositional_wrapper\u001b[0m\u001b[1;33m\u001b[0m\u001b[0m\n",
      "\u001b[0;32mC:\\Users\\Analytics\\Anaconda3\\lib\\site-packages\\oauth2client\\client.py\u001b[0m in \u001b[0;36mverify_id_token\u001b[0;34m(id_token, audience, http, cert_uri)\u001b[0m\n\u001b[1;32m   1551\u001b[0m         \u001b[0mcerts\u001b[0m \u001b[1;33m=\u001b[0m \u001b[0mjson\u001b[0m\u001b[1;33m.\u001b[0m\u001b[0mloads\u001b[0m\u001b[1;33m(\u001b[0m\u001b[0m_helpers\u001b[0m\u001b[1;33m.\u001b[0m\u001b[0m_from_bytes\u001b[0m\u001b[1;33m(\u001b[0m\u001b[0mcontent\u001b[0m\u001b[1;33m)\u001b[0m\u001b[1;33m)\u001b[0m\u001b[1;33m\u001b[0m\u001b[0m\n\u001b[0;32m-> 1552\u001b[0;31m         \u001b[1;32mreturn\u001b[0m \u001b[0mcrypt\u001b[0m\u001b[1;33m.\u001b[0m\u001b[0mverify_signed_jwt_with_certs\u001b[0m\u001b[1;33m(\u001b[0m\u001b[0mid_token\u001b[0m\u001b[1;33m,\u001b[0m \u001b[0mcerts\u001b[0m\u001b[1;33m,\u001b[0m \u001b[0maudience\u001b[0m\u001b[1;33m)\u001b[0m\u001b[1;33m\u001b[0m\u001b[0m\n\u001b[0m\u001b[1;32m   1553\u001b[0m     \u001b[1;32melse\u001b[0m\u001b[1;33m:\u001b[0m\u001b[1;33m\u001b[0m\u001b[0m\n",
      "\u001b[0;32mC:\\Users\\Analytics\\Anaconda3\\lib\\site-packages\\oauth2client\\crypt.py\u001b[0m in \u001b[0;36mverify_signed_jwt_with_certs\u001b[0;34m(jwt, certs, audience)\u001b[0m\n\u001b[1;32m    227\u001b[0m         raise AppIdentityError(\n\u001b[0;32m--> 228\u001b[0;31m             'Wrong number of segments in token: {0}'.format(jwt))\n\u001b[0m\u001b[1;32m    229\u001b[0m \u001b[1;33m\u001b[0m\u001b[0m\n",
      "\u001b[0;31mAppIdentityError\u001b[0m: Wrong number of segments in token: b'ya29.GltHBEer6RL1iLcOoFYk7Qb_xt8S_XUFZuHVbfio3iro0x9yAWHrMZwwrEHlvfv4g9ea0nBuwcsvcMxfIXEvz5g8UcIbyEjEPN7x8sBERQXvS8bhKdciYLFSZlOW'",
      "\nDuring handling of the above exception, another exception occurred:\n",
      "\u001b[0;31mNameError\u001b[0m                                 Traceback (most recent call last)",
      "\u001b[0;32m<ipython-input-31-142225f5a4e6>\u001b[0m in \u001b[0;36m<module>\u001b[0;34m()\u001b[0m\n\u001b[1;32m     20\u001b[0m \u001b[1;32mexcept\u001b[0m \u001b[0mcrypt\u001b[0m\u001b[1;33m.\u001b[0m\u001b[0mAppIdentityError\u001b[0m\u001b[1;33m:\u001b[0m\u001b[1;33m\u001b[0m\u001b[0m\n\u001b[1;32m     21\u001b[0m     \u001b[1;31m# Invalid token\u001b[0m\u001b[1;33m\u001b[0m\u001b[1;33m\u001b[0m\u001b[0m\n\u001b[0;32m---> 22\u001b[0;31m     \u001b[0muserid\u001b[0m \u001b[1;33m=\u001b[0m \u001b[0midinfo\u001b[0m\u001b[1;33m[\u001b[0m\u001b[1;34m'sub'\u001b[0m\u001b[1;33m]\u001b[0m\u001b[1;33m\u001b[0m\u001b[0m\n\u001b[0m",
      "\u001b[0;31mNameError\u001b[0m: name 'idinfo' is not defined"
     ]
    }
   ],
   "source": [
    "from oauth2client import client, crypt\n",
    "\n",
    "# (Receive token by HTTPS POST)\n",
    "\n",
    "\n",
    "try:\n",
    "    idinfo = client.verify_id_token(token, client_id)\n",
    "\n",
    "    # Or, if multiple clients access the backend server:\n",
    "    #idinfo = client.verify_id_token(token, None)\n",
    "    #if idinfo['aud'] not in [CLIENT_ID_1, CLIENT_ID_2, CLIENT_ID_3]:\n",
    "    #    raise crypt.AppIdentityError(\"Unrecognized client.\")\n",
    "\n",
    "    if idinfo['iss'] not in ['accounts.google.com', 'https://accounts.google.com']:\n",
    "        raise crypt.AppIdentityError(\"Wrong issuer.\")\n",
    "\n",
    "    # If auth request is from a G Suite domain:\n",
    "    #if idinfo['hd'] != GSUITE_DOMAIN_NAME:\n",
    "    #    raise crypt.AppIdentityError(\"Wrong hosted domain.\")\n",
    "except crypt.AppIdentityError:\n",
    "    # Invalid token\n",
    "    userid = idinfo['sub']"
   ]
  },
  {
   "cell_type": "code",
   "execution_count": null,
   "metadata": {
    "collapsed": true
   },
   "outputs": [],
   "source": []
  },
  {
   "cell_type": "code",
   "execution_count": 26,
   "metadata": {
    "collapsed": false
   },
   "outputs": [
    {
     "ename": "MissingTokenError",
     "evalue": "(missing_token) Missing access token parameter.",
     "output_type": "error",
     "traceback": [
      "\u001b[0;31m---------------------------------------------------------------------------\u001b[0m",
      "\u001b[0;31mMissingTokenError\u001b[0m                         Traceback (most recent call last)",
      "\u001b[0;32m<ipython-input-26-0462c6667e40>\u001b[0m in \u001b[0;36m<module>\u001b[0;34m()\u001b[0m\n\u001b[1;32m      2\u001b[0m \u001b[0mclient\u001b[0m \u001b[1;33m=\u001b[0m \u001b[0mBackendApplicationClient\u001b[0m\u001b[1;33m(\u001b[0m\u001b[0mclient_id\u001b[0m\u001b[1;33m=\u001b[0m\u001b[0mclient_id\u001b[0m\u001b[1;33m)\u001b[0m\u001b[1;33m\u001b[0m\u001b[0m\n\u001b[1;32m      3\u001b[0m \u001b[0moauth\u001b[0m \u001b[1;33m=\u001b[0m \u001b[0mOAuth2Session\u001b[0m\u001b[1;33m(\u001b[0m\u001b[0mclient\u001b[0m\u001b[1;33m=\u001b[0m\u001b[0mclient\u001b[0m\u001b[1;33m)\u001b[0m\u001b[1;33m\u001b[0m\u001b[0m\n\u001b[0;32m----> 4\u001b[0;31m \u001b[0mtoken\u001b[0m \u001b[1;33m=\u001b[0m \u001b[0moauth\u001b[0m\u001b[1;33m.\u001b[0m\u001b[0mfetch_token\u001b[0m\u001b[1;33m(\u001b[0m\u001b[0mtoken_url\u001b[0m\u001b[1;33m=\u001b[0m\u001b[1;34m'https://accounts.google.com/o/oauth2/auth'\u001b[0m\u001b[1;33m,\u001b[0m \u001b[0mclient_id\u001b[0m\u001b[1;33m=\u001b[0m\u001b[0mclient_id\u001b[0m\u001b[1;33m,\u001b[0m \u001b[0mclient_secret\u001b[0m\u001b[1;33m=\u001b[0m\u001b[0mclient_secret\u001b[0m\u001b[1;33m)\u001b[0m\u001b[1;33m\u001b[0m\u001b[0m\n\u001b[0m",
      "\u001b[0;32mC:\\Users\\Analytics\\Anaconda3\\lib\\site-packages\\requests_oauthlib\\oauth2_session.py\u001b[0m in \u001b[0;36mfetch_token\u001b[0;34m(self, token_url, code, authorization_response, body, auth, username, password, method, timeout, headers, verify, proxies, **kwargs)\u001b[0m\n\u001b[1;32m    242\u001b[0m             \u001b[0mr\u001b[0m \u001b[1;33m=\u001b[0m \u001b[0mhook\u001b[0m\u001b[1;33m(\u001b[0m\u001b[0mr\u001b[0m\u001b[1;33m)\u001b[0m\u001b[1;33m\u001b[0m\u001b[0m\n\u001b[1;32m    243\u001b[0m \u001b[1;33m\u001b[0m\u001b[0m\n\u001b[0;32m--> 244\u001b[0;31m         \u001b[0mself\u001b[0m\u001b[1;33m.\u001b[0m\u001b[0m_client\u001b[0m\u001b[1;33m.\u001b[0m\u001b[0mparse_request_body_response\u001b[0m\u001b[1;33m(\u001b[0m\u001b[0mr\u001b[0m\u001b[1;33m.\u001b[0m\u001b[0mtext\u001b[0m\u001b[1;33m,\u001b[0m \u001b[0mscope\u001b[0m\u001b[1;33m=\u001b[0m\u001b[0mself\u001b[0m\u001b[1;33m.\u001b[0m\u001b[0mscope\u001b[0m\u001b[1;33m)\u001b[0m\u001b[1;33m\u001b[0m\u001b[0m\n\u001b[0m\u001b[1;32m    245\u001b[0m         \u001b[0mself\u001b[0m\u001b[1;33m.\u001b[0m\u001b[0mtoken\u001b[0m \u001b[1;33m=\u001b[0m \u001b[0mself\u001b[0m\u001b[1;33m.\u001b[0m\u001b[0m_client\u001b[0m\u001b[1;33m.\u001b[0m\u001b[0mtoken\u001b[0m\u001b[1;33m\u001b[0m\u001b[0m\n\u001b[1;32m    246\u001b[0m         \u001b[0mlog\u001b[0m\u001b[1;33m.\u001b[0m\u001b[0mdebug\u001b[0m\u001b[1;33m(\u001b[0m\u001b[1;34m'Obtained token %s.'\u001b[0m\u001b[1;33m,\u001b[0m \u001b[0mself\u001b[0m\u001b[1;33m.\u001b[0m\u001b[0mtoken\u001b[0m\u001b[1;33m)\u001b[0m\u001b[1;33m\u001b[0m\u001b[0m\n",
      "\u001b[0;32mC:\\Users\\Analytics\\Anaconda3\\lib\\site-packages\\oauthlib\\oauth2\\rfc6749\\clients\\base.py\u001b[0m in \u001b[0;36mparse_request_body_response\u001b[0;34m(self, body, scope, **kwargs)\u001b[0m\n\u001b[1;32m    407\u001b[0m         \u001b[1;33m.\u001b[0m\u001b[1;33m.\u001b[0m \u001b[0m_\u001b[0m\u001b[0;31m`\u001b[0m\u001b[0mSection\u001b[0m \u001b[1;36m7.1\u001b[0m\u001b[0;31m`\u001b[0m\u001b[1;33m:\u001b[0m \u001b[0mhttp\u001b[0m\u001b[1;33m:\u001b[0m\u001b[1;33m//\u001b[0m\u001b[0mtools\u001b[0m\u001b[1;33m.\u001b[0m\u001b[0mietf\u001b[0m\u001b[1;33m.\u001b[0m\u001b[0morg\u001b[0m\u001b[1;33m/\u001b[0m\u001b[0mhtml\u001b[0m\u001b[1;33m/\u001b[0m\u001b[0mrfc6749\u001b[0m\u001b[1;31m#section-7.1\u001b[0m\u001b[1;33m\u001b[0m\u001b[0m\n\u001b[1;32m    408\u001b[0m         \"\"\"\n\u001b[0;32m--> 409\u001b[0;31m         \u001b[0mself\u001b[0m\u001b[1;33m.\u001b[0m\u001b[0mtoken\u001b[0m \u001b[1;33m=\u001b[0m \u001b[0mparse_token_response\u001b[0m\u001b[1;33m(\u001b[0m\u001b[0mbody\u001b[0m\u001b[1;33m,\u001b[0m \u001b[0mscope\u001b[0m\u001b[1;33m=\u001b[0m\u001b[0mscope\u001b[0m\u001b[1;33m)\u001b[0m\u001b[1;33m\u001b[0m\u001b[0m\n\u001b[0m\u001b[1;32m    410\u001b[0m         \u001b[0mself\u001b[0m\u001b[1;33m.\u001b[0m\u001b[0m_populate_attributes\u001b[0m\u001b[1;33m(\u001b[0m\u001b[0mself\u001b[0m\u001b[1;33m.\u001b[0m\u001b[0mtoken\u001b[0m\u001b[1;33m)\u001b[0m\u001b[1;33m\u001b[0m\u001b[0m\n\u001b[1;32m    411\u001b[0m         \u001b[1;32mreturn\u001b[0m \u001b[0mself\u001b[0m\u001b[1;33m.\u001b[0m\u001b[0mtoken\u001b[0m\u001b[1;33m\u001b[0m\u001b[0m\n",
      "\u001b[0;32mC:\\Users\\Analytics\\Anaconda3\\lib\\site-packages\\oauthlib\\oauth2\\rfc6749\\parameters.py\u001b[0m in \u001b[0;36mparse_token_response\u001b[0;34m(body, scope)\u001b[0m\n\u001b[1;32m    374\u001b[0m \u001b[1;33m\u001b[0m\u001b[0m\n\u001b[1;32m    375\u001b[0m     \u001b[0mparams\u001b[0m \u001b[1;33m=\u001b[0m \u001b[0mOAuth2Token\u001b[0m\u001b[1;33m(\u001b[0m\u001b[0mparams\u001b[0m\u001b[1;33m,\u001b[0m \u001b[0mold_scope\u001b[0m\u001b[1;33m=\u001b[0m\u001b[0mscope\u001b[0m\u001b[1;33m)\u001b[0m\u001b[1;33m\u001b[0m\u001b[0m\n\u001b[0;32m--> 376\u001b[0;31m     \u001b[0mvalidate_token_parameters\u001b[0m\u001b[1;33m(\u001b[0m\u001b[0mparams\u001b[0m\u001b[1;33m)\u001b[0m\u001b[1;33m\u001b[0m\u001b[0m\n\u001b[0m\u001b[1;32m    377\u001b[0m     \u001b[1;32mreturn\u001b[0m \u001b[0mparams\u001b[0m\u001b[1;33m\u001b[0m\u001b[0m\n\u001b[1;32m    378\u001b[0m \u001b[1;33m\u001b[0m\u001b[0m\n",
      "\u001b[0;32mC:\\Users\\Analytics\\Anaconda3\\lib\\site-packages\\oauthlib\\oauth2\\rfc6749\\parameters.py\u001b[0m in \u001b[0;36mvalidate_token_parameters\u001b[0;34m(params)\u001b[0m\n\u001b[1;32m    384\u001b[0m \u001b[1;33m\u001b[0m\u001b[0m\n\u001b[1;32m    385\u001b[0m     \u001b[1;32mif\u001b[0m \u001b[1;32mnot\u001b[0m \u001b[1;34m'access_token'\u001b[0m \u001b[1;32min\u001b[0m \u001b[0mparams\u001b[0m\u001b[1;33m:\u001b[0m\u001b[1;33m\u001b[0m\u001b[0m\n\u001b[0;32m--> 386\u001b[0;31m         \u001b[1;32mraise\u001b[0m \u001b[0mMissingTokenError\u001b[0m\u001b[1;33m(\u001b[0m\u001b[0mdescription\u001b[0m\u001b[1;33m=\u001b[0m\u001b[1;34m\"Missing access token parameter.\"\u001b[0m\u001b[1;33m)\u001b[0m\u001b[1;33m\u001b[0m\u001b[0m\n\u001b[0m\u001b[1;32m    387\u001b[0m \u001b[1;33m\u001b[0m\u001b[0m\n\u001b[1;32m    388\u001b[0m     \u001b[1;32mif\u001b[0m \u001b[1;32mnot\u001b[0m \u001b[1;34m'token_type'\u001b[0m \u001b[1;32min\u001b[0m \u001b[0mparams\u001b[0m\u001b[1;33m:\u001b[0m\u001b[1;33m\u001b[0m\u001b[0m\n",
      "\u001b[0;31mMissingTokenError\u001b[0m: (missing_token) Missing access token parameter."
     ]
    }
   ],
   "source": [
    "from oauthlib.oauth2 import BackendApplicationClient\n",
    "\n",
    "client = BackendApplicationClient(client_id=client_id)\n",
    "oauth = OAuth2Session(client=client)\n",
    "token = oauth.fetch_token(token_url='https://accounts.google.com/o/oauth2/auth', client_id=client_id, client_secret=client_secret)"
   ]
  }
 ],
 "metadata": {
  "kernelspec": {
   "display_name": "Python 3",
   "language": "python",
   "name": "python3"
  },
  "language_info": {
   "codemirror_mode": {
    "name": "ipython",
    "version": 3
   },
   "file_extension": ".py",
   "mimetype": "text/x-python",
   "name": "python",
   "nbconvert_exporter": "python",
   "pygments_lexer": "ipython3",
   "version": "3.6.0"
  }
 },
 "nbformat": 4,
 "nbformat_minor": 2
}
