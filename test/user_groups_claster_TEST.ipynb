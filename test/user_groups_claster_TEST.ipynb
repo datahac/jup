{
 "cells": [
  {
   "cell_type": "markdown",
   "metadata": {},
   "source": [
    "# User groups"
   ]
  },
  {
   "cell_type": "code",
   "execution_count": 298,
   "metadata": {
    "collapsed": true
   },
   "outputs": [],
   "source": [
    "request = \"POST https://analyticsreporting.googleapis.com/v4/reports:batchGet?fields=reports(columnHeader%2Cdata(rows%2Ctotals))&key={YOUR_API_KEY}\"\n",
    "request = {\n",
    " \"reportRequests\": [\n",
    "  {\n",
    "   \"viewId\": \"123303369\",\n",
    "   \"dateRanges\": [\n",
    "    {\n",
    "     \"startDate\": \"2017-01-01\",\n",
    "     \"endDate\": \"2017-04-30\"\n",
    "    }\n",
    "   ],\n",
    "   \"metrics\": [\n",
    "    {\n",
    "     \"expression\": \"ga:sessions\"\n",
    "    },\n",
    "    {\n",
    "     \"expression\": \"ga:sessionDuration\"\n",
    "    },\n",
    "    {\n",
    "     \"expression\": \"ga:goal1Completions\"\n",
    "    },\n",
    "    {\n",
    "     \"expression\": \"ga:bounceRate\"\n",
    "    }\n",
    "   ],\n",
    "   \"dimensions\": [\n",
    "    {\n",
    "     \"name\": \"ga:city\"\n",
    "    },\n",
    "    {\n",
    "     \"name\": \"ga:userAgeBracket\"\n",
    "    }\n",
    "   ]\n",
    "  }\n",
    " ]\n",
    "}"
   ]
  },
  {
   "cell_type": "code",
   "execution_count": 367,
   "metadata": {
    "collapsed": false
   },
   "outputs": [
    {
     "data": {
      "text/plain": [
       "[{'dimensions': ['(not set)', '25-34'],\n",
       "  'metrics': [{'values': ['27', '1848.0', '1', '62.96296296296296']}]},\n",
       " {'dimensions': ['(not set)', '35-44'],\n",
       "  'metrics': [{'values': ['23', '1790.0', '1', '52.17391304347826']}]},\n",
       " {'dimensions': ['Croydon', '18-24'],\n",
       "  'metrics': [{'values': ['101', '10047.0', '4', '41.584158415841586']}]},\n",
       " {'dimensions': ['Croydon', '25-34'],\n",
       "  'metrics': [{'values': ['334', '62737.0', '17', '47.90419161676647']}]},\n",
       " {'dimensions': ['Croydon', '35-44'],\n",
       "  'metrics': [{'values': ['223', '34564.0', '7', '43.04932735426009']}]},\n",
       " {'dimensions': ['Croydon', '45-54'],\n",
       "  'metrics': [{'values': ['90', '14131.0', '2', '45.55555555555556']}]},\n",
       " {'dimensions': ['Croydon', '55-64'],\n",
       "  'metrics': [{'values': ['32', '1932.0', '1', '53.125']}]},\n",
       " {'dimensions': ['Hove', '35-44'],\n",
       "  'metrics': [{'values': ['12', '833.0', '1', '16.666666666666664']}]},\n",
       " {'dimensions': ['London', '18-24'],\n",
       "  'metrics': [{'values': ['167', '29335.0', '8', '49.700598802395206']}]},\n",
       " {'dimensions': ['London', '25-34'],\n",
       "  'metrics': [{'values': ['842', '84813.0', '24', '59.14489311163895']}]},\n",
       " {'dimensions': ['London', '35-44'],\n",
       "  'metrics': [{'values': ['482', '56008.0', '14', '54.77178423236515']}]},\n",
       " {'dimensions': ['London', '45-54'],\n",
       "  'metrics': [{'values': ['205', '26525.0', '3', '55.60975609756098']}]},\n",
       " {'dimensions': ['London', '55-64'],\n",
       "  'metrics': [{'values': ['37', '3329.0', '0', '48.64864864864865']}]},\n",
       " {'dimensions': ['London', '65+'],\n",
       "  'metrics': [{'values': ['15', '2224.0', '1', '66.66666666666666']}]}]"
      ]
     },
     "execution_count": 367,
     "metadata": {},
     "output_type": "execute_result"
    }
   ],
   "source": [
    "import json\n",
    "\n",
    "with open('data/TMRW_users.json') as file:\n",
    "    input_ugroups = json.load(file)\n",
    "    \n",
    "#input_ugroups\n",
    "\n",
    "# Define dimensions list\n",
    "input_ugroups_dimensions = input_ugroups['reports'][0]['columnHeader']['dimensions']\n",
    "\n",
    "dimension_count = len(input_ugroups_dimensions)\n",
    "\n",
    "# Define metrics list\n",
    "input_ugroups_metrics = input_ugroups['reports'][0]['columnHeader']['metricHeader']['metricHeaderEntries']\n",
    "\n",
    "def create_metric_list(raw_data):\n",
    "    lst = []\n",
    "    for item in raw_data:\n",
    "        lst.append(item['name'])\n",
    "    return lst\n",
    "\n",
    "input_ugroups_metrics = create_metric_list(input_ugroups_metrics)\n",
    "\n",
    "\n",
    "# Create input data\n",
    "\n",
    "input_ugroups_data = input_ugroups['reports'][0]['data']['rows']\n",
    "\n",
    "input_ugroups_data"
   ]
  },
  {
   "cell_type": "code",
   "execution_count": 368,
   "metadata": {
    "collapsed": false
   },
   "outputs": [
    {
     "data": {
      "text/plain": [
       "[{'(not set), 25-34': {'values': ['27',\n",
       "    '1848.0',\n",
       "    '1',\n",
       "    '62.96296296296296',\n",
       "    3.7]}},\n",
       " {'(not set), 35-44': {'values': ['23',\n",
       "    '1790.0',\n",
       "    '1',\n",
       "    '52.17391304347826',\n",
       "    4.35]}},\n",
       " {'Croydon, 18-24': {'values': ['101',\n",
       "    '10047.0',\n",
       "    '4',\n",
       "    '41.584158415841586',\n",
       "    3.96]}},\n",
       " {'Croydon, 25-34': {'values': ['334',\n",
       "    '62737.0',\n",
       "    '17',\n",
       "    '47.90419161676647',\n",
       "    5.09]}},\n",
       " {'Croydon, 35-44': {'values': ['223',\n",
       "    '34564.0',\n",
       "    '7',\n",
       "    '43.04932735426009',\n",
       "    3.14]}},\n",
       " {'Croydon, 45-54': {'values': ['90',\n",
       "    '14131.0',\n",
       "    '2',\n",
       "    '45.55555555555556',\n",
       "    2.22]}},\n",
       " {'Croydon, 55-64': {'values': ['32', '1932.0', '1', '53.125', 3.12]}},\n",
       " {'Hove, 35-44': {'values': ['12', '833.0', '1', '16.666666666666664', 8.33]}},\n",
       " {'London, 18-24': {'values': ['167',\n",
       "    '29335.0',\n",
       "    '8',\n",
       "    '49.700598802395206',\n",
       "    4.79]}},\n",
       " {'London, 25-34': {'values': ['842',\n",
       "    '84813.0',\n",
       "    '24',\n",
       "    '59.14489311163895',\n",
       "    2.85]}},\n",
       " {'London, 35-44': {'values': ['482',\n",
       "    '56008.0',\n",
       "    '14',\n",
       "    '54.77178423236515',\n",
       "    2.9]}},\n",
       " {'London, 45-54': {'values': ['205',\n",
       "    '26525.0',\n",
       "    '3',\n",
       "    '55.60975609756098',\n",
       "    1.46]}},\n",
       " {'London, 55-64': {'values': ['37',\n",
       "    '3329.0',\n",
       "    '0',\n",
       "    '48.64864864864865',\n",
       "    0.0]}},\n",
       " {'London, 65+': {'values': ['15', '2224.0', '1', '66.66666666666666', 6.67]}}]"
      ]
     },
     "execution_count": 368,
     "metadata": {},
     "output_type": "execute_result"
    }
   ],
   "source": [
    "values_list = []\n",
    "for group in input_ugroups_data:\n",
    "    new_dim_name = group['dimensions'][0] + \", \" + group['dimensions'][1]\n",
    "    group[new_dim_name] = group['metrics'][0]\n",
    "    del group['dimensions']\n",
    "    del group['metrics']\n",
    "    \n",
    "    conv_rate = round(float(int(group[new_dim_name]['values'][2])/int(group[new_dim_name]['values'][0])*100),2)\n",
    "    values_list.append(group[new_dim_name]['values'])\n",
    "\n",
    "    group[new_dim_name]['values'].append(conv_rate)\n",
    "    \n",
    "    \n",
    "#values_list    \n",
    "input_ugroups_data"
   ]
  },
  {
   "cell_type": "code",
   "execution_count": 369,
   "metadata": {
    "collapsed": false
   },
   "outputs": [],
   "source": [
    "# Define each metric dict\n",
    "\n",
    "ugroups_data = {}\n",
    "\n",
    "for ugroup in input_ugroups_data:\n",
    "    #print (ugroup)\n",
    "    \n",
    "    for gr in ugroup:\n",
    "        ugroups_data[gr] = {'sessions':0,\n",
    "                       'duration':0,\n",
    "                       'bounce rate':0,\n",
    "                       'conversions':0,\n",
    "                       'conversion rate':0}\n",
    "        \n",
    "        ugroups_data[gr]['sessions'] = int(ugroup[gr]['values'][0])\n",
    "        ugroups_data[gr]['duration'] = float(ugroup[gr]['values'][1])\n",
    "        ugroups_data[gr]['conversions'] = int(ugroup[gr]['values'][2])\n",
    "        ugroups_data[gr]['bounce rate'] = float(ugroup[gr]['values'][3])\n",
    "        ugroups_data[gr]['conversion rate'] = float(ugroup[gr]['values'][4])\n",
    "        \n",
    "#ugroups_data"
   ]
  },
  {
   "cell_type": "code",
   "execution_count": 370,
   "metadata": {
    "collapsed": false
   },
   "outputs": [
    {
     "data": {
      "text/plain": [
       "['(not set), 25-34',\n",
       " '(not set), 35-44',\n",
       " 'Croydon, 18-24',\n",
       " 'Croydon, 25-34',\n",
       " 'Croydon, 35-44',\n",
       " 'Croydon, 45-54',\n",
       " 'Croydon, 55-64',\n",
       " 'Hove, 35-44',\n",
       " 'London, 18-24',\n",
       " 'London, 25-34',\n",
       " 'London, 35-44',\n",
       " 'London, 45-54',\n",
       " 'London, 55-64',\n",
       " 'London, 65+']"
      ]
     },
     "execution_count": 370,
     "metadata": {},
     "output_type": "execute_result"
    }
   ],
   "source": [
    "rows = list(ugroups_data.keys())\n",
    "rows"
   ]
  },
  {
   "cell_type": "code",
   "execution_count": 371,
   "metadata": {
    "collapsed": false
   },
   "outputs": [
    {
     "data": {
      "text/plain": [
       "['sessions', 'duration', 'bounce rate', 'conversions', 'conversion rate']"
      ]
     },
     "execution_count": 371,
     "metadata": {},
     "output_type": "execute_result"
    }
   ],
   "source": [
    "import collections\n",
    "from collections import OrderedDict\n",
    "\n",
    "columns = []\n",
    "for u in ugroups_data:\n",
    "    #print (test[r])\n",
    "    for metric in ugroups_data[u]:\n",
    "        columns.append(metric)\n",
    "    \n",
    "columns = list(OrderedDict.fromkeys(columns))    \n",
    "columns"
   ]
  },
  {
   "cell_type": "code",
   "execution_count": 233,
   "metadata": {
    "collapsed": true
   },
   "outputs": [],
   "source": [
    "import pandas as pd"
   ]
  },
  {
   "cell_type": "code",
   "execution_count": 374,
   "metadata": {
    "collapsed": false
   },
   "outputs": [
    {
     "data": {
      "text/html": [
       "<div>\n",
       "<table border=\"1\" class=\"dataframe\">\n",
       "  <thead>\n",
       "    <tr style=\"text-align: right;\">\n",
       "      <th></th>\n",
       "      <th>sessions</th>\n",
       "      <th>duration</th>\n",
       "      <th>bounce rate</th>\n",
       "      <th>conversions</th>\n",
       "      <th>conversion rate</th>\n",
       "    </tr>\n",
       "  </thead>\n",
       "  <tbody>\n",
       "    <tr>\n",
       "      <th>(not set), 25-34</th>\n",
       "      <td>27</td>\n",
       "      <td>1848</td>\n",
       "      <td>1</td>\n",
       "      <td>62.962963</td>\n",
       "      <td>3.70</td>\n",
       "    </tr>\n",
       "    <tr>\n",
       "      <th>(not set), 35-44</th>\n",
       "      <td>23</td>\n",
       "      <td>1790</td>\n",
       "      <td>1</td>\n",
       "      <td>52.173913</td>\n",
       "      <td>4.35</td>\n",
       "    </tr>\n",
       "    <tr>\n",
       "      <th>Croydon, 18-24</th>\n",
       "      <td>101</td>\n",
       "      <td>10047</td>\n",
       "      <td>4</td>\n",
       "      <td>41.584158</td>\n",
       "      <td>3.96</td>\n",
       "    </tr>\n",
       "    <tr>\n",
       "      <th>Croydon, 25-34</th>\n",
       "      <td>334</td>\n",
       "      <td>62737</td>\n",
       "      <td>17</td>\n",
       "      <td>47.904192</td>\n",
       "      <td>5.09</td>\n",
       "    </tr>\n",
       "    <tr>\n",
       "      <th>Croydon, 35-44</th>\n",
       "      <td>223</td>\n",
       "      <td>34564</td>\n",
       "      <td>7</td>\n",
       "      <td>43.049327</td>\n",
       "      <td>3.14</td>\n",
       "    </tr>\n",
       "    <tr>\n",
       "      <th>Croydon, 45-54</th>\n",
       "      <td>90</td>\n",
       "      <td>14131</td>\n",
       "      <td>2</td>\n",
       "      <td>45.555556</td>\n",
       "      <td>2.22</td>\n",
       "    </tr>\n",
       "    <tr>\n",
       "      <th>Croydon, 55-64</th>\n",
       "      <td>32</td>\n",
       "      <td>1932</td>\n",
       "      <td>1</td>\n",
       "      <td>53.125000</td>\n",
       "      <td>3.12</td>\n",
       "    </tr>\n",
       "    <tr>\n",
       "      <th>Hove, 35-44</th>\n",
       "      <td>12</td>\n",
       "      <td>833</td>\n",
       "      <td>1</td>\n",
       "      <td>16.666667</td>\n",
       "      <td>8.33</td>\n",
       "    </tr>\n",
       "    <tr>\n",
       "      <th>London, 18-24</th>\n",
       "      <td>167</td>\n",
       "      <td>29335</td>\n",
       "      <td>8</td>\n",
       "      <td>49.700599</td>\n",
       "      <td>4.79</td>\n",
       "    </tr>\n",
       "    <tr>\n",
       "      <th>London, 25-34</th>\n",
       "      <td>842</td>\n",
       "      <td>84813</td>\n",
       "      <td>24</td>\n",
       "      <td>59.144893</td>\n",
       "      <td>2.85</td>\n",
       "    </tr>\n",
       "    <tr>\n",
       "      <th>London, 35-44</th>\n",
       "      <td>482</td>\n",
       "      <td>56008</td>\n",
       "      <td>14</td>\n",
       "      <td>54.771784</td>\n",
       "      <td>2.90</td>\n",
       "    </tr>\n",
       "    <tr>\n",
       "      <th>London, 45-54</th>\n",
       "      <td>205</td>\n",
       "      <td>26525</td>\n",
       "      <td>3</td>\n",
       "      <td>55.609756</td>\n",
       "      <td>1.46</td>\n",
       "    </tr>\n",
       "    <tr>\n",
       "      <th>London, 55-64</th>\n",
       "      <td>37</td>\n",
       "      <td>3329</td>\n",
       "      <td>0</td>\n",
       "      <td>48.648649</td>\n",
       "      <td>0.00</td>\n",
       "    </tr>\n",
       "    <tr>\n",
       "      <th>London, 65+</th>\n",
       "      <td>15</td>\n",
       "      <td>2224</td>\n",
       "      <td>1</td>\n",
       "      <td>66.666667</td>\n",
       "      <td>6.67</td>\n",
       "    </tr>\n",
       "  </tbody>\n",
       "</table>\n",
       "</div>"
      ],
      "text/plain": [
       "                  sessions  duration  bounce rate  conversions  \\\n",
       "(not set), 25-34        27      1848            1    62.962963   \n",
       "(not set), 35-44        23      1790            1    52.173913   \n",
       "Croydon, 18-24         101     10047            4    41.584158   \n",
       "Croydon, 25-34         334     62737           17    47.904192   \n",
       "Croydon, 35-44         223     34564            7    43.049327   \n",
       "Croydon, 45-54          90     14131            2    45.555556   \n",
       "Croydon, 55-64          32      1932            1    53.125000   \n",
       "Hove, 35-44             12       833            1    16.666667   \n",
       "London, 18-24          167     29335            8    49.700599   \n",
       "London, 25-34          842     84813           24    59.144893   \n",
       "London, 35-44          482     56008           14    54.771784   \n",
       "London, 45-54          205     26525            3    55.609756   \n",
       "London, 55-64           37      3329            0    48.648649   \n",
       "London, 65+             15      2224            1    66.666667   \n",
       "\n",
       "                  conversion rate  \n",
       "(not set), 25-34             3.70  \n",
       "(not set), 35-44             4.35  \n",
       "Croydon, 18-24               3.96  \n",
       "Croydon, 25-34               5.09  \n",
       "Croydon, 35-44               3.14  \n",
       "Croydon, 45-54               2.22  \n",
       "Croydon, 55-64               3.12  \n",
       "Hove, 35-44                  8.33  \n",
       "London, 18-24                4.79  \n",
       "London, 25-34                2.85  \n",
       "London, 35-44                2.90  \n",
       "London, 45-54                1.46  \n",
       "London, 55-64                0.00  \n",
       "London, 65+                  6.67  "
      ]
     },
     "execution_count": 374,
     "metadata": {},
     "output_type": "execute_result"
    }
   ],
   "source": [
    "df = pd.DataFrame(values_list,\n",
    "                  index = rows,\n",
    "                  columns = columns)\n",
    "\n",
    "df.to_json(orient='split')\n",
    "pd.read_json(_, orient='split')"
   ]
  },
  {
   "cell_type": "code",
   "execution_count": null,
   "metadata": {
    "collapsed": true
   },
   "outputs": [],
   "source": []
  },
  {
   "cell_type": "code",
   "execution_count": null,
   "metadata": {
    "collapsed": true
   },
   "outputs": [],
   "source": []
  },
  {
   "cell_type": "code",
   "execution_count": null,
   "metadata": {
    "collapsed": true
   },
   "outputs": [],
   "source": []
  },
  {
   "cell_type": "code",
   "execution_count": 14,
   "metadata": {
    "collapsed": false
   },
   "outputs": [],
   "source": [
    "import numpy as np\n",
    " \n",
    "def cluster_points(X, mu):\n",
    "    clusters  = {}\n",
    "    for x in X:\n",
    "        bestmukey = min([(i[0], np.linalg.norm(x-mu[i[0]])) \\\n",
    "                    for i in enumerate(mu)], key=lambda t:t[1])[0]\n",
    "        try:\n",
    "            clusters[bestmukey].append(x)\n",
    "        except KeyError:\n",
    "            clusters[bestmukey] = [x]\n",
    "    return clusters\n",
    " \n",
    "def reevaluate_centers(mu, clusters):\n",
    "    newmu = []\n",
    "    keys = sorted(clusters.keys())\n",
    "    for k in keys:\n",
    "        newmu.append(np.mean(clusters[k], axis = 0))\n",
    "    return newmu\n",
    "\n",
    "def has_converged(mu, oldmu):\n",
    "    return set([tuple(a) for a in mu]) == set([tuple(a) for a in oldmu])\n",
    "\n",
    "def find_centers(X, K):\n",
    "    # Initialize to K random centers\n",
    "    oldmu = random.sample(X, K)\n",
    "    mu = random.sample(X, K)\n",
    "    while not has_converged(mu, oldmu):\n",
    "        oldmu = mu\n",
    "        # Assign all points in X to clusters\n",
    "        clusters = cluster_points(X, mu)\n",
    "        # Reevaluate centers\n",
    "        mu = reevaluate_centers(oldmu, clusters)\n",
    "    return(mu, clusters)"
   ]
  },
  {
   "cell_type": "code",
   "execution_count": 15,
   "metadata": {
    "collapsed": false
   },
   "outputs": [],
   "source": [
    "import random\n",
    " \n",
    "def init_board(N):\n",
    "    X = np.array([(random.uniform(-1, 1), random.uniform(-1, 1)) for i in range(N)])\n",
    "    return X"
   ]
  },
  {
   "cell_type": "code",
   "execution_count": 16,
   "metadata": {
    "collapsed": true
   },
   "outputs": [],
   "source": [
    "def init_board_gauss(N, k):\n",
    "    n = float(N)/k\n",
    "    X = []\n",
    "    for i in range(k):\n",
    "        c = (random.uniform(-1, 1), random.uniform(-1, 1))\n",
    "        s = random.uniform(0.05,0.5)\n",
    "        x = []\n",
    "        while len(x) < n:\n",
    "            a, b = np.array([np.random.normal(c[0], s), np.random.normal(c[1], s)])\n",
    "            # Continue drawing points from the distribution in the range [-1,1]\n",
    "            if abs(a) < 1 and abs(b) < 1:\n",
    "                x.append([a,b])\n",
    "        X.extend(x)\n",
    "    X = np.array(X)[:N]\n",
    "    return X"
   ]
  },
  {
   "cell_type": "code",
   "execution_count": 4,
   "metadata": {
    "collapsed": false
   },
   "outputs": [
    {
     "ename": "ModuleNotFoundError",
     "evalue": "No module named 'pybrain'",
     "output_type": "error",
     "traceback": [
      "\u001b[0;31m---------------------------------------------------------------------------\u001b[0m",
      "\u001b[0;31mModuleNotFoundError\u001b[0m                       Traceback (most recent call last)",
      "\u001b[0;32m<ipython-input-4-cd3e1c99c440>\u001b[0m in \u001b[0;36m<module>\u001b[0;34m()\u001b[0m\n\u001b[0;32m----> 1\u001b[0;31m \u001b[1;32mimport\u001b[0m \u001b[0mpybrain\u001b[0m\u001b[1;33m\u001b[0m\u001b[0m\n\u001b[0m\u001b[1;32m      2\u001b[0m \u001b[0mdir\u001b[0m\u001b[1;33m(\u001b[0m\u001b[0mpybrain\u001b[0m\u001b[1;33m)\u001b[0m\u001b[1;33m\u001b[0m\u001b[0m\n",
      "\u001b[0;31mModuleNotFoundError\u001b[0m: No module named 'pybrain'"
     ]
    }
   ],
   "source": [
    "import pybrain\n",
    "dir(pybrain)"
   ]
  },
  {
   "cell_type": "code",
   "execution_count": null,
   "metadata": {
    "collapsed": true
   },
   "outputs": [],
   "source": []
  }
 ],
 "metadata": {
  "kernelspec": {
   "display_name": "Python 3",
   "language": "python",
   "name": "python3"
  },
  "language_info": {
   "codemirror_mode": {
    "name": "ipython",
    "version": 3
   },
   "file_extension": ".py",
   "mimetype": "text/x-python",
   "name": "python",
   "nbconvert_exporter": "python",
   "pygments_lexer": "ipython3",
   "version": "3.6.0"
  }
 },
 "nbformat": 4,
 "nbformat_minor": 2
}
