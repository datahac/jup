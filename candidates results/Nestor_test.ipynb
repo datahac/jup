{
 "cells": [
  {
   "cell_type": "code",
   "execution_count": 1,
   "metadata": {
    "collapsed": true
   },
   "outputs": [],
   "source": [
    "import json\n",
    "import pandas as pd\n",
    "import matplotlib.pyplot as plt\n",
    "%matplotlib inline\n",
    "from pprint import pprint"
   ]
  },
  {
   "cell_type": "code",
   "execution_count": 2,
   "metadata": {
    "collapsed": false
   },
   "outputs": [
    {
     "name": "stdout",
     "output_type": "stream",
     "text": [
      "{'reports': [{'columnHeader': {'dimensions': ['ga:pagePath'],\n",
      "                               'metricHeader': {'metricHeaderEntries': [{'name': 'ga:sessions',\n",
      "                                                                         'type': 'INTEGER'}]}},\n",
      "              'data': {'rows': [{'dimensions': ['/'],\n",
      "                                 'metrics': [{'values': ['5925']}]},\n",
      "                                {'dimensions': ['/?_hsenc=p2ANqtz-_McBb_ag9eyaYD3mJjDG7G_uB3uhgGcsBxi15N7Dkx2CB6Q4EicvyM4qxz_QhoX49gt27HZU9461DeUyoMURHz597MYA&_hsmi=42202727'],\n",
      "                                 'metrics': [{'values': ['1']}]},\n",
      "                                {'dimensions': ['/?_hsenc=p2ANqtz-_ORc__Ui5VKSGvLO72LiNTFW98hg-mQlkIsltDFF4bZnKtFg4qvG21fhsL8zvY5rcQaRGke58VTsOsZTHhcAw7YWQMDvVnC8flaNVmXtZ3Pt9_sRI&_hsmi=45155107'],\n",
      "                                 'metrics': [{'values': ['1']}]},\n",
      "                                {'dimensions': ['/?_hsenc=p2ANqtz-_PMnaFvC1MTCPb_RghCCNcPyb6VHPUfs1AGacdBEc6k4WIkLbn_u24M5CG820anvWE4-jQa-2c2IEUNpl9Xqln0NruPA&_hsmi=42202727'],\n",
      "                                 'metrics': [{'values': ['1']}]},\n",
      "                                {'dimensions': ['/?_hsenc=p2ANqtz--3SZ9_TxAeV_6dUflCeBmtEy9p5-kx7gJidd5Ibv-WOsLnzj_uCiZtdhRikZqTRif43CkxFcza6g657KSMlorVQiMBEg&_hsmi=45145424'],\n",
      "                                 'metrics': [{'values': ['1']}]},\n",
      "                                {'dimensions': ['/?_hsenc=p2ANqtz--5qSlXatRwmauQbFfrahRUIfDCf0Sr03obAlY44VJRH5EId-A3BprJhTJXbEJ4KaVk0DPxxpp6r6sXB9RVDtgZeDJXeQ&_hsmi=45155107'],\n",
      "                                 'metrics': [{'values': ['1']}]},\n",
      "                                {'dimensions': ['/?_hsenc=p2ANqtz--7jiNooHo7FlMd6hWQJ9lQ4YUTCEpBhXLKmoZXZwT8ceD_LFsoPxX3lxNtufY9-q6EQvsyGq0nstD-mq_LHIX3sUSUirBYOEP3ZIhOQ1zQkts8s2Y&_hsmi=45145424'],\n",
      "                                 'metrics': [{'values': ['1']}]},\n",
      "                                {'dimensions': ['/?_hsenc=p2ANqtz-8cXEz7dOC7R8Rn0Z1ursKJbEJXbIM9-J_DmmhjhMfNNtV-x7SIG0PTSiax05Wb5NQQs5lXV8J7VXQLkLFMROPILH01fw&_hsmi=45155107'],\n",
      "                                 'metrics': [{'values': ['1']}]},\n",
      "                                {'dimensions': ['/?_hsenc=p2ANqtz-8v6U0mczdHFIUhMyXIDy3wUfa-ZUxjJnQpdswsm8xGtqURMrq6SsUZDJ2Pd6JY9RHOrME0FHf2BZQX_GbQisqcaifxHg&_hsmi=45155107'],\n",
      "                                 'metrics': [{'values': ['1']}]},\n",
      "                                {'dimensions': ['/?_hsenc=p2ANqtz-9L_dXES2vJOjXvDV1KF1GweVEyHvneXaMmu_-a73CHsTcA8sBZ4nfsMSJZgE4BRwvWHdW3kCGFTordfdwC-_7cRgJbsQ&_hsmi=45145424'],\n",
      "                                 'metrics': [{'values': ['1']}]},\n",
      "                                {'dimensions': ['/?_hsenc=p2ANqtz-9MN7HnoJ9kpuvsMGtK1ocWm95ICOHZYyOj8Y3vGUdV_ZqlQEgCQD9acCrN2_Ynz3dKDWr6kFJ0r9fYlxjyZCqr95UmLe0x5RBJKnbRobUgIsOz_4Y&_hsmi=42202727'],\n",
      "                                 'metrics': [{'values': ['1']}]},\n",
      "                                {'dimensions': ['/apage'],\n",
      "                                 'metrics': [{'values': ['1']}]},\n",
      "                                {'dimensions': ['/api/v1/page/html?roomHash=611fc30b6efe07edea8c301d0590d6eef9bd2c0f6feffa7f932bceb75c2d8e98&variation=A&responsiveMode=null'],\n",
      "                                 'metrics': [{'values': ['3']}]},\n",
      "                                {'dimensions': ['/BYTE'],\n",
      "                                 'metrics': [{'values': ['5']}]},\n",
      "                                {'dimensions': ['/coffeawrds'],\n",
      "                                 'metrics': [{'values': ['1']}]},\n",
      "                                {'dimensions': ['/coffee'],\n",
      "                                 'metrics': [{'values': ['1']}]},\n",
      "                                {'dimensions': ['/coffeeaward'],\n",
      "                                 'metrics': [{'values': ['1']}]},\n",
      "                                {'dimensions': ['/CoffeeAwards'],\n",
      "                                 'metrics': [{'values': ['13']}]},\n",
      "                                {'dimensions': ['/coffeeawards.php'],\n",
      "                                 'metrics': [{'values': ['2']}]},\n",
      "                                {'dimensions': ['/coffeeswards'],\n",
      "                                 'metrics': [{'values': ['1']}]},\n",
      "                                {'dimensions': ['/cro'],\n",
      "                                 'metrics': [{'values': ['4']}]},\n",
      "                                {'dimensions': ['/en_us/article/google-wins-legal-battle-against-pro-trump-spammer-over-the-letter-g'],\n",
      "                                 'metrics': [{'values': ['1']}]},\n",
      "                                {'dimensions': ['/f'],\n",
      "                                 'metrics': [{'values': ['1']}]},\n",
      "                                {'dimensions': ['/f?_hsenc=p2ANqtz-_1UCYA4kBE9MhrKrjFFnG8wJi39lmmN--gjM_kcklm1Wehl4RGXV8ndu6_z3npbKyvClqbxJURi7vETChCZ8Z7SPrnvg&_hsmi=42202779'],\n",
      "                                 'metrics': [{'values': ['1']}]},\n",
      "                                {'dimensions': ['/f?_hsenc=p2ANqtz-_7G__6Fu-hdAW_QDTCGsWHLFw-s0J0G0BaIsIu3wOkys-vre6bnNYsOAXda6F7PZke4Wne7ZB0cAJmMj7C1FeAIavg7-7ZnIMUPMoLgQLVyU45R8A&_hsmi=42202779'],\n",
      "                                 'metrics': [{'values': ['1']}]},\n",
      "                                {'dimensions': ['/f?_hsenc=p2ANqtz-_KHuFCrySSUj6owG5YovjZ72Lm9Q3loiH70CIUdUaLNKavgM3dcBXLeom4Wn047Lck984ngSuBqsZTiT2M5xBoHNrWKBX9sO-8O9aztiWt-jYC_Cw&_hsmi=42202779'],\n",
      "                                 'metrics': [{'values': ['1']}]},\n",
      "                                {'dimensions': ['/f?_hsenc=p2ANqtz-_kpjrIf3w91oSb6OZ1ffFcixc8rD38wVBF9OUaZO6xLw97wlKt-G0j14I3smruA5LgrCrSg1eJtUSoy3fjXZDzADkpTehFhS2kQ8v4-aOsq-88x5s&_hsmi=42202779'],\n",
      "                                 'metrics': [{'values': ['1']}]},\n",
      "                                {'dimensions': ['/f?_hsenc=p2ANqtz--EaTY5uMaCCENlHdZrqjWU87gsqIjB931oqY63YO16lzxdVOsHWdh9vwDC4oKLDbjgef1oqp7P7oiiU9mztVv9ZIQ06DeFoE83DnzAeng8ryrEvV0&_hsmi=42202779'],\n",
      "                                 'metrics': [{'values': ['1']}]},\n",
      "                                {'dimensions': ['/f?_hsenc=p2ANqtz--Fmzrt-is6YUkQDiyPm58tfNZI4Owhaobos17zqlKhCvvgmolMpZ4T9i8uN0diAotHwLyVzrLXpvdQNOyfZO7HalvQdA&_hsmi=42202779'],\n",
      "                                 'metrics': [{'values': ['1']}]},\n",
      "                                {'dimensions': ['/f?_hsenc=p2ANqtz--r-v1KNdidC5MRXxUbpNvKNUPZHrmc1BBM2L07bdEh9x0qmMaXCmyKhLW4JaqkJXug5MBWb-Vq4U4pRX6g8RAjEaJuIt-7fIihR3cytFlVY2N0acc&_hsmi=42202779'],\n",
      "                                 'metrics': [{'values': ['2']}]},\n",
      "                                {'dimensions': ['/f?_hsenc=p2ANqtz--yWxlJiqKw6qLxHn9HnAliavqXd5zkUGepQhAqizxaAzN34LOn8rEQ0Dm5RtSJzVZ30QYk4orMN3lyMgbM6JJfCewqvQYIiODjjfu47iKD67c2iic&_hsmi=42202779'],\n",
      "                                 'metrics': [{'values': ['1']}]},\n",
      "                                {'dimensions': ['/f?_hsenc=p2ANqtz-86i5FI8qBJdD_t64nguhhjhOov-hf1IPpyV26yrEtWbMFya66lMUD4AWTt61AeXGWaM234bmzZanig122PbTm_mr_unQ&_hsmi=42202779'],\n",
      "                                 'metrics': [{'values': ['1']}]},\n",
      "                                {'dimensions': ['/f?_hsenc=p2ANqtz-8n7M1UT4lKodEVHxtg_xPPAdosXCNKndXQRJ7vOEQbqhudVf-EMsbbw8tvEPHAwppxkH_nKKGtpVuyTgWln7tsfqyIcg&_hsmi=42202779'],\n",
      "                                 'metrics': [{'values': ['1']}]},\n",
      "                                {'dimensions': ['/f?_hsenc=p2ANqtz-8r8DJGe2dOKVOvqLA0P41_zTaNrnqIAroB1PvSAZkNWC0JxdDd-hm02aOhBwaGjITXCtBfY_ni_t2Yei_hyrOBtAuLpg&_hsmi=42202779'],\n",
      "                                 'metrics': [{'values': ['1']}]},\n",
      "                                {'dimensions': ['/f?_hsenc=p2ANqtz-9-ml0xW_uInx74E0sCS8Dr_QFbO2ioMoL-g5ysT4V5Q2V0iZdQvFCwNkGH9JdmAgVbABac-4RZMJdEwVWV9pZvxJjnWg&_hsmi=42202779'],\n",
      "                                 'metrics': [{'values': ['1']}]},\n",
      "                                {'dimensions': ['/f?_hsenc=p2ANqtz-94T5q6sCVIPbizZXpy8nGenRB9lqiLfHeBfNuwGsVW6sUU9VPQWiV32BxAMODssrtK2xsx9R-nRuBXB9HlAolFUKMYFA&_hsmi=42202779'],\n",
      "                                 'metrics': [{'values': ['1']}]},\n",
      "                                {'dimensions': ['/f?_hsenc=p2ANqtz-9NREL2hMY7qh4lQdA6lronzFISEUO9Q2OAvaL8P4wuFsYoTNpmRdyHVFysIJ2LQS5lr8EyFa9G3eL3zm9HtWZo27Vn-g&_hsmi=42202779'],\n",
      "                                 'metrics': [{'values': ['1']}]},\n",
      "                                {'dimensions': ['/f?_hsenc=p2ANqtz-9op2ESwofMQMdqtCf_fL_UleMMStplEPtbDlamlXdXiIukiY7nYICCEo3xOW_ibAL1X76gYPFXAkNPBD-Z7FEQ6ULjW2PBHlXeoCLt10B2O5TnDK0&_hsmi=42202779'],\n",
      "                                 'metrics': [{'values': ['1']}]},\n",
      "                                {'dimensions': ['/free-web-scan.php'],\n",
      "                                 'metrics': [{'values': ['5']}]},\n",
      "                                {'dimensions': ['/media/OurFabMembers/'],\n",
      "                                 'metrics': [{'values': ['1']}]},\n",
      "                                {'dimensions': ['/media/rushes/'],\n",
      "                                 'metrics': [{'values': ['1']}]},\n",
      "                                {'dimensions': ['/media/rushes/thumbnails/'],\n",
      "                                 'metrics': [{'values': ['1']}]},\n",
      "                                {'dimensions': ['/ouramazingteam'],\n",
      "                                 'metrics': [{'values': ['1']}]},\n",
      "                                {'dimensions': ['/ourfabmembers'],\n",
      "                                 'metrics': [{'values': ['1']}]},\n",
      "                                {'dimensions': ['/portfolio-single-gallery.html'],\n",
      "                                 'metrics': [{'values': ['2']}]},\n",
      "                                {'dimensions': ['/portfolio-single.html'],\n",
      "                                 'metrics': [{'values': ['1']}]},\n",
      "                                {'dimensions': ['/printer'],\n",
      "                                 'metrics': [{'values': ['1']}]},\n",
      "                                {'dimensions': ['/search?q=cache:9Se28Bsen5YJ:tmrw.co/+&cd=1&hl=en&ct=clnk&gl=uk'],\n",
      "                                 'metrics': [{'values': ['1']}]},\n",
      "                                {'dimensions': ['/sharebutton.to'],\n",
      "                                 'metrics': [{'values': ['10']}]},\n",
      "                                {'dimensions': ['/staging/'],\n",
      "                                 'metrics': [{'values': ['5']}]},\n",
      "                                {'dimensions': ['/staging/2. live '\n",
      "                                                'site/TMRW_Byte_Cafe.php'],\n",
      "                                 'metrics': [{'values': ['1']}]},\n",
      "                                {'dimensions': ['/strike'],\n",
      "                                 'metrics': [{'values': ['1']}]},\n",
      "                                {'dimensions': ['/subscribe.php'],\n",
      "                                 'metrics': [{'values': ['1']}]},\n",
      "                                {'dimensions': ['/subscriube'],\n",
      "                                 'metrics': [{'values': ['1']}]},\n",
      "                                {'dimensions': ['/tmrw_byte_cafe.php'],\n",
      "                                 'metrics': [{'values': ['1']}]},\n",
      "                                {'dimensions': ['/TMRW_Byte_Cafe.php'],\n",
      "                                 'metrics': [{'values': ['270']}]},\n",
      "                                {'dimensions': ['/TMRW_Byte_Cafe.php Croydon'],\n",
      "                                 'metrics': [{'values': ['1']}]},\n",
      "                                {'dimensions': ['/tmrw_faqs.php'],\n",
      "                                 'metrics': [{'values': ['1']}]},\n",
      "                                {'dimensions': ['/TMRW_FAQs.php'],\n",
      "                                 'metrics': [{'values': ['129']}]},\n",
      "                                {'dimensions': ['/TMRW_Get_in_touch'],\n",
      "                                 'metrics': [{'values': ['1']}]},\n",
      "                                {'dimensions': ['/TMRW_Get_in_touch.php'],\n",
      "                                 'metrics': [{'values': ['4']}]},\n",
      "                                {'dimensions': ['/TMRW_Images/TMRW_Gallery_Images/TMRW_Offices/private_office_in-coworking_space_TMRW_croydon_004.jpg'],\n",
      "                                 'metrics': [{'values': ['2']}]},\n",
      "                                {'dimensions': ['/TMRW_Images/TMRW_Gallery_Images/TMRW_Offices/private-offices_in_coworking_space_tmrw_croydon_007.jpg'],\n",
      "                                 'metrics': [{'values': ['1']}]},\n",
      "                                {'dimensions': ['/TMRW_subscribe.php'],\n",
      "                                 'metrics': [{'values': ['2']}]},\n",
      "                                {'dimensions': ['/tmrw_the_team.php'],\n",
      "                                 'metrics': [{'values': ['1']}]},\n",
      "                                {'dimensions': ['/TMRW_the_team.php'],\n",
      "                                 'metrics': [{'values': ['140']}]},\n",
      "                                {'dimensions': ['/TMRW_trainstrike_form.php'],\n",
      "                                 'metrics': [{'values': ['3']}]},\n",
      "                                {'dimensions': ['/TMRWpeople1.php'],\n",
      "                                 'metrics': [{'values': ['2']}]},\n",
      "                                {'dimensions': ['/trainstrike'],\n",
      "                                 'metrics': [{'values': ['2']}]},\n",
      "                                {'dimensions': ['/trainstrike_form.php'],\n",
      "                                 'metrics': [{'values': ['1']}]},\n",
      "                                {'dimensions': ['/trainstrikes.php'],\n",
      "                                 'metrics': [{'values': ['231']}]},\n",
      "                                {'dimensions': ['/trainstrikes.php?inf_contact_key=37d743fb0e8703a972f25e1bf88ba24e9c1670a04e6fad4bbf1dfc744b2373a7'],\n",
      "                                 'metrics': [{'values': ['1']}]},\n",
      "                                {'dimensions': ['/trainstrikes.php?inf_contact_key=dd4202a772c196c27ca487b9d299fb4bc052e92cacf83cdfee0b5da024cd5b55'],\n",
      "                                 'metrics': [{'values': ['1']}]},\n",
      "                                {'dimensions': ['/voteforbyte.php'],\n",
      "                                 'metrics': [{'values': ['79']}]},\n",
      "                                {'dimensions': ['/WeWork/Guardian1.jpg'],\n",
      "                                 'metrics': [{'values': ['1']}]}],\n",
      "                       'totals': [{'values': ['6893']}]}}]}\n"
     ]
    }
   ],
   "source": [
    "# in open() you should type your own path of these files(Goal1CompletionLocation_Goal1Completions.json and\n",
    "#Sessions_Page.json'))\n",
    "with open('task_data/Goal1CompletionLocation_Goal1Completions.json') as data_file:    \n",
    "    data_goal = json.load(data_file)\n",
    "with open('task_data/Sessions_Page.json') as data_file:    \n",
    "    data_session = json.load(data_file)\n",
    "pprint(data_session)"
   ]
  },
  {
   "cell_type": "code",
   "execution_count": 3,
   "metadata": {
    "collapsed": false
   },
   "outputs": [
    {
     "name": "stdout",
     "output_type": "stream",
     "text": [
      "{'reports': [{'columnHeader': {'dimensions': ['ga:goalCompletionLocation'],\n",
      "                               'metricHeader': {'metricHeaderEntries': [{'name': 'ga:goal1Completions',\n",
      "                                                                         'type': 'INTEGER'}]}},\n",
      "              'data': {'isDataGolden': True,\n",
      "                       'maximums': [{'values': ['85']}],\n",
      "                       'minimums': [{'values': ['1']}],\n",
      "                       'rowCount': 7,\n",
      "                       'rows': [{'dimensions': ['(entrance)'],\n",
      "                                 'metrics': [{'values': ['6']}]},\n",
      "                                {'dimensions': ['/'],\n",
      "                                 'metrics': [{'values': ['85']}]},\n",
      "                                {'dimensions': ['/portfolio-single-gallery.html'],\n",
      "                                 'metrics': [{'values': ['1']}]},\n",
      "                                {'dimensions': ['/TMRW_Byte_Cafe.php'],\n",
      "                                 'metrics': [{'values': ['22']}]},\n",
      "                                {'dimensions': ['/TMRW_FAQs.php'],\n",
      "                                 'metrics': [{'values': ['24']}]},\n",
      "                                {'dimensions': ['/TMRW_Get_in_touch.php'],\n",
      "                                 'metrics': [{'values': ['3']}]},\n",
      "                                {'dimensions': ['/TMRW_the_team.php'],\n",
      "                                 'metrics': [{'values': ['5']}]}],\n",
      "                       'totals': [{'values': ['146']}]}}]}\n"
     ]
    }
   ],
   "source": [
    "pprint(data_goal)"
   ]
  },
  {
   "cell_type": "code",
   "execution_count": 6,
   "metadata": {
    "collapsed": false
   },
   "outputs": [
    {
     "data": {
      "text/html": [
       "<div>\n",
       "<table border=\"1\" class=\"dataframe\">\n",
       "  <thead>\n",
       "    <tr style=\"text-align: right;\">\n",
       "      <th></th>\n",
       "      <th>session_metrics</th>\n",
       "      <th>goal_metrics</th>\n",
       "      <th>conversion_rate</th>\n",
       "    </tr>\n",
       "    <tr>\n",
       "      <th>dimensions</th>\n",
       "      <th></th>\n",
       "      <th></th>\n",
       "      <th></th>\n",
       "    </tr>\n",
       "  </thead>\n",
       "  <tbody>\n",
       "    <tr>\n",
       "      <th>/'</th>\n",
       "      <td>5925</td>\n",
       "      <td>85</td>\n",
       "      <td>1.434599</td>\n",
       "    </tr>\n",
       "    <tr>\n",
       "      <th>/portfolio-single-gallery.html'</th>\n",
       "      <td>2</td>\n",
       "      <td>1</td>\n",
       "      <td>50.000000</td>\n",
       "    </tr>\n",
       "    <tr>\n",
       "      <th>/TMRW_Byte_Cafe.php'</th>\n",
       "      <td>270</td>\n",
       "      <td>22</td>\n",
       "      <td>8.148148</td>\n",
       "    </tr>\n",
       "    <tr>\n",
       "      <th>/TMRW_FAQs.php'</th>\n",
       "      <td>129</td>\n",
       "      <td>24</td>\n",
       "      <td>18.604651</td>\n",
       "    </tr>\n",
       "    <tr>\n",
       "      <th>/TMRW_Get_in_touch.php'</th>\n",
       "      <td>4</td>\n",
       "      <td>3</td>\n",
       "      <td>75.000000</td>\n",
       "    </tr>\n",
       "    <tr>\n",
       "      <th>/TMRW_the_team.php'</th>\n",
       "      <td>140</td>\n",
       "      <td>5</td>\n",
       "      <td>3.571429</td>\n",
       "    </tr>\n",
       "  </tbody>\n",
       "</table>\n",
       "</div>"
      ],
      "text/plain": [
       "                                 session_metrics  goal_metrics  \\\n",
       "dimensions                                                       \n",
       "/'                                          5925            85   \n",
       "/portfolio-single-gallery.html'                2             1   \n",
       "/TMRW_Byte_Cafe.php'                         270            22   \n",
       "/TMRW_FAQs.php'                              129            24   \n",
       "/TMRW_Get_in_touch.php'                        4             3   \n",
       "/TMRW_the_team.php'                          140             5   \n",
       "\n",
       "                                 conversion_rate  \n",
       "dimensions                                        \n",
       "/'                                      1.434599  \n",
       "/portfolio-single-gallery.html'        50.000000  \n",
       "/TMRW_Byte_Cafe.php'                    8.148148  \n",
       "/TMRW_FAQs.php'                        18.604651  \n",
       "/TMRW_Get_in_touch.php'                75.000000  \n",
       "/TMRW_the_team.php'                     3.571429  "
      ]
     },
     "execution_count": 6,
     "metadata": {},
     "output_type": "execute_result"
    }
   ],
   "source": [
    "data_session_rows = data_session['reports'][0]['data']['rows']\n",
    "data_goal_rows = data_goal['reports'][0]['data']['rows']\n",
    "pd_session_rows = pd.io.json.json_normalize(data_session_rows)\n",
    "pd_goal_rows = pd.io.json.json_normalize(data_goal_rows)[1:]\n",
    "pd_goal_rows['dimensions'] = pd_goal_rows['dimensions'].astype(str)\n",
    "pd_session_rows['dimensions'] = pd_session_rows['dimensions'].astype(str)\n",
    "pd_session_rows.columns = ['dimensions','session_metrics']\n",
    "pd_goal_rows.columns = ['dimensions','goal_metrics']\n",
    "pd_conversion = pd_session_rows.set_index('dimensions').join(pd_goal_rows.set_index('dimensions'), how = 'inner')\n",
    "def str_upd(test_val):\n",
    "    '''update page name'''\n",
    "    return test_val[2:-1]\n",
    "def into_num(test_val):\n",
    "    '''convert string into int in json'''\n",
    "    return int(test_val[0]['values'][0])\n",
    "pd_conversion.reset_index(inplace = True)\n",
    "pd_conversion['dimensions'] = pd_conversion['dimensions'].apply(lambda x: str_upd(x))\n",
    "pd_conversion.set_index('dimensions',inplace = True)\n",
    "pd_conversion['session_metrics'] = pd_conversion['session_metrics'].apply(lambda x: into_num(x))\n",
    "pd_conversion['goal_metrics'] = pd_conversion['goal_metrics'].apply(lambda x: into_num(x))\n",
    "pd_conversion['conversion_rate'] = pd_conversion['goal_metrics']/pd_conversion['session_metrics']*100\n",
    "pd_conversion"
   ]
  },
  {
   "cell_type": "markdown",
   "metadata": {},
   "source": [
    "# Histogram  of conversion rate for pages"
   ]
  },
  {
   "cell_type": "code",
   "execution_count": 7,
   "metadata": {
    "collapsed": false
   },
   "outputs": [
    {
     "data": {
      "text/plain": [
       "<matplotlib.axes._subplots.AxesSubplot at 0x8c86470>"
      ]
     },
     "execution_count": 7,
     "metadata": {},
     "output_type": "execute_result"
    },
    {
     "data": {
      "image/png": "[encoded data removed]",
      "text/plain": [
       "<matplotlib.figure.Figure at 0x7c36770>"
      ]
     },
     "metadata": {},
     "output_type": "display_data"
    }
   ],
   "source": [
    "pd_conversion['conversion_rate'].plot(kind = 'bar')"
   ]
  },
  {
   "cell_type": "markdown",
   "metadata": {},
   "source": [
    "# The best converting page on site"
   ]
  },
  {
   "cell_type": "code",
   "execution_count": 8,
   "metadata": {
    "collapsed": false
   },
   "outputs": [
    {
     "name": "stdout",
     "output_type": "stream",
     "text": [
      "The best converting page on your site is /TMRW_Get_in_touch.php'  with conversion rate 75.0 %.\n"
     ]
    }
   ],
   "source": [
    "print (\"The best converting page on your site is \"+ \n",
    "pd_conversion.sort_values(by = 'conversion_rate')[-1:]['conversion_rate'].index.values[0] \n",
    "+ \"  with conversion rate \"\n",
    "+str(pd_conversion.sort_values(by = 'conversion_rate')[-1:]['conversion_rate'].values[0]) +\n",
    "      \" %.\")"
   ]
  },
  {
   "cell_type": "code",
   "execution_count": null,
   "metadata": {
    "collapsed": true
   },
   "outputs": [],
   "source": []
  }
 ],
 "metadata": {
  "kernelspec": {
   "display_name": "Python 3",
   "language": "python",
   "name": "python3"
  },
  "language_info": {
   "codemirror_mode": {
    "name": "ipython",
    "version": 3
   },
   "file_extension": ".py",
   "mimetype": "text/x-python",
   "name": "python",
   "nbconvert_exporter": "python",
   "pygments_lexer": "ipython3",
   "version": "3.6.0"
  }
 },
 "nbformat": 4,
 "nbformat_minor": 0
}
