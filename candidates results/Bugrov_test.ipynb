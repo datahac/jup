{
 "cells": [
  {
   "cell_type": "code",
   "execution_count": 10,
   "metadata": {
    "collapsed": true
   },
   "outputs": [],
   "source": [
    "import json\n",
    "import pandas as pd\n",
    "from matplotlib import pylab as plt"
   ]
  },
  {
   "cell_type": "markdown",
   "metadata": {},
   "source": [
    ".загружаем файлы .json"
   ]
  },
  {
   "cell_type": "code",
   "execution_count": 11,
   "metadata": {
    "collapsed": false
   },
   "outputs": [],
   "source": [
    "path = 'task_data/Sessions_Page.json'\n",
    "path2 = 'task_data/Goal1CompletionLocation_Goal1Completions.json'\n",
    "\n",
    "with open(path, 'r') as f:\n",
    "    sessions_page = json.loads(f.read())\n",
    "\n",
    "with open(path2, 'r') as f:\n",
    "    goals_page = json.loads(f.read())"
   ]
  },
  {
   "cell_type": "markdown",
   "metadata": {},
   "source": [
    "Смотрим, где именно в файле интересующие нас данные"
   ]
  },
  {
   "cell_type": "code",
   "execution_count": 12,
   "metadata": {
    "collapsed": false
   },
   "outputs": [
    {
     "data": {
      "text/plain": [
       "[{'dimensions': ['/'], 'metrics': [{'values': ['5925']}]},\n",
       " {'dimensions': ['/?_hsenc=p2ANqtz-_McBb_ag9eyaYD3mJjDG7G_uB3uhgGcsBxi15N7Dkx2CB6Q4EicvyM4qxz_QhoX49gt27HZU9461DeUyoMURHz597MYA&_hsmi=42202727'],\n",
       "  'metrics': [{'values': ['1']}]},\n",
       " {'dimensions': ['/?_hsenc=p2ANqtz-_ORc__Ui5VKSGvLO72LiNTFW98hg-mQlkIsltDFF4bZnKtFg4qvG21fhsL8zvY5rcQaRGke58VTsOsZTHhcAw7YWQMDvVnC8flaNVmXtZ3Pt9_sRI&_hsmi=45155107'],\n",
       "  'metrics': [{'values': ['1']}]},\n",
       " {'dimensions': ['/?_hsenc=p2ANqtz-_PMnaFvC1MTCPb_RghCCNcPyb6VHPUfs1AGacdBEc6k4WIkLbn_u24M5CG820anvWE4-jQa-2c2IEUNpl9Xqln0NruPA&_hsmi=42202727'],\n",
       "  'metrics': [{'values': ['1']}]},\n",
       " {'dimensions': ['/?_hsenc=p2ANqtz--3SZ9_TxAeV_6dUflCeBmtEy9p5-kx7gJidd5Ibv-WOsLnzj_uCiZtdhRikZqTRif43CkxFcza6g657KSMlorVQiMBEg&_hsmi=45145424'],\n",
       "  'metrics': [{'values': ['1']}]},\n",
       " {'dimensions': ['/?_hsenc=p2ANqtz--5qSlXatRwmauQbFfrahRUIfDCf0Sr03obAlY44VJRH5EId-A3BprJhTJXbEJ4KaVk0DPxxpp6r6sXB9RVDtgZeDJXeQ&_hsmi=45155107'],\n",
       "  'metrics': [{'values': ['1']}]},\n",
       " {'dimensions': ['/?_hsenc=p2ANqtz--7jiNooHo7FlMd6hWQJ9lQ4YUTCEpBhXLKmoZXZwT8ceD_LFsoPxX3lxNtufY9-q6EQvsyGq0nstD-mq_LHIX3sUSUirBYOEP3ZIhOQ1zQkts8s2Y&_hsmi=45145424'],\n",
       "  'metrics': [{'values': ['1']}]},\n",
       " {'dimensions': ['/?_hsenc=p2ANqtz-8cXEz7dOC7R8Rn0Z1ursKJbEJXbIM9-J_DmmhjhMfNNtV-x7SIG0PTSiax05Wb5NQQs5lXV8J7VXQLkLFMROPILH01fw&_hsmi=45155107'],\n",
       "  'metrics': [{'values': ['1']}]},\n",
       " {'dimensions': ['/?_hsenc=p2ANqtz-8v6U0mczdHFIUhMyXIDy3wUfa-ZUxjJnQpdswsm8xGtqURMrq6SsUZDJ2Pd6JY9RHOrME0FHf2BZQX_GbQisqcaifxHg&_hsmi=45155107'],\n",
       "  'metrics': [{'values': ['1']}]},\n",
       " {'dimensions': ['/?_hsenc=p2ANqtz-9L_dXES2vJOjXvDV1KF1GweVEyHvneXaMmu_-a73CHsTcA8sBZ4nfsMSJZgE4BRwvWHdW3kCGFTordfdwC-_7cRgJbsQ&_hsmi=45145424'],\n",
       "  'metrics': [{'values': ['1']}]},\n",
       " {'dimensions': ['/?_hsenc=p2ANqtz-9MN7HnoJ9kpuvsMGtK1ocWm95ICOHZYyOj8Y3vGUdV_ZqlQEgCQD9acCrN2_Ynz3dKDWr6kFJ0r9fYlxjyZCqr95UmLe0x5RBJKnbRobUgIsOz_4Y&_hsmi=42202727'],\n",
       "  'metrics': [{'values': ['1']}]},\n",
       " {'dimensions': ['/apage'], 'metrics': [{'values': ['1']}]},\n",
       " {'dimensions': ['/api/v1/page/html?roomHash=611fc30b6efe07edea8c301d0590d6eef9bd2c0f6feffa7f932bceb75c2d8e98&variation=A&responsiveMode=null'],\n",
       "  'metrics': [{'values': ['3']}]},\n",
       " {'dimensions': ['/BYTE'], 'metrics': [{'values': ['5']}]},\n",
       " {'dimensions': ['/coffeawrds'], 'metrics': [{'values': ['1']}]},\n",
       " {'dimensions': ['/coffee'], 'metrics': [{'values': ['1']}]},\n",
       " {'dimensions': ['/coffeeaward'], 'metrics': [{'values': ['1']}]},\n",
       " {'dimensions': ['/CoffeeAwards'], 'metrics': [{'values': ['13']}]},\n",
       " {'dimensions': ['/coffeeawards.php'], 'metrics': [{'values': ['2']}]},\n",
       " {'dimensions': ['/coffeeswards'], 'metrics': [{'values': ['1']}]},\n",
       " {'dimensions': ['/cro'], 'metrics': [{'values': ['4']}]},\n",
       " {'dimensions': ['/en_us/article/google-wins-legal-battle-against-pro-trump-spammer-over-the-letter-g'],\n",
       "  'metrics': [{'values': ['1']}]},\n",
       " {'dimensions': ['/f'], 'metrics': [{'values': ['1']}]},\n",
       " {'dimensions': ['/f?_hsenc=p2ANqtz-_1UCYA4kBE9MhrKrjFFnG8wJi39lmmN--gjM_kcklm1Wehl4RGXV8ndu6_z3npbKyvClqbxJURi7vETChCZ8Z7SPrnvg&_hsmi=42202779'],\n",
       "  'metrics': [{'values': ['1']}]},\n",
       " {'dimensions': ['/f?_hsenc=p2ANqtz-_7G__6Fu-hdAW_QDTCGsWHLFw-s0J0G0BaIsIu3wOkys-vre6bnNYsOAXda6F7PZke4Wne7ZB0cAJmMj7C1FeAIavg7-7ZnIMUPMoLgQLVyU45R8A&_hsmi=42202779'],\n",
       "  'metrics': [{'values': ['1']}]},\n",
       " {'dimensions': ['/f?_hsenc=p2ANqtz-_KHuFCrySSUj6owG5YovjZ72Lm9Q3loiH70CIUdUaLNKavgM3dcBXLeom4Wn047Lck984ngSuBqsZTiT2M5xBoHNrWKBX9sO-8O9aztiWt-jYC_Cw&_hsmi=42202779'],\n",
       "  'metrics': [{'values': ['1']}]},\n",
       " {'dimensions': ['/f?_hsenc=p2ANqtz-_kpjrIf3w91oSb6OZ1ffFcixc8rD38wVBF9OUaZO6xLw97wlKt-G0j14I3smruA5LgrCrSg1eJtUSoy3fjXZDzADkpTehFhS2kQ8v4-aOsq-88x5s&_hsmi=42202779'],\n",
       "  'metrics': [{'values': ['1']}]},\n",
       " {'dimensions': ['/f?_hsenc=p2ANqtz--EaTY5uMaCCENlHdZrqjWU87gsqIjB931oqY63YO16lzxdVOsHWdh9vwDC4oKLDbjgef1oqp7P7oiiU9mztVv9ZIQ06DeFoE83DnzAeng8ryrEvV0&_hsmi=42202779'],\n",
       "  'metrics': [{'values': ['1']}]},\n",
       " {'dimensions': ['/f?_hsenc=p2ANqtz--Fmzrt-is6YUkQDiyPm58tfNZI4Owhaobos17zqlKhCvvgmolMpZ4T9i8uN0diAotHwLyVzrLXpvdQNOyfZO7HalvQdA&_hsmi=42202779'],\n",
       "  'metrics': [{'values': ['1']}]},\n",
       " {'dimensions': ['/f?_hsenc=p2ANqtz--r-v1KNdidC5MRXxUbpNvKNUPZHrmc1BBM2L07bdEh9x0qmMaXCmyKhLW4JaqkJXug5MBWb-Vq4U4pRX6g8RAjEaJuIt-7fIihR3cytFlVY2N0acc&_hsmi=42202779'],\n",
       "  'metrics': [{'values': ['2']}]},\n",
       " {'dimensions': ['/f?_hsenc=p2ANqtz--yWxlJiqKw6qLxHn9HnAliavqXd5zkUGepQhAqizxaAzN34LOn8rEQ0Dm5RtSJzVZ30QYk4orMN3lyMgbM6JJfCewqvQYIiODjjfu47iKD67c2iic&_hsmi=42202779'],\n",
       "  'metrics': [{'values': ['1']}]},\n",
       " {'dimensions': ['/f?_hsenc=p2ANqtz-86i5FI8qBJdD_t64nguhhjhOov-hf1IPpyV26yrEtWbMFya66lMUD4AWTt61AeXGWaM234bmzZanig122PbTm_mr_unQ&_hsmi=42202779'],\n",
       "  'metrics': [{'values': ['1']}]},\n",
       " {'dimensions': ['/f?_hsenc=p2ANqtz-8n7M1UT4lKodEVHxtg_xPPAdosXCNKndXQRJ7vOEQbqhudVf-EMsbbw8tvEPHAwppxkH_nKKGtpVuyTgWln7tsfqyIcg&_hsmi=42202779'],\n",
       "  'metrics': [{'values': ['1']}]},\n",
       " {'dimensions': ['/f?_hsenc=p2ANqtz-8r8DJGe2dOKVOvqLA0P41_zTaNrnqIAroB1PvSAZkNWC0JxdDd-hm02aOhBwaGjITXCtBfY_ni_t2Yei_hyrOBtAuLpg&_hsmi=42202779'],\n",
       "  'metrics': [{'values': ['1']}]},\n",
       " {'dimensions': ['/f?_hsenc=p2ANqtz-9-ml0xW_uInx74E0sCS8Dr_QFbO2ioMoL-g5ysT4V5Q2V0iZdQvFCwNkGH9JdmAgVbABac-4RZMJdEwVWV9pZvxJjnWg&_hsmi=42202779'],\n",
       "  'metrics': [{'values': ['1']}]},\n",
       " {'dimensions': ['/f?_hsenc=p2ANqtz-94T5q6sCVIPbizZXpy8nGenRB9lqiLfHeBfNuwGsVW6sUU9VPQWiV32BxAMODssrtK2xsx9R-nRuBXB9HlAolFUKMYFA&_hsmi=42202779'],\n",
       "  'metrics': [{'values': ['1']}]},\n",
       " {'dimensions': ['/f?_hsenc=p2ANqtz-9NREL2hMY7qh4lQdA6lronzFISEUO9Q2OAvaL8P4wuFsYoTNpmRdyHVFysIJ2LQS5lr8EyFa9G3eL3zm9HtWZo27Vn-g&_hsmi=42202779'],\n",
       "  'metrics': [{'values': ['1']}]},\n",
       " {'dimensions': ['/f?_hsenc=p2ANqtz-9op2ESwofMQMdqtCf_fL_UleMMStplEPtbDlamlXdXiIukiY7nYICCEo3xOW_ibAL1X76gYPFXAkNPBD-Z7FEQ6ULjW2PBHlXeoCLt10B2O5TnDK0&_hsmi=42202779'],\n",
       "  'metrics': [{'values': ['1']}]},\n",
       " {'dimensions': ['/free-web-scan.php'], 'metrics': [{'values': ['5']}]},\n",
       " {'dimensions': ['/media/OurFabMembers/'], 'metrics': [{'values': ['1']}]},\n",
       " {'dimensions': ['/media/rushes/'], 'metrics': [{'values': ['1']}]},\n",
       " {'dimensions': ['/media/rushes/thumbnails/'], 'metrics': [{'values': ['1']}]},\n",
       " {'dimensions': ['/ouramazingteam'], 'metrics': [{'values': ['1']}]},\n",
       " {'dimensions': ['/ourfabmembers'], 'metrics': [{'values': ['1']}]},\n",
       " {'dimensions': ['/portfolio-single-gallery.html'],\n",
       "  'metrics': [{'values': ['2']}]},\n",
       " {'dimensions': ['/portfolio-single.html'], 'metrics': [{'values': ['1']}]},\n",
       " {'dimensions': ['/printer'], 'metrics': [{'values': ['1']}]},\n",
       " {'dimensions': ['/search?q=cache:9Se28Bsen5YJ:tmrw.co/+&cd=1&hl=en&ct=clnk&gl=uk'],\n",
       "  'metrics': [{'values': ['1']}]},\n",
       " {'dimensions': ['/sharebutton.to'], 'metrics': [{'values': ['10']}]},\n",
       " {'dimensions': ['/staging/'], 'metrics': [{'values': ['5']}]},\n",
       " {'dimensions': ['/staging/2. live site/TMRW_Byte_Cafe.php'],\n",
       "  'metrics': [{'values': ['1']}]},\n",
       " {'dimensions': ['/strike'], 'metrics': [{'values': ['1']}]},\n",
       " {'dimensions': ['/subscribe.php'], 'metrics': [{'values': ['1']}]},\n",
       " {'dimensions': ['/subscriube'], 'metrics': [{'values': ['1']}]},\n",
       " {'dimensions': ['/tmrw_byte_cafe.php'], 'metrics': [{'values': ['1']}]},\n",
       " {'dimensions': ['/TMRW_Byte_Cafe.php'], 'metrics': [{'values': ['270']}]},\n",
       " {'dimensions': ['/TMRW_Byte_Cafe.php Croydon'],\n",
       "  'metrics': [{'values': ['1']}]},\n",
       " {'dimensions': ['/tmrw_faqs.php'], 'metrics': [{'values': ['1']}]},\n",
       " {'dimensions': ['/TMRW_FAQs.php'], 'metrics': [{'values': ['129']}]},\n",
       " {'dimensions': ['/TMRW_Get_in_touch'], 'metrics': [{'values': ['1']}]},\n",
       " {'dimensions': ['/TMRW_Get_in_touch.php'], 'metrics': [{'values': ['4']}]},\n",
       " {'dimensions': ['/TMRW_Images/TMRW_Gallery_Images/TMRW_Offices/private_office_in-coworking_space_TMRW_croydon_004.jpg'],\n",
       "  'metrics': [{'values': ['2']}]},\n",
       " {'dimensions': ['/TMRW_Images/TMRW_Gallery_Images/TMRW_Offices/private-offices_in_coworking_space_tmrw_croydon_007.jpg'],\n",
       "  'metrics': [{'values': ['1']}]},\n",
       " {'dimensions': ['/TMRW_subscribe.php'], 'metrics': [{'values': ['2']}]},\n",
       " {'dimensions': ['/tmrw_the_team.php'], 'metrics': [{'values': ['1']}]},\n",
       " {'dimensions': ['/TMRW_the_team.php'], 'metrics': [{'values': ['140']}]},\n",
       " {'dimensions': ['/TMRW_trainstrike_form.php'],\n",
       "  'metrics': [{'values': ['3']}]},\n",
       " {'dimensions': ['/TMRWpeople1.php'], 'metrics': [{'values': ['2']}]},\n",
       " {'dimensions': ['/trainstrike'], 'metrics': [{'values': ['2']}]},\n",
       " {'dimensions': ['/trainstrike_form.php'], 'metrics': [{'values': ['1']}]},\n",
       " {'dimensions': ['/trainstrikes.php'], 'metrics': [{'values': ['231']}]},\n",
       " {'dimensions': ['/trainstrikes.php?inf_contact_key=37d743fb0e8703a972f25e1bf88ba24e9c1670a04e6fad4bbf1dfc744b2373a7'],\n",
       "  'metrics': [{'values': ['1']}]},\n",
       " {'dimensions': ['/trainstrikes.php?inf_contact_key=dd4202a772c196c27ca487b9d299fb4bc052e92cacf83cdfee0b5da024cd5b55'],\n",
       "  'metrics': [{'values': ['1']}]},\n",
       " {'dimensions': ['/voteforbyte.php'], 'metrics': [{'values': ['79']}]},\n",
       " {'dimensions': ['/WeWork/Guardian1.jpg'], 'metrics': [{'values': ['1']}]}]"
      ]
     },
     "execution_count": 12,
     "metadata": {},
     "output_type": "execute_result"
    }
   ],
   "source": [
    "type (sessions_page)\n",
    "sessions_page.keys()\n",
    "sessions_page['reports'][0].keys()\n",
    "sessions_page['reports'][0]['data']['rows']"
   ]
  },
  {
   "cell_type": "markdown",
   "metadata": {},
   "source": [
    "Считываем нужные нам данные как датафреймы"
   ]
  },
  {
   "cell_type": "code",
   "execution_count": 13,
   "metadata": {
    "collapsed": false,
    "scrolled": true
   },
   "outputs": [
    {
     "data": {
      "text/html": [
       "<div>\n",
       "<table border=\"1\" class=\"dataframe\">\n",
       "  <thead>\n",
       "    <tr style=\"text-align: right;\">\n",
       "      <th></th>\n",
       "      <th>dimensions</th>\n",
       "      <th>metrics</th>\n",
       "    </tr>\n",
       "  </thead>\n",
       "  <tbody>\n",
       "    <tr>\n",
       "      <th>0</th>\n",
       "      <td>[(entrance)]</td>\n",
       "      <td>[{'values': ['6']}]</td>\n",
       "    </tr>\n",
       "    <tr>\n",
       "      <th>1</th>\n",
       "      <td>[/]</td>\n",
       "      <td>[{'values': ['85']}]</td>\n",
       "    </tr>\n",
       "    <tr>\n",
       "      <th>2</th>\n",
       "      <td>[/portfolio-single-gallery.html]</td>\n",
       "      <td>[{'values': ['1']}]</td>\n",
       "    </tr>\n",
       "    <tr>\n",
       "      <th>3</th>\n",
       "      <td>[/TMRW_Byte_Cafe.php]</td>\n",
       "      <td>[{'values': ['22']}]</td>\n",
       "    </tr>\n",
       "    <tr>\n",
       "      <th>4</th>\n",
       "      <td>[/TMRW_FAQs.php]</td>\n",
       "      <td>[{'values': ['24']}]</td>\n",
       "    </tr>\n",
       "    <tr>\n",
       "      <th>5</th>\n",
       "      <td>[/TMRW_Get_in_touch.php]</td>\n",
       "      <td>[{'values': ['3']}]</td>\n",
       "    </tr>\n",
       "    <tr>\n",
       "      <th>6</th>\n",
       "      <td>[/TMRW_the_team.php]</td>\n",
       "      <td>[{'values': ['5']}]</td>\n",
       "    </tr>\n",
       "  </tbody>\n",
       "</table>\n",
       "</div>"
      ],
      "text/plain": [
       "                         dimensions               metrics\n",
       "0                      [(entrance)]   [{'values': ['6']}]\n",
       "1                               [/]  [{'values': ['85']}]\n",
       "2  [/portfolio-single-gallery.html]   [{'values': ['1']}]\n",
       "3             [/TMRW_Byte_Cafe.php]  [{'values': ['22']}]\n",
       "4                  [/TMRW_FAQs.php]  [{'values': ['24']}]\n",
       "5          [/TMRW_Get_in_touch.php]   [{'values': ['3']}]\n",
       "6              [/TMRW_the_team.php]   [{'values': ['5']}]"
      ]
     },
     "execution_count": 13,
     "metadata": {},
     "output_type": "execute_result"
    }
   ],
   "source": [
    "sessions_df = pd.DataFrame(sessions_page['reports'][0]['data']['rows'])\n",
    "goals_df = pd.DataFrame(goals_page['reports'][0]['data']['rows'])\n",
    "#sessions_df\n",
    "goals_df"
   ]
  },
  {
   "cell_type": "markdown",
   "metadata": {},
   "source": [
    "Создаем в датафреймах отдельные столбцы с данными в удобных нам форматах."
   ]
  },
  {
   "cell_type": "code",
   "execution_count": 14,
   "metadata": {
    "collapsed": false
   },
   "outputs": [],
   "source": [
    "x=[]\n",
    "for i in sessions_df.dimensions:\n",
    "    x.append(str(i[0]))\n",
    "\n",
    "sessions_df.insert(2, 'name', x)\n",
    "\n",
    "x=[]\n",
    "for i in goals_df.dimensions:\n",
    "    x.append(str(i[0]))\n",
    "    \n",
    "goals_df.insert(2, 'name', x)"
   ]
  },
  {
   "cell_type": "code",
   "execution_count": 15,
   "metadata": {
    "collapsed": false
   },
   "outputs": [],
   "source": [
    "x=[]\n",
    "for i in sessions_df.metrics:\n",
    "    x.append(float(i[0]['values'][0]))\n",
    "\n",
    "sessions_df.insert(3, 'sessions', x)\n",
    "\n",
    "x=[]\n",
    "for i in goals_df.metrics:\n",
    "    x.append(float(i[0]['values'][0]))\n",
    "\n",
    "goals_df.insert(3, 'goals', x)"
   ]
  },
  {
   "cell_type": "markdown",
   "metadata": {},
   "source": [
    "Создаем столбцы в датафрейме с \"Goal1Complitations\", где будем хранить количество сессий и конверсию"
   ]
  },
  {
   "cell_type": "code",
   "execution_count": 16,
   "metadata": {
    "collapsed": false
   },
   "outputs": [],
   "source": [
    "goals_df.insert(4, 'sessions', 0)\n",
    "goals_df.insert(5, 'convers_rate', 0)\n"
   ]
  },
  {
   "cell_type": "markdown",
   "metadata": {},
   "source": [
    "Переносим из таблицы сессий количество сессий и считаем конверсию для каждой страницы, которая есть в \"Goal1Complitations\""
   ]
  },
  {
   "cell_type": "code",
   "execution_count": 17,
   "metadata": {
    "collapsed": false,
    "scrolled": true
   },
   "outputs": [
    {
     "name": "stderr",
     "output_type": "stream",
     "text": [
      "C:\\ProgramData\\Anaconda3\\lib\\site-packages\\ipykernel\\__main__.py:2: SettingWithCopyWarning: \n",
      "A value is trying to be set on a copy of a slice from a DataFrame\n",
      "\n",
      "See the caveats in the documentation: http://pandas.pydata.org/pandas-docs/stable/indexing.html#indexing-view-versus-copy\n",
      "  from ipykernel import kernelapp as app\n"
     ]
    }
   ],
   "source": [
    "for i in range(7):\n",
    "    goals_df.sessions[i] = sum(sessions_df.sessions[sessions_df.name==goals_df.name[i]])\n",
    "goals_df.convers_rate = goals_df.goals/goals_df.sessions*100"
   ]
  },
  {
   "cell_type": "markdown",
   "metadata": {},
   "source": [
    "Обнулим конверсию для тех страниц по которым не було сессий. В даннос случае это страница \"(entrance)\""
   ]
  },
  {
   "cell_type": "code",
   "execution_count": 18,
   "metadata": {
    "collapsed": false
   },
   "outputs": [
    {
     "name": "stderr",
     "output_type": "stream",
     "text": [
      "C:\\ProgramData\\Anaconda3\\lib\\site-packages\\ipykernel\\__main__.py:1: SettingWithCopyWarning: \n",
      "A value is trying to be set on a copy of a slice from a DataFrame\n",
      "\n",
      "See the caveats in the documentation: http://pandas.pydata.org/pandas-docs/stable/indexing.html#indexing-view-versus-copy\n",
      "  if __name__ == '__main__':\n"
     ]
    }
   ],
   "source": [
    "goals_df.convers_rate[goals_df.sessions==0] = 0"
   ]
  },
  {
   "cell_type": "code",
   "execution_count": 19,
   "metadata": {
    "collapsed": false,
    "scrolled": true
   },
   "outputs": [
    {
     "data": {
      "text/html": [
       "<div>\n",
       "<table border=\"1\" class=\"dataframe\">\n",
       "  <thead>\n",
       "    <tr style=\"text-align: right;\">\n",
       "      <th></th>\n",
       "      <th>name</th>\n",
       "      <th>convers_rate</th>\n",
       "    </tr>\n",
       "  </thead>\n",
       "  <tbody>\n",
       "    <tr>\n",
       "      <th>1</th>\n",
       "      <td>/</td>\n",
       "      <td>1.434599</td>\n",
       "    </tr>\n",
       "    <tr>\n",
       "      <th>2</th>\n",
       "      <td>/portfolio-single-gallery.html</td>\n",
       "      <td>50.000000</td>\n",
       "    </tr>\n",
       "    <tr>\n",
       "      <th>3</th>\n",
       "      <td>/TMRW_Byte_Cafe.php</td>\n",
       "      <td>8.148148</td>\n",
       "    </tr>\n",
       "    <tr>\n",
       "      <th>4</th>\n",
       "      <td>/TMRW_FAQs.php</td>\n",
       "      <td>18.604651</td>\n",
       "    </tr>\n",
       "    <tr>\n",
       "      <th>5</th>\n",
       "      <td>/TMRW_Get_in_touch.php</td>\n",
       "      <td>75.000000</td>\n",
       "    </tr>\n",
       "    <tr>\n",
       "      <th>6</th>\n",
       "      <td>/TMRW_the_team.php</td>\n",
       "      <td>3.571429</td>\n",
       "    </tr>\n",
       "  </tbody>\n",
       "</table>\n",
       "</div>"
      ],
      "text/plain": [
       "                             name  convers_rate\n",
       "1                               /      1.434599\n",
       "2  /portfolio-single-gallery.html     50.000000\n",
       "3             /TMRW_Byte_Cafe.php      8.148148\n",
       "4                  /TMRW_FAQs.php     18.604651\n",
       "5          /TMRW_Get_in_touch.php     75.000000\n",
       "6              /TMRW_the_team.php      3.571429"
      ]
     },
     "execution_count": 19,
     "metadata": {},
     "output_type": "execute_result"
    }
   ],
   "source": [
    "goals_df.ix[range(1,7),[2,5]]"
   ]
  },
  {
   "cell_type": "markdown",
   "metadata": {},
   "source": [
    "Строим график"
   ]
  },
  {
   "cell_type": "code",
   "execution_count": 20,
   "metadata": {
    "collapsed": false,
    "scrolled": true
   },
   "outputs": [
    {
     "data": {
      "image/png": "[encoded data removed]",
      "text/plain": [
       "<matplotlib.figure.Figure at 0x9699a10>"
      ]
     },
     "metadata": {},
     "output_type": "display_data"
    }
   ],
   "source": [
    "goals_df.ix[range(1,7),[2,5]].plot(kind=\"bar\", legend=False)\n",
    "plt.xticks([0, 1, 2, 3, 4, 5], goals_df.name, rotation=\"vertical\")\n",
    "plt.show()"
   ]
  },
  {
   "cell_type": "markdown",
   "metadata": {},
   "source": [
    "Выводим результат"
   ]
  },
  {
   "cell_type": "code",
   "execution_count": 22,
   "metadata": {
    "collapsed": false
   },
   "outputs": [
    {
     "name": "stdout",
     "output_type": "stream",
     "text": [
      "The best converting page on your site is \" /TMRW_Get_in_touch.ph \" with conversion rate 75.0 %\n"
     ]
    }
   ],
   "source": [
    "name = goals_df.ix[goals_df.convers_rate==max(goals_df.convers_rate),2]\n",
    "print ('The best converting page on your site is \"',str(name)[5:len(name)-28], '\" with conversion rate', max(goals_df.convers_rate),'%')"
   ]
  },
  {
   "cell_type": "code",
   "execution_count": null,
   "metadata": {
    "collapsed": true
   },
   "outputs": [],
   "source": []
  }
 ],
 "metadata": {
  "kernelspec": {
   "display_name": "Python 3",
   "language": "python",
   "name": "python3"
  },
  "language_info": {
   "codemirror_mode": {
    "name": "ipython",
    "version": 3
   },
   "file_extension": ".py",
   "mimetype": "text/x-python",
   "name": "python",
   "nbconvert_exporter": "python",
   "pygments_lexer": "ipython3",
   "version": "3.6.0"
  }
 },
 "nbformat": 4,
 "nbformat_minor": 2
}
