{
 "cells": [
  {
   "cell_type": "code",
   "execution_count": 1,
   "metadata": {
    "collapsed": false
   },
   "outputs": [
    {
     "name": "stdout",
     "output_type": "stream",
     "text": [
      "The best converting page on your site is /TMRW_Get_in_touch.php with conversion rate 75.0%\n"
     ]
    },
    {
     "data": {
      "image/png": "[encoded data removed]",
      "text/plain": [
       "<matplotlib.figure.Figure at 0x30ed570>"
      ]
     },
     "metadata": {},
     "output_type": "display_data"
    }
   ],
   "source": [
    "import pandas\n",
    "import matplotlib.pyplot as plt\n",
    "import numpy as np\n",
    "from pandas.io.json import json_normalize\n",
    "\n",
    "#gc = pandas.read_csv('Goal1CompletionLocation_Goal1Completions.csv')\n",
    "#pgs = pandas.read_csv('Sessions_Page.csv')\n",
    "#print(gc)\n",
    "#print(pgs)\n",
    "\n",
    "gc__json = pandas.read_json('task_data/Goal1CompletionLocation_Goal1Completions.json')['reports'][0]['data']['rows']\n",
    "gc_urls = json_normalize(gc__json, 'dimensions')\n",
    "gc_urls = gc_urls[0][list(range(1,gc_urls.shape[0]))] #deliting the entrance\n",
    "gcs = json_normalize(gc__json, ['metrics','values'])\n",
    "gcs = gcs[0][list(range(1,gcs.shape[0]))]\n",
    "\n",
    "pages_json = pandas.read_json('task_data/Sessions_Page.json')['reports'][0]['data']['rows']\n",
    "pages_sessions = json_normalize(pages_json, ['metrics','values'])\n",
    "pages_sessions.index = list(json_normalize(pages_json, 'dimensions')[0])\n",
    "pages_sessions = pages_sessions[pages_sessions.notnull()] #delleting nulls\n",
    "selected_pages_sesions = pages_sessions[0][list(gc_urls)]\n",
    "\n",
    "rate = 100.*np.array(pandas.to_numeric(gcs))/np.array(pandas.to_numeric(selected_pages_sesions))\n",
    "\n",
    "answerFrame = pandas.DataFrame()\n",
    "answerFrame['urls'] = gc_urls\n",
    "answerFrame['rate'] = rate\n",
    "# Target string:\n",
    "print('The best converting page on your site is '+\n",
    "      str(answerFrame['urls'][answerFrame['rate']==np.max(answerFrame['rate'])].values[0])+\n",
    "      ' with conversion rate '+str(np.max(answerFrame['rate']))+'%')\n",
    "\n",
    "#Target bar chart\n",
    "plt.figure('Target Bar chart')\n",
    "plt.bar(range(0,answerFrame.shape[0]), answerFrame['rate'], align='center')\n",
    "plt.xticks(range(0,answerFrame.shape[0]), answerFrame['urls'])\n",
    "plt.xlabel('pages (url)')\n",
    "plt.ylabel('rates (%)')\n",
    "plt.show()"
   ]
  },
  {
   "cell_type": "code",
   "execution_count": null,
   "metadata": {
    "collapsed": true
   },
   "outputs": [],
   "source": []
  }
 ],
 "metadata": {
  "kernelspec": {
   "display_name": "Python 3",
   "language": "python",
   "name": "python3"
  },
  "language_info": {
   "codemirror_mode": {
    "name": "ipython",
    "version": 3
   },
   "file_extension": ".py",
   "mimetype": "text/x-python",
   "name": "python",
   "nbconvert_exporter": "python",
   "pygments_lexer": "ipython3",
   "version": "3.6.0"
  }
 },
 "nbformat": 4,
 "nbformat_minor": 2
}
